{
 "cells": [
  {
   "cell_type": "code",
   "execution_count": null,
   "metadata": {
    "collapsed": true
   },
   "outputs": [],
   "source": [
    "import pandas as pd\n",
    "import csv"
   ]
  },
  {
   "cell_type": "code",
   "execution_count": 2,
   "metadata": {
    "collapsed": false
   },
   "outputs": [],
   "source": [
    "#df_review = pd.read_csv(\"yelp_academic_dataset_review.csv\")\n",
    "df_review = pd.read_csv(\"df_review_Las_Vegas.csv\")"
   ]
  },
  {
   "cell_type": "code",
   "execution_count": 3,
   "metadata": {
    "collapsed": true
   },
   "outputs": [
    {
     "data": {
      "text/html": [
       "<div>\n",
       "<table border=\"1\" class=\"dataframe\">\n",
       "  <thead>\n",
       "    <tr style=\"text-align: right;\">\n",
       "      <th></th>\n",
       "      <th>Unnamed: 0</th>\n",
       "      <th>funny</th>\n",
       "      <th>user_id</th>\n",
       "      <th>review_id</th>\n",
       "      <th>text</th>\n",
       "      <th>business_id</th>\n",
       "      <th>stars</th>\n",
       "      <th>date</th>\n",
       "      <th>useful</th>\n",
       "      <th>type</th>\n",
       "      <th>cool</th>\n",
       "    </tr>\n",
       "  </thead>\n",
       "  <tbody>\n",
       "    <tr>\n",
       "      <th>0</th>\n",
       "      <td>0</td>\n",
       "      <td>1</td>\n",
       "      <td>h_c7PjnpUnF_-LAegBv7CA</td>\n",
       "      <td>PBuL2xZYXI_RyhQYaWlmJg</td>\n",
       "      <td>I love this place been coming here since last ...</td>\n",
       "      <td>A0X1baHPgw9IiBRivu0G9g</td>\n",
       "      <td>4.0</td>\n",
       "      <td>2015-02-27</td>\n",
       "      <td>1.0</td>\n",
       "      <td>review</td>\n",
       "      <td>1.0</td>\n",
       "    </tr>\n",
       "    <tr>\n",
       "      <th>1</th>\n",
       "      <td>1</td>\n",
       "      <td>4</td>\n",
       "      <td>tw1YfWwGJffPlUNTl_w1fw</td>\n",
       "      <td>1wT35ZGPVZaOSq0TjCI-hA</td>\n",
       "      <td>Besides getting a ticket to Paris, this French...</td>\n",
       "      <td>A0X1baHPgw9IiBRivu0G9g</td>\n",
       "      <td>5.0</td>\n",
       "      <td>2014-05-04</td>\n",
       "      <td>6.0</td>\n",
       "      <td>review</td>\n",
       "      <td>3.0</td>\n",
       "    </tr>\n",
       "    <tr>\n",
       "      <th>2</th>\n",
       "      <td>2</td>\n",
       "      <td>0</td>\n",
       "      <td>cVeJB7E_YE8FrKpZyi2JRw</td>\n",
       "      <td>0YNyA2hWnGBt0hdoZUTN2Q</td>\n",
       "      <td>The only reason I'm not giving five stars is b...</td>\n",
       "      <td>A0X1baHPgw9IiBRivu0G9g</td>\n",
       "      <td>4.0</td>\n",
       "      <td>2014-02-15</td>\n",
       "      <td>0.0</td>\n",
       "      <td>review</td>\n",
       "      <td>0.0</td>\n",
       "    </tr>\n",
       "    <tr>\n",
       "      <th>3</th>\n",
       "      <td>3</td>\n",
       "      <td>0</td>\n",
       "      <td>mAqrLyouqff2P4lBzakDPg</td>\n",
       "      <td>hT9m4yh20Ao38Tu2eD2NaQ</td>\n",
       "      <td>Saw all the great yelp reviews and wanted to t...</td>\n",
       "      <td>A0X1baHPgw9IiBRivu0G9g</td>\n",
       "      <td>4.0</td>\n",
       "      <td>2015-01-29</td>\n",
       "      <td>0.0</td>\n",
       "      <td>review</td>\n",
       "      <td>0.0</td>\n",
       "    </tr>\n",
       "    <tr>\n",
       "      <th>4</th>\n",
       "      <td>4</td>\n",
       "      <td>0</td>\n",
       "      <td>ZKwO9lkpAnOnQlBL1fXf1w</td>\n",
       "      <td>2LUuhvDtyvgBrbq9hFAZug</td>\n",
       "      <td>I love the sprawling casualness of this place....</td>\n",
       "      <td>A0X1baHPgw9IiBRivu0G9g</td>\n",
       "      <td>4.0</td>\n",
       "      <td>2014-12-04</td>\n",
       "      <td>1.0</td>\n",
       "      <td>review</td>\n",
       "      <td>0.0</td>\n",
       "    </tr>\n",
       "  </tbody>\n",
       "</table>\n",
       "</div>"
      ],
      "text/plain": [
       "   Unnamed: 0  funny                 user_id               review_id  \\\n",
       "0           0      1  h_c7PjnpUnF_-LAegBv7CA  PBuL2xZYXI_RyhQYaWlmJg   \n",
       "1           1      4  tw1YfWwGJffPlUNTl_w1fw  1wT35ZGPVZaOSq0TjCI-hA   \n",
       "2           2      0  cVeJB7E_YE8FrKpZyi2JRw  0YNyA2hWnGBt0hdoZUTN2Q   \n",
       "3           3      0  mAqrLyouqff2P4lBzakDPg  hT9m4yh20Ao38Tu2eD2NaQ   \n",
       "4           4      0  ZKwO9lkpAnOnQlBL1fXf1w  2LUuhvDtyvgBrbq9hFAZug   \n",
       "\n",
       "                                                text             business_id  \\\n",
       "0  I love this place been coming here since last ...  A0X1baHPgw9IiBRivu0G9g   \n",
       "1  Besides getting a ticket to Paris, this French...  A0X1baHPgw9IiBRivu0G9g   \n",
       "2  The only reason I'm not giving five stars is b...  A0X1baHPgw9IiBRivu0G9g   \n",
       "3  Saw all the great yelp reviews and wanted to t...  A0X1baHPgw9IiBRivu0G9g   \n",
       "4  I love the sprawling casualness of this place....  A0X1baHPgw9IiBRivu0G9g   \n",
       "\n",
       "   stars        date  useful    type  cool  \n",
       "0    4.0  2015-02-27     1.0  review   1.0  \n",
       "1    5.0  2014-05-04     6.0  review   3.0  \n",
       "2    4.0  2014-02-15     0.0  review   0.0  \n",
       "3    4.0  2015-01-29     0.0  review   0.0  \n",
       "4    4.0  2014-12-04     1.0  review   0.0  "
      ]
     },
     "execution_count": 3,
     "metadata": {},
     "output_type": "execute_result"
    }
   ],
   "source": [
    "df_review.head(5)"
   ]
  },
  {
   "cell_type": "code",
   "execution_count": 4,
   "metadata": {
    "collapsed": false,
    "scrolled": false
   },
   "outputs": [],
   "source": [
    "df_review.drop('Unnamed: 0', axis=1, inplace = True)"
   ]
  },
  {
   "cell_type": "code",
   "execution_count": 5,
   "metadata": {
    "collapsed": false
   },
   "outputs": [
    {
     "data": {
      "text/plain": [
       "1345L"
      ]
     },
     "execution_count": 5,
     "metadata": {},
     "output_type": "execute_result"
    }
   ],
   "source": [
    "df_review['business_id'].unique().shape[0]"
   ]
  },
  {
   "cell_type": "code",
   "execution_count": 6,
   "metadata": {
    "collapsed": false
   },
   "outputs": [
    {
     "data": {
      "text/plain": [
       "756624"
      ]
     },
     "execution_count": 6,
     "metadata": {},
     "output_type": "execute_result"
    }
   ],
   "source": [
    "len(df_review)"
   ]
  },
  {
   "cell_type": "code",
   "execution_count": 7,
   "metadata": {
    "collapsed": false
   },
   "outputs": [],
   "source": [
    "df_user = pd.read_csv(\"df_user_Las_Vegas.csv\")"
   ]
  },
  {
   "cell_type": "code",
   "execution_count": 8,
   "metadata": {
    "collapsed": true
   },
   "outputs": [],
   "source": [
    "df_business = pd.read_csv(\"df_business_Las_Vegas.csv\")"
   ]
  },
  {
   "cell_type": "code",
   "execution_count": 9,
   "metadata": {
    "collapsed": false
   },
   "outputs": [
    {
     "data": {
      "text/plain": [
       "1345"
      ]
     },
     "execution_count": 9,
     "metadata": {},
     "output_type": "execute_result"
    }
   ],
   "source": [
    "len(df_business)"
   ]
  },
  {
   "cell_type": "code",
   "execution_count": 10,
   "metadata": {
    "collapsed": false
   },
   "outputs": [
    {
     "data": {
      "text/plain": [
       "288577"
      ]
     },
     "execution_count": 10,
     "metadata": {},
     "output_type": "execute_result"
    }
   ],
   "source": [
    "len(df_user)"
   ]
  },
  {
   "cell_type": "code",
   "execution_count": 11,
   "metadata": {
    "collapsed": false
   },
   "outputs": [
    {
     "data": {
      "text/plain": [
       "Index([u'Unnamed: 0', u'neighborhood', u'business_id', u'hours', u'is_open',\n",
       "       u'address', u'attributes', u'categories', u'city', u'review_count',\n",
       "       u'name', u'longitude', u'state', u'stars', u'latitude', u'postal_code',\n",
       "       u'type'],\n",
       "      dtype='object')"
      ]
     },
     "execution_count": 11,
     "metadata": {},
     "output_type": "execute_result"
    }
   ],
   "source": [
    "df_business.columns"
   ]
  },
  {
   "cell_type": "code",
   "execution_count": 12,
   "metadata": {
    "collapsed": true
   },
   "outputs": [],
   "source": [
    "df_business.drop('Unnamed: 0', axis=1, inplace = True)"
   ]
  },
  {
   "cell_type": "code",
   "execution_count": 13,
   "metadata": {
    "collapsed": false
   },
   "outputs": [
    {
     "data": {
      "text/plain": [
       "Index([u'funny', u'user_id', u'review_id', u'text', u'business_id', u'stars',\n",
       "       u'date', u'useful', u'type', u'cool'],\n",
       "      dtype='object')"
      ]
     },
     "execution_count": 13,
     "metadata": {},
     "output_type": "execute_result"
    }
   ],
   "source": [
    "df_review.columns"
   ]
  },
  {
   "cell_type": "code",
   "execution_count": 14,
   "metadata": {
    "collapsed": false
   },
   "outputs": [
    {
     "data": {
      "text/plain": [
       "Index([u'Unnamed: 0', u'yelping_since', u'useful', u'compliment_photos',\n",
       "       u'compliment_list', u'compliment_funny', u'compliment_plain',\n",
       "       u'review_count', u'elite', u'fans', u'type', u'compliment_note',\n",
       "       u'funny', u'compliment_writer', u'compliment_cute', u'average_stars',\n",
       "       u'user_id', u'compliment_more', u'friends', u'compliment_hot', u'cool',\n",
       "       u'name', u'compliment_profile', u'compliment_cool'],\n",
       "      dtype='object')"
      ]
     },
     "execution_count": 14,
     "metadata": {},
     "output_type": "execute_result"
    }
   ],
   "source": [
    "df_user.columns"
   ]
  },
  {
   "cell_type": "code",
   "execution_count": 15,
   "metadata": {
    "collapsed": true
   },
   "outputs": [],
   "source": [
    "df_user.drop('Unnamed: 0', axis=1, inplace = True)"
   ]
  },
  {
   "cell_type": "code",
   "execution_count": 16,
   "metadata": {
    "collapsed": false,
    "scrolled": true
   },
   "outputs": [
    {
     "data": {
      "text/plain": [
       "204     13\n",
       "235     11\n",
       "207     10\n",
       "263      9\n",
       "209      9\n",
       "216      8\n",
       "201      8\n",
       "239      8\n",
       "267      8\n",
       "245      8\n",
       "212      8\n",
       "211      8\n",
       "249      8\n",
       "226      8\n",
       "215      7\n",
       "259      7\n",
       "358      7\n",
       "230      7\n",
       "254      7\n",
       "307      7\n",
       "311      7\n",
       "227      7\n",
       "217      6\n",
       "357      6\n",
       "225      6\n",
       "224      6\n",
       "223      6\n",
       "231      6\n",
       "233      6\n",
       "234      6\n",
       "        ..\n",
       "675      1\n",
       "678      1\n",
       "680      1\n",
       "681      1\n",
       "683      1\n",
       "685      1\n",
       "694      1\n",
       "697      1\n",
       "701      1\n",
       "703      1\n",
       "706      1\n",
       "709      1\n",
       "710      1\n",
       "717      1\n",
       "757      1\n",
       "719      1\n",
       "720      1\n",
       "2771     1\n",
       "2779     1\n",
       "734      1\n",
       "736      1\n",
       "737      1\n",
       "739      1\n",
       "740      1\n",
       "2303     1\n",
       "744      1\n",
       "747      1\n",
       "749      1\n",
       "755      1\n",
       "2056     1\n",
       "Name: review_count, dtype: int64"
      ]
     },
     "execution_count": 16,
     "metadata": {},
     "output_type": "execute_result"
    }
   ],
   "source": [
    "df_business['review_count'].value_counts()"
   ]
  },
  {
   "cell_type": "code",
   "execution_count": 17,
   "metadata": {
    "collapsed": false
   },
   "outputs": [
    {
     "data": {
      "text/plain": [
       "1345"
      ]
     },
     "execution_count": 17,
     "metadata": {},
     "output_type": "execute_result"
    }
   ],
   "source": [
    "len(df_business[df_business.city == \"Las Vegas\"])"
   ]
  },
  {
   "cell_type": "code",
   "execution_count": 18,
   "metadata": {
    "collapsed": true
   },
   "outputs": [],
   "source": [
    "df_business = df_business[(df_business.city == \"Las Vegas\")]"
   ]
  },
  {
   "cell_type": "code",
   "execution_count": null,
   "metadata": {
    "collapsed": false
   },
   "outputs": [],
   "source": [
    "len(df_business)"
   ]
  },
  {
   "cell_type": "code",
   "execution_count": 20,
   "metadata": {
    "collapsed": false
   },
   "outputs": [],
   "source": [
    "df_business = df_business[df_business['review_count'] > 300]"
   ]
  },
  {
   "cell_type": "code",
   "execution_count": 21,
   "metadata": {
    "collapsed": false
   },
   "outputs": [
    {
     "data": {
      "text/plain": [
       "879"
      ]
     },
     "execution_count": 21,
     "metadata": {},
     "output_type": "execute_result"
    }
   ],
   "source": [
    "len(df_business)"
   ]
  },
  {
   "cell_type": "code",
   "execution_count": 22,
   "metadata": {
    "collapsed": true
   },
   "outputs": [],
   "source": [
    "df_business.to_csv(\"df_business_Las_Vegas.csv\")"
   ]
  },
  {
   "cell_type": "code",
   "execution_count": 23,
   "metadata": {
    "collapsed": false,
    "scrolled": true
   },
   "outputs": [
    {
     "data": {
      "text/plain": [
       "879L"
      ]
     },
     "execution_count": 23,
     "metadata": {},
     "output_type": "execute_result"
    }
   ],
   "source": [
    "df_business['business_id'].unique().shape[0]"
   ]
  },
  {
   "cell_type": "code",
   "execution_count": 24,
   "metadata": {
    "collapsed": false
   },
   "outputs": [
    {
     "data": {
      "text/html": [
       "<div>\n",
       "<table border=\"1\" class=\"dataframe\">\n",
       "  <thead>\n",
       "    <tr style=\"text-align: right;\">\n",
       "      <th></th>\n",
       "      <th>funny</th>\n",
       "      <th>user_id</th>\n",
       "      <th>review_id</th>\n",
       "      <th>text</th>\n",
       "      <th>business_id</th>\n",
       "      <th>stars</th>\n",
       "      <th>date</th>\n",
       "      <th>useful</th>\n",
       "      <th>type</th>\n",
       "      <th>cool</th>\n",
       "    </tr>\n",
       "  </thead>\n",
       "  <tbody>\n",
       "    <tr>\n",
       "      <th>0</th>\n",
       "      <td>1</td>\n",
       "      <td>h_c7PjnpUnF_-LAegBv7CA</td>\n",
       "      <td>PBuL2xZYXI_RyhQYaWlmJg</td>\n",
       "      <td>I love this place been coming here since last ...</td>\n",
       "      <td>A0X1baHPgw9IiBRivu0G9g</td>\n",
       "      <td>4.0</td>\n",
       "      <td>2015-02-27</td>\n",
       "      <td>1.0</td>\n",
       "      <td>review</td>\n",
       "      <td>1.0</td>\n",
       "    </tr>\n",
       "    <tr>\n",
       "      <th>1</th>\n",
       "      <td>4</td>\n",
       "      <td>tw1YfWwGJffPlUNTl_w1fw</td>\n",
       "      <td>1wT35ZGPVZaOSq0TjCI-hA</td>\n",
       "      <td>Besides getting a ticket to Paris, this French...</td>\n",
       "      <td>A0X1baHPgw9IiBRivu0G9g</td>\n",
       "      <td>5.0</td>\n",
       "      <td>2014-05-04</td>\n",
       "      <td>6.0</td>\n",
       "      <td>review</td>\n",
       "      <td>3.0</td>\n",
       "    </tr>\n",
       "  </tbody>\n",
       "</table>\n",
       "</div>"
      ],
      "text/plain": [
       "   funny                 user_id               review_id  \\\n",
       "0      1  h_c7PjnpUnF_-LAegBv7CA  PBuL2xZYXI_RyhQYaWlmJg   \n",
       "1      4  tw1YfWwGJffPlUNTl_w1fw  1wT35ZGPVZaOSq0TjCI-hA   \n",
       "\n",
       "                                                text             business_id  \\\n",
       "0  I love this place been coming here since last ...  A0X1baHPgw9IiBRivu0G9g   \n",
       "1  Besides getting a ticket to Paris, this French...  A0X1baHPgw9IiBRivu0G9g   \n",
       "\n",
       "   stars        date  useful    type  cool  \n",
       "0    4.0  2015-02-27     1.0  review   1.0  \n",
       "1    5.0  2014-05-04     6.0  review   3.0  "
      ]
     },
     "execution_count": 24,
     "metadata": {},
     "output_type": "execute_result"
    }
   ],
   "source": [
    "df_review.head(2)"
   ]
  },
  {
   "cell_type": "code",
   "execution_count": 68,
   "metadata": {
    "collapsed": true
   },
   "outputs": [],
   "source": [
    "# review = pd.merge(df_business, df_review, on = 'business_id', how = 'left')"
   ]
  },
  {
   "cell_type": "code",
   "execution_count": 25,
   "metadata": {
    "collapsed": false
   },
   "outputs": [],
   "source": [
    "df_business_temp = df_business.head(10)"
   ]
  },
  {
   "cell_type": "code",
   "execution_count": 26,
   "metadata": {
    "collapsed": true
   },
   "outputs": [],
   "source": [
    "df_review_temp = df_review.head(10)"
   ]
  },
  {
   "cell_type": "code",
   "execution_count": 27,
   "metadata": {
    "collapsed": false,
    "scrolled": true
   },
   "outputs": [
    {
     "data": {
      "text/plain": [
       "1       Pob7ibbNT29--69nxXEP2g\n",
       "2       _pBXtjN43eqMV0XZTz7nmw\n",
       "3       f9sU31meK0bqAD7922sCog\n",
       "4       5iSmZO0SrKU6EoXK_1M8Kw\n",
       "5       xkVMIk_Vqh17f48ZQ_6b0w\n",
       "6       d4qwVw4PcN-_2mK2o1Ro1g\n",
       "7       4k3RlMAMd46DZ_JyZU0lMg\n",
       "9       h3pMMRwqBjMeMtk0_qQzRQ\n",
       "10      6xgcHeLad-VaoTIQewK84A\n",
       "12      d482l58ho0_IMdFkXX1F5Q\n",
       "13      uuGlYAIvYAX1q1KhpY6dtA\n",
       "17      uWECX6-Uq9n8v5ipk9R29A\n",
       "18      YnmtUJGqQIQL9tz1MRyfqA\n",
       "19      s0vNtuLs1cwEqHTXKiS05w\n",
       "20      kABF0hYfAEnl166mn1zR1A\n",
       "21      oWD385Ues-RWJmhP_Riz1g\n",
       "22      JXwyTKI7TlnleDhT3LRKKQ\n",
       "23      EhIMjTklf4QPvRvMIhoQiA\n",
       "25      EAwh1OmG6t6p3nRaZOW_AA\n",
       "28      EVxY3Vcc-4uavsq2CQsk3g\n",
       "30      KalAJyO0Zpg3K1wVwYXBHA\n",
       "31      WDKTg468bkRPW0LqbAZfmg\n",
       "32      3BCsAgo_1i4xMuTyLKMLRQ\n",
       "33      yhgUyctWczUN13MinNgZ3w\n",
       "35      kRgAf6j2y1eR0wOFdzFAuw\n",
       "36      RESDUcs7fIiihp38-d6_6g\n",
       "37      ZjSzUWHtnpCfjsa7CksSOg\n",
       "38      6tSvz_21BMo3a4GaItwa0g\n",
       "39      km5aBHRss5ir_B0jvEErzQ\n",
       "40      LFs5jyYdXlzi0SpAYi1eSA\n",
       "                 ...          \n",
       "1297    Vs7gc9EE3k9wARuUcN9piA\n",
       "1298    glkEaoxbewiSMBiXs945JA\n",
       "1299    y4ETe3DkcIjjr_eyeg5U5g\n",
       "1301    JDZ6_yycNQFTpUZzLIKHUg\n",
       "1302    9wxxjUKdaiWeK0fGxSYhzQ\n",
       "1303    gJd1jOcl5FdqY020Q19n6Q\n",
       "1304    8olG8J91NG_QU92WHG5QfA\n",
       "1306    Gh1BoQNMGkh91pSHqvDRAA\n",
       "1307    gx2yPrOJSwF1ApJYdGBWIw\n",
       "1308    hojZyJk1Wf2UE2CpG7cgIg\n",
       "1311    O7UMzd3i-Zk8dMeyY9ZwoA\n",
       "1312    BEplfZTUzYwApjMUaOA12w\n",
       "1315    NIOwzgujIXKVBEVNTQBXpg\n",
       "1318    qqs7LP4TXAoOrSlaKRfz3A\n",
       "1319    fcWkZgmzRsm3H4egzSrV_A\n",
       "1320    bPcqucuuClxYrIM8xWoArg\n",
       "1321    WO1sgbYB6u6VVcvChanp5g\n",
       "1322    dWrezcuIAO-Ckx1W0gu5jg\n",
       "1323    AV6weBrZFFBfRGCbcRGO4g\n",
       "1324    9SU7ZZhaFUJJ6m2k5HKHeg\n",
       "1326    w0XjeV4WIUskQy8wwQf40w\n",
       "1329    OjApDLQUPV8c_yPCg8xZog\n",
       "1330    PyrcymoNDAJDm_Zn9yl-7A\n",
       "1331    RJZK4XXMXYcu9NeLOWMP5A\n",
       "1334    YhCAJ8acd1X7GkCHPhD8Xw\n",
       "1335    UYh1N1xQhOh-a7nX92xPzQ\n",
       "1337    LpGCzgAKNSpzDNEUMVVtZA\n",
       "1339    dM8Yp8StA1NdusK5Ta_j-g\n",
       "1341    8pmGz3Lg4f_r7HdDZPa4dQ\n",
       "1344    w5CSi-An5meLnxjKSFn0wQ\n",
       "Name: business_id, dtype: object"
      ]
     },
     "execution_count": 27,
     "metadata": {},
     "output_type": "execute_result"
    }
   ],
   "source": [
    "df_business['business_id']"
   ]
  },
  {
   "cell_type": "code",
   "execution_count": 28,
   "metadata": {
    "collapsed": false
   },
   "outputs": [],
   "source": [
    "df_review_LV = df_review[df_review['business_id'].isin(df_business['business_id'])]"
   ]
  },
  {
   "cell_type": "code",
   "execution_count": 29,
   "metadata": {
    "collapsed": false
   },
   "outputs": [
    {
     "data": {
      "text/plain": [
       "643224"
      ]
     },
     "execution_count": 29,
     "metadata": {},
     "output_type": "execute_result"
    }
   ],
   "source": [
    "len(df_review_LV)"
   ]
  },
  {
   "cell_type": "code",
   "execution_count": 30,
   "metadata": {
    "collapsed": false
   },
   "outputs": [],
   "source": [
    "df_review_LV.to_csv('df_review_Las_Vegas.csv')"
   ]
  },
  {
   "cell_type": "code",
   "execution_count": 31,
   "metadata": {
    "collapsed": false
   },
   "outputs": [],
   "source": [
    "df_user_LV = df_user[df_user['user_id'].isin(df_review_LV['user_id'])]"
   ]
  },
  {
   "cell_type": "code",
   "execution_count": 32,
   "metadata": {
    "collapsed": false
   },
   "outputs": [
    {
     "data": {
      "text/plain": [
       "261630"
      ]
     },
     "execution_count": 32,
     "metadata": {},
     "output_type": "execute_result"
    }
   ],
   "source": [
    "len(df_user_LV)"
   ]
  },
  {
   "cell_type": "code",
   "execution_count": 33,
   "metadata": {
    "collapsed": false
   },
   "outputs": [],
   "source": [
    "df_user_LV.to_csv('df_user_Las_Vegas.csv')"
   ]
  },
  {
   "cell_type": "code",
   "execution_count": 40,
   "metadata": {
    "collapsed": false
   },
   "outputs": [],
   "source": [
    "df_review = df_review_LV.copy()"
   ]
  },
  {
   "cell_type": "code",
   "execution_count": 41,
   "metadata": {
    "collapsed": true
   },
   "outputs": [],
   "source": [
    "df_user = df_user_LV.copy()"
   ]
  },
  {
   "cell_type": "code",
   "execution_count": 43,
   "metadata": {
    "collapsed": false
   },
   "outputs": [
    {
     "data": {
      "text/plain": [
       "756624"
      ]
     },
     "execution_count": 43,
     "metadata": {},
     "output_type": "execute_result"
    }
   ],
   "source": [
    "len(df_review)"
   ]
  },
  {
   "cell_type": "code",
   "execution_count": null,
   "metadata": {
    "collapsed": true
   },
   "outputs": [],
   "source": []
  },
  {
   "cell_type": "code",
   "execution_count": 34,
   "metadata": {
    "collapsed": false
   },
   "outputs": [],
   "source": [
    "users_idx = df_user_LV[df_user_LV['review_count'] > 300]['user_id']"
   ]
  },
  {
   "cell_type": "code",
   "execution_count": 35,
   "metadata": {
    "collapsed": false,
    "scrolled": true
   },
   "outputs": [
    {
     "data": {
      "text/plain": [
       "0      EZmocAborM6z66rTzeZxzQ\n",
       "2      FIk4lQQu1eTe2EpzQ4xhBA\n",
       "3      ojovtd9c8GIeDiB8e0mq2w\n",
       "9      CK-W4WhlmLKOZF-50WmmpQ\n",
       "12     tL2pS5UOmN6aAOi3Z-qFGg\n",
       "15     v10dHdqf42tUkxbYVnFW6w\n",
       "16     0o8HUzggoNKay9-ZMj3HqQ\n",
       "18     kK0QDyfeSwcZl4gGilnW7w\n",
       "19     VVMqxCARIOdUzpqngpFMgA\n",
       "20     UrOofvcBl0gAbKPAEaj83A\n",
       "22     p03AKnMXXbgetIEHHFP3wQ\n",
       "26     rCmnApNqRK36uzdrnzXm0g\n",
       "31     2ttZShfOh7m_5e_jSrtQQw\n",
       "36     WaevPI-Qm0VTDjPJUMr8GA\n",
       "38     -jt1ACMiZljnBFvS6RRvnA\n",
       "50     4yGImSwdU9FZxVQIbZql3w\n",
       "54     J3ucveGKKJDvtuCNnb_x0g\n",
       "55     GABWrw5Et9jubriKwMUDbw\n",
       "57     xceJT1G2Yhel3W2lRxRTDA\n",
       "58     NJqmAzerpbAIC0-VBclwgA\n",
       "59     xU4silHWZGOWz92hPIdFpQ\n",
       "63     5gbkhlWANGVzQYi_0m3vOQ\n",
       "65     CjvFxl6_7AK3lw5O49MN8g\n",
       "66     HkVnslspLbmATUzBs3ZdKQ\n",
       "68     gPK2AKr-UA_7hZus80SSng\n",
       "72     uIB8qFzG5E3PUGfiCiUmqg\n",
       "78     LHT4AADPgWT0BM4tZKCz2Q\n",
       "79     oBhQMjrT0zdSLdlybWRA_w\n",
       "83     h9RUaaHa5kcQKqtJ-sgS0Q\n",
       "85     qmjoMFMZdLH69_6eGTGDZw\n",
       "                ...          \n",
       "236    rNjgVKaBh1PlUA6dYB6EUw\n",
       "241    WN3FQ5lNz5q8FFbeH42OxQ\n",
       "243    pD4c0eVE0ImAgcag4w4-lA\n",
       "244    sfQXLZGk6beiSuNZYb8iSQ\n",
       "245    DHRupjFv4GyD0tEdj-QNjQ\n",
       "246    31OJfBoBXGDfK1LK72q_Qg\n",
       "247    ShNLdJa5lxOaHKhUjtfnSw\n",
       "248    gg_kE0zjr4Sp-L8MBI1m5w\n",
       "250    pJYRi9MB06aiuL-w8Ms-Og\n",
       "256    K5FrmVM70cJDbMiZ9ywMag\n",
       "260    IfBVYCvv-mm8dREEVNpjaQ\n",
       "264    VD8Ox-akHloK3-QV3FxY-g\n",
       "265    VeYSD3Xgxd-R4yowet51tA\n",
       "266    _zR_YufhDeXs4c020eWWOA\n",
       "279    25lrlCp87N0jG8XMF75_Rg\n",
       "281    9kIcMeveJXxWGVOVdXyQyg\n",
       "294    sa5zd7bwBQzajQB48Y9SUw\n",
       "295    dIIKEfOgo0KqUfGQvGikPg\n",
       "297    fou9pya19z4NWWAGZslxXA\n",
       "298    _pBzBgtCTN9PNUPfgPDI8A\n",
       "299    ltTLCzM4p-1cnC70SPNfSA\n",
       "310    KDewJBJknfWvQyHHFNbfdg\n",
       "311    mjOKUSdIqxFPSYMB-MmS9g\n",
       "312    GIL4XSLZguuukqZFRxHq_g\n",
       "313    hGeXKYWkqJgFC1u_Sh6kCg\n",
       "315    lf1m4CbheuUR7fFZoLGRvA\n",
       "316    DHUfDrzWi0rTSel-14RLoA\n",
       "317    Bv13-l4HTz-pt5kS22y9LQ\n",
       "319    G-uVT9JxNMbrPApvuVO6pg\n",
       "320    PgrCdD3iPgYzXxO8QsMnew\n",
       "Name: user_id, dtype: object"
      ]
     },
     "execution_count": 35,
     "metadata": {},
     "output_type": "execute_result"
    }
   ],
   "source": [
    "users_idx.head(100)"
   ]
  },
  {
   "cell_type": "code",
   "execution_count": 58,
   "metadata": {
    "collapsed": false
   },
   "outputs": [
    {
     "data": {
      "text/plain": [
       "100"
      ]
     },
     "execution_count": 58,
     "metadata": {},
     "output_type": "execute_result"
    }
   ],
   "source": []
  },
  {
   "cell_type": "code",
   "execution_count": 12,
   "metadata": {
    "collapsed": true
   },
   "outputs": [],
   "source": [
    "df_user = df_user[(df_user.review_count > 60)]"
   ]
  },
  {
   "cell_type": "code",
   "execution_count": 13,
   "metadata": {
    "collapsed": false
   },
   "outputs": [
    {
     "data": {
      "text/plain": [
       "84866"
      ]
     },
     "execution_count": 13,
     "metadata": {},
     "output_type": "execute_result"
    }
   ],
   "source": [
    "len(df_user)"
   ]
  },
  {
   "cell_type": "code",
   "execution_count": 14,
   "metadata": {
    "collapsed": true
   },
   "outputs": [],
   "source": [
    "df_user.to_csv(\"user.csv\")"
   ]
  },
  {
   "cell_type": "code",
   "execution_count": 22,
   "metadata": {
    "collapsed": true
   },
   "outputs": [],
   "source": [
    "user = pd.merge(df_review, df_user, on = 'user_id', how = 'left')"
   ]
  },
  {
   "cell_type": "code",
   "execution_count": 23,
   "metadata": {
    "collapsed": false
   },
   "outputs": [
    {
     "data": {
      "text/plain": [
       "598273"
      ]
     },
     "execution_count": 23,
     "metadata": {},
     "output_type": "execute_result"
    }
   ],
   "source": [
    "len(user)"
   ]
  },
  {
   "cell_type": "code",
   "execution_count": 24,
   "metadata": {
    "collapsed": false
   },
   "outputs": [
    {
     "data": {
      "text/plain": [
       "Index([u'funny_x', u'user_id', u'review_id', u'text', u'stars', u'date',\n",
       "       u'useful_x', u'type_x', u'cool_x', u'business_id', u'yelping_since',\n",
       "       u'useful_y', u'compliment_photos', u'compliment_list',\n",
       "       u'compliment_funny', u'compliment_plain', u'review_count', u'elite',\n",
       "       u'fans', u'type_y', u'compliment_note', u'funny_y',\n",
       "       u'compliment_writer', u'compliment_cute', u'average_stars',\n",
       "       u'compliment_more', u'friends', u'compliment_hot', u'cool_y', u'name',\n",
       "       u'compliment_profile', u'compliment_cool'],\n",
       "      dtype='object')"
      ]
     },
     "execution_count": 24,
     "metadata": {},
     "output_type": "execute_result"
    }
   ],
   "source": [
    "user.columns"
   ]
  },
  {
   "cell_type": "code",
   "execution_count": 20,
   "metadata": {
    "collapsed": false
   },
   "outputs": [
    {
     "data": {
      "text/plain": [
       "Index([u'neighborhood', u'business_id', u'hours', u'is_open', u'address',\n",
       "       u'attributes', u'categories', u'city', u'review_count', u'name',\n",
       "       u'longitude', u'state', u'stars_x', u'latitude', u'postal_code',\n",
       "       u'type_x', u'funny', u'user_id', u'review_id', u'text', u'stars_y',\n",
       "       u'date', u'useful', u'type_y', u'cool'],\n",
       "      dtype='object')"
      ]
     },
     "execution_count": 20,
     "metadata": {},
     "output_type": "execute_result"
    }
   ],
   "source": [
    "review.columns"
   ]
  },
  {
   "cell_type": "code",
   "execution_count": 26,
   "metadata": {
    "collapsed": false
   },
   "outputs": [],
   "source": [
    "#r = review[['funny', 'user_id', 'review_id', 'text', 'stars_y', 'date', 'useful', 'type_y', 'cool', 'business_id']]\n",
    "u = user[['yelping_since', 'useful_y', 'compliment_photos', 'compliment_list','compliment_funny', 'compliment_plain', 'review_count', 'elite',\n",
    "       'fans', 'type_y', 'compliment_note', 'funny_y', 'compliment_writer',\n",
    "       'compliment_cute', 'average_stars', 'compliment_more', 'friends',\n",
    "       'compliment_hot', 'cool_y', 'name', 'compliment_profile',\n",
    "       'compliment_cool', 'user_id']]"
   ]
  },
  {
   "cell_type": "code",
   "execution_count": 22,
   "metadata": {
    "collapsed": false
   },
   "outputs": [
    {
     "data": {
      "text/plain": [
       "598272"
      ]
     },
     "execution_count": 22,
     "metadata": {},
     "output_type": "execute_result"
    }
   ],
   "source": [
    "len(r)"
   ]
  },
  {
   "cell_type": "code",
   "execution_count": 27,
   "metadata": {
    "collapsed": false
   },
   "outputs": [
    {
     "data": {
      "text/plain": [
       "598273"
      ]
     },
     "execution_count": 27,
     "metadata": {},
     "output_type": "execute_result"
    }
   ],
   "source": [
    "len(u)"
   ]
  },
  {
   "cell_type": "code",
   "execution_count": 24,
   "metadata": {
    "collapsed": true
   },
   "outputs": [],
   "source": [
    "new_columns = r.columns.values\n",
    "new_columns[4] = 'stars'\n",
    "new_columns[7] = 'type'\n",
    "r.columns = new_columns"
   ]
  },
  {
   "cell_type": "code",
   "execution_count": 25,
   "metadata": {
    "collapsed": false
   },
   "outputs": [
    {
     "data": {
      "text/plain": [
       "Index([u'funny', u'user_id', u'review_id', u'text', u'stars', u'date',\n",
       "       u'useful', u'type', u'cool', u'business_id'],\n",
       "      dtype='object')"
      ]
     },
     "execution_count": 25,
     "metadata": {},
     "output_type": "execute_result"
    }
   ],
   "source": [
    "r.columns"
   ]
  },
  {
   "cell_type": "code",
   "execution_count": 28,
   "metadata": {
    "collapsed": true
   },
   "outputs": [],
   "source": [
    "new_columns = u.columns.values\n",
    "new_columns[1] = 'useful'\n",
    "new_columns[9] = 'type'\n",
    "new_columns[11] = 'funny'\n",
    "new_columns[18] = 'cool'\n",
    "#new_columns[19] = 'name'\n",
    "u.columns = new_columns"
   ]
  },
  {
   "cell_type": "code",
   "execution_count": 29,
   "metadata": {
    "collapsed": false
   },
   "outputs": [
    {
     "data": {
      "text/plain": [
       "Index([u'yelping_since', u'useful', u'compliment_photos', u'compliment_list',\n",
       "       u'compliment_funny', u'compliment_plain', u'review_count', u'elite',\n",
       "       u'fans', u'type', u'compliment_note', u'funny', u'compliment_writer',\n",
       "       u'compliment_cute', u'average_stars', u'compliment_more', u'friends',\n",
       "       u'compliment_hot', u'cool', u'name', u'compliment_profile',\n",
       "       u'compliment_cool', u'user_id'],\n",
       "      dtype='object')"
      ]
     },
     "execution_count": 29,
     "metadata": {},
     "output_type": "execute_result"
    }
   ],
   "source": [
    "u.columns"
   ]
  },
  {
   "cell_type": "code",
   "execution_count": 30,
   "metadata": {
    "collapsed": false
   },
   "outputs": [
    {
     "data": {
      "text/plain": [
       "Index([u'yelping_since', u'useful', u'compliment_photos', u'compliment_list',\n",
       "       u'compliment_funny', u'compliment_plain', u'review_count', u'elite',\n",
       "       u'fans', u'type', u'compliment_note', u'funny', u'compliment_writer',\n",
       "       u'compliment_cute', u'average_stars', u'user_id', u'compliment_more',\n",
       "       u'friends', u'compliment_hot', u'cool', u'name', u'compliment_profile',\n",
       "       u'compliment_cool'],\n",
       "      dtype='object')"
      ]
     },
     "execution_count": 30,
     "metadata": {},
     "output_type": "execute_result"
    }
   ],
   "source": [
    "df_user.columns"
   ]
  },
  {
   "cell_type": "code",
   "execution_count": 31,
   "metadata": {
    "collapsed": false
   },
   "outputs": [],
   "source": [
    "#df_review = r.copy()\n",
    "df_user = u.copy()"
   ]
  },
  {
   "cell_type": "code",
   "execution_count": 32,
   "metadata": {
    "collapsed": false
   },
   "outputs": [
    {
     "data": {
      "text/plain": [
       "1262"
      ]
     },
     "execution_count": 32,
     "metadata": {},
     "output_type": "execute_result"
    }
   ],
   "source": [
    "len(df_business)"
   ]
  },
  {
   "cell_type": "code",
   "execution_count": 33,
   "metadata": {
    "collapsed": false
   },
   "outputs": [
    {
     "data": {
      "text/plain": [
       "598273"
      ]
     },
     "execution_count": 33,
     "metadata": {},
     "output_type": "execute_result"
    }
   ],
   "source": [
    "len(df_review)"
   ]
  },
  {
   "cell_type": "code",
   "execution_count": 34,
   "metadata": {
    "collapsed": false
   },
   "outputs": [
    {
     "data": {
      "text/plain": [
       "598273"
      ]
     },
     "execution_count": 34,
     "metadata": {},
     "output_type": "execute_result"
    }
   ],
   "source": [
    "len(df_user)"
   ]
  },
  {
   "cell_type": "code",
   "execution_count": 35,
   "metadata": {
    "collapsed": false
   },
   "outputs": [
    {
     "data": {
      "text/plain": [
       "Index([u'neighborhood', u'business_id', u'hours', u'is_open', u'address',\n",
       "       u'attributes', u'categories', u'city', u'review_count', u'name',\n",
       "       u'longitude', u'state', u'stars', u'latitude', u'postal_code', u'type'],\n",
       "      dtype='object')"
      ]
     },
     "execution_count": 35,
     "metadata": {},
     "output_type": "execute_result"
    }
   ],
   "source": [
    "df_business.columns"
   ]
  },
  {
   "cell_type": "code",
   "execution_count": 36,
   "metadata": {
    "collapsed": false
   },
   "outputs": [
    {
     "data": {
      "text/plain": [
       "Index([u'funny', u'user_id', u'review_id', u'text', u'stars', u'date',\n",
       "       u'useful', u'type', u'cool', u'business_id'],\n",
       "      dtype='object')"
      ]
     },
     "execution_count": 36,
     "metadata": {},
     "output_type": "execute_result"
    }
   ],
   "source": [
    "df_review.columns"
   ]
  },
  {
   "cell_type": "code",
   "execution_count": 37,
   "metadata": {
    "collapsed": false
   },
   "outputs": [
    {
     "data": {
      "text/plain": [
       "Index([u'yelping_since', u'useful', u'compliment_photos', u'compliment_list',\n",
       "       u'compliment_funny', u'compliment_plain', u'review_count', u'elite',\n",
       "       u'fans', u'type', u'compliment_note', u'funny', u'compliment_writer',\n",
       "       u'compliment_cute', u'average_stars', u'compliment_more', u'friends',\n",
       "       u'compliment_hot', u'cool', u'name', u'compliment_profile',\n",
       "       u'compliment_cool', u'user_id'],\n",
       "      dtype='object')"
      ]
     },
     "execution_count": 37,
     "metadata": {},
     "output_type": "execute_result"
    }
   ],
   "source": [
    "df_user.columns"
   ]
  },
  {
   "cell_type": "code",
   "execution_count": 38,
   "metadata": {
    "collapsed": true
   },
   "outputs": [],
   "source": [
    "df_user.to_csv(\"df_user.csv\")"
   ]
  },
  {
   "cell_type": "code",
   "execution_count": 91,
   "metadata": {
    "collapsed": false
   },
   "outputs": [
    {
     "data": {
      "text/plain": [
       "598272"
      ]
     },
     "execution_count": 91,
     "metadata": {},
     "output_type": "execute_result"
    }
   ],
   "source": [
    "len(df_review)"
   ]
  },
  {
   "cell_type": "code",
   "execution_count": 47,
   "metadata": {
    "collapsed": false
   },
   "outputs": [
    {
     "data": {
      "text/plain": [
       "573"
      ]
     },
     "execution_count": 47,
     "metadata": {},
     "output_type": "execute_result"
    }
   ],
   "source": [
    "df_business['review_count'].unique().shape[0]"
   ]
  },
  {
   "cell_type": "code",
   "execution_count": 89,
   "metadata": {
    "collapsed": false,
    "scrolled": true
   },
   "outputs": [],
   "source": [
    "#df_review.to_csv(\"df_review.csv\")\n",
    "#df_user.to_csv(\"df_user.csv\")"
   ]
  },
  {
   "cell_type": "code",
   "execution_count": 54,
   "metadata": {
    "collapsed": false,
    "scrolled": true
   },
   "outputs": [
    {
     "data": {
      "text/plain": [
       "3.83    3492\n",
       "3.88    3416\n",
       "3.80    3307\n",
       "3.68    3226\n",
       "3.73    3211\n",
       "3.79    3187\n",
       "3.78    3152\n",
       "3.66    3111\n",
       "3.89    3067\n",
       "3.60    2976\n",
       "3.70    2965\n",
       "3.87    2960\n",
       "3.62    2949\n",
       "3.64    2942\n",
       "3.59    2937\n",
       "3.95    2913\n",
       "3.67    2876\n",
       "3.72    2851\n",
       "3.71    2849\n",
       "3.81    2815\n",
       "3.96    2793\n",
       "4.00    2780\n",
       "3.74    2761\n",
       "3.97    2750\n",
       "3.90    2741\n",
       "3.86    2723\n",
       "3.84    2721\n",
       "3.69    2714\n",
       "3.76    2691\n",
       "3.63    2683\n",
       "        ... \n",
       "2.43       5\n",
       "2.25       5\n",
       "1.99       4\n",
       "2.30       4\n",
       "1.58       4\n",
       "4.97       3\n",
       "1.87       3\n",
       "1.91       3\n",
       "2.19       3\n",
       "4.94       3\n",
       "2.01       2\n",
       "2.05       2\n",
       "2.33       2\n",
       "1.76       2\n",
       "1.84       2\n",
       "1.66       2\n",
       "1.63       1\n",
       "1.96       1\n",
       "1.47       1\n",
       "4.98       1\n",
       "4.92       1\n",
       "1.81       1\n",
       "2.18       1\n",
       "4.99       1\n",
       "1.78       1\n",
       "2.12       1\n",
       "1.79       1\n",
       "1.36       1\n",
       "4.96       1\n",
       "2.00       1\n",
       "Name: average_stars, dtype: int64"
      ]
     },
     "execution_count": 54,
     "metadata": {},
     "output_type": "execute_result"
    }
   ],
   "source": [
    "df_user['average_stars'].value_counts()"
   ]
  },
  {
   "cell_type": "code",
   "execution_count": 93,
   "metadata": {
    "collapsed": false,
    "scrolled": true
   },
   "outputs": [
    {
     "data": {
      "text/plain": [
       "Index([u'yelping_since', u'useful', u'compliment_photos', u'compliment_list',\n",
       "       u'compliment_funny', u'compliment_plain', u'review_count', u'elite',\n",
       "       u'fans', u'type', u'compliment_note', u'funny', u'compliment_writer',\n",
       "       u'compliment_cute', u'average_stars', u'compliment_more', u'friends',\n",
       "       u'compliment_hot', u'cool', u'name', u'compliment_profile',\n",
       "       u'compliment_cool', u'user_id'],\n",
       "      dtype='object')"
      ]
     },
     "execution_count": 93,
     "metadata": {},
     "output_type": "execute_result"
    },
    {
     "name": "stdout",
     "output_type": "stream",
     "text": [
      "The history saving thread hit an unexpected error (OperationalError('database or disk is full',)).History will not be written to the database.\n"
     ]
    }
   ],
   "source": [
    "df_user.columns"
   ]
  },
  {
   "cell_type": "code",
   "execution_count": 36,
   "metadata": {
    "collapsed": true
   },
   "outputs": [],
   "source": [
    "import ast\n",
    "import numpy as np\n",
    "from numpy.linalg import norm\n",
    "from sklearn.pipeline import Pipeline, FeatureUnion\n",
    "from scipy.sparse import coo_matrix\n",
    "import heapq"
   ]
  },
  {
   "cell_type": "code",
   "execution_count": 37,
   "metadata": {
    "collapsed": false
   },
   "outputs": [
    {
     "name": "stderr",
     "output_type": "stream",
     "text": [
      "C:\\Users\\Harika Konagala\\Anaconda2\\lib\\site-packages\\sklearn\\cross_validation.py:44: DeprecationWarning: This module was deprecated in version 0.18 in favor of the model_selection module into which all the refactored classes and functions are moved. Also note that the interface of the new CV iterators are different from that of this module. This module will be removed in 0.20.\n",
      "  \"This module will be removed in 0.20.\", DeprecationWarning)\n"
     ]
    }
   ],
   "source": [
    "import simplejson as json\n",
    "from datetime import datetime\n",
    "from sklearn.cross_validation import train_test_split\n",
    "from _collections import defaultdict"
   ]
  },
  {
   "cell_type": "code",
   "execution_count": 38,
   "metadata": {
    "collapsed": true
   },
   "outputs": [],
   "source": [
    "def get_data(line, cols):\n",
    "    d = json.loads(line)\n",
    "    return dict((key, d[key]) for key in cols)"
   ]
  },
  {
   "cell_type": "code",
   "execution_count": 39,
   "metadata": {
    "collapsed": true
   },
   "outputs": [],
   "source": [
    "def string_to_dict(dict_string):\n",
    "    if dict_string is not np.nan:\n",
    "        dict_string = ast.literal_eval(dict_string)\n",
    "    return dict_string"
   ]
  },
  {
   "cell_type": "code",
   "execution_count": 40,
   "metadata": {
    "collapsed": false
   },
   "outputs": [
    {
     "name": "stderr",
     "output_type": "stream",
     "text": [
      "C:\\Users\\Harika Konagala\\Anaconda2\\lib\\site-packages\\ipykernel\\__main__.py:3: FutureWarning: sort(columns=....) is deprecated, use sort_values(by=.....)\n",
      "  app.launch_new_instance()\n"
     ]
    }
   ],
   "source": [
    "df_business = pd.read_csv(\"df_business_Las_Vegas.csv\")\n",
    "df_business = df_business[df_business['business_id'].str.contains(\"#NAME\") == False]\n",
    "df_business = df_business.sort('business_id')"
   ]
  },
  {
   "cell_type": "code",
   "execution_count": 41,
   "metadata": {
    "collapsed": false
   },
   "outputs": [
    {
     "name": "stdout",
     "output_type": "stream",
     "text": [
      "<type 'list'>\n"
     ]
    }
   ],
   "source": [
    "df_business.attributes = df_business.attributes.apply(string_to_dict)\n",
    "print type(df_business['attributes'][0])\n",
    "df_business.index = range(len(df_business))"
   ]
  },
  {
   "cell_type": "code",
   "execution_count": 42,
   "metadata": {
    "collapsed": false
   },
   "outputs": [
    {
     "name": "stderr",
     "output_type": "stream",
     "text": [
      "C:\\Users\\Harika Konagala\\Anaconda2\\lib\\site-packages\\ipykernel\\__main__.py:2: FutureWarning: sort(columns=....) is deprecated, use sort_values(by=.....)\n",
      "  from ipykernel import kernelapp as app\n"
     ]
    }
   ],
   "source": [
    "df_user = pd.read_csv(\"df_user_Las_Vegas.csv\")\n",
    "df_user = df_user.sort('user_id')\n",
    "df_user.index = range(len(df_user))\n"
   ]
  },
  {
   "cell_type": "code",
   "execution_count": 43,
   "metadata": {
    "collapsed": false
   },
   "outputs": [
    {
     "name": "stdout",
     "output_type": "stream",
     "text": [
      "Data was loaded at 09:25:56.038000\n"
     ]
    }
   ],
   "source": [
    "df_review = pd.read_csv(\"df_review_Las_Vegas.csv\")\n",
    "\n",
    "data_load_time = datetime.now()\n",
    "print 'Data was loaded at ' + data_load_time.time().isoformat()"
   ]
  },
  {
   "cell_type": "code",
   "execution_count": 44,
   "metadata": {
    "collapsed": false,
    "scrolled": true
   },
   "outputs": [
    {
     "data": {
      "text/plain": [
       "BdOS8V9TIfoOOFox4A8KFQ    1\n",
       "6vwP_18SlSylcEfC_lSXsQ    1\n",
       "KVZOK_vuTw38Us4QNe1WdA    1\n",
       "zpB6UXczhM2vYpBjwlwbJg    1\n",
       "rr_GP6CrQmFltxvl61NYhw    1\n",
       "ze8UAq2fHoc7VCFH3578sA    1\n",
       "yP9UGWeV92pbUY-oMuqPig    1\n",
       "-q1hhk3oHwvkpbL4CuhnnA    1\n",
       "FV4X672BDK-UJfc_JSKMpw    1\n",
       "D5X1iUJlkOTjmiMixuhIpw    1\n",
       "rJ8_8DbWDn3a4VMaLZFNiw    1\n",
       "arGT4q7uFJr9OwyDj2bqxw    1\n",
       "cfVNasPvB0ehIKPDfRs8NQ    1\n",
       "WaSg9RgdsEZkzAEmM6ckhw    1\n",
       "fgFNnhNbIz3Cvp_gBCOqpA    1\n",
       "qmklfRiasr-j0euwXtcprw    1\n",
       "Q7_7CYKaSySKQPPEcSZ2Ug    1\n",
       "dW34JhdjDVGuf8ZIi4cS5w    1\n",
       "X4caJ2YOeI2x3JzNJlOLYg    1\n",
       "4ekpwaNQ49lgxqP5Mog3lQ    1\n",
       "IbH_fMDCv2JnPRwYq_gyGA    1\n",
       "3OWwRZyb087JSf_AlqYe1Q    1\n",
       "yaHYVfMuj89lQYXUqFDlSQ    1\n",
       "j1LmItVw8Ir_GmQ6_yDidA    1\n",
       "5apTv4a7NWUJbDZdR7J5SQ    1\n",
       "Xtgc4m739ypHO88Zqwe97g    1\n",
       "9vYvzmgTb0wn9g7cXD56qA    1\n",
       "W-6CW-jX7FElQ1FzuDLBfw    1\n",
       "0DAJCCZcwsftU0gX5C0P7A    1\n",
       "ojYKqkgJ4HVAEmnjOvSZyQ    1\n",
       "                         ..\n",
       "XdoG47Ib5CmJ_5Y7JAALEA    1\n",
       "GBco3mVxeCDix8FHNBW85w    1\n",
       "TjfTL_9QxuH4a3fH_xHAmg    1\n",
       "s3U36sFJ960PQn91yN4x-w    1\n",
       "9wwNFQULAXWMHXQQKB3GwQ    1\n",
       "bDj2equnRiABvaxxI8eAug    1\n",
       "7535Wmcc31Sd4xbaWZjX0w    1\n",
       "DVFLlLAHW-K-Hqt7OteR_g    1\n",
       "jHwMV64G3jQbbT1_z4qclQ    1\n",
       "dNW2d6nG-NEp66MODmDQFg    1\n",
       "m0vfJs4q_z_SR0_q4PTdXg    1\n",
       "tA6QLvhHDabXCPpAm_yHFw    1\n",
       "rVNzLtVo0e8-B_zhjcMBpg    1\n",
       "luha37ZmavUAArWEhkZBHw    1\n",
       "6Aqot7bwAqkrcfGsRk8HIw    1\n",
       "DDIMiC69en1Gl3t7EM8MQQ    1\n",
       "HR8XbWpZA53y_UqwFQFLng    1\n",
       "xZUfdGNLVf89XpGsK2RT5g    1\n",
       "3W3obra49e_udbDrZqWA_A    1\n",
       "uUwBUasesyn3LLXysx54LQ    1\n",
       "xSgrsWw77SoTgy2BM3znYQ    1\n",
       "Ym6GF8TyJMPGV3X-0EhciA    1\n",
       "IBI9ezcDI8RCmYCsLzljcQ    1\n",
       "pFCrJCfkexBRyceQVwLNdA    1\n",
       "Z3tXRI81D5sKRx0arY38uw    1\n",
       "Q2gsmbb_eC0G-J9TnnIEig    1\n",
       "iCtxZdGSYU_4TkEMB1DpAw    1\n",
       "vswpxtPoFBFD22n861YpbA    1\n",
       "Mcp_KMrRvwSJTUKkj8M7SQ    1\n",
       "an8MLCN3dYT8J6eSaszWlw    1\n",
       "Name: user_id, dtype: int64"
      ]
     },
     "execution_count": 44,
     "metadata": {},
     "output_type": "execute_result"
    }
   ],
   "source": [
    "df_user['user_id'].value_counts()"
   ]
  },
  {
   "cell_type": "code",
   "execution_count": 49,
   "metadata": {
    "collapsed": true
   },
   "outputs": [],
   "source": [
    "user = 'WaSg9RgdsEZkzAEmM6ckhw'"
   ]
  },
  {
   "cell_type": "code",
   "execution_count": 45,
   "metadata": {
    "collapsed": true
   },
   "outputs": [],
   "source": [
    "from sklearn import base\n",
    "from sklearn.feature_extraction import DictVectorizer # for One_Hot_Encoder\n",
    "\n",
    "\n",
    "\n",
    "''' ----------------\n",
    "Functions used in One_Hot_Encoder\n",
    "----------------- '''\n",
    "def Value_To_Dict(val):\n",
    "    return {val:1}\n",
    "\n",
    "def List_To_Dict(the_list):\n",
    "    return {category:1 for category in the_list}\n",
    "    \n",
    "def Flatten_Dict(d, prekey = ''):\n",
    "    flat_dict = {}\n",
    "    for k, v in d.items():\n",
    "        if isinstance(v, bool) and v:\n",
    "            flat_dict.update({prekey+'_'+k:1})\n",
    "        elif isinstance(v, str):\n",
    "            flat_dict.update({prekey+'_'+k+'_'+v:1})\n",
    "        elif isinstance(v, dict):\n",
    "            flat_dict.update(Flatten_Dict(v, prekey=prekey+'_'+k))\n",
    "    return flat_dict\n",
    "\n",
    "def flatten(structure, key=\"\", path=\"\", flattened=None):\n",
    "    if flattened is None:\n",
    "        flattened = {}\n",
    "    if type(structure) not in(dict, list):\n",
    "        flattened[((path + \"_\") if path else \"\") + key] = structure\n",
    "    elif isinstance(structure, list):\n",
    "        for i, item in enumerate(structure):\n",
    "            flatten(item, \"%d\" % i, path + \"_\" + key, flattened)\n",
    "    else:\n",
    "        for new_key, value in structure.items():\n",
    "            flatten(value, new_key, path + \"_\" + key, flattened)\n",
    "    return flattened\n",
    "''' -------------------\n",
    "Converts a feature column values into a One-Hot Encoding matrix. If\n",
    "feature values are lists or (nested) dicts, a column for each list \n",
    "entry or dict (sub)key is created.\n",
    "Inputs: colnames is a string of the column name\n",
    "        value_type is the type (value, list or dict) of feature values\n",
    "        sparse indicates whether the matrix is sparse\n",
    "Dependencies: sklearn.feature_extraction.DictVectorizer\n",
    "              sklearn.base\n",
    "------------------- '''\n",
    "class One_Hot_Encoder(base.BaseEstimator, base.TransformerMixin):\n",
    "    def __init__(self, colnames, value_type = 'value', sparse = True):\n",
    "        if value_type == 'value':\n",
    "            self.apply_function_ = Value_To_Dict\n",
    "        elif value_type == 'list':\n",
    "            self.apply_function_ = List_To_Dict\n",
    "        elif value_type == 'dict':\n",
    "            self.apply_function_ = flatten\n",
    "        self.colnames_ = colnames\n",
    "        self.dv_ = DictVectorizer(sparse = sparse)\n",
    "\n",
    "    def fit(self, X, y = None):\n",
    "        self.dv_.fit(X[self.colnames_].apply(self.apply_function_))\n",
    "        return self\n",
    "\n",
    "    def transform(self, X):\n",
    "        return self.dv_.transform(X[self.colnames_].apply(self.apply_function_))\n",
    "\n",
    "\n",
    "\n",
    "\n",
    "\n",
    "\n",
    "''' -------------------\n",
    "Selects and returns the specified column(s)\n",
    "Inputs: colnames is a list of column(s) to select\n",
    "Dependencies: sklearn.base\n",
    "------------------- '''\n",
    "class Column_Selector(base.BaseEstimator, base.TransformerMixin):\n",
    "    def __init__(self, colnames):\n",
    "        self.colnames_ = colnames\n",
    "\n",
    "    def fit(self, X, y = None):\n",
    "        return self\n",
    "\n",
    "    def transform(self, X):\n",
    "        return pd.DataFrame(X[self.colnames_])"
   ]
  },
  {
   "cell_type": "code",
   "execution_count": 102,
   "metadata": {
    "collapsed": false
   },
   "outputs": [],
   "source": [
    "#df_business = df_business[(df_business.review_count > 20)]"
   ]
  },
  {
   "cell_type": "code",
   "execution_count": 56,
   "metadata": {
    "collapsed": false
   },
   "outputs": [
    {
     "data": {
      "text/plain": [
       "Index([u'Unnamed: 0', u'yelping_since', u'useful', u'compliment_photos',\n",
       "       u'compliment_list', u'compliment_funny', u'compliment_plain',\n",
       "       u'review_count', u'elite', u'fans', u'type', u'compliment_note',\n",
       "       u'funny', u'compliment_writer', u'compliment_cute', u'average_stars',\n",
       "       u'user_id', u'compliment_more', u'friends', u'compliment_hot', u'cool',\n",
       "       u'name', u'compliment_profile', u'compliment_cool'],\n",
       "      dtype='object')"
      ]
     },
     "execution_count": 56,
     "metadata": {},
     "output_type": "execute_result"
    }
   ],
   "source": [
    "df_user.columns"
   ]
  },
  {
   "cell_type": "code",
   "execution_count": 46,
   "metadata": {
    "collapsed": false
   },
   "outputs": [
    {
     "data": {
      "text/plain": [
       "879"
      ]
     },
     "execution_count": 46,
     "metadata": {},
     "output_type": "execute_result"
    }
   ],
   "source": [
    "len(df_business)"
   ]
  },
  {
   "cell_type": "code",
   "execution_count": 105,
   "metadata": {
    "collapsed": true
   },
   "outputs": [],
   "source": [
    "#df_user = df_user[(df_user.review_count > 20)]"
   ]
  },
  {
   "cell_type": "code",
   "execution_count": 47,
   "metadata": {
    "collapsed": false
   },
   "outputs": [
    {
     "data": {
      "text/plain": [
       "261630"
      ]
     },
     "execution_count": 47,
     "metadata": {},
     "output_type": "execute_result"
    }
   ],
   "source": [
    "len(df_user)"
   ]
  },
  {
   "cell_type": "code",
   "execution_count": 50,
   "metadata": {
    "collapsed": false
   },
   "outputs": [
    {
     "name": "stdout",
     "output_type": "stream",
     "text": [
      "*** Using Content-based Filtering for Recommendation ***\n",
      "** Initializing feature extraction for user WaSg9RgdsEZkzAEmM6ckhw\n",
      "***Extracting deep nn features from reviews***\n"
     ]
    }
   ],
   "source": [
    "print '*** Using Content-based Filtering for Recommendation ***'\n",
    "print '** Initializing feature extraction for user ' + user\n",
    "\n",
    "print '***Extracting deep nn features from reviews***'\n",
    "\n",
    "business_ids = df_review['business_id']\n",
    "# biz_id_set = set(business_ids)\n",
    "document_hash = defaultdict(str)\n",
    "for i in range(len(df_review)):\n",
    "    try:\n",
    "        document_hash[business_ids[i]] += df_review['text'][i]\n",
    "    except:\n",
    "        continue"
   ]
  },
  {
   "cell_type": "code",
   "execution_count": 51,
   "metadata": {
    "collapsed": false
   },
   "outputs": [
    {
     "data": {
      "text/plain": [
       "FeatureUnion(n_jobs=1,\n",
       "       transformer_list=[('cat', One_Hot_Encoder(colnames=None, sparse=None, value_type=None)), ('attr', One_Hot_Encoder(colnames=None, sparse=None, value_type=None)), ('city', One_Hot_Encoder(colnames=None, sparse=None, value_type=None)), ('rating', Column_Selector(colnames=None))],\n",
       "       transformer_weights=None)"
      ]
     },
     "execution_count": 51,
     "metadata": {},
     "output_type": "execute_result"
    }
   ],
   "source": [
    "# Extract features of each business: category, attribute, average rating\n",
    "OHE_cat = One_Hot_Encoder('categories', 'list', sparse=False)\n",
    "OHE_attr= One_Hot_Encoder('attributes', 'dict', sparse=False)\n",
    "OHE_city= One_Hot_Encoder('city', 'value', sparse=False)\n",
    "rating = Column_Selector(['stars'])\n",
    "OHE_union = FeatureUnion([ ('cat', OHE_cat), ('attr', OHE_attr), ('city', OHE_city), ('rating', rating) ])\n",
    "# OHE_union = OHE_attr\n",
    "OHE_union.fit(df_business)"
   ]
  },
  {
   "cell_type": "code",
   "execution_count": 52,
   "metadata": {
    "collapsed": true
   },
   "outputs": [],
   "source": [
    "business_ids = df_review['business_id']"
   ]
  },
  {
   "cell_type": "code",
   "execution_count": 53,
   "metadata": {
    "collapsed": false
   },
   "outputs": [
    {
     "name": "stderr",
     "output_type": "stream",
     "text": [
      "C:\\Users\\Harika Konagala\\Anaconda2\\lib\\site-packages\\gensim\\utils.py:860: UserWarning: detected Windows; aliasing chunkize to chunkize_serial\n",
      "  warnings.warn(\"detected Windows; aliasing chunkize to chunkize_serial\")\n"
     ]
    }
   ],
   "source": [
    "from gensim import corpora\n",
    "from gensim.models.ldamodel import LdaModel as LDA\n",
    "from gensim.models.doc2vec import Doc2Vec\n",
    "from gensim.models.doc2vec import TaggedDocument as TD\n",
    "\n",
    "def doc2vec_features(documents_hash, feature_count = 1000):\n",
    "    business_ids = documents_hash.keys()\n",
    "    documents = [documents_hash[b_id] for b_id in business_ids]\n",
    "    tagged_documents = []\n",
    "    for i, doc in enumerate(documents):\n",
    "        tdoc = TD(doc.split(), tags = [i])\n",
    "        tagged_documents.append(tdoc)\n",
    "\n",
    "    doc2vec_model = Doc2Vec(tagged_documents, size = feature_count, iter = 5)\n",
    "    doc2vec_features = [doc2vec_model.docvecs[i] for i in range(len(documents))]\n",
    "\n",
    "    return doc2vec_features, business_ids, doc2vec_model"
   ]
  },
  {
   "cell_type": "code",
   "execution_count": null,
   "metadata": {
    "collapsed": false,
    "scrolled": true
   },
   "outputs": [
    {
     "name": "stdout",
     "output_type": "stream",
     "text": [
      "879\n"
     ]
    }
   ],
   "source": [
    "deepnn_business_features, business_id_order, doc2vec_model = doc2vec_features(document_hash)\n",
    "\n",
    "deepnn_business_features = np.array(deepnn_business_features)\n",
    "print len(deepnn_business_features)"
   ]
  },
  {
   "cell_type": "code",
   "execution_count": 86,
   "metadata": {
    "collapsed": false,
    "scrolled": true
   },
   "outputs": [
    {
     "data": {
      "text/plain": [
       "1262"
      ]
     },
     "execution_count": 86,
     "metadata": {},
     "output_type": "execute_result"
    }
   ],
   "source": [
    "df_user_sub = df_user[df_user['review_count'] > 20]\n",
    "# print len(df_user_sub)\n",
    "users_idx = [v for v in df_user_sub['user_id']]\n",
    "users_idx = list(set(users_idx))\n",
    "len(users_idx)"
   ]
  },
  {
   "cell_type": "code",
   "execution_count": 2,
   "metadata": {
    "collapsed": false
   },
   "outputs": [
    {
     "ename": "NameError",
     "evalue": "name 'document_hash' is not defined",
     "output_type": "error",
     "traceback": [
      "\u001b[0;31m---------------------------------------------------------------------------\u001b[0m",
      "\u001b[0;31mNameError\u001b[0m                                 Traceback (most recent call last)",
      "\u001b[0;32m<ipython-input-2-8701cb60e440>\u001b[0m in \u001b[0;36m<module>\u001b[0;34m()\u001b[0m\n\u001b[0;32m----> 1\u001b[0;31m \u001b[0mdeepnn_business_features\u001b[0m\u001b[0;34m,\u001b[0m \u001b[0mbusiness_id_order\u001b[0m\u001b[0;34m,\u001b[0m \u001b[0mdoc2vec_model\u001b[0m \u001b[0;34m=\u001b[0m \u001b[0mdoc2vec_features\u001b[0m\u001b[0;34m(\u001b[0m\u001b[0mdocument_hash\u001b[0m\u001b[0;34m)\u001b[0m\u001b[0;34m\u001b[0m\u001b[0m\n\u001b[0m\u001b[1;32m      2\u001b[0m \u001b[0;34m\u001b[0m\u001b[0m\n\u001b[1;32m      3\u001b[0m \u001b[0mdeepnn_business_features\u001b[0m \u001b[0;34m=\u001b[0m \u001b[0mnp\u001b[0m\u001b[0;34m.\u001b[0m\u001b[0marray\u001b[0m\u001b[0;34m(\u001b[0m\u001b[0mdeepnn_business_features\u001b[0m\u001b[0;34m)\u001b[0m\u001b[0;34m\u001b[0m\u001b[0m\n\u001b[1;32m      4\u001b[0m \u001b[0;32mprint\u001b[0m \u001b[0mdeepnn_business_features\u001b[0m\u001b[0;34m.\u001b[0m\u001b[0m__class__\u001b[0m\u001b[0;34m\u001b[0m\u001b[0m\n",
      "\u001b[0;31mNameError\u001b[0m: name 'document_hash' is not defined"
     ]
    }
   ],
   "source": [
    "cosine_sim_avg_normal = 0.0\n",
    "cosine_sim_avg_deep = 0.0\n",
    "for itr, user_id in enumerate(users_idx[:50]):\n",
    "    print '*&*&*&*&*&*&*&*&*&*' + str(itr) \n",
    "    # 2) For each user, construct a profile using only 80% of the businesses he reviews (80 businesses from example).\n",
    "    reviewed_businesses = df_review.ix[df_review.user_id == user]\n",
    "    reviewed_businesses_sub = reviewed_businesses.head(int(0.8*len(reviewed_businesses)))\n",
    "    reviewed_businesses_unused = reviewed_businesses[~reviewed_businesses['business_id'].isin(reviewed_businesses_sub['business_id'])]\n",
    "    reviewed_business_ids_unused = reviewed_businesses_unused['business_id']\n",
    "    unused_bid_list = [v for v in reviewed_business_ids_unused]\n",
    "    \n",
    "    star_hash = {}\n",
    "    for i in range(len(df_review)):\n",
    "        if df_review['business_id'][i] in unused_bid_list:\n",
    "            star_hash[df_review['business_id'][i]] = df_review['stars'][i]\n"
   ]
  },
  {
   "cell_type": "code",
   "execution_count": null,
   "metadata": {
    "collapsed": true
   },
   "outputs": [],
   "source": []
  }
 ],
 "metadata": {
  "anaconda-cloud": {},
  "kernelspec": {
   "display_name": "Python [Root]",
   "language": "python",
   "name": "Python [Root]"
  },
  "language_info": {
   "codemirror_mode": {
    "name": "ipython",
    "version": 2
   },
   "file_extension": ".py",
   "mimetype": "text/x-python",
   "name": "python",
   "nbconvert_exporter": "python",
   "pygments_lexer": "ipython2",
   "version": "2.7.12"
  }
 },
 "nbformat": 4,
 "nbformat_minor": 1
}
