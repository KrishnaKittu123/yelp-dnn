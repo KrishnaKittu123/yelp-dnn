{
 "cells": [
  {
   "cell_type": "code",
   "execution_count": 1,
   "metadata": {
    "collapsed": true
   },
   "outputs": [],
   "source": [
    "import pandas as pd\n",
    "import csv"
   ]
  },
  {
   "cell_type": "code",
   "execution_count": 31,
   "metadata": {
    "collapsed": false
   },
   "outputs": [],
   "source": [
    "smalldf = pd.read_csv(\"lasvegas.csv\") #data.csv"
   ]
  },
  {
   "cell_type": "code",
   "execution_count": 4,
   "metadata": {
    "collapsed": true
   },
   "outputs": [],
   "source": [
    "#part one : global recommender"
   ]
  },
  {
   "cell_type": "code",
   "execution_count": 32,
   "metadata": {
    "collapsed": false
   },
   "outputs": [
    {
     "data": {
      "text/plain": [
       "Index([u'Unnamed: 0', u'user_id', u'business_id', u'biz_name',\n",
       "       u'business_review_count', u'business_average', u'user_name',\n",
       "       u'user_review_count', u'stars', u'city', u'user_avg', u'review_id',\n",
       "       u'business_avg'],\n",
       "      dtype='object')"
      ]
     },
     "execution_count": 32,
     "metadata": {},
     "output_type": "execute_result"
    }
   ],
   "source": [
    "smalldf.columns"
   ]
  },
  {
   "cell_type": "code",
   "execution_count": 33,
   "metadata": {
    "collapsed": true
   },
   "outputs": [],
   "source": [
    "smalldf.drop('Unnamed: 0', axis=1, inplace=True)"
   ]
  },
  {
   "cell_type": "code",
   "execution_count": 34,
   "metadata": {
    "collapsed": false
   },
   "outputs": [
    {
     "data": {
      "text/html": [
       "<div>\n",
       "<table border=\"1\" class=\"dataframe\">\n",
       "  <thead>\n",
       "    <tr style=\"text-align: right;\">\n",
       "      <th></th>\n",
       "      <th>user_id</th>\n",
       "      <th>business_id</th>\n",
       "      <th>biz_name</th>\n",
       "      <th>business_review_count</th>\n",
       "      <th>business_average</th>\n",
       "      <th>user_name</th>\n",
       "      <th>user_review_count</th>\n",
       "      <th>stars</th>\n",
       "      <th>city</th>\n",
       "      <th>user_avg</th>\n",
       "      <th>review_id</th>\n",
       "      <th>business_avg</th>\n",
       "    </tr>\n",
       "  </thead>\n",
       "  <tbody>\n",
       "    <tr>\n",
       "      <th>0</th>\n",
       "      <td>Yc3g0KMp3991QIC4Ot1fxQ</td>\n",
       "      <td>K0j_Znzin0jShXVnpvW86A</td>\n",
       "      <td>Jaleo</td>\n",
       "      <td>515</td>\n",
       "      <td>3.5</td>\n",
       "      <td>Jared</td>\n",
       "      <td>14</td>\n",
       "      <td>2</td>\n",
       "      <td>Las Vegas</td>\n",
       "      <td>3.285714</td>\n",
       "      <td>YpUxJ7H3JskQ-zTe5RnFIQ</td>\n",
       "      <td>3.733981</td>\n",
       "    </tr>\n",
       "    <tr>\n",
       "      <th>1</th>\n",
       "      <td>Q4Qfu-3vYtL1LRm2X1b0Gg</td>\n",
       "      <td>UV2Jt8slktGu14gLZeNCjA</td>\n",
       "      <td>Mint Indian Bistro</td>\n",
       "      <td>257</td>\n",
       "      <td>4.0</td>\n",
       "      <td>Albert</td>\n",
       "      <td>159</td>\n",
       "      <td>4</td>\n",
       "      <td>Las Vegas</td>\n",
       "      <td>3.094340</td>\n",
       "      <td>RKLvEr8RoW_SbkZARXk2Vg</td>\n",
       "      <td>4.136187</td>\n",
       "    </tr>\n",
       "    <tr>\n",
       "      <th>2</th>\n",
       "      <td>Q4Qfu-3vYtL1LRm2X1b0Gg</td>\n",
       "      <td>cJWbbvGmyhFiBpG_5hf5LA</td>\n",
       "      <td>Hofbräuhaus Las Vegas</td>\n",
       "      <td>623</td>\n",
       "      <td>3.5</td>\n",
       "      <td>Albert</td>\n",
       "      <td>159</td>\n",
       "      <td>4</td>\n",
       "      <td>Las Vegas</td>\n",
       "      <td>3.094340</td>\n",
       "      <td>7DVWEi4St40XUHSXGCr2kg</td>\n",
       "      <td>3.741573</td>\n",
       "    </tr>\n",
       "    <tr>\n",
       "      <th>3</th>\n",
       "      <td>Q4Qfu-3vYtL1LRm2X1b0Gg</td>\n",
       "      <td>dn_ipqbm7_jUz5X3rDez_A</td>\n",
       "      <td>Todd English P.U.B.</td>\n",
       "      <td>632</td>\n",
       "      <td>3.5</td>\n",
       "      <td>Albert</td>\n",
       "      <td>159</td>\n",
       "      <td>3</td>\n",
       "      <td>Las Vegas</td>\n",
       "      <td>3.094340</td>\n",
       "      <td>0VTpaU1BCuXY7pqupbf2Wg</td>\n",
       "      <td>3.566456</td>\n",
       "    </tr>\n",
       "    <tr>\n",
       "      <th>4</th>\n",
       "      <td>Q4Qfu-3vYtL1LRm2X1b0Gg</td>\n",
       "      <td>lveadz48Q0_ke_p80D2rhg</td>\n",
       "      <td>ISLA Mexican Kitchen &amp; Tequila Bar</td>\n",
       "      <td>138</td>\n",
       "      <td>4.0</td>\n",
       "      <td>Albert</td>\n",
       "      <td>159</td>\n",
       "      <td>3</td>\n",
       "      <td>Las Vegas</td>\n",
       "      <td>3.094340</td>\n",
       "      <td>130u9Iy7Skyg7J3uZyWtrw</td>\n",
       "      <td>3.760870</td>\n",
       "    </tr>\n",
       "  </tbody>\n",
       "</table>\n",
       "</div>"
      ],
      "text/plain": [
       "                  user_id             business_id  \\\n",
       "0  Yc3g0KMp3991QIC4Ot1fxQ  K0j_Znzin0jShXVnpvW86A   \n",
       "1  Q4Qfu-3vYtL1LRm2X1b0Gg  UV2Jt8slktGu14gLZeNCjA   \n",
       "2  Q4Qfu-3vYtL1LRm2X1b0Gg  cJWbbvGmyhFiBpG_5hf5LA   \n",
       "3  Q4Qfu-3vYtL1LRm2X1b0Gg  dn_ipqbm7_jUz5X3rDez_A   \n",
       "4  Q4Qfu-3vYtL1LRm2X1b0Gg  lveadz48Q0_ke_p80D2rhg   \n",
       "\n",
       "                             biz_name  business_review_count  \\\n",
       "0                               Jaleo                    515   \n",
       "1                  Mint Indian Bistro                    257   \n",
       "2               Hofbräuhaus Las Vegas                    623   \n",
       "3                 Todd English P.U.B.                    632   \n",
       "4  ISLA Mexican Kitchen & Tequila Bar                    138   \n",
       "\n",
       "   business_average user_name  user_review_count  stars       city  user_avg  \\\n",
       "0               3.5     Jared                 14      2  Las Vegas  3.285714   \n",
       "1               4.0    Albert                159      4  Las Vegas  3.094340   \n",
       "2               3.5    Albert                159      4  Las Vegas  3.094340   \n",
       "3               3.5    Albert                159      3  Las Vegas  3.094340   \n",
       "4               4.0    Albert                159      3  Las Vegas  3.094340   \n",
       "\n",
       "                review_id  business_avg  \n",
       "0  YpUxJ7H3JskQ-zTe5RnFIQ      3.733981  \n",
       "1  RKLvEr8RoW_SbkZARXk2Vg      4.136187  \n",
       "2  7DVWEi4St40XUHSXGCr2kg      3.741573  \n",
       "3  0VTpaU1BCuXY7pqupbf2Wg      3.566456  \n",
       "4  130u9Iy7Skyg7J3uZyWtrw      3.760870  "
      ]
     },
     "execution_count": 34,
     "metadata": {},
     "output_type": "execute_result"
    }
   ],
   "source": [
    "smalldf.head(5)"
   ]
  },
  {
   "cell_type": "code",
   "execution_count": 35,
   "metadata": {
    "collapsed": false
   },
   "outputs": [
    {
     "data": {
      "text/html": [
       "<div>\n",
       "<table border=\"1\" class=\"dataframe\">\n",
       "  <thead>\n",
       "    <tr style=\"text-align: right;\">\n",
       "      <th></th>\n",
       "      <th>user_id</th>\n",
       "      <th>business_id</th>\n",
       "      <th>biz_name</th>\n",
       "      <th>business_review_count</th>\n",
       "      <th>business_average</th>\n",
       "      <th>user_name</th>\n",
       "      <th>user_review_count</th>\n",
       "      <th>stars</th>\n",
       "      <th>city</th>\n",
       "      <th>user_avg</th>\n",
       "      <th>review_id</th>\n",
       "      <th>business_avg</th>\n",
       "    </tr>\n",
       "  </thead>\n",
       "  <tbody>\n",
       "    <tr>\n",
       "      <th>239324</th>\n",
       "      <td>ngW9evC5dd1pLHIugxwMdg</td>\n",
       "      <td>8SWZLawwzqwzbXpGQS7gBw</td>\n",
       "      <td>Della's Kitchen</td>\n",
       "      <td>82</td>\n",
       "      <td>3.5</td>\n",
       "      <td>Katie</td>\n",
       "      <td>1</td>\n",
       "      <td>5</td>\n",
       "      <td>Las Vegas</td>\n",
       "      <td>5.0</td>\n",
       "      <td>9vCoSx7TvhQdKfg0wg2VPA</td>\n",
       "      <td>3.743902</td>\n",
       "    </tr>\n",
       "    <tr>\n",
       "      <th>239325</th>\n",
       "      <td>chyVlqeyehoX3_QML3vLRQ</td>\n",
       "      <td>JPfi__QJAaRzmfh5aOyFEw</td>\n",
       "      <td>Shang Artisan Noodle</td>\n",
       "      <td>70</td>\n",
       "      <td>4.5</td>\n",
       "      <td>Ann</td>\n",
       "      <td>1</td>\n",
       "      <td>4</td>\n",
       "      <td>Las Vegas</td>\n",
       "      <td>4.0</td>\n",
       "      <td>nz8fBYfoNogyvMXz1Z44Mw</td>\n",
       "      <td>4.200000</td>\n",
       "    </tr>\n",
       "    <tr>\n",
       "      <th>239326</th>\n",
       "      <td>JKVvXX-hdybAf0f2ZJ9vrQ</td>\n",
       "      <td>w5CSi-An5meLnxjKSFn0wQ</td>\n",
       "      <td>Thai St Cafe</td>\n",
       "      <td>92</td>\n",
       "      <td>4.0</td>\n",
       "      <td>Norases</td>\n",
       "      <td>1</td>\n",
       "      <td>5</td>\n",
       "      <td>Las Vegas</td>\n",
       "      <td>5.0</td>\n",
       "      <td>0zMzbujXQaggAQJmc7Cmww</td>\n",
       "      <td>3.554348</td>\n",
       "    </tr>\n",
       "    <tr>\n",
       "      <th>239327</th>\n",
       "      <td>1dPTYB_OoFNceuH_F9551Q</td>\n",
       "      <td>w5CSi-An5meLnxjKSFn0wQ</td>\n",
       "      <td>Thai St Cafe</td>\n",
       "      <td>92</td>\n",
       "      <td>4.0</td>\n",
       "      <td>Veremundo</td>\n",
       "      <td>1</td>\n",
       "      <td>1</td>\n",
       "      <td>Las Vegas</td>\n",
       "      <td>1.0</td>\n",
       "      <td>KD0eEulx_D4EPfbXCNqpqA</td>\n",
       "      <td>3.554348</td>\n",
       "    </tr>\n",
       "    <tr>\n",
       "      <th>239328</th>\n",
       "      <td>ZyAZbm0Di8l0ynNhxSlc7A</td>\n",
       "      <td>w5CSi-An5meLnxjKSFn0wQ</td>\n",
       "      <td>Thai St Cafe</td>\n",
       "      <td>92</td>\n",
       "      <td>4.0</td>\n",
       "      <td>Frank</td>\n",
       "      <td>1</td>\n",
       "      <td>5</td>\n",
       "      <td>Las Vegas</td>\n",
       "      <td>5.0</td>\n",
       "      <td>66pZc2AIlWLnejQIcZIQWQ</td>\n",
       "      <td>3.554348</td>\n",
       "    </tr>\n",
       "  </tbody>\n",
       "</table>\n",
       "</div>"
      ],
      "text/plain": [
       "                       user_id             business_id              biz_name  \\\n",
       "239324  ngW9evC5dd1pLHIugxwMdg  8SWZLawwzqwzbXpGQS7gBw       Della's Kitchen   \n",
       "239325  chyVlqeyehoX3_QML3vLRQ  JPfi__QJAaRzmfh5aOyFEw  Shang Artisan Noodle   \n",
       "239326  JKVvXX-hdybAf0f2ZJ9vrQ  w5CSi-An5meLnxjKSFn0wQ          Thai St Cafe   \n",
       "239327  1dPTYB_OoFNceuH_F9551Q  w5CSi-An5meLnxjKSFn0wQ          Thai St Cafe   \n",
       "239328  ZyAZbm0Di8l0ynNhxSlc7A  w5CSi-An5meLnxjKSFn0wQ          Thai St Cafe   \n",
       "\n",
       "        business_review_count  business_average  user_name  user_review_count  \\\n",
       "239324                     82               3.5      Katie                  1   \n",
       "239325                     70               4.5        Ann                  1   \n",
       "239326                     92               4.0    Norases                  1   \n",
       "239327                     92               4.0  Veremundo                  1   \n",
       "239328                     92               4.0      Frank                  1   \n",
       "\n",
       "        stars       city  user_avg               review_id  business_avg  \n",
       "239324      5  Las Vegas       5.0  9vCoSx7TvhQdKfg0wg2VPA      3.743902  \n",
       "239325      4  Las Vegas       4.0  nz8fBYfoNogyvMXz1Z44Mw      4.200000  \n",
       "239326      5  Las Vegas       5.0  0zMzbujXQaggAQJmc7Cmww      3.554348  \n",
       "239327      1  Las Vegas       1.0  KD0eEulx_D4EPfbXCNqpqA      3.554348  \n",
       "239328      5  Las Vegas       5.0  66pZc2AIlWLnejQIcZIQWQ      3.554348  "
      ]
     },
     "execution_count": 35,
     "metadata": {},
     "output_type": "execute_result"
    }
   ],
   "source": [
    "smalldf.tail(5)"
   ]
  },
  {
   "cell_type": "code",
   "execution_count": 36,
   "metadata": {
    "collapsed": false
   },
   "outputs": [
    {
     "data": {
      "text/plain": [
       "239329"
      ]
     },
     "execution_count": 36,
     "metadata": {},
     "output_type": "execute_result"
    }
   ],
   "source": [
    "len(smalldf)"
   ]
  },
  {
   "cell_type": "code",
   "execution_count": 39,
   "metadata": {
    "collapsed": false
   },
   "outputs": [
    {
     "data": {
      "text/plain": [
       "239329"
      ]
     },
     "execution_count": 39,
     "metadata": {},
     "output_type": "execute_result"
    }
   ],
   "source": [
    "#smalldf['city'].value_counts()\n",
    "\n",
    "#smalldf = smalldf[smalldf.city != \"Las Vegas\"]\n",
    "#smalldf = smalldf[smalldf.city != \"Phoenix\"]\n",
    "\n",
    "'''smalldf = smalldf[(smalldf.city != \"Scottsdale\") & (smalldf.city != \"Toronto\") & (smalldf.city != \"Charlotte\") & (smalldf.city != \"Pittsburgh\")]\n",
    "\n",
    "smalldf = smalldf[(smalldf.city != \"Tempe\") & (smalldf.city != \"Henderson\") & (smalldf.city != \"Chandler\") & (smalldf.city != \"Montréal\")]\n",
    "\n",
    "smalldf = smalldf[(smalldf.city != \"Cleveland\") & (smalldf.city != \"Madison\") & (smalldf.city != \"Gilbert\") & (smalldf.city != \"Mesa\")]\n",
    "\n",
    "smalldf = smalldf[(smalldf.city != \"Glendale\") & (smalldf.city != \"Markham\") & (smalldf.city != \"Peoria\") & (smalldf.city != \"Lakewood\")]\n",
    "\n",
    "smalldf = smalldf[(smalldf.city != \"North Las Vegas\") & (smalldf.city != \"Champaign\") & (smalldf.city != \"Cave Creek\") & (smalldf.city != \"Boulder City\")]\n",
    "\n",
    "smalldf = smalldf[(smalldf.city != \"Richmond Hill\") & (smalldf.city != \"Surprise\") & (smalldf.city != \"Goodyear\") & (smalldf.city != \"Paradise Valley\")]'''\n",
    "\n",
    "len(smalldf)"
   ]
  },
  {
   "cell_type": "code",
   "execution_count": 40,
   "metadata": {
    "collapsed": false,
    "scrolled": true
   },
   "outputs": [
    {
     "data": {
      "text/plain": [
       "Las Vegas          238111\n",
       "North Las Vegas      1137\n",
       "South Las Vegas        50\n",
       "N. Las Vegas           31\n",
       "Name: city, dtype: int64"
      ]
     },
     "execution_count": 40,
     "metadata": {},
     "output_type": "execute_result"
    }
   ],
   "source": [
    "smalldf['city'].value_counts()"
   ]
  },
  {
   "cell_type": "code",
   "execution_count": 41,
   "metadata": {
    "collapsed": true
   },
   "outputs": [],
   "source": [
    "%matplotlib inline\n",
    "from collections import defaultdict\n",
    "import json\n",
    "\n",
    "import numpy as np\n",
    "import scipy as sp\n",
    "import matplotlib.pyplot as plt\n",
    "\n",
    "\n",
    "from matplotlib import rcParams\n",
    "import matplotlib.cm as cm\n",
    "import matplotlib as mpl"
   ]
  },
  {
   "cell_type": "code",
   "execution_count": 42,
   "metadata": {
    "collapsed": false,
    "scrolled": true
   },
   "outputs": [
    {
     "data": {
      "text/plain": [
       "array([ 14, 159, 288, 120,  46, 141,   9,  77,  57,  34,  76,  30,  47,\n",
       "         5,  39, 154,  31,  67,  12,  33,  85,  36, 173,  10,  21, 124,\n",
       "        83,  73,   8,  80,  27,  54,  75,  16,   2,  78,  17,   6,  26,\n",
       "         7, 228,  56, 248,   4,  98, 136,  72,  22, 174,   3,  59,  38,\n",
       "        92,  55,  43,  18, 263,  29,  50,  11,  15, 328, 193,  88, 137,\n",
       "       180,  65,  84,  28,  25,  60,  42, 176, 527,  37,  45,  24, 156,\n",
       "        90, 149,  74,  81,  32,  58,  35, 443,  63,  51,  23, 117, 114,\n",
       "       200,  41,  68, 160,  48,  86, 201, 219,  52, 116, 317,  19,  20,\n",
       "        87,  69, 153,  64,  40,  13,  89, 187,  94, 143, 109, 115, 158,\n",
       "        66,  70, 138,  95, 103, 107, 110,  71, 144,  49,   1, 210, 237,\n",
       "       262, 121, 505, 329, 576,  91, 189,  82, 459,  61, 188,  44, 184,\n",
       "       106,  62, 118, 112, 240, 142, 102,  97, 130, 171, 104, 185, 100,\n",
       "       135, 113, 249,  99, 206, 111, 128, 140, 199, 172, 157,  79, 226,\n",
       "       150, 155, 151, 420, 207, 293, 119, 165, 217, 145, 191, 309, 132,\n",
       "       139, 161, 203, 131, 352,  96, 127, 125, 235, 164, 105, 356, 271,\n",
       "        53, 167, 341, 129, 194, 163, 205, 177, 168, 170, 181, 162, 152,\n",
       "        93, 133, 122, 123, 220, 147, 126, 166, 148])"
      ]
     },
     "execution_count": 42,
     "metadata": {},
     "output_type": "execute_result"
    }
   ],
   "source": [
    "smalldf['user_review_count'].unique()"
   ]
  },
  {
   "cell_type": "code",
   "execution_count": 44,
   "metadata": {
    "collapsed": true
   },
   "outputs": [],
   "source": [
    "smalldf = smalldf[(smalldf.city != \"North Las Vegas\") & (smalldf.city != \"South Las Vegas\") & (smalldf.city != \"N. Las Vegas\")]"
   ]
  },
  {
   "cell_type": "code",
   "execution_count": 46,
   "metadata": {
    "collapsed": false
   },
   "outputs": [
    {
     "data": {
      "text/plain": [
       "Las Vegas    238111\n",
       "Name: city, dtype: int64"
      ]
     },
     "execution_count": 46,
     "metadata": {},
     "output_type": "execute_result"
    }
   ],
   "source": [
    "smalldf['city'].value_counts()"
   ]
  },
  {
   "cell_type": "code",
   "execution_count": 48,
   "metadata": {
    "collapsed": true
   },
   "outputs": [],
   "source": [
    "def recompute_frame(ldf):\n",
    "    \"\"\"\n",
    "    takes a dataframe ldf, makes a copy of it, and returns the copy\n",
    "    with all averages and review counts recomputed\n",
    "    this is used when a frame is subsetted.\n",
    "    \"\"\"\n",
    "    ldfu=ldf.groupby('user_id')\n",
    "    ldfb=ldf.groupby('business_id')\n",
    "    user_avg=ldfu.stars.mean()\n",
    "    user_review_count=ldfu.review_id.count()\n",
    "    business_avg=ldfb.stars.mean()\n",
    "    business_review_count=ldfb.review_id.count()\n",
    "    nldf=ldf.copy()\n",
    "    nldf.set_index(['business_id'], inplace=True)\n",
    "    nldf['business_avg']=business_avg\n",
    "    nldf['business_review_count']=business_review_count\n",
    "    nldf.reset_index(inplace=True)\n",
    "    nldf.set_index(['user_id'], inplace=True)\n",
    "    nldf['user_avg']=user_avg\n",
    "    nldf['user_review_count']=user_review_count\n",
    "    nldf.reset_index(inplace=True)\n",
    "    return nldf"
   ]
  },
  {
   "cell_type": "code",
   "execution_count": 49,
   "metadata": {
    "collapsed": false
   },
   "outputs": [],
   "source": [
    "smallidf = smalldf[(smalldf.user_review_count > 60) & (smalldf.business_review_count > 150)]\n",
    "smalldf=recompute_frame(smallidf)"
   ]
  },
  {
   "cell_type": "code",
   "execution_count": 50,
   "metadata": {
    "collapsed": false
   },
   "outputs": [
    {
     "data": {
      "text/plain": [
       "21957"
      ]
     },
     "execution_count": 50,
     "metadata": {},
     "output_type": "execute_result"
    }
   ],
   "source": [
    "len(smalldf)"
   ]
  },
  {
   "cell_type": "code",
   "execution_count": 51,
   "metadata": {
    "collapsed": false
   },
   "outputs": [
    {
     "data": {
      "text/html": [
       "<div>\n",
       "<table border=\"1\" class=\"dataframe\">\n",
       "  <thead>\n",
       "    <tr style=\"text-align: right;\">\n",
       "      <th></th>\n",
       "      <th>user_id</th>\n",
       "      <th>business_id</th>\n",
       "      <th>biz_name</th>\n",
       "      <th>business_review_count</th>\n",
       "      <th>business_average</th>\n",
       "      <th>user_name</th>\n",
       "      <th>user_review_count</th>\n",
       "      <th>stars</th>\n",
       "      <th>city</th>\n",
       "      <th>user_avg</th>\n",
       "      <th>review_id</th>\n",
       "      <th>business_avg</th>\n",
       "    </tr>\n",
       "  </thead>\n",
       "  <tbody>\n",
       "    <tr>\n",
       "      <th>0</th>\n",
       "      <td>Q4Qfu-3vYtL1LRm2X1b0Gg</td>\n",
       "      <td>UV2Jt8slktGu14gLZeNCjA</td>\n",
       "      <td>Mint Indian Bistro</td>\n",
       "      <td>56</td>\n",
       "      <td>4.0</td>\n",
       "      <td>Albert</td>\n",
       "      <td>11</td>\n",
       "      <td>4</td>\n",
       "      <td>Las Vegas</td>\n",
       "      <td>3.636364</td>\n",
       "      <td>RKLvEr8RoW_SbkZARXk2Vg</td>\n",
       "      <td>4.214286</td>\n",
       "    </tr>\n",
       "    <tr>\n",
       "      <th>1</th>\n",
       "      <td>Q4Qfu-3vYtL1LRm2X1b0Gg</td>\n",
       "      <td>cJWbbvGmyhFiBpG_5hf5LA</td>\n",
       "      <td>Hofbräuhaus Las Vegas</td>\n",
       "      <td>83</td>\n",
       "      <td>3.5</td>\n",
       "      <td>Albert</td>\n",
       "      <td>11</td>\n",
       "      <td>4</td>\n",
       "      <td>Las Vegas</td>\n",
       "      <td>3.636364</td>\n",
       "      <td>7DVWEi4St40XUHSXGCr2kg</td>\n",
       "      <td>3.554217</td>\n",
       "    </tr>\n",
       "    <tr>\n",
       "      <th>2</th>\n",
       "      <td>Q4Qfu-3vYtL1LRm2X1b0Gg</td>\n",
       "      <td>dn_ipqbm7_jUz5X3rDez_A</td>\n",
       "      <td>Todd English P.U.B.</td>\n",
       "      <td>72</td>\n",
       "      <td>3.5</td>\n",
       "      <td>Albert</td>\n",
       "      <td>11</td>\n",
       "      <td>3</td>\n",
       "      <td>Las Vegas</td>\n",
       "      <td>3.636364</td>\n",
       "      <td>0VTpaU1BCuXY7pqupbf2Wg</td>\n",
       "      <td>3.527778</td>\n",
       "    </tr>\n",
       "    <tr>\n",
       "      <th>3</th>\n",
       "      <td>Q4Qfu-3vYtL1LRm2X1b0Gg</td>\n",
       "      <td>Cr4ipI-tr-R8Q0NilkWNkA</td>\n",
       "      <td>MIX</td>\n",
       "      <td>48</td>\n",
       "      <td>4.0</td>\n",
       "      <td>Albert</td>\n",
       "      <td>11</td>\n",
       "      <td>5</td>\n",
       "      <td>Las Vegas</td>\n",
       "      <td>3.636364</td>\n",
       "      <td>HxqqNenaxndZUSAw2evsUg</td>\n",
       "      <td>3.833333</td>\n",
       "    </tr>\n",
       "    <tr>\n",
       "      <th>4</th>\n",
       "      <td>Q4Qfu-3vYtL1LRm2X1b0Gg</td>\n",
       "      <td>Cni2l-VKG_pdospJ6xliXQ</td>\n",
       "      <td>Burger Bar</td>\n",
       "      <td>111</td>\n",
       "      <td>4.0</td>\n",
       "      <td>Albert</td>\n",
       "      <td>11</td>\n",
       "      <td>3</td>\n",
       "      <td>Las Vegas</td>\n",
       "      <td>3.636364</td>\n",
       "      <td>TMeS5fNPD53UmpL-szxdtQ</td>\n",
       "      <td>3.729730</td>\n",
       "    </tr>\n",
       "  </tbody>\n",
       "</table>\n",
       "</div>"
      ],
      "text/plain": [
       "                  user_id             business_id               biz_name  \\\n",
       "0  Q4Qfu-3vYtL1LRm2X1b0Gg  UV2Jt8slktGu14gLZeNCjA     Mint Indian Bistro   \n",
       "1  Q4Qfu-3vYtL1LRm2X1b0Gg  cJWbbvGmyhFiBpG_5hf5LA  Hofbräuhaus Las Vegas   \n",
       "2  Q4Qfu-3vYtL1LRm2X1b0Gg  dn_ipqbm7_jUz5X3rDez_A    Todd English P.U.B.   \n",
       "3  Q4Qfu-3vYtL1LRm2X1b0Gg  Cr4ipI-tr-R8Q0NilkWNkA                    MIX   \n",
       "4  Q4Qfu-3vYtL1LRm2X1b0Gg  Cni2l-VKG_pdospJ6xliXQ             Burger Bar   \n",
       "\n",
       "   business_review_count  business_average user_name  user_review_count  \\\n",
       "0                     56               4.0    Albert                 11   \n",
       "1                     83               3.5    Albert                 11   \n",
       "2                     72               3.5    Albert                 11   \n",
       "3                     48               4.0    Albert                 11   \n",
       "4                    111               4.0    Albert                 11   \n",
       "\n",
       "   stars       city  user_avg               review_id  business_avg  \n",
       "0      4  Las Vegas  3.636364  RKLvEr8RoW_SbkZARXk2Vg      4.214286  \n",
       "1      4  Las Vegas  3.636364  7DVWEi4St40XUHSXGCr2kg      3.554217  \n",
       "2      3  Las Vegas  3.636364  0VTpaU1BCuXY7pqupbf2Wg      3.527778  \n",
       "3      5  Las Vegas  3.636364  HxqqNenaxndZUSAw2evsUg      3.833333  \n",
       "4      3  Las Vegas  3.636364  TMeS5fNPD53UmpL-szxdtQ      3.729730  "
      ]
     },
     "execution_count": 51,
     "metadata": {},
     "output_type": "execute_result"
    }
   ],
   "source": [
    "smalldf.head(5)"
   ]
  },
  {
   "cell_type": "code",
   "execution_count": null,
   "metadata": {
    "collapsed": true
   },
   "outputs": [],
   "source": []
  },
  {
   "cell_type": "code",
   "execution_count": 52,
   "metadata": {
    "collapsed": false,
    "scrolled": true
   },
   "outputs": [
    {
     "name": "stdout",
     "output_type": "stream",
     "text": [
      "Mean support is: 6.67400061977\n"
     ]
    },
    {
     "data": {
      "text/plain": [
       "(array([  7.76490000e+04,   2.00410000e+04,   5.89300000e+03,\n",
       "          2.01800000e+03,   5.91000000e+02,   2.12000000e+02,\n",
       "          7.80000000e+01,   5.00000000e+00,   1.00000000e+00,\n",
       "          3.00000000e+00]),\n",
       " array([  0. ,   8.3,  16.6,  24.9,  33.2,  41.5,  49.8,  58.1,  66.4,\n",
       "         74.7,  83. ]),\n",
       " <a list of 10 Patch objects>)"
      ]
     },
     "execution_count": 52,
     "metadata": {},
     "output_type": "execute_result"
    },
    {
     "data": {
      "image/png": "[encoded data removed]",
      "text/plain": [
       "<matplotlib.figure.Figure at 0x7f5ba48f3790>"
      ]
     },
     "metadata": {},
     "output_type": "display_data"
    }
   ],
   "source": [
    "restaurants=smalldf.business_id.unique()\n",
    "supports=[]\n",
    "for i,rest1 in enumerate(restaurants):\n",
    "    for j,rest2 in enumerate(restaurants):\n",
    "        if  i < j:\n",
    "            rest1_reviewers = smalldf[smalldf.business_id==rest1].user_id.unique()\n",
    "            rest2_reviewers = smalldf[smalldf.business_id==rest2].user_id.unique()\n",
    "            common_reviewers = set(rest1_reviewers).intersection(rest2_reviewers)\n",
    "            supports.append(len(common_reviewers))\n",
    "print \"Mean support is:\",np.mean(supports)\n",
    "plt.hist(supports)"
   ]
  },
  {
   "cell_type": "code",
   "execution_count": 53,
   "metadata": {
    "collapsed": true
   },
   "outputs": [],
   "source": [
    "rest1_reviewers = smalldf[smalldf.business_id==rest1].user_id.unique()\n",
    "rest2_reviewers = smalldf[smalldf.business_id==rest2].user_id.unique()\n",
    "common_reviewers = set(rest1_reviewers).intersection(rest2_reviewers)"
   ]
  },
  {
   "cell_type": "code",
   "execution_count": 54,
   "metadata": {
    "collapsed": false
   },
   "outputs": [
    {
     "data": {
      "text/plain": [
       "3"
      ]
     },
     "execution_count": 54,
     "metadata": {},
     "output_type": "execute_result"
    }
   ],
   "source": [
    "len(common_reviewers)"
   ]
  },
  {
   "cell_type": "code",
   "execution_count": 55,
   "metadata": {
    "collapsed": true
   },
   "outputs": [],
   "source": [
    "from scipy.stats.stats import pearsonr\n",
    "def pearson_sim(rest1_reviews, rest2_reviews, n_common):\n",
    "    \"\"\"\n",
    "    Given a subframe of restaurant 1 reviews and a subframe of restaurant 2 reviews,\n",
    "    where the reviewers are those who have reviewed both restaurants, return \n",
    "    the pearson correlation coefficient between the user average subtracted ratings.\n",
    "    The case for zero common reviewers is handled separately. Its\n",
    "    ok to return a NaN if any of the individual variances are 0.\n",
    "    \"\"\"\n",
    "    if n_common==0:\n",
    "        rho=0.\n",
    "    else:\n",
    "        diff1=rest1_reviews['stars']-rest1_reviews['user_avg']\n",
    "        diff2=rest2_reviews['stars']-rest2_reviews['user_avg']\n",
    "        rho=pearsonr(diff1, diff2)[0]\n",
    "    return rho"
   ]
  },
  {
   "cell_type": "code",
   "execution_count": 56,
   "metadata": {
    "collapsed": true
   },
   "outputs": [],
   "source": [
    "def get_restaurant_reviews(restaurant_id, df, set_of_users):\n",
    "    \"\"\"\n",
    "    given a resturant id and a set of reviewers, return the sub-dataframe of their\n",
    "    reviews.\n",
    "    \"\"\"\n",
    "    mask = (df.user_id.isin(set_of_users)) & (df.business_id==restaurant_id)\n",
    "    reviews = df[mask]\n",
    "    reviews = reviews[reviews.user_id.duplicated()==False]\n",
    "    return reviews"
   ]
  },
  {
   "cell_type": "code",
   "execution_count": 57,
   "metadata": {
    "collapsed": true
   },
   "outputs": [],
   "source": [
    "\"\"\"\n",
    "Function\n",
    "--------\n",
    "calculate_similarity\n",
    "\n",
    "Parameters\n",
    "----------\n",
    "rest1 : string\n",
    "    The id of restaurant 1\n",
    "rest2 : string\n",
    "    The id of restaurant 2\n",
    "df : DataFrame\n",
    "  A dataframe of reviews, such as the smalldf above\n",
    "similarity_func : func\n",
    "  A function like pearson_sim above which takes two dataframes of individual\n",
    "  restaurant reviews made by a common set of reviewers, and the number of\n",
    "  common reviews. This function returns the similarity of the two restaurants\n",
    "  based on the common reviews.\n",
    "  \n",
    "Returns\n",
    "--------\n",
    "A tuple\n",
    "  The first element of the tuple is the similarity and the second the\n",
    "  common support n_common. If the similarity is a NaN, set it to 0\n",
    "\"\"\"\n",
    "def calculate_similarity(rest1, rest2, df, similarity_func):\n",
    "    # find common reviewers\n",
    "    rest1_reviewers = df[df.business_id==rest1].user_id.unique()\n",
    "    rest2_reviewers = df[df.business_id==rest2].user_id.unique()\n",
    "    common_reviewers = set(rest1_reviewers).intersection(rest2_reviewers)\n",
    "    n_common=len(common_reviewers)\n",
    "    #get reviews\n",
    "    rest1_reviews = get_restaurant_reviews(rest1, df, common_reviewers)\n",
    "    rest2_reviews = get_restaurant_reviews(rest2, df, common_reviewers)\n",
    "    sim=similarity_func(rest1_reviews, rest2_reviews, n_common)\n",
    "    if np.isnan(sim):\n",
    "        return 0, n_common\n",
    "    return sim, n_common"
   ]
  },
  {
   "cell_type": "code",
   "execution_count": 58,
   "metadata": {
    "collapsed": true
   },
   "outputs": [],
   "source": [
    "class Database:\n",
    "    \"A class representing a database of similaries and common supports\"\n",
    "    \n",
    "    def __init__(self, df):\n",
    "        \"the constructor, takes a reviews dataframe like smalldf as its argument\"\n",
    "        database={}\n",
    "        self.df=df\n",
    "        self.uniquebizids={v:k for (k,v) in enumerate(df.business_id.unique())}\n",
    "        keys=self.uniquebizids.keys()\n",
    "        l_keys=len(keys)\n",
    "        self.database_sim=np.zeros([l_keys,l_keys])\n",
    "        self.database_sup=np.zeros([l_keys, l_keys], dtype=np.int)\n",
    "        \n",
    "    def populate_by_calculating(self, similarity_func):\n",
    "        \"\"\"\n",
    "        a populator for every pair of businesses in df. takes similarity_func like\n",
    "        pearson_sim as argument\n",
    "        \"\"\"\n",
    "        items=self.uniquebizids.items()\n",
    "        for b1, i1 in items:\n",
    "            for b2, i2 in items:\n",
    "                if i1 < i2:\n",
    "                    sim, nsup=calculate_similarity(b1, b2, self.df, similarity_func)\n",
    "                    self.database_sim[i1][i2]=sim\n",
    "                    self.database_sim[i2][i1]=sim\n",
    "                    self.database_sup[i1][i2]=nsup\n",
    "                    self.database_sup[i2][i1]=nsup\n",
    "                elif i1==i2:\n",
    "                    nsup=self.df[self.df.business_id==b1].user_id.count()\n",
    "                    self.database_sim[i1][i1]=1.\n",
    "                    self.database_sup[i1][i1]=nsup\n",
    "                    \n",
    "\n",
    "    def get(self, b1, b2):\n",
    "        \"returns a tuple of similarity,common_support given two business ids\"\n",
    "        sim=self.database_sim[self.uniquebizids[b1]][self.uniquebizids[b2]]\n",
    "        nsup=self.database_sup[self.uniquebizids[b1]][self.uniquebizids[b2]]\n",
    "        return (sim, nsup)"
   ]
  },
  {
   "cell_type": "code",
   "execution_count": 59,
   "metadata": {
    "collapsed": true
   },
   "outputs": [],
   "source": [
    "db=Database(smalldf)"
   ]
  },
  {
   "cell_type": "code",
   "execution_count": 60,
   "metadata": {
    "collapsed": false,
    "scrolled": true
   },
   "outputs": [],
   "source": [
    "db.populate_by_calculating(pearson_sim)"
   ]
  },
  {
   "cell_type": "code",
   "execution_count": 61,
   "metadata": {
    "collapsed": false
   },
   "outputs": [
    {
     "data": {
      "text/plain": [
       "'QJI9OSEn6ujRCtrX06vs1w'"
      ]
     },
     "execution_count": 61,
     "metadata": {},
     "output_type": "execute_result"
    }
   ],
   "source": [
    "smalldf.user_id[20].encode('ascii','ignore')"
   ]
  },
  {
   "cell_type": "code",
   "execution_count": 62,
   "metadata": {
    "collapsed": false,
    "scrolled": true
   },
   "outputs": [
    {
     "data": {
      "text/plain": [
       "Las Vegas    21957\n",
       "Name: city, dtype: int64"
      ]
     },
     "execution_count": 62,
     "metadata": {},
     "output_type": "execute_result"
    }
   ],
   "source": [
    "smalldf['city'].value_counts()"
   ]
  },
  {
   "cell_type": "code",
   "execution_count": 63,
   "metadata": {
    "collapsed": false,
    "scrolled": true
   },
   "outputs": [
    {
     "data": {
      "text/html": [
       "<div>\n",
       "<table border=\"1\" class=\"dataframe\">\n",
       "  <thead>\n",
       "    <tr style=\"text-align: right;\">\n",
       "      <th></th>\n",
       "      <th>user_id</th>\n",
       "      <th>business_id</th>\n",
       "      <th>biz_name</th>\n",
       "      <th>business_review_count</th>\n",
       "      <th>business_average</th>\n",
       "      <th>user_name</th>\n",
       "      <th>user_review_count</th>\n",
       "      <th>stars</th>\n",
       "      <th>city</th>\n",
       "      <th>user_avg</th>\n",
       "      <th>review_id</th>\n",
       "      <th>business_avg</th>\n",
       "    </tr>\n",
       "  </thead>\n",
       "  <tbody>\n",
       "    <tr>\n",
       "      <th>0</th>\n",
       "      <td>Q4Qfu-3vYtL1LRm2X1b0Gg</td>\n",
       "      <td>UV2Jt8slktGu14gLZeNCjA</td>\n",
       "      <td>Mint Indian Bistro</td>\n",
       "      <td>56</td>\n",
       "      <td>4.0</td>\n",
       "      <td>Albert</td>\n",
       "      <td>11</td>\n",
       "      <td>4</td>\n",
       "      <td>Las Vegas</td>\n",
       "      <td>3.636364</td>\n",
       "      <td>RKLvEr8RoW_SbkZARXk2Vg</td>\n",
       "      <td>4.214286</td>\n",
       "    </tr>\n",
       "    <tr>\n",
       "      <th>1</th>\n",
       "      <td>Q4Qfu-3vYtL1LRm2X1b0Gg</td>\n",
       "      <td>cJWbbvGmyhFiBpG_5hf5LA</td>\n",
       "      <td>Hofbräuhaus Las Vegas</td>\n",
       "      <td>83</td>\n",
       "      <td>3.5</td>\n",
       "      <td>Albert</td>\n",
       "      <td>11</td>\n",
       "      <td>4</td>\n",
       "      <td>Las Vegas</td>\n",
       "      <td>3.636364</td>\n",
       "      <td>7DVWEi4St40XUHSXGCr2kg</td>\n",
       "      <td>3.554217</td>\n",
       "    </tr>\n",
       "    <tr>\n",
       "      <th>2</th>\n",
       "      <td>Q4Qfu-3vYtL1LRm2X1b0Gg</td>\n",
       "      <td>dn_ipqbm7_jUz5X3rDez_A</td>\n",
       "      <td>Todd English P.U.B.</td>\n",
       "      <td>72</td>\n",
       "      <td>3.5</td>\n",
       "      <td>Albert</td>\n",
       "      <td>11</td>\n",
       "      <td>3</td>\n",
       "      <td>Las Vegas</td>\n",
       "      <td>3.636364</td>\n",
       "      <td>0VTpaU1BCuXY7pqupbf2Wg</td>\n",
       "      <td>3.527778</td>\n",
       "    </tr>\n",
       "    <tr>\n",
       "      <th>3</th>\n",
       "      <td>Q4Qfu-3vYtL1LRm2X1b0Gg</td>\n",
       "      <td>Cr4ipI-tr-R8Q0NilkWNkA</td>\n",
       "      <td>MIX</td>\n",
       "      <td>48</td>\n",
       "      <td>4.0</td>\n",
       "      <td>Albert</td>\n",
       "      <td>11</td>\n",
       "      <td>5</td>\n",
       "      <td>Las Vegas</td>\n",
       "      <td>3.636364</td>\n",
       "      <td>HxqqNenaxndZUSAw2evsUg</td>\n",
       "      <td>3.833333</td>\n",
       "    </tr>\n",
       "    <tr>\n",
       "      <th>4</th>\n",
       "      <td>Q4Qfu-3vYtL1LRm2X1b0Gg</td>\n",
       "      <td>Cni2l-VKG_pdospJ6xliXQ</td>\n",
       "      <td>Burger Bar</td>\n",
       "      <td>111</td>\n",
       "      <td>4.0</td>\n",
       "      <td>Albert</td>\n",
       "      <td>11</td>\n",
       "      <td>3</td>\n",
       "      <td>Las Vegas</td>\n",
       "      <td>3.636364</td>\n",
       "      <td>TMeS5fNPD53UmpL-szxdtQ</td>\n",
       "      <td>3.729730</td>\n",
       "    </tr>\n",
       "    <tr>\n",
       "      <th>5</th>\n",
       "      <td>Q4Qfu-3vYtL1LRm2X1b0Gg</td>\n",
       "      <td>U-zsJM-VN89i3PbaIbKmJw</td>\n",
       "      <td>The Pub at Monte Carlo</td>\n",
       "      <td>31</td>\n",
       "      <td>3.0</td>\n",
       "      <td>Albert</td>\n",
       "      <td>11</td>\n",
       "      <td>3</td>\n",
       "      <td>Las Vegas</td>\n",
       "      <td>3.636364</td>\n",
       "      <td>D47AkgTdvbQi3pYSgE9aeg</td>\n",
       "      <td>3.258065</td>\n",
       "    </tr>\n",
       "    <tr>\n",
       "      <th>6</th>\n",
       "      <td>Q4Qfu-3vYtL1LRm2X1b0Gg</td>\n",
       "      <td>VR8QvH2g-jEG5EfMzA_G9w</td>\n",
       "      <td>Nine Fine Irishmen</td>\n",
       "      <td>34</td>\n",
       "      <td>4.0</td>\n",
       "      <td>Albert</td>\n",
       "      <td>11</td>\n",
       "      <td>4</td>\n",
       "      <td>Las Vegas</td>\n",
       "      <td>3.636364</td>\n",
       "      <td>2XEG4jNajPU4lxKh_eVafw</td>\n",
       "      <td>3.705882</td>\n",
       "    </tr>\n",
       "    <tr>\n",
       "      <th>7</th>\n",
       "      <td>Q4Qfu-3vYtL1LRm2X1b0Gg</td>\n",
       "      <td>gTlDDzDEHyDQ6iwjNhpI6A</td>\n",
       "      <td>Mount Everest India's Cuisine</td>\n",
       "      <td>63</td>\n",
       "      <td>4.5</td>\n",
       "      <td>Albert</td>\n",
       "      <td>11</td>\n",
       "      <td>4</td>\n",
       "      <td>Las Vegas</td>\n",
       "      <td>3.636364</td>\n",
       "      <td>VVJwAeBHMLQ6V4Wo-LD_9g</td>\n",
       "      <td>4.000000</td>\n",
       "    </tr>\n",
       "    <tr>\n",
       "      <th>8</th>\n",
       "      <td>Q4Qfu-3vYtL1LRm2X1b0Gg</td>\n",
       "      <td>g62SlImzhs6_1t-knPjd8w</td>\n",
       "      <td>Red Square Restaurant &amp; Vodka Lounge</td>\n",
       "      <td>22</td>\n",
       "      <td>4.0</td>\n",
       "      <td>Albert</td>\n",
       "      <td>11</td>\n",
       "      <td>3</td>\n",
       "      <td>Las Vegas</td>\n",
       "      <td>3.636364</td>\n",
       "      <td>e9x19_IrUKjyT3-6uXsLOA</td>\n",
       "      <td>3.454545</td>\n",
       "    </tr>\n",
       "    <tr>\n",
       "      <th>9</th>\n",
       "      <td>Q4Qfu-3vYtL1LRm2X1b0Gg</td>\n",
       "      <td>YZGSNhgTS6YeyUYoivD-Ww</td>\n",
       "      <td>Triple 7 Restaurant &amp; Microbrewery</td>\n",
       "      <td>43</td>\n",
       "      <td>3.5</td>\n",
       "      <td>Albert</td>\n",
       "      <td>11</td>\n",
       "      <td>4</td>\n",
       "      <td>Las Vegas</td>\n",
       "      <td>3.636364</td>\n",
       "      <td>jiU5PUr2eIQSO9qgYP7DzA</td>\n",
       "      <td>3.744186</td>\n",
       "    </tr>\n",
       "    <tr>\n",
       "      <th>10</th>\n",
       "      <td>Q4Qfu-3vYtL1LRm2X1b0Gg</td>\n",
       "      <td>g8OnV26ywJlZpezdBnOWUQ</td>\n",
       "      <td>Hash House A Go Go</td>\n",
       "      <td>132</td>\n",
       "      <td>4.0</td>\n",
       "      <td>Albert</td>\n",
       "      <td>11</td>\n",
       "      <td>3</td>\n",
       "      <td>Las Vegas</td>\n",
       "      <td>3.636364</td>\n",
       "      <td>MkR9TaLMU8VUaxTGtMgaYw</td>\n",
       "      <td>3.484848</td>\n",
       "    </tr>\n",
       "    <tr>\n",
       "      <th>11</th>\n",
       "      <td>QJI9OSEn6ujRCtrX06vs1w</td>\n",
       "      <td>xkVMIk_Vqh17f48ZQ_6b0w</td>\n",
       "      <td>Tom Colicchio's Craftsteak</td>\n",
       "      <td>50</td>\n",
       "      <td>4.0</td>\n",
       "      <td>J</td>\n",
       "      <td>72</td>\n",
       "      <td>3</td>\n",
       "      <td>Las Vegas</td>\n",
       "      <td>3.819444</td>\n",
       "      <td>GZ4Q7HXe_4y4k5zw0Sekow</td>\n",
       "      <td>4.160000</td>\n",
       "    </tr>\n",
       "    <tr>\n",
       "      <th>12</th>\n",
       "      <td>QJI9OSEn6ujRCtrX06vs1w</td>\n",
       "      <td>4JNXUYY8wbaaDmk3BPzlWw</td>\n",
       "      <td>Mon Ami Gabi</td>\n",
       "      <td>169</td>\n",
       "      <td>4.0</td>\n",
       "      <td>J</td>\n",
       "      <td>72</td>\n",
       "      <td>4</td>\n",
       "      <td>Las Vegas</td>\n",
       "      <td>3.819444</td>\n",
       "      <td>lyhnDk8VhI0o_VupKND7dA</td>\n",
       "      <td>3.946746</td>\n",
       "    </tr>\n",
       "    <tr>\n",
       "      <th>13</th>\n",
       "      <td>QJI9OSEn6ujRCtrX06vs1w</td>\n",
       "      <td>wpnLPAnkMEb1NpC3xiD_qg</td>\n",
       "      <td>Aloha Specialties</td>\n",
       "      <td>31</td>\n",
       "      <td>4.0</td>\n",
       "      <td>J</td>\n",
       "      <td>72</td>\n",
       "      <td>4</td>\n",
       "      <td>Las Vegas</td>\n",
       "      <td>3.819444</td>\n",
       "      <td>6sIfNTUZ340YNu-oy_ho9g</td>\n",
       "      <td>3.967742</td>\n",
       "    </tr>\n",
       "    <tr>\n",
       "      <th>14</th>\n",
       "      <td>QJI9OSEn6ujRCtrX06vs1w</td>\n",
       "      <td>CiYLq33nAyghFkUR15pP-Q</td>\n",
       "      <td>TACOS EL GORDO</td>\n",
       "      <td>85</td>\n",
       "      <td>4.5</td>\n",
       "      <td>J</td>\n",
       "      <td>72</td>\n",
       "      <td>4</td>\n",
       "      <td>Las Vegas</td>\n",
       "      <td>3.819444</td>\n",
       "      <td>2Y1V2SBj0jFiKgFAzFCA3Q</td>\n",
       "      <td>4.352941</td>\n",
       "    </tr>\n",
       "    <tr>\n",
       "      <th>15</th>\n",
       "      <td>QJI9OSEn6ujRCtrX06vs1w</td>\n",
       "      <td>hIUKufhwR6Ifn7bi0-phLA</td>\n",
       "      <td>Baguette Cafe</td>\n",
       "      <td>102</td>\n",
       "      <td>4.5</td>\n",
       "      <td>J</td>\n",
       "      <td>72</td>\n",
       "      <td>4</td>\n",
       "      <td>Las Vegas</td>\n",
       "      <td>3.819444</td>\n",
       "      <td>LFFK2Gfw3ro7rERvXXdAng</td>\n",
       "      <td>4.500000</td>\n",
       "    </tr>\n",
       "    <tr>\n",
       "      <th>16</th>\n",
       "      <td>QJI9OSEn6ujRCtrX06vs1w</td>\n",
       "      <td>vl2IZrNJEA8npSjqXbdwxw</td>\n",
       "      <td>BabyStacks Cafe</td>\n",
       "      <td>97</td>\n",
       "      <td>4.0</td>\n",
       "      <td>J</td>\n",
       "      <td>72</td>\n",
       "      <td>4</td>\n",
       "      <td>Las Vegas</td>\n",
       "      <td>3.819444</td>\n",
       "      <td>OwZtCTjDKkKZIC08Ao7bLA</td>\n",
       "      <td>4.010309</td>\n",
       "    </tr>\n",
       "    <tr>\n",
       "      <th>17</th>\n",
       "      <td>QJI9OSEn6ujRCtrX06vs1w</td>\n",
       "      <td>R6jpwPBe9edy0P64uyaLKA</td>\n",
       "      <td>I Love Burgers</td>\n",
       "      <td>19</td>\n",
       "      <td>3.0</td>\n",
       "      <td>J</td>\n",
       "      <td>72</td>\n",
       "      <td>3</td>\n",
       "      <td>Las Vegas</td>\n",
       "      <td>3.819444</td>\n",
       "      <td>D5TY-q4EQVCpcNx9Qel0Yg</td>\n",
       "      <td>3.473684</td>\n",
       "    </tr>\n",
       "    <tr>\n",
       "      <th>18</th>\n",
       "      <td>QJI9OSEn6ujRCtrX06vs1w</td>\n",
       "      <td>qmIHO-6T_KEfPC9jyGDamQ</td>\n",
       "      <td>Jean Georges Steakhouse</td>\n",
       "      <td>27</td>\n",
       "      <td>3.5</td>\n",
       "      <td>J</td>\n",
       "      <td>72</td>\n",
       "      <td>5</td>\n",
       "      <td>Las Vegas</td>\n",
       "      <td>3.819444</td>\n",
       "      <td>GeZelj0hgwsv6aSEsZtK4w</td>\n",
       "      <td>4.074074</td>\n",
       "    </tr>\n",
       "    <tr>\n",
       "      <th>19</th>\n",
       "      <td>QJI9OSEn6ujRCtrX06vs1w</td>\n",
       "      <td>y8d90Pt16Nip-B5UXWBP-w</td>\n",
       "      <td>Yard House Red Rock Resort</td>\n",
       "      <td>84</td>\n",
       "      <td>4.0</td>\n",
       "      <td>J</td>\n",
       "      <td>72</td>\n",
       "      <td>3</td>\n",
       "      <td>Las Vegas</td>\n",
       "      <td>3.819444</td>\n",
       "      <td>HpY4ZWSqZ1umELkcxk2usA</td>\n",
       "      <td>3.642857</td>\n",
       "    </tr>\n",
       "    <tr>\n",
       "      <th>20</th>\n",
       "      <td>QJI9OSEn6ujRCtrX06vs1w</td>\n",
       "      <td>FLMxWQO-ckCQmGZhU9OQgw</td>\n",
       "      <td>Carnival World Buffet</td>\n",
       "      <td>59</td>\n",
       "      <td>3.5</td>\n",
       "      <td>J</td>\n",
       "      <td>72</td>\n",
       "      <td>5</td>\n",
       "      <td>Las Vegas</td>\n",
       "      <td>3.819444</td>\n",
       "      <td>8xW8Mr61rcZ9SsJyG8uK_w</td>\n",
       "      <td>3.271186</td>\n",
       "    </tr>\n",
       "    <tr>\n",
       "      <th>21</th>\n",
       "      <td>QJI9OSEn6ujRCtrX06vs1w</td>\n",
       "      <td>makqSKZaz1aUipoWBW0BsA</td>\n",
       "      <td>The Westin Las Vegas Hotel, Casino &amp; Spa</td>\n",
       "      <td>8</td>\n",
       "      <td>3.0</td>\n",
       "      <td>J</td>\n",
       "      <td>72</td>\n",
       "      <td>3</td>\n",
       "      <td>Las Vegas</td>\n",
       "      <td>3.819444</td>\n",
       "      <td>6QdbZlGdhxA3Oto3nkdE8g</td>\n",
       "      <td>2.875000</td>\n",
       "    </tr>\n",
       "    <tr>\n",
       "      <th>22</th>\n",
       "      <td>QJI9OSEn6ujRCtrX06vs1w</td>\n",
       "      <td>DESv2ys6SjBKA4SyDtJvxw</td>\n",
       "      <td>Ferraro's Italian Restaurant &amp; Wine Bar</td>\n",
       "      <td>54</td>\n",
       "      <td>4.0</td>\n",
       "      <td>J</td>\n",
       "      <td>72</td>\n",
       "      <td>5</td>\n",
       "      <td>Las Vegas</td>\n",
       "      <td>3.819444</td>\n",
       "      <td>7K_YQlsayNXBuTcV6p7i2w</td>\n",
       "      <td>3.796296</td>\n",
       "    </tr>\n",
       "    <tr>\n",
       "      <th>23</th>\n",
       "      <td>QJI9OSEn6ujRCtrX06vs1w</td>\n",
       "      <td>lKq4Qsz13FDcAVgp49uukQ</td>\n",
       "      <td>Slice of Vegas</td>\n",
       "      <td>25</td>\n",
       "      <td>3.5</td>\n",
       "      <td>J</td>\n",
       "      <td>72</td>\n",
       "      <td>2</td>\n",
       "      <td>Las Vegas</td>\n",
       "      <td>3.819444</td>\n",
       "      <td>JNvqzpAVqQZy-nwZ7F_Txw</td>\n",
       "      <td>3.240000</td>\n",
       "    </tr>\n",
       "    <tr>\n",
       "      <th>24</th>\n",
       "      <td>QJI9OSEn6ujRCtrX06vs1w</td>\n",
       "      <td>DYuOxkW4DtlJsTHdxdXSlg</td>\n",
       "      <td>Bahama Breeze</td>\n",
       "      <td>46</td>\n",
       "      <td>4.0</td>\n",
       "      <td>J</td>\n",
       "      <td>72</td>\n",
       "      <td>4</td>\n",
       "      <td>Las Vegas</td>\n",
       "      <td>3.819444</td>\n",
       "      <td>bwsLzvLAsWoKLEOaQqfCMQ</td>\n",
       "      <td>3.565217</td>\n",
       "    </tr>\n",
       "    <tr>\n",
       "      <th>25</th>\n",
       "      <td>QJI9OSEn6ujRCtrX06vs1w</td>\n",
       "      <td>H_FkQxifSo13B2FWjhp36g</td>\n",
       "      <td>Otto Enoteca Pizzeria</td>\n",
       "      <td>13</td>\n",
       "      <td>3.5</td>\n",
       "      <td>J</td>\n",
       "      <td>72</td>\n",
       "      <td>3</td>\n",
       "      <td>Las Vegas</td>\n",
       "      <td>3.819444</td>\n",
       "      <td>pLEAIYYuRujqoSI1uZxTMw</td>\n",
       "      <td>3.307692</td>\n",
       "    </tr>\n",
       "    <tr>\n",
       "      <th>26</th>\n",
       "      <td>QJI9OSEn6ujRCtrX06vs1w</td>\n",
       "      <td>Mh84_j7YmRrAcm0DWV4bUw</td>\n",
       "      <td>Cugino's Italian Deli &amp; Pizza</td>\n",
       "      <td>44</td>\n",
       "      <td>4.5</td>\n",
       "      <td>J</td>\n",
       "      <td>72</td>\n",
       "      <td>4</td>\n",
       "      <td>Las Vegas</td>\n",
       "      <td>3.819444</td>\n",
       "      <td>jsN24jNWEPcRxufnPk4JcA</td>\n",
       "      <td>4.136364</td>\n",
       "    </tr>\n",
       "    <tr>\n",
       "      <th>27</th>\n",
       "      <td>QJI9OSEn6ujRCtrX06vs1w</td>\n",
       "      <td>5shgJB7a-2_gdnzc0gsOtg</td>\n",
       "      <td>Firefly</td>\n",
       "      <td>84</td>\n",
       "      <td>4.5</td>\n",
       "      <td>J</td>\n",
       "      <td>72</td>\n",
       "      <td>5</td>\n",
       "      <td>Las Vegas</td>\n",
       "      <td>3.819444</td>\n",
       "      <td>i-u9F9BhJ0T8t8VqBz32lw</td>\n",
       "      <td>4.309524</td>\n",
       "    </tr>\n",
       "    <tr>\n",
       "      <th>28</th>\n",
       "      <td>QJI9OSEn6ujRCtrX06vs1w</td>\n",
       "      <td>wX1ORSDKPkA5ftE7F6UONw</td>\n",
       "      <td>Strip N Dip Chicken Strips</td>\n",
       "      <td>87</td>\n",
       "      <td>4.5</td>\n",
       "      <td>J</td>\n",
       "      <td>72</td>\n",
       "      <td>4</td>\n",
       "      <td>Las Vegas</td>\n",
       "      <td>3.819444</td>\n",
       "      <td>EbpVGdKHrmbebcn_6xQbXg</td>\n",
       "      <td>4.287356</td>\n",
       "    </tr>\n",
       "    <tr>\n",
       "      <th>29</th>\n",
       "      <td>QJI9OSEn6ujRCtrX06vs1w</td>\n",
       "      <td>Fy4t2XHIRKwMk_ocCZze0Q</td>\n",
       "      <td>ENVY The Steakhouse</td>\n",
       "      <td>22</td>\n",
       "      <td>4.0</td>\n",
       "      <td>J</td>\n",
       "      <td>72</td>\n",
       "      <td>3</td>\n",
       "      <td>Las Vegas</td>\n",
       "      <td>3.819444</td>\n",
       "      <td>IhU10RLunYuryv49S-0Q6g</td>\n",
       "      <td>3.909091</td>\n",
       "    </tr>\n",
       "    <tr>\n",
       "      <th>...</th>\n",
       "      <td>...</td>\n",
       "      <td>...</td>\n",
       "      <td>...</td>\n",
       "      <td>...</td>\n",
       "      <td>...</td>\n",
       "      <td>...</td>\n",
       "      <td>...</td>\n",
       "      <td>...</td>\n",
       "      <td>...</td>\n",
       "      <td>...</td>\n",
       "      <td>...</td>\n",
       "      <td>...</td>\n",
       "    </tr>\n",
       "    <tr>\n",
       "      <th>21927</th>\n",
       "      <td>sqJZt_Z144RWGk4bdKTpSw</td>\n",
       "      <td>g8OnV26ywJlZpezdBnOWUQ</td>\n",
       "      <td>Hash House A Go Go</td>\n",
       "      <td>132</td>\n",
       "      <td>4.0</td>\n",
       "      <td>Raymond</td>\n",
       "      <td>24</td>\n",
       "      <td>5</td>\n",
       "      <td>Las Vegas</td>\n",
       "      <td>3.625000</td>\n",
       "      <td>A2Vl4A3lIrWtCeR9TnrbAw</td>\n",
       "      <td>3.484848</td>\n",
       "    </tr>\n",
       "    <tr>\n",
       "      <th>21928</th>\n",
       "      <td>sqJZt_Z144RWGk4bdKTpSw</td>\n",
       "      <td>m5niZy68d2gTtVWz89elfA</td>\n",
       "      <td>Slidin Thru</td>\n",
       "      <td>84</td>\n",
       "      <td>4.0</td>\n",
       "      <td>Raymond</td>\n",
       "      <td>24</td>\n",
       "      <td>5</td>\n",
       "      <td>Las Vegas</td>\n",
       "      <td>3.625000</td>\n",
       "      <td>Y-_b5_Md_KV6AV6onYKH8g</td>\n",
       "      <td>4.095238</td>\n",
       "    </tr>\n",
       "    <tr>\n",
       "      <th>21929</th>\n",
       "      <td>sqJZt_Z144RWGk4bdKTpSw</td>\n",
       "      <td>PXShA3JZMXr2mEH3on5clw</td>\n",
       "      <td>Egg Works</td>\n",
       "      <td>48</td>\n",
       "      <td>4.5</td>\n",
       "      <td>Raymond</td>\n",
       "      <td>24</td>\n",
       "      <td>4</td>\n",
       "      <td>Las Vegas</td>\n",
       "      <td>3.625000</td>\n",
       "      <td>4-nY8PFgBmnRjypM5i2vTg</td>\n",
       "      <td>3.875000</td>\n",
       "    </tr>\n",
       "    <tr>\n",
       "      <th>21930</th>\n",
       "      <td>sqJZt_Z144RWGk4bdKTpSw</td>\n",
       "      <td>8K3CRM4COa0SSBEvli0fJQ</td>\n",
       "      <td>Paymons Mediterranean Cafe &amp; Hookah Lounge</td>\n",
       "      <td>55</td>\n",
       "      <td>3.5</td>\n",
       "      <td>Raymond</td>\n",
       "      <td>24</td>\n",
       "      <td>4</td>\n",
       "      <td>Las Vegas</td>\n",
       "      <td>3.625000</td>\n",
       "      <td>D_Sna1vZ9VD5SFJ0EkFckA</td>\n",
       "      <td>3.581818</td>\n",
       "    </tr>\n",
       "    <tr>\n",
       "      <th>21931</th>\n",
       "      <td>sqJZt_Z144RWGk4bdKTpSw</td>\n",
       "      <td>Xspg78dOvuedvuPEUwZBjw</td>\n",
       "      <td>The Beat Coffeehouse &amp; Records</td>\n",
       "      <td>50</td>\n",
       "      <td>4.0</td>\n",
       "      <td>Raymond</td>\n",
       "      <td>24</td>\n",
       "      <td>4</td>\n",
       "      <td>Las Vegas</td>\n",
       "      <td>3.625000</td>\n",
       "      <td>E0cguqms4076zAi_3JoeXg</td>\n",
       "      <td>3.580000</td>\n",
       "    </tr>\n",
       "    <tr>\n",
       "      <th>21932</th>\n",
       "      <td>sqJZt_Z144RWGk4bdKTpSw</td>\n",
       "      <td>qVO3l9Q0-KVQE7W9JL9ePw</td>\n",
       "      <td>Greenland Supermarket</td>\n",
       "      <td>63</td>\n",
       "      <td>4.0</td>\n",
       "      <td>Raymond</td>\n",
       "      <td>24</td>\n",
       "      <td>5</td>\n",
       "      <td>Las Vegas</td>\n",
       "      <td>3.625000</td>\n",
       "      <td>PJkID4Zas9mJP3brkgRx_g</td>\n",
       "      <td>4.031746</td>\n",
       "    </tr>\n",
       "    <tr>\n",
       "      <th>21933</th>\n",
       "      <td>sqJZt_Z144RWGk4bdKTpSw</td>\n",
       "      <td>8olG8J91NG_QU92WHG5QfA</td>\n",
       "      <td>Amore Taste of Chicago</td>\n",
       "      <td>55</td>\n",
       "      <td>4.0</td>\n",
       "      <td>Raymond</td>\n",
       "      <td>24</td>\n",
       "      <td>5</td>\n",
       "      <td>Las Vegas</td>\n",
       "      <td>3.625000</td>\n",
       "      <td>3lDKvxbxeA2htA-wpXd3EQ</td>\n",
       "      <td>3.781818</td>\n",
       "    </tr>\n",
       "    <tr>\n",
       "      <th>21934</th>\n",
       "      <td>sqJZt_Z144RWGk4bdKTpSw</td>\n",
       "      <td>LpGCzgAKNSpzDNEUMVVtZA</td>\n",
       "      <td>Grimaldi's - Coal Brick-Oven Pizzeria</td>\n",
       "      <td>58</td>\n",
       "      <td>4.0</td>\n",
       "      <td>Raymond</td>\n",
       "      <td>24</td>\n",
       "      <td>5</td>\n",
       "      <td>Las Vegas</td>\n",
       "      <td>3.625000</td>\n",
       "      <td>QtF8x_EakmVfzwHbokLDFA</td>\n",
       "      <td>3.982759</td>\n",
       "    </tr>\n",
       "    <tr>\n",
       "      <th>21935</th>\n",
       "      <td>3l5lrs0_voc3cZz_UiLeZA</td>\n",
       "      <td>sNVGdeOPeitJ3OWUQBINzQ</td>\n",
       "      <td>BabyStacks Cafe</td>\n",
       "      <td>96</td>\n",
       "      <td>4.0</td>\n",
       "      <td>Christine</td>\n",
       "      <td>22</td>\n",
       "      <td>3</td>\n",
       "      <td>Las Vegas</td>\n",
       "      <td>3.272727</td>\n",
       "      <td>MVXS15es6mO8i9Dr6qK11w</td>\n",
       "      <td>3.906250</td>\n",
       "    </tr>\n",
       "    <tr>\n",
       "      <th>21936</th>\n",
       "      <td>3l5lrs0_voc3cZz_UiLeZA</td>\n",
       "      <td>1ZnVfS-qP19upP_fwOhZsA</td>\n",
       "      <td>Big Wong Restaurant</td>\n",
       "      <td>79</td>\n",
       "      <td>4.0</td>\n",
       "      <td>Christine</td>\n",
       "      <td>22</td>\n",
       "      <td>4</td>\n",
       "      <td>Las Vegas</td>\n",
       "      <td>3.272727</td>\n",
       "      <td>nyxlg1P7Tl_IW43WWEhE9w</td>\n",
       "      <td>3.924051</td>\n",
       "    </tr>\n",
       "    <tr>\n",
       "      <th>21937</th>\n",
       "      <td>3l5lrs0_voc3cZz_UiLeZA</td>\n",
       "      <td>xEH00X_VoRepWKXQrragmw</td>\n",
       "      <td>MOzen Bistro</td>\n",
       "      <td>30</td>\n",
       "      <td>4.0</td>\n",
       "      <td>Christine</td>\n",
       "      <td>22</td>\n",
       "      <td>4</td>\n",
       "      <td>Las Vegas</td>\n",
       "      <td>3.272727</td>\n",
       "      <td>lhRNbu_KHSy-EXxxstsWOQ</td>\n",
       "      <td>4.166667</td>\n",
       "    </tr>\n",
       "    <tr>\n",
       "      <th>21938</th>\n",
       "      <td>3l5lrs0_voc3cZz_UiLeZA</td>\n",
       "      <td>zcScEL0WEdFkROcnz5379g</td>\n",
       "      <td>The Boiling Crab</td>\n",
       "      <td>79</td>\n",
       "      <td>4.0</td>\n",
       "      <td>Christine</td>\n",
       "      <td>22</td>\n",
       "      <td>4</td>\n",
       "      <td>Las Vegas</td>\n",
       "      <td>3.272727</td>\n",
       "      <td>NEnT48qHogzrj8vhp5lv9A</td>\n",
       "      <td>4.037975</td>\n",
       "    </tr>\n",
       "    <tr>\n",
       "      <th>21939</th>\n",
       "      <td>3l5lrs0_voc3cZz_UiLeZA</td>\n",
       "      <td>rq5dgoksPHkJwJNQKlGQ7w</td>\n",
       "      <td>Sambalatte Torrefazione</td>\n",
       "      <td>92</td>\n",
       "      <td>4.0</td>\n",
       "      <td>Christine</td>\n",
       "      <td>22</td>\n",
       "      <td>4</td>\n",
       "      <td>Las Vegas</td>\n",
       "      <td>3.272727</td>\n",
       "      <td>M4sgKkqsMgSjVjTPwKdJxQ</td>\n",
       "      <td>4.076087</td>\n",
       "    </tr>\n",
       "    <tr>\n",
       "      <th>21940</th>\n",
       "      <td>3l5lrs0_voc3cZz_UiLeZA</td>\n",
       "      <td>IhNASEZ3XnBHmuuVnWdIwA</td>\n",
       "      <td>Brew Tea Bar</td>\n",
       "      <td>59</td>\n",
       "      <td>5.0</td>\n",
       "      <td>Christine</td>\n",
       "      <td>22</td>\n",
       "      <td>5</td>\n",
       "      <td>Las Vegas</td>\n",
       "      <td>3.272727</td>\n",
       "      <td>kjyh8h7LzRK1EyqYN-WrtA</td>\n",
       "      <td>4.779661</td>\n",
       "    </tr>\n",
       "    <tr>\n",
       "      <th>21941</th>\n",
       "      <td>3l5lrs0_voc3cZz_UiLeZA</td>\n",
       "      <td>ZibmYdOPKLlqDM9oR6xzOA</td>\n",
       "      <td>Bachi Burger</td>\n",
       "      <td>93</td>\n",
       "      <td>4.0</td>\n",
       "      <td>Christine</td>\n",
       "      <td>22</td>\n",
       "      <td>3</td>\n",
       "      <td>Las Vegas</td>\n",
       "      <td>3.272727</td>\n",
       "      <td>crW-33beBKbsk_I1sJgiZQ</td>\n",
       "      <td>4.075269</td>\n",
       "    </tr>\n",
       "    <tr>\n",
       "      <th>21942</th>\n",
       "      <td>3l5lrs0_voc3cZz_UiLeZA</td>\n",
       "      <td>3GEEy7RP6e4bT4LAiWFMFQ</td>\n",
       "      <td>Pizza Rock</td>\n",
       "      <td>113</td>\n",
       "      <td>4.0</td>\n",
       "      <td>Christine</td>\n",
       "      <td>22</td>\n",
       "      <td>3</td>\n",
       "      <td>Las Vegas</td>\n",
       "      <td>3.272727</td>\n",
       "      <td>19hB0eMu92j7oVS7CHod4g</td>\n",
       "      <td>3.973451</td>\n",
       "    </tr>\n",
       "    <tr>\n",
       "      <th>21943</th>\n",
       "      <td>3l5lrs0_voc3cZz_UiLeZA</td>\n",
       "      <td>0w3BdEOxvwKTpypwbN5kiQ</td>\n",
       "      <td>Tofu Hut</td>\n",
       "      <td>66</td>\n",
       "      <td>3.5</td>\n",
       "      <td>Christine</td>\n",
       "      <td>22</td>\n",
       "      <td>3</td>\n",
       "      <td>Las Vegas</td>\n",
       "      <td>3.272727</td>\n",
       "      <td>OvzBTETj02N5LnhK92BfUw</td>\n",
       "      <td>3.454545</td>\n",
       "    </tr>\n",
       "    <tr>\n",
       "      <th>21944</th>\n",
       "      <td>3l5lrs0_voc3cZz_UiLeZA</td>\n",
       "      <td>GI-CAiZ_Gg3h21PwrANB4Q</td>\n",
       "      <td>Mastro's Ocean Club</td>\n",
       "      <td>52</td>\n",
       "      <td>4.5</td>\n",
       "      <td>Christine</td>\n",
       "      <td>22</td>\n",
       "      <td>4</td>\n",
       "      <td>Las Vegas</td>\n",
       "      <td>3.272727</td>\n",
       "      <td>omgEgMNYwXXv2QwRv27Rhw</td>\n",
       "      <td>4.365385</td>\n",
       "    </tr>\n",
       "    <tr>\n",
       "      <th>21945</th>\n",
       "      <td>3l5lrs0_voc3cZz_UiLeZA</td>\n",
       "      <td>HoKXKkW8oC9q8XnjKLulRw</td>\n",
       "      <td>Comme Ça</td>\n",
       "      <td>66</td>\n",
       "      <td>3.5</td>\n",
       "      <td>Christine</td>\n",
       "      <td>22</td>\n",
       "      <td>3</td>\n",
       "      <td>Las Vegas</td>\n",
       "      <td>3.272727</td>\n",
       "      <td>ZuVxon0cM2N4EkpbyIXE0g</td>\n",
       "      <td>3.803030</td>\n",
       "    </tr>\n",
       "    <tr>\n",
       "      <th>21946</th>\n",
       "      <td>3l5lrs0_voc3cZz_UiLeZA</td>\n",
       "      <td>igHYkXZMLAc9UdV5VnR_AA</td>\n",
       "      <td>Echo &amp; Rig</td>\n",
       "      <td>113</td>\n",
       "      <td>4.5</td>\n",
       "      <td>Christine</td>\n",
       "      <td>22</td>\n",
       "      <td>3</td>\n",
       "      <td>Las Vegas</td>\n",
       "      <td>3.272727</td>\n",
       "      <td>8PAcSi7Wbbtm9dI7twn7Dg</td>\n",
       "      <td>4.097345</td>\n",
       "    </tr>\n",
       "    <tr>\n",
       "      <th>21947</th>\n",
       "      <td>3l5lrs0_voc3cZz_UiLeZA</td>\n",
       "      <td>a192hdM0_UVCYLwPJv1Qwg</td>\n",
       "      <td>Casa Don Juan  - Downtown</td>\n",
       "      <td>52</td>\n",
       "      <td>4.0</td>\n",
       "      <td>Christine</td>\n",
       "      <td>22</td>\n",
       "      <td>3</td>\n",
       "      <td>Las Vegas</td>\n",
       "      <td>3.272727</td>\n",
       "      <td>2w8uQJYMyHHgxdp5GSl-BA</td>\n",
       "      <td>3.211538</td>\n",
       "    </tr>\n",
       "    <tr>\n",
       "      <th>21948</th>\n",
       "      <td>3l5lrs0_voc3cZz_UiLeZA</td>\n",
       "      <td>K7lWdNUhCbcnEvI0NhGewg</td>\n",
       "      <td>Wicked Spoon</td>\n",
       "      <td>133</td>\n",
       "      <td>3.5</td>\n",
       "      <td>Christine</td>\n",
       "      <td>22</td>\n",
       "      <td>2</td>\n",
       "      <td>Las Vegas</td>\n",
       "      <td>3.272727</td>\n",
       "      <td>Dj4kZLU3PwjR97-hvfXnzg</td>\n",
       "      <td>3.646617</td>\n",
       "    </tr>\n",
       "    <tr>\n",
       "      <th>21949</th>\n",
       "      <td>3l5lrs0_voc3cZz_UiLeZA</td>\n",
       "      <td>VrGI7_nRjXpn0415S3coGQ</td>\n",
       "      <td>Thai Style Noodle House</td>\n",
       "      <td>59</td>\n",
       "      <td>4.0</td>\n",
       "      <td>Christine</td>\n",
       "      <td>22</td>\n",
       "      <td>4</td>\n",
       "      <td>Las Vegas</td>\n",
       "      <td>3.272727</td>\n",
       "      <td>o7AgiuAXznopIpd720uofA</td>\n",
       "      <td>3.915254</td>\n",
       "    </tr>\n",
       "    <tr>\n",
       "      <th>21950</th>\n",
       "      <td>3l5lrs0_voc3cZz_UiLeZA</td>\n",
       "      <td>sOYsxYYFl03PhHmz_rBDZQ</td>\n",
       "      <td>The Sparklings</td>\n",
       "      <td>58</td>\n",
       "      <td>4.0</td>\n",
       "      <td>Christine</td>\n",
       "      <td>22</td>\n",
       "      <td>3</td>\n",
       "      <td>Las Vegas</td>\n",
       "      <td>3.272727</td>\n",
       "      <td>C6n0HAZQaH38btOZSXvWgw</td>\n",
       "      <td>3.775862</td>\n",
       "    </tr>\n",
       "    <tr>\n",
       "      <th>21951</th>\n",
       "      <td>3l5lrs0_voc3cZz_UiLeZA</td>\n",
       "      <td>Os1n1_idfw9vv9kwULGJnQ</td>\n",
       "      <td>Island Style</td>\n",
       "      <td>66</td>\n",
       "      <td>4.5</td>\n",
       "      <td>Christine</td>\n",
       "      <td>22</td>\n",
       "      <td>3</td>\n",
       "      <td>Las Vegas</td>\n",
       "      <td>3.272727</td>\n",
       "      <td>gcOfktUFFgo50x5sSvmVPQ</td>\n",
       "      <td>4.242424</td>\n",
       "    </tr>\n",
       "    <tr>\n",
       "      <th>21952</th>\n",
       "      <td>3l5lrs0_voc3cZz_UiLeZA</td>\n",
       "      <td>OJdufUU3hVabgviIBHksYw</td>\n",
       "      <td>Aloha Kitchen &amp; Bar</td>\n",
       "      <td>39</td>\n",
       "      <td>3.5</td>\n",
       "      <td>Christine</td>\n",
       "      <td>22</td>\n",
       "      <td>1</td>\n",
       "      <td>Las Vegas</td>\n",
       "      <td>3.272727</td>\n",
       "      <td>l3bx6zO98oUHrI27gDl29w</td>\n",
       "      <td>3.410256</td>\n",
       "    </tr>\n",
       "    <tr>\n",
       "      <th>21953</th>\n",
       "      <td>3l5lrs0_voc3cZz_UiLeZA</td>\n",
       "      <td>n_K2xa_nqzUqaUJa0S_5tQ</td>\n",
       "      <td>Tea Station</td>\n",
       "      <td>80</td>\n",
       "      <td>3.0</td>\n",
       "      <td>Christine</td>\n",
       "      <td>22</td>\n",
       "      <td>4</td>\n",
       "      <td>Las Vegas</td>\n",
       "      <td>3.272727</td>\n",
       "      <td>CbNN4b4cGOC0YHzOBJdrWQ</td>\n",
       "      <td>3.237500</td>\n",
       "    </tr>\n",
       "    <tr>\n",
       "      <th>21954</th>\n",
       "      <td>3l5lrs0_voc3cZz_UiLeZA</td>\n",
       "      <td>S1N5-ZXwR4fUIPs6dLnBYQ</td>\n",
       "      <td>Hue Thai</td>\n",
       "      <td>47</td>\n",
       "      <td>3.5</td>\n",
       "      <td>Christine</td>\n",
       "      <td>22</td>\n",
       "      <td>4</td>\n",
       "      <td>Las Vegas</td>\n",
       "      <td>3.272727</td>\n",
       "      <td>iLYnIXtEdfpKWAGGeaFL5g</td>\n",
       "      <td>3.170213</td>\n",
       "    </tr>\n",
       "    <tr>\n",
       "      <th>21955</th>\n",
       "      <td>3l5lrs0_voc3cZz_UiLeZA</td>\n",
       "      <td>7sPNbCx7vGAaH7SbNPZ6oA</td>\n",
       "      <td>Bachi Burger</td>\n",
       "      <td>147</td>\n",
       "      <td>4.0</td>\n",
       "      <td>Christine</td>\n",
       "      <td>22</td>\n",
       "      <td>4</td>\n",
       "      <td>Las Vegas</td>\n",
       "      <td>3.272727</td>\n",
       "      <td>KflGYXZCAOaFJiNfVBBU1A</td>\n",
       "      <td>4.095238</td>\n",
       "    </tr>\n",
       "    <tr>\n",
       "      <th>21956</th>\n",
       "      <td>3l5lrs0_voc3cZz_UiLeZA</td>\n",
       "      <td>riFzCvp77DMKDX-5GoTpqA</td>\n",
       "      <td>Steak 'n Shake</td>\n",
       "      <td>78</td>\n",
       "      <td>3.5</td>\n",
       "      <td>Christine</td>\n",
       "      <td>22</td>\n",
       "      <td>1</td>\n",
       "      <td>Las Vegas</td>\n",
       "      <td>3.272727</td>\n",
       "      <td>rwTKTsuUcn3TIkuwnyppWw</td>\n",
       "      <td>3.576923</td>\n",
       "    </tr>\n",
       "  </tbody>\n",
       "</table>\n",
       "<p>21957 rows × 12 columns</p>\n",
       "</div>"
      ],
      "text/plain": [
       "                      user_id             business_id  \\\n",
       "0      Q4Qfu-3vYtL1LRm2X1b0Gg  UV2Jt8slktGu14gLZeNCjA   \n",
       "1      Q4Qfu-3vYtL1LRm2X1b0Gg  cJWbbvGmyhFiBpG_5hf5LA   \n",
       "2      Q4Qfu-3vYtL1LRm2X1b0Gg  dn_ipqbm7_jUz5X3rDez_A   \n",
       "3      Q4Qfu-3vYtL1LRm2X1b0Gg  Cr4ipI-tr-R8Q0NilkWNkA   \n",
       "4      Q4Qfu-3vYtL1LRm2X1b0Gg  Cni2l-VKG_pdospJ6xliXQ   \n",
       "5      Q4Qfu-3vYtL1LRm2X1b0Gg  U-zsJM-VN89i3PbaIbKmJw   \n",
       "6      Q4Qfu-3vYtL1LRm2X1b0Gg  VR8QvH2g-jEG5EfMzA_G9w   \n",
       "7      Q4Qfu-3vYtL1LRm2X1b0Gg  gTlDDzDEHyDQ6iwjNhpI6A   \n",
       "8      Q4Qfu-3vYtL1LRm2X1b0Gg  g62SlImzhs6_1t-knPjd8w   \n",
       "9      Q4Qfu-3vYtL1LRm2X1b0Gg  YZGSNhgTS6YeyUYoivD-Ww   \n",
       "10     Q4Qfu-3vYtL1LRm2X1b0Gg  g8OnV26ywJlZpezdBnOWUQ   \n",
       "11     QJI9OSEn6ujRCtrX06vs1w  xkVMIk_Vqh17f48ZQ_6b0w   \n",
       "12     QJI9OSEn6ujRCtrX06vs1w  4JNXUYY8wbaaDmk3BPzlWw   \n",
       "13     QJI9OSEn6ujRCtrX06vs1w  wpnLPAnkMEb1NpC3xiD_qg   \n",
       "14     QJI9OSEn6ujRCtrX06vs1w  CiYLq33nAyghFkUR15pP-Q   \n",
       "15     QJI9OSEn6ujRCtrX06vs1w  hIUKufhwR6Ifn7bi0-phLA   \n",
       "16     QJI9OSEn6ujRCtrX06vs1w  vl2IZrNJEA8npSjqXbdwxw   \n",
       "17     QJI9OSEn6ujRCtrX06vs1w  R6jpwPBe9edy0P64uyaLKA   \n",
       "18     QJI9OSEn6ujRCtrX06vs1w  qmIHO-6T_KEfPC9jyGDamQ   \n",
       "19     QJI9OSEn6ujRCtrX06vs1w  y8d90Pt16Nip-B5UXWBP-w   \n",
       "20     QJI9OSEn6ujRCtrX06vs1w  FLMxWQO-ckCQmGZhU9OQgw   \n",
       "21     QJI9OSEn6ujRCtrX06vs1w  makqSKZaz1aUipoWBW0BsA   \n",
       "22     QJI9OSEn6ujRCtrX06vs1w  DESv2ys6SjBKA4SyDtJvxw   \n",
       "23     QJI9OSEn6ujRCtrX06vs1w  lKq4Qsz13FDcAVgp49uukQ   \n",
       "24     QJI9OSEn6ujRCtrX06vs1w  DYuOxkW4DtlJsTHdxdXSlg   \n",
       "25     QJI9OSEn6ujRCtrX06vs1w  H_FkQxifSo13B2FWjhp36g   \n",
       "26     QJI9OSEn6ujRCtrX06vs1w  Mh84_j7YmRrAcm0DWV4bUw   \n",
       "27     QJI9OSEn6ujRCtrX06vs1w  5shgJB7a-2_gdnzc0gsOtg   \n",
       "28     QJI9OSEn6ujRCtrX06vs1w  wX1ORSDKPkA5ftE7F6UONw   \n",
       "29     QJI9OSEn6ujRCtrX06vs1w  Fy4t2XHIRKwMk_ocCZze0Q   \n",
       "...                       ...                     ...   \n",
       "21927  sqJZt_Z144RWGk4bdKTpSw  g8OnV26ywJlZpezdBnOWUQ   \n",
       "21928  sqJZt_Z144RWGk4bdKTpSw  m5niZy68d2gTtVWz89elfA   \n",
       "21929  sqJZt_Z144RWGk4bdKTpSw  PXShA3JZMXr2mEH3on5clw   \n",
       "21930  sqJZt_Z144RWGk4bdKTpSw  8K3CRM4COa0SSBEvli0fJQ   \n",
       "21931  sqJZt_Z144RWGk4bdKTpSw  Xspg78dOvuedvuPEUwZBjw   \n",
       "21932  sqJZt_Z144RWGk4bdKTpSw  qVO3l9Q0-KVQE7W9JL9ePw   \n",
       "21933  sqJZt_Z144RWGk4bdKTpSw  8olG8J91NG_QU92WHG5QfA   \n",
       "21934  sqJZt_Z144RWGk4bdKTpSw  LpGCzgAKNSpzDNEUMVVtZA   \n",
       "21935  3l5lrs0_voc3cZz_UiLeZA  sNVGdeOPeitJ3OWUQBINzQ   \n",
       "21936  3l5lrs0_voc3cZz_UiLeZA  1ZnVfS-qP19upP_fwOhZsA   \n",
       "21937  3l5lrs0_voc3cZz_UiLeZA  xEH00X_VoRepWKXQrragmw   \n",
       "21938  3l5lrs0_voc3cZz_UiLeZA  zcScEL0WEdFkROcnz5379g   \n",
       "21939  3l5lrs0_voc3cZz_UiLeZA  rq5dgoksPHkJwJNQKlGQ7w   \n",
       "21940  3l5lrs0_voc3cZz_UiLeZA  IhNASEZ3XnBHmuuVnWdIwA   \n",
       "21941  3l5lrs0_voc3cZz_UiLeZA  ZibmYdOPKLlqDM9oR6xzOA   \n",
       "21942  3l5lrs0_voc3cZz_UiLeZA  3GEEy7RP6e4bT4LAiWFMFQ   \n",
       "21943  3l5lrs0_voc3cZz_UiLeZA  0w3BdEOxvwKTpypwbN5kiQ   \n",
       "21944  3l5lrs0_voc3cZz_UiLeZA  GI-CAiZ_Gg3h21PwrANB4Q   \n",
       "21945  3l5lrs0_voc3cZz_UiLeZA  HoKXKkW8oC9q8XnjKLulRw   \n",
       "21946  3l5lrs0_voc3cZz_UiLeZA  igHYkXZMLAc9UdV5VnR_AA   \n",
       "21947  3l5lrs0_voc3cZz_UiLeZA  a192hdM0_UVCYLwPJv1Qwg   \n",
       "21948  3l5lrs0_voc3cZz_UiLeZA  K7lWdNUhCbcnEvI0NhGewg   \n",
       "21949  3l5lrs0_voc3cZz_UiLeZA  VrGI7_nRjXpn0415S3coGQ   \n",
       "21950  3l5lrs0_voc3cZz_UiLeZA  sOYsxYYFl03PhHmz_rBDZQ   \n",
       "21951  3l5lrs0_voc3cZz_UiLeZA  Os1n1_idfw9vv9kwULGJnQ   \n",
       "21952  3l5lrs0_voc3cZz_UiLeZA  OJdufUU3hVabgviIBHksYw   \n",
       "21953  3l5lrs0_voc3cZz_UiLeZA  n_K2xa_nqzUqaUJa0S_5tQ   \n",
       "21954  3l5lrs0_voc3cZz_UiLeZA  S1N5-ZXwR4fUIPs6dLnBYQ   \n",
       "21955  3l5lrs0_voc3cZz_UiLeZA  7sPNbCx7vGAaH7SbNPZ6oA   \n",
       "21956  3l5lrs0_voc3cZz_UiLeZA  riFzCvp77DMKDX-5GoTpqA   \n",
       "\n",
       "                                         biz_name  business_review_count  \\\n",
       "0                              Mint Indian Bistro                     56   \n",
       "1                           Hofbräuhaus Las Vegas                     83   \n",
       "2                             Todd English P.U.B.                     72   \n",
       "3                                             MIX                     48   \n",
       "4                                      Burger Bar                    111   \n",
       "5                          The Pub at Monte Carlo                     31   \n",
       "6                              Nine Fine Irishmen                     34   \n",
       "7                   Mount Everest India's Cuisine                     63   \n",
       "8            Red Square Restaurant & Vodka Lounge                     22   \n",
       "9              Triple 7 Restaurant & Microbrewery                     43   \n",
       "10                             Hash House A Go Go                    132   \n",
       "11                     Tom Colicchio's Craftsteak                     50   \n",
       "12                                   Mon Ami Gabi                    169   \n",
       "13                              Aloha Specialties                     31   \n",
       "14                                 TACOS EL GORDO                     85   \n",
       "15                                  Baguette Cafe                    102   \n",
       "16                                BabyStacks Cafe                     97   \n",
       "17                                 I Love Burgers                     19   \n",
       "18                        Jean Georges Steakhouse                     27   \n",
       "19                     Yard House Red Rock Resort                     84   \n",
       "20                          Carnival World Buffet                     59   \n",
       "21       The Westin Las Vegas Hotel, Casino & Spa                      8   \n",
       "22        Ferraro's Italian Restaurant & Wine Bar                     54   \n",
       "23                                 Slice of Vegas                     25   \n",
       "24                                  Bahama Breeze                     46   \n",
       "25                          Otto Enoteca Pizzeria                     13   \n",
       "26                  Cugino's Italian Deli & Pizza                     44   \n",
       "27                                        Firefly                     84   \n",
       "28                     Strip N Dip Chicken Strips                     87   \n",
       "29                            ENVY The Steakhouse                     22   \n",
       "...                                           ...                    ...   \n",
       "21927                          Hash House A Go Go                    132   \n",
       "21928                                 Slidin Thru                     84   \n",
       "21929                                   Egg Works                     48   \n",
       "21930  Paymons Mediterranean Cafe & Hookah Lounge                     55   \n",
       "21931              The Beat Coffeehouse & Records                     50   \n",
       "21932                       Greenland Supermarket                     63   \n",
       "21933                      Amore Taste of Chicago                     55   \n",
       "21934       Grimaldi's - Coal Brick-Oven Pizzeria                     58   \n",
       "21935                             BabyStacks Cafe                     96   \n",
       "21936                         Big Wong Restaurant                     79   \n",
       "21937                                MOzen Bistro                     30   \n",
       "21938                            The Boiling Crab                     79   \n",
       "21939                     Sambalatte Torrefazione                     92   \n",
       "21940                                Brew Tea Bar                     59   \n",
       "21941                                Bachi Burger                     93   \n",
       "21942                                  Pizza Rock                    113   \n",
       "21943                                    Tofu Hut                     66   \n",
       "21944                         Mastro's Ocean Club                     52   \n",
       "21945                                    Comme Ça                     66   \n",
       "21946                                  Echo & Rig                    113   \n",
       "21947                   Casa Don Juan  - Downtown                     52   \n",
       "21948                                Wicked Spoon                    133   \n",
       "21949                     Thai Style Noodle House                     59   \n",
       "21950                              The Sparklings                     58   \n",
       "21951                                Island Style                     66   \n",
       "21952                         Aloha Kitchen & Bar                     39   \n",
       "21953                                 Tea Station                     80   \n",
       "21954                                    Hue Thai                     47   \n",
       "21955                                Bachi Burger                    147   \n",
       "21956                              Steak 'n Shake                     78   \n",
       "\n",
       "       business_average  user_name  user_review_count  stars       city  \\\n",
       "0                   4.0     Albert                 11      4  Las Vegas   \n",
       "1                   3.5     Albert                 11      4  Las Vegas   \n",
       "2                   3.5     Albert                 11      3  Las Vegas   \n",
       "3                   4.0     Albert                 11      5  Las Vegas   \n",
       "4                   4.0     Albert                 11      3  Las Vegas   \n",
       "5                   3.0     Albert                 11      3  Las Vegas   \n",
       "6                   4.0     Albert                 11      4  Las Vegas   \n",
       "7                   4.5     Albert                 11      4  Las Vegas   \n",
       "8                   4.0     Albert                 11      3  Las Vegas   \n",
       "9                   3.5     Albert                 11      4  Las Vegas   \n",
       "10                  4.0     Albert                 11      3  Las Vegas   \n",
       "11                  4.0          J                 72      3  Las Vegas   \n",
       "12                  4.0          J                 72      4  Las Vegas   \n",
       "13                  4.0          J                 72      4  Las Vegas   \n",
       "14                  4.5          J                 72      4  Las Vegas   \n",
       "15                  4.5          J                 72      4  Las Vegas   \n",
       "16                  4.0          J                 72      4  Las Vegas   \n",
       "17                  3.0          J                 72      3  Las Vegas   \n",
       "18                  3.5          J                 72      5  Las Vegas   \n",
       "19                  4.0          J                 72      3  Las Vegas   \n",
       "20                  3.5          J                 72      5  Las Vegas   \n",
       "21                  3.0          J                 72      3  Las Vegas   \n",
       "22                  4.0          J                 72      5  Las Vegas   \n",
       "23                  3.5          J                 72      2  Las Vegas   \n",
       "24                  4.0          J                 72      4  Las Vegas   \n",
       "25                  3.5          J                 72      3  Las Vegas   \n",
       "26                  4.5          J                 72      4  Las Vegas   \n",
       "27                  4.5          J                 72      5  Las Vegas   \n",
       "28                  4.5          J                 72      4  Las Vegas   \n",
       "29                  4.0          J                 72      3  Las Vegas   \n",
       "...                 ...        ...                ...    ...        ...   \n",
       "21927               4.0    Raymond                 24      5  Las Vegas   \n",
       "21928               4.0    Raymond                 24      5  Las Vegas   \n",
       "21929               4.5    Raymond                 24      4  Las Vegas   \n",
       "21930               3.5    Raymond                 24      4  Las Vegas   \n",
       "21931               4.0    Raymond                 24      4  Las Vegas   \n",
       "21932               4.0    Raymond                 24      5  Las Vegas   \n",
       "21933               4.0    Raymond                 24      5  Las Vegas   \n",
       "21934               4.0    Raymond                 24      5  Las Vegas   \n",
       "21935               4.0  Christine                 22      3  Las Vegas   \n",
       "21936               4.0  Christine                 22      4  Las Vegas   \n",
       "21937               4.0  Christine                 22      4  Las Vegas   \n",
       "21938               4.0  Christine                 22      4  Las Vegas   \n",
       "21939               4.0  Christine                 22      4  Las Vegas   \n",
       "21940               5.0  Christine                 22      5  Las Vegas   \n",
       "21941               4.0  Christine                 22      3  Las Vegas   \n",
       "21942               4.0  Christine                 22      3  Las Vegas   \n",
       "21943               3.5  Christine                 22      3  Las Vegas   \n",
       "21944               4.5  Christine                 22      4  Las Vegas   \n",
       "21945               3.5  Christine                 22      3  Las Vegas   \n",
       "21946               4.5  Christine                 22      3  Las Vegas   \n",
       "21947               4.0  Christine                 22      3  Las Vegas   \n",
       "21948               3.5  Christine                 22      2  Las Vegas   \n",
       "21949               4.0  Christine                 22      4  Las Vegas   \n",
       "21950               4.0  Christine                 22      3  Las Vegas   \n",
       "21951               4.5  Christine                 22      3  Las Vegas   \n",
       "21952               3.5  Christine                 22      1  Las Vegas   \n",
       "21953               3.0  Christine                 22      4  Las Vegas   \n",
       "21954               3.5  Christine                 22      4  Las Vegas   \n",
       "21955               4.0  Christine                 22      4  Las Vegas   \n",
       "21956               3.5  Christine                 22      1  Las Vegas   \n",
       "\n",
       "       user_avg               review_id  business_avg  \n",
       "0      3.636364  RKLvEr8RoW_SbkZARXk2Vg      4.214286  \n",
       "1      3.636364  7DVWEi4St40XUHSXGCr2kg      3.554217  \n",
       "2      3.636364  0VTpaU1BCuXY7pqupbf2Wg      3.527778  \n",
       "3      3.636364  HxqqNenaxndZUSAw2evsUg      3.833333  \n",
       "4      3.636364  TMeS5fNPD53UmpL-szxdtQ      3.729730  \n",
       "5      3.636364  D47AkgTdvbQi3pYSgE9aeg      3.258065  \n",
       "6      3.636364  2XEG4jNajPU4lxKh_eVafw      3.705882  \n",
       "7      3.636364  VVJwAeBHMLQ6V4Wo-LD_9g      4.000000  \n",
       "8      3.636364  e9x19_IrUKjyT3-6uXsLOA      3.454545  \n",
       "9      3.636364  jiU5PUr2eIQSO9qgYP7DzA      3.744186  \n",
       "10     3.636364  MkR9TaLMU8VUaxTGtMgaYw      3.484848  \n",
       "11     3.819444  GZ4Q7HXe_4y4k5zw0Sekow      4.160000  \n",
       "12     3.819444  lyhnDk8VhI0o_VupKND7dA      3.946746  \n",
       "13     3.819444  6sIfNTUZ340YNu-oy_ho9g      3.967742  \n",
       "14     3.819444  2Y1V2SBj0jFiKgFAzFCA3Q      4.352941  \n",
       "15     3.819444  LFFK2Gfw3ro7rERvXXdAng      4.500000  \n",
       "16     3.819444  OwZtCTjDKkKZIC08Ao7bLA      4.010309  \n",
       "17     3.819444  D5TY-q4EQVCpcNx9Qel0Yg      3.473684  \n",
       "18     3.819444  GeZelj0hgwsv6aSEsZtK4w      4.074074  \n",
       "19     3.819444  HpY4ZWSqZ1umELkcxk2usA      3.642857  \n",
       "20     3.819444  8xW8Mr61rcZ9SsJyG8uK_w      3.271186  \n",
       "21     3.819444  6QdbZlGdhxA3Oto3nkdE8g      2.875000  \n",
       "22     3.819444  7K_YQlsayNXBuTcV6p7i2w      3.796296  \n",
       "23     3.819444  JNvqzpAVqQZy-nwZ7F_Txw      3.240000  \n",
       "24     3.819444  bwsLzvLAsWoKLEOaQqfCMQ      3.565217  \n",
       "25     3.819444  pLEAIYYuRujqoSI1uZxTMw      3.307692  \n",
       "26     3.819444  jsN24jNWEPcRxufnPk4JcA      4.136364  \n",
       "27     3.819444  i-u9F9BhJ0T8t8VqBz32lw      4.309524  \n",
       "28     3.819444  EbpVGdKHrmbebcn_6xQbXg      4.287356  \n",
       "29     3.819444  IhU10RLunYuryv49S-0Q6g      3.909091  \n",
       "...         ...                     ...           ...  \n",
       "21927  3.625000  A2Vl4A3lIrWtCeR9TnrbAw      3.484848  \n",
       "21928  3.625000  Y-_b5_Md_KV6AV6onYKH8g      4.095238  \n",
       "21929  3.625000  4-nY8PFgBmnRjypM5i2vTg      3.875000  \n",
       "21930  3.625000  D_Sna1vZ9VD5SFJ0EkFckA      3.581818  \n",
       "21931  3.625000  E0cguqms4076zAi_3JoeXg      3.580000  \n",
       "21932  3.625000  PJkID4Zas9mJP3brkgRx_g      4.031746  \n",
       "21933  3.625000  3lDKvxbxeA2htA-wpXd3EQ      3.781818  \n",
       "21934  3.625000  QtF8x_EakmVfzwHbokLDFA      3.982759  \n",
       "21935  3.272727  MVXS15es6mO8i9Dr6qK11w      3.906250  \n",
       "21936  3.272727  nyxlg1P7Tl_IW43WWEhE9w      3.924051  \n",
       "21937  3.272727  lhRNbu_KHSy-EXxxstsWOQ      4.166667  \n",
       "21938  3.272727  NEnT48qHogzrj8vhp5lv9A      4.037975  \n",
       "21939  3.272727  M4sgKkqsMgSjVjTPwKdJxQ      4.076087  \n",
       "21940  3.272727  kjyh8h7LzRK1EyqYN-WrtA      4.779661  \n",
       "21941  3.272727  crW-33beBKbsk_I1sJgiZQ      4.075269  \n",
       "21942  3.272727  19hB0eMu92j7oVS7CHod4g      3.973451  \n",
       "21943  3.272727  OvzBTETj02N5LnhK92BfUw      3.454545  \n",
       "21944  3.272727  omgEgMNYwXXv2QwRv27Rhw      4.365385  \n",
       "21945  3.272727  ZuVxon0cM2N4EkpbyIXE0g      3.803030  \n",
       "21946  3.272727  8PAcSi7Wbbtm9dI7twn7Dg      4.097345  \n",
       "21947  3.272727  2w8uQJYMyHHgxdp5GSl-BA      3.211538  \n",
       "21948  3.272727  Dj4kZLU3PwjR97-hvfXnzg      3.646617  \n",
       "21949  3.272727  o7AgiuAXznopIpd720uofA      3.915254  \n",
       "21950  3.272727  C6n0HAZQaH38btOZSXvWgw      3.775862  \n",
       "21951  3.272727  gcOfktUFFgo50x5sSvmVPQ      4.242424  \n",
       "21952  3.272727  l3bx6zO98oUHrI27gDl29w      3.410256  \n",
       "21953  3.272727  CbNN4b4cGOC0YHzOBJdrWQ      3.237500  \n",
       "21954  3.272727  iLYnIXtEdfpKWAGGeaFL5g      3.170213  \n",
       "21955  3.272727  KflGYXZCAOaFJiNfVBBU1A      4.095238  \n",
       "21956  3.272727  rwTKTsuUcn3TIkuwnyppWw      3.576923  \n",
       "\n",
       "[21957 rows x 12 columns]"
      ]
     },
     "execution_count": 63,
     "metadata": {},
     "output_type": "execute_result"
    }
   ],
   "source": [
    "smalldf.loc[smalldf['city'] == \"Las Vegas\"] #enter 2 businesses from the same city"
   ]
  },
  {
   "cell_type": "code",
   "execution_count": 64,
   "metadata": {
    "collapsed": false,
    "scrolled": true
   },
   "outputs": [
    {
     "data": {
      "text/plain": [
       "0        UV2Jt8slktGu14gLZeNCjA\n",
       "1        cJWbbvGmyhFiBpG_5hf5LA\n",
       "2        dn_ipqbm7_jUz5X3rDez_A\n",
       "3        Cr4ipI-tr-R8Q0NilkWNkA\n",
       "4        Cni2l-VKG_pdospJ6xliXQ\n",
       "5        U-zsJM-VN89i3PbaIbKmJw\n",
       "6        VR8QvH2g-jEG5EfMzA_G9w\n",
       "7        gTlDDzDEHyDQ6iwjNhpI6A\n",
       "8        g62SlImzhs6_1t-knPjd8w\n",
       "9        YZGSNhgTS6YeyUYoivD-Ww\n",
       "10       g8OnV26ywJlZpezdBnOWUQ\n",
       "11       xkVMIk_Vqh17f48ZQ_6b0w\n",
       "12       4JNXUYY8wbaaDmk3BPzlWw\n",
       "13       wpnLPAnkMEb1NpC3xiD_qg\n",
       "14       CiYLq33nAyghFkUR15pP-Q\n",
       "15       hIUKufhwR6Ifn7bi0-phLA\n",
       "16       vl2IZrNJEA8npSjqXbdwxw\n",
       "17       R6jpwPBe9edy0P64uyaLKA\n",
       "18       qmIHO-6T_KEfPC9jyGDamQ\n",
       "19       y8d90Pt16Nip-B5UXWBP-w\n",
       "20       FLMxWQO-ckCQmGZhU9OQgw\n",
       "21       makqSKZaz1aUipoWBW0BsA\n",
       "22       DESv2ys6SjBKA4SyDtJvxw\n",
       "23       lKq4Qsz13FDcAVgp49uukQ\n",
       "24       DYuOxkW4DtlJsTHdxdXSlg\n",
       "25       H_FkQxifSo13B2FWjhp36g\n",
       "26       Mh84_j7YmRrAcm0DWV4bUw\n",
       "27       5shgJB7a-2_gdnzc0gsOtg\n",
       "28       wX1ORSDKPkA5ftE7F6UONw\n",
       "29       Fy4t2XHIRKwMk_ocCZze0Q\n",
       "                  ...          \n",
       "21927    g8OnV26ywJlZpezdBnOWUQ\n",
       "21928    m5niZy68d2gTtVWz89elfA\n",
       "21929    PXShA3JZMXr2mEH3on5clw\n",
       "21930    8K3CRM4COa0SSBEvli0fJQ\n",
       "21931    Xspg78dOvuedvuPEUwZBjw\n",
       "21932    qVO3l9Q0-KVQE7W9JL9ePw\n",
       "21933    8olG8J91NG_QU92WHG5QfA\n",
       "21934    LpGCzgAKNSpzDNEUMVVtZA\n",
       "21935    sNVGdeOPeitJ3OWUQBINzQ\n",
       "21936    1ZnVfS-qP19upP_fwOhZsA\n",
       "21937    xEH00X_VoRepWKXQrragmw\n",
       "21938    zcScEL0WEdFkROcnz5379g\n",
       "21939    rq5dgoksPHkJwJNQKlGQ7w\n",
       "21940    IhNASEZ3XnBHmuuVnWdIwA\n",
       "21941    ZibmYdOPKLlqDM9oR6xzOA\n",
       "21942    3GEEy7RP6e4bT4LAiWFMFQ\n",
       "21943    0w3BdEOxvwKTpypwbN5kiQ\n",
       "21944    GI-CAiZ_Gg3h21PwrANB4Q\n",
       "21945    HoKXKkW8oC9q8XnjKLulRw\n",
       "21946    igHYkXZMLAc9UdV5VnR_AA\n",
       "21947    a192hdM0_UVCYLwPJv1Qwg\n",
       "21948    K7lWdNUhCbcnEvI0NhGewg\n",
       "21949    VrGI7_nRjXpn0415S3coGQ\n",
       "21950    sOYsxYYFl03PhHmz_rBDZQ\n",
       "21951    Os1n1_idfw9vv9kwULGJnQ\n",
       "21952    OJdufUU3hVabgviIBHksYw\n",
       "21953    n_K2xa_nqzUqaUJa0S_5tQ\n",
       "21954    S1N5-ZXwR4fUIPs6dLnBYQ\n",
       "21955    7sPNbCx7vGAaH7SbNPZ6oA\n",
       "21956    riFzCvp77DMKDX-5GoTpqA\n",
       "Name: business_id, dtype: object"
      ]
     },
     "execution_count": 64,
     "metadata": {},
     "output_type": "execute_result"
    }
   ],
   "source": [
    "smalldf.business_id"
   ]
  },
  {
   "cell_type": "code",
   "execution_count": 65,
   "metadata": {
    "collapsed": false
   },
   "outputs": [
    {
     "data": {
      "text/plain": [
       "(-0.20205417177459603, 11)"
      ]
     },
     "execution_count": 65,
     "metadata": {},
     "output_type": "execute_result"
    }
   ],
   "source": [
    "db.get(\"VR8QvH2g-jEG5EfMzA_G9w\", \"K7lWdNUhCbcnEvI0NhGewg\")"
   ]
  },
  {
   "cell_type": "code",
   "execution_count": 66,
   "metadata": {
    "collapsed": true
   },
   "outputs": [],
   "source": [
    "def shrunk_sim(sim, n_common, reg=3.):\n",
    "    \"takes a similarity and shrinks it down by using the regularizer\"\n",
    "    ssim=(n_common*sim)/(n_common+reg)\n",
    "    return ssim"
   ]
  },
  {
   "cell_type": "code",
   "execution_count": 67,
   "metadata": {
    "collapsed": true
   },
   "outputs": [],
   "source": [
    "\"\"\"\n",
    "Function\n",
    "--------\n",
    "knearest\n",
    "\n",
    "Parameters\n",
    "----------\n",
    "restaurant_id : string\n",
    "    The id of the restaurant whose nearest neighbors we want\n",
    "set_of_restaurants : array\n",
    "    The set of restaurants from which we want to find the nearest neighbors\n",
    "dbase : instance of Database class.\n",
    "    A database of similarities, on which the get method can be used to get the similarity\n",
    "  of two businessed. e.g. dbase.get(rid1,rid2)\n",
    "k : int\n",
    "    the number of nearest neighbors desired, default 7\n",
    "reg: float\n",
    "    the regularization.\n",
    "    \n",
    "  \n",
    "Returns\n",
    "--------\n",
    "A sorted list\n",
    "    of the top k similar restaurants. The list is a list of tuples\n",
    "    (business_id, shrunken similarity, common support).\n",
    "\"\"\"\n",
    "from operator import itemgetter\n",
    "def knearest(restaurant_id, set_of_restaurants, dbase, k=7, reg=3.):\n",
    "    \"\"\"\n",
    "    Given a restaurant_id, dataframe, and database, get a sorted list of the\n",
    "    k most similar restaurants from the entire database.\n",
    "    \"\"\"\n",
    "    similars=[]\n",
    "    for other_rest_id in set_of_restaurants:\n",
    "        if other_rest_id!=restaurant_id:\n",
    "            sim, nc=dbase.get(restaurant_id, other_rest_id)\n",
    "            ssim=shrunk_sim(sim, nc, reg=reg)\n",
    "            similars.append((other_rest_id, ssim, nc ))\n",
    "    similars=sorted(similars, key=itemgetter(1), reverse=True)\n",
    "    return similars[0:k]"
   ]
  },
  {
   "cell_type": "code",
   "execution_count": null,
   "metadata": {
    "collapsed": true
   },
   "outputs": [],
   "source": [
    "#import business.csv and get couple of different restaurants based on their business_id from smalldf"
   ]
  },
  {
   "cell_type": "code",
   "execution_count": 40,
   "metadata": {
    "collapsed": true
   },
   "outputs": [],
   "source": [
    "#business = pd.read_csv(\"C:/desktop/ml-project/yelp_academic_dataset/csv files/business.csv\")"
   ]
  },
  {
   "cell_type": "code",
   "execution_count": 68,
   "metadata": {
    "collapsed": false,
    "scrolled": true
   },
   "outputs": [],
   "source": [
    "#smalldf.loc[smalldf['business_id'] == \"bRntmjztJ4dFDA_LYiEECw\"]\n",
    "\n",
    "#smalldf.loc[smalldf['business_id'] == \"J1RDyyPxhioqm8c_fi4P4Q\"]\n",
    "\n",
    "#smalldf.loc[smalldf['business_id'] == \"4_EgrMY-EI-i-xyWixI2qg\"]\n",
    "\n",
    "#smalldf.loc[smalldf['business_id'] == \"bRntmjztJ4dFDA_LYiEECw\"]"
   ]
  },
  {
   "cell_type": "code",
   "execution_count": null,
   "metadata": {
    "collapsed": true
   },
   "outputs": [],
   "source": [
    "#Choose two very different businesses in the dataframe"
   ]
  },
  {
   "cell_type": "code",
   "execution_count": 69,
   "metadata": {
    "collapsed": false,
    "scrolled": true
   },
   "outputs": [
    {
     "data": {
      "text/plain": [
       "0        UV2Jt8slktGu14gLZeNCjA\n",
       "1        cJWbbvGmyhFiBpG_5hf5LA\n",
       "2        dn_ipqbm7_jUz5X3rDez_A\n",
       "3        Cr4ipI-tr-R8Q0NilkWNkA\n",
       "4        Cni2l-VKG_pdospJ6xliXQ\n",
       "5        U-zsJM-VN89i3PbaIbKmJw\n",
       "6        VR8QvH2g-jEG5EfMzA_G9w\n",
       "7        gTlDDzDEHyDQ6iwjNhpI6A\n",
       "8        g62SlImzhs6_1t-knPjd8w\n",
       "9        YZGSNhgTS6YeyUYoivD-Ww\n",
       "10       g8OnV26ywJlZpezdBnOWUQ\n",
       "11       xkVMIk_Vqh17f48ZQ_6b0w\n",
       "12       4JNXUYY8wbaaDmk3BPzlWw\n",
       "13       wpnLPAnkMEb1NpC3xiD_qg\n",
       "14       CiYLq33nAyghFkUR15pP-Q\n",
       "15       hIUKufhwR6Ifn7bi0-phLA\n",
       "16       vl2IZrNJEA8npSjqXbdwxw\n",
       "17       R6jpwPBe9edy0P64uyaLKA\n",
       "18       qmIHO-6T_KEfPC9jyGDamQ\n",
       "19       y8d90Pt16Nip-B5UXWBP-w\n",
       "20       FLMxWQO-ckCQmGZhU9OQgw\n",
       "21       makqSKZaz1aUipoWBW0BsA\n",
       "22       DESv2ys6SjBKA4SyDtJvxw\n",
       "23       lKq4Qsz13FDcAVgp49uukQ\n",
       "24       DYuOxkW4DtlJsTHdxdXSlg\n",
       "25       H_FkQxifSo13B2FWjhp36g\n",
       "26       Mh84_j7YmRrAcm0DWV4bUw\n",
       "27       5shgJB7a-2_gdnzc0gsOtg\n",
       "28       wX1ORSDKPkA5ftE7F6UONw\n",
       "29       Fy4t2XHIRKwMk_ocCZze0Q\n",
       "                  ...          \n",
       "21927    g8OnV26ywJlZpezdBnOWUQ\n",
       "21928    m5niZy68d2gTtVWz89elfA\n",
       "21929    PXShA3JZMXr2mEH3on5clw\n",
       "21930    8K3CRM4COa0SSBEvli0fJQ\n",
       "21931    Xspg78dOvuedvuPEUwZBjw\n",
       "21932    qVO3l9Q0-KVQE7W9JL9ePw\n",
       "21933    8olG8J91NG_QU92WHG5QfA\n",
       "21934    LpGCzgAKNSpzDNEUMVVtZA\n",
       "21935    sNVGdeOPeitJ3OWUQBINzQ\n",
       "21936    1ZnVfS-qP19upP_fwOhZsA\n",
       "21937    xEH00X_VoRepWKXQrragmw\n",
       "21938    zcScEL0WEdFkROcnz5379g\n",
       "21939    rq5dgoksPHkJwJNQKlGQ7w\n",
       "21940    IhNASEZ3XnBHmuuVnWdIwA\n",
       "21941    ZibmYdOPKLlqDM9oR6xzOA\n",
       "21942    3GEEy7RP6e4bT4LAiWFMFQ\n",
       "21943    0w3BdEOxvwKTpypwbN5kiQ\n",
       "21944    GI-CAiZ_Gg3h21PwrANB4Q\n",
       "21945    HoKXKkW8oC9q8XnjKLulRw\n",
       "21946    igHYkXZMLAc9UdV5VnR_AA\n",
       "21947    a192hdM0_UVCYLwPJv1Qwg\n",
       "21948    K7lWdNUhCbcnEvI0NhGewg\n",
       "21949    VrGI7_nRjXpn0415S3coGQ\n",
       "21950    sOYsxYYFl03PhHmz_rBDZQ\n",
       "21951    Os1n1_idfw9vv9kwULGJnQ\n",
       "21952    OJdufUU3hVabgviIBHksYw\n",
       "21953    n_K2xa_nqzUqaUJa0S_5tQ\n",
       "21954    S1N5-ZXwR4fUIPs6dLnBYQ\n",
       "21955    7sPNbCx7vGAaH7SbNPZ6oA\n",
       "21956    riFzCvp77DMKDX-5GoTpqA\n",
       "Name: business_id, dtype: object"
      ]
     },
     "execution_count": 69,
     "metadata": {},
     "output_type": "execute_result"
    }
   ],
   "source": [
    "smalldf.business_id"
   ]
  },
  {
   "cell_type": "code",
   "execution_count": 70,
   "metadata": {
    "collapsed": true
   },
   "outputs": [],
   "source": [
    "testbizid=\"cJWbbvGmyhFiBpG_5hf5LA\"\n",
    "testbizid2=\"wX1ORSDKPkA5ftE7F6UONw\"\n",
    "testbizid4=\"ZibmYdOPKLlqDM9oR6xzOA\"\n",
    "testbizid5=\"OJdufUU3hVabgviIBHksYw \"#change the ids"
   ]
  },
  {
   "cell_type": "code",
   "execution_count": 71,
   "metadata": {
    "collapsed": true
   },
   "outputs": [],
   "source": [
    "#Functions to look up a business name given a business id, and a username given a user id.\n",
    "def biznamefromid(df, theid):\n",
    "    return df['biz_name'][df['business_id']==theid].values[0]\n",
    "def usernamefromid(df, theid):\n",
    "    return df['user_name'][df['user_id']==theid].values[0]"
   ]
  },
  {
   "cell_type": "code",
   "execution_count": 72,
   "metadata": {
    "collapsed": false
   },
   "outputs": [
    {
     "name": "stdout",
     "output_type": "stream",
     "text": [
      "cJWbbvGmyhFiBpG_5hf5LA Hofbräuhaus Las Vegas\n",
      "wX1ORSDKPkA5ftE7F6UONw Strip N Dip Chicken Strips\n",
      "ZibmYdOPKLlqDM9oR6xzOA Bachi Burger\n"
     ]
    }
   ],
   "source": [
    "print testbizid, biznamefromid(smalldf,testbizid)\n",
    "print testbizid2, biznamefromid(smalldf, testbizid2)\n",
    "print testbizid4, biznamefromid(smalldf, testbizid4)"
   ]
  },
  {
   "cell_type": "code",
   "execution_count": 73,
   "metadata": {
    "collapsed": false
   },
   "outputs": [
    {
     "name": "stdout",
     "output_type": "stream",
     "text": [
      "For  Hofbräuhaus Las Vegas , top matches are:\n",
      "0 Grimaldi's - Coal Brick-Oven Pizzeria | Sim 0.616948931533 | Support 8\n",
      "1 YOLOS | Sim 0.597281555361 | Support 5\n",
      "2 Nine Fine Irishmen | Sim 0.584175281744 | Support 10\n",
      "3 Brew Tea Bar | Sim 0.579847580715 | Support 7\n",
      "4 Du-Par's | Sim 0.568337094542 | Support 7\n",
      "5 Cravings Buffet | Sim 0.564261146766 | Support 6\n",
      "6 Margaritaville - Las Vegas | Sim 0.556108278424 | Support 4\n",
      "7 Koi Restaurant | Sim 0.543880562474 | Support 5\n",
      "8 Kaizen Fusion Roll and Sushi | Sim 0.539969490488 | Support 4\n",
      "9 L'Atelier de Joël Robuchon | Sim 0.528238367106 | Support 4\n"
     ]
    }
   ],
   "source": [
    "#top 10 matches\n",
    "tops=knearest(testbizid, smalldf.business_id.unique(), db, k=10, reg=3.)\n",
    "print \"For \",biznamefromid(smalldf, testbizid), \", top matches are:\"\n",
    "for i, (biz_id, sim, nc) in enumerate(tops):\n",
    "    print i,biznamefromid(smalldf,biz_id), \"| Sim\", sim, \"| Support\",nc #sim and support all zero"
   ]
  },
  {
   "cell_type": "code",
   "execution_count": 74,
   "metadata": {
    "collapsed": false
   },
   "outputs": [
    {
     "name": "stdout",
     "output_type": "stream",
     "text": [
      "For  Strip N Dip Chicken Strips , top matches are:\n",
      "0 Fleur by Hubert Keller | Sim 0.626008272482 | Support 11\n",
      "1 DB Brasserie | Sim 0.617195583593 | Support 9\n",
      "2 Javier's | Sim 0.594014378683 | Support 5\n",
      "3 El Segundo Sol | Sim 0.580312140794 | Support 5\n",
      "4 Marilyn's Cafe | Sim 0.571428571429 | Support 4\n",
      "5 Lemongrass | Sim 0.569185972032 | Support 4\n",
      "6 Mr. Lucky's 24-7 | Sim 0.549534389961 | Support 7\n",
      "7 Pink Taco | Sim 0.528526150731 | Support 6\n",
      "8 Nove Italiano | Sim 0.506879871304 | Support 4\n",
      "9 Lola's A Louisana Kitchen | Sim 0.5015910003 | Support 18\n"
     ]
    }
   ],
   "source": [
    "tops=knearest(testbizid2, smalldf.business_id.unique(), db, k=10, reg=3.)\n",
    "print \"For \",biznamefromid(smalldf, testbizid2), \", top matches are:\"\n",
    "for i, (biz_id, sim, nc) in enumerate(tops):\n",
    "    print i,biznamefromid(smalldf,biz_id), \"| Sim\", sim, \"| Support\",nc"
   ]
  },
  {
   "cell_type": "code",
   "execution_count": 75,
   "metadata": {
    "collapsed": false
   },
   "outputs": [
    {
     "name": "stdout",
     "output_type": "stream",
     "text": [
      "For  Bachi Burger , top matches are:\n",
      "0 Raising Cane's | Sim 0.602913183973 | Support 6\n",
      "1 Benihana | Sim 0.597713649237 | Support 10\n",
      "2 Picasso | Sim 0.596708068505 | Support 7\n",
      "3 Sushi Kaya | Sim 0.595220063071 | Support 9\n",
      "4 Vic & Anthony's Steakhouse | Sim 0.571428571429 | Support 4\n",
      "5 Egg Works | Sim 0.546885912675 | Support 7\n",
      "6 Veranda | Sim 0.536193939496 | Support 8\n",
      "7 The Barrymore | Sim 0.524003975038 | Support 21\n",
      "8 Brand Steakhouse | Sim 0.521954168985 | Support 8\n",
      "9 The Capital Grille | Sim 0.507065677698 | Support 11\n"
     ]
    }
   ],
   "source": [
    "tops=knearest(testbizid4, smalldf.business_id.unique(), db, k=10, reg=3.)\n",
    "print \"For \",biznamefromid(smalldf, testbizid4), \", top matches are:\"\n",
    "for i, (biz_id, sim, nc) in enumerate(tops):\n",
    "    print i,biznamefromid(smalldf,biz_id), \"| Sim\", sim, \"| Support\",nc"
   ]
  },
  {
   "cell_type": "code",
   "execution_count": 76,
   "metadata": {
    "collapsed": false
   },
   "outputs": [],
   "source": [
    "#smalldf.loc[smalldf['user_id'] == \"2AOQ_9rtcyg7NvM3NeT6Cg\"]\n",
    "\n",
    "#smalldf.loc[smalldf['user_id'] == \"Q4Qfu-3vYtL1LRm2X1b0Gg\"]\n",
    "\n",
    "#smalldf.loc[smalldf['user_id'] == \"Yc3g0KMp3991QIC4Ot1fxQ\"]"
   ]
  },
  {
   "cell_type": "code",
   "execution_count": 79,
   "metadata": {
    "collapsed": false,
    "scrolled": true
   },
   "outputs": [
    {
     "data": {
      "text/plain": [
       "PKEzKWv_FktMm2mGPjwd0Q    251\n",
       "bLbSNkLggFnqwNNzzq-Ijw    191\n",
       "tH0uKD-vNwMoEc3Xk3Cbdg    181\n",
       "N3oNEwh0qgPqPP3Em6wJXw    179\n",
       "UYcmGbelzRa0Q6JqzLoguw    179\n",
       "C2C0GPKvzWWnP57Os9eQ0w    177\n",
       "U4INQZOPSUaj8hMjLlZ3KA    172\n",
       "#NAME?                    172\n",
       "8DEyKVyplnOcSKx39vatbg    165\n",
       "n86B7IkbU20AkxlFX_5aew    165\n",
       "qewG3X2O4X6JKskxyyqFwQ    154\n",
       "kmE8w5Y785eZmodsx0V6Ag    139\n",
       "eZZyuJDouIg4p-GYB3PV_A    138\n",
       "3nDUQBjKyVor5wV0reJChg    131\n",
       "oeAhRa8yFa9jtrhaHnOyxQ    130\n",
       "TdYKJgSgY2GF_YJnwsi5yQ    128\n",
       "ZsUSGU1-L1ImomLZjXxxTg    124\n",
       "YMgZqBUAddmFErxLtCfK_w    121\n",
       "JaqcCU3nxReTW2cBLHounA    115\n",
       "epkRB3J_oBEiyiwahvdmGg    114\n",
       "rt3PC7WCgCKsoufmQJELfw    104\n",
       "8OeTLey-p-WaL9ErNEci1Q    104\n",
       "53bZ_EsXH71L7iFs5MP9_w    100\n",
       "hZfzVrhsCQ9JDAb2jYoJNQ     97\n",
       "N044aCKJv3G5WuvwT5AJcA     97\n",
       "o68A_3bAJTge-ioGXHdxKA     94\n",
       "JXHrhT72U6sZJQSkFfNzjw     93\n",
       "SfY0jEFqBkrqq9bVi6P31Q     93\n",
       "YwaKGmRNnSa3R3N4Hf9jLw     92\n",
       "h9RUaaHa5kcQKqtJ-sgS0Q     91\n",
       "                         ... \n",
       "V7B4KTBitlBs9YH_B00-9Q      1\n",
       "m1X96vPIYRja96l0O0G-3Q      1\n",
       "4FXbovgSEFZ5_9S5wddFIg      1\n",
       "KGsXnYHvYddGaL_jyl0DMQ      1\n",
       "I1vJAnZ3-hUcD9gE8m00_g      1\n",
       "sjWvk3DZapZ-9ULAFtDmYw      1\n",
       "K-w94EzfWkpl8YhpTeqW0w      1\n",
       "gScmsSCqBeFPp6q9yG5nmw      1\n",
       "1Z8g8lyU6ILsItOKJmJmxQ      1\n",
       "79D7HDjpw0iZq6iu52vsSg      1\n",
       "XEHZoTDWjw3w-gcQyYIe4g      1\n",
       "Rs-HbyVraRCP2X4ey1t-IQ      1\n",
       "N-Sy8I9byR2Q2gTI99nKxQ      1\n",
       "z_tqPytGQF_tDw_buHKJcw      1\n",
       "XJYFjbH-oTmu2dATTqyauQ      1\n",
       "dEk7mXM4npuDPmxrwPcEgQ      1\n",
       "5jz-BicrPZGCp-Mi-oBRUw      1\n",
       "ctXFXk9-m6PCMoI-Nz2_XQ      1\n",
       "sTcYq6goD1Fa2WS9MSkSvQ      1\n",
       "cggzCuDDtfvtKFp2fnLzRQ      1\n",
       "QG9ZJatKSWj5p5VrW3cfMA      1\n",
       "xR4engcg6Vm8xToBgKI5FA      1\n",
       "57tf_RmT5o3BiFj2gpV-Jg      1\n",
       "YF3KmwYMeONIfX02OTxwFw      1\n",
       "C5QsUsQg5I3dMdLM02SXGA      1\n",
       "NwxF1Ftc-4P5Pl_SSXThQA      1\n",
       "OTRxfMCtfrbUemIigxCaOg      1\n",
       "mzHRaYLoV-lwX79HghP6lw      1\n",
       "LG-FOXQL0zUcRQuqkhq-Zg      1\n",
       "sTAAPSkBP_6zxpajW40bHw      1\n",
       "Name: user_id, dtype: int64"
      ]
     },
     "execution_count": 79,
     "metadata": {},
     "output_type": "execute_result"
    }
   ],
   "source": [
    "smalldf['user_id'].value_counts()"
   ]
  },
  {
   "cell_type": "code",
   "execution_count": 78,
   "metadata": {
    "collapsed": false,
    "scrolled": true
   },
   "outputs": [],
   "source": [
    "#smalldf.loc[smalldf['user_id'] == \"8bKpyXdiYF3ZKIB3QyEiVQ\"]"
   ]
  },
  {
   "cell_type": "code",
   "execution_count": 80,
   "metadata": {
    "collapsed": false
   },
   "outputs": [
    {
     "name": "stdout",
     "output_type": "stream",
     "text": [
      "For user J top choices are:\n"
     ]
    },
    {
     "name": "stderr",
     "output_type": "stream",
     "text": [
      "/home/harika/anaconda2/lib/python2.7/site-packages/ipykernel/__main__.py:4: FutureWarning: sort(columns=....) is deprecated, use sort_values(by=.....)\n"
     ]
    },
    {
     "data": {
      "text/plain": [
       "['MGM Grand Hotel',\n",
       " 'Carnival World Buffet',\n",
       " 'Simon Restaurant and Lounge',\n",
       " 'Veranda',\n",
       " 'Hakkasan Nightclub']"
      ]
     },
     "execution_count": 80,
     "metadata": {},
     "output_type": "execute_result"
    }
   ],
   "source": [
    "#what are the top recommendations for a user?\n",
    "def get_user_top_choices(user_id, df, numchoices=5):\n",
    "    \"get the sorted top 5 restaurants for a user by the star rating the user gave them\"\n",
    "    udf=df[df.user_id==user_id][['business_id','stars']].sort(['stars'], ascending=False).head(numchoices)\n",
    "    return udf\n",
    "#change user-ids\n",
    "testuserid=\"QJI9OSEn6ujRCtrX06vs1w\"\n",
    "testuserid2=\"3l5lrs0_voc3cZz_UiLeZA\"\n",
    "testuserid3=\"JaqcCU3nxReTW2cBLHounA\"\n",
    "testuserid4=smalldf.user_id[1000].encode('ascii','ignore')\n",
    "testuserid5=smalldf.user_id[250].encode('ascii','ignore')\n",
    "print \"For user\", usernamefromid(smalldf,testuserid), \"top choices are:\" \n",
    "bizs=get_user_top_choices(testuserid, smalldf)['business_id'].values\n",
    "[biznamefromid(smalldf, biz_id) for biz_id in bizs]"
   ]
  },
  {
   "cell_type": "code",
   "execution_count": 81,
   "metadata": {
    "collapsed": false
   },
   "outputs": [
    {
     "name": "stdout",
     "output_type": "stream",
     "text": [
      "For user Christine top choices are:\n"
     ]
    },
    {
     "name": "stderr",
     "output_type": "stream",
     "text": [
      "/home/harika/anaconda2/lib/python2.7/site-packages/ipykernel/__main__.py:4: FutureWarning: sort(columns=....) is deprecated, use sort_values(by=.....)\n"
     ]
    },
    {
     "data": {
      "text/plain": [
       "['Brew Tea Bar',\n",
       " 'Thai Style Noodle House',\n",
       " 'MOzen Bistro',\n",
       " 'The Boiling Crab',\n",
       " 'Sambalatte Torrefazione']"
      ]
     },
     "execution_count": 81,
     "metadata": {},
     "output_type": "execute_result"
    }
   ],
   "source": [
    "print \"For user\", usernamefromid(smalldf,testuserid2), \"top choices are:\" \n",
    "bizs=get_user_top_choices(testuserid2, smalldf)['business_id'].values\n",
    "[biznamefromid(smalldf, biz_id) for biz_id in bizs]"
   ]
  },
  {
   "cell_type": "code",
   "execution_count": 82,
   "metadata": {
    "collapsed": false
   },
   "outputs": [
    {
     "name": "stdout",
     "output_type": "stream",
     "text": [
      "For user Paul top choices are:\n"
     ]
    },
    {
     "name": "stderr",
     "output_type": "stream",
     "text": [
      "/home/harika/anaconda2/lib/python2.7/site-packages/ipykernel/__main__.py:4: FutureWarning: sort(columns=....) is deprecated, use sort_values(by=.....)\n"
     ]
    },
    {
     "data": {
      "text/plain": [
       "['Veggie House',\n",
       " 'KoMex Fusion',\n",
       " 'Rollin Smoke Barbeque',\n",
       " \"Leticia's Mexican Cocina\",\n",
       " \"John Mull's Meats & Road Kill Grill\"]"
      ]
     },
     "execution_count": 82,
     "metadata": {},
     "output_type": "execute_result"
    }
   ],
   "source": [
    "print \"For user\", usernamefromid(smalldf,testuserid5), \"top choices are:\" \n",
    "bizs=get_user_top_choices(testuserid5, smalldf)['business_id'].values\n",
    "[biznamefromid(smalldf, biz_id) for biz_id in bizs]"
   ]
  },
  {
   "cell_type": "code",
   "execution_count": 83,
   "metadata": {
    "collapsed": false,
    "scrolled": true
   },
   "outputs": [],
   "source": [
    "#smalldf.loc[smalldf['user_id'] == \"Q9mA60HnY87C1TW5kjAZ6Q\"]"
   ]
  },
  {
   "cell_type": "code",
   "execution_count": 84,
   "metadata": {
    "collapsed": false
   },
   "outputs": [
    {
     "name": "stdout",
     "output_type": "stream",
     "text": [
      "For user Tien top choices are:\n"
     ]
    },
    {
     "name": "stderr",
     "output_type": "stream",
     "text": [
      "/home/harika/anaconda2/lib/python2.7/site-packages/ipykernel/__main__.py:4: FutureWarning: sort(columns=....) is deprecated, use sort_values(by=.....)\n"
     ]
    },
    {
     "data": {
      "text/plain": [
       "['Brio Tuscan Grille',\n",
       " 'Sushi Kaya',\n",
       " 'Lindo Michoacan',\n",
       " 'Herbs & Rye',\n",
       " 'Kona Grill']"
      ]
     },
     "execution_count": 84,
     "metadata": {},
     "output_type": "execute_result"
    }
   ],
   "source": [
    "print \"For user\", usernamefromid(smalldf,testuserid4), \"top choices are:\" \n",
    "bizs=get_user_top_choices(testuserid4, smalldf)['business_id'].values\n",
    "[biznamefromid(smalldf, biz_id) for biz_id in bizs]"
   ]
  },
  {
   "cell_type": "code",
   "execution_count": 85,
   "metadata": {
    "collapsed": true
   },
   "outputs": [],
   "source": [
    "\"\"\"\n",
    "Function\n",
    "--------\n",
    "get_top_recos_for_user\n",
    "\n",
    "Parameters\n",
    "----------\n",
    "userid : string\n",
    "    The id of the user for whom we want the top recommendations\n",
    "df : Dataframe\n",
    "    The dataframe of restaurant reviews such as smalldf\n",
    "dbase : instance of Database class.\n",
    "    A database of similarities, on which the get method can be used to get the similarity\n",
    "  of two businesses. e.g. dbase.get(rid1,rid2)\n",
    "n: int\n",
    "    the n top choices of the user by star rating\n",
    "k : int\n",
    "    the number of nearest neighbors desired, default 8\n",
    "reg: float\n",
    "    the regularization.\n",
    "    \n",
    "  \n",
    "Returns\n",
    "--------\n",
    "A sorted list\n",
    "    of the top recommendations. The list is a list of tuples\n",
    "    (business_id, business_avg). You are combining the k-nearest recommendations \n",
    "    for each of the user's n top choices, removing duplicates and the ones the user\n",
    "    has already rated.\n",
    "\"\"\"\n",
    "def get_top_recos_for_user(userid, df, dbase, n=5, k=7, reg=3.):\n",
    "    bizs=get_user_top_choices(userid, df, numchoices=n)['business_id'].values\n",
    "    rated_by_user=df[df.user_id==userid].business_id.values\n",
    "    tops=[]\n",
    "    for ele in bizs:\n",
    "        t=knearest(ele, df.business_id.unique(), dbase, k=k, reg=reg)\n",
    "        for e in t:\n",
    "            if e[0] not in rated_by_user:\n",
    "                tops.append(e)\n",
    "\n",
    "    #there might be repeats. unique it\n",
    "    ids=[e[0] for e in tops]\n",
    "    uids={k:0 for k in list(set(ids))}\n",
    "\n",
    "    topsu=[]\n",
    "    for e in tops:\n",
    "        if uids[e[0]] == 0:\n",
    "            topsu.append(e)\n",
    "            uids[e[0]] =1\n",
    "    topsr=[]     \n",
    "    for r, s,nc in topsu:\n",
    "        avg_rate=df[df.business_id==r].stars.mean()\n",
    "        topsr.append((r,avg_rate))\n",
    "        \n",
    "    topsr=sorted(topsr, key=itemgetter(1), reverse=True)\n",
    "\n",
    "    if n < len(topsr):\n",
    "        return topsr[0:n]\n",
    "    else:\n",
    "        return topsr"
   ]
  },
  {
   "cell_type": "code",
   "execution_count": 86,
   "metadata": {
    "collapsed": false
   },
   "outputs": [
    {
     "name": "stdout",
     "output_type": "stream",
     "text": [
      "For user J the top recommendations are:\n",
      "L'Atelier de Joël Robuchon | Average Rating | 4.37037037037\n",
      "Yellowtail | Average Rating | 4.3\n",
      "Island Style | Average Rating | 4.24242424242\n",
      "Yummy Grill & Sushi | Average Rating | 4.17741935484\n",
      "Vic & Anthony's Steakhouse | Average Rating | 4.13043478261\n"
     ]
    },
    {
     "name": "stderr",
     "output_type": "stream",
     "text": [
      "/home/harika/anaconda2/lib/python2.7/site-packages/ipykernel/__main__.py:4: FutureWarning: sort(columns=....) is deprecated, use sort_values(by=.....)\n"
     ]
    }
   ],
   "source": [
    "print \"For user\", usernamefromid(smalldf,testuserid), \"the top recommendations are:\"\n",
    "toprecos=get_top_recos_for_user(testuserid, smalldf, db, n=5, k=7, reg=3.)\n",
    "for biz_id, biz_avg in toprecos:\n",
    "    print biznamefromid(smalldf,biz_id), \"| Average Rating |\", biz_avg # why no recommendations"
   ]
  },
  {
   "cell_type": "code",
   "execution_count": 87,
   "metadata": {
    "collapsed": false
   },
   "outputs": [
    {
     "name": "stdout",
     "output_type": "stream",
     "text": [
      "For user Christine the top recommendations are:\n",
      "Joël  Robuchon | Average Rating | 4.44827586207\n",
      "Estiatorio Milos | Average Rating | 4.31034482759\n",
      "Gordon Ramsay Steak | Average Rating | 4.28125\n",
      "Jean Philippe Patisserie | Average Rating | 4.07407407407\n",
      "In-N-Out Burger | Average Rating | 4.0625\n"
     ]
    },
    {
     "name": "stderr",
     "output_type": "stream",
     "text": [
      "/home/harika/anaconda2/lib/python2.7/site-packages/ipykernel/__main__.py:4: FutureWarning: sort(columns=....) is deprecated, use sort_values(by=.....)\n"
     ]
    }
   ],
   "source": [
    "print \"For user\", usernamefromid(smalldf,testuserid2), \"the top recommendations are:\"\n",
    "toprecos=get_top_recos_for_user(testuserid2, smalldf, db, n=5, k=7, reg=3.)\n",
    "for biz_id, biz_avg in toprecos:\n",
    "    print biznamefromid(smalldf,biz_id), \"| Average Rating |\", biz_avg"
   ]
  },
  {
   "cell_type": "code",
   "execution_count": 88,
   "metadata": {
    "collapsed": false
   },
   "outputs": [
    {
     "name": "stdout",
     "output_type": "stream",
     "text": [
      "For user David the top recommendations are:\n",
      "Kabuto | Average Rating | 4.75555555556\n",
      "L'Atelier de Joël Robuchon | Average Rating | 4.37037037037\n",
      "The Capital Grille | Average Rating | 4.2972972973\n",
      "Vic & Anthony's Steakhouse | Average Rating | 4.13043478261\n",
      "THE Steak House | Average Rating | 4.11111111111\n"
     ]
    },
    {
     "name": "stderr",
     "output_type": "stream",
     "text": [
      "/home/harika/anaconda2/lib/python2.7/site-packages/ipykernel/__main__.py:4: FutureWarning: sort(columns=....) is deprecated, use sort_values(by=.....)\n"
     ]
    }
   ],
   "source": [
    "print \"For user\", usernamefromid(smalldf,testuserid3), \"the top recommendations are:\"\n",
    "toprecos=get_top_recos_for_user(testuserid3, smalldf, db, n=5, k=7, reg=3.)\n",
    "for biz_id, biz_avg in toprecos:\n",
    "    print biznamefromid(smalldf,biz_id), \"| Average Rating |\", biz_avg"
   ]
  },
  {
   "cell_type": "code",
   "execution_count": 89,
   "metadata": {
    "collapsed": false
   },
   "outputs": [
    {
     "name": "stdout",
     "output_type": "stream",
     "text": [
      "For user Tien the top recommendations are:\n",
      "Lawry's The Prime Rib | Average Rating | 4.30612244898\n",
      "Le Cirque | Average Rating | 4.25\n",
      "AquaKnox | Average Rating | 4.22222222222\n",
      "Cornish Pasty | Average Rating | 4.08333333333\n",
      "Jean Philippe Patisserie | Average Rating | 4.07407407407\n"
     ]
    },
    {
     "name": "stderr",
     "output_type": "stream",
     "text": [
      "/home/harika/anaconda2/lib/python2.7/site-packages/ipykernel/__main__.py:4: FutureWarning: sort(columns=....) is deprecated, use sort_values(by=.....)\n"
     ]
    }
   ],
   "source": [
    "print \"For user\", usernamefromid(smalldf,testuserid4), \"the top recommendations are:\"\n",
    "toprecos=get_top_recos_for_user(testuserid4, smalldf, db, n=5, k=7, reg=3.)\n",
    "for biz_id, biz_avg in toprecos:\n",
    "    print biznamefromid(smalldf,biz_id), \"| Average Rating |\", biz_avg"
   ]
  },
  {
   "cell_type": "code",
   "execution_count": 90,
   "metadata": {
    "collapsed": false
   },
   "outputs": [
    {
     "name": "stdout",
     "output_type": "stream",
     "text": [
      "For user Paul the top recommendations are:\n",
      "Yonaka Modern Japanese | Average Rating | 4.64516129032\n",
      "Nobu | Average Rating | 4.37837837838\n",
      "MTO Café | Average Rating | 4.26666666667\n",
      "MOzen Bistro | Average Rating | 4.16666666667\n",
      "Tableau | Average Rating | 4.15789473684\n"
     ]
    },
    {
     "name": "stderr",
     "output_type": "stream",
     "text": [
      "/home/harika/anaconda2/lib/python2.7/site-packages/ipykernel/__main__.py:4: FutureWarning: sort(columns=....) is deprecated, use sort_values(by=.....)\n"
     ]
    }
   ],
   "source": [
    "print \"For user\", usernamefromid(smalldf,testuserid5), \"the top recommendations are:\"\n",
    "toprecos=get_top_recos_for_user(testuserid5, smalldf, db, n=5, k=7, reg=3.)\n",
    "for biz_id, biz_avg in toprecos:\n",
    "    print biznamefromid(smalldf,biz_id), \"| Average Rating |\", biz_avg"
   ]
  },
  {
   "cell_type": "code",
   "execution_count": null,
   "metadata": {
    "collapsed": true
   },
   "outputs": [],
   "source": [
    "#something wrong everyone has same recommendations"
   ]
  },
  {
   "cell_type": "code",
   "execution_count": null,
   "metadata": {
    "collapsed": true
   },
   "outputs": [],
   "source": [
    "#part two :  which items seem the most similar to this user. A user based recommender with predicted ratings"
   ]
  },
  {
   "cell_type": "code",
   "execution_count": 91,
   "metadata": {
    "collapsed": true
   },
   "outputs": [],
   "source": [
    "\"\"\"\n",
    "Function\n",
    "--------\n",
    "knearest_amongst_userrated\n",
    "\n",
    "Parameters\n",
    "----------\n",
    "restaurant_id : string\n",
    "    The id of the restaurant whose nearest neighbors we want\n",
    "user_id : string\n",
    "    The id of the user, in whose reviewed restaurants we want to find the neighbors\n",
    "df: Dataframe\n",
    "    The dataframe of reviews such as smalldf\n",
    "dbase : instance of Database class.\n",
    "    A database of similarities, on which the get method can be used to get the similarity\n",
    "  of two businessed. e.g. dbase.get(rid1,rid2)\n",
    "k : int\n",
    "    the number of nearest neighbors desired, default 7\n",
    "reg: float\n",
    "    the regularization.\n",
    "    \n",
    "  \n",
    "Returns\n",
    "--------\n",
    "A sorted list\n",
    "    of the top k similar restaurants. The list is a list of tuples\n",
    "    (business_id, shrunken similarity, common support).\n",
    "\"\"\"\n",
    "def knearest_amongst_userrated(restaurant_id, user_id, df, dbase, k=7, reg=3.):\n",
    "    dfuser=df[df.user_id==user_id]\n",
    "    bizsuserhasrated=dfuser.business_id.unique()\n",
    "    return knearest(restaurant_id, bizsuserhasrated, dbase, k=k, reg=reg)"
   ]
  },
  {
   "cell_type": "code",
   "execution_count": 93,
   "metadata": {
    "collapsed": false
   },
   "outputs": [
    {
     "name": "stdout",
     "output_type": "stream",
     "text": [
      "\n"
     ]
    }
   ],
   "source": [
    "\"\"\"\n",
    "Function\n",
    "--------\n",
    "rating\n",
    "\n",
    "Parameters\n",
    "----------\n",
    "df: Dataframe\n",
    "    The dataframe of reviews such as smalldf\n",
    "dbase : instance of Database class.\n",
    "    A database of similarities, on which the get method can be used to get the similarity\n",
    "  of two businessed. e.g. dbase.get(rid1,rid2)\n",
    "restaurant_id : string\n",
    "    The id of the restaurant whose nearest neighbors we want\n",
    "user_id : string\n",
    "    The id of the user, in whose reviewed restaurants we want to find the neighbors\n",
    "k : int\n",
    "    the number of nearest neighbors desired, default 7\n",
    "reg: float\n",
    "    the regularization.\n",
    "    \n",
    "  \n",
    "Returns\n",
    "--------\n",
    "A float\n",
    "    which is the impued rating that we predict that user_id will make for restaurant_id\n",
    "\"\"\"\n",
    "def rating(df, dbase, restaurant_id, user_id, k=7, reg=3.):\n",
    "    mu=df.stars.mean()\n",
    "    users_reviews=df[df.user_id==user_id]\n",
    "    nsum=0.\n",
    "    scoresum=0.\n",
    "    nears=knearest_amongst_userrated(restaurant_id, user_id, df, dbase, k=k, reg=reg)\n",
    "    restaurant_mean=df[df.business_id==restaurant_id].business_avg.values[0]\n",
    "    user_mean=users_reviews.user_avg.values[0]\n",
    "    scores=[]\n",
    "    for r,s,nc in nears:\n",
    "        scoresum=scoresum+s\n",
    "        scores.append(s)\n",
    "        r_reviews_row=users_reviews[users_reviews['business_id']==r]\n",
    "        r_stars=r_reviews_row.stars.values[0]\n",
    "        r_avg=r_reviews_row.business_avg.values[0]\n",
    "        rminusb=(r_stars - (r_avg + user_mean - mu))\n",
    "        nsum=nsum+s*rminusb\n",
    "    baseline=(user_mean +restaurant_mean - mu)\n",
    "    #we might have nears, but there might be no commons, giving us a pearson of 0\n",
    "    if scoresum > 0.:\n",
    "        val =  nsum/scoresum + baseline\n",
    "    else:\n",
    "        val=baseline\n",
    "    return val"
   ]
  },
  {
   "cell_type": "code",
   "execution_count": 94,
   "metadata": {
    "collapsed": false
   },
   "outputs": [
    {
     "name": "stdout",
     "output_type": "stream",
     "text": [
      "User Average 3.81944444444 for J\n",
      "Predicted ratings for top choices calculated earlier:\n",
      "Yonaka Modern Japanese | 4.67234583985 | Average 4.64516129032\n",
      "Nobu | 4.55622583692 | Average 4.37837837838\n",
      "MTO Café | 4.94682831357 | Average 4.26666666667\n",
      "MOzen Bistro | 4.22006229816 | Average 4.16666666667\n",
      "Tableau | 4.12161065082 | Average 4.15789473684\n"
     ]
    }
   ],
   "source": [
    "print \"User Average\", smalldf[smalldf.user_id==testuserid].stars.mean(),\"for\",usernamefromid(smalldf,testuserid)\n",
    "print \"Predicted ratings for top choices calculated earlier:\"\n",
    "for biz_id,biz_avg in toprecos:\n",
    "    print biznamefromid(smalldf, biz_id),\"|\",rating(smalldf, db, biz_id, testuserid, k=7, reg=3.),\"|\",\"Average\",biz_avg"
   ]
  },
  {
   "cell_type": "code",
   "execution_count": 95,
   "metadata": {
    "collapsed": false
   },
   "outputs": [
    {
     "name": "stdout",
     "output_type": "stream",
     "text": [
      "User Average 3.27272727273 for Christine\n",
      "Predicted ratings for top choices calculated earlier:\n",
      "Yonaka Modern Japanese | 4.3427599289 | Average 4.64516129032\n",
      "Nobu | 4.1981231433 | Average 4.37837837838\n",
      "MTO Café | 3.43522535761 | Average 4.26666666667\n",
      "MOzen Bistro | 4.0122399735 | Average 4.16666666667\n",
      "Tableau | 3.44094980388 | Average 4.15789473684\n"
     ]
    }
   ],
   "source": [
    "print \"User Average\", smalldf[smalldf.user_id==testuserid2].stars.mean(),\"for\",usernamefromid(smalldf,testuserid2)\n",
    "print \"Predicted ratings for top choices calculated earlier:\"\n",
    "for biz_id,biz_avg in toprecos:\n",
    "    print biznamefromid(smalldf, biz_id),\"|\",rating(smalldf, db, biz_id, testuserid2, k=7, reg=3.),\"|\",\"Average\",biz_avg"
   ]
  },
  {
   "cell_type": "code",
   "execution_count": 96,
   "metadata": {
    "collapsed": false
   },
   "outputs": [
    {
     "name": "stdout",
     "output_type": "stream",
     "text": [
      "User Average 3.64347826087 for David\n",
      "Predicted ratings for top choices calculated earlier:\n",
      "Yonaka Modern Japanese | 4.30358867109 | Average 4.64516129032\n",
      "Nobu | 3.94380906161 | Average 4.37837837838\n",
      "MTO Café | 4.04461591691 | Average 4.26666666667\n",
      "MOzen Bistro | 3.93273856323 | Average 4.16666666667\n",
      "Tableau | 3.76797828942 | Average 4.15789473684\n"
     ]
    }
   ],
   "source": [
    "print \"User Average\", smalldf[smalldf.user_id==testuserid3].stars.mean(),\"for\",usernamefromid(smalldf,testuserid3)\n",
    "print \"Predicted ratings for top choices calculated earlier:\"\n",
    "for biz_id,biz_avg in toprecos:\n",
    "    print biznamefromid(smalldf, biz_id),\"|\",rating(smalldf, db, biz_id, testuserid3, k=7, reg=3.),\"|\",\"Average\",biz_avg"
   ]
  },
  {
   "cell_type": "code",
   "execution_count": 97,
   "metadata": {
    "collapsed": false
   },
   "outputs": [
    {
     "name": "stdout",
     "output_type": "stream",
     "text": [
      "User Average 3.95384615385 for Tien\n",
      "Predicted ratings for top choices calculated earlier:\n",
      "Yonaka Modern Japanese | 5.05437265859 | Average 4.64516129032\n",
      "Nobu | 4.62583821245 | Average 4.37837837838\n",
      "MTO Café | 4.24558837112 | Average 4.26666666667\n",
      "MOzen Bistro | 4.59120210179 | Average 4.16666666667\n",
      "Tableau | 4.35851009173 | Average 4.15789473684\n"
     ]
    }
   ],
   "source": [
    "print \"User Average\", smalldf[smalldf.user_id==testuserid4].stars.mean(),\"for\",usernamefromid(smalldf,testuserid4)\n",
    "print \"Predicted ratings for top choices calculated earlier:\"\n",
    "for biz_id,biz_avg in toprecos:\n",
    "    print biznamefromid(smalldf, biz_id),\"|\",rating(smalldf, db, biz_id, testuserid4, k=7, reg=3.),\"|\",\"Average\",biz_avg"
   ]
  },
  {
   "cell_type": "code",
   "execution_count": 98,
   "metadata": {
    "collapsed": false
   },
   "outputs": [
    {
     "name": "stdout",
     "output_type": "stream",
     "text": [
      "User Average 3.84782608696 for Paul\n",
      "Predicted ratings for top choices calculated earlier:\n",
      "Yonaka Modern Japanese | 5.17937182482 | Average 4.64516129032\n",
      "Nobu | 4.69148299799 | Average 4.37837837838\n",
      "MTO Café | 4.62064208657 | Average 4.26666666667\n",
      "MOzen Bistro | 4.07253158081 | Average 4.16666666667\n",
      "Tableau | 4.60795215128 | Average 4.15789473684\n"
     ]
    }
   ],
   "source": [
    "print \"User Average\", smalldf[smalldf.user_id==testuserid5].stars.mean(),\"for\",usernamefromid(smalldf,testuserid5)\n",
    "print \"Predicted ratings for top choices calculated earlier:\"\n",
    "for biz_id,biz_avg in toprecos:\n",
    "    print biznamefromid(smalldf, biz_id),\"|\",rating(smalldf, db, biz_id, testuserid5, k=7, reg=3.),\"|\",\"Average\",biz_avg"
   ]
  },
  {
   "cell_type": "code",
   "execution_count": null,
   "metadata": {
    "collapsed": true
   },
   "outputs": [],
   "source": [
    "#testing"
   ]
  },
  {
   "cell_type": "code",
   "execution_count": 105,
   "metadata": {
    "collapsed": false
   },
   "outputs": [
    {
     "data": {
      "text/plain": [
       "Index([u'user_id', u'business_id', u'biz_name', u'business_review_count',\n",
       "       u'business_average', u'user_name', u'user_review_count', u'stars',\n",
       "       u'city', u'user_avg', u'review_id', u'business_avg'],\n",
       "      dtype='object')"
      ]
     },
     "execution_count": 105,
     "metadata": {},
     "output_type": "execute_result"
    }
   ],
   "source": [
    "smalldf.columns"
   ]
  },
  {
   "cell_type": "code",
   "execution_count": 107,
   "metadata": {
    "collapsed": false
   },
   "outputs": [],
   "source": [
    "def get_other_ratings(restaurant_id, user_id, df):\n",
    "    \"get a user's rating for a restaurant and the restaurant's average rating\"\n",
    "    choice=df[(df.business_id==restaurant_id) & (df.user_id==user_id)]\n",
    "    users_score=choice.stars.values[0]\n",
    "    average_score=choice.business_avg.values[0]\n",
    "    return users_score, average_score"
   ]
  },
  {
   "cell_type": "code",
   "execution_count": 108,
   "metadata": {
    "collapsed": false
   },
   "outputs": [
    {
     "name": "stdout",
     "output_type": "stream",
     "text": [
      "for user J avg 3.81944444444\n",
      "----------------------------------\n",
      "Brio Tuscan Grille\n",
      "Predicted Rating: 4.11392116842\n",
      "Actual User Rating: 4 Avg Rating 3.70796460177\n",
      "----------------------------------\n",
      "Sushi Kaya\n",
      "Predicted Rating: 3.35433280258\n"
     ]
    },
    {
     "ename": "IndexError",
     "evalue": "index 0 is out of bounds for axis 0 with size 0",
     "output_type": "error",
     "traceback": [
      "\u001b[0;31m---------------------------------------------------------------------------\u001b[0m",
      "\u001b[0;31mIndexError\u001b[0m                                Traceback (most recent call last)",
      "\u001b[0;32m<ipython-input-108-162ad9592d82>\u001b[0m in \u001b[0;36m<module>\u001b[0;34m()\u001b[0m\n\u001b[1;32m      4\u001b[0m     \u001b[0;32mprint\u001b[0m \u001b[0mbiznamefromid\u001b[0m\u001b[0;34m(\u001b[0m\u001b[0msmalldf\u001b[0m\u001b[0;34m,\u001b[0m \u001b[0mbiz_id\u001b[0m\u001b[0;34m)\u001b[0m\u001b[0;34m\u001b[0m\u001b[0m\n\u001b[1;32m      5\u001b[0m     \u001b[0;32mprint\u001b[0m \u001b[0;34m\"Predicted Rating:\"\u001b[0m\u001b[0;34m,\u001b[0m\u001b[0mrating\u001b[0m\u001b[0;34m(\u001b[0m\u001b[0msmalldf\u001b[0m\u001b[0;34m,\u001b[0m \u001b[0mdb\u001b[0m\u001b[0;34m,\u001b[0m \u001b[0mbiz_id\u001b[0m\u001b[0;34m,\u001b[0m \u001b[0mtestuserid\u001b[0m\u001b[0;34m,\u001b[0m \u001b[0mk\u001b[0m\u001b[0;34m=\u001b[0m\u001b[0;36m7\u001b[0m\u001b[0;34m,\u001b[0m \u001b[0mreg\u001b[0m\u001b[0;34m=\u001b[0m\u001b[0;36m3.\u001b[0m\u001b[0;34m)\u001b[0m\u001b[0;34m\u001b[0m\u001b[0m\n\u001b[0;32m----> 6\u001b[0;31m     \u001b[0mu\u001b[0m\u001b[0;34m,\u001b[0m\u001b[0ma\u001b[0m\u001b[0;34m=\u001b[0m\u001b[0mget_other_ratings\u001b[0m\u001b[0;34m(\u001b[0m\u001b[0mbiz_id\u001b[0m\u001b[0;34m,\u001b[0m \u001b[0mtestuserid\u001b[0m\u001b[0;34m,\u001b[0m \u001b[0msmalldf\u001b[0m\u001b[0;34m)\u001b[0m\u001b[0;34m\u001b[0m\u001b[0m\n\u001b[0m\u001b[1;32m      7\u001b[0m     \u001b[0;32mprint\u001b[0m \u001b[0;34m\"Actual User Rating:\"\u001b[0m\u001b[0;34m,\u001b[0m\u001b[0mu\u001b[0m\u001b[0;34m,\u001b[0m\u001b[0;34m\"Avg Rating\"\u001b[0m\u001b[0;34m,\u001b[0m\u001b[0ma\u001b[0m\u001b[0;34m\u001b[0m\u001b[0m\n",
      "\u001b[0;32m<ipython-input-107-8402614b2c61>\u001b[0m in \u001b[0;36mget_other_ratings\u001b[0;34m(restaurant_id, user_id, df)\u001b[0m\n\u001b[1;32m      2\u001b[0m     \u001b[0;34m\"get a user's rating for a restaurant and the restaurant's average rating\"\u001b[0m\u001b[0;34m\u001b[0m\u001b[0m\n\u001b[1;32m      3\u001b[0m     \u001b[0mchoice\u001b[0m\u001b[0;34m=\u001b[0m\u001b[0mdf\u001b[0m\u001b[0;34m[\u001b[0m\u001b[0;34m(\u001b[0m\u001b[0mdf\u001b[0m\u001b[0;34m.\u001b[0m\u001b[0mbusiness_id\u001b[0m\u001b[0;34m==\u001b[0m\u001b[0mrestaurant_id\u001b[0m\u001b[0;34m)\u001b[0m \u001b[0;34m&\u001b[0m \u001b[0;34m(\u001b[0m\u001b[0mdf\u001b[0m\u001b[0;34m.\u001b[0m\u001b[0muser_id\u001b[0m\u001b[0;34m==\u001b[0m\u001b[0muser_id\u001b[0m\u001b[0;34m)\u001b[0m\u001b[0;34m]\u001b[0m\u001b[0;34m\u001b[0m\u001b[0m\n\u001b[0;32m----> 4\u001b[0;31m     \u001b[0musers_score\u001b[0m\u001b[0;34m=\u001b[0m\u001b[0mchoice\u001b[0m\u001b[0;34m.\u001b[0m\u001b[0mstars\u001b[0m\u001b[0;34m.\u001b[0m\u001b[0mvalues\u001b[0m\u001b[0;34m[\u001b[0m\u001b[0;36m0\u001b[0m\u001b[0;34m]\u001b[0m\u001b[0;34m\u001b[0m\u001b[0m\n\u001b[0m\u001b[1;32m      5\u001b[0m     \u001b[0maverage_score\u001b[0m\u001b[0;34m=\u001b[0m\u001b[0mchoice\u001b[0m\u001b[0;34m.\u001b[0m\u001b[0mbusiness_avg\u001b[0m\u001b[0;34m.\u001b[0m\u001b[0mvalues\u001b[0m\u001b[0;34m[\u001b[0m\u001b[0;36m0\u001b[0m\u001b[0;34m]\u001b[0m\u001b[0;34m\u001b[0m\u001b[0m\n\u001b[1;32m      6\u001b[0m     \u001b[0;32mreturn\u001b[0m \u001b[0musers_score\u001b[0m\u001b[0;34m,\u001b[0m \u001b[0maverage_score\u001b[0m\u001b[0;34m\u001b[0m\u001b[0m\n",
      "\u001b[0;31mIndexError\u001b[0m: index 0 is out of bounds for axis 0 with size 0"
     ]
    }
   ],
   "source": [
    "print \"for user\",usernamefromid(smalldf,testuserid), 'avg', smalldf[smalldf.user_id==testuserid].stars.mean() \n",
    "for biz_id in bizs:\n",
    "    print \"----------------------------------\"\n",
    "    print biznamefromid(smalldf, biz_id)\n",
    "    print \"Predicted Rating:\",rating(smalldf, db, biz_id, testuserid, k=7, reg=3.) \n",
    "    u,a=get_other_ratings(biz_id, testuserid, smalldf)\n",
    "    print \"Actual User Rating:\",u,\"Avg Rating\",a"
   ]
  },
  {
   "cell_type": "code",
   "execution_count": null,
   "metadata": {
    "collapsed": true
   },
   "outputs": [],
   "source": [
    "#error analysis"
   ]
  },
  {
   "cell_type": "code",
   "execution_count": 93,
   "metadata": {
    "collapsed": true
   },
   "outputs": [],
   "source": [
    "def compare_results(stars_actual, stars_predicted, ylow=-10, yhigh=15, title=\"\"):\n",
    "    \"\"\"\n",
    "    plot predicted results against actual results. Takes 2 arguments: a\n",
    "    numpy array of actual ratings and a numpy array of predicted ratings\n",
    "    scatterplots the predictions, a unit slope line, line segments joining the mean,\n",
    "    and a filled in area of the standard deviations.\"\n",
    "    \"\"\"\n",
    "    fig=plt.figure()\n",
    "    df=pd.DataFrame(dict(actual=stars_actual, predicted=stars_predicted))\n",
    "    ax=plt.scatter(df.actual, df.predicted, marker = '.', alpha=0.2, s=30, label=\"predicted\")\n",
    "    plt.ylim([ylow,yhigh])\n",
    "    plt.plot([1,5],[1,5], label=\"slope 1\")\n",
    "    xp=[1,2,3,4,5]\n",
    "    yp=df.groupby('actual').predicted.mean().values\n",
    "    plt.plot(xp,yp,'k', label=\"means\")\n",
    "    sig=df.groupby('actual').predicted.std().values\n",
    "    plt.fill_between(xp, yp - sig, yp + sig, \n",
    "                 color='k', alpha=0.2)\n",
    "    plt.xlabel(\"actual\")\n",
    "    plt.ylabel(\"predicted\")\n",
    "    plt.legend(frameon=False)\n",
    "    remove_border()\n",
    "    plt.grid(False)\n",
    "    plt.title(title)\n",
    "    print np.mean(np.abs(df.predicted) < 15)"
   ]
  },
  {
   "cell_type": "code",
   "execution_count": null,
   "metadata": {
    "collapsed": true
   },
   "outputs": [],
   "source": []
  },
  {
   "cell_type": "code",
   "execution_count": null,
   "metadata": {
    "collapsed": true
   },
   "outputs": [],
   "source": []
  }
 ],
 "metadata": {
  "anaconda-cloud": {},
  "kernelspec": {
   "display_name": "Python [Root]",
   "language": "python",
   "name": "Python [Root]"
  },
  "language_info": {
   "codemirror_mode": {
    "name": "ipython",
    "version": 2
   },
   "file_extension": ".py",
   "mimetype": "text/x-python",
   "name": "python",
   "nbconvert_exporter": "python",
   "pygments_lexer": "ipython2",
   "version": "2.7.12"
  }
 },
 "nbformat": 4,
 "nbformat_minor": 0
}
