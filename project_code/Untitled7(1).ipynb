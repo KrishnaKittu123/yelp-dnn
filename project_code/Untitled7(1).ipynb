{
 "cells": [
  {
   "cell_type": "code",
   "execution_count": 1,
   "metadata": {
    "collapsed": true
   },
   "outputs": [],
   "source": [
    "import pandas as pd\n",
    "import csv"
   ]
  },
  {
   "cell_type": "code",
   "execution_count": 2,
   "metadata": {
    "collapsed": false
   },
   "outputs": [],
   "source": [
    "business= pd.read_csv(\"C:/desktop/ml-project/yelp_academic_dataset/csv files/business.csv\")"
   ]
  },
  {
   "cell_type": "code",
   "execution_count": 3,
   "metadata": {
    "collapsed": false
   },
   "outputs": [],
   "source": [
    "#len(business)"
   ]
  },
  {
   "cell_type": "code",
   "execution_count": 4,
   "metadata": {
    "collapsed": false
   },
   "outputs": [],
   "source": [
    "#business.columns"
   ]
  },
  {
   "cell_type": "code",
   "execution_count": 5,
   "metadata": {
    "collapsed": false,
    "scrolled": true
   },
   "outputs": [
    {
     "data": {
      "text/plain": [
       "Toronto                      6347\n",
       "Las Vegas                    5431\n",
       "Phoenix                      3353\n",
       "Montréal                     2852\n",
       "Charlotte                    2201\n",
       "Pittsburgh                   1990\n",
       "Edinburgh                    1412\n",
       "Scottsdale                   1356\n",
       "Cleveland                    1235\n",
       "Mississauga                  1128\n",
       "Mesa                         1030\n",
       "Stuttgart                    1022\n",
       "Madison                       934\n",
       "Tempe                         891\n",
       "Henderson                     769\n",
       "Chandler                      752\n",
       "Markham                       664\n",
       "Glendale                      609\n",
       "Gilbert                       469\n",
       "Scarborough                   413\n",
       "Richmond Hill                 407\n",
       "Brampton                      402\n",
       "North York                    377\n",
       "Champaign                     357\n",
       "Vaughan                       356\n",
       "Peoria                        312\n",
       "North Las Vegas               293\n",
       "Oakville                      277\n",
       "Concord                       259\n",
       "Etobicoke                     245\n",
       "                             ... \n",
       "Northfield Center               1\n",
       "St-Leonard                      1\n",
       "Pitcairn                        1\n",
       "Buena Vista                     1\n",
       "Weddington                      1\n",
       "TORONTO                         1\n",
       "Glasgow                         1\n",
       "Mooers                          1\n",
       "Summerlin                       1\n",
       "Tottenham                       1\n",
       "Hemmingford                     1\n",
       "McKnight                        1\n",
       "L'assomption                    1\n",
       "Upper St. Clair                 1\n",
       "Ste-Therese-de-Blainville       1\n",
       "Bainbridge Township             1\n",
       "Brunswick Hills                 1\n",
       "East McKeesport                 1\n",
       "Mesa AZ                         1\n",
       "Bloomfield                      1\n",
       "Sainte-Madeleine                1\n",
       "Villa Grove                     1\n",
       "Vaughn                          1\n",
       "Kennedy Township                1\n",
       "Tranent                         1\n",
       "Ranlo                           1\n",
       "Fabreville                      1\n",
       "East Pittsburgh                 1\n",
       "Concord Twp                     1\n",
       "St Leonard                      1\n",
       "Name: city, dtype: int64"
      ]
     },
     "execution_count": 5,
     "metadata": {},
     "output_type": "execute_result"
    }
   ],
   "source": [
    "business['city'].value_counts()"
   ]
  },
  {
   "cell_type": "code",
   "execution_count": 6,
   "metadata": {
    "collapsed": false,
    "scrolled": true
   },
   "outputs": [],
   "source": [
    "#business.head(5)"
   ]
  },
  {
   "cell_type": "code",
   "execution_count": 7,
   "metadata": {
    "collapsed": false,
    "scrolled": true
   },
   "outputs": [],
   "source": [
    "#business['categories'].value_counts()"
   ]
  },
  {
   "cell_type": "code",
   "execution_count": 4,
   "metadata": {
    "collapsed": false
   },
   "outputs": [],
   "source": [
    "checkin= pd.read_csv(\"yelp_academic_dataset_checkin.csv\")"
   ]
  },
  {
   "cell_type": "code",
   "execution_count": 3,
   "metadata": {
    "collapsed": false
   },
   "outputs": [],
   "source": [
    "tip= pd.read_csv(\"yelp_academic_dataset_tip.csv\")"
   ]
  },
  {
   "cell_type": "code",
   "execution_count": 5,
   "metadata": {
    "collapsed": false
   },
   "outputs": [
    {
     "data": {
      "text/html": [
       "<div>\n",
       "<table border=\"1\" class=\"dataframe\">\n",
       "  <thead>\n",
       "    <tr style=\"text-align: right;\">\n",
       "      <th></th>\n",
       "      <th>user_id</th>\n",
       "      <th>text</th>\n",
       "      <th>business_id</th>\n",
       "      <th>likes</th>\n",
       "      <th>date</th>\n",
       "      <th>type</th>\n",
       "    </tr>\n",
       "  </thead>\n",
       "  <tbody>\n",
       "    <tr>\n",
       "      <th>0</th>\n",
       "      <td>zcTZk7OG8ovAmh_fenH21g</td>\n",
       "      <td>Get here early enough to have dinner.</td>\n",
       "      <td>tJRDll5yqpZwehenzE2cSg</td>\n",
       "      <td>0</td>\n",
       "      <td>2012-07-15</td>\n",
       "      <td>tip</td>\n",
       "    </tr>\n",
       "    <tr>\n",
       "      <th>1</th>\n",
       "      <td>ZcLKXikTHYOnYt5VYRO5sg</td>\n",
       "      <td>Great breakfast large portions and friendly wa...</td>\n",
       "      <td>jH19V2I9fIslnNhDzPmdkA</td>\n",
       "      <td>0</td>\n",
       "      <td>2015-08-12</td>\n",
       "      <td>tip</td>\n",
       "    </tr>\n",
       "    <tr>\n",
       "      <th>2</th>\n",
       "      <td>oaYhjqBbh18ZhU0bpyzSuw</td>\n",
       "      <td>Nice place. Great staff.  A fixture in the tow...</td>\n",
       "      <td>dAa0hB2yrnHzVmsCkN4YvQ</td>\n",
       "      <td>0</td>\n",
       "      <td>2014-06-20</td>\n",
       "      <td>tip</td>\n",
       "    </tr>\n",
       "    <tr>\n",
       "      <th>3</th>\n",
       "      <td>ulQ8Nyj7jCUR8M83SUMoRQ</td>\n",
       "      <td>Happy hour 5-7 Monday - Friday</td>\n",
       "      <td>dAa0hB2yrnHzVmsCkN4YvQ</td>\n",
       "      <td>0</td>\n",
       "      <td>2016-10-12</td>\n",
       "      <td>tip</td>\n",
       "    </tr>\n",
       "    <tr>\n",
       "      <th>4</th>\n",
       "      <td>ulQ8Nyj7jCUR8M83SUMoRQ</td>\n",
       "      <td>Come early on Sunday's to avoid the rush</td>\n",
       "      <td>SqW3igh1_Png336VIb5DUA</td>\n",
       "      <td>0</td>\n",
       "      <td>2016-07-03</td>\n",
       "      <td>tip</td>\n",
       "    </tr>\n",
       "  </tbody>\n",
       "</table>\n",
       "</div>"
      ],
      "text/plain": [
       "                  user_id                                               text  \\\n",
       "0  zcTZk7OG8ovAmh_fenH21g              Get here early enough to have dinner.   \n",
       "1  ZcLKXikTHYOnYt5VYRO5sg  Great breakfast large portions and friendly wa...   \n",
       "2  oaYhjqBbh18ZhU0bpyzSuw  Nice place. Great staff.  A fixture in the tow...   \n",
       "3  ulQ8Nyj7jCUR8M83SUMoRQ                     Happy hour 5-7 Monday - Friday   \n",
       "4  ulQ8Nyj7jCUR8M83SUMoRQ           Come early on Sunday's to avoid the rush   \n",
       "\n",
       "              business_id  likes        date type  \n",
       "0  tJRDll5yqpZwehenzE2cSg      0  2012-07-15  tip  \n",
       "1  jH19V2I9fIslnNhDzPmdkA      0  2015-08-12  tip  \n",
       "2  dAa0hB2yrnHzVmsCkN4YvQ      0  2014-06-20  tip  \n",
       "3  dAa0hB2yrnHzVmsCkN4YvQ      0  2016-10-12  tip  \n",
       "4  SqW3igh1_Png336VIb5DUA      0  2016-07-03  tip  "
      ]
     },
     "execution_count": 5,
     "metadata": {},
     "output_type": "execute_result"
    }
   ],
   "source": [
    "tip.head(5)"
   ]
  },
  {
   "cell_type": "code",
   "execution_count": 10,
   "metadata": {
    "collapsed": false
   },
   "outputs": [
    {
     "data": {
      "text/plain": [
       "0     932278\n",
       "1      13009\n",
       "2       1081\n",
       "3        160\n",
       "4         44\n",
       "5         16\n",
       "6          6\n",
       "7          2\n",
       "15         1\n",
       "12         1\n",
       "11         1\n",
       "9          1\n",
       "Name: likes, dtype: int64"
      ]
     },
     "execution_count": 10,
     "metadata": {},
     "output_type": "execute_result"
    }
   ],
   "source": [
    "tip['likes'].value_counts()"
   ]
  },
  {
   "cell_type": "code",
   "execution_count": 7,
   "metadata": {
    "collapsed": false
   },
   "outputs": [
    {
     "data": {
      "text/html": [
       "<div>\n",
       "<table border=\"1\" class=\"dataframe\">\n",
       "  <thead>\n",
       "    <tr style=\"text-align: right;\">\n",
       "      <th></th>\n",
       "      <th>time</th>\n",
       "      <th>type</th>\n",
       "      <th>business_id</th>\n",
       "    </tr>\n",
       "  </thead>\n",
       "  <tbody>\n",
       "    <tr>\n",
       "      <th>0</th>\n",
       "      <td>['Fri-0:2', 'Sat-0:1', 'Sun-0:1', 'Wed-0:2', '...</td>\n",
       "      <td>checkin</td>\n",
       "      <td>7KPBkxAOEtb3QeIL9PEErg</td>\n",
       "    </tr>\n",
       "    <tr>\n",
       "      <th>1</th>\n",
       "      <td>['Mon-13:1', 'Thu-13:1', 'Sat-16:1', 'Wed-17:1...</td>\n",
       "      <td>checkin</td>\n",
       "      <td>kREVIrSBbtqBhIYkTccQUg</td>\n",
       "    </tr>\n",
       "    <tr>\n",
       "      <th>2</th>\n",
       "      <td>['Thu-0:1', 'Mon-1:1', 'Mon-12:1', 'Sat-16:1']</td>\n",
       "      <td>checkin</td>\n",
       "      <td>tJRDll5yqpZwehenzE2cSg</td>\n",
       "    </tr>\n",
       "    <tr>\n",
       "      <th>3</th>\n",
       "      <td>['Fri-0:1', 'Sat-0:1', 'Sun-0:1', 'Thu-0:1', '...</td>\n",
       "      <td>checkin</td>\n",
       "      <td>nhZ1HGWD8lMErdn3FuWuTQ</td>\n",
       "    </tr>\n",
       "    <tr>\n",
       "      <th>4</th>\n",
       "      <td>['Sat-11:1', 'Fri-13:1', 'Thu-14:1']</td>\n",
       "      <td>checkin</td>\n",
       "      <td>8bY6M2yiWOF2ilfmGS34Fw</td>\n",
       "    </tr>\n",
       "  </tbody>\n",
       "</table>\n",
       "</div>"
      ],
      "text/plain": [
       "                                                time     type  \\\n",
       "0  ['Fri-0:2', 'Sat-0:1', 'Sun-0:1', 'Wed-0:2', '...  checkin   \n",
       "1  ['Mon-13:1', 'Thu-13:1', 'Sat-16:1', 'Wed-17:1...  checkin   \n",
       "2     ['Thu-0:1', 'Mon-1:1', 'Mon-12:1', 'Sat-16:1']  checkin   \n",
       "3  ['Fri-0:1', 'Sat-0:1', 'Sun-0:1', 'Thu-0:1', '...  checkin   \n",
       "4               ['Sat-11:1', 'Fri-13:1', 'Thu-14:1']  checkin   \n",
       "\n",
       "              business_id  \n",
       "0  7KPBkxAOEtb3QeIL9PEErg  \n",
       "1  kREVIrSBbtqBhIYkTccQUg  \n",
       "2  tJRDll5yqpZwehenzE2cSg  \n",
       "3  nhZ1HGWD8lMErdn3FuWuTQ  \n",
       "4  8bY6M2yiWOF2ilfmGS34Fw  "
      ]
     },
     "execution_count": 7,
     "metadata": {},
     "output_type": "execute_result"
    }
   ],
   "source": [
    "checkin.head(5)"
   ]
  },
  {
   "cell_type": "code",
   "execution_count": 10,
   "metadata": {
    "collapsed": true
   },
   "outputs": [],
   "source": [
    "user= pd.read_csv(\"yelp_academic_dataset_user.csv\")"
   ]
  },
  {
   "cell_type": "code",
   "execution_count": 8,
   "metadata": {
    "collapsed": true
   },
   "outputs": [],
   "source": [
    "review= pd.read_csv(\"yelp_academic_dataset_review.csv\")"
   ]
  },
  {
   "cell_type": "code",
   "execution_count": 9,
   "metadata": {
    "collapsed": false,
    "scrolled": true
   },
   "outputs": [
    {
     "data": {
      "text/html": [
       "<div>\n",
       "<table border=\"1\" class=\"dataframe\">\n",
       "  <thead>\n",
       "    <tr style=\"text-align: right;\">\n",
       "      <th></th>\n",
       "      <th>funny</th>\n",
       "      <th>user_id</th>\n",
       "      <th>review_id</th>\n",
       "      <th>text</th>\n",
       "      <th>business_id</th>\n",
       "      <th>stars</th>\n",
       "      <th>date</th>\n",
       "      <th>useful</th>\n",
       "      <th>type</th>\n",
       "      <th>cool</th>\n",
       "    </tr>\n",
       "  </thead>\n",
       "  <tbody>\n",
       "    <tr>\n",
       "      <th>0</th>\n",
       "      <td>0</td>\n",
       "      <td>KpkOkG6RIf4Ra25Lhhxf1A</td>\n",
       "      <td>NxL8SIC5yqOdnlXCg18IBg</td>\n",
       "      <td>If you enjoy service by someone who is as comp...</td>\n",
       "      <td>2aFiy99vNLklCx3T_tGS9A</td>\n",
       "      <td>5</td>\n",
       "      <td>2011-10-10</td>\n",
       "      <td>0</td>\n",
       "      <td>review</td>\n",
       "      <td>0</td>\n",
       "    </tr>\n",
       "    <tr>\n",
       "      <th>1</th>\n",
       "      <td>0</td>\n",
       "      <td>bQ7fQq1otn9hKX-gXRsrgA</td>\n",
       "      <td>pXbbIgOXvLuTi_SPs1hQEQ</td>\n",
       "      <td>After being on the phone with Verizon Wireless...</td>\n",
       "      <td>2aFiy99vNLklCx3T_tGS9A</td>\n",
       "      <td>5</td>\n",
       "      <td>2010-12-29</td>\n",
       "      <td>1</td>\n",
       "      <td>review</td>\n",
       "      <td>0</td>\n",
       "    </tr>\n",
       "    <tr>\n",
       "      <th>2</th>\n",
       "      <td>0</td>\n",
       "      <td>r1NUhdNmL6yU9Bn-Yx6FTw</td>\n",
       "      <td>wslW2Lu4NYylb1jEapAGsw</td>\n",
       "      <td>Great service! Corey is very service oriented....</td>\n",
       "      <td>2aFiy99vNLklCx3T_tGS9A</td>\n",
       "      <td>5</td>\n",
       "      <td>2011-04-29</td>\n",
       "      <td>0</td>\n",
       "      <td>review</td>\n",
       "      <td>0</td>\n",
       "    </tr>\n",
       "    <tr>\n",
       "      <th>3</th>\n",
       "      <td>0</td>\n",
       "      <td>aW3ix1KNZAvoM8q-WghA3Q</td>\n",
       "      <td>GP6YEearUWrzPtQYSF1vVg</td>\n",
       "      <td>Highly recommended. Went in yesterday looking ...</td>\n",
       "      <td>2LfIuF3_sX6uwe-IR-P0jQ</td>\n",
       "      <td>5</td>\n",
       "      <td>2014-07-14</td>\n",
       "      <td>0</td>\n",
       "      <td>review</td>\n",
       "      <td>1</td>\n",
       "    </tr>\n",
       "    <tr>\n",
       "      <th>4</th>\n",
       "      <td>0</td>\n",
       "      <td>YOo-Cip8HqvKp_p9nEGphw</td>\n",
       "      <td>25RlYGq2s5qShi-pn3ufVA</td>\n",
       "      <td>I walked in here looking for a specific piece ...</td>\n",
       "      <td>2LfIuF3_sX6uwe-IR-P0jQ</td>\n",
       "      <td>4</td>\n",
       "      <td>2014-01-15</td>\n",
       "      <td>0</td>\n",
       "      <td>review</td>\n",
       "      <td>0</td>\n",
       "    </tr>\n",
       "    <tr>\n",
       "      <th>5</th>\n",
       "      <td>0</td>\n",
       "      <td>bgl3j8yJcRO-00NkUYsXGQ</td>\n",
       "      <td>Uf1Ki1yyH_JDKhLvn2e4FQ</td>\n",
       "      <td>What a great place! Modern on Melrose has amaz...</td>\n",
       "      <td>2LfIuF3_sX6uwe-IR-P0jQ</td>\n",
       "      <td>5</td>\n",
       "      <td>2013-04-28</td>\n",
       "      <td>2</td>\n",
       "      <td>review</td>\n",
       "      <td>1</td>\n",
       "    </tr>\n",
       "    <tr>\n",
       "      <th>6</th>\n",
       "      <td>0</td>\n",
       "      <td>CWKF9de-nskLYEqDDCfubg</td>\n",
       "      <td>oFmVZh-La7SuvpHrH_Al4Q</td>\n",
       "      <td>A hidden gem! Found a beautiful buffet for a g...</td>\n",
       "      <td>2LfIuF3_sX6uwe-IR-P0jQ</td>\n",
       "      <td>4</td>\n",
       "      <td>2014-10-12</td>\n",
       "      <td>0</td>\n",
       "      <td>review</td>\n",
       "      <td>0</td>\n",
       "    </tr>\n",
       "    <tr>\n",
       "      <th>7</th>\n",
       "      <td>0</td>\n",
       "      <td>GJ7PTY7huYORFKKg3db3Gw</td>\n",
       "      <td>bRvdVt88MJ_YMTlLbjDLxQ</td>\n",
       "      <td>This place is a great for those vintage/mid ce...</td>\n",
       "      <td>2LfIuF3_sX6uwe-IR-P0jQ</td>\n",
       "      <td>5</td>\n",
       "      <td>2012-09-18</td>\n",
       "      <td>2</td>\n",
       "      <td>review</td>\n",
       "      <td>0</td>\n",
       "    </tr>\n",
       "    <tr>\n",
       "      <th>8</th>\n",
       "      <td>0</td>\n",
       "      <td>rxqp9eXZj1jYTn0UIsm3Hg</td>\n",
       "      <td>zNUSxqflZKgKD1NQH3jdFA</td>\n",
       "      <td>This is the place to go for all your Mid Centu...</td>\n",
       "      <td>2LfIuF3_sX6uwe-IR-P0jQ</td>\n",
       "      <td>5</td>\n",
       "      <td>2015-10-11</td>\n",
       "      <td>0</td>\n",
       "      <td>review</td>\n",
       "      <td>0</td>\n",
       "    </tr>\n",
       "    <tr>\n",
       "      <th>9</th>\n",
       "      <td>0</td>\n",
       "      <td>UU0nHQtHPMAfLidk8tOHTg</td>\n",
       "      <td>LkP1l7sZIwOV6IKNLqQp_A</td>\n",
       "      <td>Great items at a good price.  Helpful, easy to...</td>\n",
       "      <td>2LfIuF3_sX6uwe-IR-P0jQ</td>\n",
       "      <td>5</td>\n",
       "      <td>2015-04-05</td>\n",
       "      <td>0</td>\n",
       "      <td>review</td>\n",
       "      <td>0</td>\n",
       "    </tr>\n",
       "  </tbody>\n",
       "</table>\n",
       "</div>"
      ],
      "text/plain": [
       "   funny                 user_id               review_id  \\\n",
       "0      0  KpkOkG6RIf4Ra25Lhhxf1A  NxL8SIC5yqOdnlXCg18IBg   \n",
       "1      0  bQ7fQq1otn9hKX-gXRsrgA  pXbbIgOXvLuTi_SPs1hQEQ   \n",
       "2      0  r1NUhdNmL6yU9Bn-Yx6FTw  wslW2Lu4NYylb1jEapAGsw   \n",
       "3      0  aW3ix1KNZAvoM8q-WghA3Q  GP6YEearUWrzPtQYSF1vVg   \n",
       "4      0  YOo-Cip8HqvKp_p9nEGphw  25RlYGq2s5qShi-pn3ufVA   \n",
       "5      0  bgl3j8yJcRO-00NkUYsXGQ  Uf1Ki1yyH_JDKhLvn2e4FQ   \n",
       "6      0  CWKF9de-nskLYEqDDCfubg  oFmVZh-La7SuvpHrH_Al4Q   \n",
       "7      0  GJ7PTY7huYORFKKg3db3Gw  bRvdVt88MJ_YMTlLbjDLxQ   \n",
       "8      0  rxqp9eXZj1jYTn0UIsm3Hg  zNUSxqflZKgKD1NQH3jdFA   \n",
       "9      0  UU0nHQtHPMAfLidk8tOHTg  LkP1l7sZIwOV6IKNLqQp_A   \n",
       "\n",
       "                                                text             business_id  \\\n",
       "0  If you enjoy service by someone who is as comp...  2aFiy99vNLklCx3T_tGS9A   \n",
       "1  After being on the phone with Verizon Wireless...  2aFiy99vNLklCx3T_tGS9A   \n",
       "2  Great service! Corey is very service oriented....  2aFiy99vNLklCx3T_tGS9A   \n",
       "3  Highly recommended. Went in yesterday looking ...  2LfIuF3_sX6uwe-IR-P0jQ   \n",
       "4  I walked in here looking for a specific piece ...  2LfIuF3_sX6uwe-IR-P0jQ   \n",
       "5  What a great place! Modern on Melrose has amaz...  2LfIuF3_sX6uwe-IR-P0jQ   \n",
       "6  A hidden gem! Found a beautiful buffet for a g...  2LfIuF3_sX6uwe-IR-P0jQ   \n",
       "7  This place is a great for those vintage/mid ce...  2LfIuF3_sX6uwe-IR-P0jQ   \n",
       "8  This is the place to go for all your Mid Centu...  2LfIuF3_sX6uwe-IR-P0jQ   \n",
       "9  Great items at a good price.  Helpful, easy to...  2LfIuF3_sX6uwe-IR-P0jQ   \n",
       "\n",
       "   stars        date  useful    type  cool  \n",
       "0      5  2011-10-10       0  review     0  \n",
       "1      5  2010-12-29       1  review     0  \n",
       "2      5  2011-04-29       0  review     0  \n",
       "3      5  2014-07-14       0  review     1  \n",
       "4      4  2014-01-15       0  review     0  \n",
       "5      5  2013-04-28       2  review     1  \n",
       "6      4  2014-10-12       0  review     0  \n",
       "7      5  2012-09-18       2  review     0  \n",
       "8      5  2015-10-11       0  review     0  \n",
       "9      5  2015-04-05       0  review     0  "
      ]
     },
     "execution_count": 9,
     "metadata": {},
     "output_type": "execute_result"
    }
   ],
   "source": [
    "review.head(10)"
   ]
  },
  {
   "cell_type": "code",
   "execution_count": 11,
   "metadata": {
    "collapsed": false,
    "scrolled": true
   },
   "outputs": [
    {
     "data": {
      "text/html": [
       "<div>\n",
       "<table border=\"1\" class=\"dataframe\">\n",
       "  <thead>\n",
       "    <tr style=\"text-align: right;\">\n",
       "      <th></th>\n",
       "      <th>funny</th>\n",
       "      <th>user_id</th>\n",
       "      <th>review_id</th>\n",
       "      <th>text</th>\n",
       "      <th>business_id</th>\n",
       "      <th>stars</th>\n",
       "      <th>date</th>\n",
       "      <th>useful</th>\n",
       "      <th>type</th>\n",
       "      <th>cool</th>\n",
       "    </tr>\n",
       "  </thead>\n",
       "  <tbody>\n",
       "    <tr>\n",
       "      <th>4153140</th>\n",
       "      <td>0</td>\n",
       "      <td>EYcrZxm0A9VKGjR-yizDvw</td>\n",
       "      <td>5hxsht_ZoU-CNg8m5dWmUA</td>\n",
       "      <td>Bambu boba has more unique flavors than your a...</td>\n",
       "      <td>KYasaF1nov1bn7phfSgWeg</td>\n",
       "      <td>4</td>\n",
       "      <td>2014-01-27</td>\n",
       "      <td>0</td>\n",
       "      <td>review</td>\n",
       "      <td>0</td>\n",
       "    </tr>\n",
       "    <tr>\n",
       "      <th>4153141</th>\n",
       "      <td>0</td>\n",
       "      <td>4nWtFVLcbgIjMLXDsslx1A</td>\n",
       "      <td>w9DJNsDP7SzbWiN69aQxcA</td>\n",
       "      <td>Ppl always go here and say it's good, but I've...</td>\n",
       "      <td>KYasaF1nov1bn7phfSgWeg</td>\n",
       "      <td>2</td>\n",
       "      <td>2015-01-03</td>\n",
       "      <td>0</td>\n",
       "      <td>review</td>\n",
       "      <td>0</td>\n",
       "    </tr>\n",
       "    <tr>\n",
       "      <th>4153142</th>\n",
       "      <td>1</td>\n",
       "      <td>kaqlSjOjI8YW7PcLdanK-w</td>\n",
       "      <td>Qlc4LI3iYCCNCDYydZxAZg</td>\n",
       "      <td>Tried the #6 and the #10, both were great.  Lo...</td>\n",
       "      <td>KYasaF1nov1bn7phfSgWeg</td>\n",
       "      <td>4</td>\n",
       "      <td>2015-05-22</td>\n",
       "      <td>2</td>\n",
       "      <td>review</td>\n",
       "      <td>3</td>\n",
       "    </tr>\n",
       "    <tr>\n",
       "      <th>4153143</th>\n",
       "      <td>0</td>\n",
       "      <td>nA2sG7_YnN7N-gvn8INPXA</td>\n",
       "      <td>WvWcS6cTlHnOwCxpIXU5jw</td>\n",
       "      <td>Very good! Nice and warm welcome by friendly a...</td>\n",
       "      <td>KYasaF1nov1bn7phfSgWeg</td>\n",
       "      <td>4</td>\n",
       "      <td>2014-02-13</td>\n",
       "      <td>0</td>\n",
       "      <td>review</td>\n",
       "      <td>0</td>\n",
       "    </tr>\n",
       "    <tr>\n",
       "      <th>4153144</th>\n",
       "      <td>1</td>\n",
       "      <td>0uEqdNTVj-I7zM83bbcgsg</td>\n",
       "      <td>POm7LjLHO7uJP4w31VVw2A</td>\n",
       "      <td>Yes yes YES!!! I was ecstatic when I saw this ...</td>\n",
       "      <td>KYasaF1nov1bn7phfSgWeg</td>\n",
       "      <td>4</td>\n",
       "      <td>2015-04-01</td>\n",
       "      <td>3</td>\n",
       "      <td>review</td>\n",
       "      <td>3</td>\n",
       "    </tr>\n",
       "    <tr>\n",
       "      <th>4153145</th>\n",
       "      <td>0</td>\n",
       "      <td>qpActPt-ts9RRiZvn0n2KA</td>\n",
       "      <td>I7VekyujidGgJfzlC3NSig</td>\n",
       "      <td>As many says here as well....I LOVE this place...</td>\n",
       "      <td>KYasaF1nov1bn7phfSgWeg</td>\n",
       "      <td>5</td>\n",
       "      <td>2014-11-04</td>\n",
       "      <td>0</td>\n",
       "      <td>review</td>\n",
       "      <td>0</td>\n",
       "    </tr>\n",
       "    <tr>\n",
       "      <th>4153146</th>\n",
       "      <td>0</td>\n",
       "      <td>kSOkDKEdCzDjOVFaqOcTKQ</td>\n",
       "      <td>H6gfygxRN9gzI0l9rFlF4w</td>\n",
       "      <td>Found this place on yelp. Really cool place to...</td>\n",
       "      <td>KYasaF1nov1bn7phfSgWeg</td>\n",
       "      <td>5</td>\n",
       "      <td>2016-11-05</td>\n",
       "      <td>0</td>\n",
       "      <td>review</td>\n",
       "      <td>0</td>\n",
       "    </tr>\n",
       "    <tr>\n",
       "      <th>4153147</th>\n",
       "      <td>0</td>\n",
       "      <td>rWL8bGLRPtYAhX97JnRVXg</td>\n",
       "      <td>GXQnlRo41C4WykC_IP2Lbw</td>\n",
       "      <td>Tui was awesome ^^ she made me an amazing jack...</td>\n",
       "      <td>KYasaF1nov1bn7phfSgWeg</td>\n",
       "      <td>5</td>\n",
       "      <td>2015-08-15</td>\n",
       "      <td>0</td>\n",
       "      <td>review</td>\n",
       "      <td>0</td>\n",
       "    </tr>\n",
       "    <tr>\n",
       "      <th>4153148</th>\n",
       "      <td>0</td>\n",
       "      <td>nS19cEYuD99dvTCYISf0oA</td>\n",
       "      <td>tTGXK14g6WKJx78JG3bh_w</td>\n",
       "      <td>Overpriced coffee without the free upgrade at ...</td>\n",
       "      <td>KYasaF1nov1bn7phfSgWeg</td>\n",
       "      <td>3</td>\n",
       "      <td>2016-08-18</td>\n",
       "      <td>0</td>\n",
       "      <td>review</td>\n",
       "      <td>0</td>\n",
       "    </tr>\n",
       "    <tr>\n",
       "      <th>4153149</th>\n",
       "      <td>0</td>\n",
       "      <td>LgpDa5gAoK2q3u4zrjdr-w</td>\n",
       "      <td>EmuqmSacByt96t8G5GK0KQ</td>\n",
       "      <td>If ur into Asian desserts this is the place to...</td>\n",
       "      <td>KYasaF1nov1bn7phfSgWeg</td>\n",
       "      <td>4</td>\n",
       "      <td>2014-05-26</td>\n",
       "      <td>0</td>\n",
       "      <td>review</td>\n",
       "      <td>0</td>\n",
       "    </tr>\n",
       "  </tbody>\n",
       "</table>\n",
       "</div>"
      ],
      "text/plain": [
       "         funny                 user_id               review_id  \\\n",
       "4153140      0  EYcrZxm0A9VKGjR-yizDvw  5hxsht_ZoU-CNg8m5dWmUA   \n",
       "4153141      0  4nWtFVLcbgIjMLXDsslx1A  w9DJNsDP7SzbWiN69aQxcA   \n",
       "4153142      1  kaqlSjOjI8YW7PcLdanK-w  Qlc4LI3iYCCNCDYydZxAZg   \n",
       "4153143      0  nA2sG7_YnN7N-gvn8INPXA  WvWcS6cTlHnOwCxpIXU5jw   \n",
       "4153144      1  0uEqdNTVj-I7zM83bbcgsg  POm7LjLHO7uJP4w31VVw2A   \n",
       "4153145      0  qpActPt-ts9RRiZvn0n2KA  I7VekyujidGgJfzlC3NSig   \n",
       "4153146      0  kSOkDKEdCzDjOVFaqOcTKQ  H6gfygxRN9gzI0l9rFlF4w   \n",
       "4153147      0  rWL8bGLRPtYAhX97JnRVXg  GXQnlRo41C4WykC_IP2Lbw   \n",
       "4153148      0  nS19cEYuD99dvTCYISf0oA  tTGXK14g6WKJx78JG3bh_w   \n",
       "4153149      0  LgpDa5gAoK2q3u4zrjdr-w  EmuqmSacByt96t8G5GK0KQ   \n",
       "\n",
       "                                                      text  \\\n",
       "4153140  Bambu boba has more unique flavors than your a...   \n",
       "4153141  Ppl always go here and say it's good, but I've...   \n",
       "4153142  Tried the #6 and the #10, both were great.  Lo...   \n",
       "4153143  Very good! Nice and warm welcome by friendly a...   \n",
       "4153144  Yes yes YES!!! I was ecstatic when I saw this ...   \n",
       "4153145  As many says here as well....I LOVE this place...   \n",
       "4153146  Found this place on yelp. Really cool place to...   \n",
       "4153147  Tui was awesome ^^ she made me an amazing jack...   \n",
       "4153148  Overpriced coffee without the free upgrade at ...   \n",
       "4153149  If ur into Asian desserts this is the place to...   \n",
       "\n",
       "                    business_id  stars        date  useful    type  cool  \n",
       "4153140  KYasaF1nov1bn7phfSgWeg      4  2014-01-27       0  review     0  \n",
       "4153141  KYasaF1nov1bn7phfSgWeg      2  2015-01-03       0  review     0  \n",
       "4153142  KYasaF1nov1bn7phfSgWeg      4  2015-05-22       2  review     3  \n",
       "4153143  KYasaF1nov1bn7phfSgWeg      4  2014-02-13       0  review     0  \n",
       "4153144  KYasaF1nov1bn7phfSgWeg      4  2015-04-01       3  review     3  \n",
       "4153145  KYasaF1nov1bn7phfSgWeg      5  2014-11-04       0  review     0  \n",
       "4153146  KYasaF1nov1bn7phfSgWeg      5  2016-11-05       0  review     0  \n",
       "4153147  KYasaF1nov1bn7phfSgWeg      5  2015-08-15       0  review     0  \n",
       "4153148  KYasaF1nov1bn7phfSgWeg      3  2016-08-18       0  review     0  \n",
       "4153149  KYasaF1nov1bn7phfSgWeg      4  2014-05-26       0  review     0  "
      ]
     },
     "execution_count": 11,
     "metadata": {},
     "output_type": "execute_result"
    }
   ],
   "source": [
    "review.tail(10)"
   ]
  },
  {
   "cell_type": "code",
   "execution_count": 12,
   "metadata": {
    "collapsed": false
   },
   "outputs": [
    {
     "data": {
      "text/plain": [
       "Index([u'time', u'type', u'business_id'], dtype='object')"
      ]
     },
     "execution_count": 12,
     "metadata": {},
     "output_type": "execute_result"
    }
   ],
   "source": [
    "checkin.columns"
   ]
  },
  {
   "cell_type": "code",
   "execution_count": 13,
   "metadata": {
    "collapsed": false
   },
   "outputs": [
    {
     "data": {
      "text/plain": [
       "Index([u'user_id', u'text', u'business_id', u'likes', u'date', u'type'], dtype='object')"
      ]
     },
     "execution_count": 13,
     "metadata": {},
     "output_type": "execute_result"
    }
   ],
   "source": [
    "tip.columns"
   ]
  },
  {
   "cell_type": "code",
   "execution_count": 20,
   "metadata": {
    "collapsed": false
   },
   "outputs": [
    {
     "data": {
      "text/plain": [
       "Index([u'funny', u'user_id', u'review_id', u'text', u'business_id', u'stars',\n",
       "       u'date', u'useful', u'type', u'cool'],\n",
       "      dtype='object')"
      ]
     },
     "execution_count": 20,
     "metadata": {},
     "output_type": "execute_result"
    }
   ],
   "source": [
    "review.columns"
   ]
  },
  {
   "cell_type": "code",
   "execution_count": 21,
   "metadata": {
    "collapsed": false
   },
   "outputs": [
    {
     "data": {
      "text/plain": [
       "Index([u'yelping_since', u'useful', u'compliment_photos', u'compliment_list',\n",
       "       u'compliment_funny', u'compliment_plain', u'review_count', u'elite',\n",
       "       u'fans', u'type', u'compliment_note', u'funny', u'compliment_writer',\n",
       "       u'compliment_cute', u'average_stars', u'user_id', u'compliment_more',\n",
       "       u'friends', u'compliment_hot', u'cool', u'name', u'compliment_profile',\n",
       "       u'compliment_cool'],\n",
       "      dtype='object')"
      ]
     },
     "execution_count": 21,
     "metadata": {},
     "output_type": "execute_result"
    }
   ],
   "source": [
    "user.columns"
   ]
  },
  {
   "cell_type": "code",
   "execution_count": 22,
   "metadata": {
    "collapsed": false
   },
   "outputs": [
    {
     "data": {
      "text/plain": [
       "Index([u'neighborhood', u'business_id', u'hours', u'is_open', u'address',\n",
       "       u'attributes', u'categories', u'city', u'review_count', u'name',\n",
       "       u'longitude', u'state', u'stars', u'latitude', u'postal_code', u'type'],\n",
       "      dtype='object')"
      ]
     },
     "execution_count": 22,
     "metadata": {},
     "output_type": "execute_result"
    }
   ],
   "source": [
    "business.columns"
   ]
  },
  {
   "cell_type": "code",
   "execution_count": 17,
   "metadata": {
    "collapsed": false
   },
   "outputs": [],
   "source": [
    "#business.head(3)"
   ]
  },
  {
   "cell_type": "code",
   "execution_count": 18,
   "metadata": {
    "collapsed": false
   },
   "outputs": [
    {
     "data": {
      "text/html": [
       "<div>\n",
       "<table border=\"1\" class=\"dataframe\">\n",
       "  <thead>\n",
       "    <tr style=\"text-align: right;\">\n",
       "      <th></th>\n",
       "      <th>yelping_since</th>\n",
       "      <th>useful</th>\n",
       "      <th>compliment_photos</th>\n",
       "      <th>compliment_list</th>\n",
       "      <th>compliment_funny</th>\n",
       "      <th>compliment_plain</th>\n",
       "      <th>review_count</th>\n",
       "      <th>elite</th>\n",
       "      <th>fans</th>\n",
       "      <th>type</th>\n",
       "      <th>...</th>\n",
       "      <th>compliment_cute</th>\n",
       "      <th>average_stars</th>\n",
       "      <th>user_id</th>\n",
       "      <th>compliment_more</th>\n",
       "      <th>friends</th>\n",
       "      <th>compliment_hot</th>\n",
       "      <th>cool</th>\n",
       "      <th>name</th>\n",
       "      <th>compliment_profile</th>\n",
       "      <th>compliment_cool</th>\n",
       "    </tr>\n",
       "  </thead>\n",
       "  <tbody>\n",
       "    <tr>\n",
       "      <th>0</th>\n",
       "      <td>2009-09-12</td>\n",
       "      <td>18456</td>\n",
       "      <td>1347</td>\n",
       "      <td>19</td>\n",
       "      <td>4192</td>\n",
       "      <td>2617</td>\n",
       "      <td>761</td>\n",
       "      <td>['2017', '2015', '2016', '2014', '2011', '2013...</td>\n",
       "      <td>298</td>\n",
       "      <td>user</td>\n",
       "      <td>...</td>\n",
       "      <td>79</td>\n",
       "      <td>3.59</td>\n",
       "      <td>EZmocAborM6z66rTzeZxzQ</td>\n",
       "      <td>305</td>\n",
       "      <td>['iJg9ekPzF9lkMuvjKYX6uA', 'ctWAuzS04Xu0lke2Ro...</td>\n",
       "      <td>3904</td>\n",
       "      <td>17579</td>\n",
       "      <td>Rob</td>\n",
       "      <td>207</td>\n",
       "      <td>4192</td>\n",
       "    </tr>\n",
       "    <tr>\n",
       "      <th>1</th>\n",
       "      <td>2009-06-27</td>\n",
       "      <td>117</td>\n",
       "      <td>24</td>\n",
       "      <td>1</td>\n",
       "      <td>144</td>\n",
       "      <td>129</td>\n",
       "      <td>80</td>\n",
       "      <td>['None']</td>\n",
       "      <td>34</td>\n",
       "      <td>user</td>\n",
       "      <td>...</td>\n",
       "      <td>11</td>\n",
       "      <td>4.29</td>\n",
       "      <td>myql3o3x22_ygECb8gVo7A</td>\n",
       "      <td>4</td>\n",
       "      <td>['r2UUCzGxqI6WPsiWPgqG2A', 'qewG3X2O4X6JKskxyy...</td>\n",
       "      <td>64</td>\n",
       "      <td>104</td>\n",
       "      <td>Vivian</td>\n",
       "      <td>5</td>\n",
       "      <td>144</td>\n",
       "    </tr>\n",
       "    <tr>\n",
       "      <th>2</th>\n",
       "      <td>2010-08-26</td>\n",
       "      <td>58</td>\n",
       "      <td>4</td>\n",
       "      <td>2</td>\n",
       "      <td>36</td>\n",
       "      <td>23</td>\n",
       "      <td>841</td>\n",
       "      <td>['2011', '2016', '2017', '2013', '2014', '2015...</td>\n",
       "      <td>48</td>\n",
       "      <td>user</td>\n",
       "      <td>...</td>\n",
       "      <td>1</td>\n",
       "      <td>4.15</td>\n",
       "      <td>FIk4lQQu1eTe2EpzQ4xhBA</td>\n",
       "      <td>10</td>\n",
       "      <td>['qewG3X2O4X6JKskxyyqFwQ', '-50XWnmQGqBgEI-9AN...</td>\n",
       "      <td>14</td>\n",
       "      <td>5</td>\n",
       "      <td>Carol</td>\n",
       "      <td>3</td>\n",
       "      <td>36</td>\n",
       "    </tr>\n",
       "  </tbody>\n",
       "</table>\n",
       "<p>3 rows × 23 columns</p>\n",
       "</div>"
      ],
      "text/plain": [
       "  yelping_since  useful  compliment_photos  compliment_list  compliment_funny  \\\n",
       "0    2009-09-12   18456               1347               19              4192   \n",
       "1    2009-06-27     117                 24                1               144   \n",
       "2    2010-08-26      58                  4                2                36   \n",
       "\n",
       "   compliment_plain  review_count  \\\n",
       "0              2617           761   \n",
       "1               129            80   \n",
       "2                23           841   \n",
       "\n",
       "                                               elite  fans  type  \\\n",
       "0  ['2017', '2015', '2016', '2014', '2011', '2013...   298  user   \n",
       "1                                           ['None']    34  user   \n",
       "2  ['2011', '2016', '2017', '2013', '2014', '2015...    48  user   \n",
       "\n",
       "        ...         compliment_cute  average_stars                 user_id  \\\n",
       "0       ...                      79           3.59  EZmocAborM6z66rTzeZxzQ   \n",
       "1       ...                      11           4.29  myql3o3x22_ygECb8gVo7A   \n",
       "2       ...                       1           4.15  FIk4lQQu1eTe2EpzQ4xhBA   \n",
       "\n",
       "   compliment_more                                            friends  \\\n",
       "0              305  ['iJg9ekPzF9lkMuvjKYX6uA', 'ctWAuzS04Xu0lke2Ro...   \n",
       "1                4  ['r2UUCzGxqI6WPsiWPgqG2A', 'qewG3X2O4X6JKskxyy...   \n",
       "2               10  ['qewG3X2O4X6JKskxyyqFwQ', '-50XWnmQGqBgEI-9AN...   \n",
       "\n",
       "  compliment_hot   cool    name  compliment_profile  compliment_cool  \n",
       "0           3904  17579     Rob                 207             4192  \n",
       "1             64    104  Vivian                   5              144  \n",
       "2             14      5   Carol                   3               36  \n",
       "\n",
       "[3 rows x 23 columns]"
      ]
     },
     "execution_count": 18,
     "metadata": {},
     "output_type": "execute_result"
    }
   ],
   "source": [
    "user.head(3)"
   ]
  },
  {
   "cell_type": "code",
   "execution_count": 19,
   "metadata": {
    "collapsed": false
   },
   "outputs": [
    {
     "data": {
      "text/html": [
       "<div>\n",
       "<table border=\"1\" class=\"dataframe\">\n",
       "  <thead>\n",
       "    <tr style=\"text-align: right;\">\n",
       "      <th></th>\n",
       "      <th>funny</th>\n",
       "      <th>user_id</th>\n",
       "      <th>review_id</th>\n",
       "      <th>text</th>\n",
       "      <th>business_id</th>\n",
       "      <th>stars</th>\n",
       "      <th>date</th>\n",
       "      <th>useful</th>\n",
       "      <th>type</th>\n",
       "      <th>cool</th>\n",
       "    </tr>\n",
       "  </thead>\n",
       "  <tbody>\n",
       "    <tr>\n",
       "      <th>0</th>\n",
       "      <td>0</td>\n",
       "      <td>KpkOkG6RIf4Ra25Lhhxf1A</td>\n",
       "      <td>NxL8SIC5yqOdnlXCg18IBg</td>\n",
       "      <td>If you enjoy service by someone who is as comp...</td>\n",
       "      <td>2aFiy99vNLklCx3T_tGS9A</td>\n",
       "      <td>5</td>\n",
       "      <td>2011-10-10</td>\n",
       "      <td>0</td>\n",
       "      <td>review</td>\n",
       "      <td>0</td>\n",
       "    </tr>\n",
       "    <tr>\n",
       "      <th>1</th>\n",
       "      <td>0</td>\n",
       "      <td>bQ7fQq1otn9hKX-gXRsrgA</td>\n",
       "      <td>pXbbIgOXvLuTi_SPs1hQEQ</td>\n",
       "      <td>After being on the phone with Verizon Wireless...</td>\n",
       "      <td>2aFiy99vNLklCx3T_tGS9A</td>\n",
       "      <td>5</td>\n",
       "      <td>2010-12-29</td>\n",
       "      <td>1</td>\n",
       "      <td>review</td>\n",
       "      <td>0</td>\n",
       "    </tr>\n",
       "    <tr>\n",
       "      <th>2</th>\n",
       "      <td>0</td>\n",
       "      <td>r1NUhdNmL6yU9Bn-Yx6FTw</td>\n",
       "      <td>wslW2Lu4NYylb1jEapAGsw</td>\n",
       "      <td>Great service! Corey is very service oriented....</td>\n",
       "      <td>2aFiy99vNLklCx3T_tGS9A</td>\n",
       "      <td>5</td>\n",
       "      <td>2011-04-29</td>\n",
       "      <td>0</td>\n",
       "      <td>review</td>\n",
       "      <td>0</td>\n",
       "    </tr>\n",
       "  </tbody>\n",
       "</table>\n",
       "</div>"
      ],
      "text/plain": [
       "   funny                 user_id               review_id  \\\n",
       "0      0  KpkOkG6RIf4Ra25Lhhxf1A  NxL8SIC5yqOdnlXCg18IBg   \n",
       "1      0  bQ7fQq1otn9hKX-gXRsrgA  pXbbIgOXvLuTi_SPs1hQEQ   \n",
       "2      0  r1NUhdNmL6yU9Bn-Yx6FTw  wslW2Lu4NYylb1jEapAGsw   \n",
       "\n",
       "                                                text             business_id  \\\n",
       "0  If you enjoy service by someone who is as comp...  2aFiy99vNLklCx3T_tGS9A   \n",
       "1  After being on the phone with Verizon Wireless...  2aFiy99vNLklCx3T_tGS9A   \n",
       "2  Great service! Corey is very service oriented....  2aFiy99vNLklCx3T_tGS9A   \n",
       "\n",
       "   stars        date  useful    type  cool  \n",
       "0      5  2011-10-10       0  review     0  \n",
       "1      5  2010-12-29       1  review     0  \n",
       "2      5  2011-04-29       0  review     0  "
      ]
     },
     "execution_count": 19,
     "metadata": {},
     "output_type": "execute_result"
    }
   ],
   "source": [
    "review.head(3)"
   ]
  },
  {
   "cell_type": "code",
   "execution_count": 20,
   "metadata": {
    "collapsed": false
   },
   "outputs": [],
   "source": [
    "#tip.head(3)"
   ]
  },
  {
   "cell_type": "code",
   "execution_count": 21,
   "metadata": {
    "collapsed": false
   },
   "outputs": [],
   "source": [
    "#checkin.head(3)"
   ]
  },
  {
   "cell_type": "code",
   "execution_count": 22,
   "metadata": {
    "collapsed": false
   },
   "outputs": [],
   "source": [
    "#business['type'].value_counts()"
   ]
  },
  {
   "cell_type": "code",
   "execution_count": 23,
   "metadata": {
    "collapsed": true
   },
   "outputs": [],
   "source": [
    "#one = pd.merge(left=business,right=checkin, left_on='business_id', right_on='business_id')"
   ]
  },
  {
   "cell_type": "code",
   "execution_count": 24,
   "metadata": {
    "collapsed": false
   },
   "outputs": [],
   "source": [
    "#len(one)"
   ]
  },
  {
   "cell_type": "code",
   "execution_count": 25,
   "metadata": {
    "collapsed": false
   },
   "outputs": [],
   "source": [
    "#one.columns"
   ]
  },
  {
   "cell_type": "code",
   "execution_count": 26,
   "metadata": {
    "collapsed": false
   },
   "outputs": [],
   "source": [
    "#one.head(3)"
   ]
  },
  {
   "cell_type": "code",
   "execution_count": 27,
   "metadata": {
    "collapsed": false,
    "scrolled": true
   },
   "outputs": [],
   "source": [
    "#one['state'].value_counts()"
   ]
  },
  {
   "cell_type": "code",
   "execution_count": 28,
   "metadata": {
    "collapsed": true
   },
   "outputs": [],
   "source": [
    "#two = pd.merge(left=one,right=tip, left_on='business_id', right_on='business_id')"
   ]
  },
  {
   "cell_type": "code",
   "execution_count": 29,
   "metadata": {
    "collapsed": true
   },
   "outputs": [],
   "source": [
    "#three = pd.merge(left=two,right=review, left_on='business_id', right_on='business_id')"
   ]
  },
  {
   "cell_type": "code",
   "execution_count": 30,
   "metadata": {
    "collapsed": false
   },
   "outputs": [
    {
     "data": {
      "text/html": [
       "<div>\n",
       "<table border=\"1\" class=\"dataframe\">\n",
       "  <thead>\n",
       "    <tr style=\"text-align: right;\">\n",
       "      <th></th>\n",
       "      <th>funny</th>\n",
       "      <th>user_id</th>\n",
       "      <th>review_id</th>\n",
       "      <th>text</th>\n",
       "      <th>business_id</th>\n",
       "      <th>stars</th>\n",
       "      <th>date</th>\n",
       "      <th>useful</th>\n",
       "      <th>type</th>\n",
       "      <th>cool</th>\n",
       "    </tr>\n",
       "  </thead>\n",
       "  <tbody>\n",
       "    <tr>\n",
       "      <th>0</th>\n",
       "      <td>0</td>\n",
       "      <td>KpkOkG6RIf4Ra25Lhhxf1A</td>\n",
       "      <td>NxL8SIC5yqOdnlXCg18IBg</td>\n",
       "      <td>If you enjoy service by someone who is as comp...</td>\n",
       "      <td>2aFiy99vNLklCx3T_tGS9A</td>\n",
       "      <td>5</td>\n",
       "      <td>2011-10-10</td>\n",
       "      <td>0</td>\n",
       "      <td>review</td>\n",
       "      <td>0</td>\n",
       "    </tr>\n",
       "    <tr>\n",
       "      <th>1</th>\n",
       "      <td>0</td>\n",
       "      <td>bQ7fQq1otn9hKX-gXRsrgA</td>\n",
       "      <td>pXbbIgOXvLuTi_SPs1hQEQ</td>\n",
       "      <td>After being on the phone with Verizon Wireless...</td>\n",
       "      <td>2aFiy99vNLklCx3T_tGS9A</td>\n",
       "      <td>5</td>\n",
       "      <td>2010-12-29</td>\n",
       "      <td>1</td>\n",
       "      <td>review</td>\n",
       "      <td>0</td>\n",
       "    </tr>\n",
       "    <tr>\n",
       "      <th>2</th>\n",
       "      <td>0</td>\n",
       "      <td>r1NUhdNmL6yU9Bn-Yx6FTw</td>\n",
       "      <td>wslW2Lu4NYylb1jEapAGsw</td>\n",
       "      <td>Great service! Corey is very service oriented....</td>\n",
       "      <td>2aFiy99vNLklCx3T_tGS9A</td>\n",
       "      <td>5</td>\n",
       "      <td>2011-04-29</td>\n",
       "      <td>0</td>\n",
       "      <td>review</td>\n",
       "      <td>0</td>\n",
       "    </tr>\n",
       "    <tr>\n",
       "      <th>3</th>\n",
       "      <td>0</td>\n",
       "      <td>aW3ix1KNZAvoM8q-WghA3Q</td>\n",
       "      <td>GP6YEearUWrzPtQYSF1vVg</td>\n",
       "      <td>Highly recommended. Went in yesterday looking ...</td>\n",
       "      <td>2LfIuF3_sX6uwe-IR-P0jQ</td>\n",
       "      <td>5</td>\n",
       "      <td>2014-07-14</td>\n",
       "      <td>0</td>\n",
       "      <td>review</td>\n",
       "      <td>1</td>\n",
       "    </tr>\n",
       "    <tr>\n",
       "      <th>4</th>\n",
       "      <td>0</td>\n",
       "      <td>YOo-Cip8HqvKp_p9nEGphw</td>\n",
       "      <td>25RlYGq2s5qShi-pn3ufVA</td>\n",
       "      <td>I walked in here looking for a specific piece ...</td>\n",
       "      <td>2LfIuF3_sX6uwe-IR-P0jQ</td>\n",
       "      <td>4</td>\n",
       "      <td>2014-01-15</td>\n",
       "      <td>0</td>\n",
       "      <td>review</td>\n",
       "      <td>0</td>\n",
       "    </tr>\n",
       "  </tbody>\n",
       "</table>\n",
       "</div>"
      ],
      "text/plain": [
       "   funny                 user_id               review_id  \\\n",
       "0      0  KpkOkG6RIf4Ra25Lhhxf1A  NxL8SIC5yqOdnlXCg18IBg   \n",
       "1      0  bQ7fQq1otn9hKX-gXRsrgA  pXbbIgOXvLuTi_SPs1hQEQ   \n",
       "2      0  r1NUhdNmL6yU9Bn-Yx6FTw  wslW2Lu4NYylb1jEapAGsw   \n",
       "3      0  aW3ix1KNZAvoM8q-WghA3Q  GP6YEearUWrzPtQYSF1vVg   \n",
       "4      0  YOo-Cip8HqvKp_p9nEGphw  25RlYGq2s5qShi-pn3ufVA   \n",
       "\n",
       "                                                text             business_id  \\\n",
       "0  If you enjoy service by someone who is as comp...  2aFiy99vNLklCx3T_tGS9A   \n",
       "1  After being on the phone with Verizon Wireless...  2aFiy99vNLklCx3T_tGS9A   \n",
       "2  Great service! Corey is very service oriented....  2aFiy99vNLklCx3T_tGS9A   \n",
       "3  Highly recommended. Went in yesterday looking ...  2LfIuF3_sX6uwe-IR-P0jQ   \n",
       "4  I walked in here looking for a specific piece ...  2LfIuF3_sX6uwe-IR-P0jQ   \n",
       "\n",
       "   stars        date  useful    type  cool  \n",
       "0      5  2011-10-10       0  review     0  \n",
       "1      5  2010-12-29       1  review     0  \n",
       "2      5  2011-04-29       0  review     0  \n",
       "3      5  2014-07-14       0  review     1  \n",
       "4      4  2014-01-15       0  review     0  "
      ]
     },
     "execution_count": 30,
     "metadata": {},
     "output_type": "execute_result"
    }
   ],
   "source": [
    "review.head(5)"
   ]
  },
  {
   "cell_type": "code",
   "execution_count": 31,
   "metadata": {
    "collapsed": false
   },
   "outputs": [
    {
     "data": {
      "text/html": [
       "<div>\n",
       "<table border=\"1\" class=\"dataframe\">\n",
       "  <thead>\n",
       "    <tr style=\"text-align: right;\">\n",
       "      <th></th>\n",
       "      <th>funny</th>\n",
       "      <th>user_id</th>\n",
       "      <th>review_id</th>\n",
       "      <th>text</th>\n",
       "      <th>business_id</th>\n",
       "      <th>stars</th>\n",
       "      <th>date</th>\n",
       "      <th>useful</th>\n",
       "      <th>type</th>\n",
       "      <th>cool</th>\n",
       "    </tr>\n",
       "  </thead>\n",
       "  <tbody>\n",
       "    <tr>\n",
       "      <th>4153145</th>\n",
       "      <td>0</td>\n",
       "      <td>qpActPt-ts9RRiZvn0n2KA</td>\n",
       "      <td>I7VekyujidGgJfzlC3NSig</td>\n",
       "      <td>As many says here as well....I LOVE this place...</td>\n",
       "      <td>KYasaF1nov1bn7phfSgWeg</td>\n",
       "      <td>5</td>\n",
       "      <td>2014-11-04</td>\n",
       "      <td>0</td>\n",
       "      <td>review</td>\n",
       "      <td>0</td>\n",
       "    </tr>\n",
       "    <tr>\n",
       "      <th>4153146</th>\n",
       "      <td>0</td>\n",
       "      <td>kSOkDKEdCzDjOVFaqOcTKQ</td>\n",
       "      <td>H6gfygxRN9gzI0l9rFlF4w</td>\n",
       "      <td>Found this place on yelp. Really cool place to...</td>\n",
       "      <td>KYasaF1nov1bn7phfSgWeg</td>\n",
       "      <td>5</td>\n",
       "      <td>2016-11-05</td>\n",
       "      <td>0</td>\n",
       "      <td>review</td>\n",
       "      <td>0</td>\n",
       "    </tr>\n",
       "    <tr>\n",
       "      <th>4153147</th>\n",
       "      <td>0</td>\n",
       "      <td>rWL8bGLRPtYAhX97JnRVXg</td>\n",
       "      <td>GXQnlRo41C4WykC_IP2Lbw</td>\n",
       "      <td>Tui was awesome ^^ she made me an amazing jack...</td>\n",
       "      <td>KYasaF1nov1bn7phfSgWeg</td>\n",
       "      <td>5</td>\n",
       "      <td>2015-08-15</td>\n",
       "      <td>0</td>\n",
       "      <td>review</td>\n",
       "      <td>0</td>\n",
       "    </tr>\n",
       "    <tr>\n",
       "      <th>4153148</th>\n",
       "      <td>0</td>\n",
       "      <td>nS19cEYuD99dvTCYISf0oA</td>\n",
       "      <td>tTGXK14g6WKJx78JG3bh_w</td>\n",
       "      <td>Overpriced coffee without the free upgrade at ...</td>\n",
       "      <td>KYasaF1nov1bn7phfSgWeg</td>\n",
       "      <td>3</td>\n",
       "      <td>2016-08-18</td>\n",
       "      <td>0</td>\n",
       "      <td>review</td>\n",
       "      <td>0</td>\n",
       "    </tr>\n",
       "    <tr>\n",
       "      <th>4153149</th>\n",
       "      <td>0</td>\n",
       "      <td>LgpDa5gAoK2q3u4zrjdr-w</td>\n",
       "      <td>EmuqmSacByt96t8G5GK0KQ</td>\n",
       "      <td>If ur into Asian desserts this is the place to...</td>\n",
       "      <td>KYasaF1nov1bn7phfSgWeg</td>\n",
       "      <td>4</td>\n",
       "      <td>2014-05-26</td>\n",
       "      <td>0</td>\n",
       "      <td>review</td>\n",
       "      <td>0</td>\n",
       "    </tr>\n",
       "  </tbody>\n",
       "</table>\n",
       "</div>"
      ],
      "text/plain": [
       "         funny                 user_id               review_id  \\\n",
       "4153145      0  qpActPt-ts9RRiZvn0n2KA  I7VekyujidGgJfzlC3NSig   \n",
       "4153146      0  kSOkDKEdCzDjOVFaqOcTKQ  H6gfygxRN9gzI0l9rFlF4w   \n",
       "4153147      0  rWL8bGLRPtYAhX97JnRVXg  GXQnlRo41C4WykC_IP2Lbw   \n",
       "4153148      0  nS19cEYuD99dvTCYISf0oA  tTGXK14g6WKJx78JG3bh_w   \n",
       "4153149      0  LgpDa5gAoK2q3u4zrjdr-w  EmuqmSacByt96t8G5GK0KQ   \n",
       "\n",
       "                                                      text  \\\n",
       "4153145  As many says here as well....I LOVE this place...   \n",
       "4153146  Found this place on yelp. Really cool place to...   \n",
       "4153147  Tui was awesome ^^ she made me an amazing jack...   \n",
       "4153148  Overpriced coffee without the free upgrade at ...   \n",
       "4153149  If ur into Asian desserts this is the place to...   \n",
       "\n",
       "                    business_id  stars        date  useful    type  cool  \n",
       "4153145  KYasaF1nov1bn7phfSgWeg      5  2014-11-04       0  review     0  \n",
       "4153146  KYasaF1nov1bn7phfSgWeg      5  2016-11-05       0  review     0  \n",
       "4153147  KYasaF1nov1bn7phfSgWeg      5  2015-08-15       0  review     0  \n",
       "4153148  KYasaF1nov1bn7phfSgWeg      3  2016-08-18       0  review     0  \n",
       "4153149  KYasaF1nov1bn7phfSgWeg      4  2014-05-26       0  review     0  "
      ]
     },
     "execution_count": 31,
     "metadata": {},
     "output_type": "execute_result"
    }
   ],
   "source": [
    "review.tail(5)"
   ]
  },
  {
   "cell_type": "code",
   "execution_count": 32,
   "metadata": {
    "collapsed": true
   },
   "outputs": [],
   "source": [
    "#review_one= pd.merge(left=one,right=review, how='left', left_on='business_id', right_on='business_id')"
   ]
  },
  {
   "cell_type": "code",
   "execution_count": 33,
   "metadata": {
    "collapsed": false
   },
   "outputs": [],
   "source": [
    "#len(review_one)"
   ]
  },
  {
   "cell_type": "code",
   "execution_count": 34,
   "metadata": {
    "collapsed": false,
    "scrolled": true
   },
   "outputs": [
    {
     "data": {
      "text/plain": [
       "Dear Sir, \\nDo you need high quality custom embroidery digitizing at cheap  price? why not work with us?\\n--- -Top Quality Is Our Top Priority\\n-----More than 20 years of custom embroidey digitizing\\n-----fast turnaround time,online 24 hours,no break on weekend\\n------No extra charge for edting and rush jobs\\n-----with  premium  quality, reasonable  prices and many discounts\\n---- $18 flat digitizing rate for any large sized design,unlimited stitches\\n-----No minimum charge \\npls note: we are able to guarantee the good quality,because our digitizer team is excellent in embroidery digitizing\\npls  email to: chinajolin@163.com  ,    18979726938@189.com   for   more  information.\\nwe will be so glad to discuss your personal requirements!   \\nwish you prosperous business!\\n\\nyours sincerely,\\n        heidi\\nEmail:  chinajolin@163.com                                                                                                                                                                                                                                                                                                                                                                                                                                                                                                                                                                                                                                                                                                                                                                                                                                                                                                                                                                                                                                                                                                                                                                                                                                                                    11\n",
       "Good stuff                                                                                                                                                                                                                                                                                                                                                                                                                                                                                                                                                                                                                                                                                                                                                                                                                                                                                                                                                                                                                                                                                                                                                                                                                                                                                                                                                                                                                                                                                                                                                                                                                                                                                                                                                                                                                                                                                                                                                                                                                                                                                                                                   10\n",
       "Update on how terrible this delivery service is:  Safeway gave me a $75 credit to make up for the fact that I got my last grocery delivery 42 hours late.  I used it to place another grocery delivery and, amazingly, I've been waiting an additional 45 minutes for it outside of my 2-hour delivery window and it still hasn't arrived and customer service can't find my driver.  Nice work, Safeway.                                                                                                                                                                                                                                                                                                                                                                                                                                                                                                                                                                                                                                                                                                                                                                                                                                                                                                                                                                                                                                                                                                                                                                                                                                                                                                                                                                                                                                                                                                                                                                                                                                                                                                                                     9\n",
       "CUSTOMER SERVICE LINE WAS THE WORST PEOPLE IVE EVER TALKED TO IN MY LIFE.... Worst bank I've ever had to deal with... I called to get business account number, simple task, after numerous attempts of having to hang up and call back, they finally gave me a number, the WRONG number on purpose after we exchanged words.... That's got to be illegal and she needs to be fired. Then she even has the nerve to freeze my account while I'm out of town and can't go into a branch when they're clearly in the wrong.. Grow up and get better employees. I'm making sure everyone knows how I feel about this credit union. I definitely would not ever bank here for anyone in the future.                                                                                                                                                                                                                                                                                                                                                                                                                                                                                                                                                                                                                                                                                                                                                                                                                                                                                                                                                                                                                                                                                                                                                                                                                                                                                                                                                                                                                                                9\n",
       "Your review helps others learn about great local businesses.\\n\\nPlease don't review this business if you received a freebie for writing this review, or if you're connected in any way to the owner or employees.                                                                                                                                                                                                                                                                                                                                                                                                                                                                                                                                                                                                                                                                                                                                                                                                                                                                                                                                                                                                                                                                                                                                                                                                                                                                                                                                                                                                                                                                                                                                                                                                                                                                                                                                                                                                                                                                                                                             9\n",
       "I am about to be a \"former\" Premier customer with this bank.  I have had two bad experiences with them, the most recent on 11/18/2014.   A merchant made an error and charged my debit card (used as a credit card) for $4123 instead of 123.00.  They voided the sale, however Wells Fargo will not release the money for up to 15 days!  I have the voided slip... still nothing!  If this is how you want to be treated... bank with them.  If not, find somewhere else to go to.  The fact is, they just have people read off of the computer screens and tell you \"they are sorry, but they can't help you\".                                                                                                                                                                                                                                                                                                                                                                                                                                                                                                                                                                                                                                                                                                                                                                                                                                                                                                                                                                                                                                                                                                                                                                                                                                                                                                                                                                                                                                                                                                                             8\n",
       "Dear Sir, \\nDo you need high quality custom embroidery digitizing at cheap price? why not work with us?\\n--- -Top Quality Is Our Top Priority\\n-----More than 20 years of custom embroidey digitizing\\n-----fast turnaround time,online 24 hours,no break on weekend\\n------no extra charge for edting and rush jobs\\n-----with premium quality, reasonable prices and many discounts\\n---- $2.6 per 1000 stitches, Free Quote, Format conversion.\\n-----minimum charge $10,00.\\npls note: we are able to guarantee the good quality,because our digitizer team is excellent in embroidery digitizing\\n$40.00 flat digitizing rate for any large sized design, such as large jacketbacks, up to 15 x15 inches\\npls email to: m18970588798@163.com for more information.                                                                                                                                                                                                                                                                                                                                                                                                                                                                                                                                                                                                                                                                                                                                                                                                                                                                                                                                                                                                                                                                                                                                                                                                                                                                                                                                                                       7\n",
       "r.i.p.                                                                                                                                                                                                                                                                                                                                                                                                                                                                                                                                                                                                                                                                                                                                                                                                                                                                                                                                                                                                                                                                                                                                                                                                                                                                                                                                                                                                                                                                                                                                                                                                                                                                                                                                                                                                                                                                                                                                                                                                                                                                                                                                        7\n",
       "I have completed 2 of the the 26 month contracts with LVAC since moving out here in the late 90's. I did it once in 2000 and again in 2006. After that, I would renew every year by paying the year in advance upfront for a good price. Well in December of 2014, I missed the expiration of the deal by 4 days and they then refused to honor the deal. \\n\\nWhen I called customer \"service\"(the Maryland Parkway location), they pretty much had a \"tough sh*t\" attitude about the whole situation. They said my only options were a) renew for a 3rd - 26 month contract(I don't think so) or b) wait to see if they would send another renewal offer. The representative literally told me to just keep checking the mail and see if they decided to extend the offer again. Suffice it to say that here it is, over a year later, and that offer never came. The gyms are large and well equipped, but the service is completely pathetic! I have patiently waited to see if I would ever receive any kind of fair offer, short of a new contract that anybody who fell on the planet in the last 5 minutes could simply walk in and get, and it just never happened. Nice way to insult someone who was a loyal and paying patron for the better part of the past decade. Thank you so much. (*sarcasm*)\\n\\nThe facilities are awesome, yet the service and the attitude of the company simply sucks!\\n\\nI have been extraordinarily patient in giving LVAC the benefit of the doubt before posting this update, but after 14 months....time is up..\\n\\n1 star.                                                                                                                                                                                                                                                                                                                                                                                                                                                                                                                                                                        6\n",
       "I love Oregano's and they seem to know how to hire nice and happy people at all locations. The servers here are attentive and accommodating. My favorite appetizer is the garlic bread with cheese, entree is the numero uno stuffed pizza and all of the pizza cookie desserts are awesome!                                                                                                                                                                                                                                                                                                                                                                                                                                                                                                                                                                                                                                                                                                                                                                                                                                                                                                                                                                                                                                                                                                                                                                                                                                                                                                                                                                                                                                                                                                                                                                                                                                                                                                                                                                                                                                                  6\n",
       "good stuff                                                                                                                                                                                                                                                                                                                                                                                                                                                                                                                                                                                                                                                                                                                                                                                                                                                                                                                                                                                                                                                                                                                                                                                                                                                                                                                                                                                                                                                                                                                                                                                                                                                                                                                                                                                                                                                                                                                                                                                                                                                                                                                                    6\n",
       "Driver left people outside of bus, in 100-degree heat, saying he was only dropping off. Then he walked in hotel, came back 20 minutes later with icy drink, now we could board. Very nasty to me when I couldn't immediately find my little paper voucher...he spoke to the other passengers on bus announcing that I was slowing down their airport arrival. This company apparently allows total jerks to drive for them.\\n\\nWould have been better value to take cab.....or just pay cash to shuttle that is already in front of hotel and ready to go. Waiting for 20+ minutes in Las Vegas heat, and having to track one more document(voucher) is crazy. Never again.                                                                                                                                                                                                                                                                                                                                                                                                                                                                                                                                                                                                                                                                                                                                                                                                                                                                                                                                                                                                                                                                                                                                                                                                                                                                                                                                                                                                                                                                   6\n",
       "So we stopped by just about every Fat Tuesdays in Vegas, so each review will be the exact same copy with the exact same 5 stars because there was not a bad experience and this place is the place to start a poppin Vegas trip from 11am to 2am! (not sure how early they open but 11am was the earliest we started the rager!)\\n\\nThey have dozens of drink options and combinations and it all tastes so good! there was one drink i was not too fond of as much but i will get into that in a moment\\nI chose the $12 mug option which comes with $9 refills, and considering the club i went to the first night charged $17.50 for a Jack and Coke, these $9 refills lasting a good 2 hours were a pure joy!\\n\\nthe three drinks I ordered were:\\nMargarita: (refilled 2x) this was bomb.com like the best slushy margarita ever! sour sweet alcohol up the arse so good! \\n\\nStrawberry-Mango combo (refilled 3x) this was obviously my favorite, the strawberry mango combo was divine, not too sweet, punch of alcohol, oh so good\\n\\nSuperman: no refills, this was my least favorite, and what a shame being named after my favorite superhero! it is named because the two drink choices share the same colors, Eye Candy is blue, and i believe the 190 octane being red..i thought the Eye Candy would be a blue raspberry flavor but it was an over sweet cotton candy type..the combo wasnt my favorite and meh did not get a refill on this\\n\\nyou can't go to Vegas without getting crazy off Fat Tuesdays!                                                                                                                                                                                                                                                                                                                                                                                                                                                                                                                                                                                                                  5\n",
       "Very slow and Very Lazy..\\nThings sometimes took over 30 days                                                                                                                                                                                                                                                                                                                                                                                                                                                                                                                                                                                                                                                                                                                                                                                                                                                                                                                                                                                                                                                                                                                                                                                                                                                                                                                                                                                                                                                                                                                                                                                                                                                                                                                                                                                                                                                                                                                                                                                                                                                                                 5\n",
       "I should have read reviews first before purchasing a puppy from this company.....  This company claims they do not get puppies from puppy mills however after doing the research on the breeder of my new puppy I found they are a very large puppy mill and they in fact have been protested many times. \\n\\nPurchasing a puppy from this company is a guarantee you will spend lots of money at the vet that they own as well and waiting to see if the Warranty will give pay you back for all spent.  This store has a history of exactly what took place with my puppy send the puppy home with a clean bill of health and in fact he has a parasite that requires treatment, testing , and upper respiratory infection that requires meds as well.  Lets not forget that many return trips to the vet on the other side of town to get meds after test results came in.  \\n\\nI have made contact with CPI the owner of Animal Kingdom and no help from them either.  \\n\\nThis place is a joke and the person who did all of our paper work for our new puppy is now very rude and disrespectful guess after she got her commission she was done with us..  \\n\\nI hope this helps anyone looking for a puppy to steer clear of this RIP OFF place.                                                                                                                                                                                                                                                                                                                                                                                                                                                                                                                                                                                                                                                                                                                                                                                                                                                                                       5\n",
       "Now closed.                                                                                                                                                                                                                                                                                                                                                                                                                                                                                                                                                                                                                                                                                                                                                                                                                                                                                                                                                                                                                                                                                                                                                                                                                                                                                                                                                                                                                                                                                                                                                                                                                                                                                                                                                                                                                                                                                                                                                                                                                                                                                                                                   5\n",
       "So I grew up on this stuff....Antonio's Pizza.  I loved this stuff before Drew Carey gave it his seal of approval.  \\n It all started in a little Italian family restaurant in \"Snowville\" in Parma for me.  They moved across the street and expanded quite a bit.  This was the place my family went as a kid, it was the place we Holy Namers always went after our high school games.  It is where I go now for CONSISTENTLY Great Memories and great pizza.\\n First off, I must clarify my review is based pretty 90% on their pizza...sure they have other stuff, but is it great?  Some yes (try for one Muffalatta) others no (say salad, always been white iceberg less than appealing, however their grated mozzarella and pepper is a good cover up)\\n I can describe their pizza and what makes it so good....For me it's always a deluxe....GREAT freshly baked pizza dough and perfectly crunchy to bite yet soft to chew crust...A well done sauce, and great toppings.  I always to opt for Extra cheese.  No pizza place anywhere ever gives you enough cheese on any pizza.  Fresh pepperoni, sausage, mushrooms, green peppers, onions finish quite well.  Soft chewy warm.  Dough you can taste and that tastes good.  This is fantastic.  From time to time I will get one of the other types of pizzas but the deluxe is by far my favorite.  Fresh ingredients (except for mushrooms) make this excellent.\\n Another of their lesser known treats is their Chicago Deep Dish.  Not many places can pull it off like Antonio's; even the Chicagoans have forgotten what a pizza PIE is.  \\n Overall to sum it up, this has been my lifetime favorite.  In fact it's the pizza I compare all pizzas too.  Thank you to the LoSchiavo family for your great product!                                                                                                                                                                                                                                                                                                                                                      5\n",
       "This is for all LVAC gyms: You are all rip-offs with prices that fluctuate terribly. I didn't mind paying $22 a month but you go off promoting $19/month and yet you don't want to match it? I called the billing department and you straight lied to me about it ranging from $19-$22 max. First off, you charge my friend $23/month. I believe that's more than $22, do you not know how to count or? And what's so hard about matching the price of what you're promoting? Your gyms are big and spacious, I'll give you credit for that but truly, your customer service sucks. Thanks for ripping me off. Sincerely, canceling my membership with you guys. This is for anyone who plan on joining their contract. Be aware of getting over-charged. For all I know, some of you could be paying $24+.                                                                                                                                                                                                                                                                                                                                                                                                                                                                                                                                                                                                                                                                                                                                                                                                                                                                                                                                                                                                                                                                                                                                                                                                                                                                                                                                   5\n",
       "I see this KFC/Taco Bell is already rated pretty low, which is no surprise to me after my last experiences there which span over years.  I am finally reviewing it and hopefully this will keep me away forever.\\n  \\nFirst I had promised myself that I would never go back, and yet I did yesterday.  This was after a few months ago when  I added a cake to my order that was suggested by the attendant taking my order at the drive-thru. I broke the cardinal rule of ordering via drive-through which is not to check your order before you drive off.  Yes, I arrived home and the cake was not in my order, a total waste of $5.  It's like just taking a 5 dollar bill and throwing it out the window.  Sure not enough to break the bank, but enough to severely piss you off.  At that time, a year ago, I promised myself I would never go back.  \\n  \\nYet yesterday I had a hunger for some chicken strips, my son suggested this place.  I said any chicken fingers from any place would be fine but he wanted KFC so I gave in.  He spent $25 dollars on two chicken fingers meals!!!  If he had gone to Burger King or Jack in the Box, we maybe would have spend $14 instead of $25.  The problem is, KFC bundles their chicken meals (bone in or bone out) with piece orders with 2 sides AND NO DRINK IS PROVIDED WITH THESE MEALS!  So he orders 2 large drinks along with the meals which were 5 piece chicken finger meals, with cole slaw and home fries as sides that came with the meals.  I DID NOT WANT TO SPEND 25 DOLLARS ON TWO FREAKING CHICKEN FINGER MEALS!  \\n  \\nI am now going on a cruscade against this company and I will be writing them about this.  Plus here on YELP, I am reviewing every KFC within a 25 mile radius of where I live and they are getting one star (wish I could give 0 stars).                                                                                                                                                                                                                                                                                               5\n",
       "Although my fiance and I had a good experience at the store itself (only after 1 salesman just walked away mid way through asking him a question). Their customer service and their \"5 year warranty\" protection service is crap. We spent almost $7,000 to furnish most of the rooms in our new home. The foot board and the dresser chipped off in chunks by simply running your nail over a tiny little bump. The kitchen table we ordered came broken and we had to wait 48 hours to hear from customer service before we could get a new one delivered. We ended up having to call them. FOUR TIMES. They can't get anyone to come out and repair the missing chunks on the bedroom set until a month later. Their furniture is cheap. Even their \"high end\" line is cheap. I will NEVER recommend Ashley Furniture to anyone. Save your money and your sanity!                                                                                                                                                                                                                                                                                                                                                                                                                                                                                                                                                                                                                                                                                                                                                                                                                                                                                                                                                                                                                                                                                                                                                                                                                                                                          5\n",
       "Its about the same as the others.  I go there for the bread.  You need to go early in day for any kind of selection.  There meals are a little pricey and you can do better with the deserts.  Join their rewards program.  Every once and a while you get a free item.                                                                                                                                                                                                                                                                                                                                                                                                                                                                                                                                                                                                                                                                                                                                                                                                                                                                                                                                                                                                                                                                                                                                                                                                                                                                                                                                                                                                                                                                                                                                                                                                                                                                                                                                                                                                                                                                       5\n",
       "If I could give a zero star rating I would. \\n\\n-DO NOT SIGN CONTRACT- sales agents are full of their own garbage. They say you can cancel your membership at any time... Ya if you pay off the remaining balance of a two year contract!! F*&^$ING Liars. \\n\\nDONT MAKE THE MISTAKE I DID. \\n\\nLVAC JUST WANT TO STEAL FROM YOU AND SEND YOU TO COLLECTIONS!!!!!                                                                                                                                                                                                                                                                                                                                                                                                                                                                                                                                                                                                                                                                                                                                                                                                                                                                                                                                                                                                                                                                                                                                                                                                                                                                                                                                                                                                                                                                                                                                                                                                                                                                                                                                                                             5\n",
       "As an educated buyer, I really enjoy the occasional finds at Lees.  The staff is generally pretty ignorant of wine so an uneducated buyer will have a problem and likely be lead to whatever huge allotment needs to move.  I think the stores are just a bit too big for good quality control.  Tons of white wines and rosés on the shelves well beyond their expiration and brown, but they'll sell them to you and returns aren't always easy.  So if you know what you're after/buying, again some great deals and nice finds.  Otherwise, it's dangerous.  That said, Lees is a great place to get wines with some nice bottle age, whereas Total Wine is ONLY newly released vintages.                                                                                                                                                                                                                                                                                                                                                                                                                                                                                                                                                                                                                                                                                                                                                                                                                                                                                                                                                                                                                                                                                                                                                                                                                                                                                                                                                                                                                                                 5\n",
       "Fast service and affordable price \\nThe place is good and they have grate sales\\nI very recommend this place to anyone who needs new tire fix or else \\nWill come back again thank you.........                                                                                                                                                                                                                                                                                                                                                                                                                                                                                                                                                                                                                                                                                                                                                                                                                                                                                                                                                                                                                                                                                                                                                                                                                                                                                                                                                                                                                                                                                                                                                                                                                                                                                                                                                                                                                                                                                                                                               4\n",
       "Anyone who knows me, knows I love Jersey Mike's. This place rocks just like all the other Jersey Mike's!!!                                                                                                                                                                                                                                                                                                                                                                                                                                                                                                                                                                                                                                                                                                                                                                                                                                                                                                                                                                                                                                                                                                                                                                                                                                                                                                                                                                                                                                                                                                                                                                                                                                                                                                                                                                                                                                                                                                                                                                                                                                    4\n",
       "Absolutely the WORST experience ever! They over billed us, failed to correct the problem. You cannot call them because you WAIT FOREVER, get TRANSFERRED ENDLESSLY and NOTHING gets fixed. This company SUCKS!!!                                                                                                                                                                                                                                                                                                                                                                                                                                                                                                                                                                                                                                                                                                                                                                                                                                                                                                                                                                                                                                                                                                                                                                                                                                                                                                                                                                                                                                                                                                                                                                                                                                                                                                                                                                                                                                                                                                                              4\n",
       "Worst customer service ever. They don't answer much less return calls. They are fine over charging or adding products to my account but when I need help they are no where to be found.                                                                                                                                                                                                                                                                                                                                                                                                                                                                                                                                                                                                                                                                                                                                                                                                                                                                                                                                                                                                                                                                                                                                                                                                                                                                                                                                                                                                                                                                                                                                                                                                                                                                                                                                                                                                                                                                                                                                                       4\n",
       "LOVE this store!  This is the only place I buy my child's clothes.  The staff is very friendly, and the quality of clothes is superb!  I get SO many complements on the clothes I buy from here.  I tell EVERYBODY with a child about this place.  The prices are PHENOMENAL!  You get so many clothes for a small price!  And to top it off, they do price mark downs on their clothes and offer a punch card.                                                                                                                                                                                                                                                                                                                                                                                                                                                                                                                                                                                                                                                                                                                                                                                                                                                                                                                                                                                                                                                                                                                                                                                                                                                                                                                                                                                                                                                                                                                                                                                                                                                                                                                               4\n",
       "All the buzz is accurate... this is the best chain sub-shop I have ever been to.  It shames places like Subway and Quiznos.  Great freshly-baked bread and just better overall ingredients.                                                                                                                                                                                                                                                                                                                                                                                                                                                                                                                                                                                                                                                                                                                                                                                                                                                                                                                                                                                                                                                                                                                                                                                                                                                                                                                                                                                                                                                                                                                                                                                                                                                                                                                                                                                                                                                                                                                                                   4\n",
       "My order number is 300000535. I purchased on the July 5th and today is the 27th and I have not even receive a tracking number. I want to cancel and get a refund. Otherwise I will report fraud for holding on to my money. \\n\\nCustomer Service takes 5-7 days to reach. This is insane.                                                                                                                                                                                                                                                                                                                                                                                                                                                                                                                                                                                                                                                                                                                                                                                                                                                                                                                                                                                                                                                                                                                                                                                                                                                                                                                                                                                                                                                                                                                                                                                                                                                                                                                                                                                                                                                     4\n",
       "                                                                                                                                                                                                                                                                                                                                                                                                                                                                                                                                                                                                                                                                                                                                                                                                                                                                                                                                                                                                                                                                                                                                                                                                                                                                                                                                                                                                                                                                                                                                                                                                                                                                                                                                                                                                                                                                                                                                                                                                                                                                                                                                             ..\n",
       "I'm Asian and I've eaten at many dim sum restaurants, and this is my take on the Dim Sum Cafe: \\n\\nThe variety of dim sum dishes is good. You might think that this restaurant doesn't carry as much variety as other dim sum restaurants, but that is because this restaurant only has several carts circulating around the restaurant at any given time, so it looks like there is less choices.  However, they do not have the more traditional dim sum houses choices like preserved duck-egg congee and tofu/ginger.\\n\\nThe quality of dim sum is good. Thumbs up for taste & freshness. No difference in portion size, and dishes were not greasy. The chicken steamed buns were a bit dry & doughy, but all other choices were excellent.\\n\\nPrice is comparable to other dim sum restaurant. Our check for 4 was the same as other dim sum places.\\n\\nNo pushy dim sum cart lady coming by every minute disturbing your meal. The cart comes out maybe 2-3 times total in the whole meal. Only a few of the staff is Asian, which is OK because the non-Asian staff appeared to be knowledgeable about the menu and was attentive. This might be a good dim sum starter restaurant for those who want decent dim sum but don't want the hustle of Chinatown.\\n\\nThe decor is clean with some fish aquariums, but there is absolutely nothing Asian about it. You wouldn't know you're in an Asian restaurant and thought you were in a really clean Denny's. Perhaps restaurant management can put a couple of inexpensive Asian-like items (lanterns, bamboo, red color, etc) to be consistent with the restaurant's name.\\n\\nCrazy menu needs to be refined. What is with the hamburger and sandwiches? Not sure why they feel the need to stick American breakfast stuff and other items in the menu, and why customers will go to a dim sum restaurant to get American food.  This is very confusing and gives the impression that management does not know what they are doing.  \\n\\nTheir dim sum is good, it's also the name of the restaurant, so they should clean up the menu and stick to what they do well...dim sum!     1\n",
       "My son-in-law Matt hosted a birthday party for my daughter Nadia here last night. \\nThey discovered this place while visiting Toronto a few months ago. \\nNadia is from Toronto and likes to visit frequently to see family and friends. \\nMatt worked here for a few years and likes to touch base with friends he made at that time. Now that they have two children, Nadia likes to introduce my grandchildren to her favourite places she remembers visiting as a child.\\nThe restaurant has a semi-private back room, which although noisy, can handle 20 or more guests allowing some privacy for a party. \\nThe owner greeted us all at the door. Street parking is available. Washrooms are located at the bottom of some steep stairs on the lower level. A small patio is off to one side of the restaurant allowing those wanting to eat outside a nice place to do it.\\nWe were greeted with platters of cheese, bread, fruit, chutney, shaved meat and popcorn and edamame bowls as starters. The selections were printed on a private birthday menu with my daughter's name on it, which was a nice touch. We were offered the choice of a half chicken or baked halibut dinner. Both were delicious. The appetizer was a wonderful mild curry soup. Staff were very attentive and gracious. Our drinks orders were taken and filled regularly according to our requests. \\nIt was a wonderful night. I would return in heartbeat for another meal if I lived closer.                                                                                                                                                                                                                                                                                                                                                                                                                                                                                                                                                                                                                                                           1\n",
       "I wandered into Dive Bar on a Friday night because I had a friend playing a gig here. I literally felt like I stepped into a time machine and was transported back to the 1990s. So much leather, jean vests, plenty of dark eyeliner, tattoos galore, and a lot of dark, dark colors on the patrons, and yes folk, I witnessed Doc Martins. In a bright summer floral sun dress, I stuck out like a sore thumb.\\n\\nI usually don't frequent watering holes. I enjoy dancing and getting dolled up. If I do go to a bar, I don't like them too loud, especially when I have stellar company and want to carry on a conversation.\\n\\nThe place isn't rather large. There is a huge bar in the back with seats all around it. There are several hi-top tables (like maybe 6) in front of the stage set up. Not a lot of seating and definitely not good for large groups. The place is smokey, which I expect in dive bars. The drink prices were reasonable. $4 for a vodka-cran is great.\\n\\nThe place was loud. So loud that a friend shouting in my ear and I still couldn't hear here. For shows, there is no need for music to be that loud! I was not into the bands these evening, one was rockabilly, the others were more punk rock. Just not my style or mood for the evening. \\n\\nLack of seating, a very specific type of patron, overly smokey, bathrooms with graffiti on them (the ladies toilet seat, yes the SEAT!, said \"C--T DROPPINGS HERE), overly loud, blaring music, and cheap drinks make this a very, very, very stereotypical dive bar. \\n\\nThis place is nothing special and I could not wait to get the hell out of here. Thank goodness for cheap drinks and friendly, attentive bar staff are the only reason it's not a complete one star.\\n\\nI won't be diving in to Dive Bar again... EVER.                                                                                                                                                                                                                                                                                                                  1\n",
       "The experience was really good, my therapist was awesome! the only reason why I gave them three stars is because it took 10 minutes to get the session started and my therapist stop 10 minutes before my time was finished. I understand if it's only been five minutes before and after. Its a total of 20 minutes worth of massage that I lost, ten minutes is alright but 20 minutes is kinda a lot to lose in a 60 minutes session.                                                                                                                                                                                                                                                                                                                                                                                                                                                                                                                                                                                                                                                                                                                                                                                                                                                                                                                                                                                                                                                                                                                                                                                                                                                                                                                                                                                                                                                                                                                                                                                                                                                                                                      1\n",
       "Rather boring dishes without a lot of flavor. Not terrible, but in a city full of great Mexican food there are better options.                                                                                                                                                                                                                                                                                                                                                                                                                                                                                                                                                                                                                                                                                                                                                                                                                                                                                                                                                                                                                                                                                                                                                                                                                                                                                                                                                                                                                                                                                                                                                                                                                                                                                                                                                                                                                                                                                                                                                                                                                1\n",
       "I love buffets and I enjoyed this one. The fried chicken and Chinese food were my favorite and it's cheaper than other buffets. If I'm in downtown Vegas again, I will definitely come here again.                                                                                                                                                                                                                                                                                                                                                                                                                                                                                                                                                                                                                                                                                                                                                                                                                                                                                                                                                                                                                                                                                                                                                                                                                                                                                                                                                                                                                                                                                                                                                                                                                                                                                                                                                                                                                                                                                                                                            1\n",
       "Los Dos has some of the best tortillas ever - they're homemade, thick, soft, and just perfect.  The food is great and very flavorful, and the couple of times I've been here everything I've had has been good.  They also have quite a few daily specials in addition to what's on the main menu, so make sure you check those out.  The chips and salsa that they serve might be too spicy for some people, but in my experience, they're more spicy than most of the dishes, so don't worry if you think they're too hot.  The margaritas at Los Dos are also excellent and they're huge.\\n\\nThe atmosphere is also really cool and there's usually good music playing.  Give this place a try!                                                                                                                                                                                                                                                                                                                                                                                                                                                                                                                                                                                                                                                                                                                                                                                                                                                                                                                                                                                                                                                                                                                                                                                                                                                                                                                                                                                                                                            1\n",
       "I love Dutch Bros!!  We were heading out of town and hit the last one.  Service is always super friendly and attentive--and this is for EVERY location we get to visit.  I know it's the goal of each Dutch Bros to give the upmost service, but this trip was long and bittersweet, and for our last stop, this location was superior!  Not only did our female barista express pleasant comments and compliments, the other male barista poked his head out as well and said a GENUNE Thank You...\\n\\n\\nYou guys run an awesome company, selling an AWESOME product.  But the service last Wednesday, 5.07.14, to the \"black Beetle with black attire head to toe\" was exceptional.  You should be proud of your employees!!  And I am proud to be one of your loyal customers!!  Thank you!!                                                                                                                                                                                                                                                                                                                                                                                                                                                                                                                                                                                                                                                                                                                                                                                                                                                                                                                                                                                                                                                                                                                                                                                                                                                                                                                                               1\n",
       "Good Chinese place if you like food more that ambiance.   The decor is curious, the building is a converted drive-in but the food is tasty and authentic.  We enjoyed the food and the freshness of the food.  We will be back to enjoy dinner at China Mama again.                                                                                                                                                                                                                                                                                                                                                                                                                                                                                                                                                                                                                                                                                                                                                                                                                                                                                                                                                                                                                                                                                                                                                                                                                                                                                                                                                                                                                                                                                                                                                                                                                                                                                                                                                                                                                                                                           1\n",
       "I have been going to this place since I was a kid, and no Vegas trip is complete without stopping here for a meal.\\n\\nChicken and Steak bowls are under 4 dollars and are the best rice bowls I've ever had! The teriyaki sauce that they use is incomparable! Don't forget to ask for a side of the hot mustard to add a little more kick to the bowl!\\n\\nMacaroni Salad, Kim Chee, Ahi Poke, and Misubi are great choices also!\\n\\nI just feed a party of 6 for under $32, that's pretty amazing!                                                                                                                                                                                                                                                                                                                                                                                                                                                                                                                                                                                                                                                                                                                                                                                                                                                                                                                                                                                                                                                                                                                                                                                                                                                                                                                                                                                                                                                                                                                                                                                                                                           1\n",
       "Sometimes size DOES matter, and when it does, bigger is better!\\n\\nI was planning a date night for a recent Thursday night, and I wanted to go bowling. I didn't want to deal with bowling leagues taking up all of the lanes, so I specifically looked for a large bowling alley... Strike Zone Bowling Center is the largest alley in town, with 72 lanes! I figured there was no way all those lanes would be taken... and when we arrived we were happy to see that while there was a lot of people bowling, there was no wait for a lane.\\n\\nWe paid for 2 games and rented some shoes from a friendly enough employee, then grabbed some balls  and got down to business. We didn't use bumpers, but I thought it was really cool that you could specify if the person bowling wanted them (making this a great spot to take kiddies!). We didn't get any food or booze, but for those that want to there is a snack bar and a separate bar. \\n\\nAnother reason to love Strike Zone: 1.50 games after 9 pm on Monday-Thursday!\\nI'm looking forward to going back to check out Cosmic Bowling on a Friday or Saturday night soon!                                                                                                                                                                                                                                                                                                                                                                                                                                                                                                                                                                                                                                                                                                                                                                                                                                                                                                                                                                                                       1\n",
       "I used to live right across the street from this restaurant but never actually ate there until last night.\\n\\nMe and a bunch of girls wanted to go out for half price so we gave Mi Ranchito a try. The chips were delicious, the salsa however was EXTREMELY watery. It literally dripped everywhere on the table, making it impossible to actually enjoy. Not that the taste would make you enjoy it...\\n\\nMe and a friend split a veggie enchilada and another friend shared some of her veggie quasadilla. The enchilada, though stated on the menu would be served in a corn tortilla, was most definitely not. The tortilla was, for lack of a better word, mushy. The red sauce proved to be as equally flavorless as the salsa - red sauce is supposed to be spicy, come on! There were barely any vegetables in the enchilada and they were awkwardly cut and stuffed. The quasadilla on the other hand was quite delicious. If I ever do intend to visit again maybe I'll try this?\\n\\nThe only redeeming quality of Mi Ranchito was the lovely decor and their delicious margaritas. I had a peach margarita that was perfectly refreshing. \\n\\nThough our waitress was absolutely awful (she overcharge one of my companions credit cards), the bartenders were friendly and had great taste in music! I'll return just to drink next time.                                                                                                                                                                                                                                                                                                                                                                                                                                                                                                                                                                                                                                                                                                                                                                                       1\n",
       "Let's start this off by saying - super hole in the wall! & we all know these are the best! lol. Amazing customer service and a few laughs with the staff may this visit one of the best! I felt like I knew our waitress forever, very welcoming personality! Everything was super affordable and great. I ordered the Veggie Omelet with bacon, with potatoes and wheat toast. She recommended this awesome salsa to top off my omelet, which added the perfect spice touch I needed. Overall great experience and great food. Will be back.                                                                                                                                                                                                                                                                                                                                                                                                                                                                                                                                                                                                                                                                                                                                                                                                                                                                                                                                                                                                                                                                                                                                                                                                                                                                                                                                                                                                                                                                                                                                                                                                 1\n",
       "After living in Tempe for several months and not finding a nail salon, I went on yelp :) and found Nancy's. The reviews looked pretty good so I decided to give it a try. Like some of the other reviews mentioned, the salon doesn't look like much from the outside, but on the inside everything is great. The facility is clean, but what makes the difference for me is the fact that the staff there was so friendly, and welcoming. All of the technicians were talking with the clients and there were even a few friendly group conversations between everyone in the salon. It was very comfortable! Most of the ladies in there during my appointment were regular clients and they had nothing but good things to say about the place after learning that it was my first time there. Loyal clientele is always a good sign. \\nJohnny did my acrylic nails (full set) which I am totally in love with. He did a great job and was also really personable. \\nanother awesome thing about this salon is that they offer a 5% discount to anyone that pays in cash! 5% isn't a lot, but it's still a pretty cool little perk. I will definitely be returning.                                                                                                                                                                                                                                                                                                                                                                                                                                                                                                                                                                                                                                                                                                                                                                                                                                                                                                                                                                        1\n",
       "Another place in town that I wish I'd known about a long time ago.\\n\\nThis place is great, though hidden away.  If you ask, no the meat is not organic or free-range.  But it's local and very fresh - one of my friends said they got a piece that was still warm.\\n\\nThey also have some cuts of meat you won't see in the grocery stores - like beef hearts.  I went in today to buy a chicken and there were a couple pig heads sitting in trays, ready to go home - so, if you are an adventurous cook, this might be a good place to check out.\\n\\nWhat they actually have varies from day to day but I can generally find something I'd like to cook with, and they generally have a mixture of beef, pork, chicken, eggs, and slightly more processed stuff like meat sticks, ham, bacon, bacon ends, jerky and sausages.  Some of these (like the smoked pork chops and the ham) are a little salty for my taste, but they are still pretty good and the prices are very reasonable.  \\n\\nI got some prime rib here for my girlfriend and I to have as a treat and it was excellent, extremely delicious and flavorful.  Basically I am going to try and buy as much as possible of of my weekly meat here, instead of at the grocery store.                                                                                                                                                                                                                                                                                                                                                                                                                                                                                                                                                                                                                                                                                                                                                                                                                                                                                         1\n",
       "I was very disappointed with Rehab.First off, very expensive to get in.The staff was rude.The waitress added stuff on our bill that we didn't even order!!!! She even admitted that the food runner stated that they had not brought the food but then changed the story again and attempted to force us to pay for things we did not order. She even suggested that she can give us food to \"take home\".  I was livid!! I've never been treated this way in my life!!! Very unprofessional.REHAB is all hype. Too pricey, the pool was dirty, and the staff are thieves.                                                                                                                                                                                                                                                                                                                                                                                                                                                                                                                                                                                                                                                                                                                                                                                                                                                                                                                                                                                                                                                                                                                                                                                                                                                                                                                                                                                                                                                                                                                                                                     1\n",
       "At the Brat Haus, I like their beer more than their food.\\n\\nThey have a great selection of beers and some nice German options, too.\\n\\nThe food, however, is either average or subpar.\\n\\nFirst, I wanted to order a variety of their sliders, but was told that I had to choose one variation.\\n\\nWhy?  They give you four sliders, so just charge me $10 or whatever and let me select a combination of BLT, beef, and green chile chicken!  Bastards...\\n\\nSince my first request was denied, I decided to order The Pig Mac with bacon and an egg.  The Pig Mac is a double cheeseburger with a pork sausage patty, a ground beef patty and the usual filler.\\n\\nIt was enormous, messy, and a chore to eat.  Even after squishing it down, I still couldn't fit my mouth around this thing.  I was forced to chop it up into smaller pieces and then had to daintily eat around the pink or undercooked parts of the pork patty.  I didn't get sick afterwards, so I guess I will survive, but I really, really, REALLY hate eating pink meat.\\n\\nIt would have been nice if they allowed their customers the ability of choosing how they want their meat cooked.\\n\\nBrat Haus had just cooked a pig, so a couple people in my party decided to try that.  It didn't look very good and one guy even stopped eating it.  \\n\\nThis guy requested some crispy skin and about 15-20 minutes later they brought out some \"chicharrones.\"\\n\\nI have never tried this stuff and I am glad I haven't, because I wouldn't have any teeth left.  I took a little bite and nearly chipped a tooth...and it tasted awful.  Blech.  Who eats this stuff?\\n\\nReally the only thing that they did well was the beer and a nutella milkshake that I ordered.\\n\\nPlease God don't have my friends take me to this place again...                                                                                                                                                                                                                                                                                                                       1\n",
       "I sold my restaurant through Selling Restaurants and had such a fantastic experience!  Mel is professional, quick and was always available during the process.  I would definitely recommend this company if you are choosing to buy or sell your business.                                                                                                                                                                                                                                                                                                                                                                                                                                                                                                                                                                                                                                                                                                                                                                                                                                                                                                                                                                                                                                                                                                                                                                                                                                                                                                                                                                                                                                                                                                                                                                                                                                                                                                                                                                                                                                                                                   1\n",
       "J étais un habitué. Quand on vient souper un trio de fondu 75$ pour deux, puis un mouton cadet à 23$, on a s'attend à autre chose que de la viande de bœuf servie noire, une fois puis deux fois après avoir demandé un changement d'assiette. De plus la viande avait un goût de poisson, pour la deuxième assiette. La troisième avait l air correcte, mais bon deux expérience négative ça coupe l'appétit. En plus, limite on te rit à la face .. \\nC'est bon ça suffit. \\nTu prends un café pour terminer le souper, et la facture. 138 $ taxes et tip compris,Tu paies plein pot. Tu crois qu'ils auraient offert le café pour s'excuser ? Même pas ! Bonjour le sens du commerce ...                                                                                                                                                                                                                                                                                                                                                                                                                                                                                                                                                                                                                                                                                                                                                                                                                                                                                                                                                                                                                                                                                                                                                                                                                                                                                                                                                                                                                                                   1\n",
       "Ramen is taking a while to catch on around where I live, so I drive for 30 minutes to get it at Kenzo. And I'll tell you this; it's well worth the drive. The broth is flavorful, the noodles are just the right chewiness and the sides are made just right. \\n\\nThe last time I trekked out to Mississauga, I ordered the Tonkotsu Ramen and a side of gyoza. The smokiness of the pork topping was wonderful against the savory broth and the sweetness of the pork & onion dumplings was a satisfying contrast.\\n\\nI envy those who can pop into Kenzo ramen shop whenever the weather gets cold, for me, it's a rare treat for when I can spare a few hours, but I look forward to it whenever the occasion presents itself.\\n\\nThis spectacular Japanese version of Asian comfort food is absolutely a must while you're in the area of this or any Kenzo Ramen Shop.                                                                                                                                                                                                                                                                                                                                                                                                                                                                                                                                                                                                                                                                                                                                                                                                                                                                                                                                                                                                                                                                                                                                                                                                                                                                   1\n",
       "Ashley Boyd, Michael and myself discussed my recent trip to 300 East and have straightened out any problems that existed during my dining experience.  As usual, if I had handled the misunderstanding during my visit there have been no misgivings when I departed the restaurant.\\nI am looking forward to my next experience there very soon.                                                                                                                                                                                                                                                                                                                                                                                                                                                                                                                                                                                                                                                                                                                                                                                                                                                                                                                                                                                                                                                                                                                                                                                                                                                                                                                                                                                                                                                                                                                                                                                                                                                                                                                                                                                             1\n",
       "I'm forever grateful to Dr Abbruzzino. After 4 years visiting all kinds of doctors conventional and alternative, acupuncture, massage, osteopathic, physiotherapy, you name it. Nothing worked and I couldn't walk more than 2 blocks at a time. He was the only one that was able to diagnose my condition accurately. After a few super short painless treatments I started walking again, now I can walk for 20 minutes at a time and every month I notice further improvement. He told me that after four years is going to take some time to get to a 100% improvement. However, I keep feeling better and better so I have no doubt that I'll get there, it is just a matter of time. Thank you Dr. Sam from the bottom of my heart! BTW his bed side manners are impeccable and his secretary is awesome.                                                                                                                                                                                                                                                                                                                                                                                                                                                                                                                                                                                                                                                                                                                                                                                                                                                                                                                                                                                                                                                                                                                                                                                                                                                                                                                              1\n",
       "My husband fancies himself a connoisseur of baked goods, particularly donuts.  \\n\\nAnd this place, hands down, is his FAVORITE.  Best glazed donuts ever. \\n\\nI'm not a huge fan of donuts, but even this place has me drooling.                                                                                                                                                                                                                                                                                                                                                                                                                                                                                                                                                                                                                                                                                                                                                                                                                                                                                                                                                                                                                                                                                                                                                                                                                                                                                                                                                                                                                                                                                                                                                                                                                                                                                                                                                                                                                                                                                                              1\n",
       "So, I kinda grew up on chicken fried steak.  Healthy, I know.  Anyway, after moving to AZ I was desperate to find a good chicken fried steak.  I found it here!  I'll be honest.  The 5 stars is really just for the chicken fried steak.  I don't care that much for their other steaks.  The service is prompt so I don't mind too much that they don't smile.  Just bring me my chicken fried steak and mashed potatoes and gravy and leave me alone!  \\n\\nOh yeah...if you go at lunchtime the chicken fried steak special is only $7.                                                                                                                                                                                                                                                                                                                                                                                                                                                                                                                                                                                                                                                                                                                                                                                                                                                                                                                                                                                                                                                                                                                                                                                                                                                                                                                                                                                                                                                                                                                                                                                                    1\n",
       "You would expect a lot more being a buffet at The Palms Casino Resort... But don't get your hopes up TOO high...\\n\\nI mean, it isn't terrible I just had way better and expected a lot better. Their breakfast has a decent selection but overall selection is terrible. $18 isn't bad for a buffet but that $18 you are paying goes all into the pretty decor this buffet has to offer... \\n\\nThe one dish I really liked though was the fillet mignon, surprised the hell out of me... I was happy to eat something worth $18 here. \\n\\nYeah I'd go back, if I was hung over or drunk... or just really hungry and had $18 left in my wallet..                                                                                                                                                                                                                                                                                                                                                                                                                                                                                                                                                                                                                                                                                                                                                                                                                                                                                                                                                                                                                                                                                                                                                                                                                                                                                                                                                                                                                                                                                              1\n",
       "Love this place! It has so much charm. The food is right up there with what your make at home. Real simple and down to earth. Like your mother or grandmother made it for you.\\n\\nThere are a lot of things to check out while you are seated and most are available for sale.\\n\\nWill be going back for sure!                                                                                                                                                                                                                                                                                                                                                                                                                                                                                                                                                                                                                                                                                                                                                                                                                                                                                                                                                                                                                                                                                                                                                                                                                                                                                                                                                                                                                                                                                                                                                                                                                                                                                                                                                                                                                                1\n",
       "This place was just okay to me.  We had a party of four and sat at a picnic table inside. Our server was decent but halfway through the our time there she appeared to be heavily intoxicated.  I was disappointed that they only had one brew on draft. The quesadillas were disgusting, but the mini churros were decent.                                                                                                                                                                                                                                                                                                                                                                                                                                                                                                                                                                                                                                                                                                                                                                                                                                                                                                                                                                                                                                                                                                                                                                                                                                                                                                                                                                                                                                                                                                                                                                                                                                                                                                                                                                                                                   1\n",
       "Best Thia food I've found in Las Vegas. Must visit!! Will not disappoint and the menu is huge. Ordered six different dishes and not one  disappointment. The service was awesome and a good variety of wine and beer to boot. it was an overall GREAT dining experience.                                                                                                                                                                                                                                                                                                                                                                                                                                                                                                                                                                                                                                                                                                                                                                                                                                                                                                                                                                                                                                                                                                                                                                                                                                                                                                                                                                                                                                                                                                                                                                                                                                                                                                                                                                                                                                                                      1\n",
       "A decent hotel just off the strip close to the action and featuring the heavenly bed. Ahhh, love that westin thought of a guests comfort.                                                                                                                                                                                                                                                                                                                                                                                                                                                                                                                                                                                                                                                                                                                                                                                                                                                                                                                                                                                                                                                                                                                                                                                                                                                                                                                                                                                                                                                                                                                                                                                                                                                                                                                                                                                                                                                                                                                                                                                                     1\n",
       "One of my favorite spots in Ballantyne. \\n\\nThe basil rolls are refreshing & unbelievably flavorful. The Tom Yum soup is fantastic. \\n\\nThe service is always on point.                                                                                                                                                                                                                                                                                                                                                                                                                                                                                                                                                                                                                                                                                                                                                                                                                                                                                                                                                                                                                                                                                                                                                                                                                                                                                                                                                                                                                                                                                                                                                                                                                                                                                                                                                                                                                                                                                                                                                                       1\n",
       "Name: text, dtype: int64"
      ]
     },
     "execution_count": 34,
     "metadata": {},
     "output_type": "execute_result"
    }
   ],
   "source": [
    "review['text'].value_counts()"
   ]
  },
  {
   "cell_type": "code",
   "execution_count": 35,
   "metadata": {
    "collapsed": false
   },
   "outputs": [
    {
     "data": {
      "text/html": [
       "<div>\n",
       "<table border=\"1\" class=\"dataframe\">\n",
       "  <thead>\n",
       "    <tr style=\"text-align: right;\">\n",
       "      <th></th>\n",
       "      <th>yelping_since</th>\n",
       "      <th>useful</th>\n",
       "      <th>compliment_photos</th>\n",
       "      <th>compliment_list</th>\n",
       "      <th>compliment_funny</th>\n",
       "      <th>compliment_plain</th>\n",
       "      <th>review_count</th>\n",
       "      <th>elite</th>\n",
       "      <th>fans</th>\n",
       "      <th>type</th>\n",
       "      <th>...</th>\n",
       "      <th>compliment_cute</th>\n",
       "      <th>average_stars</th>\n",
       "      <th>user_id</th>\n",
       "      <th>compliment_more</th>\n",
       "      <th>friends</th>\n",
       "      <th>compliment_hot</th>\n",
       "      <th>cool</th>\n",
       "      <th>name</th>\n",
       "      <th>compliment_profile</th>\n",
       "      <th>compliment_cool</th>\n",
       "    </tr>\n",
       "  </thead>\n",
       "  <tbody>\n",
       "    <tr>\n",
       "      <th>0</th>\n",
       "      <td>2009-09-12</td>\n",
       "      <td>18456</td>\n",
       "      <td>1347</td>\n",
       "      <td>19</td>\n",
       "      <td>4192</td>\n",
       "      <td>2617</td>\n",
       "      <td>761</td>\n",
       "      <td>['2017', '2015', '2016', '2014', '2011', '2013...</td>\n",
       "      <td>298</td>\n",
       "      <td>user</td>\n",
       "      <td>...</td>\n",
       "      <td>79</td>\n",
       "      <td>3.59</td>\n",
       "      <td>EZmocAborM6z66rTzeZxzQ</td>\n",
       "      <td>305</td>\n",
       "      <td>['iJg9ekPzF9lkMuvjKYX6uA', 'ctWAuzS04Xu0lke2Ro...</td>\n",
       "      <td>3904</td>\n",
       "      <td>17579</td>\n",
       "      <td>Rob</td>\n",
       "      <td>207</td>\n",
       "      <td>4192</td>\n",
       "    </tr>\n",
       "  </tbody>\n",
       "</table>\n",
       "<p>1 rows × 23 columns</p>\n",
       "</div>"
      ],
      "text/plain": [
       "  yelping_since  useful  compliment_photos  compliment_list  compliment_funny  \\\n",
       "0    2009-09-12   18456               1347               19              4192   \n",
       "\n",
       "   compliment_plain  review_count  \\\n",
       "0              2617           761   \n",
       "\n",
       "                                               elite  fans  type  \\\n",
       "0  ['2017', '2015', '2016', '2014', '2011', '2013...   298  user   \n",
       "\n",
       "        ...         compliment_cute  average_stars                 user_id  \\\n",
       "0       ...                      79           3.59  EZmocAborM6z66rTzeZxzQ   \n",
       "\n",
       "   compliment_more                                            friends  \\\n",
       "0              305  ['iJg9ekPzF9lkMuvjKYX6uA', 'ctWAuzS04Xu0lke2Ro...   \n",
       "\n",
       "  compliment_hot   cool name  compliment_profile  compliment_cool  \n",
       "0           3904  17579  Rob                 207             4192  \n",
       "\n",
       "[1 rows x 23 columns]"
      ]
     },
     "execution_count": 35,
     "metadata": {},
     "output_type": "execute_result"
    }
   ],
   "source": [
    "user.head(1)"
   ]
  },
  {
   "cell_type": "code",
   "execution_count": 36,
   "metadata": {
    "collapsed": false
   },
   "outputs": [
    {
     "data": {
      "text/plain": [
       "4153150"
      ]
     },
     "execution_count": 36,
     "metadata": {},
     "output_type": "execute_result"
    }
   ],
   "source": [
    "len(review)"
   ]
  },
  {
   "cell_type": "code",
   "execution_count": 23,
   "metadata": {
    "collapsed": true
   },
   "outputs": [],
   "source": [
    "data = pd.merge(business, review, on = 'business_id', how = 'inner')"
   ]
  },
  {
   "cell_type": "code",
   "execution_count": 24,
   "metadata": {
    "collapsed": false
   },
   "outputs": [
    {
     "data": {
      "text/plain": [
       "2540794"
      ]
     },
     "execution_count": 24,
     "metadata": {},
     "output_type": "execute_result"
    }
   ],
   "source": [
    "len(data)"
   ]
  },
  {
   "cell_type": "code",
   "execution_count": 25,
   "metadata": {
    "collapsed": true
   },
   "outputs": [],
   "source": [
    "data = pd.merge(business, review, on = 'business_id', how = 'inner')"
   ]
  },
  {
   "cell_type": "code",
   "execution_count": 26,
   "metadata": {
    "collapsed": false
   },
   "outputs": [
    {
     "data": {
      "text/plain": [
       "2540794"
      ]
     },
     "execution_count": 26,
     "metadata": {},
     "output_type": "execute_result"
    }
   ],
   "source": [
    "len(newdata)"
   ]
  },
  {
   "cell_type": "code",
   "execution_count": 27,
   "metadata": {
    "collapsed": false
   },
   "outputs": [
    {
     "data": {
      "text/plain": [
       "Index([u'neighborhood', u'business_id', u'hours', u'is_open', u'address',\n",
       "       u'attributes', u'categories', u'city', u'review_count_x', u'name_x',\n",
       "       u'longitude', u'state', u'stars_x', u'latitude', u'postal_code',\n",
       "       u'type_x', u'funny_x', u'user_id', u'review_id', u'text', u'stars_y',\n",
       "       u'date', u'useful_x', u'type_y', u'cool_x', u'yelping_since',\n",
       "       u'useful_y', u'compliment_photos', u'compliment_list',\n",
       "       u'compliment_funny', u'compliment_plain', u'review_count_y', u'elite',\n",
       "       u'fans', u'type', u'compliment_note', u'funny_y', u'compliment_writer',\n",
       "       u'compliment_cute', u'average_stars', u'compliment_more', u'friends',\n",
       "       u'compliment_hot', u'cool_y', u'name_y', u'compliment_profile',\n",
       "       u'compliment_cool'],\n",
       "      dtype='object')"
      ]
     },
     "execution_count": 27,
     "metadata": {},
     "output_type": "execute_result"
    }
   ],
   "source": [
    "newdata.columns"
   ]
  },
  {
   "cell_type": "code",
   "execution_count": null,
   "metadata": {
    "collapsed": true
   },
   "outputs": [],
   "source": [
    "#newdata = newdata.to_csv(\"C:/desktop/ml-project/yelp_academic_dataset/csv files/newdata.csv\", sep = '\\t')newdata = newdata.to_csv(\"C:/desktop/ml-project/yelp_academic_dataset/csv files/newdata.csv\", sep = '\\t')"
   ]
  },
  {
   "cell_type": "code",
   "execution_count": 28,
   "metadata": {
    "collapsed": false,
    "scrolled": true
   },
   "outputs": [
    {
     "data": {
      "text/plain": [
       "['Mexican', 'Restaurants']                                                                                                                                                                                            47932\n",
       "['Restaurants', 'Mexican']                                                                                                                                                                                            45356\n",
       "['Pizza', 'Restaurants']                                                                                                                                                                                              26278\n",
       "['Chinese', 'Restaurants']                                                                                                                                                                                            25031\n",
       "['Restaurants', 'Italian']                                                                                                                                                                                            23757\n",
       "['Restaurants', 'Chinese']                                                                                                                                                                                            22506\n",
       "['Italian', 'Restaurants']                                                                                                                                                                                            21090\n",
       "['Restaurants', 'Pizza']                                                                                                                                                                                              20790\n",
       "['Restaurants', 'Burgers']                                                                                                                                                                                            16862\n",
       "['Thai', 'Restaurants']                                                                                                                                                                                               16362\n",
       "['Restaurants', 'Thai']                                                                                                                                                                                               16021\n",
       "['American (New)', 'Restaurants']                                                                                                                                                                                     14442\n",
       "['Restaurants', 'Vietnamese']                                                                                                                                                                                         13189\n",
       "['Steakhouses', 'Restaurants']                                                                                                                                                                                        12381\n",
       "['Sushi Bars', 'Japanese', 'Restaurants']                                                                                                                                                                             12256\n",
       "['Restaurants', 'American (New)']                                                                                                                                                                                     10919\n",
       "['Japanese', 'Restaurants']                                                                                                                                                                                           10440\n",
       "['Restaurants', 'American (Traditional)']                                                                                                                                                                             10006\n",
       "['Vietnamese', 'Restaurants']                                                                                                                                                                                          9916\n",
       "['Burgers', 'Restaurants']                                                                                                                                                                                             9733\n",
       "['Breakfast & Brunch', 'Restaurants']                                                                                                                                                                                  9671\n",
       "['Restaurants', 'Breakfast & Brunch']                                                                                                                                                                                  9647\n",
       "['American (Traditional)', 'Restaurants']                                                                                                                                                                              9207\n",
       "['Restaurants', 'Sushi Bars', 'Japanese']                                                                                                                                                                              9004\n",
       "['Restaurants', 'Sushi Bars']                                                                                                                                                                                          8577\n",
       "['Buffets', 'Restaurants']                                                                                                                                                                                             8554\n",
       "['Restaurants', 'Japanese']                                                                                                                                                                                            8478\n",
       "['Japanese', 'Restaurants', 'Sushi Bars']                                                                                                                                                                              8326\n",
       "['Restaurants', 'Steakhouses']                                                                                                                                                                                         7667\n",
       "['Indian', 'Restaurants']                                                                                                                                                                                              7599\n",
       "                                                                                                                                                                                                                      ...  \n",
       "['Food', 'Mexican', 'Specialty Food', 'Restaurants', 'Ethnic Food']                                                                                                                                                       3\n",
       "['Sushi Bars', 'Restaurants', 'Soup', 'Japanese']                                                                                                                                                                         3\n",
       "['Bars', 'Pubs', 'Restaurants', 'British', 'Nightlife']                                                                                                                                                                   3\n",
       "['Canadian (New)', 'Mediterranean', 'Pizza', 'Restaurants', 'Food']                                                                                                                                                       3\n",
       "['Vegetarian', 'Vietnamese', 'Restaurants']                                                                                                                                                                               3\n",
       "['Fast Food', 'Pizza', 'Restaurants', 'Burgers']                                                                                                                                                                          3\n",
       "['Italian', 'Pizza', 'Restaurants', 'Mediterranean', 'Steakhouses']                                                                                                                                                       3\n",
       "['Restaurants', 'Food', 'Bankruptcy Law', 'Financial Services', 'Estate Planning Law', 'Ice Cream & Frozen Yogurt', 'Professional Services', 'Tax Services', 'Business Consulting', 'Tax Law', 'Pizza', 'Lawyers']        3\n",
       "['Restaurants', 'Food', 'Food Trucks', 'Food Stands', 'Street Vendors']                                                                                                                                                   3\n",
       "['Pizza', 'Restaurants', 'Italian', 'Buffets', 'Desserts', 'Chicken Wings', 'Food']                                                                                                                                       3\n",
       "['Middle Eastern', 'Halal', 'Restaurants', 'Mediterranean']                                                                                                                                                               3\n",
       "['Juice Bars & Smoothies', 'Cafes', 'Food', 'Coffee & Tea', 'Restaurants', 'Health Markets', 'Specialty Food']                                                                                                            3\n",
       "['Arts & Entertainment', 'Bars', 'American (Traditional)', 'Sports Bars', 'Cinema', 'Nightlife', 'Restaurants']                                                                                                           3\n",
       "['Breakfast & Brunch', 'Sandwiches', 'Bagels', 'Food', 'Bakeries', 'Restaurants']                                                                                                                                         3\n",
       "['Food', 'Coffee & Tea', 'Fast Food', 'Donuts', 'Restaurants']                                                                                                                                                            3\n",
       "['Nightlife', 'Bars', 'Cocktail Bars', 'Lounges', 'Italian', 'Restaurants']                                                                                                                                               3\n",
       "['Cajun/Creole', 'American (Traditional)', 'Restaurants', 'Caribbean', 'Seafood']                                                                                                                                         3\n",
       "['Italian', 'Restaurants', 'Pizza', 'Fast Food']                                                                                                                                                                          3\n",
       "['Restaurants', 'Indian', 'African']                                                                                                                                                                                      3\n",
       "['Kiosk', 'Local Flavor', 'Shopping', 'Coffee & Tea', 'Food', 'Restaurants', 'Cafes']                                                                                                                                     3\n",
       "['American (Traditional)', 'Restaurants', 'Bars', 'Sports Bars', 'Nightlife']                                                                                                                                             3\n",
       "['Food', 'Food Delivery Services', 'Restaurants', 'Food Trucks', 'Indonesian']                                                                                                                                            3\n",
       "['Restaurants', 'Nightlife', 'Diners', 'Bars']                                                                                                                                                                            3\n",
       "['Cafes', 'Restaurants', 'Breakfast & Brunch', 'Food', 'Delis', 'Coffee & Tea']                                                                                                                                           3\n",
       "['Street Vendors', 'Food', 'Food Stands', 'Restaurants']                                                                                                                                                                  3\n",
       "['Restaurants', 'Gas & Service Stations', 'Convenience Stores', 'Food', 'Fast Food', 'Burgers', 'Automotive']                                                                                                             3\n",
       "['Specialty Food', 'Restaurants', 'Cajun/Creole', 'Food', 'Ethnic Food']                                                                                                                                                  3\n",
       "['Restaurants', 'Food Delivery Services', 'Specialty Food', 'Food', 'Pizza']                                                                                                                                              3\n",
       "['Diners', 'Food', 'Bakeries', 'Restaurants']                                                                                                                                                                             3\n",
       "['Shopping Centers', 'Restaurants', 'Shopping', 'Arts & Entertainment', 'Cafes', 'Museums', 'Local Flavor']                                                                                                               3\n",
       "Name: categories, dtype: int64"
      ]
     },
     "execution_count": 28,
     "metadata": {},
     "output_type": "execute_result"
    }
   ],
   "source": [
    "newdata['categories'].value_counts()"
   ]
  },
  {
   "cell_type": "code",
   "execution_count": 29,
   "metadata": {
    "collapsed": true
   },
   "outputs": [],
   "source": [
    "joinedFrames= newdata[['business_id', 'name_x', 'review_count_x', 'stars_x', 'user_id', 'name_y', 'review_count_y', 'stars_y', 'city', 'average_stars','review_count_y', 'review_id']]"
   ]
  },
  {
   "cell_type": "code",
   "execution_count": 30,
   "metadata": {
    "collapsed": false
   },
   "outputs": [
    {
     "data": {
      "text/html": [
       "<div>\n",
       "<table border=\"1\" class=\"dataframe\">\n",
       "  <thead>\n",
       "    <tr style=\"text-align: right;\">\n",
       "      <th></th>\n",
       "      <th>business_id</th>\n",
       "      <th>name_x</th>\n",
       "      <th>review_count_x</th>\n",
       "      <th>stars_x</th>\n",
       "      <th>user_id</th>\n",
       "      <th>name_y</th>\n",
       "      <th>review_count_y</th>\n",
       "      <th>stars_y</th>\n",
       "      <th>city</th>\n",
       "      <th>average_stars</th>\n",
       "      <th>review_count_y</th>\n",
       "      <th>review_id</th>\n",
       "    </tr>\n",
       "  </thead>\n",
       "  <tbody>\n",
       "    <tr>\n",
       "      <th>0</th>\n",
       "      <td>EDqCEAGXVGCH4FJXgqtjqg</td>\n",
       "      <td>Pizza Pizza</td>\n",
       "      <td>7</td>\n",
       "      <td>2.5</td>\n",
       "      <td>-tHsCH0WAqDUncynPhVkKg</td>\n",
       "      <td>Danny</td>\n",
       "      <td>40</td>\n",
       "      <td>1</td>\n",
       "      <td>Toronto</td>\n",
       "      <td>1.8</td>\n",
       "      <td>40</td>\n",
       "      <td>Mz0vJLJTTRwyYKQlYOEHCA</td>\n",
       "    </tr>\n",
       "    <tr>\n",
       "      <th>1</th>\n",
       "      <td>Bz6UcQZgRkrGtDwcagvt9w</td>\n",
       "      <td>Ronnie B's Southern Kitchen &amp; Taps</td>\n",
       "      <td>8</td>\n",
       "      <td>3.5</td>\n",
       "      <td>-tHsCH0WAqDUncynPhVkKg</td>\n",
       "      <td>Danny</td>\n",
       "      <td>40</td>\n",
       "      <td>3</td>\n",
       "      <td>Toronto</td>\n",
       "      <td>1.8</td>\n",
       "      <td>40</td>\n",
       "      <td>GwkfLuuTBtTjHQOYJ-Qc9A</td>\n",
       "    </tr>\n",
       "  </tbody>\n",
       "</table>\n",
       "</div>"
      ],
      "text/plain": [
       "              business_id                              name_x  review_count_x  \\\n",
       "0  EDqCEAGXVGCH4FJXgqtjqg                         Pizza Pizza               7   \n",
       "1  Bz6UcQZgRkrGtDwcagvt9w  Ronnie B's Southern Kitchen & Taps               8   \n",
       "\n",
       "   stars_x                 user_id name_y  review_count_y  stars_y     city  \\\n",
       "0      2.5  -tHsCH0WAqDUncynPhVkKg  Danny              40        1  Toronto   \n",
       "1      3.5  -tHsCH0WAqDUncynPhVkKg  Danny              40        3  Toronto   \n",
       "\n",
       "   average_stars  review_count_y               review_id  \n",
       "0            1.8              40  Mz0vJLJTTRwyYKQlYOEHCA  \n",
       "1            1.8              40  GwkfLuuTBtTjHQOYJ-Qc9A  "
      ]
     },
     "execution_count": 30,
     "metadata": {},
     "output_type": "execute_result"
    }
   ],
   "source": [
    "joinedFrames.head(2)"
   ]
  },
  {
   "cell_type": "code",
   "execution_count": 31,
   "metadata": {
    "collapsed": false
   },
   "outputs": [
    {
     "data": {
      "text/plain": [
       "2540794"
      ]
     },
     "execution_count": 31,
     "metadata": {},
     "output_type": "execute_result"
    }
   ],
   "source": [
    "len(joinedFrames)"
   ]
  },
  {
   "cell_type": "code",
   "execution_count": 32,
   "metadata": {
    "collapsed": true
   },
   "outputs": [],
   "source": [
    "new_columns = joinedFrames.columns.values\n",
    "new_columns[1] = 'biz_name'\n",
    "new_columns[2] = 'business_review_count'\n",
    "new_columns[3] = 'business_average'\n",
    "new_columns[5] = 'user_name'\n",
    "new_columns[6] = 'user_review_count'\n",
    "new_columns[7] = 'stars'\n",
    "new_columns[9] = 'user_avg'\n",
    "new_columns[10] ='del'\n",
    "joinedFrames.columns = new_columns\n",
    "joinedFrames = joinedFrames.drop('del', 1)"
   ]
  },
  {
   "cell_type": "code",
   "execution_count": 33,
   "metadata": {
    "collapsed": false
   },
   "outputs": [
    {
     "data": {
      "text/html": [
       "<div>\n",
       "<table border=\"1\" class=\"dataframe\">\n",
       "  <thead>\n",
       "    <tr style=\"text-align: right;\">\n",
       "      <th></th>\n",
       "      <th>business_id</th>\n",
       "      <th>biz_name</th>\n",
       "      <th>business_review_count</th>\n",
       "      <th>business_average</th>\n",
       "      <th>user_id</th>\n",
       "      <th>user_name</th>\n",
       "      <th>user_review_count</th>\n",
       "      <th>stars</th>\n",
       "      <th>city</th>\n",
       "      <th>user_avg</th>\n",
       "      <th>review_id</th>\n",
       "    </tr>\n",
       "  </thead>\n",
       "  <tbody>\n",
       "    <tr>\n",
       "      <th>0</th>\n",
       "      <td>EDqCEAGXVGCH4FJXgqtjqg</td>\n",
       "      <td>Pizza Pizza</td>\n",
       "      <td>7</td>\n",
       "      <td>2.5</td>\n",
       "      <td>-tHsCH0WAqDUncynPhVkKg</td>\n",
       "      <td>Danny</td>\n",
       "      <td>40</td>\n",
       "      <td>1</td>\n",
       "      <td>Toronto</td>\n",
       "      <td>1.8</td>\n",
       "      <td>Mz0vJLJTTRwyYKQlYOEHCA</td>\n",
       "    </tr>\n",
       "    <tr>\n",
       "      <th>1</th>\n",
       "      <td>Bz6UcQZgRkrGtDwcagvt9w</td>\n",
       "      <td>Ronnie B's Southern Kitchen &amp; Taps</td>\n",
       "      <td>8</td>\n",
       "      <td>3.5</td>\n",
       "      <td>-tHsCH0WAqDUncynPhVkKg</td>\n",
       "      <td>Danny</td>\n",
       "      <td>40</td>\n",
       "      <td>3</td>\n",
       "      <td>Toronto</td>\n",
       "      <td>1.8</td>\n",
       "      <td>GwkfLuuTBtTjHQOYJ-Qc9A</td>\n",
       "    </tr>\n",
       "    <tr>\n",
       "      <th>2</th>\n",
       "      <td>mfcPR3V14i-GgkLlVtnNfw</td>\n",
       "      <td>Karelia Kitchen</td>\n",
       "      <td>74</td>\n",
       "      <td>4.0</td>\n",
       "      <td>-tHsCH0WAqDUncynPhVkKg</td>\n",
       "      <td>Danny</td>\n",
       "      <td>40</td>\n",
       "      <td>1</td>\n",
       "      <td>Toronto</td>\n",
       "      <td>1.8</td>\n",
       "      <td>Aad5gC8H2aqZA8OTZ3KiTA</td>\n",
       "    </tr>\n",
       "  </tbody>\n",
       "</table>\n",
       "</div>"
      ],
      "text/plain": [
       "              business_id                            biz_name  \\\n",
       "0  EDqCEAGXVGCH4FJXgqtjqg                         Pizza Pizza   \n",
       "1  Bz6UcQZgRkrGtDwcagvt9w  Ronnie B's Southern Kitchen & Taps   \n",
       "2  mfcPR3V14i-GgkLlVtnNfw                     Karelia Kitchen   \n",
       "\n",
       "   business_review_count  business_average                 user_id user_name  \\\n",
       "0                      7               2.5  -tHsCH0WAqDUncynPhVkKg     Danny   \n",
       "1                      8               3.5  -tHsCH0WAqDUncynPhVkKg     Danny   \n",
       "2                     74               4.0  -tHsCH0WAqDUncynPhVkKg     Danny   \n",
       "\n",
       "   user_review_count  stars     city  user_avg               review_id  \n",
       "0                 40      1  Toronto       1.8  Mz0vJLJTTRwyYKQlYOEHCA  \n",
       "1                 40      3  Toronto       1.8  GwkfLuuTBtTjHQOYJ-Qc9A  \n",
       "2                 40      1  Toronto       1.8  Aad5gC8H2aqZA8OTZ3KiTA  "
      ]
     },
     "execution_count": 33,
     "metadata": {},
     "output_type": "execute_result"
    }
   ],
   "source": [
    "joinedFrames.head(3)"
   ]
  },
  {
   "cell_type": "code",
   "execution_count": 34,
   "metadata": {
    "collapsed": true
   },
   "outputs": [],
   "source": [
    "data = joinedFrames.to_csv(\"C:\\desktop\\ml-project\\yelp_academic_dataset\\csv files/data.csv\", sep ='\\t')"
   ]
  },
  {
   "cell_type": "code",
   "execution_count": null,
   "metadata": {
    "collapsed": false,
    "scrolled": true
   },
   "outputs": [],
   "source": [
    "joinedFrames['city'].value_counts()"
   ]
  },
  {
   "cell_type": "code",
   "execution_count": null,
   "metadata": {
    "collapsed": false
   },
   "outputs": [],
   "source": [
    "joinedFrames['stars'].value_counts()"
   ]
  },
  {
   "cell_type": "code",
   "execution_count": 35,
   "metadata": {
    "collapsed": false
   },
   "outputs": [
    {
     "name": "stderr",
     "output_type": "stream",
     "text": [
      "C:\\Users\\Harika Konagala\\Anaconda2\\lib\\site-packages\\matplotlib\\__init__.py:872: UserWarning: axes.color_cycle is deprecated and replaced with axes.prop_cycle; please use the latter.\n",
      "  warnings.warn(self.msg_depr % (key, alt_key))\n"
     ]
    }
   ],
   "source": [
    "%matplotlib inline\n",
    "from collections import defaultdict\n",
    "import json\n",
    "\n",
    "import numpy as np\n",
    "import scipy as sp\n",
    "import matplotlib.pyplot as plt\n",
    "\n",
    "\n",
    "from matplotlib import rcParams\n",
    "import matplotlib.cm as cm\n",
    "import matplotlib as mpl\n",
    "\n",
    "#colorbrewer2 Dark2 qualitative color table\n",
    "dark2_colors = [(0.10588235294117647, 0.6196078431372549, 0.4666666666666667),\n",
    "                (0.8509803921568627, 0.37254901960784315, 0.00784313725490196),\n",
    "                (0.4588235294117647, 0.4392156862745098, 0.7019607843137254),\n",
    "                (0.9058823529411765, 0.1607843137254902, 0.5411764705882353),\n",
    "                (0.4, 0.6509803921568628, 0.11764705882352941),\n",
    "                (0.9019607843137255, 0.6705882352941176, 0.00784313725490196),\n",
    "                (0.6509803921568628, 0.4627450980392157, 0.11372549019607843)]\n",
    "\n",
    "rcParams['figure.figsize'] = (10, 6)\n",
    "rcParams['figure.dpi'] = 150\n",
    "rcParams['axes.color_cycle'] = dark2_colors\n",
    "rcParams['lines.linewidth'] = 2\n",
    "rcParams['axes.facecolor'] = 'white'\n",
    "rcParams['font.size'] = 14\n",
    "rcParams['patch.edgecolor'] = 'white'\n",
    "rcParams['patch.facecolor'] = dark2_colors[0]\n",
    "rcParams['font.family'] = 'StixGeneral'\n",
    "\n",
    "\n",
    "def remove_border(axes=None, top=False, right=False, left=True, bottom=True):\n",
    "    \"\"\"\n",
    "    Minimize chartjunk by stripping out unnecesasry plot borders and axis ticks\n",
    "    \n",
    "    The top/right/left/bottom keywords toggle whether the corresponding plot border is drawn\n",
    "    \"\"\"\n",
    "    ax = axes or plt.gca()\n",
    "    ax.spines['top'].set_visible(top)\n",
    "    ax.spines['right'].set_visible(right)\n",
    "    ax.spines['left'].set_visible(left)\n",
    "    ax.spines['bottom'].set_visible(bottom)\n",
    "    \n",
    "    #turn off all ticks\n",
    "    ax.yaxis.set_ticks_position('none')\n",
    "    ax.xaxis.set_ticks_position('none')\n",
    "    \n",
    "    #now re-enable visibles\n",
    "    if top:\n",
    "        ax.xaxis.tick_top()\n",
    "    if bottom:\n",
    "        ax.xaxis.tick_bottom()\n",
    "    if left:\n",
    "        ax.yaxis.tick_left()\n",
    "    if right:\n",
    "        ax.yaxis.tick_right()\n",
    "        \n",
    "pd.set_option('display.width', 500)\n",
    "pd.set_option('display.max_columns', 100)"
   ]
  },
  {
   "cell_type": "code",
   "execution_count": 36,
   "metadata": {
    "collapsed": false
   },
   "outputs": [
    {
     "data": {
      "image/png": "[encoded data removed]",
      "text/plain": [
       "<matplotlib.figure.Figure at 0x264e2208>"
      ]
     },
     "metadata": {},
     "output_type": "display_data"
    }
   ],
   "source": [
    "urc=joinedFrames.groupby('user_id').review_id.count()\n",
    "ax=urc.hist(bins=50, log=True)\n",
    "remove_border(ax)\n",
    "plt.xlabel(\"Reviews per user\")\n",
    "plt.grid(False)\n",
    "plt.grid(axis = 'y', color ='white', linestyle='-')\n",
    "plt.title(\"Review Count per User\");"
   ]
  },
  {
   "cell_type": "code",
   "execution_count": 37,
   "metadata": {
    "collapsed": false
   },
   "outputs": [
    {
     "data": {
      "image/png": "[encoded data removed]",
      "text/plain": [
       "<matplotlib.figure.Figure at 0x264e2e80>"
      ]
     },
     "metadata": {},
     "output_type": "display_data"
    }
   ],
   "source": [
    "brc=joinedFrames.groupby('business_id').review_id.count()\n",
    "ax=brc.hist(bins=50, log=True)\n",
    "remove_border(ax)\n",
    "plt.xlabel(\"Reviews per restaurant\")\n",
    "plt.grid(False)\n",
    "plt.grid(axis = 'y', color ='white', linestyle='-')\n",
    "plt.title(\"Review Count per Restaurant\");"
   ]
  },
  {
   "cell_type": "code",
   "execution_count": 38,
   "metadata": {
    "collapsed": false
   },
   "outputs": [
    {
     "name": "stdout",
     "output_type": "stream",
     "text": [
      "Number of Reviews 2540794\n",
      "Number of Users 716601 Number of Businesses 47841\n"
     ]
    }
   ],
   "source": [
    "print \"Number of Reviews\",joinedFrames.shape[0]\n",
    "print \"Number of Users\", joinedFrames.user_id.unique().shape[0], \"Number of Businesses\", joinedFrames.business_id.unique().shape[0]"
   ]
  },
  {
   "cell_type": "code",
   "execution_count": 39,
   "metadata": {
    "collapsed": false
   },
   "outputs": [
    {
     "name": "stdout",
     "output_type": "stream",
     "text": [
      "Mean stars over all reviews: 3.70007367776\n"
     ]
    },
    {
     "data": {
      "image/png": "[encoded data removed]",
      "text/plain": [
       "<matplotlib.figure.Figure at 0x12fa6fa58>"
      ]
     },
     "metadata": {},
     "output_type": "display_data"
    }
   ],
   "source": [
    "print \"Mean stars over all reviews:\",joinedFrames.stars.mean()\n",
    "stars=joinedFrames.stars\n",
    "ax=stars.hist(bins=5)\n",
    "remove_border(ax)\n",
    "plt.xlabel(\"Star rating\")\n",
    "plt.grid(False)\n",
    "plt.grid(axis = 'y', color ='white', linestyle='-')\n",
    "plt.title(\"Star ratings over all reviews\");"
   ]
  },
  {
   "cell_type": "code",
   "execution_count": 40,
   "metadata": {
    "collapsed": true
   },
   "outputs": [],
   "source": [
    "def recompute_frame(ldf):\n",
    "    \"\"\"\n",
    "    takes a dataframe ldf, makes a copy of it, and returns the copy\n",
    "    with all averages and review counts recomputed\n",
    "    this is used when a frame is subsetted.\n",
    "    \"\"\"\n",
    "    ldfu=ldf.groupby('user_id')\n",
    "    ldfb=ldf.groupby('business_id')\n",
    "    user_avg=ldfu.stars.mean()\n",
    "    user_review_count=ldfu.review_id.count()\n",
    "    business_avg=ldfb.stars.mean()\n",
    "    business_review_count=ldfb.review_id.count()\n",
    "    nldf=ldf.copy()\n",
    "    nldf.set_index(['business_id'], inplace=True)\n",
    "    nldf['business_avg']=business_avg\n",
    "    nldf['business_review_count']=business_review_count\n",
    "    nldf.reset_index(inplace=True)\n",
    "    nldf.set_index(['user_id'], inplace=True)\n",
    "    nldf['user_avg']=user_avg\n",
    "    nldf['user_review_count']=user_review_count\n",
    "    nldf.reset_index(inplace=True)\n",
    "    return nldf"
   ]
  },
  {
   "cell_type": "code",
   "execution_count": 41,
   "metadata": {
    "collapsed": true
   },
   "outputs": [],
   "source": [
    "smallidf = joinedFrames[(joinedFrames.user_review_count > 60) & (joinedFrames.business_review_count > 150)]\n",
    "smalldf=recompute_frame(smallidf)"
   ]
  },
  {
   "cell_type": "code",
   "execution_count": 42,
   "metadata": {
    "collapsed": false
   },
   "outputs": [
    {
     "data": {
      "text/plain": [
       "478517"
      ]
     },
     "execution_count": 42,
     "metadata": {},
     "output_type": "execute_result"
    }
   ],
   "source": [
    "len(smalldf)"
   ]
  },
  {
   "cell_type": "code",
   "execution_count": 43,
   "metadata": {
    "collapsed": false
   },
   "outputs": [
    {
     "data": {
      "text/html": [
       "<div>\n",
       "<table border=\"1\" class=\"dataframe\">\n",
       "  <thead>\n",
       "    <tr style=\"text-align: right;\">\n",
       "      <th></th>\n",
       "      <th>user_id</th>\n",
       "      <th>business_id</th>\n",
       "      <th>biz_name</th>\n",
       "      <th>business_review_count</th>\n",
       "      <th>business_average</th>\n",
       "      <th>user_name</th>\n",
       "      <th>user_review_count</th>\n",
       "      <th>stars</th>\n",
       "      <th>city</th>\n",
       "      <th>user_avg</th>\n",
       "      <th>review_id</th>\n",
       "      <th>business_avg</th>\n",
       "    </tr>\n",
       "  </thead>\n",
       "  <tbody>\n",
       "    <tr>\n",
       "      <th>0</th>\n",
       "      <td>8bKpyXdiYF3ZKIB3QyEiVQ</td>\n",
       "      <td>bRntmjztJ4dFDA_LYiEECw</td>\n",
       "      <td>Snakes &amp; Lattes Annex</td>\n",
       "      <td>131</td>\n",
       "      <td>4.0</td>\n",
       "      <td>Patrick</td>\n",
       "      <td>11</td>\n",
       "      <td>5</td>\n",
       "      <td>Toronto</td>\n",
       "      <td>3.636364</td>\n",
       "      <td>HIaqS-HkJnevl5xu2_sO_Q</td>\n",
       "      <td>3.977099</td>\n",
       "    </tr>\n",
       "    <tr>\n",
       "      <th>1</th>\n",
       "      <td>8bKpyXdiYF3ZKIB3QyEiVQ</td>\n",
       "      <td>sRirP65Q7BSg3Lj9FdkKWQ</td>\n",
       "      <td>Gandhi Cuisine</td>\n",
       "      <td>107</td>\n",
       "      <td>4.0</td>\n",
       "      <td>Patrick</td>\n",
       "      <td>11</td>\n",
       "      <td>3</td>\n",
       "      <td>Toronto</td>\n",
       "      <td>3.636364</td>\n",
       "      <td>u9nq8Hs-YpVp8VRbHlHPpw</td>\n",
       "      <td>4.074766</td>\n",
       "    </tr>\n",
       "    <tr>\n",
       "      <th>2</th>\n",
       "      <td>8bKpyXdiYF3ZKIB3QyEiVQ</td>\n",
       "      <td>XZxJ4fG-4a3PP9VP5jvDWw</td>\n",
       "      <td>Mother India</td>\n",
       "      <td>72</td>\n",
       "      <td>4.0</td>\n",
       "      <td>Patrick</td>\n",
       "      <td>11</td>\n",
       "      <td>5</td>\n",
       "      <td>Toronto</td>\n",
       "      <td>3.636364</td>\n",
       "      <td>_gPM-rLjr3AXxs7P0G0hTw</td>\n",
       "      <td>4.208333</td>\n",
       "    </tr>\n",
       "  </tbody>\n",
       "</table>\n",
       "</div>"
      ],
      "text/plain": [
       "                  user_id             business_id               biz_name  business_review_count  business_average user_name  user_review_count  stars     city  user_avg               review_id  business_avg\n",
       "0  8bKpyXdiYF3ZKIB3QyEiVQ  bRntmjztJ4dFDA_LYiEECw  Snakes & Lattes Annex                    131               4.0   Patrick                 11      5  Toronto  3.636364  HIaqS-HkJnevl5xu2_sO_Q      3.977099\n",
       "1  8bKpyXdiYF3ZKIB3QyEiVQ  sRirP65Q7BSg3Lj9FdkKWQ         Gandhi Cuisine                    107               4.0   Patrick                 11      3  Toronto  3.636364  u9nq8Hs-YpVp8VRbHlHPpw      4.074766\n",
       "2  8bKpyXdiYF3ZKIB3QyEiVQ  XZxJ4fG-4a3PP9VP5jvDWw           Mother India                     72               4.0   Patrick                 11      5  Toronto  3.636364  _gPM-rLjr3AXxs7P0G0hTw      4.208333"
      ]
     },
     "execution_count": 43,
     "metadata": {},
     "output_type": "execute_result"
    }
   ],
   "source": [
    "smalldf.head(3)"
   ]
  },
  {
   "cell_type": "code",
   "execution_count": null,
   "metadata": {
    "collapsed": false,
    "scrolled": true
   },
   "outputs": [],
   "source": [
    "smalldf['city'].value_counts()"
   ]
  },
  {
   "cell_type": "code",
   "execution_count": 44,
   "metadata": {
    "collapsed": false
   },
   "outputs": [
    {
     "name": "stdout",
     "output_type": "stream",
     "text": [
      "Total Number of Reviews 478517\n",
      "Users in this set 66141 Restaurants 3755\n"
     ]
    },
    {
     "data": {
      "image/png": "[encoded data removed]",
      "text/plain": [
       "<matplotlib.figure.Figure at 0x12fa7bb00>"
      ]
     },
     "metadata": {},
     "output_type": "display_data"
    },
    {
     "data": {
      "image/png": "[encoded data removed]",
      "text/plain": [
       "<matplotlib.figure.Figure at 0xd1639ac8>"
      ]
     },
     "metadata": {},
     "output_type": "display_data"
    }
   ],
   "source": [
    "print \"Total Number of Reviews\", smalldf.shape[0]\n",
    "print \"Users in this set\", smalldf.user_id.unique().shape[0], \"Restaurants\",smalldf.business_id.unique().shape[0]\n",
    "plt.figure()\n",
    "ax=smalldf.groupby('user_id').review_id.count().hist(bins = 10, range = (0, 50))\n",
    "remove_border(ax)\n",
    "plt.xlabel(\"Reviews per user\")\n",
    "plt.grid(False)\n",
    "plt.grid(axis = 'y', color ='white', linestyle='-')\n",
    "plt.figure()\n",
    "ax=smalldf.groupby('business_id').review_id.count().hist(bins = 10, range = (0, 1200))\n",
    "remove_border(ax)\n",
    "plt.xlabel(\"Reviews per restaurant\")\n",
    "plt.grid(False)\n",
    "plt.grid(axis = 'y', color ='white', linestyle='-')"
   ]
  },
  {
   "cell_type": "code",
   "execution_count": 45,
   "metadata": {
    "collapsed": false
   },
   "outputs": [
    {
     "name": "stdout",
     "output_type": "stream",
     "text": [
      "3.81393137548\n"
     ]
    },
    {
     "data": {
      "text/plain": [
       "<matplotlib.figure.Figure at 0x2518fa58>"
      ]
     },
     "execution_count": 45,
     "metadata": {},
     "output_type": "execute_result"
    },
    {
     "data": {
      "image/png": "[encoded data removed]",
      "text/plain": [
       "<matplotlib.figure.Figure at 0xd1644e48>"
      ]
     },
     "metadata": {},
     "output_type": "display_data"
    },
    {
     "data": {
      "image/png": "[encoded data removed]",
      "text/plain": [
       "<matplotlib.figure.Figure at 0xbbe45518>"
      ]
     },
     "metadata": {},
     "output_type": "display_data"
    },
    {
     "data": {
      "text/plain": [
       "<matplotlib.figure.Figure at 0xcdd80828>"
      ]
     },
     "metadata": {},
     "output_type": "display_data"
    },
    {
     "data": {
      "text/plain": [
       "<matplotlib.figure.Figure at 0x2518fa58>"
      ]
     },
     "metadata": {},
     "output_type": "display_data"
    }
   ],
   "source": [
    "plt.figure()\n",
    "avg_ratings_by_user=smalldf.groupby('user_id').stars.mean()\n",
    "ax=avg_ratings_by_user.hist()\n",
    "remove_border(ax)\n",
    "plt.xlabel(\"Average review score\")\n",
    "plt.grid(False)\n",
    "plt.grid(axis = 'y', color ='white', linestyle='-')\n",
    "plt.title(\"Average User Rating\")\n",
    "plt.figure()\n",
    "\n",
    "avg_ratings_by_biz=smalldf.groupby('business_id').stars.mean()\n",
    "ax=avg_ratings_by_biz.hist()\n",
    "remove_border(ax)\n",
    "plt.xlabel(\"Average review score\")\n",
    "plt.grid(False)\n",
    "plt.grid(axis = 'y', color ='white', linestyle='-')\n",
    "plt.title(\"Average Restaurant Rating\")\n",
    "plt.figure()\n",
    "\n",
    "print smalldf.stars.mean()\n",
    "\n",
    "plt.figure()"
   ]
  },
  {
   "cell_type": "code",
   "execution_count": 46,
   "metadata": {
    "collapsed": true
   },
   "outputs": [],
   "source": [
    "data = smalldf.to_csv(\"C:/desktop/ml-project/yelp_academic_dataset/csv files/data.csv\")"
   ]
  },
  {
   "cell_type": "code",
   "execution_count": 47,
   "metadata": {
    "collapsed": false
   },
   "outputs": [
    {
     "data": {
      "text/html": [
       "<div>\n",
       "<table border=\"1\" class=\"dataframe\">\n",
       "  <thead>\n",
       "    <tr style=\"text-align: right;\">\n",
       "      <th></th>\n",
       "      <th>user_id</th>\n",
       "      <th>business_id</th>\n",
       "      <th>biz_name</th>\n",
       "      <th>business_review_count</th>\n",
       "      <th>business_average</th>\n",
       "      <th>user_name</th>\n",
       "      <th>user_review_count</th>\n",
       "      <th>stars</th>\n",
       "      <th>city</th>\n",
       "      <th>user_avg</th>\n",
       "      <th>review_id</th>\n",
       "      <th>business_avg</th>\n",
       "    </tr>\n",
       "  </thead>\n",
       "  <tbody>\n",
       "    <tr>\n",
       "      <th>478512</th>\n",
       "      <td>yC4ip7AO4vRGetklvJJv1Q</td>\n",
       "      <td>J1RDyyPxhioqm8c_fi4P4Q</td>\n",
       "      <td>Lola</td>\n",
       "      <td>335</td>\n",
       "      <td>4.0</td>\n",
       "      <td>Matt</td>\n",
       "      <td>1</td>\n",
       "      <td>3</td>\n",
       "      <td>Cleveland</td>\n",
       "      <td>3.0</td>\n",
       "      <td>3qMvK2tS4P6g1OFIpfr1oQ</td>\n",
       "      <td>4.292537</td>\n",
       "    </tr>\n",
       "    <tr>\n",
       "      <th>478513</th>\n",
       "      <td>dtjN0HrtInXubWgBTZQ_8g</td>\n",
       "      <td>J1RDyyPxhioqm8c_fi4P4Q</td>\n",
       "      <td>Lola</td>\n",
       "      <td>335</td>\n",
       "      <td>4.0</td>\n",
       "      <td>John</td>\n",
       "      <td>1</td>\n",
       "      <td>5</td>\n",
       "      <td>Cleveland</td>\n",
       "      <td>5.0</td>\n",
       "      <td>9JULI4oTr38kvw9frDUCJw</td>\n",
       "      <td>4.292537</td>\n",
       "    </tr>\n",
       "    <tr>\n",
       "      <th>478514</th>\n",
       "      <td>UN9gX1jSEcii9aCobBRj1A</td>\n",
       "      <td>J1RDyyPxhioqm8c_fi4P4Q</td>\n",
       "      <td>Lola</td>\n",
       "      <td>335</td>\n",
       "      <td>4.0</td>\n",
       "      <td>Jason</td>\n",
       "      <td>1</td>\n",
       "      <td>5</td>\n",
       "      <td>Cleveland</td>\n",
       "      <td>5.0</td>\n",
       "      <td>rTQLs2N6h_1GrLLu2U8TWQ</td>\n",
       "      <td>4.292537</td>\n",
       "    </tr>\n",
       "    <tr>\n",
       "      <th>478515</th>\n",
       "      <td>o45afb433ntWeNaDgQ2IPA</td>\n",
       "      <td>J1RDyyPxhioqm8c_fi4P4Q</td>\n",
       "      <td>Lola</td>\n",
       "      <td>335</td>\n",
       "      <td>4.0</td>\n",
       "      <td>A</td>\n",
       "      <td>1</td>\n",
       "      <td>5</td>\n",
       "      <td>Cleveland</td>\n",
       "      <td>5.0</td>\n",
       "      <td>xqOF6RGVnPZYH-21omANZQ</td>\n",
       "      <td>4.292537</td>\n",
       "    </tr>\n",
       "    <tr>\n",
       "      <th>478516</th>\n",
       "      <td>xPUjjq1rLRyCkEs8AXmRww</td>\n",
       "      <td>J1RDyyPxhioqm8c_fi4P4Q</td>\n",
       "      <td>Lola</td>\n",
       "      <td>335</td>\n",
       "      <td>4.0</td>\n",
       "      <td>Elliot</td>\n",
       "      <td>1</td>\n",
       "      <td>4</td>\n",
       "      <td>Cleveland</td>\n",
       "      <td>4.0</td>\n",
       "      <td>0YvjcVKNmdUB4IUDuvV4pA</td>\n",
       "      <td>4.292537</td>\n",
       "    </tr>\n",
       "  </tbody>\n",
       "</table>\n",
       "</div>"
      ],
      "text/plain": [
       "                       user_id             business_id biz_name  business_review_count  business_average user_name  user_review_count  stars       city  user_avg               review_id  business_avg\n",
       "478512  yC4ip7AO4vRGetklvJJv1Q  J1RDyyPxhioqm8c_fi4P4Q     Lola                    335               4.0      Matt                  1      3  Cleveland       3.0  3qMvK2tS4P6g1OFIpfr1oQ      4.292537\n",
       "478513  dtjN0HrtInXubWgBTZQ_8g  J1RDyyPxhioqm8c_fi4P4Q     Lola                    335               4.0      John                  1      5  Cleveland       5.0  9JULI4oTr38kvw9frDUCJw      4.292537\n",
       "478514  UN9gX1jSEcii9aCobBRj1A  J1RDyyPxhioqm8c_fi4P4Q     Lola                    335               4.0     Jason                  1      5  Cleveland       5.0  rTQLs2N6h_1GrLLu2U8TWQ      4.292537\n",
       "478515  o45afb433ntWeNaDgQ2IPA  J1RDyyPxhioqm8c_fi4P4Q     Lola                    335               4.0         A                  1      5  Cleveland       5.0  xqOF6RGVnPZYH-21omANZQ      4.292537\n",
       "478516  xPUjjq1rLRyCkEs8AXmRww  J1RDyyPxhioqm8c_fi4P4Q     Lola                    335               4.0    Elliot                  1      4  Cleveland       4.0  0YvjcVKNmdUB4IUDuvV4pA      4.292537"
      ]
     },
     "execution_count": 47,
     "metadata": {},
     "output_type": "execute_result"
    }
   ],
   "source": [
    "smalldf.tail(5)"
   ]
  },
  {
   "cell_type": "code",
   "execution_count": null,
   "metadata": {
    "collapsed": true
   },
   "outputs": [],
   "source": []
  }
 ],
 "metadata": {
  "anaconda-cloud": {},
  "kernelspec": {
   "display_name": "Python [Root]",
   "language": "python",
   "name": "Python [Root]"
  },
  "language_info": {
   "codemirror_mode": {
    "name": "ipython",
    "version": 2
   },
   "file_extension": ".py",
   "mimetype": "text/x-python",
   "name": "python",
   "nbconvert_exporter": "python",
   "pygments_lexer": "ipython2",
   "version": "2.7.12"
  }
 },
 "nbformat": 4,
 "nbformat_minor": 0
}
