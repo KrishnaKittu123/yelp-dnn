{
 "cells": [
  {
   "cell_type": "code",
   "execution_count": 3,
   "metadata": {
    "collapsed": true
   },
   "outputs": [],
   "source": [
    "import pandas as pd\n",
    "import csv"
   ]
  },
  {
   "cell_type": "code",
   "execution_count": 4,
   "metadata": {
    "collapsed": false
   },
   "outputs": [],
   "source": [
    "df_review = pd.read_csv(\"yelp_academic_dataset_review.csv\")"
   ]
  },
  {
   "cell_type": "code",
   "execution_count": 5,
   "metadata": {
    "collapsed": false,
    "scrolled": true
   },
   "outputs": [
    {
     "data": {
      "text/html": [
       "<div>\n",
       "<table border=\"1\" class=\"dataframe\">\n",
       "  <thead>\n",
       "    <tr style=\"text-align: right;\">\n",
       "      <th></th>\n",
       "      <th>funny</th>\n",
       "      <th>user_id</th>\n",
       "      <th>review_id</th>\n",
       "      <th>text</th>\n",
       "      <th>business_id</th>\n",
       "      <th>stars</th>\n",
       "      <th>date</th>\n",
       "      <th>useful</th>\n",
       "      <th>type</th>\n",
       "      <th>cool</th>\n",
       "    </tr>\n",
       "  </thead>\n",
       "  <tbody>\n",
       "    <tr>\n",
       "      <th>0</th>\n",
       "      <td>0</td>\n",
       "      <td>KpkOkG6RIf4Ra25Lhhxf1A</td>\n",
       "      <td>NxL8SIC5yqOdnlXCg18IBg</td>\n",
       "      <td>If you enjoy service by someone who is as comp...</td>\n",
       "      <td>2aFiy99vNLklCx3T_tGS9A</td>\n",
       "      <td>5</td>\n",
       "      <td>2011-10-10</td>\n",
       "      <td>0</td>\n",
       "      <td>review</td>\n",
       "      <td>0</td>\n",
       "    </tr>\n",
       "    <tr>\n",
       "      <th>1</th>\n",
       "      <td>0</td>\n",
       "      <td>bQ7fQq1otn9hKX-gXRsrgA</td>\n",
       "      <td>pXbbIgOXvLuTi_SPs1hQEQ</td>\n",
       "      <td>After being on the phone with Verizon Wireless...</td>\n",
       "      <td>2aFiy99vNLklCx3T_tGS9A</td>\n",
       "      <td>5</td>\n",
       "      <td>2010-12-29</td>\n",
       "      <td>1</td>\n",
       "      <td>review</td>\n",
       "      <td>0</td>\n",
       "    </tr>\n",
       "    <tr>\n",
       "      <th>2</th>\n",
       "      <td>0</td>\n",
       "      <td>r1NUhdNmL6yU9Bn-Yx6FTw</td>\n",
       "      <td>wslW2Lu4NYylb1jEapAGsw</td>\n",
       "      <td>Great service! Corey is very service oriented....</td>\n",
       "      <td>2aFiy99vNLklCx3T_tGS9A</td>\n",
       "      <td>5</td>\n",
       "      <td>2011-04-29</td>\n",
       "      <td>0</td>\n",
       "      <td>review</td>\n",
       "      <td>0</td>\n",
       "    </tr>\n",
       "    <tr>\n",
       "      <th>3</th>\n",
       "      <td>0</td>\n",
       "      <td>aW3ix1KNZAvoM8q-WghA3Q</td>\n",
       "      <td>GP6YEearUWrzPtQYSF1vVg</td>\n",
       "      <td>Highly recommended. Went in yesterday looking ...</td>\n",
       "      <td>2LfIuF3_sX6uwe-IR-P0jQ</td>\n",
       "      <td>5</td>\n",
       "      <td>2014-07-14</td>\n",
       "      <td>0</td>\n",
       "      <td>review</td>\n",
       "      <td>1</td>\n",
       "    </tr>\n",
       "    <tr>\n",
       "      <th>4</th>\n",
       "      <td>0</td>\n",
       "      <td>YOo-Cip8HqvKp_p9nEGphw</td>\n",
       "      <td>25RlYGq2s5qShi-pn3ufVA</td>\n",
       "      <td>I walked in here looking for a specific piece ...</td>\n",
       "      <td>2LfIuF3_sX6uwe-IR-P0jQ</td>\n",
       "      <td>4</td>\n",
       "      <td>2014-01-15</td>\n",
       "      <td>0</td>\n",
       "      <td>review</td>\n",
       "      <td>0</td>\n",
       "    </tr>\n",
       "  </tbody>\n",
       "</table>\n",
       "</div>"
      ],
      "text/plain": [
       "   funny                 user_id               review_id  \\\n",
       "0      0  KpkOkG6RIf4Ra25Lhhxf1A  NxL8SIC5yqOdnlXCg18IBg   \n",
       "1      0  bQ7fQq1otn9hKX-gXRsrgA  pXbbIgOXvLuTi_SPs1hQEQ   \n",
       "2      0  r1NUhdNmL6yU9Bn-Yx6FTw  wslW2Lu4NYylb1jEapAGsw   \n",
       "3      0  aW3ix1KNZAvoM8q-WghA3Q  GP6YEearUWrzPtQYSF1vVg   \n",
       "4      0  YOo-Cip8HqvKp_p9nEGphw  25RlYGq2s5qShi-pn3ufVA   \n",
       "\n",
       "                                                text             business_id  \\\n",
       "0  If you enjoy service by someone who is as comp...  2aFiy99vNLklCx3T_tGS9A   \n",
       "1  After being on the phone with Verizon Wireless...  2aFiy99vNLklCx3T_tGS9A   \n",
       "2  Great service! Corey is very service oriented....  2aFiy99vNLklCx3T_tGS9A   \n",
       "3  Highly recommended. Went in yesterday looking ...  2LfIuF3_sX6uwe-IR-P0jQ   \n",
       "4  I walked in here looking for a specific piece ...  2LfIuF3_sX6uwe-IR-P0jQ   \n",
       "\n",
       "   stars        date  useful    type  cool  \n",
       "0      5  2011-10-10       0  review     0  \n",
       "1      5  2010-12-29       1  review     0  \n",
       "2      5  2011-04-29       0  review     0  \n",
       "3      5  2014-07-14       0  review     1  \n",
       "4      4  2014-01-15       0  review     0  "
      ]
     },
     "execution_count": 5,
     "metadata": {},
     "output_type": "execute_result"
    }
   ],
   "source": [
    "df_review.head(5)"
   ]
  },
  {
   "cell_type": "code",
   "execution_count": 6,
   "metadata": {
    "collapsed": false
   },
   "outputs": [
    {
     "ename": "ValueError",
     "evalue": "labels ['Unnamed: 0'] not contained in axis",
     "output_type": "error",
     "traceback": [
      "\u001b[0;31m---------------------------------------------------------------------------\u001b[0m",
      "\u001b[0;31mValueError\u001b[0m                                Traceback (most recent call last)",
      "\u001b[0;32m<ipython-input-6-8d0464d984ca>\u001b[0m in \u001b[0;36m<module>\u001b[0;34m()\u001b[0m\n\u001b[0;32m----> 1\u001b[0;31m \u001b[0mdf_review\u001b[0m\u001b[1;33m.\u001b[0m\u001b[0mdrop\u001b[0m\u001b[1;33m(\u001b[0m\u001b[1;34m'Unnamed: 0'\u001b[0m\u001b[1;33m,\u001b[0m \u001b[0maxis\u001b[0m\u001b[1;33m=\u001b[0m\u001b[1;36m1\u001b[0m\u001b[1;33m,\u001b[0m \u001b[0minplace\u001b[0m \u001b[1;33m=\u001b[0m \u001b[0mTrue\u001b[0m\u001b[1;33m)\u001b[0m\u001b[1;33m\u001b[0m\u001b[0m\n\u001b[0m",
      "\u001b[0;32mC:\\ProgramData\\Anaconda2\\lib\\site-packages\\pandas\\core\\generic.py\u001b[0m in \u001b[0;36mdrop\u001b[0;34m(self, labels, axis, level, inplace, errors)\u001b[0m\n\u001b[1;32m   1905\u001b[0m                 \u001b[0mnew_axis\u001b[0m \u001b[1;33m=\u001b[0m \u001b[0maxis\u001b[0m\u001b[1;33m.\u001b[0m\u001b[0mdrop\u001b[0m\u001b[1;33m(\u001b[0m\u001b[0mlabels\u001b[0m\u001b[1;33m,\u001b[0m \u001b[0mlevel\u001b[0m\u001b[1;33m=\u001b[0m\u001b[0mlevel\u001b[0m\u001b[1;33m,\u001b[0m \u001b[0merrors\u001b[0m\u001b[1;33m=\u001b[0m\u001b[0merrors\u001b[0m\u001b[1;33m)\u001b[0m\u001b[1;33m\u001b[0m\u001b[0m\n\u001b[1;32m   1906\u001b[0m             \u001b[1;32melse\u001b[0m\u001b[1;33m:\u001b[0m\u001b[1;33m\u001b[0m\u001b[0m\n\u001b[0;32m-> 1907\u001b[0;31m                 \u001b[0mnew_axis\u001b[0m \u001b[1;33m=\u001b[0m \u001b[0maxis\u001b[0m\u001b[1;33m.\u001b[0m\u001b[0mdrop\u001b[0m\u001b[1;33m(\u001b[0m\u001b[0mlabels\u001b[0m\u001b[1;33m,\u001b[0m \u001b[0merrors\u001b[0m\u001b[1;33m=\u001b[0m\u001b[0merrors\u001b[0m\u001b[1;33m)\u001b[0m\u001b[1;33m\u001b[0m\u001b[0m\n\u001b[0m\u001b[1;32m   1908\u001b[0m             \u001b[0mdropped\u001b[0m \u001b[1;33m=\u001b[0m \u001b[0mself\u001b[0m\u001b[1;33m.\u001b[0m\u001b[0mreindex\u001b[0m\u001b[1;33m(\u001b[0m\u001b[1;33m**\u001b[0m\u001b[1;33m{\u001b[0m\u001b[0maxis_name\u001b[0m\u001b[1;33m:\u001b[0m \u001b[0mnew_axis\u001b[0m\u001b[1;33m}\u001b[0m\u001b[1;33m)\u001b[0m\u001b[1;33m\u001b[0m\u001b[0m\n\u001b[1;32m   1909\u001b[0m             \u001b[1;32mtry\u001b[0m\u001b[1;33m:\u001b[0m\u001b[1;33m\u001b[0m\u001b[0m\n",
      "\u001b[0;32mC:\\ProgramData\\Anaconda2\\lib\\site-packages\\pandas\\indexes\\base.py\u001b[0m in \u001b[0;36mdrop\u001b[0;34m(self, labels, errors)\u001b[0m\n\u001b[1;32m   3260\u001b[0m             \u001b[1;32mif\u001b[0m \u001b[0merrors\u001b[0m \u001b[1;33m!=\u001b[0m \u001b[1;34m'ignore'\u001b[0m\u001b[1;33m:\u001b[0m\u001b[1;33m\u001b[0m\u001b[0m\n\u001b[1;32m   3261\u001b[0m                 raise ValueError('labels %s not contained in axis' %\n\u001b[0;32m-> 3262\u001b[0;31m                                  labels[mask])\n\u001b[0m\u001b[1;32m   3263\u001b[0m             \u001b[0mindexer\u001b[0m \u001b[1;33m=\u001b[0m \u001b[0mindexer\u001b[0m\u001b[1;33m[\u001b[0m\u001b[1;33m~\u001b[0m\u001b[0mmask\u001b[0m\u001b[1;33m]\u001b[0m\u001b[1;33m\u001b[0m\u001b[0m\n\u001b[1;32m   3264\u001b[0m         \u001b[1;32mreturn\u001b[0m \u001b[0mself\u001b[0m\u001b[1;33m.\u001b[0m\u001b[0mdelete\u001b[0m\u001b[1;33m(\u001b[0m\u001b[0mindexer\u001b[0m\u001b[1;33m)\u001b[0m\u001b[1;33m\u001b[0m\u001b[0m\n",
      "\u001b[0;31mValueError\u001b[0m: labels ['Unnamed: 0'] not contained in axis"
     ]
    }
   ],
   "source": [
    "df_review.drop('Unnamed: 0', axis=1, inplace = True)"
   ]
  },
  {
   "cell_type": "code",
   "execution_count": 7,
   "metadata": {
    "collapsed": false
   },
   "outputs": [
    {
     "data": {
      "text/plain": [
       "144072L"
      ]
     },
     "execution_count": 7,
     "metadata": {},
     "output_type": "execute_result"
    }
   ],
   "source": [
    "df_review['business_id'].unique().shape[0]"
   ]
  },
  {
   "cell_type": "code",
   "execution_count": 8,
   "metadata": {
    "collapsed": false
   },
   "outputs": [
    {
     "data": {
      "text/plain": [
       "4153150"
      ]
     },
     "execution_count": 8,
     "metadata": {},
     "output_type": "execute_result"
    }
   ],
   "source": [
    "len(df_review)"
   ]
  },
  {
   "cell_type": "code",
   "execution_count": 10,
   "metadata": {
    "collapsed": false
   },
   "outputs": [],
   "source": [
    "df_user = pd.read_csv(\"yelp_academic_dataset_user.csv\")"
   ]
  },
  {
   "cell_type": "code",
   "execution_count": 11,
   "metadata": {
    "collapsed": true
   },
   "outputs": [],
   "source": [
    "df_business = pd.read_csv(\"yelp_academic_dataset_business.csv\")"
   ]
  },
  {
   "cell_type": "code",
   "execution_count": 12,
   "metadata": {
    "collapsed": false
   },
   "outputs": [
    {
     "data": {
      "text/plain": [
       "144072"
      ]
     },
     "execution_count": 12,
     "metadata": {},
     "output_type": "execute_result"
    }
   ],
   "source": [
    "len(df_business)"
   ]
  },
  {
   "cell_type": "code",
   "execution_count": 13,
   "metadata": {
    "collapsed": false
   },
   "outputs": [
    {
     "data": {
      "text/plain": [
       "Index([u'neighborhood', u'business_id', u'hours', u'is_open', u'address',\n",
       "       u'attributes', u'categories', u'city', u'review_count', u'name',\n",
       "       u'longitude', u'state', u'stars', u'latitude', u'postal_code', u'type'],\n",
       "      dtype='object')"
      ]
     },
     "execution_count": 13,
     "metadata": {},
     "output_type": "execute_result"
    }
   ],
   "source": [
    "df_business.columns"
   ]
  },
  {
   "cell_type": "code",
   "execution_count": 14,
   "metadata": {
    "collapsed": false
   },
   "outputs": [
    {
     "data": {
      "text/plain": [
       "Index([u'funny', u'user_id', u'review_id', u'text', u'business_id', u'stars',\n",
       "       u'date', u'useful', u'type', u'cool'],\n",
       "      dtype='object')"
      ]
     },
     "execution_count": 14,
     "metadata": {},
     "output_type": "execute_result"
    }
   ],
   "source": [
    "df_review.columns"
   ]
  },
  {
   "cell_type": "code",
   "execution_count": 15,
   "metadata": {
    "collapsed": false
   },
   "outputs": [
    {
     "data": {
      "text/plain": [
       "Index([u'yelping_since', u'useful', u'compliment_photos', u'compliment_list',\n",
       "       u'compliment_funny', u'compliment_plain', u'review_count', u'elite',\n",
       "       u'fans', u'type', u'compliment_note', u'funny', u'compliment_writer',\n",
       "       u'compliment_cute', u'average_stars', u'user_id', u'compliment_more',\n",
       "       u'friends', u'compliment_hot', u'cool', u'name', u'compliment_profile',\n",
       "       u'compliment_cool'],\n",
       "      dtype='object')"
      ]
     },
     "execution_count": 15,
     "metadata": {},
     "output_type": "execute_result"
    }
   ],
   "source": [
    "df_user.columns"
   ]
  },
  {
   "cell_type": "code",
   "execution_count": 16,
   "metadata": {
    "collapsed": false,
    "scrolled": true
   },
   "outputs": [
    {
     "data": {
      "text/plain": [
       "3       21912\n",
       "4       15475\n",
       "5       11495\n",
       "6        9013\n",
       "7        7476\n",
       "8        6057\n",
       "9        5213\n",
       "10       4306\n",
       "11       3857\n",
       "12       3508\n",
       "13       3015\n",
       "14       2617\n",
       "15       2409\n",
       "16       2240\n",
       "17       1980\n",
       "18       1804\n",
       "19       1717\n",
       "20       1582\n",
       "21       1477\n",
       "22       1332\n",
       "23       1276\n",
       "24       1255\n",
       "25       1099\n",
       "26       1048\n",
       "27        953\n",
       "28        895\n",
       "29        856\n",
       "30        818\n",
       "31        770\n",
       "32        735\n",
       "        ...  \n",
       "950         1\n",
       "694         1\n",
       "685         1\n",
       "566         1\n",
       "2735        1\n",
       "1264        1\n",
       "431         1\n",
       "943         1\n",
       "1008        1\n",
       "880         1\n",
       "2865        1\n",
       "2096        1\n",
       "689         1\n",
       "817         1\n",
       "945         1\n",
       "562         1\n",
       "818         1\n",
       "1458        1\n",
       "691         1\n",
       "1647        1\n",
       "1519        1\n",
       "948         1\n",
       "1972        1\n",
       "1391        1\n",
       "879         1\n",
       "693         1\n",
       "821         1\n",
       "1589        1\n",
       "623         1\n",
       "1151        1\n",
       "Name: review_count, dtype: int64"
      ]
     },
     "execution_count": 16,
     "metadata": {},
     "output_type": "execute_result"
    }
   ],
   "source": [
    "df_business['review_count'].value_counts()"
   ]
  },
  {
   "cell_type": "code",
   "execution_count": 19,
   "metadata": {
    "collapsed": false
   },
   "outputs": [
    {
     "data": {
      "text/plain": [
       "22892"
      ]
     },
     "execution_count": 19,
     "metadata": {},
     "output_type": "execute_result"
    }
   ],
   "source": [
    "len(df_business[df_business.city == \"Las Vegas\"])"
   ]
  },
  {
   "cell_type": "code",
   "execution_count": 61,
   "metadata": {
    "collapsed": true
   },
   "outputs": [],
   "source": [
    "df_business = df_business[(df_business.city == \"Las Vegas\")]"
   ]
  },
  {
   "cell_type": "code",
   "execution_count": 62,
   "metadata": {
    "collapsed": false
   },
   "outputs": [
    {
     "data": {
      "text/plain": [
       "22892"
      ]
     },
     "execution_count": 62,
     "metadata": {},
     "output_type": "execute_result"
    }
   ],
   "source": [
    "len(df_business)"
   ]
  },
  {
   "cell_type": "code",
   "execution_count": 64,
   "metadata": {
    "collapsed": false
   },
   "outputs": [],
   "source": [
    "df_business = df_business[df_business['review_count'] > 100]"
   ]
  },
  {
   "cell_type": "code",
   "execution_count": 65,
   "metadata": {
    "collapsed": true
   },
   "outputs": [],
   "source": [
    "df_business.to_csv(\"df_business_Las_Vegas.csv\")"
   ]
  },
  {
   "cell_type": "code",
   "execution_count": 66,
   "metadata": {
    "collapsed": false,
    "scrolled": true
   },
   "outputs": [
    {
     "data": {
      "text/plain": [
       "2477L"
      ]
     },
     "execution_count": 66,
     "metadata": {},
     "output_type": "execute_result"
    }
   ],
   "source": [
    "df_business['business_id'].unique().shape[0]"
   ]
  },
  {
   "cell_type": "code",
   "execution_count": 67,
   "metadata": {
    "collapsed": false
   },
   "outputs": [
    {
     "data": {
      "text/html": [
       "<div>\n",
       "<table border=\"1\" class=\"dataframe\">\n",
       "  <thead>\n",
       "    <tr style=\"text-align: right;\">\n",
       "      <th></th>\n",
       "      <th>funny</th>\n",
       "      <th>user_id</th>\n",
       "      <th>review_id</th>\n",
       "      <th>text</th>\n",
       "      <th>business_id</th>\n",
       "      <th>stars</th>\n",
       "      <th>date</th>\n",
       "      <th>useful</th>\n",
       "      <th>type</th>\n",
       "      <th>cool</th>\n",
       "    </tr>\n",
       "  </thead>\n",
       "  <tbody>\n",
       "    <tr>\n",
       "      <th>0</th>\n",
       "      <td>0</td>\n",
       "      <td>KpkOkG6RIf4Ra25Lhhxf1A</td>\n",
       "      <td>NxL8SIC5yqOdnlXCg18IBg</td>\n",
       "      <td>If you enjoy service by someone who is as comp...</td>\n",
       "      <td>2aFiy99vNLklCx3T_tGS9A</td>\n",
       "      <td>5</td>\n",
       "      <td>2011-10-10</td>\n",
       "      <td>0</td>\n",
       "      <td>review</td>\n",
       "      <td>0</td>\n",
       "    </tr>\n",
       "    <tr>\n",
       "      <th>1</th>\n",
       "      <td>0</td>\n",
       "      <td>bQ7fQq1otn9hKX-gXRsrgA</td>\n",
       "      <td>pXbbIgOXvLuTi_SPs1hQEQ</td>\n",
       "      <td>After being on the phone with Verizon Wireless...</td>\n",
       "      <td>2aFiy99vNLklCx3T_tGS9A</td>\n",
       "      <td>5</td>\n",
       "      <td>2010-12-29</td>\n",
       "      <td>1</td>\n",
       "      <td>review</td>\n",
       "      <td>0</td>\n",
       "    </tr>\n",
       "  </tbody>\n",
       "</table>\n",
       "</div>"
      ],
      "text/plain": [
       "   funny                 user_id               review_id  \\\n",
       "0      0  KpkOkG6RIf4Ra25Lhhxf1A  NxL8SIC5yqOdnlXCg18IBg   \n",
       "1      0  bQ7fQq1otn9hKX-gXRsrgA  pXbbIgOXvLuTi_SPs1hQEQ   \n",
       "\n",
       "                                                text             business_id  \\\n",
       "0  If you enjoy service by someone who is as comp...  2aFiy99vNLklCx3T_tGS9A   \n",
       "1  After being on the phone with Verizon Wireless...  2aFiy99vNLklCx3T_tGS9A   \n",
       "\n",
       "   stars        date  useful    type  cool  \n",
       "0      5  2011-10-10       0  review     0  \n",
       "1      5  2010-12-29       1  review     0  "
      ]
     },
     "execution_count": 67,
     "metadata": {},
     "output_type": "execute_result"
    }
   ],
   "source": [
    "df_review.head(2)"
   ]
  },
  {
   "cell_type": "code",
   "execution_count": 68,
   "metadata": {
    "collapsed": true
   },
   "outputs": [],
   "source": [
    "# review = pd.merge(df_business, df_review, on = 'business_id', how = 'left')"
   ]
  },
  {
   "cell_type": "code",
   "execution_count": 70,
   "metadata": {
    "collapsed": false
   },
   "outputs": [],
   "source": [
    "df_business_temp = df_business.head(10)"
   ]
  },
  {
   "cell_type": "code",
   "execution_count": 71,
   "metadata": {
    "collapsed": true
   },
   "outputs": [],
   "source": [
    "df_review_temp = df_review.head(10)"
   ]
  },
  {
   "cell_type": "code",
   "execution_count": 73,
   "metadata": {
    "collapsed": false
   },
   "outputs": [
    {
     "data": {
      "text/plain": [
       "129       4tzmCT04wTAbbiZFKo2cPQ\n",
       "168       piGQNN6ECbSC0agHhvoVeg\n",
       "179       gMUAn6xcuE-TbY1seFw_Ww\n",
       "267       3X7dy9FD3fQ8fQ-WBBzDMw\n",
       "299       kJl3l4fSa2spv_Mkhgogmg\n",
       "419       Pob7ibbNT29--69nxXEP2g\n",
       "430       KaGZE0_o1EmmSN4Fo_cpUw\n",
       "439       jpKWhKMWlOpTH14XW-NwQQ\n",
       "442       _pBXtjN43eqMV0XZTz7nmw\n",
       "658       tstimHoMcYbkSC4eBA1wEg\n",
       "808       QC_KrEEakL-baYfnTXw2FQ\n",
       "879       f9sU31meK0bqAD7922sCog\n",
       "880       Do4n_yK_K6DmR9_Es5qwlA\n",
       "881       5iSmZO0SrKU6EoXK_1M8Kw\n",
       "882       xkVMIk_Vqh17f48ZQ_6b0w\n",
       "960       XlUuMGMvkzy_QLAUTEe-fw\n",
       "1009      d4qwVw4PcN-_2mK2o1Ro1g\n",
       "1086      AiwkoTWc1egLYauiZ3SC2A\n",
       "1106      4k3RlMAMd46DZ_JyZU0lMg\n",
       "1109      Po0QGzgwFrfnGJEi_akCjA\n",
       "1160      YCEZLECK9IToE8Mysorbhw\n",
       "1231      eKVCZlOkvf7gsHazOX_dLQ\n",
       "1288      h3pMMRwqBjMeMtk0_qQzRQ\n",
       "1392      6xgcHeLad-VaoTIQewK84A\n",
       "1570      VzUo-RURV3VnfNItAYM8yg\n",
       "1571      mSTbn8xBzavGa8YB1gmnqQ\n",
       "1598      SVUxmYs6_TvX5kWv0ok-MA\n",
       "1695      H_eO04NZAQIDcbtFQ4BUag\n",
       "1727      d482l58ho0_IMdFkXX1F5Q\n",
       "1754      xj6Xs3HHr7YBdY2gH3sOfw\n",
       "                   ...          \n",
       "141911    ZDvS8DtnkYa8jY703MflEw\n",
       "141950    CH3GQlTeeCdT51ddJAxwVg\n",
       "142054    UYh1N1xQhOh-a7nX92xPzQ\n",
       "142107    pcA3DcjbkkQERU1dbsiSow\n",
       "142151    Px56NzP2NAUH2GktqSkSVg\n",
       "142317    z0cjTX7o6gJsXm2hWHaKGw\n",
       "142378    lVfZ2AaYRYHCFenUMQna8g\n",
       "142421    LpGCzgAKNSpzDNEUMVVtZA\n",
       "142551    i7__R4dmGUayzNB939Zm0A\n",
       "142630    FtaTjyMUIY457tPJahjg1A\n",
       "142662    Ay34xZOFax3X23zaA3nwdg\n",
       "142844    HaPwC4nxs6RPfe1pAQkQ4A\n",
       "142928    2DMxJUDUlHiS7P_GKDPvxw\n",
       "142934    dM8Yp8StA1NdusK5Ta_j-g\n",
       "143044    AoGCnRtwifZ2gTGHtg8KTw\n",
       "143066    y-ytZFbfRWvYma9P4g7AYA\n",
       "143096    8pmGz3Lg4f_r7HdDZPa4dQ\n",
       "143134    y1esDY2vFyaTMf1YlRT7ZA\n",
       "143175    UaoOIiwPF_rp2BWYD-HkPQ\n",
       "143233    deuHIeaTY8ns_GZAxU5H9g\n",
       "143357    LJQCv30PCIpC3FnvHF5mXQ\n",
       "143359    nMaIIKEAW2cTEWbEyeFyXQ\n",
       "143429    GxfgOFgUhv2rfr3FXVWfCg\n",
       "143720    pLFvCV9SsI8ZbWM_4tVtMg\n",
       "143721    2YBO1LEKIgyle0uX50u15Q\n",
       "143784    8SWZLawwzqwzbXpGQS7gBw\n",
       "143804    fjMXGgOr3aCxnN48kovZ_Q\n",
       "143805    QpOAv584eb-ecG4TLEm95g\n",
       "143817    JPfi__QJAaRzmfh5aOyFEw\n",
       "143998    w5CSi-An5meLnxjKSFn0wQ\n",
       "Name: business_id, dtype: object"
      ]
     },
     "execution_count": 73,
     "metadata": {},
     "output_type": "execute_result"
    }
   ],
   "source": [
    "df_business['business_id']"
   ]
  },
  {
   "cell_type": "code",
   "execution_count": 77,
   "metadata": {
    "collapsed": false
   },
   "outputs": [],
   "source": [
    "df_review_LV = df_review[df_review['business_id'].isin(df_business['business_id'])]"
   ]
  },
  {
   "cell_type": "code",
   "execution_count": 78,
   "metadata": {
    "collapsed": false
   },
   "outputs": [],
   "source": [
    "df_review_LV.to_csv('df_review_Las_Vegas.csv')"
   ]
  },
  {
   "cell_type": "code",
   "execution_count": 79,
   "metadata": {
    "collapsed": false
   },
   "outputs": [],
   "source": [
    "df_user_LV = df_user[df_user['user_id'].isin(df_review_LV['user_id'])]"
   ]
  },
  {
   "cell_type": "code",
   "execution_count": 80,
   "metadata": {
    "collapsed": false
   },
   "outputs": [],
   "source": [
    "df_user_LV.to_csv('df_user_Las_Vegas.csv')"
   ]
  },
  {
   "cell_type": "code",
   "execution_count": null,
   "metadata": {
    "collapsed": true
   },
   "outputs": [],
   "source": []
  },
  {
   "cell_type": "code",
   "execution_count": 83,
   "metadata": {
    "collapsed": false
   },
   "outputs": [],
   "source": [
    "users_idx = df_user_LV[df_user_LV['review_count'] > 300]['user_id']"
   ]
  },
  {
   "cell_type": "code",
   "execution_count": 87,
   "metadata": {
    "collapsed": false
   },
   "outputs": [
    {
     "data": {
      "text/plain": [
       "0      EZmocAborM6z66rTzeZxzQ\n",
       "2      FIk4lQQu1eTe2EpzQ4xhBA\n",
       "3      ojovtd9c8GIeDiB8e0mq2w\n",
       "15     CK-W4WhlmLKOZF-50WmmpQ\n",
       "24     tL2pS5UOmN6aAOi3Z-qFGg\n",
       "29     v10dHdqf42tUkxbYVnFW6w\n",
       "30     0o8HUzggoNKay9-ZMj3HqQ\n",
       "32     kK0QDyfeSwcZl4gGilnW7w\n",
       "33     VVMqxCARIOdUzpqngpFMgA\n",
       "36     UrOofvcBl0gAbKPAEaj83A\n",
       "41     p03AKnMXXbgetIEHHFP3wQ\n",
       "47     rCmnApNqRK36uzdrnzXm0g\n",
       "68     UXbCcmkYGl3DH_Py5UOtbQ\n",
       "70     2ttZShfOh7m_5e_jSrtQQw\n",
       "88     WaevPI-Qm0VTDjPJUMr8GA\n",
       "93     -jt1ACMiZljnBFvS6RRvnA\n",
       "112    25QzG8_MT4zr4JiglZI8dQ\n",
       "139    4yGImSwdU9FZxVQIbZql3w\n",
       "150    J3ucveGKKJDvtuCNnb_x0g\n",
       "151    GABWrw5Et9jubriKwMUDbw\n",
       "157    xceJT1G2Yhel3W2lRxRTDA\n",
       "160    NJqmAzerpbAIC0-VBclwgA\n",
       "161    xU4silHWZGOWz92hPIdFpQ\n",
       "175    5gbkhlWANGVzQYi_0m3vOQ\n",
       "178    CjvFxl6_7AK3lw5O49MN8g\n",
       "180    HkVnslspLbmATUzBs3ZdKQ\n",
       "182    gPK2AKr-UA_7hZus80SSng\n",
       "191    uIB8qFzG5E3PUGfiCiUmqg\n",
       "211    LHT4AADPgWT0BM4tZKCz2Q\n",
       "212    oBhQMjrT0zdSLdlybWRA_w\n",
       "                ...          \n",
       "685    Djk49JjpKl9HQNpmiX669Q\n",
       "686    3hWhXTkU83jsm3jIA-rkIg\n",
       "703    LWinqJdSeptUcP2jPvryhw\n",
       "710    rNjgVKaBh1PlUA6dYB6EUw\n",
       "717    WN3FQ5lNz5q8FFbeH42OxQ\n",
       "721    pD4c0eVE0ImAgcag4w4-lA\n",
       "722    sfQXLZGk6beiSuNZYb8iSQ\n",
       "723    DHRupjFv4GyD0tEdj-QNjQ\n",
       "724    31OJfBoBXGDfK1LK72q_Qg\n",
       "727    ShNLdJa5lxOaHKhUjtfnSw\n",
       "728    gg_kE0zjr4Sp-L8MBI1m5w\n",
       "730    pJYRi9MB06aiuL-w8Ms-Og\n",
       "744    K5FrmVM70cJDbMiZ9ywMag\n",
       "752    IfBVYCvv-mm8dREEVNpjaQ\n",
       "778    VD8Ox-akHloK3-QV3FxY-g\n",
       "780    VeYSD3Xgxd-R4yowet51tA\n",
       "782    _zR_YufhDeXs4c020eWWOA\n",
       "812    25lrlCp87N0jG8XMF75_Rg\n",
       "818    9kIcMeveJXxWGVOVdXyQyg\n",
       "852    sa5zd7bwBQzajQB48Y9SUw\n",
       "853    dIIKEfOgo0KqUfGQvGikPg\n",
       "856    fou9pya19z4NWWAGZslxXA\n",
       "857    _pBzBgtCTN9PNUPfgPDI8A\n",
       "860    ltTLCzM4p-1cnC70SPNfSA\n",
       "938    KDewJBJknfWvQyHHFNbfdg\n",
       "939    mjOKUSdIqxFPSYMB-MmS9g\n",
       "940    GIL4XSLZguuukqZFRxHq_g\n",
       "941    hGeXKYWkqJgFC1u_Sh6kCg\n",
       "944    lf1m4CbheuUR7fFZoLGRvA\n",
       "949    DHUfDrzWi0rTSel-14RLoA\n",
       "Name: user_id, dtype: object"
      ]
     },
     "execution_count": 87,
     "metadata": {},
     "output_type": "execute_result"
    }
   ],
   "source": [
    "users_idx.head(100)"
   ]
  },
  {
   "cell_type": "code",
   "execution_count": 58,
   "metadata": {
    "collapsed": false
   },
   "outputs": [
    {
     "data": {
      "text/plain": [
       "100"
      ]
     },
     "execution_count": 58,
     "metadata": {},
     "output_type": "execute_result"
    }
   ],
   "source": []
  },
  {
   "cell_type": "code",
   "execution_count": 12,
   "metadata": {
    "collapsed": true
   },
   "outputs": [],
   "source": [
    "df_user = df_user[(df_user.review_count > 60)]"
   ]
  },
  {
   "cell_type": "code",
   "execution_count": 13,
   "metadata": {
    "collapsed": false
   },
   "outputs": [
    {
     "data": {
      "text/plain": [
       "84866"
      ]
     },
     "execution_count": 13,
     "metadata": {},
     "output_type": "execute_result"
    }
   ],
   "source": [
    "len(df_user)"
   ]
  },
  {
   "cell_type": "code",
   "execution_count": 14,
   "metadata": {
    "collapsed": true
   },
   "outputs": [],
   "source": [
    "df_user.to_csv(\"user.csv\")"
   ]
  },
  {
   "cell_type": "code",
   "execution_count": 22,
   "metadata": {
    "collapsed": true
   },
   "outputs": [],
   "source": [
    "user = pd.merge(df_review, df_user, on = 'user_id', how = 'left')"
   ]
  },
  {
   "cell_type": "code",
   "execution_count": 23,
   "metadata": {
    "collapsed": false
   },
   "outputs": [
    {
     "data": {
      "text/plain": [
       "598273"
      ]
     },
     "execution_count": 23,
     "metadata": {},
     "output_type": "execute_result"
    }
   ],
   "source": [
    "len(user)"
   ]
  },
  {
   "cell_type": "code",
   "execution_count": 24,
   "metadata": {
    "collapsed": false
   },
   "outputs": [
    {
     "data": {
      "text/plain": [
       "Index([u'funny_x', u'user_id', u'review_id', u'text', u'stars', u'date',\n",
       "       u'useful_x', u'type_x', u'cool_x', u'business_id', u'yelping_since',\n",
       "       u'useful_y', u'compliment_photos', u'compliment_list',\n",
       "       u'compliment_funny', u'compliment_plain', u'review_count', u'elite',\n",
       "       u'fans', u'type_y', u'compliment_note', u'funny_y',\n",
       "       u'compliment_writer', u'compliment_cute', u'average_stars',\n",
       "       u'compliment_more', u'friends', u'compliment_hot', u'cool_y', u'name',\n",
       "       u'compliment_profile', u'compliment_cool'],\n",
       "      dtype='object')"
      ]
     },
     "execution_count": 24,
     "metadata": {},
     "output_type": "execute_result"
    }
   ],
   "source": [
    "user.columns"
   ]
  },
  {
   "cell_type": "code",
   "execution_count": 20,
   "metadata": {
    "collapsed": false
   },
   "outputs": [
    {
     "data": {
      "text/plain": [
       "Index([u'neighborhood', u'business_id', u'hours', u'is_open', u'address',\n",
       "       u'attributes', u'categories', u'city', u'review_count', u'name',\n",
       "       u'longitude', u'state', u'stars_x', u'latitude', u'postal_code',\n",
       "       u'type_x', u'funny', u'user_id', u'review_id', u'text', u'stars_y',\n",
       "       u'date', u'useful', u'type_y', u'cool'],\n",
       "      dtype='object')"
      ]
     },
     "execution_count": 20,
     "metadata": {},
     "output_type": "execute_result"
    }
   ],
   "source": [
    "review.columns"
   ]
  },
  {
   "cell_type": "code",
   "execution_count": 26,
   "metadata": {
    "collapsed": false
   },
   "outputs": [],
   "source": [
    "#r = review[['funny', 'user_id', 'review_id', 'text', 'stars_y', 'date', 'useful', 'type_y', 'cool', 'business_id']]\n",
    "u = user[['yelping_since', 'useful_y', 'compliment_photos', 'compliment_list','compliment_funny', 'compliment_plain', 'review_count', 'elite',\n",
    "       'fans', 'type_y', 'compliment_note', 'funny_y', 'compliment_writer',\n",
    "       'compliment_cute', 'average_stars', 'compliment_more', 'friends',\n",
    "       'compliment_hot', 'cool_y', 'name', 'compliment_profile',\n",
    "       'compliment_cool', 'user_id']]"
   ]
  },
  {
   "cell_type": "code",
   "execution_count": 22,
   "metadata": {
    "collapsed": false
   },
   "outputs": [
    {
     "data": {
      "text/plain": [
       "598272"
      ]
     },
     "execution_count": 22,
     "metadata": {},
     "output_type": "execute_result"
    }
   ],
   "source": [
    "len(r)"
   ]
  },
  {
   "cell_type": "code",
   "execution_count": 27,
   "metadata": {
    "collapsed": false
   },
   "outputs": [
    {
     "data": {
      "text/plain": [
       "598273"
      ]
     },
     "execution_count": 27,
     "metadata": {},
     "output_type": "execute_result"
    }
   ],
   "source": [
    "len(u)"
   ]
  },
  {
   "cell_type": "code",
   "execution_count": 24,
   "metadata": {
    "collapsed": true
   },
   "outputs": [],
   "source": [
    "new_columns = r.columns.values\n",
    "new_columns[4] = 'stars'\n",
    "new_columns[7] = 'type'\n",
    "r.columns = new_columns"
   ]
  },
  {
   "cell_type": "code",
   "execution_count": 25,
   "metadata": {
    "collapsed": false
   },
   "outputs": [
    {
     "data": {
      "text/plain": [
       "Index([u'funny', u'user_id', u'review_id', u'text', u'stars', u'date',\n",
       "       u'useful', u'type', u'cool', u'business_id'],\n",
       "      dtype='object')"
      ]
     },
     "execution_count": 25,
     "metadata": {},
     "output_type": "execute_result"
    }
   ],
   "source": [
    "r.columns"
   ]
  },
  {
   "cell_type": "code",
   "execution_count": 28,
   "metadata": {
    "collapsed": true
   },
   "outputs": [],
   "source": [
    "new_columns = u.columns.values\n",
    "new_columns[1] = 'useful'\n",
    "new_columns[9] = 'type'\n",
    "new_columns[11] = 'funny'\n",
    "new_columns[18] = 'cool'\n",
    "#new_columns[19] = 'name'\n",
    "u.columns = new_columns"
   ]
  },
  {
   "cell_type": "code",
   "execution_count": 29,
   "metadata": {
    "collapsed": false
   },
   "outputs": [
    {
     "data": {
      "text/plain": [
       "Index([u'yelping_since', u'useful', u'compliment_photos', u'compliment_list',\n",
       "       u'compliment_funny', u'compliment_plain', u'review_count', u'elite',\n",
       "       u'fans', u'type', u'compliment_note', u'funny', u'compliment_writer',\n",
       "       u'compliment_cute', u'average_stars', u'compliment_more', u'friends',\n",
       "       u'compliment_hot', u'cool', u'name', u'compliment_profile',\n",
       "       u'compliment_cool', u'user_id'],\n",
       "      dtype='object')"
      ]
     },
     "execution_count": 29,
     "metadata": {},
     "output_type": "execute_result"
    }
   ],
   "source": [
    "u.columns"
   ]
  },
  {
   "cell_type": "code",
   "execution_count": 30,
   "metadata": {
    "collapsed": false
   },
   "outputs": [
    {
     "data": {
      "text/plain": [
       "Index([u'yelping_since', u'useful', u'compliment_photos', u'compliment_list',\n",
       "       u'compliment_funny', u'compliment_plain', u'review_count', u'elite',\n",
       "       u'fans', u'type', u'compliment_note', u'funny', u'compliment_writer',\n",
       "       u'compliment_cute', u'average_stars', u'user_id', u'compliment_more',\n",
       "       u'friends', u'compliment_hot', u'cool', u'name', u'compliment_profile',\n",
       "       u'compliment_cool'],\n",
       "      dtype='object')"
      ]
     },
     "execution_count": 30,
     "metadata": {},
     "output_type": "execute_result"
    }
   ],
   "source": [
    "df_user.columns"
   ]
  },
  {
   "cell_type": "code",
   "execution_count": 31,
   "metadata": {
    "collapsed": false
   },
   "outputs": [],
   "source": [
    "#df_review = r.copy()\n",
    "df_user = u.copy()"
   ]
  },
  {
   "cell_type": "code",
   "execution_count": 32,
   "metadata": {
    "collapsed": false
   },
   "outputs": [
    {
     "data": {
      "text/plain": [
       "1262"
      ]
     },
     "execution_count": 32,
     "metadata": {},
     "output_type": "execute_result"
    }
   ],
   "source": [
    "len(df_business)"
   ]
  },
  {
   "cell_type": "code",
   "execution_count": 33,
   "metadata": {
    "collapsed": false
   },
   "outputs": [
    {
     "data": {
      "text/plain": [
       "598273"
      ]
     },
     "execution_count": 33,
     "metadata": {},
     "output_type": "execute_result"
    }
   ],
   "source": [
    "len(df_review)"
   ]
  },
  {
   "cell_type": "code",
   "execution_count": 34,
   "metadata": {
    "collapsed": false
   },
   "outputs": [
    {
     "data": {
      "text/plain": [
       "598273"
      ]
     },
     "execution_count": 34,
     "metadata": {},
     "output_type": "execute_result"
    }
   ],
   "source": [
    "len(df_user)"
   ]
  },
  {
   "cell_type": "code",
   "execution_count": 35,
   "metadata": {
    "collapsed": false
   },
   "outputs": [
    {
     "data": {
      "text/plain": [
       "Index([u'neighborhood', u'business_id', u'hours', u'is_open', u'address',\n",
       "       u'attributes', u'categories', u'city', u'review_count', u'name',\n",
       "       u'longitude', u'state', u'stars', u'latitude', u'postal_code', u'type'],\n",
       "      dtype='object')"
      ]
     },
     "execution_count": 35,
     "metadata": {},
     "output_type": "execute_result"
    }
   ],
   "source": [
    "df_business.columns"
   ]
  },
  {
   "cell_type": "code",
   "execution_count": 36,
   "metadata": {
    "collapsed": false
   },
   "outputs": [
    {
     "data": {
      "text/plain": [
       "Index([u'funny', u'user_id', u'review_id', u'text', u'stars', u'date',\n",
       "       u'useful', u'type', u'cool', u'business_id'],\n",
       "      dtype='object')"
      ]
     },
     "execution_count": 36,
     "metadata": {},
     "output_type": "execute_result"
    }
   ],
   "source": [
    "df_review.columns"
   ]
  },
  {
   "cell_type": "code",
   "execution_count": 37,
   "metadata": {
    "collapsed": false
   },
   "outputs": [
    {
     "data": {
      "text/plain": [
       "Index([u'yelping_since', u'useful', u'compliment_photos', u'compliment_list',\n",
       "       u'compliment_funny', u'compliment_plain', u'review_count', u'elite',\n",
       "       u'fans', u'type', u'compliment_note', u'funny', u'compliment_writer',\n",
       "       u'compliment_cute', u'average_stars', u'compliment_more', u'friends',\n",
       "       u'compliment_hot', u'cool', u'name', u'compliment_profile',\n",
       "       u'compliment_cool', u'user_id'],\n",
       "      dtype='object')"
      ]
     },
     "execution_count": 37,
     "metadata": {},
     "output_type": "execute_result"
    }
   ],
   "source": [
    "df_user.columns"
   ]
  },
  {
   "cell_type": "code",
   "execution_count": 38,
   "metadata": {
    "collapsed": true
   },
   "outputs": [],
   "source": [
    "df_user.to_csv(\"df_user.csv\")"
   ]
  },
  {
   "cell_type": "code",
   "execution_count": 91,
   "metadata": {
    "collapsed": false
   },
   "outputs": [
    {
     "data": {
      "text/plain": [
       "598272"
      ]
     },
     "execution_count": 91,
     "metadata": {},
     "output_type": "execute_result"
    }
   ],
   "source": [
    "len(df_review)"
   ]
  },
  {
   "cell_type": "code",
   "execution_count": 47,
   "metadata": {
    "collapsed": false
   },
   "outputs": [
    {
     "data": {
      "text/plain": [
       "573"
      ]
     },
     "execution_count": 47,
     "metadata": {},
     "output_type": "execute_result"
    }
   ],
   "source": [
    "df_business['review_count'].unique().shape[0]"
   ]
  },
  {
   "cell_type": "code",
   "execution_count": 89,
   "metadata": {
    "collapsed": false,
    "scrolled": true
   },
   "outputs": [],
   "source": [
    "#df_review.to_csv(\"df_review.csv\")\n",
    "#df_user.to_csv(\"df_user.csv\")"
   ]
  },
  {
   "cell_type": "code",
   "execution_count": 54,
   "metadata": {
    "collapsed": false,
    "scrolled": true
   },
   "outputs": [
    {
     "data": {
      "text/plain": [
       "3.83    3492\n",
       "3.88    3416\n",
       "3.80    3307\n",
       "3.68    3226\n",
       "3.73    3211\n",
       "3.79    3187\n",
       "3.78    3152\n",
       "3.66    3111\n",
       "3.89    3067\n",
       "3.60    2976\n",
       "3.70    2965\n",
       "3.87    2960\n",
       "3.62    2949\n",
       "3.64    2942\n",
       "3.59    2937\n",
       "3.95    2913\n",
       "3.67    2876\n",
       "3.72    2851\n",
       "3.71    2849\n",
       "3.81    2815\n",
       "3.96    2793\n",
       "4.00    2780\n",
       "3.74    2761\n",
       "3.97    2750\n",
       "3.90    2741\n",
       "3.86    2723\n",
       "3.84    2721\n",
       "3.69    2714\n",
       "3.76    2691\n",
       "3.63    2683\n",
       "        ... \n",
       "2.43       5\n",
       "2.25       5\n",
       "1.99       4\n",
       "2.30       4\n",
       "1.58       4\n",
       "4.97       3\n",
       "1.87       3\n",
       "1.91       3\n",
       "2.19       3\n",
       "4.94       3\n",
       "2.01       2\n",
       "2.05       2\n",
       "2.33       2\n",
       "1.76       2\n",
       "1.84       2\n",
       "1.66       2\n",
       "1.63       1\n",
       "1.96       1\n",
       "1.47       1\n",
       "4.98       1\n",
       "4.92       1\n",
       "1.81       1\n",
       "2.18       1\n",
       "4.99       1\n",
       "1.78       1\n",
       "2.12       1\n",
       "1.79       1\n",
       "1.36       1\n",
       "4.96       1\n",
       "2.00       1\n",
       "Name: average_stars, dtype: int64"
      ]
     },
     "execution_count": 54,
     "metadata": {},
     "output_type": "execute_result"
    }
   ],
   "source": [
    "df_user['average_stars'].value_counts()"
   ]
  },
  {
   "cell_type": "code",
   "execution_count": 93,
   "metadata": {
    "collapsed": false,
    "scrolled": true
   },
   "outputs": [
    {
     "data": {
      "text/plain": [
       "Index([u'yelping_since', u'useful', u'compliment_photos', u'compliment_list',\n",
       "       u'compliment_funny', u'compliment_plain', u'review_count', u'elite',\n",
       "       u'fans', u'type', u'compliment_note', u'funny', u'compliment_writer',\n",
       "       u'compliment_cute', u'average_stars', u'compliment_more', u'friends',\n",
       "       u'compliment_hot', u'cool', u'name', u'compliment_profile',\n",
       "       u'compliment_cool', u'user_id'],\n",
       "      dtype='object')"
      ]
     },
     "execution_count": 93,
     "metadata": {},
     "output_type": "execute_result"
    },
    {
     "name": "stdout",
     "output_type": "stream",
     "text": [
      "The history saving thread hit an unexpected error (OperationalError('database or disk is full',)).History will not be written to the database.\n"
     ]
    }
   ],
   "source": [
    "df_user.columns"
   ]
  },
  {
   "cell_type": "code",
   "execution_count": 55,
   "metadata": {
    "collapsed": true
   },
   "outputs": [],
   "source": [
    "import ast\n",
    "import numpy as np\n",
    "from numpy.linalg import norm\n",
    "from sklearn.pipeline import Pipeline, FeatureUnion\n",
    "from scipy.sparse import coo_matrix\n",
    "import heapq"
   ]
  },
  {
   "cell_type": "code",
   "execution_count": 56,
   "metadata": {
    "collapsed": false
   },
   "outputs": [
    {
     "name": "stderr",
     "output_type": "stream",
     "text": [
      "/home/harika/anaconda2/lib/python2.7/site-packages/sklearn/cross_validation.py:44: DeprecationWarning: This module was deprecated in version 0.18 in favor of the model_selection module into which all the refactored classes and functions are moved. Also note that the interface of the new CV iterators are different from that of this module. This module will be removed in 0.20.\n",
      "  \"This module will be removed in 0.20.\", DeprecationWarning)\n"
     ]
    }
   ],
   "source": [
    "import simplejson as json\n",
    "from datetime import datetime\n",
    "from sklearn.cross_validation import train_test_split\n",
    "from _collections import defaultdict"
   ]
  },
  {
   "cell_type": "code",
   "execution_count": 57,
   "metadata": {
    "collapsed": true
   },
   "outputs": [],
   "source": [
    "def get_data(line, cols):\n",
    "    d = json.loads(line)\n",
    "    return dict((key, d[key]) for key in cols)"
   ]
  },
  {
   "cell_type": "code",
   "execution_count": 58,
   "metadata": {
    "collapsed": true
   },
   "outputs": [],
   "source": [
    "def string_to_dict(dict_string):\n",
    "    if dict_string is not np.nan:\n",
    "        dict_string = ast.literal_eval(dict_string)\n",
    "    return dict_string"
   ]
  },
  {
   "cell_type": "code",
   "execution_count": 59,
   "metadata": {
    "collapsed": false
   },
   "outputs": [
    {
     "name": "stderr",
     "output_type": "stream",
     "text": [
      "/home/harika/anaconda2/lib/python2.7/site-packages/ipykernel/__main__.py:1: FutureWarning: sort(columns=....) is deprecated, use sort_values(by=.....)\n",
      "  if __name__ == '__main__':\n"
     ]
    }
   ],
   "source": [
    "df_business = df_business.sort('business_id')"
   ]
  },
  {
   "cell_type": "code",
   "execution_count": 60,
   "metadata": {
    "collapsed": false
   },
   "outputs": [],
   "source": [
    "#df_business.attributes = df_business.attributes.apply(string_to_dict)\n",
    "#print type(df_business['attributes'][0])\n",
    "df_business.index = range(len(df_business))"
   ]
  },
  {
   "cell_type": "code",
   "execution_count": 61,
   "metadata": {
    "collapsed": false
   },
   "outputs": [
    {
     "name": "stderr",
     "output_type": "stream",
     "text": [
      "/home/harika/anaconda2/lib/python2.7/site-packages/ipykernel/__main__.py:1: FutureWarning: sort(columns=....) is deprecated, use sort_values(by=.....)\n",
      "  if __name__ == '__main__':\n"
     ]
    }
   ],
   "source": [
    "df_user = df_user.sort('user_id')\n",
    "df_user.index = range(len(df_user))"
   ]
  },
  {
   "cell_type": "code",
   "execution_count": 62,
   "metadata": {
    "collapsed": false,
    "scrolled": true
   },
   "outputs": [
    {
     "data": {
      "text/plain": [
       "bLbSNkLggFnqwNNzzq-Ijw    512\n",
       "PKEzKWv_FktMm2mGPjwd0Q    479\n",
       "UYcmGbelzRa0Q6JqzLoguw    381\n",
       "C2C0GPKvzWWnP57Os9eQ0w    339\n",
       "n86B7IkbU20AkxlFX_5aew    317\n",
       "tH0uKD-vNwMoEc3Xk3Cbdg    315\n",
       "U4INQZOPSUaj8hMjLlZ3KA    309\n",
       "N3oNEwh0qgPqPP3Em6wJXw    296\n",
       "8DEyKVyplnOcSKx39vatbg    287\n",
       "qewG3X2O4X6JKskxyyqFwQ    257\n",
       "3nDUQBjKyVor5wV0reJChg    236\n",
       "eZZyuJDouIg4p-GYB3PV_A    227\n",
       "TdYKJgSgY2GF_YJnwsi5yQ    208\n",
       "kmE8w5Y785eZmodsx0V6Ag    202\n",
       "ZsUSGU1-L1ImomLZjXxxTg    199\n",
       "oeAhRa8yFa9jtrhaHnOyxQ    198\n",
       "JaqcCU3nxReTW2cBLHounA    197\n",
       "epkRB3J_oBEiyiwahvdmGg    190\n",
       "iSC96O2NjQc3JExGUHQG0Q    186\n",
       "YMgZqBUAddmFErxLtCfK_w    182\n",
       "8OeTLey-p-WaL9ErNEci1Q    181\n",
       "L8P5OWO1Jh4B2HLa1Fnbng    179\n",
       "rt3PC7WCgCKsoufmQJELfw    175\n",
       "48vRThjhuhiSQINQ2KV8Sw    175\n",
       "o68A_3bAJTge-ioGXHdxKA    174\n",
       "hZfzVrhsCQ9JDAb2jYoJNQ    172\n",
       "B1829_hxXSEpDPEDJtYeIw    171\n",
       "FIk4lQQu1eTe2EpzQ4xhBA    169\n",
       "wtNopFY2ybprzk4FuEbWJQ    166\n",
       "SfY0jEFqBkrqq9bVi6P31Q    158\n",
       "                         ... \n",
       "1VPP3HwC0jG37D5GslL9YQ      1\n",
       "zgxY1VxFflyKZB3JXvHbtA      1\n",
       "0amppIKqN3N9g_EYbWCe7w      1\n",
       "fynLmauYtYqCA7ouByHsxQ      1\n",
       "neDM3EKaOpn_qXgP1JrxBQ      1\n",
       "HlxDGlJsCeTTSiPBpECqzw      1\n",
       "4DHrcEcvZD7HKZ22vZDAwg      1\n",
       "YDnvOEN2toCdbDbc3yzzxA      1\n",
       "WQ7kvw3ePdsu2fgxr2ha1Q      1\n",
       "RszWpeD0as4oILn3NQ_bNg      1\n",
       "yWuK68ZAXEjPTMlkX20gIQ      1\n",
       "quc5XSnv5oT8XXoDrfKHvA      1\n",
       "DeQ8y_dJV0Ltlu2WvzN1Nw      1\n",
       "gxOTRkKn_vhqH7iuGYBqig      1\n",
       "9paZKShTL-hQZc9mAoD_8Q      1\n",
       "NlaNDIfJwCivVsCHMEYciQ      1\n",
       "f_obys1B-PiEL25enRpyLw      1\n",
       "giqRUc_tUDpaNTF7E64oDA      1\n",
       "CjsSiUNDFCJaMymQnIYJwQ      1\n",
       "UWK3mKjnsVOA6sGim6zfgg      1\n",
       "0YPdUJV5Lex9OiHt32XdIQ      1\n",
       "wHXvnsW8NoFVUG7ydJadoQ      1\n",
       "CVh7_8gpSAf1LZy3s1wc_g      1\n",
       "TD0xxlwxeM6Y-yCcJsx1xQ      1\n",
       "iUFZ8u-OG5kNEOUoCSAQ1w      1\n",
       "s5oM-eTfbo34gD-ohr9S_Q      1\n",
       "21jJyEXTSHOl8FeNcxaD9Q      1\n",
       "CARfX29eDh02JO94vPZLLQ      1\n",
       "e2gwYwhiTtmWwyFJGuKYRA      1\n",
       "an8MLCN3dYT8J6eSaszWlw      1\n",
       "Name: user_id, dtype: int64"
      ]
     },
     "execution_count": 62,
     "metadata": {},
     "output_type": "execute_result"
    }
   ],
   "source": [
    "df_user['user_id'].value_counts()"
   ]
  },
  {
   "cell_type": "code",
   "execution_count": 63,
   "metadata": {
    "collapsed": true
   },
   "outputs": [],
   "source": [
    "user = 'oeAhRa8yFa9jtrhaHnOyxQ'"
   ]
  },
  {
   "cell_type": "code",
   "execution_count": 64,
   "metadata": {
    "collapsed": true
   },
   "outputs": [],
   "source": [
    "from sklearn import base\n",
    "from sklearn.feature_extraction import DictVectorizer # for One_Hot_Encoder\n",
    "\n",
    "\n",
    "\n",
    "''' ----------------\n",
    "Functions used in One_Hot_Encoder\n",
    "----------------- '''\n",
    "def Value_To_Dict(val):\n",
    "    return {val:1}\n",
    "\n",
    "def List_To_Dict(the_list):\n",
    "    return {category:1 for category in the_list}\n",
    "    \n",
    "def Flatten_Dict(d, prekey = ''):\n",
    "    flat_dict = {}\n",
    "    for k, v in d.items():\n",
    "        if isinstance(v, bool) and v:\n",
    "            flat_dict.update({prekey+'_'+k:1})\n",
    "        elif isinstance(v, str):\n",
    "            flat_dict.update({prekey+'_'+k+'_'+v:1})\n",
    "        elif isinstance(v, dict):\n",
    "            flat_dict.update(Flatten_Dict(v, prekey=prekey+'_'+k))\n",
    "    return flat_dict\n",
    "\n",
    "def flatten(structure, key=\"\", path=\"\", flattened=None):\n",
    "    if flattened is None:\n",
    "        flattened = {}\n",
    "    if type(structure) not in(dict, list):\n",
    "        flattened[((path + \"_\") if path else \"\") + key] = structure\n",
    "    elif isinstance(structure, list):\n",
    "        for i, item in enumerate(structure):\n",
    "            flatten(item, \"%d\" % i, path + \"_\" + key, flattened)\n",
    "    else:\n",
    "        for new_key, value in structure.items():\n",
    "            flatten(value, new_key, path + \"_\" + key, flattened)\n",
    "    return flattened\n",
    "''' -------------------\n",
    "Converts a feature column values into a One-Hot Encoding matrix. If\n",
    "feature values are lists or (nested) dicts, a column for each list \n",
    "entry or dict (sub)key is created.\n",
    "Inputs: colnames is a string of the column name\n",
    "        value_type is the type (value, list or dict) of feature values\n",
    "        sparse indicates whether the matrix is sparse\n",
    "Dependencies: sklearn.feature_extraction.DictVectorizer\n",
    "              sklearn.base\n",
    "------------------- '''\n",
    "class One_Hot_Encoder(base.BaseEstimator, base.TransformerMixin):\n",
    "    def __init__(self, colnames, value_type = 'value', sparse = True):\n",
    "        if value_type == 'value':\n",
    "            self.apply_function_ = Value_To_Dict\n",
    "        elif value_type == 'list':\n",
    "            self.apply_function_ = List_To_Dict\n",
    "        elif value_type == 'dict':\n",
    "            self.apply_function_ = flatten\n",
    "        self.colnames_ = colnames\n",
    "        self.dv_ = DictVectorizer(sparse = sparse)\n",
    "\n",
    "    def fit(self, X, y = None):\n",
    "        self.dv_.fit(X[self.colnames_].apply(self.apply_function_))\n",
    "        return self\n",
    "\n",
    "    def transform(self, X):\n",
    "        return self.dv_.transform(X[self.colnames_].apply(self.apply_function_))\n",
    "\n",
    "\n",
    "\n",
    "\n",
    "\n",
    "\n",
    "''' -------------------\n",
    "Selects and returns the specified column(s)\n",
    "Inputs: colnames is a list of column(s) to select\n",
    "Dependencies: sklearn.base\n",
    "------------------- '''\n",
    "class Column_Selector(base.BaseEstimator, base.TransformerMixin):\n",
    "    def __init__(self, colnames):\n",
    "        self.colnames_ = colnames\n",
    "\n",
    "    def fit(self, X, y = None):\n",
    "        return self\n",
    "\n",
    "    def transform(self, X):\n",
    "        return pd.DataFrame(X[self.colnames_])"
   ]
  },
  {
   "cell_type": "code",
   "execution_count": 102,
   "metadata": {
    "collapsed": false
   },
   "outputs": [],
   "source": [
    "#df_business = df_business[(df_business.review_count > 20)]"
   ]
  },
  {
   "cell_type": "code",
   "execution_count": 104,
   "metadata": {
    "collapsed": false
   },
   "outputs": [
    {
     "data": {
      "text/plain": [
       "Index([u'yelping_since', u'useful', u'compliment_photos', u'compliment_list',\n",
       "       u'compliment_funny', u'compliment_plain', u'review_count', u'elite',\n",
       "       u'fans', u'type', u'compliment_note', u'funny', u'compliment_writer',\n",
       "       u'compliment_cute', u'average_stars', u'compliment_more', u'friends',\n",
       "       u'compliment_hot', u'cool', u'name', u'compliment_profile',\n",
       "       u'compliment_cool', u'user_id'],\n",
       "      dtype='object')"
      ]
     },
     "execution_count": 104,
     "metadata": {},
     "output_type": "execute_result"
    }
   ],
   "source": [
    "df_user.columns"
   ]
  },
  {
   "cell_type": "code",
   "execution_count": 65,
   "metadata": {
    "collapsed": false
   },
   "outputs": [
    {
     "data": {
      "text/plain": [
       "1262"
      ]
     },
     "execution_count": 65,
     "metadata": {},
     "output_type": "execute_result"
    }
   ],
   "source": [
    "len(df_business)"
   ]
  },
  {
   "cell_type": "code",
   "execution_count": 105,
   "metadata": {
    "collapsed": true
   },
   "outputs": [],
   "source": [
    "#df_user = df_user[(df_user.review_count > 20)]"
   ]
  },
  {
   "cell_type": "code",
   "execution_count": 66,
   "metadata": {
    "collapsed": false
   },
   "outputs": [
    {
     "data": {
      "text/plain": [
       "598272"
      ]
     },
     "execution_count": 66,
     "metadata": {},
     "output_type": "execute_result"
    }
   ],
   "source": [
    "len(df_user)"
   ]
  },
  {
   "cell_type": "code",
   "execution_count": 67,
   "metadata": {
    "collapsed": false
   },
   "outputs": [
    {
     "name": "stdout",
     "output_type": "stream",
     "text": [
      "*** Using Content-based Filtering for Recommendation ***\n",
      "** Initializing feature extraction for user oeAhRa8yFa9jtrhaHnOyxQ\n"
     ]
    }
   ],
   "source": [
    "print '*** Using Content-based Filtering for Recommendation ***'\n",
    "print '** Initializing feature extraction for user ' + user"
   ]
  },
  {
   "cell_type": "code",
   "execution_count": 68,
   "metadata": {
    "collapsed": false
   },
   "outputs": [
    {
     "name": "stdout",
     "output_type": "stream",
     "text": [
      "***Extracting deep nn features from reviews***\n"
     ]
    }
   ],
   "source": [
    "# Extract features of each business: category, attribute, average rating\n",
    "OHE_cat = One_Hot_Encoder('categories', 'list', sparse=False)\n",
    "OHE_attr= One_Hot_Encoder('attributes', 'dict', sparse=False)\n",
    "OHE_city= One_Hot_Encoder('city', 'value', sparse=False)\n",
    "rating = Column_Selector(['stars'])\n",
    "OHE_union = FeatureUnion([ ('cat', OHE_cat), ('attr', OHE_attr), ('city', OHE_city), ('rating', rating) ])\n",
    "# OHE_union = OHE_attr\n",
    "OHE_union.fit(df_business)\n",
    "\n",
    "print '***Extracting deep nn features from reviews***'"
   ]
  },
  {
   "cell_type": "code",
   "execution_count": 69,
   "metadata": {
    "collapsed": true
   },
   "outputs": [],
   "source": [
    "business_ids = df_review['business_id']"
   ]
  },
  {
   "cell_type": "code",
   "execution_count": 70,
   "metadata": {
    "collapsed": false
   },
   "outputs": [],
   "source": [
    "document_hash = defaultdict(str)\n",
    "for i in range(len(df_review)):\n",
    "    try:\n",
    "        document_hash[business_ids[i]] += df_review['text'][i]\n",
    "    except:\n",
    "        continue"
   ]
  },
  {
   "cell_type": "code",
   "execution_count": 71,
   "metadata": {
    "collapsed": true
   },
   "outputs": [],
   "source": [
    "from gensim import corpora\n",
    "from gensim.models.ldamodel import LdaModel as LDA\n",
    "from gensim.models.doc2vec import Doc2Vec\n",
    "from gensim.models.doc2vec import TaggedDocument as TD"
   ]
  },
  {
   "cell_type": "code",
   "execution_count": 72,
   "metadata": {
    "collapsed": true
   },
   "outputs": [],
   "source": [
    "def doc2vec_features(documents_hash, feature_count = 20):\n",
    "    business_ids = documents_hash.keys()\n",
    "    documents = [documents_hash[b_id] for b_id in business_ids]\n",
    "    tagged_documents = []\n",
    "    for i, doc in enumerate(documents):\n",
    "        tdoc = TD(doc.split(), tags = [i])\n",
    "        tagged_documents.append(tdoc)\n",
    "\n",
    "    doc2vec_model = Doc2Vec(tagged_documents, size = feature_count, iter = 5)\n",
    "    doc2vec_features = [doc2vec_model.docvecs[i] for i in range(len(documents))]\n",
    "\n",
    "    return doc2vec_features, business_ids, doc2vec_model"
   ]
  },
  {
   "cell_type": "code",
   "execution_count": 85,
   "metadata": {
    "collapsed": false,
    "scrolled": true
   },
   "outputs": [
    {
     "data": {
      "text/html": [
       "<div>\n",
       "<table border=\"1\" class=\"dataframe\">\n",
       "  <thead>\n",
       "    <tr style=\"text-align: right;\">\n",
       "      <th></th>\n",
       "      <th></th>\n",
       "      <th>yelping_since</th>\n",
       "      <th>useful</th>\n",
       "      <th>compliment_photos</th>\n",
       "      <th>compliment_list</th>\n",
       "      <th>compliment_funny</th>\n",
       "      <th>compliment_plain</th>\n",
       "      <th>review_count</th>\n",
       "      <th>elite</th>\n",
       "      <th>fans</th>\n",
       "      <th>type</th>\n",
       "      <th>...</th>\n",
       "      <th>compliment_cute</th>\n",
       "      <th>average_stars</th>\n",
       "      <th>compliment_more</th>\n",
       "      <th>friends</th>\n",
       "      <th>compliment_hot</th>\n",
       "      <th>cool</th>\n",
       "      <th>name</th>\n",
       "      <th>compliment_profile</th>\n",
       "      <th>compliment_cool</th>\n",
       "      <th>user_id</th>\n",
       "    </tr>\n",
       "    <tr>\n",
       "      <th>review_count</th>\n",
       "      <th></th>\n",
       "      <th></th>\n",
       "      <th></th>\n",
       "      <th></th>\n",
       "      <th></th>\n",
       "      <th></th>\n",
       "      <th></th>\n",
       "      <th></th>\n",
       "      <th></th>\n",
       "      <th></th>\n",
       "      <th></th>\n",
       "      <th></th>\n",
       "      <th></th>\n",
       "      <th></th>\n",
       "      <th></th>\n",
       "      <th></th>\n",
       "      <th></th>\n",
       "      <th></th>\n",
       "      <th></th>\n",
       "      <th></th>\n",
       "      <th></th>\n",
       "      <th></th>\n",
       "    </tr>\n",
       "  </thead>\n",
       "  <tbody>\n",
       "    <tr>\n",
       "      <th rowspan=\"30\" valign=\"top\">61.0</th>\n",
       "      <th>423</th>\n",
       "      <td>2009-05-21</td>\n",
       "      <td>0.0</td>\n",
       "      <td>0.0</td>\n",
       "      <td>0.0</td>\n",
       "      <td>1.0</td>\n",
       "      <td>2.0</td>\n",
       "      <td>61.0</td>\n",
       "      <td>['None']</td>\n",
       "      <td>3.0</td>\n",
       "      <td>user</td>\n",
       "      <td>...</td>\n",
       "      <td>0.0</td>\n",
       "      <td>3.44</td>\n",
       "      <td>0.0</td>\n",
       "      <td>['None']</td>\n",
       "      <td>0.0</td>\n",
       "      <td>0.0</td>\n",
       "      <td>J</td>\n",
       "      <td>0.0</td>\n",
       "      <td>1.0</td>\n",
       "      <td>-1_hWlxJbX-H-GbCJ0mgsQ</td>\n",
       "    </tr>\n",
       "    <tr>\n",
       "      <th>3547</th>\n",
       "      <td>2010-12-18</td>\n",
       "      <td>3.0</td>\n",
       "      <td>0.0</td>\n",
       "      <td>0.0</td>\n",
       "      <td>3.0</td>\n",
       "      <td>0.0</td>\n",
       "      <td>61.0</td>\n",
       "      <td>['None']</td>\n",
       "      <td>0.0</td>\n",
       "      <td>user</td>\n",
       "      <td>...</td>\n",
       "      <td>0.0</td>\n",
       "      <td>3.90</td>\n",
       "      <td>1.0</td>\n",
       "      <td>['AEnndtDba_Tv3g-Zr-tD-Q', '6RQFxlQO7Z72AHCL8V...</td>\n",
       "      <td>0.0</td>\n",
       "      <td>1.0</td>\n",
       "      <td>Courtney</td>\n",
       "      <td>0.0</td>\n",
       "      <td>3.0</td>\n",
       "      <td>-L03Teab7mRU9J_LOUQU-Q</td>\n",
       "    </tr>\n",
       "    <tr>\n",
       "      <th>3548</th>\n",
       "      <td>2010-12-18</td>\n",
       "      <td>3.0</td>\n",
       "      <td>0.0</td>\n",
       "      <td>0.0</td>\n",
       "      <td>3.0</td>\n",
       "      <td>0.0</td>\n",
       "      <td>61.0</td>\n",
       "      <td>['None']</td>\n",
       "      <td>0.0</td>\n",
       "      <td>user</td>\n",
       "      <td>...</td>\n",
       "      <td>0.0</td>\n",
       "      <td>3.90</td>\n",
       "      <td>1.0</td>\n",
       "      <td>['AEnndtDba_Tv3g-Zr-tD-Q', '6RQFxlQO7Z72AHCL8V...</td>\n",
       "      <td>0.0</td>\n",
       "      <td>1.0</td>\n",
       "      <td>Courtney</td>\n",
       "      <td>0.0</td>\n",
       "      <td>3.0</td>\n",
       "      <td>-L03Teab7mRU9J_LOUQU-Q</td>\n",
       "    </tr>\n",
       "    <tr>\n",
       "      <th>5206</th>\n",
       "      <td>2015-04-14</td>\n",
       "      <td>9.0</td>\n",
       "      <td>0.0</td>\n",
       "      <td>0.0</td>\n",
       "      <td>0.0</td>\n",
       "      <td>0.0</td>\n",
       "      <td>61.0</td>\n",
       "      <td>['None']</td>\n",
       "      <td>2.0</td>\n",
       "      <td>user</td>\n",
       "      <td>...</td>\n",
       "      <td>0.0</td>\n",
       "      <td>4.20</td>\n",
       "      <td>0.0</td>\n",
       "      <td>['sldX0fN5mI75m0cmtJQqfw', 'NyMKhx2YeNFoKGMfQ5...</td>\n",
       "      <td>0.0</td>\n",
       "      <td>1.0</td>\n",
       "      <td>Amber</td>\n",
       "      <td>0.0</td>\n",
       "      <td>0.0</td>\n",
       "      <td>-Vr6sL26rO6ezzay88pl9g</td>\n",
       "    </tr>\n",
       "    <tr>\n",
       "      <th>5650</th>\n",
       "      <td>2010-07-08</td>\n",
       "      <td>14.0</td>\n",
       "      <td>1.0</td>\n",
       "      <td>0.0</td>\n",
       "      <td>4.0</td>\n",
       "      <td>0.0</td>\n",
       "      <td>61.0</td>\n",
       "      <td>['None']</td>\n",
       "      <td>0.0</td>\n",
       "      <td>user</td>\n",
       "      <td>...</td>\n",
       "      <td>1.0</td>\n",
       "      <td>3.83</td>\n",
       "      <td>0.0</td>\n",
       "      <td>['xXQCpHj0KU_dORHjS4SqaQ', 'IvewXE4fMBDmZLsjS7...</td>\n",
       "      <td>1.0</td>\n",
       "      <td>7.0</td>\n",
       "      <td>Nikko</td>\n",
       "      <td>1.0</td>\n",
       "      <td>4.0</td>\n",
       "      <td>-YuDSc96TRIdICTEbEqzkg</td>\n",
       "    </tr>\n",
       "    <tr>\n",
       "      <th>5858</th>\n",
       "      <td>2010-07-16</td>\n",
       "      <td>15.0</td>\n",
       "      <td>0.0</td>\n",
       "      <td>0.0</td>\n",
       "      <td>0.0</td>\n",
       "      <td>8.0</td>\n",
       "      <td>61.0</td>\n",
       "      <td>['None']</td>\n",
       "      <td>3.0</td>\n",
       "      <td>user</td>\n",
       "      <td>...</td>\n",
       "      <td>0.0</td>\n",
       "      <td>3.90</td>\n",
       "      <td>1.0</td>\n",
       "      <td>['caqIoGKnIZ1B78Eb4n9VCA', 'sIz02nAyQIrDtFavxZ...</td>\n",
       "      <td>0.0</td>\n",
       "      <td>4.0</td>\n",
       "      <td>Rachel</td>\n",
       "      <td>0.0</td>\n",
       "      <td>0.0</td>\n",
       "      <td>-_1K-ghWL1mhwgqHGR6WpQ</td>\n",
       "    </tr>\n",
       "    <tr>\n",
       "      <th>5859</th>\n",
       "      <td>2010-07-16</td>\n",
       "      <td>15.0</td>\n",
       "      <td>0.0</td>\n",
       "      <td>0.0</td>\n",
       "      <td>0.0</td>\n",
       "      <td>8.0</td>\n",
       "      <td>61.0</td>\n",
       "      <td>['None']</td>\n",
       "      <td>3.0</td>\n",
       "      <td>user</td>\n",
       "      <td>...</td>\n",
       "      <td>0.0</td>\n",
       "      <td>3.90</td>\n",
       "      <td>1.0</td>\n",
       "      <td>['caqIoGKnIZ1B78Eb4n9VCA', 'sIz02nAyQIrDtFavxZ...</td>\n",
       "      <td>0.0</td>\n",
       "      <td>4.0</td>\n",
       "      <td>Rachel</td>\n",
       "      <td>0.0</td>\n",
       "      <td>0.0</td>\n",
       "      <td>-_1K-ghWL1mhwgqHGR6WpQ</td>\n",
       "    </tr>\n",
       "    <tr>\n",
       "      <th>5860</th>\n",
       "      <td>2010-07-16</td>\n",
       "      <td>15.0</td>\n",
       "      <td>0.0</td>\n",
       "      <td>0.0</td>\n",
       "      <td>0.0</td>\n",
       "      <td>8.0</td>\n",
       "      <td>61.0</td>\n",
       "      <td>['None']</td>\n",
       "      <td>3.0</td>\n",
       "      <td>user</td>\n",
       "      <td>...</td>\n",
       "      <td>0.0</td>\n",
       "      <td>3.90</td>\n",
       "      <td>1.0</td>\n",
       "      <td>['caqIoGKnIZ1B78Eb4n9VCA', 'sIz02nAyQIrDtFavxZ...</td>\n",
       "      <td>0.0</td>\n",
       "      <td>4.0</td>\n",
       "      <td>Rachel</td>\n",
       "      <td>0.0</td>\n",
       "      <td>0.0</td>\n",
       "      <td>-_1K-ghWL1mhwgqHGR6WpQ</td>\n",
       "    </tr>\n",
       "    <tr>\n",
       "      <th>6131</th>\n",
       "      <td>2008-05-13</td>\n",
       "      <td>6.0</td>\n",
       "      <td>0.0</td>\n",
       "      <td>0.0</td>\n",
       "      <td>1.0</td>\n",
       "      <td>1.0</td>\n",
       "      <td>61.0</td>\n",
       "      <td>['None']</td>\n",
       "      <td>1.0</td>\n",
       "      <td>user</td>\n",
       "      <td>...</td>\n",
       "      <td>0.0</td>\n",
       "      <td>3.70</td>\n",
       "      <td>1.0</td>\n",
       "      <td>['_fNUV_9GCORkArJFCbhpnQ', 'AKdToemwRgmCru6njp...</td>\n",
       "      <td>0.0</td>\n",
       "      <td>0.0</td>\n",
       "      <td>Daniel</td>\n",
       "      <td>0.0</td>\n",
       "      <td>1.0</td>\n",
       "      <td>-bI0jFX6lEXfy8rj9cOU2A</td>\n",
       "    </tr>\n",
       "    <tr>\n",
       "      <th>6212</th>\n",
       "      <td>2009-06-14</td>\n",
       "      <td>1.0</td>\n",
       "      <td>0.0</td>\n",
       "      <td>0.0</td>\n",
       "      <td>0.0</td>\n",
       "      <td>0.0</td>\n",
       "      <td>61.0</td>\n",
       "      <td>['None']</td>\n",
       "      <td>0.0</td>\n",
       "      <td>user</td>\n",
       "      <td>...</td>\n",
       "      <td>0.0</td>\n",
       "      <td>3.57</td>\n",
       "      <td>0.0</td>\n",
       "      <td>['E9MHnnebm8Rth5NDQmbm8w']</td>\n",
       "      <td>0.0</td>\n",
       "      <td>0.0</td>\n",
       "      <td>Alex</td>\n",
       "      <td>0.0</td>\n",
       "      <td>0.0</td>\n",
       "      <td>-bqcvll4z1DoMU5IeruP9w</td>\n",
       "    </tr>\n",
       "    <tr>\n",
       "      <th>6213</th>\n",
       "      <td>2009-06-14</td>\n",
       "      <td>1.0</td>\n",
       "      <td>0.0</td>\n",
       "      <td>0.0</td>\n",
       "      <td>0.0</td>\n",
       "      <td>0.0</td>\n",
       "      <td>61.0</td>\n",
       "      <td>['None']</td>\n",
       "      <td>0.0</td>\n",
       "      <td>user</td>\n",
       "      <td>...</td>\n",
       "      <td>0.0</td>\n",
       "      <td>3.57</td>\n",
       "      <td>0.0</td>\n",
       "      <td>['E9MHnnebm8Rth5NDQmbm8w']</td>\n",
       "      <td>0.0</td>\n",
       "      <td>0.0</td>\n",
       "      <td>Alex</td>\n",
       "      <td>0.0</td>\n",
       "      <td>0.0</td>\n",
       "      <td>-bqcvll4z1DoMU5IeruP9w</td>\n",
       "    </tr>\n",
       "    <tr>\n",
       "      <th>6778</th>\n",
       "      <td>2010-12-24</td>\n",
       "      <td>141.0</td>\n",
       "      <td>0.0</td>\n",
       "      <td>0.0</td>\n",
       "      <td>0.0</td>\n",
       "      <td>2.0</td>\n",
       "      <td>61.0</td>\n",
       "      <td>['None']</td>\n",
       "      <td>1.0</td>\n",
       "      <td>user</td>\n",
       "      <td>...</td>\n",
       "      <td>0.0</td>\n",
       "      <td>3.80</td>\n",
       "      <td>0.0</td>\n",
       "      <td>['Y3onDxEJnLKM-lsGs4XUiA', 'TkRzqqTQu-T1n7AUvw...</td>\n",
       "      <td>3.0</td>\n",
       "      <td>19.0</td>\n",
       "      <td>Blancs</td>\n",
       "      <td>0.0</td>\n",
       "      <td>0.0</td>\n",
       "      <td>-fwjPvhYGMcae6UgFSmlDA</td>\n",
       "    </tr>\n",
       "    <tr>\n",
       "      <th>6779</th>\n",
       "      <td>2010-12-24</td>\n",
       "      <td>141.0</td>\n",
       "      <td>0.0</td>\n",
       "      <td>0.0</td>\n",
       "      <td>0.0</td>\n",
       "      <td>2.0</td>\n",
       "      <td>61.0</td>\n",
       "      <td>['None']</td>\n",
       "      <td>1.0</td>\n",
       "      <td>user</td>\n",
       "      <td>...</td>\n",
       "      <td>0.0</td>\n",
       "      <td>3.80</td>\n",
       "      <td>0.0</td>\n",
       "      <td>['Y3onDxEJnLKM-lsGs4XUiA', 'TkRzqqTQu-T1n7AUvw...</td>\n",
       "      <td>3.0</td>\n",
       "      <td>19.0</td>\n",
       "      <td>Blancs</td>\n",
       "      <td>0.0</td>\n",
       "      <td>0.0</td>\n",
       "      <td>-fwjPvhYGMcae6UgFSmlDA</td>\n",
       "    </tr>\n",
       "    <tr>\n",
       "      <th>9085</th>\n",
       "      <td>2010-08-04</td>\n",
       "      <td>12.0</td>\n",
       "      <td>1.0</td>\n",
       "      <td>0.0</td>\n",
       "      <td>6.0</td>\n",
       "      <td>8.0</td>\n",
       "      <td>61.0</td>\n",
       "      <td>['2016', '2015']</td>\n",
       "      <td>11.0</td>\n",
       "      <td>user</td>\n",
       "      <td>...</td>\n",
       "      <td>1.0</td>\n",
       "      <td>3.65</td>\n",
       "      <td>2.0</td>\n",
       "      <td>['pJfhhlBzsKdYiwQg_njfcQ', 'vSwsVxqXxgokApNM68...</td>\n",
       "      <td>4.0</td>\n",
       "      <td>2.0</td>\n",
       "      <td>Ally</td>\n",
       "      <td>1.0</td>\n",
       "      <td>6.0</td>\n",
       "      <td>-t4TVbzTZDDvrFIEknI3pw</td>\n",
       "    </tr>\n",
       "    <tr>\n",
       "      <th>9226</th>\n",
       "      <td>2013-01-02</td>\n",
       "      <td>18.0</td>\n",
       "      <td>0.0</td>\n",
       "      <td>0.0</td>\n",
       "      <td>0.0</td>\n",
       "      <td>1.0</td>\n",
       "      <td>61.0</td>\n",
       "      <td>['None']</td>\n",
       "      <td>0.0</td>\n",
       "      <td>user</td>\n",
       "      <td>...</td>\n",
       "      <td>0.0</td>\n",
       "      <td>3.93</td>\n",
       "      <td>0.0</td>\n",
       "      <td>['None']</td>\n",
       "      <td>0.0</td>\n",
       "      <td>0.0</td>\n",
       "      <td>Ava</td>\n",
       "      <td>0.0</td>\n",
       "      <td>0.0</td>\n",
       "      <td>-u6xIwd4In3KUXPKL_bjMw</td>\n",
       "    </tr>\n",
       "    <tr>\n",
       "      <th>9227</th>\n",
       "      <td>2013-01-02</td>\n",
       "      <td>18.0</td>\n",
       "      <td>0.0</td>\n",
       "      <td>0.0</td>\n",
       "      <td>0.0</td>\n",
       "      <td>1.0</td>\n",
       "      <td>61.0</td>\n",
       "      <td>['None']</td>\n",
       "      <td>0.0</td>\n",
       "      <td>user</td>\n",
       "      <td>...</td>\n",
       "      <td>0.0</td>\n",
       "      <td>3.93</td>\n",
       "      <td>0.0</td>\n",
       "      <td>['None']</td>\n",
       "      <td>0.0</td>\n",
       "      <td>0.0</td>\n",
       "      <td>Ava</td>\n",
       "      <td>0.0</td>\n",
       "      <td>0.0</td>\n",
       "      <td>-u6xIwd4In3KUXPKL_bjMw</td>\n",
       "    </tr>\n",
       "    <tr>\n",
       "      <th>9228</th>\n",
       "      <td>2013-01-02</td>\n",
       "      <td>18.0</td>\n",
       "      <td>0.0</td>\n",
       "      <td>0.0</td>\n",
       "      <td>0.0</td>\n",
       "      <td>1.0</td>\n",
       "      <td>61.0</td>\n",
       "      <td>['None']</td>\n",
       "      <td>0.0</td>\n",
       "      <td>user</td>\n",
       "      <td>...</td>\n",
       "      <td>0.0</td>\n",
       "      <td>3.93</td>\n",
       "      <td>0.0</td>\n",
       "      <td>['None']</td>\n",
       "      <td>0.0</td>\n",
       "      <td>0.0</td>\n",
       "      <td>Ava</td>\n",
       "      <td>0.0</td>\n",
       "      <td>0.0</td>\n",
       "      <td>-u6xIwd4In3KUXPKL_bjMw</td>\n",
       "    </tr>\n",
       "    <tr>\n",
       "      <th>9229</th>\n",
       "      <td>2013-01-02</td>\n",
       "      <td>18.0</td>\n",
       "      <td>0.0</td>\n",
       "      <td>0.0</td>\n",
       "      <td>0.0</td>\n",
       "      <td>1.0</td>\n",
       "      <td>61.0</td>\n",
       "      <td>['None']</td>\n",
       "      <td>0.0</td>\n",
       "      <td>user</td>\n",
       "      <td>...</td>\n",
       "      <td>0.0</td>\n",
       "      <td>3.93</td>\n",
       "      <td>0.0</td>\n",
       "      <td>['None']</td>\n",
       "      <td>0.0</td>\n",
       "      <td>0.0</td>\n",
       "      <td>Ava</td>\n",
       "      <td>0.0</td>\n",
       "      <td>0.0</td>\n",
       "      <td>-u6xIwd4In3KUXPKL_bjMw</td>\n",
       "    </tr>\n",
       "    <tr>\n",
       "      <th>9230</th>\n",
       "      <td>2013-01-02</td>\n",
       "      <td>18.0</td>\n",
       "      <td>0.0</td>\n",
       "      <td>0.0</td>\n",
       "      <td>0.0</td>\n",
       "      <td>1.0</td>\n",
       "      <td>61.0</td>\n",
       "      <td>['None']</td>\n",
       "      <td>0.0</td>\n",
       "      <td>user</td>\n",
       "      <td>...</td>\n",
       "      <td>0.0</td>\n",
       "      <td>3.93</td>\n",
       "      <td>0.0</td>\n",
       "      <td>['None']</td>\n",
       "      <td>0.0</td>\n",
       "      <td>0.0</td>\n",
       "      <td>Ava</td>\n",
       "      <td>0.0</td>\n",
       "      <td>0.0</td>\n",
       "      <td>-u6xIwd4In3KUXPKL_bjMw</td>\n",
       "    </tr>\n",
       "    <tr>\n",
       "      <th>9620</th>\n",
       "      <td>2008-05-15</td>\n",
       "      <td>19.0</td>\n",
       "      <td>0.0</td>\n",
       "      <td>0.0</td>\n",
       "      <td>7.0</td>\n",
       "      <td>12.0</td>\n",
       "      <td>61.0</td>\n",
       "      <td>['2008']</td>\n",
       "      <td>2.0</td>\n",
       "      <td>user</td>\n",
       "      <td>...</td>\n",
       "      <td>0.0</td>\n",
       "      <td>3.62</td>\n",
       "      <td>2.0</td>\n",
       "      <td>['LJ8U5ZVnFpF8XNUR7DcUng', 'l1zPZ0XtTESfcQ24v-...</td>\n",
       "      <td>2.0</td>\n",
       "      <td>18.0</td>\n",
       "      <td>Phil</td>\n",
       "      <td>0.0</td>\n",
       "      <td>7.0</td>\n",
       "      <td>-wF9X1C5NxqOPCU57ZQOuw</td>\n",
       "    </tr>\n",
       "    <tr>\n",
       "      <th>9621</th>\n",
       "      <td>2008-05-15</td>\n",
       "      <td>19.0</td>\n",
       "      <td>0.0</td>\n",
       "      <td>0.0</td>\n",
       "      <td>7.0</td>\n",
       "      <td>12.0</td>\n",
       "      <td>61.0</td>\n",
       "      <td>['2008']</td>\n",
       "      <td>2.0</td>\n",
       "      <td>user</td>\n",
       "      <td>...</td>\n",
       "      <td>0.0</td>\n",
       "      <td>3.62</td>\n",
       "      <td>2.0</td>\n",
       "      <td>['LJ8U5ZVnFpF8XNUR7DcUng', 'l1zPZ0XtTESfcQ24v-...</td>\n",
       "      <td>2.0</td>\n",
       "      <td>18.0</td>\n",
       "      <td>Phil</td>\n",
       "      <td>0.0</td>\n",
       "      <td>7.0</td>\n",
       "      <td>-wF9X1C5NxqOPCU57ZQOuw</td>\n",
       "    </tr>\n",
       "    <tr>\n",
       "      <th>9622</th>\n",
       "      <td>2008-05-15</td>\n",
       "      <td>19.0</td>\n",
       "      <td>0.0</td>\n",
       "      <td>0.0</td>\n",
       "      <td>7.0</td>\n",
       "      <td>12.0</td>\n",
       "      <td>61.0</td>\n",
       "      <td>['2008']</td>\n",
       "      <td>2.0</td>\n",
       "      <td>user</td>\n",
       "      <td>...</td>\n",
       "      <td>0.0</td>\n",
       "      <td>3.62</td>\n",
       "      <td>2.0</td>\n",
       "      <td>['LJ8U5ZVnFpF8XNUR7DcUng', 'l1zPZ0XtTESfcQ24v-...</td>\n",
       "      <td>2.0</td>\n",
       "      <td>18.0</td>\n",
       "      <td>Phil</td>\n",
       "      <td>0.0</td>\n",
       "      <td>7.0</td>\n",
       "      <td>-wF9X1C5NxqOPCU57ZQOuw</td>\n",
       "    </tr>\n",
       "    <tr>\n",
       "      <th>9623</th>\n",
       "      <td>2008-05-15</td>\n",
       "      <td>19.0</td>\n",
       "      <td>0.0</td>\n",
       "      <td>0.0</td>\n",
       "      <td>7.0</td>\n",
       "      <td>12.0</td>\n",
       "      <td>61.0</td>\n",
       "      <td>['2008']</td>\n",
       "      <td>2.0</td>\n",
       "      <td>user</td>\n",
       "      <td>...</td>\n",
       "      <td>0.0</td>\n",
       "      <td>3.62</td>\n",
       "      <td>2.0</td>\n",
       "      <td>['LJ8U5ZVnFpF8XNUR7DcUng', 'l1zPZ0XtTESfcQ24v-...</td>\n",
       "      <td>2.0</td>\n",
       "      <td>18.0</td>\n",
       "      <td>Phil</td>\n",
       "      <td>0.0</td>\n",
       "      <td>7.0</td>\n",
       "      <td>-wF9X1C5NxqOPCU57ZQOuw</td>\n",
       "    </tr>\n",
       "    <tr>\n",
       "      <th>9624</th>\n",
       "      <td>2008-05-15</td>\n",
       "      <td>19.0</td>\n",
       "      <td>0.0</td>\n",
       "      <td>0.0</td>\n",
       "      <td>7.0</td>\n",
       "      <td>12.0</td>\n",
       "      <td>61.0</td>\n",
       "      <td>['2008']</td>\n",
       "      <td>2.0</td>\n",
       "      <td>user</td>\n",
       "      <td>...</td>\n",
       "      <td>0.0</td>\n",
       "      <td>3.62</td>\n",
       "      <td>2.0</td>\n",
       "      <td>['LJ8U5ZVnFpF8XNUR7DcUng', 'l1zPZ0XtTESfcQ24v-...</td>\n",
       "      <td>2.0</td>\n",
       "      <td>18.0</td>\n",
       "      <td>Phil</td>\n",
       "      <td>0.0</td>\n",
       "      <td>7.0</td>\n",
       "      <td>-wF9X1C5NxqOPCU57ZQOuw</td>\n",
       "    </tr>\n",
       "    <tr>\n",
       "      <th>9625</th>\n",
       "      <td>2008-05-15</td>\n",
       "      <td>19.0</td>\n",
       "      <td>0.0</td>\n",
       "      <td>0.0</td>\n",
       "      <td>7.0</td>\n",
       "      <td>12.0</td>\n",
       "      <td>61.0</td>\n",
       "      <td>['2008']</td>\n",
       "      <td>2.0</td>\n",
       "      <td>user</td>\n",
       "      <td>...</td>\n",
       "      <td>0.0</td>\n",
       "      <td>3.62</td>\n",
       "      <td>2.0</td>\n",
       "      <td>['LJ8U5ZVnFpF8XNUR7DcUng', 'l1zPZ0XtTESfcQ24v-...</td>\n",
       "      <td>2.0</td>\n",
       "      <td>18.0</td>\n",
       "      <td>Phil</td>\n",
       "      <td>0.0</td>\n",
       "      <td>7.0</td>\n",
       "      <td>-wF9X1C5NxqOPCU57ZQOuw</td>\n",
       "    </tr>\n",
       "    <tr>\n",
       "      <th>9626</th>\n",
       "      <td>2008-05-15</td>\n",
       "      <td>19.0</td>\n",
       "      <td>0.0</td>\n",
       "      <td>0.0</td>\n",
       "      <td>7.0</td>\n",
       "      <td>12.0</td>\n",
       "      <td>61.0</td>\n",
       "      <td>['2008']</td>\n",
       "      <td>2.0</td>\n",
       "      <td>user</td>\n",
       "      <td>...</td>\n",
       "      <td>0.0</td>\n",
       "      <td>3.62</td>\n",
       "      <td>2.0</td>\n",
       "      <td>['LJ8U5ZVnFpF8XNUR7DcUng', 'l1zPZ0XtTESfcQ24v-...</td>\n",
       "      <td>2.0</td>\n",
       "      <td>18.0</td>\n",
       "      <td>Phil</td>\n",
       "      <td>0.0</td>\n",
       "      <td>7.0</td>\n",
       "      <td>-wF9X1C5NxqOPCU57ZQOuw</td>\n",
       "    </tr>\n",
       "    <tr>\n",
       "      <th>9627</th>\n",
       "      <td>2008-05-15</td>\n",
       "      <td>19.0</td>\n",
       "      <td>0.0</td>\n",
       "      <td>0.0</td>\n",
       "      <td>7.0</td>\n",
       "      <td>12.0</td>\n",
       "      <td>61.0</td>\n",
       "      <td>['2008']</td>\n",
       "      <td>2.0</td>\n",
       "      <td>user</td>\n",
       "      <td>...</td>\n",
       "      <td>0.0</td>\n",
       "      <td>3.62</td>\n",
       "      <td>2.0</td>\n",
       "      <td>['LJ8U5ZVnFpF8XNUR7DcUng', 'l1zPZ0XtTESfcQ24v-...</td>\n",
       "      <td>2.0</td>\n",
       "      <td>18.0</td>\n",
       "      <td>Phil</td>\n",
       "      <td>0.0</td>\n",
       "      <td>7.0</td>\n",
       "      <td>-wF9X1C5NxqOPCU57ZQOuw</td>\n",
       "    </tr>\n",
       "    <tr>\n",
       "      <th>9628</th>\n",
       "      <td>2008-05-15</td>\n",
       "      <td>19.0</td>\n",
       "      <td>0.0</td>\n",
       "      <td>0.0</td>\n",
       "      <td>7.0</td>\n",
       "      <td>12.0</td>\n",
       "      <td>61.0</td>\n",
       "      <td>['2008']</td>\n",
       "      <td>2.0</td>\n",
       "      <td>user</td>\n",
       "      <td>...</td>\n",
       "      <td>0.0</td>\n",
       "      <td>3.62</td>\n",
       "      <td>2.0</td>\n",
       "      <td>['LJ8U5ZVnFpF8XNUR7DcUng', 'l1zPZ0XtTESfcQ24v-...</td>\n",
       "      <td>2.0</td>\n",
       "      <td>18.0</td>\n",
       "      <td>Phil</td>\n",
       "      <td>0.0</td>\n",
       "      <td>7.0</td>\n",
       "      <td>-wF9X1C5NxqOPCU57ZQOuw</td>\n",
       "    </tr>\n",
       "    <tr>\n",
       "      <th>10046</th>\n",
       "      <td>2012-12-31</td>\n",
       "      <td>102.0</td>\n",
       "      <td>1.0</td>\n",
       "      <td>0.0</td>\n",
       "      <td>4.0</td>\n",
       "      <td>5.0</td>\n",
       "      <td>61.0</td>\n",
       "      <td>['None']</td>\n",
       "      <td>4.0</td>\n",
       "      <td>user</td>\n",
       "      <td>...</td>\n",
       "      <td>0.0</td>\n",
       "      <td>3.97</td>\n",
       "      <td>2.0</td>\n",
       "      <td>['bdVUDpPdMwGUx6KZGRxAyw', 'j2fkIGhjg8_hDaE_-_...</td>\n",
       "      <td>6.0</td>\n",
       "      <td>6.0</td>\n",
       "      <td>Chelsea</td>\n",
       "      <td>0.0</td>\n",
       "      <td>4.0</td>\n",
       "      <td>-ypNrWX4v4wzBK6OB-OPlg</td>\n",
       "    </tr>\n",
       "    <tr>\n",
       "      <th>10792</th>\n",
       "      <td>2009-07-13</td>\n",
       "      <td>1.0</td>\n",
       "      <td>0.0</td>\n",
       "      <td>0.0</td>\n",
       "      <td>0.0</td>\n",
       "      <td>0.0</td>\n",
       "      <td>61.0</td>\n",
       "      <td>['None']</td>\n",
       "      <td>1.0</td>\n",
       "      <td>user</td>\n",
       "      <td>...</td>\n",
       "      <td>0.0</td>\n",
       "      <td>3.74</td>\n",
       "      <td>0.0</td>\n",
       "      <td>['IZgFJhJFFmkfFBrilsbgFA', 'CWA8l54d2XPH1IA0sp...</td>\n",
       "      <td>0.0</td>\n",
       "      <td>1.0</td>\n",
       "      <td>Chuck</td>\n",
       "      <td>0.0</td>\n",
       "      <td>0.0</td>\n",
       "      <td>03ep9jK4DEF6EppN47GZUw</td>\n",
       "    </tr>\n",
       "    <tr>\n",
       "      <th>...</th>\n",
       "      <th>...</th>\n",
       "      <td>...</td>\n",
       "      <td>...</td>\n",
       "      <td>...</td>\n",
       "      <td>...</td>\n",
       "      <td>...</td>\n",
       "      <td>...</td>\n",
       "      <td>...</td>\n",
       "      <td>...</td>\n",
       "      <td>...</td>\n",
       "      <td>...</td>\n",
       "      <td>...</td>\n",
       "      <td>...</td>\n",
       "      <td>...</td>\n",
       "      <td>...</td>\n",
       "      <td>...</td>\n",
       "      <td>...</td>\n",
       "      <td>...</td>\n",
       "      <td>...</td>\n",
       "      <td>...</td>\n",
       "      <td>...</td>\n",
       "      <td>...</td>\n",
       "    </tr>\n",
       "    <tr>\n",
       "      <th>5262.0</th>\n",
       "      <th>483492</th>\n",
       "      <td>2011-11-29</td>\n",
       "      <td>39.0</td>\n",
       "      <td>218.0</td>\n",
       "      <td>5.0</td>\n",
       "      <td>423.0</td>\n",
       "      <td>591.0</td>\n",
       "      <td>5262.0</td>\n",
       "      <td>['2015', '2016', '2017', '2014', '2012', '2013']</td>\n",
       "      <td>422.0</td>\n",
       "      <td>user</td>\n",
       "      <td>...</td>\n",
       "      <td>11.0</td>\n",
       "      <td>3.69</td>\n",
       "      <td>38.0</td>\n",
       "      <td>['dvqgxx4hFcfraHvhddzOXA', 'J1dmjRPITOoYSIsxu1...</td>\n",
       "      <td>207.0</td>\n",
       "      <td>57.0</td>\n",
       "      <td>Nijole</td>\n",
       "      <td>15.0</td>\n",
       "      <td>423.0</td>\n",
       "      <td>nmdkHL2JKFx55T3nq5VziA</td>\n",
       "    </tr>\n",
       "    <tr>\n",
       "      <th rowspan=\"20\" valign=\"top\">6252.0</th>\n",
       "      <th>327018</th>\n",
       "      <td>2011-06-10</td>\n",
       "      <td>1259.0</td>\n",
       "      <td>82.0</td>\n",
       "      <td>1.0</td>\n",
       "      <td>273.0</td>\n",
       "      <td>487.0</td>\n",
       "      <td>6252.0</td>\n",
       "      <td>['None']</td>\n",
       "      <td>204.0</td>\n",
       "      <td>user</td>\n",
       "      <td>...</td>\n",
       "      <td>1.0</td>\n",
       "      <td>3.33</td>\n",
       "      <td>38.0</td>\n",
       "      <td>['OZWskTOKCWvYejhu63gFmQ', '-bMKjy4pd_0UXa4hWj...</td>\n",
       "      <td>85.0</td>\n",
       "      <td>986.0</td>\n",
       "      <td>Kenneth</td>\n",
       "      <td>12.0</td>\n",
       "      <td>273.0</td>\n",
       "      <td>Xwnf20FKuikiHcSpcEbpKQ</td>\n",
       "    </tr>\n",
       "    <tr>\n",
       "      <th>327019</th>\n",
       "      <td>2011-06-10</td>\n",
       "      <td>1259.0</td>\n",
       "      <td>82.0</td>\n",
       "      <td>1.0</td>\n",
       "      <td>273.0</td>\n",
       "      <td>487.0</td>\n",
       "      <td>6252.0</td>\n",
       "      <td>['None']</td>\n",
       "      <td>204.0</td>\n",
       "      <td>user</td>\n",
       "      <td>...</td>\n",
       "      <td>1.0</td>\n",
       "      <td>3.33</td>\n",
       "      <td>38.0</td>\n",
       "      <td>['OZWskTOKCWvYejhu63gFmQ', '-bMKjy4pd_0UXa4hWj...</td>\n",
       "      <td>85.0</td>\n",
       "      <td>986.0</td>\n",
       "      <td>Kenneth</td>\n",
       "      <td>12.0</td>\n",
       "      <td>273.0</td>\n",
       "      <td>Xwnf20FKuikiHcSpcEbpKQ</td>\n",
       "    </tr>\n",
       "    <tr>\n",
       "      <th>327036</th>\n",
       "      <td>2011-06-10</td>\n",
       "      <td>1259.0</td>\n",
       "      <td>82.0</td>\n",
       "      <td>1.0</td>\n",
       "      <td>273.0</td>\n",
       "      <td>487.0</td>\n",
       "      <td>6252.0</td>\n",
       "      <td>['None']</td>\n",
       "      <td>204.0</td>\n",
       "      <td>user</td>\n",
       "      <td>...</td>\n",
       "      <td>1.0</td>\n",
       "      <td>3.33</td>\n",
       "      <td>38.0</td>\n",
       "      <td>['OZWskTOKCWvYejhu63gFmQ', '-bMKjy4pd_0UXa4hWj...</td>\n",
       "      <td>85.0</td>\n",
       "      <td>986.0</td>\n",
       "      <td>Kenneth</td>\n",
       "      <td>12.0</td>\n",
       "      <td>273.0</td>\n",
       "      <td>Xwnf20FKuikiHcSpcEbpKQ</td>\n",
       "    </tr>\n",
       "    <tr>\n",
       "      <th>327035</th>\n",
       "      <td>2011-06-10</td>\n",
       "      <td>1259.0</td>\n",
       "      <td>82.0</td>\n",
       "      <td>1.0</td>\n",
       "      <td>273.0</td>\n",
       "      <td>487.0</td>\n",
       "      <td>6252.0</td>\n",
       "      <td>['None']</td>\n",
       "      <td>204.0</td>\n",
       "      <td>user</td>\n",
       "      <td>...</td>\n",
       "      <td>1.0</td>\n",
       "      <td>3.33</td>\n",
       "      <td>38.0</td>\n",
       "      <td>['OZWskTOKCWvYejhu63gFmQ', '-bMKjy4pd_0UXa4hWj...</td>\n",
       "      <td>85.0</td>\n",
       "      <td>986.0</td>\n",
       "      <td>Kenneth</td>\n",
       "      <td>12.0</td>\n",
       "      <td>273.0</td>\n",
       "      <td>Xwnf20FKuikiHcSpcEbpKQ</td>\n",
       "    </tr>\n",
       "    <tr>\n",
       "      <th>327034</th>\n",
       "      <td>2011-06-10</td>\n",
       "      <td>1259.0</td>\n",
       "      <td>82.0</td>\n",
       "      <td>1.0</td>\n",
       "      <td>273.0</td>\n",
       "      <td>487.0</td>\n",
       "      <td>6252.0</td>\n",
       "      <td>['None']</td>\n",
       "      <td>204.0</td>\n",
       "      <td>user</td>\n",
       "      <td>...</td>\n",
       "      <td>1.0</td>\n",
       "      <td>3.33</td>\n",
       "      <td>38.0</td>\n",
       "      <td>['OZWskTOKCWvYejhu63gFmQ', '-bMKjy4pd_0UXa4hWj...</td>\n",
       "      <td>85.0</td>\n",
       "      <td>986.0</td>\n",
       "      <td>Kenneth</td>\n",
       "      <td>12.0</td>\n",
       "      <td>273.0</td>\n",
       "      <td>Xwnf20FKuikiHcSpcEbpKQ</td>\n",
       "    </tr>\n",
       "    <tr>\n",
       "      <th>327033</th>\n",
       "      <td>2011-06-10</td>\n",
       "      <td>1259.0</td>\n",
       "      <td>82.0</td>\n",
       "      <td>1.0</td>\n",
       "      <td>273.0</td>\n",
       "      <td>487.0</td>\n",
       "      <td>6252.0</td>\n",
       "      <td>['None']</td>\n",
       "      <td>204.0</td>\n",
       "      <td>user</td>\n",
       "      <td>...</td>\n",
       "      <td>1.0</td>\n",
       "      <td>3.33</td>\n",
       "      <td>38.0</td>\n",
       "      <td>['OZWskTOKCWvYejhu63gFmQ', '-bMKjy4pd_0UXa4hWj...</td>\n",
       "      <td>85.0</td>\n",
       "      <td>986.0</td>\n",
       "      <td>Kenneth</td>\n",
       "      <td>12.0</td>\n",
       "      <td>273.0</td>\n",
       "      <td>Xwnf20FKuikiHcSpcEbpKQ</td>\n",
       "    </tr>\n",
       "    <tr>\n",
       "      <th>327032</th>\n",
       "      <td>2011-06-10</td>\n",
       "      <td>1259.0</td>\n",
       "      <td>82.0</td>\n",
       "      <td>1.0</td>\n",
       "      <td>273.0</td>\n",
       "      <td>487.0</td>\n",
       "      <td>6252.0</td>\n",
       "      <td>['None']</td>\n",
       "      <td>204.0</td>\n",
       "      <td>user</td>\n",
       "      <td>...</td>\n",
       "      <td>1.0</td>\n",
       "      <td>3.33</td>\n",
       "      <td>38.0</td>\n",
       "      <td>['OZWskTOKCWvYejhu63gFmQ', '-bMKjy4pd_0UXa4hWj...</td>\n",
       "      <td>85.0</td>\n",
       "      <td>986.0</td>\n",
       "      <td>Kenneth</td>\n",
       "      <td>12.0</td>\n",
       "      <td>273.0</td>\n",
       "      <td>Xwnf20FKuikiHcSpcEbpKQ</td>\n",
       "    </tr>\n",
       "    <tr>\n",
       "      <th>327031</th>\n",
       "      <td>2011-06-10</td>\n",
       "      <td>1259.0</td>\n",
       "      <td>82.0</td>\n",
       "      <td>1.0</td>\n",
       "      <td>273.0</td>\n",
       "      <td>487.0</td>\n",
       "      <td>6252.0</td>\n",
       "      <td>['None']</td>\n",
       "      <td>204.0</td>\n",
       "      <td>user</td>\n",
       "      <td>...</td>\n",
       "      <td>1.0</td>\n",
       "      <td>3.33</td>\n",
       "      <td>38.0</td>\n",
       "      <td>['OZWskTOKCWvYejhu63gFmQ', '-bMKjy4pd_0UXa4hWj...</td>\n",
       "      <td>85.0</td>\n",
       "      <td>986.0</td>\n",
       "      <td>Kenneth</td>\n",
       "      <td>12.0</td>\n",
       "      <td>273.0</td>\n",
       "      <td>Xwnf20FKuikiHcSpcEbpKQ</td>\n",
       "    </tr>\n",
       "    <tr>\n",
       "      <th>327030</th>\n",
       "      <td>2011-06-10</td>\n",
       "      <td>1259.0</td>\n",
       "      <td>82.0</td>\n",
       "      <td>1.0</td>\n",
       "      <td>273.0</td>\n",
       "      <td>487.0</td>\n",
       "      <td>6252.0</td>\n",
       "      <td>['None']</td>\n",
       "      <td>204.0</td>\n",
       "      <td>user</td>\n",
       "      <td>...</td>\n",
       "      <td>1.0</td>\n",
       "      <td>3.33</td>\n",
       "      <td>38.0</td>\n",
       "      <td>['OZWskTOKCWvYejhu63gFmQ', '-bMKjy4pd_0UXa4hWj...</td>\n",
       "      <td>85.0</td>\n",
       "      <td>986.0</td>\n",
       "      <td>Kenneth</td>\n",
       "      <td>12.0</td>\n",
       "      <td>273.0</td>\n",
       "      <td>Xwnf20FKuikiHcSpcEbpKQ</td>\n",
       "    </tr>\n",
       "    <tr>\n",
       "      <th>327029</th>\n",
       "      <td>2011-06-10</td>\n",
       "      <td>1259.0</td>\n",
       "      <td>82.0</td>\n",
       "      <td>1.0</td>\n",
       "      <td>273.0</td>\n",
       "      <td>487.0</td>\n",
       "      <td>6252.0</td>\n",
       "      <td>['None']</td>\n",
       "      <td>204.0</td>\n",
       "      <td>user</td>\n",
       "      <td>...</td>\n",
       "      <td>1.0</td>\n",
       "      <td>3.33</td>\n",
       "      <td>38.0</td>\n",
       "      <td>['OZWskTOKCWvYejhu63gFmQ', '-bMKjy4pd_0UXa4hWj...</td>\n",
       "      <td>85.0</td>\n",
       "      <td>986.0</td>\n",
       "      <td>Kenneth</td>\n",
       "      <td>12.0</td>\n",
       "      <td>273.0</td>\n",
       "      <td>Xwnf20FKuikiHcSpcEbpKQ</td>\n",
       "    </tr>\n",
       "    <tr>\n",
       "      <th>327028</th>\n",
       "      <td>2011-06-10</td>\n",
       "      <td>1259.0</td>\n",
       "      <td>82.0</td>\n",
       "      <td>1.0</td>\n",
       "      <td>273.0</td>\n",
       "      <td>487.0</td>\n",
       "      <td>6252.0</td>\n",
       "      <td>['None']</td>\n",
       "      <td>204.0</td>\n",
       "      <td>user</td>\n",
       "      <td>...</td>\n",
       "      <td>1.0</td>\n",
       "      <td>3.33</td>\n",
       "      <td>38.0</td>\n",
       "      <td>['OZWskTOKCWvYejhu63gFmQ', '-bMKjy4pd_0UXa4hWj...</td>\n",
       "      <td>85.0</td>\n",
       "      <td>986.0</td>\n",
       "      <td>Kenneth</td>\n",
       "      <td>12.0</td>\n",
       "      <td>273.0</td>\n",
       "      <td>Xwnf20FKuikiHcSpcEbpKQ</td>\n",
       "    </tr>\n",
       "    <tr>\n",
       "      <th>327027</th>\n",
       "      <td>2011-06-10</td>\n",
       "      <td>1259.0</td>\n",
       "      <td>82.0</td>\n",
       "      <td>1.0</td>\n",
       "      <td>273.0</td>\n",
       "      <td>487.0</td>\n",
       "      <td>6252.0</td>\n",
       "      <td>['None']</td>\n",
       "      <td>204.0</td>\n",
       "      <td>user</td>\n",
       "      <td>...</td>\n",
       "      <td>1.0</td>\n",
       "      <td>3.33</td>\n",
       "      <td>38.0</td>\n",
       "      <td>['OZWskTOKCWvYejhu63gFmQ', '-bMKjy4pd_0UXa4hWj...</td>\n",
       "      <td>85.0</td>\n",
       "      <td>986.0</td>\n",
       "      <td>Kenneth</td>\n",
       "      <td>12.0</td>\n",
       "      <td>273.0</td>\n",
       "      <td>Xwnf20FKuikiHcSpcEbpKQ</td>\n",
       "    </tr>\n",
       "    <tr>\n",
       "      <th>327026</th>\n",
       "      <td>2011-06-10</td>\n",
       "      <td>1259.0</td>\n",
       "      <td>82.0</td>\n",
       "      <td>1.0</td>\n",
       "      <td>273.0</td>\n",
       "      <td>487.0</td>\n",
       "      <td>6252.0</td>\n",
       "      <td>['None']</td>\n",
       "      <td>204.0</td>\n",
       "      <td>user</td>\n",
       "      <td>...</td>\n",
       "      <td>1.0</td>\n",
       "      <td>3.33</td>\n",
       "      <td>38.0</td>\n",
       "      <td>['OZWskTOKCWvYejhu63gFmQ', '-bMKjy4pd_0UXa4hWj...</td>\n",
       "      <td>85.0</td>\n",
       "      <td>986.0</td>\n",
       "      <td>Kenneth</td>\n",
       "      <td>12.0</td>\n",
       "      <td>273.0</td>\n",
       "      <td>Xwnf20FKuikiHcSpcEbpKQ</td>\n",
       "    </tr>\n",
       "    <tr>\n",
       "      <th>327025</th>\n",
       "      <td>2011-06-10</td>\n",
       "      <td>1259.0</td>\n",
       "      <td>82.0</td>\n",
       "      <td>1.0</td>\n",
       "      <td>273.0</td>\n",
       "      <td>487.0</td>\n",
       "      <td>6252.0</td>\n",
       "      <td>['None']</td>\n",
       "      <td>204.0</td>\n",
       "      <td>user</td>\n",
       "      <td>...</td>\n",
       "      <td>1.0</td>\n",
       "      <td>3.33</td>\n",
       "      <td>38.0</td>\n",
       "      <td>['OZWskTOKCWvYejhu63gFmQ', '-bMKjy4pd_0UXa4hWj...</td>\n",
       "      <td>85.0</td>\n",
       "      <td>986.0</td>\n",
       "      <td>Kenneth</td>\n",
       "      <td>12.0</td>\n",
       "      <td>273.0</td>\n",
       "      <td>Xwnf20FKuikiHcSpcEbpKQ</td>\n",
       "    </tr>\n",
       "    <tr>\n",
       "      <th>327024</th>\n",
       "      <td>2011-06-10</td>\n",
       "      <td>1259.0</td>\n",
       "      <td>82.0</td>\n",
       "      <td>1.0</td>\n",
       "      <td>273.0</td>\n",
       "      <td>487.0</td>\n",
       "      <td>6252.0</td>\n",
       "      <td>['None']</td>\n",
       "      <td>204.0</td>\n",
       "      <td>user</td>\n",
       "      <td>...</td>\n",
       "      <td>1.0</td>\n",
       "      <td>3.33</td>\n",
       "      <td>38.0</td>\n",
       "      <td>['OZWskTOKCWvYejhu63gFmQ', '-bMKjy4pd_0UXa4hWj...</td>\n",
       "      <td>85.0</td>\n",
       "      <td>986.0</td>\n",
       "      <td>Kenneth</td>\n",
       "      <td>12.0</td>\n",
       "      <td>273.0</td>\n",
       "      <td>Xwnf20FKuikiHcSpcEbpKQ</td>\n",
       "    </tr>\n",
       "    <tr>\n",
       "      <th>327023</th>\n",
       "      <td>2011-06-10</td>\n",
       "      <td>1259.0</td>\n",
       "      <td>82.0</td>\n",
       "      <td>1.0</td>\n",
       "      <td>273.0</td>\n",
       "      <td>487.0</td>\n",
       "      <td>6252.0</td>\n",
       "      <td>['None']</td>\n",
       "      <td>204.0</td>\n",
       "      <td>user</td>\n",
       "      <td>...</td>\n",
       "      <td>1.0</td>\n",
       "      <td>3.33</td>\n",
       "      <td>38.0</td>\n",
       "      <td>['OZWskTOKCWvYejhu63gFmQ', '-bMKjy4pd_0UXa4hWj...</td>\n",
       "      <td>85.0</td>\n",
       "      <td>986.0</td>\n",
       "      <td>Kenneth</td>\n",
       "      <td>12.0</td>\n",
       "      <td>273.0</td>\n",
       "      <td>Xwnf20FKuikiHcSpcEbpKQ</td>\n",
       "    </tr>\n",
       "    <tr>\n",
       "      <th>327022</th>\n",
       "      <td>2011-06-10</td>\n",
       "      <td>1259.0</td>\n",
       "      <td>82.0</td>\n",
       "      <td>1.0</td>\n",
       "      <td>273.0</td>\n",
       "      <td>487.0</td>\n",
       "      <td>6252.0</td>\n",
       "      <td>['None']</td>\n",
       "      <td>204.0</td>\n",
       "      <td>user</td>\n",
       "      <td>...</td>\n",
       "      <td>1.0</td>\n",
       "      <td>3.33</td>\n",
       "      <td>38.0</td>\n",
       "      <td>['OZWskTOKCWvYejhu63gFmQ', '-bMKjy4pd_0UXa4hWj...</td>\n",
       "      <td>85.0</td>\n",
       "      <td>986.0</td>\n",
       "      <td>Kenneth</td>\n",
       "      <td>12.0</td>\n",
       "      <td>273.0</td>\n",
       "      <td>Xwnf20FKuikiHcSpcEbpKQ</td>\n",
       "    </tr>\n",
       "    <tr>\n",
       "      <th>327021</th>\n",
       "      <td>2011-06-10</td>\n",
       "      <td>1259.0</td>\n",
       "      <td>82.0</td>\n",
       "      <td>1.0</td>\n",
       "      <td>273.0</td>\n",
       "      <td>487.0</td>\n",
       "      <td>6252.0</td>\n",
       "      <td>['None']</td>\n",
       "      <td>204.0</td>\n",
       "      <td>user</td>\n",
       "      <td>...</td>\n",
       "      <td>1.0</td>\n",
       "      <td>3.33</td>\n",
       "      <td>38.0</td>\n",
       "      <td>['OZWskTOKCWvYejhu63gFmQ', '-bMKjy4pd_0UXa4hWj...</td>\n",
       "      <td>85.0</td>\n",
       "      <td>986.0</td>\n",
       "      <td>Kenneth</td>\n",
       "      <td>12.0</td>\n",
       "      <td>273.0</td>\n",
       "      <td>Xwnf20FKuikiHcSpcEbpKQ</td>\n",
       "    </tr>\n",
       "    <tr>\n",
       "      <th>327020</th>\n",
       "      <td>2011-06-10</td>\n",
       "      <td>1259.0</td>\n",
       "      <td>82.0</td>\n",
       "      <td>1.0</td>\n",
       "      <td>273.0</td>\n",
       "      <td>487.0</td>\n",
       "      <td>6252.0</td>\n",
       "      <td>['None']</td>\n",
       "      <td>204.0</td>\n",
       "      <td>user</td>\n",
       "      <td>...</td>\n",
       "      <td>1.0</td>\n",
       "      <td>3.33</td>\n",
       "      <td>38.0</td>\n",
       "      <td>['OZWskTOKCWvYejhu63gFmQ', '-bMKjy4pd_0UXa4hWj...</td>\n",
       "      <td>85.0</td>\n",
       "      <td>986.0</td>\n",
       "      <td>Kenneth</td>\n",
       "      <td>12.0</td>\n",
       "      <td>273.0</td>\n",
       "      <td>Xwnf20FKuikiHcSpcEbpKQ</td>\n",
       "    </tr>\n",
       "    <tr>\n",
       "      <th>327037</th>\n",
       "      <td>2011-06-10</td>\n",
       "      <td>1259.0</td>\n",
       "      <td>82.0</td>\n",
       "      <td>1.0</td>\n",
       "      <td>273.0</td>\n",
       "      <td>487.0</td>\n",
       "      <td>6252.0</td>\n",
       "      <td>['None']</td>\n",
       "      <td>204.0</td>\n",
       "      <td>user</td>\n",
       "      <td>...</td>\n",
       "      <td>1.0</td>\n",
       "      <td>3.33</td>\n",
       "      <td>38.0</td>\n",
       "      <td>['OZWskTOKCWvYejhu63gFmQ', '-bMKjy4pd_0UXa4hWj...</td>\n",
       "      <td>85.0</td>\n",
       "      <td>986.0</td>\n",
       "      <td>Kenneth</td>\n",
       "      <td>12.0</td>\n",
       "      <td>273.0</td>\n",
       "      <td>Xwnf20FKuikiHcSpcEbpKQ</td>\n",
       "    </tr>\n",
       "    <tr>\n",
       "      <th rowspan=\"3\" valign=\"top\">7125.0</th>\n",
       "      <th>424649</th>\n",
       "      <td>2009-03-08</td>\n",
       "      <td>16936.0</td>\n",
       "      <td>674.0</td>\n",
       "      <td>26.0</td>\n",
       "      <td>1378.0</td>\n",
       "      <td>1763.0</td>\n",
       "      <td>7125.0</td>\n",
       "      <td>['2016', '2017', '2015', '2011', '2010', '2013...</td>\n",
       "      <td>337.0</td>\n",
       "      <td>user</td>\n",
       "      <td>...</td>\n",
       "      <td>10.0</td>\n",
       "      <td>3.53</td>\n",
       "      <td>290.0</td>\n",
       "      <td>['yxkTcHsWMh4uq3kIRowqGw', '7GIcGERUfVvOx_TNYo...</td>\n",
       "      <td>1028.0</td>\n",
       "      <td>14350.0</td>\n",
       "      <td>Bruce</td>\n",
       "      <td>218.0</td>\n",
       "      <td>1378.0</td>\n",
       "      <td>hWDybu_KvYLSdEFzGrniTw</td>\n",
       "    </tr>\n",
       "    <tr>\n",
       "      <th>424650</th>\n",
       "      <td>2009-03-08</td>\n",
       "      <td>16936.0</td>\n",
       "      <td>674.0</td>\n",
       "      <td>26.0</td>\n",
       "      <td>1378.0</td>\n",
       "      <td>1763.0</td>\n",
       "      <td>7125.0</td>\n",
       "      <td>['2016', '2017', '2015', '2011', '2010', '2013...</td>\n",
       "      <td>337.0</td>\n",
       "      <td>user</td>\n",
       "      <td>...</td>\n",
       "      <td>10.0</td>\n",
       "      <td>3.53</td>\n",
       "      <td>290.0</td>\n",
       "      <td>['yxkTcHsWMh4uq3kIRowqGw', '7GIcGERUfVvOx_TNYo...</td>\n",
       "      <td>1028.0</td>\n",
       "      <td>14350.0</td>\n",
       "      <td>Bruce</td>\n",
       "      <td>218.0</td>\n",
       "      <td>1378.0</td>\n",
       "      <td>hWDybu_KvYLSdEFzGrniTw</td>\n",
       "    </tr>\n",
       "    <tr>\n",
       "      <th>424651</th>\n",
       "      <td>2009-03-08</td>\n",
       "      <td>16936.0</td>\n",
       "      <td>674.0</td>\n",
       "      <td>26.0</td>\n",
       "      <td>1378.0</td>\n",
       "      <td>1763.0</td>\n",
       "      <td>7125.0</td>\n",
       "      <td>['2016', '2017', '2015', '2011', '2010', '2013...</td>\n",
       "      <td>337.0</td>\n",
       "      <td>user</td>\n",
       "      <td>...</td>\n",
       "      <td>10.0</td>\n",
       "      <td>3.53</td>\n",
       "      <td>290.0</td>\n",
       "      <td>['yxkTcHsWMh4uq3kIRowqGw', '7GIcGERUfVvOx_TNYo...</td>\n",
       "      <td>1028.0</td>\n",
       "      <td>14350.0</td>\n",
       "      <td>Bruce</td>\n",
       "      <td>218.0</td>\n",
       "      <td>1378.0</td>\n",
       "      <td>hWDybu_KvYLSdEFzGrniTw</td>\n",
       "    </tr>\n",
       "    <tr>\n",
       "      <th>7519.0</th>\n",
       "      <th>90400</th>\n",
       "      <td>2009-11-06</td>\n",
       "      <td>51.0</td>\n",
       "      <td>76.0</td>\n",
       "      <td>14.0</td>\n",
       "      <td>94.0</td>\n",
       "      <td>209.0</td>\n",
       "      <td>7519.0</td>\n",
       "      <td>['2011', '2010', '2012']</td>\n",
       "      <td>243.0</td>\n",
       "      <td>user</td>\n",
       "      <td>...</td>\n",
       "      <td>4.0</td>\n",
       "      <td>3.48</td>\n",
       "      <td>23.0</td>\n",
       "      <td>['NQcerFt8bdU3mu7QtxPUuw', 'IxB8uybfnHxuALjnAr...</td>\n",
       "      <td>35.0</td>\n",
       "      <td>43.0</td>\n",
       "      <td>Dan</td>\n",
       "      <td>6.0</td>\n",
       "      <td>94.0</td>\n",
       "      <td>8RcEwGrFIgkt9WQ35E6SnQ</td>\n",
       "    </tr>\n",
       "    <tr>\n",
       "      <th rowspan=\"5\" valign=\"top\">10421.0</th>\n",
       "      <th>270631</th>\n",
       "      <td>2010-10-17</td>\n",
       "      <td>129.0</td>\n",
       "      <td>8.0</td>\n",
       "      <td>7.0</td>\n",
       "      <td>134.0</td>\n",
       "      <td>151.0</td>\n",
       "      <td>10421.0</td>\n",
       "      <td>['2017', '2015', '2014', '2013', '2016', '2012']</td>\n",
       "      <td>181.0</td>\n",
       "      <td>user</td>\n",
       "      <td>...</td>\n",
       "      <td>5.0</td>\n",
       "      <td>3.78</td>\n",
       "      <td>17.0</td>\n",
       "      <td>['n67JfY737xAwb-QDTbkEVQ', 'KJzcEnVN0L1YmSHP1a...</td>\n",
       "      <td>82.0</td>\n",
       "      <td>1.0</td>\n",
       "      <td>Shila</td>\n",
       "      <td>3.0</td>\n",
       "      <td>134.0</td>\n",
       "      <td>RtGqdDBvvBCjcu5dUqwfzA</td>\n",
       "    </tr>\n",
       "    <tr>\n",
       "      <th>270632</th>\n",
       "      <td>2010-10-17</td>\n",
       "      <td>129.0</td>\n",
       "      <td>8.0</td>\n",
       "      <td>7.0</td>\n",
       "      <td>134.0</td>\n",
       "      <td>151.0</td>\n",
       "      <td>10421.0</td>\n",
       "      <td>['2017', '2015', '2014', '2013', '2016', '2012']</td>\n",
       "      <td>181.0</td>\n",
       "      <td>user</td>\n",
       "      <td>...</td>\n",
       "      <td>5.0</td>\n",
       "      <td>3.78</td>\n",
       "      <td>17.0</td>\n",
       "      <td>['n67JfY737xAwb-QDTbkEVQ', 'KJzcEnVN0L1YmSHP1a...</td>\n",
       "      <td>82.0</td>\n",
       "      <td>1.0</td>\n",
       "      <td>Shila</td>\n",
       "      <td>3.0</td>\n",
       "      <td>134.0</td>\n",
       "      <td>RtGqdDBvvBCjcu5dUqwfzA</td>\n",
       "    </tr>\n",
       "    <tr>\n",
       "      <th>270633</th>\n",
       "      <td>2010-10-17</td>\n",
       "      <td>129.0</td>\n",
       "      <td>8.0</td>\n",
       "      <td>7.0</td>\n",
       "      <td>134.0</td>\n",
       "      <td>151.0</td>\n",
       "      <td>10421.0</td>\n",
       "      <td>['2017', '2015', '2014', '2013', '2016', '2012']</td>\n",
       "      <td>181.0</td>\n",
       "      <td>user</td>\n",
       "      <td>...</td>\n",
       "      <td>5.0</td>\n",
       "      <td>3.78</td>\n",
       "      <td>17.0</td>\n",
       "      <td>['n67JfY737xAwb-QDTbkEVQ', 'KJzcEnVN0L1YmSHP1a...</td>\n",
       "      <td>82.0</td>\n",
       "      <td>1.0</td>\n",
       "      <td>Shila</td>\n",
       "      <td>3.0</td>\n",
       "      <td>134.0</td>\n",
       "      <td>RtGqdDBvvBCjcu5dUqwfzA</td>\n",
       "    </tr>\n",
       "    <tr>\n",
       "      <th>270634</th>\n",
       "      <td>2010-10-17</td>\n",
       "      <td>129.0</td>\n",
       "      <td>8.0</td>\n",
       "      <td>7.0</td>\n",
       "      <td>134.0</td>\n",
       "      <td>151.0</td>\n",
       "      <td>10421.0</td>\n",
       "      <td>['2017', '2015', '2014', '2013', '2016', '2012']</td>\n",
       "      <td>181.0</td>\n",
       "      <td>user</td>\n",
       "      <td>...</td>\n",
       "      <td>5.0</td>\n",
       "      <td>3.78</td>\n",
       "      <td>17.0</td>\n",
       "      <td>['n67JfY737xAwb-QDTbkEVQ', 'KJzcEnVN0L1YmSHP1a...</td>\n",
       "      <td>82.0</td>\n",
       "      <td>1.0</td>\n",
       "      <td>Shila</td>\n",
       "      <td>3.0</td>\n",
       "      <td>134.0</td>\n",
       "      <td>RtGqdDBvvBCjcu5dUqwfzA</td>\n",
       "    </tr>\n",
       "    <tr>\n",
       "      <th>270635</th>\n",
       "      <td>2010-10-17</td>\n",
       "      <td>129.0</td>\n",
       "      <td>8.0</td>\n",
       "      <td>7.0</td>\n",
       "      <td>134.0</td>\n",
       "      <td>151.0</td>\n",
       "      <td>10421.0</td>\n",
       "      <td>['2017', '2015', '2014', '2013', '2016', '2012']</td>\n",
       "      <td>181.0</td>\n",
       "      <td>user</td>\n",
       "      <td>...</td>\n",
       "      <td>5.0</td>\n",
       "      <td>3.78</td>\n",
       "      <td>17.0</td>\n",
       "      <td>['n67JfY737xAwb-QDTbkEVQ', 'KJzcEnVN0L1YmSHP1a...</td>\n",
       "      <td>82.0</td>\n",
       "      <td>1.0</td>\n",
       "      <td>Shila</td>\n",
       "      <td>3.0</td>\n",
       "      <td>134.0</td>\n",
       "      <td>RtGqdDBvvBCjcu5dUqwfzA</td>\n",
       "    </tr>\n",
       "  </tbody>\n",
       "</table>\n",
       "<p>76834 rows × 23 columns</p>\n",
       "</div>"
      ],
      "text/plain": [
       "                    yelping_since   useful  compliment_photos  \\\n",
       "review_count                                                    \n",
       "61.0         423       2009-05-21      0.0                0.0   \n",
       "             3547      2010-12-18      3.0                0.0   \n",
       "             3548      2010-12-18      3.0                0.0   \n",
       "             5206      2015-04-14      9.0                0.0   \n",
       "             5650      2010-07-08     14.0                1.0   \n",
       "             5858      2010-07-16     15.0                0.0   \n",
       "             5859      2010-07-16     15.0                0.0   \n",
       "             5860      2010-07-16     15.0                0.0   \n",
       "             6131      2008-05-13      6.0                0.0   \n",
       "             6212      2009-06-14      1.0                0.0   \n",
       "             6213      2009-06-14      1.0                0.0   \n",
       "             6778      2010-12-24    141.0                0.0   \n",
       "             6779      2010-12-24    141.0                0.0   \n",
       "             9085      2010-08-04     12.0                1.0   \n",
       "             9226      2013-01-02     18.0                0.0   \n",
       "             9227      2013-01-02     18.0                0.0   \n",
       "             9228      2013-01-02     18.0                0.0   \n",
       "             9229      2013-01-02     18.0                0.0   \n",
       "             9230      2013-01-02     18.0                0.0   \n",
       "             9620      2008-05-15     19.0                0.0   \n",
       "             9621      2008-05-15     19.0                0.0   \n",
       "             9622      2008-05-15     19.0                0.0   \n",
       "             9623      2008-05-15     19.0                0.0   \n",
       "             9624      2008-05-15     19.0                0.0   \n",
       "             9625      2008-05-15     19.0                0.0   \n",
       "             9626      2008-05-15     19.0                0.0   \n",
       "             9627      2008-05-15     19.0                0.0   \n",
       "             9628      2008-05-15     19.0                0.0   \n",
       "             10046     2012-12-31    102.0                1.0   \n",
       "             10792     2009-07-13      1.0                0.0   \n",
       "...                           ...      ...                ...   \n",
       "5262.0       483492    2011-11-29     39.0              218.0   \n",
       "6252.0       327018    2011-06-10   1259.0               82.0   \n",
       "             327019    2011-06-10   1259.0               82.0   \n",
       "             327036    2011-06-10   1259.0               82.0   \n",
       "             327035    2011-06-10   1259.0               82.0   \n",
       "             327034    2011-06-10   1259.0               82.0   \n",
       "             327033    2011-06-10   1259.0               82.0   \n",
       "             327032    2011-06-10   1259.0               82.0   \n",
       "             327031    2011-06-10   1259.0               82.0   \n",
       "             327030    2011-06-10   1259.0               82.0   \n",
       "             327029    2011-06-10   1259.0               82.0   \n",
       "             327028    2011-06-10   1259.0               82.0   \n",
       "             327027    2011-06-10   1259.0               82.0   \n",
       "             327026    2011-06-10   1259.0               82.0   \n",
       "             327025    2011-06-10   1259.0               82.0   \n",
       "             327024    2011-06-10   1259.0               82.0   \n",
       "             327023    2011-06-10   1259.0               82.0   \n",
       "             327022    2011-06-10   1259.0               82.0   \n",
       "             327021    2011-06-10   1259.0               82.0   \n",
       "             327020    2011-06-10   1259.0               82.0   \n",
       "             327037    2011-06-10   1259.0               82.0   \n",
       "7125.0       424649    2009-03-08  16936.0              674.0   \n",
       "             424650    2009-03-08  16936.0              674.0   \n",
       "             424651    2009-03-08  16936.0              674.0   \n",
       "7519.0       90400     2009-11-06     51.0               76.0   \n",
       "10421.0      270631    2010-10-17    129.0                8.0   \n",
       "             270632    2010-10-17    129.0                8.0   \n",
       "             270633    2010-10-17    129.0                8.0   \n",
       "             270634    2010-10-17    129.0                8.0   \n",
       "             270635    2010-10-17    129.0                8.0   \n",
       "\n",
       "                     compliment_list  compliment_funny  compliment_plain  \\\n",
       "review_count                                                               \n",
       "61.0         423                 0.0               1.0               2.0   \n",
       "             3547                0.0               3.0               0.0   \n",
       "             3548                0.0               3.0               0.0   \n",
       "             5206                0.0               0.0               0.0   \n",
       "             5650                0.0               4.0               0.0   \n",
       "             5858                0.0               0.0               8.0   \n",
       "             5859                0.0               0.0               8.0   \n",
       "             5860                0.0               0.0               8.0   \n",
       "             6131                0.0               1.0               1.0   \n",
       "             6212                0.0               0.0               0.0   \n",
       "             6213                0.0               0.0               0.0   \n",
       "             6778                0.0               0.0               2.0   \n",
       "             6779                0.0               0.0               2.0   \n",
       "             9085                0.0               6.0               8.0   \n",
       "             9226                0.0               0.0               1.0   \n",
       "             9227                0.0               0.0               1.0   \n",
       "             9228                0.0               0.0               1.0   \n",
       "             9229                0.0               0.0               1.0   \n",
       "             9230                0.0               0.0               1.0   \n",
       "             9620                0.0               7.0              12.0   \n",
       "             9621                0.0               7.0              12.0   \n",
       "             9622                0.0               7.0              12.0   \n",
       "             9623                0.0               7.0              12.0   \n",
       "             9624                0.0               7.0              12.0   \n",
       "             9625                0.0               7.0              12.0   \n",
       "             9626                0.0               7.0              12.0   \n",
       "             9627                0.0               7.0              12.0   \n",
       "             9628                0.0               7.0              12.0   \n",
       "             10046               0.0               4.0               5.0   \n",
       "             10792               0.0               0.0               0.0   \n",
       "...                              ...               ...               ...   \n",
       "5262.0       483492              5.0             423.0             591.0   \n",
       "6252.0       327018              1.0             273.0             487.0   \n",
       "             327019              1.0             273.0             487.0   \n",
       "             327036              1.0             273.0             487.0   \n",
       "             327035              1.0             273.0             487.0   \n",
       "             327034              1.0             273.0             487.0   \n",
       "             327033              1.0             273.0             487.0   \n",
       "             327032              1.0             273.0             487.0   \n",
       "             327031              1.0             273.0             487.0   \n",
       "             327030              1.0             273.0             487.0   \n",
       "             327029              1.0             273.0             487.0   \n",
       "             327028              1.0             273.0             487.0   \n",
       "             327027              1.0             273.0             487.0   \n",
       "             327026              1.0             273.0             487.0   \n",
       "             327025              1.0             273.0             487.0   \n",
       "             327024              1.0             273.0             487.0   \n",
       "             327023              1.0             273.0             487.0   \n",
       "             327022              1.0             273.0             487.0   \n",
       "             327021              1.0             273.0             487.0   \n",
       "             327020              1.0             273.0             487.0   \n",
       "             327037              1.0             273.0             487.0   \n",
       "7125.0       424649             26.0            1378.0            1763.0   \n",
       "             424650             26.0            1378.0            1763.0   \n",
       "             424651             26.0            1378.0            1763.0   \n",
       "7519.0       90400              14.0              94.0             209.0   \n",
       "10421.0      270631              7.0             134.0             151.0   \n",
       "             270632              7.0             134.0             151.0   \n",
       "             270633              7.0             134.0             151.0   \n",
       "             270634              7.0             134.0             151.0   \n",
       "             270635              7.0             134.0             151.0   \n",
       "\n",
       "                     review_count  \\\n",
       "review_count                        \n",
       "61.0         423             61.0   \n",
       "             3547            61.0   \n",
       "             3548            61.0   \n",
       "             5206            61.0   \n",
       "             5650            61.0   \n",
       "             5858            61.0   \n",
       "             5859            61.0   \n",
       "             5860            61.0   \n",
       "             6131            61.0   \n",
       "             6212            61.0   \n",
       "             6213            61.0   \n",
       "             6778            61.0   \n",
       "             6779            61.0   \n",
       "             9085            61.0   \n",
       "             9226            61.0   \n",
       "             9227            61.0   \n",
       "             9228            61.0   \n",
       "             9229            61.0   \n",
       "             9230            61.0   \n",
       "             9620            61.0   \n",
       "             9621            61.0   \n",
       "             9622            61.0   \n",
       "             9623            61.0   \n",
       "             9624            61.0   \n",
       "             9625            61.0   \n",
       "             9626            61.0   \n",
       "             9627            61.0   \n",
       "             9628            61.0   \n",
       "             10046           61.0   \n",
       "             10792           61.0   \n",
       "...                           ...   \n",
       "5262.0       483492        5262.0   \n",
       "6252.0       327018        6252.0   \n",
       "             327019        6252.0   \n",
       "             327036        6252.0   \n",
       "             327035        6252.0   \n",
       "             327034        6252.0   \n",
       "             327033        6252.0   \n",
       "             327032        6252.0   \n",
       "             327031        6252.0   \n",
       "             327030        6252.0   \n",
       "             327029        6252.0   \n",
       "             327028        6252.0   \n",
       "             327027        6252.0   \n",
       "             327026        6252.0   \n",
       "             327025        6252.0   \n",
       "             327024        6252.0   \n",
       "             327023        6252.0   \n",
       "             327022        6252.0   \n",
       "             327021        6252.0   \n",
       "             327020        6252.0   \n",
       "             327037        6252.0   \n",
       "7125.0       424649        7125.0   \n",
       "             424650        7125.0   \n",
       "             424651        7125.0   \n",
       "7519.0       90400         7519.0   \n",
       "10421.0      270631       10421.0   \n",
       "             270632       10421.0   \n",
       "             270633       10421.0   \n",
       "             270634       10421.0   \n",
       "             270635       10421.0   \n",
       "\n",
       "                                                                 elite   fans  \\\n",
       "review_count                                                                    \n",
       "61.0         423                                              ['None']    3.0   \n",
       "             3547                                             ['None']    0.0   \n",
       "             3548                                             ['None']    0.0   \n",
       "             5206                                             ['None']    2.0   \n",
       "             5650                                             ['None']    0.0   \n",
       "             5858                                             ['None']    3.0   \n",
       "             5859                                             ['None']    3.0   \n",
       "             5860                                             ['None']    3.0   \n",
       "             6131                                             ['None']    1.0   \n",
       "             6212                                             ['None']    0.0   \n",
       "             6213                                             ['None']    0.0   \n",
       "             6778                                             ['None']    1.0   \n",
       "             6779                                             ['None']    1.0   \n",
       "             9085                                     ['2016', '2015']   11.0   \n",
       "             9226                                             ['None']    0.0   \n",
       "             9227                                             ['None']    0.0   \n",
       "             9228                                             ['None']    0.0   \n",
       "             9229                                             ['None']    0.0   \n",
       "             9230                                             ['None']    0.0   \n",
       "             9620                                             ['2008']    2.0   \n",
       "             9621                                             ['2008']    2.0   \n",
       "             9622                                             ['2008']    2.0   \n",
       "             9623                                             ['2008']    2.0   \n",
       "             9624                                             ['2008']    2.0   \n",
       "             9625                                             ['2008']    2.0   \n",
       "             9626                                             ['2008']    2.0   \n",
       "             9627                                             ['2008']    2.0   \n",
       "             9628                                             ['2008']    2.0   \n",
       "             10046                                            ['None']    4.0   \n",
       "             10792                                            ['None']    1.0   \n",
       "...                                                                ...    ...   \n",
       "5262.0       483492   ['2015', '2016', '2017', '2014', '2012', '2013']  422.0   \n",
       "6252.0       327018                                           ['None']  204.0   \n",
       "             327019                                           ['None']  204.0   \n",
       "             327036                                           ['None']  204.0   \n",
       "             327035                                           ['None']  204.0   \n",
       "             327034                                           ['None']  204.0   \n",
       "             327033                                           ['None']  204.0   \n",
       "             327032                                           ['None']  204.0   \n",
       "             327031                                           ['None']  204.0   \n",
       "             327030                                           ['None']  204.0   \n",
       "             327029                                           ['None']  204.0   \n",
       "             327028                                           ['None']  204.0   \n",
       "             327027                                           ['None']  204.0   \n",
       "             327026                                           ['None']  204.0   \n",
       "             327025                                           ['None']  204.0   \n",
       "             327024                                           ['None']  204.0   \n",
       "             327023                                           ['None']  204.0   \n",
       "             327022                                           ['None']  204.0   \n",
       "             327021                                           ['None']  204.0   \n",
       "             327020                                           ['None']  204.0   \n",
       "             327037                                           ['None']  204.0   \n",
       "7125.0       424649  ['2016', '2017', '2015', '2011', '2010', '2013...  337.0   \n",
       "             424650  ['2016', '2017', '2015', '2011', '2010', '2013...  337.0   \n",
       "             424651  ['2016', '2017', '2015', '2011', '2010', '2013...  337.0   \n",
       "7519.0       90400                            ['2011', '2010', '2012']  243.0   \n",
       "10421.0      270631   ['2017', '2015', '2014', '2013', '2016', '2012']  181.0   \n",
       "             270632   ['2017', '2015', '2014', '2013', '2016', '2012']  181.0   \n",
       "             270633   ['2017', '2015', '2014', '2013', '2016', '2012']  181.0   \n",
       "             270634   ['2017', '2015', '2014', '2013', '2016', '2012']  181.0   \n",
       "             270635   ['2017', '2015', '2014', '2013', '2016', '2012']  181.0   \n",
       "\n",
       "                     type           ...            compliment_cute  \\\n",
       "review_count                        ...                              \n",
       "61.0         423     user           ...                        0.0   \n",
       "             3547    user           ...                        0.0   \n",
       "             3548    user           ...                        0.0   \n",
       "             5206    user           ...                        0.0   \n",
       "             5650    user           ...                        1.0   \n",
       "             5858    user           ...                        0.0   \n",
       "             5859    user           ...                        0.0   \n",
       "             5860    user           ...                        0.0   \n",
       "             6131    user           ...                        0.0   \n",
       "             6212    user           ...                        0.0   \n",
       "             6213    user           ...                        0.0   \n",
       "             6778    user           ...                        0.0   \n",
       "             6779    user           ...                        0.0   \n",
       "             9085    user           ...                        1.0   \n",
       "             9226    user           ...                        0.0   \n",
       "             9227    user           ...                        0.0   \n",
       "             9228    user           ...                        0.0   \n",
       "             9229    user           ...                        0.0   \n",
       "             9230    user           ...                        0.0   \n",
       "             9620    user           ...                        0.0   \n",
       "             9621    user           ...                        0.0   \n",
       "             9622    user           ...                        0.0   \n",
       "             9623    user           ...                        0.0   \n",
       "             9624    user           ...                        0.0   \n",
       "             9625    user           ...                        0.0   \n",
       "             9626    user           ...                        0.0   \n",
       "             9627    user           ...                        0.0   \n",
       "             9628    user           ...                        0.0   \n",
       "             10046   user           ...                        0.0   \n",
       "             10792   user           ...                        0.0   \n",
       "...                   ...           ...                        ...   \n",
       "5262.0       483492  user           ...                       11.0   \n",
       "6252.0       327018  user           ...                        1.0   \n",
       "             327019  user           ...                        1.0   \n",
       "             327036  user           ...                        1.0   \n",
       "             327035  user           ...                        1.0   \n",
       "             327034  user           ...                        1.0   \n",
       "             327033  user           ...                        1.0   \n",
       "             327032  user           ...                        1.0   \n",
       "             327031  user           ...                        1.0   \n",
       "             327030  user           ...                        1.0   \n",
       "             327029  user           ...                        1.0   \n",
       "             327028  user           ...                        1.0   \n",
       "             327027  user           ...                        1.0   \n",
       "             327026  user           ...                        1.0   \n",
       "             327025  user           ...                        1.0   \n",
       "             327024  user           ...                        1.0   \n",
       "             327023  user           ...                        1.0   \n",
       "             327022  user           ...                        1.0   \n",
       "             327021  user           ...                        1.0   \n",
       "             327020  user           ...                        1.0   \n",
       "             327037  user           ...                        1.0   \n",
       "7125.0       424649  user           ...                       10.0   \n",
       "             424650  user           ...                       10.0   \n",
       "             424651  user           ...                       10.0   \n",
       "7519.0       90400   user           ...                        4.0   \n",
       "10421.0      270631  user           ...                        5.0   \n",
       "             270632  user           ...                        5.0   \n",
       "             270633  user           ...                        5.0   \n",
       "             270634  user           ...                        5.0   \n",
       "             270635  user           ...                        5.0   \n",
       "\n",
       "                     average_stars  compliment_more  \\\n",
       "review_count                                          \n",
       "61.0         423              3.44              0.0   \n",
       "             3547             3.90              1.0   \n",
       "             3548             3.90              1.0   \n",
       "             5206             4.20              0.0   \n",
       "             5650             3.83              0.0   \n",
       "             5858             3.90              1.0   \n",
       "             5859             3.90              1.0   \n",
       "             5860             3.90              1.0   \n",
       "             6131             3.70              1.0   \n",
       "             6212             3.57              0.0   \n",
       "             6213             3.57              0.0   \n",
       "             6778             3.80              0.0   \n",
       "             6779             3.80              0.0   \n",
       "             9085             3.65              2.0   \n",
       "             9226             3.93              0.0   \n",
       "             9227             3.93              0.0   \n",
       "             9228             3.93              0.0   \n",
       "             9229             3.93              0.0   \n",
       "             9230             3.93              0.0   \n",
       "             9620             3.62              2.0   \n",
       "             9621             3.62              2.0   \n",
       "             9622             3.62              2.0   \n",
       "             9623             3.62              2.0   \n",
       "             9624             3.62              2.0   \n",
       "             9625             3.62              2.0   \n",
       "             9626             3.62              2.0   \n",
       "             9627             3.62              2.0   \n",
       "             9628             3.62              2.0   \n",
       "             10046            3.97              2.0   \n",
       "             10792            3.74              0.0   \n",
       "...                            ...              ...   \n",
       "5262.0       483492           3.69             38.0   \n",
       "6252.0       327018           3.33             38.0   \n",
       "             327019           3.33             38.0   \n",
       "             327036           3.33             38.0   \n",
       "             327035           3.33             38.0   \n",
       "             327034           3.33             38.0   \n",
       "             327033           3.33             38.0   \n",
       "             327032           3.33             38.0   \n",
       "             327031           3.33             38.0   \n",
       "             327030           3.33             38.0   \n",
       "             327029           3.33             38.0   \n",
       "             327028           3.33             38.0   \n",
       "             327027           3.33             38.0   \n",
       "             327026           3.33             38.0   \n",
       "             327025           3.33             38.0   \n",
       "             327024           3.33             38.0   \n",
       "             327023           3.33             38.0   \n",
       "             327022           3.33             38.0   \n",
       "             327021           3.33             38.0   \n",
       "             327020           3.33             38.0   \n",
       "             327037           3.33             38.0   \n",
       "7125.0       424649           3.53            290.0   \n",
       "             424650           3.53            290.0   \n",
       "             424651           3.53            290.0   \n",
       "7519.0       90400            3.48             23.0   \n",
       "10421.0      270631           3.78             17.0   \n",
       "             270632           3.78             17.0   \n",
       "             270633           3.78             17.0   \n",
       "             270634           3.78             17.0   \n",
       "             270635           3.78             17.0   \n",
       "\n",
       "                                                               friends  \\\n",
       "review_count                                                             \n",
       "61.0         423                                              ['None']   \n",
       "             3547    ['AEnndtDba_Tv3g-Zr-tD-Q', '6RQFxlQO7Z72AHCL8V...   \n",
       "             3548    ['AEnndtDba_Tv3g-Zr-tD-Q', '6RQFxlQO7Z72AHCL8V...   \n",
       "             5206    ['sldX0fN5mI75m0cmtJQqfw', 'NyMKhx2YeNFoKGMfQ5...   \n",
       "             5650    ['xXQCpHj0KU_dORHjS4SqaQ', 'IvewXE4fMBDmZLsjS7...   \n",
       "             5858    ['caqIoGKnIZ1B78Eb4n9VCA', 'sIz02nAyQIrDtFavxZ...   \n",
       "             5859    ['caqIoGKnIZ1B78Eb4n9VCA', 'sIz02nAyQIrDtFavxZ...   \n",
       "             5860    ['caqIoGKnIZ1B78Eb4n9VCA', 'sIz02nAyQIrDtFavxZ...   \n",
       "             6131    ['_fNUV_9GCORkArJFCbhpnQ', 'AKdToemwRgmCru6njp...   \n",
       "             6212                           ['E9MHnnebm8Rth5NDQmbm8w']   \n",
       "             6213                           ['E9MHnnebm8Rth5NDQmbm8w']   \n",
       "             6778    ['Y3onDxEJnLKM-lsGs4XUiA', 'TkRzqqTQu-T1n7AUvw...   \n",
       "             6779    ['Y3onDxEJnLKM-lsGs4XUiA', 'TkRzqqTQu-T1n7AUvw...   \n",
       "             9085    ['pJfhhlBzsKdYiwQg_njfcQ', 'vSwsVxqXxgokApNM68...   \n",
       "             9226                                             ['None']   \n",
       "             9227                                             ['None']   \n",
       "             9228                                             ['None']   \n",
       "             9229                                             ['None']   \n",
       "             9230                                             ['None']   \n",
       "             9620    ['LJ8U5ZVnFpF8XNUR7DcUng', 'l1zPZ0XtTESfcQ24v-...   \n",
       "             9621    ['LJ8U5ZVnFpF8XNUR7DcUng', 'l1zPZ0XtTESfcQ24v-...   \n",
       "             9622    ['LJ8U5ZVnFpF8XNUR7DcUng', 'l1zPZ0XtTESfcQ24v-...   \n",
       "             9623    ['LJ8U5ZVnFpF8XNUR7DcUng', 'l1zPZ0XtTESfcQ24v-...   \n",
       "             9624    ['LJ8U5ZVnFpF8XNUR7DcUng', 'l1zPZ0XtTESfcQ24v-...   \n",
       "             9625    ['LJ8U5ZVnFpF8XNUR7DcUng', 'l1zPZ0XtTESfcQ24v-...   \n",
       "             9626    ['LJ8U5ZVnFpF8XNUR7DcUng', 'l1zPZ0XtTESfcQ24v-...   \n",
       "             9627    ['LJ8U5ZVnFpF8XNUR7DcUng', 'l1zPZ0XtTESfcQ24v-...   \n",
       "             9628    ['LJ8U5ZVnFpF8XNUR7DcUng', 'l1zPZ0XtTESfcQ24v-...   \n",
       "             10046   ['bdVUDpPdMwGUx6KZGRxAyw', 'j2fkIGhjg8_hDaE_-_...   \n",
       "             10792   ['IZgFJhJFFmkfFBrilsbgFA', 'CWA8l54d2XPH1IA0sp...   \n",
       "...                                                                ...   \n",
       "5262.0       483492  ['dvqgxx4hFcfraHvhddzOXA', 'J1dmjRPITOoYSIsxu1...   \n",
       "6252.0       327018  ['OZWskTOKCWvYejhu63gFmQ', '-bMKjy4pd_0UXa4hWj...   \n",
       "             327019  ['OZWskTOKCWvYejhu63gFmQ', '-bMKjy4pd_0UXa4hWj...   \n",
       "             327036  ['OZWskTOKCWvYejhu63gFmQ', '-bMKjy4pd_0UXa4hWj...   \n",
       "             327035  ['OZWskTOKCWvYejhu63gFmQ', '-bMKjy4pd_0UXa4hWj...   \n",
       "             327034  ['OZWskTOKCWvYejhu63gFmQ', '-bMKjy4pd_0UXa4hWj...   \n",
       "             327033  ['OZWskTOKCWvYejhu63gFmQ', '-bMKjy4pd_0UXa4hWj...   \n",
       "             327032  ['OZWskTOKCWvYejhu63gFmQ', '-bMKjy4pd_0UXa4hWj...   \n",
       "             327031  ['OZWskTOKCWvYejhu63gFmQ', '-bMKjy4pd_0UXa4hWj...   \n",
       "             327030  ['OZWskTOKCWvYejhu63gFmQ', '-bMKjy4pd_0UXa4hWj...   \n",
       "             327029  ['OZWskTOKCWvYejhu63gFmQ', '-bMKjy4pd_0UXa4hWj...   \n",
       "             327028  ['OZWskTOKCWvYejhu63gFmQ', '-bMKjy4pd_0UXa4hWj...   \n",
       "             327027  ['OZWskTOKCWvYejhu63gFmQ', '-bMKjy4pd_0UXa4hWj...   \n",
       "             327026  ['OZWskTOKCWvYejhu63gFmQ', '-bMKjy4pd_0UXa4hWj...   \n",
       "             327025  ['OZWskTOKCWvYejhu63gFmQ', '-bMKjy4pd_0UXa4hWj...   \n",
       "             327024  ['OZWskTOKCWvYejhu63gFmQ', '-bMKjy4pd_0UXa4hWj...   \n",
       "             327023  ['OZWskTOKCWvYejhu63gFmQ', '-bMKjy4pd_0UXa4hWj...   \n",
       "             327022  ['OZWskTOKCWvYejhu63gFmQ', '-bMKjy4pd_0UXa4hWj...   \n",
       "             327021  ['OZWskTOKCWvYejhu63gFmQ', '-bMKjy4pd_0UXa4hWj...   \n",
       "             327020  ['OZWskTOKCWvYejhu63gFmQ', '-bMKjy4pd_0UXa4hWj...   \n",
       "             327037  ['OZWskTOKCWvYejhu63gFmQ', '-bMKjy4pd_0UXa4hWj...   \n",
       "7125.0       424649  ['yxkTcHsWMh4uq3kIRowqGw', '7GIcGERUfVvOx_TNYo...   \n",
       "             424650  ['yxkTcHsWMh4uq3kIRowqGw', '7GIcGERUfVvOx_TNYo...   \n",
       "             424651  ['yxkTcHsWMh4uq3kIRowqGw', '7GIcGERUfVvOx_TNYo...   \n",
       "7519.0       90400   ['NQcerFt8bdU3mu7QtxPUuw', 'IxB8uybfnHxuALjnAr...   \n",
       "10421.0      270631  ['n67JfY737xAwb-QDTbkEVQ', 'KJzcEnVN0L1YmSHP1a...   \n",
       "             270632  ['n67JfY737xAwb-QDTbkEVQ', 'KJzcEnVN0L1YmSHP1a...   \n",
       "             270633  ['n67JfY737xAwb-QDTbkEVQ', 'KJzcEnVN0L1YmSHP1a...   \n",
       "             270634  ['n67JfY737xAwb-QDTbkEVQ', 'KJzcEnVN0L1YmSHP1a...   \n",
       "             270635  ['n67JfY737xAwb-QDTbkEVQ', 'KJzcEnVN0L1YmSHP1a...   \n",
       "\n",
       "                     compliment_hot     cool      name  compliment_profile  \\\n",
       "review_count                                                                 \n",
       "61.0         423                0.0      0.0         J                 0.0   \n",
       "             3547               0.0      1.0  Courtney                 0.0   \n",
       "             3548               0.0      1.0  Courtney                 0.0   \n",
       "             5206               0.0      1.0     Amber                 0.0   \n",
       "             5650               1.0      7.0     Nikko                 1.0   \n",
       "             5858               0.0      4.0    Rachel                 0.0   \n",
       "             5859               0.0      4.0    Rachel                 0.0   \n",
       "             5860               0.0      4.0    Rachel                 0.0   \n",
       "             6131               0.0      0.0    Daniel                 0.0   \n",
       "             6212               0.0      0.0      Alex                 0.0   \n",
       "             6213               0.0      0.0      Alex                 0.0   \n",
       "             6778               3.0     19.0    Blancs                 0.0   \n",
       "             6779               3.0     19.0    Blancs                 0.0   \n",
       "             9085               4.0      2.0      Ally                 1.0   \n",
       "             9226               0.0      0.0       Ava                 0.0   \n",
       "             9227               0.0      0.0       Ava                 0.0   \n",
       "             9228               0.0      0.0       Ava                 0.0   \n",
       "             9229               0.0      0.0       Ava                 0.0   \n",
       "             9230               0.0      0.0       Ava                 0.0   \n",
       "             9620               2.0     18.0      Phil                 0.0   \n",
       "             9621               2.0     18.0      Phil                 0.0   \n",
       "             9622               2.0     18.0      Phil                 0.0   \n",
       "             9623               2.0     18.0      Phil                 0.0   \n",
       "             9624               2.0     18.0      Phil                 0.0   \n",
       "             9625               2.0     18.0      Phil                 0.0   \n",
       "             9626               2.0     18.0      Phil                 0.0   \n",
       "             9627               2.0     18.0      Phil                 0.0   \n",
       "             9628               2.0     18.0      Phil                 0.0   \n",
       "             10046              6.0      6.0   Chelsea                 0.0   \n",
       "             10792              0.0      1.0     Chuck                 0.0   \n",
       "...                             ...      ...       ...                 ...   \n",
       "5262.0       483492           207.0     57.0    Nijole                15.0   \n",
       "6252.0       327018            85.0    986.0   Kenneth                12.0   \n",
       "             327019            85.0    986.0   Kenneth                12.0   \n",
       "             327036            85.0    986.0   Kenneth                12.0   \n",
       "             327035            85.0    986.0   Kenneth                12.0   \n",
       "             327034            85.0    986.0   Kenneth                12.0   \n",
       "             327033            85.0    986.0   Kenneth                12.0   \n",
       "             327032            85.0    986.0   Kenneth                12.0   \n",
       "             327031            85.0    986.0   Kenneth                12.0   \n",
       "             327030            85.0    986.0   Kenneth                12.0   \n",
       "             327029            85.0    986.0   Kenneth                12.0   \n",
       "             327028            85.0    986.0   Kenneth                12.0   \n",
       "             327027            85.0    986.0   Kenneth                12.0   \n",
       "             327026            85.0    986.0   Kenneth                12.0   \n",
       "             327025            85.0    986.0   Kenneth                12.0   \n",
       "             327024            85.0    986.0   Kenneth                12.0   \n",
       "             327023            85.0    986.0   Kenneth                12.0   \n",
       "             327022            85.0    986.0   Kenneth                12.0   \n",
       "             327021            85.0    986.0   Kenneth                12.0   \n",
       "             327020            85.0    986.0   Kenneth                12.0   \n",
       "             327037            85.0    986.0   Kenneth                12.0   \n",
       "7125.0       424649          1028.0  14350.0     Bruce               218.0   \n",
       "             424650          1028.0  14350.0     Bruce               218.0   \n",
       "             424651          1028.0  14350.0     Bruce               218.0   \n",
       "7519.0       90400             35.0     43.0       Dan                 6.0   \n",
       "10421.0      270631            82.0      1.0     Shila                 3.0   \n",
       "             270632            82.0      1.0     Shila                 3.0   \n",
       "             270633            82.0      1.0     Shila                 3.0   \n",
       "             270634            82.0      1.0     Shila                 3.0   \n",
       "             270635            82.0      1.0     Shila                 3.0   \n",
       "\n",
       "                     compliment_cool                 user_id  \n",
       "review_count                                                  \n",
       "61.0         423                 1.0  -1_hWlxJbX-H-GbCJ0mgsQ  \n",
       "             3547                3.0  -L03Teab7mRU9J_LOUQU-Q  \n",
       "             3548                3.0  -L03Teab7mRU9J_LOUQU-Q  \n",
       "             5206                0.0  -Vr6sL26rO6ezzay88pl9g  \n",
       "             5650                4.0  -YuDSc96TRIdICTEbEqzkg  \n",
       "             5858                0.0  -_1K-ghWL1mhwgqHGR6WpQ  \n",
       "             5859                0.0  -_1K-ghWL1mhwgqHGR6WpQ  \n",
       "             5860                0.0  -_1K-ghWL1mhwgqHGR6WpQ  \n",
       "             6131                1.0  -bI0jFX6lEXfy8rj9cOU2A  \n",
       "             6212                0.0  -bqcvll4z1DoMU5IeruP9w  \n",
       "             6213                0.0  -bqcvll4z1DoMU5IeruP9w  \n",
       "             6778                0.0  -fwjPvhYGMcae6UgFSmlDA  \n",
       "             6779                0.0  -fwjPvhYGMcae6UgFSmlDA  \n",
       "             9085                6.0  -t4TVbzTZDDvrFIEknI3pw  \n",
       "             9226                0.0  -u6xIwd4In3KUXPKL_bjMw  \n",
       "             9227                0.0  -u6xIwd4In3KUXPKL_bjMw  \n",
       "             9228                0.0  -u6xIwd4In3KUXPKL_bjMw  \n",
       "             9229                0.0  -u6xIwd4In3KUXPKL_bjMw  \n",
       "             9230                0.0  -u6xIwd4In3KUXPKL_bjMw  \n",
       "             9620                7.0  -wF9X1C5NxqOPCU57ZQOuw  \n",
       "             9621                7.0  -wF9X1C5NxqOPCU57ZQOuw  \n",
       "             9622                7.0  -wF9X1C5NxqOPCU57ZQOuw  \n",
       "             9623                7.0  -wF9X1C5NxqOPCU57ZQOuw  \n",
       "             9624                7.0  -wF9X1C5NxqOPCU57ZQOuw  \n",
       "             9625                7.0  -wF9X1C5NxqOPCU57ZQOuw  \n",
       "             9626                7.0  -wF9X1C5NxqOPCU57ZQOuw  \n",
       "             9627                7.0  -wF9X1C5NxqOPCU57ZQOuw  \n",
       "             9628                7.0  -wF9X1C5NxqOPCU57ZQOuw  \n",
       "             10046               4.0  -ypNrWX4v4wzBK6OB-OPlg  \n",
       "             10792               0.0  03ep9jK4DEF6EppN47GZUw  \n",
       "...                              ...                     ...  \n",
       "5262.0       483492            423.0  nmdkHL2JKFx55T3nq5VziA  \n",
       "6252.0       327018            273.0  Xwnf20FKuikiHcSpcEbpKQ  \n",
       "             327019            273.0  Xwnf20FKuikiHcSpcEbpKQ  \n",
       "             327036            273.0  Xwnf20FKuikiHcSpcEbpKQ  \n",
       "             327035            273.0  Xwnf20FKuikiHcSpcEbpKQ  \n",
       "             327034            273.0  Xwnf20FKuikiHcSpcEbpKQ  \n",
       "             327033            273.0  Xwnf20FKuikiHcSpcEbpKQ  \n",
       "             327032            273.0  Xwnf20FKuikiHcSpcEbpKQ  \n",
       "             327031            273.0  Xwnf20FKuikiHcSpcEbpKQ  \n",
       "             327030            273.0  Xwnf20FKuikiHcSpcEbpKQ  \n",
       "             327029            273.0  Xwnf20FKuikiHcSpcEbpKQ  \n",
       "             327028            273.0  Xwnf20FKuikiHcSpcEbpKQ  \n",
       "             327027            273.0  Xwnf20FKuikiHcSpcEbpKQ  \n",
       "             327026            273.0  Xwnf20FKuikiHcSpcEbpKQ  \n",
       "             327025            273.0  Xwnf20FKuikiHcSpcEbpKQ  \n",
       "             327024            273.0  Xwnf20FKuikiHcSpcEbpKQ  \n",
       "             327023            273.0  Xwnf20FKuikiHcSpcEbpKQ  \n",
       "             327022            273.0  Xwnf20FKuikiHcSpcEbpKQ  \n",
       "             327021            273.0  Xwnf20FKuikiHcSpcEbpKQ  \n",
       "             327020            273.0  Xwnf20FKuikiHcSpcEbpKQ  \n",
       "             327037            273.0  Xwnf20FKuikiHcSpcEbpKQ  \n",
       "7125.0       424649           1378.0  hWDybu_KvYLSdEFzGrniTw  \n",
       "             424650           1378.0  hWDybu_KvYLSdEFzGrniTw  \n",
       "             424651           1378.0  hWDybu_KvYLSdEFzGrniTw  \n",
       "7519.0       90400              94.0  8RcEwGrFIgkt9WQ35E6SnQ  \n",
       "10421.0      270631            134.0  RtGqdDBvvBCjcu5dUqwfzA  \n",
       "             270632            134.0  RtGqdDBvvBCjcu5dUqwfzA  \n",
       "             270633            134.0  RtGqdDBvvBCjcu5dUqwfzA  \n",
       "             270634            134.0  RtGqdDBvvBCjcu5dUqwfzA  \n",
       "             270635            134.0  RtGqdDBvvBCjcu5dUqwfzA  \n",
       "\n",
       "[76834 rows x 23 columns]"
      ]
     },
     "execution_count": 85,
     "metadata": {},
     "output_type": "execute_result"
    }
   ],
   "source": [
    "df_user.groupby('review_count').apply(lambda x:x.nlargest(100, 'review_count'))"
   ]
  },
  {
   "cell_type": "code",
   "execution_count": 86,
   "metadata": {
    "collapsed": false,
    "scrolled": true
   },
   "outputs": [
    {
     "data": {
      "text/plain": [
       "1262"
      ]
     },
     "execution_count": 86,
     "metadata": {},
     "output_type": "execute_result"
    }
   ],
   "source": [
    "len(df_business)"
   ]
  },
  {
   "cell_type": "code",
   "execution_count": 2,
   "metadata": {
    "collapsed": false
   },
   "outputs": [
    {
     "ename": "NameError",
     "evalue": "name 'document_hash' is not defined",
     "output_type": "error",
     "traceback": [
      "\u001b[0;31m---------------------------------------------------------------------------\u001b[0m",
      "\u001b[0;31mNameError\u001b[0m                                 Traceback (most recent call last)",
      "\u001b[0;32m<ipython-input-2-8701cb60e440>\u001b[0m in \u001b[0;36m<module>\u001b[0;34m()\u001b[0m\n\u001b[0;32m----> 1\u001b[0;31m \u001b[0mdeepnn_business_features\u001b[0m\u001b[0;34m,\u001b[0m \u001b[0mbusiness_id_order\u001b[0m\u001b[0;34m,\u001b[0m \u001b[0mdoc2vec_model\u001b[0m \u001b[0;34m=\u001b[0m \u001b[0mdoc2vec_features\u001b[0m\u001b[0;34m(\u001b[0m\u001b[0mdocument_hash\u001b[0m\u001b[0;34m)\u001b[0m\u001b[0;34m\u001b[0m\u001b[0m\n\u001b[0m\u001b[1;32m      2\u001b[0m \u001b[0;34m\u001b[0m\u001b[0m\n\u001b[1;32m      3\u001b[0m \u001b[0mdeepnn_business_features\u001b[0m \u001b[0;34m=\u001b[0m \u001b[0mnp\u001b[0m\u001b[0;34m.\u001b[0m\u001b[0marray\u001b[0m\u001b[0;34m(\u001b[0m\u001b[0mdeepnn_business_features\u001b[0m\u001b[0;34m)\u001b[0m\u001b[0;34m\u001b[0m\u001b[0m\n\u001b[1;32m      4\u001b[0m \u001b[0;32mprint\u001b[0m \u001b[0mdeepnn_business_features\u001b[0m\u001b[0;34m.\u001b[0m\u001b[0m__class__\u001b[0m\u001b[0;34m\u001b[0m\u001b[0m\n",
      "\u001b[0;31mNameError\u001b[0m: name 'document_hash' is not defined"
     ]
    }
   ],
   "source": [
    "deepnn_business_features, business_id_order, doc2vec_model = doc2vec_features(document_hash)\n",
    "\n",
    "deepnn_business_features = np.array(deepnn_business_features)\n",
    "print deepnn_business_features.__class__\n"
   ]
  },
  {
   "cell_type": "code",
   "execution_count": null,
   "metadata": {
    "collapsed": true
   },
   "outputs": [],
   "source": []
  }
 ],
 "metadata": {
  "anaconda-cloud": {},
  "kernelspec": {
   "display_name": "Python 2",
   "language": "python",
   "name": "python2"
  },
  "language_info": {
   "codemirror_mode": {
    "name": "ipython",
    "version": 2
   },
   "file_extension": ".py",
   "mimetype": "text/x-python",
   "name": "python",
   "nbconvert_exporter": "python",
   "pygments_lexer": "ipython2",
   "version": "2.7.13"
  }
 },
 "nbformat": 4,
 "nbformat_minor": 1
}
