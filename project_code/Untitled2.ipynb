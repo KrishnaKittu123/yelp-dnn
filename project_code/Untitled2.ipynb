{
 "cells": [
  {
   "cell_type": "code",
   "execution_count": 2,
   "metadata": {
    "collapsed": false
   },
   "outputs": [
    {
     "name": "stderr",
     "output_type": "stream",
     "text": [
      "C:\\Users\\Harika Konagala\\Anaconda2\\lib\\site-packages\\sklearn\\cross_validation.py:44: DeprecationWarning: This module was deprecated in version 0.18 in favor of the model_selection module into which all the refactored classes and functions are moved. Also note that the interface of the new CV iterators are different from that of this module. This module will be removed in 0.20.\n",
      "  \"This module will be removed in 0.20.\", DeprecationWarning)\n"
     ]
    }
   ],
   "source": [
    "import numpy as np\n",
    "import pandas as pd\n",
    "from sklearn import base\n",
    "from sklearn.feature_extraction import DictVectorizer # for One_Hot_Encoder\n",
    "import ast\n",
    "from numpy.linalg import norm\n",
    "from sklearn.pipeline import Pipeline, FeatureUnion\n",
    "#import transformers\n",
    "from scipy.sparse import coo_matrix\n",
    "import heapq\n",
    "import csv\n",
    "import simplejson as json\n",
    "from datetime import datetime\n",
    "from sklearn.cross_validation import train_test_split"
   ]
  },
  {
   "cell_type": "code",
   "execution_count": 3,
   "metadata": {
    "collapsed": true
   },
   "outputs": [],
   "source": [
    "''' ----------------\n",
    "Functions used in One_Hot_Encoder\n",
    "----------------- '''\n",
    "def Value_To_Dict(val):\n",
    "    return {val:1}\n",
    "\n",
    "def List_To_Dict(the_list):\n",
    "    return {category:1 for category in the_list}\n",
    "    \n",
    "def Flatten_Dict(d, prekey = ''):\n",
    "    flat_dict = {}\n",
    "    for k, v in d.items():\n",
    "        if isinstance(v, bool) and v:\n",
    "            flat_dict.update({prekey+'_'+k:1})\n",
    "        elif isinstance(v, str):\n",
    "            flat_dict.update({prekey+'_'+k+'_'+v:1})\n",
    "        elif isinstance(v, dict):\n",
    "            flat_dict.update(Flatten_Dict(v, prekey=prekey+'_'+k))\n",
    "    return flat_dict\n",
    "\n",
    "def flatten(structure, key=\"\", path=\"\", flattened=None):\n",
    "    if flattened is None:\n",
    "        flattened = {}\n",
    "    if type(structure) not in(dict, list):\n",
    "        flattened[((path + \"_\") if path else \"\") + key] = structure\n",
    "    elif isinstance(structure, list):\n",
    "        for i, item in enumerate(structure):\n",
    "            flatten(item, \"%d\" % i, path + \"_\" + key, flattened)\n",
    "    else:\n",
    "        for new_key, value in structure.items():\n",
    "            flatten(value, new_key, path + \"_\" + key, flattened)\n",
    "    return flattened\n",
    "''' -------------------\n",
    "Converts a feature column values into a One-Hot Encoding matrix. If\n",
    "feature values are lists or (nested) dicts, a column for each list \n",
    "entry or dict (sub)key is created.\n",
    "Inputs: colnames is a string of the column name\n",
    "        value_type is the type (value, list or dict) of feature values\n",
    "        sparse indicates whether the matrix is sparse\n",
    "Dependencies: sklearn.feature_extraction.DictVectorizer\n",
    "              sklearn.base\n",
    "------------------- '''\n",
    "class One_Hot_Encoder(base.BaseEstimator, base.TransformerMixin):\n",
    "    def __init__(self, colnames, value_type = 'value', sparse = True):\n",
    "        if value_type == 'value':\n",
    "            self.apply_function_ = Value_To_Dict\n",
    "        elif value_type == 'list':\n",
    "            self.apply_function_ = List_To_Dict\n",
    "        elif value_type == 'dict':\n",
    "            self.apply_function_ = flatten\n",
    "        self.colnames_ = colnames\n",
    "        self.dv_ = DictVectorizer(sparse = sparse)\n",
    "\n",
    "    def fit(self, X, y = None):\n",
    "        self.dv_.fit(X[self.colnames_].apply(self.apply_function_))\n",
    "        return self\n",
    "\n",
    "    def transform(self, X):\n",
    "        return self.dv_.transform(X[self.colnames_].apply(self.apply_function_))\n",
    "\n",
    "\n",
    "\n",
    "\n",
    "\n",
    "\n",
    "''' -------------------\n",
    "Selects and returns the specified column(s)\n",
    "Inputs: colnames is a list of column(s) to select\n",
    "Dependencies: sklearn.base\n",
    "------------------- '''\n",
    "class Column_Selector(base.BaseEstimator, base.TransformerMixin):\n",
    "    def __init__(self, colnames):\n",
    "        self.colnames_ = colnames\n",
    "\n",
    "    def fit(self, X, y = None):\n",
    "        return self\n",
    "\n",
    "    def transform(self, X):\n",
    "        return pd.DataFrame(X[self.colnames_])\n"
   ]
  },
  {
   "cell_type": "code",
   "execution_count": 7,
   "metadata": {
    "collapsed": false,
    "scrolled": true
   },
   "outputs": [
    {
     "name": "stdout",
     "output_type": "stream",
     "text": [
      "**Loading data...\n",
      "<type 'list'>\n",
      "Data was loaded at 10:19:39.018000\n",
      "*** Using Content-based Filtering for Recommendation ***\n",
      "** Initializing feature extraction for user iB4nSMuClUa3dgUMsPW7-w\n",
      "Done\n",
      "**Getting businesses...\n"
     ]
    },
    {
     "name": "stderr",
     "output_type": "stream",
     "text": [
      "C:\\Users\\Harika Konagala\\Anaconda2\\lib\\site-packages\\ipykernel\\__main__.py:37: FutureWarning: sort(columns=....) is deprecated, use sort_values(by=.....)\n",
      "C:\\Users\\Harika Konagala\\Anaconda2\\lib\\site-packages\\ipykernel\\__main__.py:50: FutureWarning: sort(columns=....) is deprecated, use sort_values(by=.....)\n",
      "C:\\Users\\Harika Konagala\\Anaconda2\\lib\\site-packages\\ipykernel\\__main__.py:91: SettingWithCopyWarning: \n",
      "A value is trying to be set on a copy of a slice from a DataFrame.\n",
      "Try using .loc[row_indexer,col_indexer] = value instead\n",
      "\n",
      "See the caveats in the documentation: http://pandas.pydata.org/pandas-docs/stable/indexing.html#indexing-view-versus-copy\n"
     ]
    },
    {
     "name": "stdout",
     "output_type": "stream",
     "text": [
      "**Creating profile...\n",
      "Done\n",
      "**Computing similarity to all businesses...\n",
      "Done\n",
      "\n",
      "**********\n",
      "Hi Jeff!\n",
      "We recommend you to visit Los Aztecas located at \n",
      "100 Fort Mill Sq\n",
      "**********\n",
      "*** Using Collaborative Filtering for Recommendation ***\n"
     ]
    },
    {
     "name": "stderr",
     "output_type": "stream",
     "text": [
      "C:\\Users\\Harika Konagala\\Anaconda2\\lib\\site-packages\\ipykernel\\__main__.py:110: FutureWarning: iget_value(i) is deprecated. Please use .iloc[i] or .iat[i]\n"
     ]
    },
    {
     "name": "stdout",
     "output_type": "stream",
     "text": [
      "** Processing utility matrix...\n"
     ]
    },
    {
     "ename": "ValueError",
     "evalue": "cannot convert float NaN to integer",
     "output_type": "error",
     "traceback": [
      "\u001b[1;31m---------------------------------------------------------------------------\u001b[0m",
      "\u001b[1;31mValueError\u001b[0m                                Traceback (most recent call last)",
      "\u001b[1;32m<ipython-input-7-7270be2c85b8>\u001b[0m in \u001b[0;36m<module>\u001b[1;34m()\u001b[0m\n\u001b[0;32m    136\u001b[0m     \u001b[1;32mreturn\u001b[0m \u001b[0mratings\u001b[0m \u001b[1;33m/\u001b[0m \u001b[0mnp\u001b[0m\u001b[1;33m.\u001b[0m\u001b[0msqrt\u001b[0m\u001b[1;33m(\u001b[0m\u001b[0mfloat\u001b[0m\u001b[1;33m(\u001b[0m\u001b[0mratings\u001b[0m\u001b[1;33m.\u001b[0m\u001b[0mT\u001b[0m\u001b[1;33m.\u001b[0m\u001b[0mdot\u001b[0m\u001b[1;33m(\u001b[0m\u001b[0mratings\u001b[0m\u001b[1;33m)\u001b[0m\u001b[1;33m.\u001b[0m\u001b[0mtoarray\u001b[0m\u001b[1;33m(\u001b[0m\u001b[1;33m)\u001b[0m\u001b[1;33m)\u001b[0m\u001b[1;33m)\u001b[0m\u001b[1;33m.\u001b[0m\u001b[0mastype\u001b[0m\u001b[1;33m(\u001b[0m\u001b[0mint\u001b[0m\u001b[1;33m)\u001b[0m\u001b[1;33m\u001b[0m\u001b[0m\n\u001b[0;32m    137\u001b[0m \u001b[1;33m\u001b[0m\u001b[0m\n\u001b[1;32m--> 138\u001b[1;33m \u001b[0mutility\u001b[0m \u001b[1;33m=\u001b[0m \u001b[0mdf_review\u001b[0m\u001b[1;33m.\u001b[0m\u001b[0mgroupby\u001b[0m\u001b[1;33m(\u001b[0m\u001b[1;34m'business_id'\u001b[0m\u001b[1;33m)\u001b[0m\u001b[1;33m[\u001b[0m\u001b[1;33m[\u001b[0m\u001b[1;34m'stars'\u001b[0m\u001b[1;33m,\u001b[0m \u001b[1;34m'user_idx'\u001b[0m\u001b[1;33m]\u001b[0m\u001b[1;33m]\u001b[0m\u001b[1;33m.\u001b[0m\u001b[0mapply\u001b[0m\u001b[1;33m(\u001b[0m\u001b[0mconvert_to_sparse\u001b[0m\u001b[1;33m)\u001b[0m\u001b[1;33m\u001b[0m\u001b[0m\n\u001b[0m\u001b[0;32m    139\u001b[0m \u001b[1;33m\u001b[0m\u001b[0m\n\u001b[0;32m    140\u001b[0m \u001b[1;31m# Get top recommendatiokns\u001b[0m\u001b[1;33m\u001b[0m\u001b[1;33m\u001b[0m\u001b[0m\n",
      "\u001b[1;32mC:\\Users\\Harika Konagala\\Anaconda2\\lib\\site-packages\\pandas\\core\\groupby.pyc\u001b[0m in \u001b[0;36mapply\u001b[1;34m(self, func, *args, **kwargs)\u001b[0m\n\u001b[0;32m    649\u001b[0m         \u001b[1;31m# ignore SettingWithCopy here in case the user mutates\u001b[0m\u001b[1;33m\u001b[0m\u001b[1;33m\u001b[0m\u001b[0m\n\u001b[0;32m    650\u001b[0m         \u001b[1;32mwith\u001b[0m \u001b[0moption_context\u001b[0m\u001b[1;33m(\u001b[0m\u001b[1;34m'mode.chained_assignment'\u001b[0m\u001b[1;33m,\u001b[0m \u001b[0mNone\u001b[0m\u001b[1;33m)\u001b[0m\u001b[1;33m:\u001b[0m\u001b[1;33m\u001b[0m\u001b[0m\n\u001b[1;32m--> 651\u001b[1;33m             \u001b[1;32mreturn\u001b[0m \u001b[0mself\u001b[0m\u001b[1;33m.\u001b[0m\u001b[0m_python_apply_general\u001b[0m\u001b[1;33m(\u001b[0m\u001b[0mf\u001b[0m\u001b[1;33m)\u001b[0m\u001b[1;33m\u001b[0m\u001b[0m\n\u001b[0m\u001b[0;32m    652\u001b[0m \u001b[1;33m\u001b[0m\u001b[0m\n\u001b[0;32m    653\u001b[0m     \u001b[1;32mdef\u001b[0m \u001b[0m_python_apply_general\u001b[0m\u001b[1;33m(\u001b[0m\u001b[0mself\u001b[0m\u001b[1;33m,\u001b[0m \u001b[0mf\u001b[0m\u001b[1;33m)\u001b[0m\u001b[1;33m:\u001b[0m\u001b[1;33m\u001b[0m\u001b[0m\n",
      "\u001b[1;32mC:\\Users\\Harika Konagala\\Anaconda2\\lib\\site-packages\\pandas\\core\\groupby.pyc\u001b[0m in \u001b[0;36m_python_apply_general\u001b[1;34m(self, f)\u001b[0m\n\u001b[0;32m    653\u001b[0m     \u001b[1;32mdef\u001b[0m \u001b[0m_python_apply_general\u001b[0m\u001b[1;33m(\u001b[0m\u001b[0mself\u001b[0m\u001b[1;33m,\u001b[0m \u001b[0mf\u001b[0m\u001b[1;33m)\u001b[0m\u001b[1;33m:\u001b[0m\u001b[1;33m\u001b[0m\u001b[0m\n\u001b[0;32m    654\u001b[0m         keys, values, mutated = self.grouper.apply(f, self._selected_obj,\n\u001b[1;32m--> 655\u001b[1;33m                                                    self.axis)\n\u001b[0m\u001b[0;32m    656\u001b[0m \u001b[1;33m\u001b[0m\u001b[0m\n\u001b[0;32m    657\u001b[0m         return self._wrap_applied_output(\n",
      "\u001b[1;32mC:\\Users\\Harika Konagala\\Anaconda2\\lib\\site-packages\\pandas\\core\\groupby.pyc\u001b[0m in \u001b[0;36mapply\u001b[1;34m(self, f, data, axis)\u001b[0m\n\u001b[0;32m   1525\u001b[0m             \u001b[1;31m# group might be modified\u001b[0m\u001b[1;33m\u001b[0m\u001b[1;33m\u001b[0m\u001b[0m\n\u001b[0;32m   1526\u001b[0m             \u001b[0mgroup_axes\u001b[0m \u001b[1;33m=\u001b[0m \u001b[0m_get_axes\u001b[0m\u001b[1;33m(\u001b[0m\u001b[0mgroup\u001b[0m\u001b[1;33m)\u001b[0m\u001b[1;33m\u001b[0m\u001b[0m\n\u001b[1;32m-> 1527\u001b[1;33m             \u001b[0mres\u001b[0m \u001b[1;33m=\u001b[0m \u001b[0mf\u001b[0m\u001b[1;33m(\u001b[0m\u001b[0mgroup\u001b[0m\u001b[1;33m)\u001b[0m\u001b[1;33m\u001b[0m\u001b[0m\n\u001b[0m\u001b[0;32m   1528\u001b[0m             \u001b[1;32mif\u001b[0m \u001b[1;32mnot\u001b[0m \u001b[0m_is_indexed_like\u001b[0m\u001b[1;33m(\u001b[0m\u001b[0mres\u001b[0m\u001b[1;33m,\u001b[0m \u001b[0mgroup_axes\u001b[0m\u001b[1;33m)\u001b[0m\u001b[1;33m:\u001b[0m\u001b[1;33m\u001b[0m\u001b[0m\n\u001b[0;32m   1529\u001b[0m                 \u001b[0mmutated\u001b[0m \u001b[1;33m=\u001b[0m \u001b[0mTrue\u001b[0m\u001b[1;33m\u001b[0m\u001b[0m\n",
      "\u001b[1;32mC:\\Users\\Harika Konagala\\Anaconda2\\lib\\site-packages\\pandas\\core\\groupby.pyc\u001b[0m in \u001b[0;36mf\u001b[1;34m(g)\u001b[0m\n\u001b[0;32m    645\u001b[0m         \u001b[1;33m@\u001b[0m\u001b[0mwraps\u001b[0m\u001b[1;33m(\u001b[0m\u001b[0mfunc\u001b[0m\u001b[1;33m)\u001b[0m\u001b[1;33m\u001b[0m\u001b[0m\n\u001b[0;32m    646\u001b[0m         \u001b[1;32mdef\u001b[0m \u001b[0mf\u001b[0m\u001b[1;33m(\u001b[0m\u001b[0mg\u001b[0m\u001b[1;33m)\u001b[0m\u001b[1;33m:\u001b[0m\u001b[1;33m\u001b[0m\u001b[0m\n\u001b[1;32m--> 647\u001b[1;33m             \u001b[1;32mreturn\u001b[0m \u001b[0mfunc\u001b[0m\u001b[1;33m(\u001b[0m\u001b[0mg\u001b[0m\u001b[1;33m,\u001b[0m \u001b[1;33m*\u001b[0m\u001b[0margs\u001b[0m\u001b[1;33m,\u001b[0m \u001b[1;33m**\u001b[0m\u001b[0mkwargs\u001b[0m\u001b[1;33m)\u001b[0m\u001b[1;33m\u001b[0m\u001b[0m\n\u001b[0m\u001b[0;32m    648\u001b[0m \u001b[1;33m\u001b[0m\u001b[0m\n\u001b[0;32m    649\u001b[0m         \u001b[1;31m# ignore SettingWithCopy here in case the user mutates\u001b[0m\u001b[1;33m\u001b[0m\u001b[1;33m\u001b[0m\u001b[0m\n",
      "\u001b[1;32m<ipython-input-7-7270be2c85b8>\u001b[0m in \u001b[0;36mconvert_to_sparse\u001b[1;34m(group)\u001b[0m\n\u001b[0;32m    133\u001b[0m \u001b[1;32mdef\u001b[0m \u001b[0mconvert_to_sparse\u001b[0m\u001b[1;33m(\u001b[0m\u001b[0mgroup\u001b[0m\u001b[1;33m)\u001b[0m\u001b[1;33m:\u001b[0m\u001b[1;33m\u001b[0m\u001b[0m\n\u001b[0;32m    134\u001b[0m     ratings = coo_matrix( (np.array(group['stars']), (np.array(group['user_idx']), np.zeros(len(group)))), \n\u001b[1;32m--> 135\u001b[1;33m                           shape = (len(df_user), 1) ).tocsc()\n\u001b[0m\u001b[0;32m    136\u001b[0m     \u001b[1;32mreturn\u001b[0m \u001b[0mratings\u001b[0m \u001b[1;33m/\u001b[0m \u001b[0mnp\u001b[0m\u001b[1;33m.\u001b[0m\u001b[0msqrt\u001b[0m\u001b[1;33m(\u001b[0m\u001b[0mfloat\u001b[0m\u001b[1;33m(\u001b[0m\u001b[0mratings\u001b[0m\u001b[1;33m.\u001b[0m\u001b[0mT\u001b[0m\u001b[1;33m.\u001b[0m\u001b[0mdot\u001b[0m\u001b[1;33m(\u001b[0m\u001b[0mratings\u001b[0m\u001b[1;33m)\u001b[0m\u001b[1;33m.\u001b[0m\u001b[0mtoarray\u001b[0m\u001b[1;33m(\u001b[0m\u001b[1;33m)\u001b[0m\u001b[1;33m)\u001b[0m\u001b[1;33m)\u001b[0m\u001b[1;33m.\u001b[0m\u001b[0mastype\u001b[0m\u001b[1;33m(\u001b[0m\u001b[0mint\u001b[0m\u001b[1;33m)\u001b[0m\u001b[1;33m\u001b[0m\u001b[0m\n\u001b[0;32m    137\u001b[0m \u001b[1;33m\u001b[0m\u001b[0m\n",
      "\u001b[1;32mC:\\Users\\Harika Konagala\\Anaconda2\\lib\\site-packages\\scipy\\sparse\\coo.pyc\u001b[0m in \u001b[0;36m__init__\u001b[1;34m(self, arg1, shape, dtype, copy)\u001b[0m\n\u001b[0;32m    147\u001b[0m \u001b[1;33m\u001b[0m\u001b[0m\n\u001b[0;32m    148\u001b[0m                 \u001b[0midx_dtype\u001b[0m \u001b[1;33m=\u001b[0m \u001b[0mget_index_dtype\u001b[0m\u001b[1;33m(\u001b[0m\u001b[0mmaxval\u001b[0m\u001b[1;33m=\u001b[0m\u001b[0mmax\u001b[0m\u001b[1;33m(\u001b[0m\u001b[0mself\u001b[0m\u001b[1;33m.\u001b[0m\u001b[0mshape\u001b[0m\u001b[1;33m)\u001b[0m\u001b[1;33m)\u001b[0m\u001b[1;33m\u001b[0m\u001b[0m\n\u001b[1;32m--> 149\u001b[1;33m                 \u001b[0mself\u001b[0m\u001b[1;33m.\u001b[0m\u001b[0mrow\u001b[0m \u001b[1;33m=\u001b[0m \u001b[0mnp\u001b[0m\u001b[1;33m.\u001b[0m\u001b[0marray\u001b[0m\u001b[1;33m(\u001b[0m\u001b[0mrow\u001b[0m\u001b[1;33m,\u001b[0m \u001b[0mcopy\u001b[0m\u001b[1;33m=\u001b[0m\u001b[0mcopy\u001b[0m\u001b[1;33m,\u001b[0m \u001b[0mdtype\u001b[0m\u001b[1;33m=\u001b[0m\u001b[0midx_dtype\u001b[0m\u001b[1;33m)\u001b[0m\u001b[1;33m\u001b[0m\u001b[0m\n\u001b[0m\u001b[0;32m    150\u001b[0m                 \u001b[0mself\u001b[0m\u001b[1;33m.\u001b[0m\u001b[0mcol\u001b[0m \u001b[1;33m=\u001b[0m \u001b[0mnp\u001b[0m\u001b[1;33m.\u001b[0m\u001b[0marray\u001b[0m\u001b[1;33m(\u001b[0m\u001b[0mcol\u001b[0m\u001b[1;33m,\u001b[0m \u001b[0mcopy\u001b[0m\u001b[1;33m=\u001b[0m\u001b[0mcopy\u001b[0m\u001b[1;33m,\u001b[0m \u001b[0mdtype\u001b[0m\u001b[1;33m=\u001b[0m\u001b[0midx_dtype\u001b[0m\u001b[1;33m)\u001b[0m\u001b[1;33m\u001b[0m\u001b[0m\n\u001b[0;32m    151\u001b[0m                 \u001b[0mself\u001b[0m\u001b[1;33m.\u001b[0m\u001b[0mdata\u001b[0m \u001b[1;33m=\u001b[0m \u001b[0mnp\u001b[0m\u001b[1;33m.\u001b[0m\u001b[0marray\u001b[0m\u001b[1;33m(\u001b[0m\u001b[0mobj\u001b[0m\u001b[1;33m,\u001b[0m \u001b[0mcopy\u001b[0m\u001b[1;33m=\u001b[0m\u001b[0mcopy\u001b[0m\u001b[1;33m)\u001b[0m\u001b[1;33m\u001b[0m\u001b[0m\n",
      "\u001b[1;31mValueError\u001b[0m: cannot convert float NaN to integer"
     ]
    }
   ],
   "source": [
    "# from src.load_data import df_review\n",
    "\n",
    "print '**Loading data...'\n",
    "\n",
    "# LOAD DATA FOR TYPE = dataset_type\n",
    "#fileheading = 'yelp_dataset_challenge/yelp_academic_dataset_'\n",
    "\n",
    "def get_data(line, cols):\n",
    "    d = json.loads(line)\n",
    "    return dict((key, d[key]) for key in cols)\n",
    "# \n",
    "# def CustomParser(data):\n",
    "#     j1 = json.loads(data)\n",
    "#     return j1\n",
    "\n",
    "# Load business data\n",
    "# cols = ('business_id', 'name')\n",
    "# with open(fileheading + 'business.json') as f:\n",
    "#     df_business = pd.DataFrame(get_data(line, cols) for line in f)\n",
    "def string_to_dict(dict_string):\n",
    "    # Convert to proper json format\n",
    "#     print type(ast.literal_eval(dict_string))\n",
    "#     print dict_string.__class__\n",
    "    if dict_string is not np.nan:\n",
    "        dict_string = ast.literal_eval(dict_string)\n",
    "#     dict_string = dict_string.replace(\"[\", \"{\").replace(\"]\", \"}\").replace(\"'\", \"\\\"\")\n",
    "#     print ast.literal_eval(dict_string)\n",
    "#     d = json.loads(dict_string)\n",
    "#     dict = {}\n",
    "#     print dict_string\n",
    "# #     list = dict_string.split\n",
    "#     d = json.loads(dict_string)\n",
    "#     print dict_string.__class__\n",
    "    return dict_string\n",
    "\n",
    "df_business = pd.read_csv(\"C:/desktop/ml-project/res_city/sc/southcarolina.csv\")\n",
    "df_business = df_business.sort('business_id')\n",
    "# print type(df_business['attributes'][0])\n",
    "# df_business.join(df_business['attributes'].apply(json.loads).apply(pd.Series)) \n",
    "# df_business.attributes = df_business.attributes.astype(dict)\n",
    "df_business.attributes = df_business.attributes.apply(string_to_dict)\n",
    "print type(df_business['attributes'][0])\n",
    "df_business.index = range(len(df_business))\n",
    "\n",
    "# Load user data\n",
    "# cols = ('user_id', 'name')\n",
    "# with open(fileheading + 'user.json') as f:\n",
    "#     df_user = pd.DataFrame(get_data(line, cols) for line in f)\n",
    "df_user = pd.read_csv(\"C:/desktop/ml-project/res_city/sc/sc_user.csv\")\n",
    "df_user = df_user.sort('user_id')\n",
    "df_user.index = range(len(df_user))\n",
    "\n",
    "# Load review data\n",
    "# cols = ('user_id', 'business_id', 'stars')\n",
    "# with open(fileheading + 'review.json') as f:\n",
    "#     df_review = pd.DataFrame(get_data(line, cols) for line in f)\n",
    "df_review = pd.read_csv(\"C:/desktop/ml-project/res_city/sc/sc_review.csv\")\n",
    "data_load_time = datetime.now()\n",
    "print 'Data was loaded at ' + data_load_time.time().isoformat()\n",
    "\n",
    "# # Load data\n",
    "# try:\n",
    "#     data_load_time\n",
    "# except NameError:\n",
    "#     execfile('src/load_data.py')\n",
    "# else:\n",
    "#     print 'Data was loaded at ' + data_load_time.time().isoformat()\n",
    "\n",
    "# Personalized recommendation for a specific user\n",
    "user = 'iB4nSMuClUa3dgUMsPW7-w'\n",
    "\n",
    "# ----------------\n",
    "# CONTENT BASED FILTERING\n",
    "# ----------------\n",
    "print '*** Using Content-based Filtering for Recommendation ***'\n",
    "print '** Initializing feature extraction for user ' + user\n",
    "\n",
    "# Extract features of each business: category, attribute, average rating\n",
    "OHE_cat = One_Hot_Encoder('categories', 'list', sparse=False)\n",
    "OHE_attr= One_Hot_Encoder('attributes', 'dict', sparse=False)\n",
    "OHE_city= One_Hot_Encoder('city', 'value', sparse=False)\n",
    "rating = Column_Selector(['stars'])\n",
    "# OHE_union = FeatureUnion([ ('cat', OHE_cat), ('attr', OHE_attr), ('city', OHE_city), ('rating', rating) ])\n",
    "OHE_union = OHE_attr\n",
    "OHE_union.fit(df_business)\n",
    "print 'Done'\n",
    "\n",
    "# Generate profile: weighted average of features for business she has reviewed\n",
    "print '**Getting businesses...'\n",
    "reviewed_businesses = df_review.ix[df_review.user_id == user]\n",
    "reviewed_businesses['stars'] = reviewed_businesses['stars'] - float(df_user.average_stars[df_user.user_id == user])\n",
    "idx_reviewed = [pd.Index(df_business.business_id).get_loc(b) for b in reviewed_businesses.business_id]\n",
    "\n",
    "print '**Creating profile...'\n",
    "features = OHE_union.transform(df_business.ix[idx_reviewed])\n",
    "profile = np.matrix(reviewed_businesses.stars) * features\n",
    "print 'Done'\n",
    "\n",
    "# Given un-reviewed business, compute cosine similarity to user's profile\n",
    "print '**Computing similarity to all businesses...'\n",
    "idx_new = range(100) \n",
    "#[pd.Index(df_business.business_id).get_loc(b) for b in df_business.business_id if b not in reviewed_businesses.business_id]\n",
    "features = OHE_union.transform(df_business.ix[idx_new])\n",
    "similarity = np.asarray(profile * features.T) * 1./(norm(profile) * norm(features, axis = 1))\n",
    "print 'Done'\n",
    "\n",
    "# Output: recommend the most similar business\n",
    "idx_recommendation = similarity.argmax()\n",
    "print '\\n**********'\n",
    "print 'Hi ' + df_user.name[df_user.user_id == user].iget_value(0) + '!'\n",
    "print 'We recommend you to visit ' + df_business.name[idx_recommendation] + ' located at '\n",
    "print df_business.address[idx_recommendation]\n",
    "print '**********'\n",
    "\n",
    "## -------------------\n",
    "## COLLABORATIVE FILTERING\n",
    "## -------------------\n",
    "print '*** Using Collaborative Filtering for Recommendation ***'\n",
    "\n",
    "df_review['stars'] = df_review.groupby('business_id')['stars'].transform(lambda x : x - x.mean())\n",
    "\n",
    "def get_idx(user_id): \n",
    "    global running_index\n",
    "    running_index = running_index + 1\n",
    "    return pd.Series(np.zeros(len(user_id)) + running_index) \n",
    "# For speed, get_idx assumes df_review and df_user contain the same users, and is fed in sorted order.\n",
    "running_index = -1 \n",
    "df_review['user_idx'] = df_review.groupby('user_id')['user_id'].transform(get_idx)\n",
    "\n",
    "# Work in terms of sparse matrix\n",
    "print '** Processing utility matrix...'\n",
    "\n",
    "def convert_to_sparse(group):\n",
    "    ratings = coo_matrix( (np.array(group['stars']), (np.array(group['user_idx']), np.zeros(len(group)))), \n",
    "                          shape = (len(df_user), 1) ).tocsc()\n",
    "    return ratings / np.sqrt(float(ratings.T.dot(ratings).toarray()))\n",
    "\n",
    "utility = df_review.groupby('business_id')[['stars', 'user_idx']].apply(convert_to_sparse) \n",
    "\n",
    "# Get top recommendatiokns\n",
    "print '** Generating recommendations...'\n",
    "\n",
    "def cosine_similarity(v1, v2):\n",
    "    return float(v1.T.dot(v2).toarray())\n",
    "\n",
    "def get_recommended_businesses(n, business_id):\n",
    "    util_to_match = utility[utility.index == business_id]\n",
    "    similarity = utility.apply(lambda x: cosine_similarity(util_to_match.values[0], x))\n",
    "    similarity.sort(ascending=False)\n",
    "    return similarity[1:(n+1)]\n",
    "\n",
    "fav_business = df_review.business_id[ df_review.stars[ df_review.user_id == user ].argmax() ]\n",
    "\n",
    "rec = pd.DataFrame(get_recommended_businesses(5, fav_business), columns=['similarity'])\n",
    "rec['name'] = [ df_business.name[ df_business.business_id == business_id ].values[0] for business_id in rec.index]\n",
    "print 'Done'\n",
    "\n",
    "# Output recommendation\n",
    "print 'Hi ' + df_user.name[df_user.user_id == user].values[0] + '!\\nCheck out these businesses!'\n",
    "for name in rec.name:\n",
    "    print name"
   ]
  },
  {
   "cell_type": "code",
   "execution_count": 8,
   "metadata": {
    "collapsed": false
   },
   "outputs": [
    {
     "ename": "AttributeError",
     "evalue": "'module' object has no attribute 'series'",
     "output_type": "error",
     "traceback": [
      "\u001b[1;31m---------------------------------------------------------------------------\u001b[0m",
      "\u001b[1;31mAttributeError\u001b[0m                            Traceback (most recent call last)",
      "\u001b[1;32m<ipython-input-8-5a7a0516dffa>\u001b[0m in \u001b[0;36m<module>\u001b[1;34m()\u001b[0m\n\u001b[1;32m----> 1\u001b[1;33m \u001b[0mpd\u001b[0m\u001b[1;33m.\u001b[0m\u001b[0mseries\u001b[0m\u001b[1;33m(\u001b[0m\u001b[1;33m)\u001b[0m\u001b[1;33m\u001b[0m\u001b[0m\n\u001b[0m",
      "\u001b[1;31mAttributeError\u001b[0m: 'module' object has no attribute 'series'"
     ]
    }
   ],
   "source": [
    "pd.series()"
   ]
  },
  {
   "cell_type": "code",
   "execution_count": 9,
   "metadata": {
    "collapsed": true
   },
   "outputs": [],
   "source": [
    "business = pd.read_csv(\"C:/desktop/ml-project/yelp_academic_dataset/csv files/business.csv\")"
   ]
  },
  {
   "cell_type": "code",
   "execution_count": 28,
   "metadata": {
    "collapsed": false
   },
   "outputs": [
    {
     "data": {
      "text/plain": [
       "674L"
      ]
     },
     "execution_count": 28,
     "metadata": {},
     "output_type": "execute_result"
    }
   ],
   "source": [
    "business['city'].unique().shape[0]"
   ]
  },
  {
   "cell_type": "code",
   "execution_count": 12,
   "metadata": {
    "collapsed": false
   },
   "outputs": [
    {
     "data": {
      "text/plain": [
       "48485"
      ]
     },
     "execution_count": 12,
     "metadata": {},
     "output_type": "execute_result"
    }
   ],
   "source": [
    "len(business)"
   ]
  },
  {
   "cell_type": "code",
   "execution_count": 13,
   "metadata": {
    "collapsed": false
   },
   "outputs": [
    {
     "data": {
      "text/plain": [
       "Index([u'neighborhood', u'business_id', u'hours', u'is_open', u'address',\n",
       "       u'attributes', u'categories', u'city', u'review_count', u'name',\n",
       "       u'longitude', u'state', u'stars', u'latitude', u'postal_code', u'type'],\n",
       "      dtype='object')"
      ]
     },
     "execution_count": 13,
     "metadata": {},
     "output_type": "execute_result"
    }
   ],
   "source": [
    "business.columns"
   ]
  },
  {
   "cell_type": "code",
   "execution_count": 23,
   "metadata": {
    "collapsed": false,
    "scrolled": true
   },
   "outputs": [
    {
     "data": {
      "text/plain": [
       "3.5    12177\n",
       "4.0    12141\n",
       "3.0     9036\n",
       "4.5     5447\n",
       "2.5     4757\n",
       "2.0     2489\n",
       "5.0     1282\n",
       "1.5      873\n",
       "1.0      283\n",
       "Name: stars, dtype: int64"
      ]
     },
     "execution_count": 23,
     "metadata": {},
     "output_type": "execute_result"
    }
   ],
   "source": [
    "business['stars'].value_counts()"
   ]
  },
  {
   "cell_type": "code",
   "execution_count": 29,
   "metadata": {
    "collapsed": true
   },
   "outputs": [],
   "source": [
    "review = pd.read_csv(\"C:/desktop/ml-project/yelp_academic_dataset/csv files/yelp_academic_dataset_review.csv\")"
   ]
  },
  {
   "cell_type": "code",
   "execution_count": 30,
   "metadata": {
    "collapsed": true
   },
   "outputs": [],
   "source": [
    "user= pd.read_csv(\"C:/desktop/ml-project/yelp_academic_dataset/csv files/yelp_academic_dataset_user.csv\")"
   ]
  },
  {
   "cell_type": "code",
   "execution_count": 31,
   "metadata": {
    "collapsed": false
   },
   "outputs": [
    {
     "data": {
      "text/plain": [
       "4153150"
      ]
     },
     "execution_count": 31,
     "metadata": {},
     "output_type": "execute_result"
    }
   ],
   "source": [
    "len(review)"
   ]
  },
  {
   "cell_type": "code",
   "execution_count": 32,
   "metadata": {
    "collapsed": false
   },
   "outputs": [
    {
     "data": {
      "text/plain": [
       "Index([u'funny', u'user_id', u'review_id', u'text', u'business_id', u'stars',\n",
       "       u'date', u'useful', u'type', u'cool'],\n",
       "      dtype='object')"
      ]
     },
     "execution_count": 32,
     "metadata": {},
     "output_type": "execute_result"
    }
   ],
   "source": [
    "review.columns"
   ]
  },
  {
   "cell_type": "code",
   "execution_count": 34,
   "metadata": {
    "collapsed": false
   },
   "outputs": [
    {
     "data": {
      "text/plain": [
       "1029432L"
      ]
     },
     "execution_count": 34,
     "metadata": {},
     "output_type": "execute_result"
    }
   ],
   "source": [
    "review['user_id'].unique().shape[0]"
   ]
  },
  {
   "cell_type": "code",
   "execution_count": 35,
   "metadata": {
    "collapsed": true
   },
   "outputs": [],
   "source": [
    "data = pd.merge(business, review, on = 'business_id', how = 'left')"
   ]
  },
  {
   "cell_type": "code",
   "execution_count": 36,
   "metadata": {
    "collapsed": true
   },
   "outputs": [],
   "source": [
    "newdata = pd.merge(data, user, on = 'user_id', how = 'left')"
   ]
  },
  {
   "cell_type": "code",
   "execution_count": 37,
   "metadata": {
    "collapsed": false
   },
   "outputs": [
    {
     "data": {
      "text/plain": [
       "Index([u'neighborhood', u'business_id', u'hours', u'is_open', u'address',\n",
       "       u'attributes', u'categories', u'city', u'review_count_x', u'name_x',\n",
       "       u'longitude', u'state', u'stars_x', u'latitude', u'postal_code',\n",
       "       u'type_x', u'funny_x', u'user_id', u'review_id', u'text', u'stars_y',\n",
       "       u'date', u'useful_x', u'type_y', u'cool_x', u'yelping_since',\n",
       "       u'useful_y', u'compliment_photos', u'compliment_list',\n",
       "       u'compliment_funny', u'compliment_plain', u'review_count_y', u'elite',\n",
       "       u'fans', u'type', u'compliment_note', u'funny_y', u'compliment_writer',\n",
       "       u'compliment_cute', u'average_stars', u'compliment_more', u'friends',\n",
       "       u'compliment_hot', u'cool_y', u'name_y', u'compliment_profile',\n",
       "       u'compliment_cool'],\n",
       "      dtype='object')"
      ]
     },
     "execution_count": 37,
     "metadata": {},
     "output_type": "execute_result"
    }
   ],
   "source": [
    "newdata.columns"
   ]
  },
  {
   "cell_type": "code",
   "execution_count": 43,
   "metadata": {
    "collapsed": false
   },
   "outputs": [
    {
     "data": {
      "text/plain": [
       "2540795L"
      ]
     },
     "execution_count": 43,
     "metadata": {},
     "output_type": "execute_result"
    }
   ],
   "source": [
    "newdata['review_id'].unique().shape[0]"
   ]
  },
  {
   "cell_type": "code",
   "execution_count": 44,
   "metadata": {
    "collapsed": true
   },
   "outputs": [],
   "source": [
    "df_business = pd.read_csv(\"C:/desktop/ml-project/res_city/sc/southcarolina.csv\")"
   ]
  },
  {
   "cell_type": "code",
   "execution_count": 47,
   "metadata": {
    "collapsed": false
   },
   "outputs": [
    {
     "data": {
      "text/plain": [
       "181L"
      ]
     },
     "execution_count": 47,
     "metadata": {},
     "output_type": "execute_result"
    }
   ],
   "source": [
    "df_business['business_id'].unique().shape[0]"
   ]
  },
  {
   "cell_type": "code",
   "execution_count": 49,
   "metadata": {
    "collapsed": false,
    "scrolled": true
   },
   "outputs": [
    {
     "data": {
      "text/plain": [
       "array([ '[\\'Alcohol: none\\', \"Ambience: {\\'romantic\\': False, \\'intimate\\': False, \\'classy\\': False, \\'hipster\\': False, \\'touristy\\': False, \\'trendy\\': False, \\'upscale\\': False, \\'casual\\': False}\", \\'BikeParking: True\\', \\'BusinessAcceptsCreditCards: True\\', \"BusinessParking: {\\'garage\\': False, \\'street\\': False, \\'validated\\': False, \\'lot\\': False, \\'valet\\': False}\", \\'Caters: True\\', \\'GoodForKids: True\\', \"GoodForMeal: {\\'dessert\\': False, \\'latenight\\': False, \\'lunch\\': False, \\'dinner\\': False, \\'breakfast\\': False, \\'brunch\\': False}\", \\'HasTV: True\\', \\'NoiseLevel: quiet\\', \\'OutdoorSeating: False\\', \\'RestaurantsAttire: casual\\', \\'RestaurantsDelivery: True\\', \\'RestaurantsGoodForGroups: True\\', \\'RestaurantsPriceRange2: 1\\', \\'RestaurantsReservations: False\\', \\'RestaurantsTableService: False\\', \\'RestaurantsTakeOut: True\\', \\'WiFi: free\\']',\n",
       "       '[\\'Alcohol: none\\', \"Ambience: {\\'romantic\\': False, \\'intimate\\': False, \\'classy\\': False, \\'hipster\\': False, \\'divey\\': False, \\'touristy\\': False, \\'trendy\\': False, \\'upscale\\': False, \\'casual\\': False}\", \\'BikeParking: True\\', \\'BusinessAcceptsCreditCards: True\\', \"BusinessParking: {\\'garage\\': False, \\'street\\': False, \\'validated\\': False, \\'lot\\': False, \\'valet\\': False}\", \\'DriveThru: True\\', \\'GoodForKids: True\\', \"GoodForMeal: {\\'dessert\\': False, \\'latenight\\': False, \\'lunch\\': False, \\'dinner\\': False, \\'breakfast\\': False, \\'brunch\\': False}\", \\'HasTV: False\\', \\'NoiseLevel: quiet\\', \\'OutdoorSeating: False\\', \\'RestaurantsAttire: casual\\', \\'RestaurantsDelivery: False\\', \\'RestaurantsGoodForGroups: True\\', \\'RestaurantsPriceRange2: 1\\', \\'RestaurantsReservations: False\\', \\'RestaurantsTableService: False\\', \\'RestaurantsTakeOut: True\\', \\'WiFi: no\\']',\n",
       "       '[\\'Alcohol: none\\', \"Ambience: {\\'romantic\\': False, \\'intimate\\': False, \\'classy\\': False, \\'hipster\\': False, \\'divey\\': False, \\'touristy\\': False, \\'trendy\\': False, \\'upscale\\': False, \\'casual\\': True}\", \\'BusinessAcceptsCreditCards: True\\', \"BusinessParking: {\\'garage\\': False, \\'street\\': False, \\'validated\\': False, \\'lot\\': True, \\'valet\\': False}\", \\'Caters: True\\', \\'GoodForKids: True\\', \"GoodForMeal: {\\'dessert\\': False, \\'latenight\\': False, \\'lunch\\': True, \\'dinner\\': True, \\'breakfast\\': False, \\'brunch\\': False}\", \\'HasTV: True\\', \\'NoiseLevel: quiet\\', \\'OutdoorSeating: False\\', \\'RestaurantsAttire: casual\\', \\'RestaurantsDelivery: False\\', \\'RestaurantsGoodForGroups: True\\', \\'RestaurantsPriceRange2: 1\\', \\'RestaurantsReservations: False\\', \\'RestaurantsTableService: False\\', \\'RestaurantsTakeOut: True\\', \\'WiFi: no\\']',\n",
       "       ...,\n",
       "       '[\\'Alcohol: none\\', \"Ambience: {\\'romantic\\': False, \\'intimate\\': False, \\'classy\\': False, \\'hipster\\': False, \\'divey\\': False, \\'touristy\\': False, \\'trendy\\': False, \\'upscale\\': False, \\'casual\\': True}\", \\'BikeParking: True\\', \\'BusinessAcceptsCreditCards: True\\', \"BusinessParking: {\\'garage\\': False, \\'street\\': True, \\'validated\\': False, \\'lot\\': False, \\'valet\\': False}\", \\'Caters: False\\', \\'GoodForKids: True\\', \"GoodForMeal: {\\'dessert\\': False, \\'latenight\\': False, \\'lunch\\': True, \\'dinner\\': True, \\'breakfast\\': False, \\'brunch\\': False}\", \\'HasTV: False\\', \\'NoiseLevel: quiet\\', \\'OutdoorSeating: False\\', \\'RestaurantsAttire: casual\\', \\'RestaurantsDelivery: True\\', \\'RestaurantsGoodForGroups: True\\', \\'RestaurantsPriceRange2: 2\\', \\'RestaurantsReservations: True\\', \\'RestaurantsTableService: True\\', \\'RestaurantsTakeOut: True\\', \\'WiFi: no\\']',\n",
       "       '[\\'Alcohol: full_bar\\', \"Ambience: {\\'romantic\\': False, \\'intimate\\': False, \\'classy\\': False, \\'hipster\\': False, \\'divey\\': False, \\'touristy\\': False, \\'trendy\\': True, \\'upscale\\': False, \\'casual\\': False}\", \"BestNights: {\\'monday\\': False, \\'tuesday\\': False, \\'friday\\': True, \\'wednesday\\': False, \\'thursday\\': False, \\'sunday\\': False, \\'saturday\\': False}\", \\'BikeParking: True\\', \\'BusinessAcceptsCreditCards: True\\', \"BusinessParking: {\\'garage\\': False, \\'street\\': True, \\'validated\\': False, \\'lot\\': False, \\'valet\\': False}\", \\'Caters: True\\', \\'CoatCheck: False\\', \\'GoodForDancing: True\\', \\'GoodForKids: False\\', \"GoodForMeal: {\\'dessert\\': False, \\'latenight\\': True, \\'lunch\\': True, \\'dinner\\': True, \\'breakfast\\': False, \\'brunch\\': False}\", \\'HappyHour: True\\', \\'HasTV: True\\', \"Music: {\\'dj\\': False, \\'background_music\\': False, \\'no_music\\': False, \\'karaoke\\': False, \\'live\\': False, \\'video\\': False, \\'jukebox\\': False}\", \\'NoiseLevel: average\\', \\'OutdoorSeating: True\\', \\'RestaurantsAttire: casual\\', \\'RestaurantsDelivery: False\\', \\'RestaurantsGoodForGroups: True\\', \\'RestaurantsPriceRange2: 2\\', \\'RestaurantsReservations: True\\', \\'RestaurantsTableService: True\\', \\'RestaurantsTakeOut: True\\', \\'Smoking: outdoor\\', \\'WheelchairAccessible: True\\', \\'WiFi: free\\']',\n",
       "       '[\\'Alcohol: none\\', \"Ambience: {\\'romantic\\': False, \\'intimate\\': False, \\'classy\\': False, \\'hipster\\': False, \\'divey\\': False, \\'touristy\\': False, \\'trendy\\': False, \\'upscale\\': False, \\'casual\\': True}\", \\'BusinessAcceptsCreditCards: True\\', \"BusinessParking: {\\'garage\\': False, \\'street\\': False, \\'validated\\': False, \\'lot\\': True, \\'valet\\': False}\", \\'Caters: False\\', \\'GoodForKids: True\\', \"GoodForMeal: {\\'dessert\\': False, \\'latenight\\': False, \\'lunch\\': True, \\'dinner\\': False, \\'breakfast\\': False, \\'brunch\\': False}\", \\'HasTV: True\\', \\'NoiseLevel: average\\', \\'OutdoorSeating: False\\', \\'RestaurantsAttire: casual\\', \\'RestaurantsDelivery: False\\', \\'RestaurantsGoodForGroups: True\\', \\'RestaurantsPriceRange2: 1\\', \\'RestaurantsReservations: False\\', \\'RestaurantsTableService: True\\', \\'RestaurantsTakeOut: True\\', \\'WheelchairAccessible: True\\', \\'WiFi: no\\']'], dtype=object)"
      ]
     },
     "execution_count": 49,
     "metadata": {},
     "output_type": "execute_result"
    }
   ],
   "source": [
    "newdata['attributes'].unique()"
   ]
  },
  {
   "cell_type": "code",
   "execution_count": null,
   "metadata": {
    "collapsed": true
   },
   "outputs": [],
   "source": []
  }
 ],
 "metadata": {
  "anaconda-cloud": {},
  "kernelspec": {
   "display_name": "Python [Root]",
   "language": "python",
   "name": "Python [Root]"
  },
  "language_info": {
   "codemirror_mode": {
    "name": "ipython",
    "version": 2
   },
   "file_extension": ".py",
   "mimetype": "text/x-python",
   "name": "python",
   "nbconvert_exporter": "python",
   "pygments_lexer": "ipython2",
   "version": "2.7.12"
  }
 },
 "nbformat": 4,
 "nbformat_minor": 0
}
