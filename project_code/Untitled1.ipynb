{
 "cells": [
  {
   "cell_type": "code",
   "execution_count": 1,
   "metadata": {
    "collapsed": true
   },
   "outputs": [],
   "source": [
    "import pandas as pd\n",
    "import csv\n",
    "df_business = pd.read_csv(\"C:/desktop/ml-project/res_city/illinois/illinois.csv\")\n",
    "df_review = pd.read_csv(\"C:/desktop/ml-project/res_city/illinois/il_review.csv\")\n",
    "df_user = pd.read_csv(\"C:/desktop/ml-project/res_city/illinois/il_user.csv\")"
   ]
  },
  {
   "cell_type": "code",
   "execution_count": 112,
   "metadata": {
    "collapsed": false
   },
   "outputs": [
    {
     "data": {
      "text/plain": [
       "Index([u'neighborhood', u'business_id', u'hours', u'is_open', u'address', u'attributes', u'categories', u'city', u'review_count', u'name', u'longitude', u'state', u'stars', u'latitude', u'postal_code', u'type'], dtype='object')"
      ]
     },
     "execution_count": 112,
     "metadata": {},
     "output_type": "execute_result"
    }
   ],
   "source": [
    "df_business.columns"
   ]
  },
  {
   "cell_type": "code",
   "execution_count": 117,
   "metadata": {
    "collapsed": false
   },
   "outputs": [
    {
     "name": "stderr",
     "output_type": "stream",
     "text": [
      "C:\\Users\\Harika Konagala\\Anaconda2\\lib\\site-packages\\ipykernel\\__main__.py:1: FutureWarning: sort(columns=....) is deprecated, use sort_values(by=.....)\n",
      "  if __name__ == '__main__':\n"
     ]
    }
   ],
   "source": [
    "df_business = df_business.sort('business_id')"
   ]
  },
  {
   "cell_type": "code",
   "execution_count": 118,
   "metadata": {
    "collapsed": true
   },
   "outputs": [],
   "source": [
    "df_business.index = range(len(df_business))"
   ]
  },
  {
   "cell_type": "code",
   "execution_count": 114,
   "metadata": {
    "collapsed": false
   },
   "outputs": [
    {
     "data": {
      "text/plain": [
       "Index([u'Unnamed: 0', u'funny', u'user_id', u'review_id', u'text', u'business_id', u'stars', u'date', u'useful', u'type', u'cool'], dtype='object')"
      ]
     },
     "execution_count": 114,
     "metadata": {},
     "output_type": "execute_result"
    }
   ],
   "source": [
    "df_review.columns"
   ]
  },
  {
   "cell_type": "code",
   "execution_count": 115,
   "metadata": {
    "collapsed": false
   },
   "outputs": [
    {
     "data": {
      "text/plain": [
       "Index([u'Unnamed: 0', u'yelping_since', u'useful', u'compliment_photos', u'compliment_list', u'compliment_funny', u'compliment_plain', u'review_count', u'elite', u'fans', u'type', u'compliment_note', u'funny', u'compliment_writer', u'compliment_cute', u'average_stars', u'user_id', u'compliment_more', u'friends', u'compliment_hot', u'cool', u'name', u'compliment_profile', u'compliment_cool'], dtype='object')"
      ]
     },
     "execution_count": 115,
     "metadata": {},
     "output_type": "execute_result"
    }
   ],
   "source": [
    "df_user.columns"
   ]
  },
  {
   "cell_type": "code",
   "execution_count": 116,
   "metadata": {
    "collapsed": false
   },
   "outputs": [
    {
     "data": {
      "text/plain": [
       "array(['hAOPSgq9jZ-DiDlOXIpm9g', 'JK8GENrrfXC9PpqspioNeQ',\n",
       "       'pFRE2mNCQvx9DUU542c6Dw', ..., '38s-iHkVxpLKL7D-Bo25uQ',\n",
       "       'ShcyA_bTtqudK4eaSbtLGA', 'Qez2Cq92gDq-FepFr1VQKg'], dtype=object)"
      ]
     },
     "execution_count": 116,
     "metadata": {},
     "output_type": "execute_result"
    }
   ],
   "source": [
    "df_user.user_id.unique()"
   ]
  },
  {
   "cell_type": "code",
   "execution_count": 2,
   "metadata": {
    "collapsed": true
   },
   "outputs": [],
   "source": [
    "data = pd.merge(df_business, df_review, on = 'business_id', how = 'inner')"
   ]
  },
  {
   "cell_type": "code",
   "execution_count": 3,
   "metadata": {
    "collapsed": false
   },
   "outputs": [
    {
     "data": {
      "text/plain": [
       "18953"
      ]
     },
     "execution_count": 3,
     "metadata": {},
     "output_type": "execute_result"
    }
   ],
   "source": [
    "len(data)"
   ]
  },
  {
   "cell_type": "code",
   "execution_count": 4,
   "metadata": {
    "collapsed": true
   },
   "outputs": [],
   "source": [
    "newdata = pd.merge(data, df_user, on = 'user_id', how = 'inner')"
   ]
  },
  {
   "cell_type": "code",
   "execution_count": 5,
   "metadata": {
    "collapsed": false
   },
   "outputs": [
    {
     "data": {
      "text/plain": [
       "240553"
      ]
     },
     "execution_count": 5,
     "metadata": {},
     "output_type": "execute_result"
    }
   ],
   "source": [
    "len(newdata)"
   ]
  },
  {
   "cell_type": "code",
   "execution_count": 6,
   "metadata": {
    "collapsed": false
   },
   "outputs": [
    {
     "data": {
      "text/plain": [
       "Index([u'neighborhood', u'business_id', u'hours', u'is_open', u'address',\n",
       "       u'attributes', u'categories', u'city', u'review_count_x', u'name_x',\n",
       "       u'longitude', u'state', u'stars_x', u'latitude', u'postal_code',\n",
       "       u'type_x', u'Unnamed: 0_x', u'funny_x', u'user_id', u'review_id',\n",
       "       u'text', u'stars_y', u'date', u'useful_x', u'type_y', u'cool_x',\n",
       "       u'Unnamed: 0_y', u'yelping_since', u'useful_y', u'compliment_photos',\n",
       "       u'compliment_list', u'compliment_funny', u'compliment_plain',\n",
       "       u'review_count_y', u'elite', u'fans', u'type', u'compliment_note',\n",
       "       u'funny_y', u'compliment_writer', u'compliment_cute', u'average_stars',\n",
       "       u'compliment_more', u'friends', u'compliment_hot', u'cool_y', u'name_y',\n",
       "       u'compliment_profile', u'compliment_cool'],\n",
       "      dtype='object')"
      ]
     },
     "execution_count": 6,
     "metadata": {},
     "output_type": "execute_result"
    }
   ],
   "source": [
    "newdata.columns"
   ]
  },
  {
   "cell_type": "code",
   "execution_count": 8,
   "metadata": {
    "collapsed": false,
    "scrolled": true
   },
   "outputs": [],
   "source": [
    "joinedFrames= newdata[['business_id', 'name_x', 'review_count_x', 'stars_x', 'user_id', 'name_y', 'review_count_y', 'stars_y', 'city', 'average_stars','review_count_y', 'review_id']]"
   ]
  },
  {
   "cell_type": "code",
   "execution_count": 9,
   "metadata": {
    "collapsed": false
   },
   "outputs": [
    {
     "data": {
      "text/plain": [
       "Index([u'business_id', u'name_x', u'review_count_x', u'stars_x', u'user_id',\n",
       "       u'name_y', u'review_count_y', u'stars_y', u'city', u'average_stars',\n",
       "       u'review_count_y', u'review_id'],\n",
       "      dtype='object')"
      ]
     },
     "execution_count": 9,
     "metadata": {},
     "output_type": "execute_result"
    }
   ],
   "source": [
    "joinedFrames.columns"
   ]
  },
  {
   "cell_type": "code",
   "execution_count": 10,
   "metadata": {
    "collapsed": true
   },
   "outputs": [],
   "source": [
    "new_columns = joinedFrames.columns.values\n",
    "new_columns[1] = 'biz_name'\n",
    "new_columns[2] = 'business_review_count'\n",
    "new_columns[3] = 'business_average'\n",
    "new_columns[5] = 'user_name'\n",
    "new_columns[6] = 'user_review_count'\n",
    "new_columns[7] = 'stars'\n",
    "new_columns[9] = 'user_avg'\n",
    "new_columns[10] ='del'\n",
    "joinedFrames.columns = new_columns\n",
    "joinedFrames = joinedFrames.drop('del', 1)"
   ]
  },
  {
   "cell_type": "code",
   "execution_count": 11,
   "metadata": {
    "collapsed": false
   },
   "outputs": [
    {
     "data": {
      "text/html": [
       "<div>\n",
       "<table border=\"1\" class=\"dataframe\">\n",
       "  <thead>\n",
       "    <tr style=\"text-align: right;\">\n",
       "      <th></th>\n",
       "      <th>business_id</th>\n",
       "      <th>biz_name</th>\n",
       "      <th>business_review_count</th>\n",
       "      <th>business_average</th>\n",
       "      <th>user_id</th>\n",
       "      <th>user_name</th>\n",
       "      <th>user_review_count</th>\n",
       "      <th>stars</th>\n",
       "      <th>city</th>\n",
       "      <th>user_avg</th>\n",
       "      <th>review_id</th>\n",
       "    </tr>\n",
       "  </thead>\n",
       "  <tbody>\n",
       "    <tr>\n",
       "      <th>0</th>\n",
       "      <td>rQX6RVr6E4Zg9hx8GBFGHQ</td>\n",
       "      <td>TGI Friday's</td>\n",
       "      <td>15</td>\n",
       "      <td>3.0</td>\n",
       "      <td>hAOPSgq9jZ-DiDlOXIpm9g</td>\n",
       "      <td>Lauren</td>\n",
       "      <td>95.0</td>\n",
       "      <td>1.0</td>\n",
       "      <td>Champaign</td>\n",
       "      <td>3.43</td>\n",
       "      <td>XHQCZsTKRUsVc6cGmoWaLA</td>\n",
       "    </tr>\n",
       "    <tr>\n",
       "      <th>1</th>\n",
       "      <td>rQX6RVr6E4Zg9hx8GBFGHQ</td>\n",
       "      <td>TGI Friday's</td>\n",
       "      <td>15</td>\n",
       "      <td>3.0</td>\n",
       "      <td>hAOPSgq9jZ-DiDlOXIpm9g</td>\n",
       "      <td>Lauren</td>\n",
       "      <td>95.0</td>\n",
       "      <td>1.0</td>\n",
       "      <td>Champaign</td>\n",
       "      <td>3.43</td>\n",
       "      <td>XHQCZsTKRUsVc6cGmoWaLA</td>\n",
       "    </tr>\n",
       "    <tr>\n",
       "      <th>2</th>\n",
       "      <td>rQX6RVr6E4Zg9hx8GBFGHQ</td>\n",
       "      <td>TGI Friday's</td>\n",
       "      <td>15</td>\n",
       "      <td>3.0</td>\n",
       "      <td>hAOPSgq9jZ-DiDlOXIpm9g</td>\n",
       "      <td>Lauren</td>\n",
       "      <td>95.0</td>\n",
       "      <td>1.0</td>\n",
       "      <td>Champaign</td>\n",
       "      <td>3.43</td>\n",
       "      <td>XHQCZsTKRUsVc6cGmoWaLA</td>\n",
       "    </tr>\n",
       "    <tr>\n",
       "      <th>3</th>\n",
       "      <td>rQX6RVr6E4Zg9hx8GBFGHQ</td>\n",
       "      <td>TGI Friday's</td>\n",
       "      <td>15</td>\n",
       "      <td>3.0</td>\n",
       "      <td>hAOPSgq9jZ-DiDlOXIpm9g</td>\n",
       "      <td>Lauren</td>\n",
       "      <td>95.0</td>\n",
       "      <td>1.0</td>\n",
       "      <td>Champaign</td>\n",
       "      <td>3.43</td>\n",
       "      <td>XHQCZsTKRUsVc6cGmoWaLA</td>\n",
       "    </tr>\n",
       "    <tr>\n",
       "      <th>4</th>\n",
       "      <td>rQX6RVr6E4Zg9hx8GBFGHQ</td>\n",
       "      <td>TGI Friday's</td>\n",
       "      <td>15</td>\n",
       "      <td>3.0</td>\n",
       "      <td>hAOPSgq9jZ-DiDlOXIpm9g</td>\n",
       "      <td>Lauren</td>\n",
       "      <td>95.0</td>\n",
       "      <td>1.0</td>\n",
       "      <td>Champaign</td>\n",
       "      <td>3.43</td>\n",
       "      <td>XHQCZsTKRUsVc6cGmoWaLA</td>\n",
       "    </tr>\n",
       "  </tbody>\n",
       "</table>\n",
       "</div>"
      ],
      "text/plain": [
       "              business_id      biz_name  business_review_count  \\\n",
       "0  rQX6RVr6E4Zg9hx8GBFGHQ  TGI Friday's                     15   \n",
       "1  rQX6RVr6E4Zg9hx8GBFGHQ  TGI Friday's                     15   \n",
       "2  rQX6RVr6E4Zg9hx8GBFGHQ  TGI Friday's                     15   \n",
       "3  rQX6RVr6E4Zg9hx8GBFGHQ  TGI Friday's                     15   \n",
       "4  rQX6RVr6E4Zg9hx8GBFGHQ  TGI Friday's                     15   \n",
       "\n",
       "   business_average                 user_id user_name  user_review_count  \\\n",
       "0               3.0  hAOPSgq9jZ-DiDlOXIpm9g    Lauren               95.0   \n",
       "1               3.0  hAOPSgq9jZ-DiDlOXIpm9g    Lauren               95.0   \n",
       "2               3.0  hAOPSgq9jZ-DiDlOXIpm9g    Lauren               95.0   \n",
       "3               3.0  hAOPSgq9jZ-DiDlOXIpm9g    Lauren               95.0   \n",
       "4               3.0  hAOPSgq9jZ-DiDlOXIpm9g    Lauren               95.0   \n",
       "\n",
       "   stars       city  user_avg               review_id  \n",
       "0    1.0  Champaign      3.43  XHQCZsTKRUsVc6cGmoWaLA  \n",
       "1    1.0  Champaign      3.43  XHQCZsTKRUsVc6cGmoWaLA  \n",
       "2    1.0  Champaign      3.43  XHQCZsTKRUsVc6cGmoWaLA  \n",
       "3    1.0  Champaign      3.43  XHQCZsTKRUsVc6cGmoWaLA  \n",
       "4    1.0  Champaign      3.43  XHQCZsTKRUsVc6cGmoWaLA  "
      ]
     },
     "execution_count": 11,
     "metadata": {},
     "output_type": "execute_result"
    }
   ],
   "source": [
    "joinedFrames.head(5)"
   ]
  },
  {
   "cell_type": "code",
   "execution_count": 15,
   "metadata": {
    "collapsed": false
   },
   "outputs": [
    {
     "data": {
      "text/plain": [
       "15L"
      ]
     },
     "execution_count": 15,
     "metadata": {},
     "output_type": "execute_result"
    }
   ],
   "source": [
    "joinedFrames.city.unique().shape[0]"
   ]
  },
  {
   "cell_type": "code",
   "execution_count": 16,
   "metadata": {
    "collapsed": false
   },
   "outputs": [
    {
     "data": {
      "text/plain": [
       "240553"
      ]
     },
     "execution_count": 16,
     "metadata": {},
     "output_type": "execute_result"
    }
   ],
   "source": [
    "len(joinedFrames)"
   ]
  },
  {
   "cell_type": "code",
   "execution_count": 17,
   "metadata": {
    "collapsed": false
   },
   "outputs": [
    {
     "name": "stderr",
     "output_type": "stream",
     "text": [
      "C:\\Users\\Harika Konagala\\Anaconda2\\lib\\site-packages\\matplotlib\\__init__.py:872: UserWarning: axes.color_cycle is deprecated and replaced with axes.prop_cycle; please use the latter.\n",
      "  warnings.warn(self.msg_depr % (key, alt_key))\n"
     ]
    }
   ],
   "source": [
    "%matplotlib inline\n",
    "from collections import defaultdict\n",
    "import json\n",
    "\n",
    "import numpy as np\n",
    "import scipy as sp\n",
    "import matplotlib.pyplot as plt\n",
    "import pandas as pd\n",
    "\n",
    "from matplotlib import rcParams\n",
    "import matplotlib.cm as cm\n",
    "import matplotlib as mpl\n",
    "\n",
    "#colorbrewer2 Dark2 qualitative color table\n",
    "dark2_colors = [(0.10588235294117647, 0.6196078431372549, 0.4666666666666667),\n",
    "                (0.8509803921568627, 0.37254901960784315, 0.00784313725490196),\n",
    "                (0.4588235294117647, 0.4392156862745098, 0.7019607843137254),\n",
    "                (0.9058823529411765, 0.1607843137254902, 0.5411764705882353),\n",
    "                (0.4, 0.6509803921568628, 0.11764705882352941),\n",
    "                (0.9019607843137255, 0.6705882352941176, 0.00784313725490196),\n",
    "                (0.6509803921568628, 0.4627450980392157, 0.11372549019607843)]\n",
    "\n",
    "rcParams['figure.figsize'] = (10, 6)\n",
    "rcParams['figure.dpi'] = 150\n",
    "rcParams['axes.color_cycle'] = dark2_colors\n",
    "rcParams['lines.linewidth'] = 2\n",
    "rcParams['axes.facecolor'] = 'white'\n",
    "rcParams['font.size'] = 14\n",
    "rcParams['patch.edgecolor'] = 'white'\n",
    "rcParams['patch.facecolor'] = dark2_colors[0]\n",
    "rcParams['font.family'] = 'StixGeneral'\n",
    "\n",
    "\n",
    "def remove_border(axes=None, top=False, right=False, left=True, bottom=True):\n",
    "    \"\"\"\n",
    "    Minimize chartjunk by stripping out unnecesasry plot borders and axis ticks\n",
    "    \n",
    "    The top/right/left/bottom keywords toggle whether the corresponding plot border is drawn\n",
    "    \"\"\"\n",
    "    ax = axes or plt.gca()\n",
    "    ax.spines['top'].set_visible(top)\n",
    "    ax.spines['right'].set_visible(right)\n",
    "    ax.spines['left'].set_visible(left)\n",
    "    ax.spines['bottom'].set_visible(bottom)\n",
    "    \n",
    "    #turn off all ticks\n",
    "    ax.yaxis.set_ticks_position('none')\n",
    "    ax.xaxis.set_ticks_position('none')\n",
    "    \n",
    "    #now re-enable visibles\n",
    "    if top:\n",
    "        ax.xaxis.tick_top()\n",
    "    if bottom:\n",
    "        ax.xaxis.tick_bottom()\n",
    "    if left:\n",
    "        ax.yaxis.tick_left()\n",
    "    if right:\n",
    "        ax.yaxis.tick_right()\n",
    "        \n",
    "pd.set_option('display.width', 500)\n",
    "pd.set_option('display.max_columns', 100)"
   ]
  },
  {
   "cell_type": "code",
   "execution_count": 18,
   "metadata": {
    "collapsed": false
   },
   "outputs": [
    {
     "name": "stdout",
     "output_type": "stream",
     "text": [
      "Number of Reviews 240553\n",
      "Number of Users 7019 Number of Businesses 560\n"
     ]
    }
   ],
   "source": [
    "print \"Number of Reviews\",joinedFrames.shape[0]\n",
    "print \"Number of Users\", joinedFrames.user_id.unique().shape[0], \"Number of Businesses\", joinedFrames.business_id.unique().shape[0]\n"
   ]
  },
  {
   "cell_type": "code",
   "execution_count": 19,
   "metadata": {
    "collapsed": true
   },
   "outputs": [],
   "source": [
    "def recompute_frame(ldf):\n",
    "    \"\"\"\n",
    "    takes a dataframe ldf, makes a copy of it, and returns the copy\n",
    "    with all averages and review counts recomputed\n",
    "    this is used when a frame is subsetted.\n",
    "    \"\"\"\n",
    "    ldfu=ldf.groupby('user_id')\n",
    "    ldfb=ldf.groupby('business_id')\n",
    "    user_avg=ldfu.stars.mean()\n",
    "    user_review_count=ldfu.review_id.count()\n",
    "    business_avg=ldfb.stars.mean()\n",
    "    business_review_count=ldfb.review_id.count()\n",
    "    nldf=ldf.copy()\n",
    "    nldf.set_index(['business_id'], inplace=True)\n",
    "    nldf['business_avg']=business_avg\n",
    "    nldf['business_review_count']=business_review_count\n",
    "    nldf.reset_index(inplace=True)\n",
    "    nldf.set_index(['user_id'], inplace=True)\n",
    "    nldf['user_avg']=user_avg\n",
    "    nldf['user_review_count']=user_review_count\n",
    "    nldf.reset_index(inplace=True)\n",
    "    return nldf"
   ]
  },
  {
   "cell_type": "code",
   "execution_count": 26,
   "metadata": {
    "collapsed": true
   },
   "outputs": [],
   "source": [
    "smallidf = joinedFrames[(joinedFrames.user_review_count > 50) & (joinedFrames.business_review_count > 50)]\n",
    "smalldf=recompute_frame(smallidf)"
   ]
  },
  {
   "cell_type": "code",
   "execution_count": 27,
   "metadata": {
    "collapsed": false
   },
   "outputs": [
    {
     "name": "stdout",
     "output_type": "stream",
     "text": [
      "Total Number of Reviews 93120\n",
      "Users in this set 972 Restaurants 102\n"
     ]
    }
   ],
   "source": [
    "print \"Total Number of Reviews\", smalldf.shape[0]\n",
    "print \"Users in this set\", smalldf.user_id.unique().shape[0], \"Restaurants\",smalldf.business_id.unique().shape[0]"
   ]
  },
  {
   "cell_type": "code",
   "execution_count": 28,
   "metadata": {
    "collapsed": false
   },
   "outputs": [
    {
     "name": "stdout",
     "output_type": "stream",
     "text": [
      "Mean support is: 4.82003494467\n"
     ]
    },
    {
     "data": {
      "text/plain": [
       "(array([  3.54100000e+03,   1.14600000e+03,   3.23000000e+02,\n",
       "          9.30000000e+01,   2.60000000e+01,   1.30000000e+01,\n",
       "          5.00000000e+00,   2.00000000e+00,   0.00000000e+00,\n",
       "          2.00000000e+00]),\n",
       " array([  0. ,   5.1,  10.2,  15.3,  20.4,  25.5,  30.6,  35.7,  40.8,\n",
       "         45.9,  51. ]),\n",
       " <a list of 10 Patch objects>)"
      ]
     },
     "execution_count": 28,
     "metadata": {},
     "output_type": "execute_result"
    },
    {
     "data": {
      "image/png": "[encoded data removed]",
      "text/plain": [
       "<matplotlib.figure.Figure at 0x3f7e908>"
      ]
     },
     "metadata": {},
     "output_type": "display_data"
    }
   ],
   "source": [
    "restaurants=smalldf.business_id.unique()\n",
    "supports=[]\n",
    "for i,rest1 in enumerate(restaurants):\n",
    "    for j,rest2 in enumerate(restaurants):\n",
    "        if  i < j:\n",
    "            rest1_reviewers = smalldf[smalldf.business_id==rest1].user_id.unique()\n",
    "            rest2_reviewers = smalldf[smalldf.business_id==rest2].user_id.unique()\n",
    "            common_reviewers = set(rest1_reviewers).intersection(rest2_reviewers)\n",
    "            supports.append(len(common_reviewers))\n",
    "print \"Mean support is:\",np.mean(supports)\n",
    "plt.hist(supports)"
   ]
  },
  {
   "cell_type": "code",
   "execution_count": 29,
   "metadata": {
    "collapsed": true
   },
   "outputs": [],
   "source": [
    "from scipy.stats.stats import pearsonr\n",
    "def pearson_sim(rest1_reviews, rest2_reviews, n_common):\n",
    "    \"\"\"\n",
    "    Given a subframe of restaurant 1 reviews and a subframe of restaurant 2 reviews,\n",
    "    where the reviewers are those who have reviewed both restaurants, return \n",
    "    the pearson correlation coefficient between the user average subtracted ratings.\n",
    "    The case for zero common reviewers is handled separately. Its\n",
    "    ok to return a NaN if any of the individual variances are 0.\n",
    "    \"\"\"\n",
    "    if n_common==0:\n",
    "        rho=0.\n",
    "    else:\n",
    "        diff1=rest1_reviews['stars']-rest1_reviews['user_avg']\n",
    "        diff2=rest2_reviews['stars']-rest2_reviews['user_avg']\n",
    "        rho=pearsonr(diff1, diff2)[0]\n",
    "    return rho"
   ]
  },
  {
   "cell_type": "code",
   "execution_count": 30,
   "metadata": {
    "collapsed": true
   },
   "outputs": [],
   "source": [
    "def get_restaurant_reviews(restaurant_id, df, set_of_users):\n",
    "    \"\"\"\n",
    "    given a resturant id and a set of reviewers, return the sub-dataframe of their\n",
    "    reviews.\n",
    "    \"\"\"\n",
    "    mask = (df.user_id.isin(set_of_users)) & (df.business_id==restaurant_id)\n",
    "    reviews = df[mask]\n",
    "    reviews = reviews[reviews.user_id.duplicated()==False]\n",
    "    return reviews"
   ]
  },
  {
   "cell_type": "code",
   "execution_count": 31,
   "metadata": {
    "collapsed": true
   },
   "outputs": [],
   "source": [
    "def calculate_similarity(rest1, rest2, df, similarity_func):\n",
    "    # find common reviewers\n",
    "    rest1_reviewers = df[df.business_id==rest1].user_id.unique()\n",
    "    rest2_reviewers = df[df.business_id==rest2].user_id.unique()\n",
    "    common_reviewers = set(rest1_reviewers).intersection(rest2_reviewers)\n",
    "    n_common=len(common_reviewers)\n",
    "    #get reviews\n",
    "    rest1_reviews = get_restaurant_reviews(rest1, df, common_reviewers)\n",
    "    rest2_reviews = get_restaurant_reviews(rest2, df, common_reviewers)\n",
    "    sim=similarity_func(rest1_reviews, rest2_reviews, n_common)\n",
    "    if np.isnan(sim):\n",
    "        return 0, n_common\n",
    "    return sim, n_common"
   ]
  },
  {
   "cell_type": "code",
   "execution_count": 32,
   "metadata": {
    "collapsed": true
   },
   "outputs": [],
   "source": [
    "class Database:\n",
    "    \"A class representing a database of similaries and common supports\"\n",
    "    \n",
    "    def __init__(self, df):\n",
    "        \"the constructor, takes a reviews dataframe like smalldf as its argument\"\n",
    "        database={}\n",
    "        self.df=df\n",
    "        self.uniquebizids={v:k for (k,v) in enumerate(df.business_id.unique())}\n",
    "        keys=self.uniquebizids.keys()\n",
    "        l_keys=len(keys)\n",
    "        self.database_sim=np.zeros([l_keys,l_keys])\n",
    "        self.database_sup=np.zeros([l_keys, l_keys], dtype=np.int)\n",
    "        \n",
    "    def populate_by_calculating(self, similarity_func):\n",
    "        \"\"\"\n",
    "        a populator for every pair of businesses in df. takes similarity_func like\n",
    "        pearson_sim as argument\n",
    "        \"\"\"\n",
    "        items=self.uniquebizids.items()\n",
    "        for b1, i1 in items:\n",
    "            for b2, i2 in items:\n",
    "                if i1 < i2:\n",
    "                    sim, nsup=calculate_similarity(b1, b2, self.df, similarity_func)\n",
    "                    self.database_sim[i1][i2]=sim\n",
    "                    self.database_sim[i2][i1]=sim\n",
    "                    self.database_sup[i1][i2]=nsup\n",
    "                    self.database_sup[i2][i1]=nsup\n",
    "                elif i1==i2:\n",
    "                    nsup=self.df[self.df.business_id==b1].user_id.count()\n",
    "                    self.database_sim[i1][i1]=1.\n",
    "                    self.database_sup[i1][i1]=nsup\n",
    "                    \n",
    "\n",
    "    def get(self, b1, b2):\n",
    "        \"returns a tuple of similarity,common_support given two business ids\"\n",
    "        sim=self.database_sim[self.uniquebizids[b1]][self.uniquebizids[b2]]\n",
    "        nsup=self.database_sup[self.uniquebizids[b1]][self.uniquebizids[b2]]\n",
    "        return (sim, nsup)"
   ]
  },
  {
   "cell_type": "code",
   "execution_count": 33,
   "metadata": {
    "collapsed": true
   },
   "outputs": [],
   "source": [
    "db=Database(smalldf)\n",
    "db.populate_by_calculating(pearson_sim)"
   ]
  },
  {
   "cell_type": "code",
   "execution_count": 35,
   "metadata": {
    "collapsed": false,
    "scrolled": true
   },
   "outputs": [
    {
     "data": {
      "text/plain": [
       "array(['gaR5jDvZsOC0RQeY-W1eqQ', 'Gvox18F9QxsSS9qG2O8E-A',\n",
       "       'wsuzuLD3KV7L8oMinLCI0A', 'X57f6FWZiwI1wOidPPhOrQ',\n",
       "       'Frbldz6phswVyMNvwherhA', 'ovApUucCKSb9k0lTP2JieQ',\n",
       "       '9MnbQg7kfb_WgxoV0hXKSQ', 'Ah4i15g8Ow_zphzcpulTxQ',\n",
       "       'D6SCh4BwNb52wZIqXdS4JQ', '5jXwI9WpDxGDmzmkmE0RTg',\n",
       "       'XuByFsXXhnKmZ6hxucOj7A', 'kNtToQSP_Y5U8tznLXuCaw',\n",
       "       'boIILzBqhjWhq4G0BsB5_A', 'lWmDrnqgU6w3gFaJyn_1Uw',\n",
       "       'miMx3VNOW8qPJC5wEGaIOw', 'UUsS7SrTQQ2AvvpslfrvFA',\n",
       "       'th4pZ5LkoIIkb1Vmu_m2DA', 'SUktrYdNQD8k2vvkM4OpfA',\n",
       "       'Ez1U0wMD7Wws2BPAYfW3yQ', 'm3qsb7Xf9Pivg9GAvx-gog',\n",
       "       '5_cn7M-9swHrFbnqZtYGBQ', 'PmVxbit6HDDsEUS-j9aDfg',\n",
       "       'qeJnMI5RmyJ2TZvkqvjn6Q', 'kyXEnWKQGWSThY6EcjORuw',\n",
       "       'RTmIbq33chUSa-etGiF8Lg', 'ODURDhURWmZr6b--O4nt3w',\n",
       "       '0FrYsoVHheQGoXEQsH2d2Q', '0-WocGTpO3Zm4q1Zzz49Rw',\n",
       "       'LElQBiDw8HyU_LrbjP8C1A', 'mklo4H47YWK7f18YXTCEoA',\n",
       "       'L2c-qKZWumCmOCR-dqBLrg', 'CrIWqmuO2uQWwl3z11K_BA',\n",
       "       'S_9OaE_RBWBIXnUKvxJKsQ', 'NEVA0IYbawceL6kz5v5DAw',\n",
       "       'jeTfL2kCyBtmFGSrSQHqVw', 'A_wn7gdvQAv5F2-0CBjgEA',\n",
       "       'UmZdQID7QJoyg2R92mK3HA', 'VIJ2KiDKhUVhhpNylEIfog',\n",
       "       't_yiQnxUDdPPCN2z4QyezA', 'gnqHyA6gY2-m9S-FKt6Xqw',\n",
       "       '8mKV3KThn3wXGL3OVxrCNg', 'dIZcPB3CtNjMn4O_p8QFxw',\n",
       "       'kUICYu0N_TbtCz0Z8ynPFw', 'zswdqM8Av3KxVv9o7_6ORA',\n",
       "       'HAgPykErkXpPJlwOHbY01Q', 'u8C8pRvaHXg3PgDrsUHJHQ',\n",
       "       'iZleRh4SOtf4GquA5L8WXw', 'pMiz7SP82Tknv1NbVqoSfg',\n",
       "       'RnGG5bAz4nTPo_Ui99Kzbg', 'hvPPw19VdGRsOEkxgyD7tg',\n",
       "       'O3zVw-VAcJi8ta4B6v5iAA', 'dn9lwYUxmhs_mLKPu7L25Q',\n",
       "       'iLxG2Oo8HNSZFvJvba4W6g', 'vAUDxhbsWZKI8NJlsYwCMA',\n",
       "       'PGUuVJEzM0H-ZMB6m1D6Ig', 'e9shtyZ7-9GYcbPIVV--XQ',\n",
       "       'BoTQepQTjGbTXA4g4Hj-WA', 'jK8PNNtv4RI6m-xd-tGjPQ',\n",
       "       'JbnNk6do3aHF3Kr1bX4HzQ', 'e88VWa9xdHmSFdMZne9eLQ',\n",
       "       'F1qPjasn0R6-j8sa6iYNmA', 'zp3rZNu-5qonTL3ByPYOUg',\n",
       "       '_TWp4gqGF7tQUGloTClcNg', 'zQNJwaWR1M1zDjLNVJiNEw',\n",
       "       'oWQwUw8xfQgi1nVNKgS6vA', 'TEXUVhF-G_v2Sxwqti8HQA',\n",
       "       'l4x5FFzfiCFrGN0S-uZbBQ', 'NSzhahVpI_B32snhJHM0HA',\n",
       "       'QdganL5AW9E_fNoRVroLig', 't952QLgrh-5l1woJ4IFgUA',\n",
       "       'aLdMqYoHqc77JjOybdPX-A', 'PBmfdx-tC2D54FI3HtcKww',\n",
       "       'VHsNB3pdGVcRgs6C3jt6Zg', 'ZQH1s3nTDyclGrQ160NrEQ',\n",
       "       'pVLZQRs67CF4gZCEYCe_3Q', 'RQxLNvAra_MUUPHdhukilA',\n",
       "       'o13eH93qmWVNFZogkjhd9w', 'rXIDrS8Rz8r09vH4gjHfGQ',\n",
       "       'PTQVaWA-I5ZLzwy5oBbVMg', 'jKxES7iLV63H_PfyGVGIDw',\n",
       "       'CpNMXASiwtJv5eCDf0n63g', '4cPM1Hcj3UiN3fxyOsiR9w',\n",
       "       'w5Y_FiGPSlPemJVxAZZToQ', '0ptR21GHRuQ1MFtxGNcxzw',\n",
       "       '0grgvnq4GgoY-estWytUhg', 'Y-rCSbMqXWk54bKRAIoyUQ',\n",
       "       'abA0s0uxoeOn7zNm-1dDxw', 'E6QAh8UPRo6Tlg6hkcWCHw',\n",
       "       '_a6jhRFIgOe74U73T5B-Ww', 'vqEtZ7CtNB9G8WMzjwJA2g',\n",
       "       'SCxtzXcvyk1hygdmOZqd1A', 'xWGn7oqLOZu_00H8pZOtsQ',\n",
       "       '6ockUmdOBYBApEsUCJkBzA', 'yiFcujhdkeDhmXRufMG-lw',\n",
       "       'SgG5E7PUrCIsEMP0BVSlTg', 'GWS5s8HSm1zjqMLJD7wQLg',\n",
       "       'C31ExBTn_6UxbTVkWPtNkg', 'C_Zj7H7bUJ5kGCwFmEwW6w',\n",
       "       't0f8qXrKGNWv6j8MGmosRg', '5CSGxhesXkz2XNQB8AP6Kw',\n",
       "       'D-B5LsTHJgrhsHVex4gyHA', 'vsoEZauF4lrADIqCYXySFQ'], dtype=object)"
      ]
     },
     "execution_count": 35,
     "metadata": {},
     "output_type": "execute_result"
    }
   ],
   "source": [
    "smalldf.business_id.unique()"
   ]
  },
  {
   "cell_type": "code",
   "execution_count": 36,
   "metadata": {
    "collapsed": false
   },
   "outputs": [
    {
     "data": {
      "text/plain": [
       "'hAOPSgq9jZ-DiDlOXIpm9g'"
      ]
     },
     "execution_count": 36,
     "metadata": {},
     "output_type": "execute_result"
    }
   ],
   "source": [
    "smalldf.user_id[20].encode('ascii','ignore')"
   ]
  },
  {
   "cell_type": "code",
   "execution_count": 37,
   "metadata": {
    "collapsed": false
   },
   "outputs": [
    {
     "data": {
      "text/plain": [
       "(-0.59852674689187091, 3)"
      ]
     },
     "execution_count": 37,
     "metadata": {},
     "output_type": "execute_result"
    }
   ],
   "source": [
    "db.get(\"RTmIbq33chUSa-etGiF8Lg\", \"yiFcujhdkeDhmXRufMG-lw\")"
   ]
  },
  {
   "cell_type": "code",
   "execution_count": 38,
   "metadata": {
    "collapsed": true
   },
   "outputs": [],
   "source": [
    "def shrunk_sim(sim, n_common, reg=3.):\n",
    "    \"takes a similarity and shrinks it down by using the regularizer\"\n",
    "    ssim=(n_common*sim)/(n_common+reg)\n",
    "    return ssim"
   ]
  },
  {
   "cell_type": "code",
   "execution_count": 39,
   "metadata": {
    "collapsed": true
   },
   "outputs": [],
   "source": [
    "from operator import itemgetter\n",
    "def knearest(restaurant_id, set_of_restaurants, dbase, k=7, reg=3.):\n",
    "    \"\"\"\n",
    "    Given a restaurant_id, dataframe, and database, get a sorted list of the\n",
    "    k most similar restaurants from the entire database.\n",
    "    \"\"\"\n",
    "    similars=[]\n",
    "    for other_rest_id in set_of_restaurants:\n",
    "        if other_rest_id!=restaurant_id:\n",
    "            sim, nc=dbase.get(restaurant_id, other_rest_id)\n",
    "            ssim=shrunk_sim(sim, nc, reg=reg)\n",
    "            similars.append((other_rest_id, ssim, nc ))\n",
    "    similars=sorted(similars, key=itemgetter(1), reverse=True)\n",
    "    return similars[0:k]"
   ]
  },
  {
   "cell_type": "code",
   "execution_count": 44,
   "metadata": {
    "collapsed": true
   },
   "outputs": [],
   "source": [
    "testbizid=\"CpNMXASiwtJv5eCDf0n63g\"\n",
    "testbizid2=\"mklo4H47YWK7f18YXTCEoA\"\n",
    "testbizid4=\"RTmIbq33chUSa-etGiF8Lg\"\n",
    "testbizid5=\"yiFcujhdkeDhmXRufMG-lw \""
   ]
  },
  {
   "cell_type": "code",
   "execution_count": 45,
   "metadata": {
    "collapsed": true
   },
   "outputs": [],
   "source": [
    "def biznamefromid(df, theid):\n",
    "    return df['biz_name'][df['business_id']==theid].values[0]\n",
    "def usernamefromid(df, theid):\n",
    "    return df['user_name'][df['user_id']==theid].values[0]"
   ]
  },
  {
   "cell_type": "code",
   "execution_count": 46,
   "metadata": {
    "collapsed": false
   },
   "outputs": [
    {
     "name": "stdout",
     "output_type": "stream",
     "text": [
      "CpNMXASiwtJv5eCDf0n63g Alexander's Steakhouse\n",
      "mklo4H47YWK7f18YXTCEoA Murphy's Pub\n",
      "RTmIbq33chUSa-etGiF8Lg Bombay Indian Grill\n"
     ]
    }
   ],
   "source": [
    "print testbizid, biznamefromid(smalldf,testbizid)\n",
    "print testbizid2, biznamefromid(smalldf, testbizid2)\n",
    "print testbizid4, biznamefromid(smalldf, testbizid4)"
   ]
  },
  {
   "cell_type": "code",
   "execution_count": 47,
   "metadata": {
    "collapsed": false
   },
   "outputs": [
    {
     "name": "stdout",
     "output_type": "stream",
     "text": [
      "For  Alexander's Steakhouse , top matches are:\n",
      "0 Golden Wok | Sim 0.5 | Support 3\n",
      "1 Silvercreek | Sim 0.475384265506 | Support 3\n",
      "2 Guido's Bar & Grill | Sim 0.469486330996 | Support 3\n",
      "3 Thara Thai | Sim 0.465227186511 | Support 4\n",
      "4 Zorba's Restaurant | Sim 0.4 | Support 2\n",
      "5 Jupiter's Pizzeria and Billiards | Sim 0.4 | Support 2\n",
      "6 Golden Harbor Authentic Chinese Cuisine | Sim 0.4 | Support 2\n"
     ]
    }
   ],
   "source": [
    "tops=knearest(testbizid, smalldf.business_id.unique(), db, k=7, reg=3.)\n",
    "print \"For \",biznamefromid(smalldf, testbizid), \", top matches are:\"\n",
    "for i, (biz_id, sim, nc) in enumerate(tops):\n",
    "    print i,biznamefromid(smalldf,biz_id), \"| Sim\", sim, \"| Support\",nc"
   ]
  },
  {
   "cell_type": "code",
   "execution_count": 48,
   "metadata": {
    "collapsed": false
   },
   "outputs": [
    {
     "name": "stdout",
     "output_type": "stream",
     "text": [
      "For  Murphy's Pub , top matches are:\n",
      "0 Timpone's | Sim 0.628754794794 | Support 10\n",
      "1 My Thai | Sim 0.499990923123 | Support 3\n",
      "2 Sam's Cafe | Sim 0.476647525852 | Support 3\n",
      "3 Boltini Lounge | Sim 0.469173939898 | Support 10\n",
      "4 Mas Amigos | Sim 0.466459838545 | Support 3\n",
      "5 Merry-Ann's Diner | Sim 0.453297629738 | Support 6\n",
      "6 Li'l Porgy's Bbq | Sim 0.420599718172 | Support 3\n"
     ]
    }
   ],
   "source": [
    "tops2=knearest(testbizid2, smalldf.business_id.unique(), db, k=7, reg=3.)\n",
    "print \"For \",biznamefromid(smalldf, testbizid2), \", top matches are:\"\n",
    "for i, (biz_id, sim, nc) in enumerate(tops2):\n",
    "    print i,biznamefromid(smalldf,biz_id), \"| Sim\", sim, \"| Support\",nc"
   ]
  },
  {
   "cell_type": "code",
   "execution_count": 49,
   "metadata": {
    "collapsed": false
   },
   "outputs": [
    {
     "name": "stdout",
     "output_type": "stream",
     "text": [
      "For  Bombay Indian Grill , top matches are:\n",
      "0 Sam's Cafe | Sim 0.571428571429 | Support 4\n",
      "1 Big Grove Tavern | Sim 0.571428571429 | Support 4\n",
      "2 Yellowfin Japanese Restaurant | Sim 0.570784145654 | Support 6\n",
      "3 Zorba's Restaurant | Sim 0.490921232418 | Support 5\n",
      "4 Kamakura Japanese Restaurant | Sim 0.451316980093 | Support 10\n",
      "5 Le Peep Restaurant | Sim 0.421721008463 | Support 5\n",
      "6 Pekara Bakery and Bistro | Sim 0.416509318262 | Support 6\n"
     ]
    }
   ],
   "source": [
    "tops2=knearest(testbizid4, smalldf.business_id.unique(), db, k=7, reg=3.)\n",
    "print \"For \",biznamefromid(smalldf, testbizid4), \", top matches are:\"\n",
    "for i, (biz_id, sim, nc) in enumerate(tops2):\n",
    "    print i,biznamefromid(smalldf,biz_id), \"| Sim\", sim, \"| Support\",nc"
   ]
  },
  {
   "cell_type": "code",
   "execution_count": 67,
   "metadata": {
    "collapsed": false
   },
   "outputs": [],
   "source": [
    "def get_user_top_choices(user_id, df, numchoices=5):\n",
    "    \"get the sorted top 5 restaurants for a user by the star rating the user gave them\"\n",
    "    udf=df[df.user_id==user_id][['business_id','stars']].sort(['stars'], ascending=False).head(numchoices)\n",
    "    return udf\n",
    "testuserid=\"4ssDCBvb9LC2cMpWxjhpRQ\"\n",
    "testuserid2=\"AJcwRgdkHtu3kOrEKlXq8A\"\n",
    "testuserid3=\"mlLP01xi8sRGlA1uPpDlkA\"\n",
    "testuserid4= \"cPJZGsyD1onwRMpaUyrCUA\"\n",
    "testuserid5=\"ZdYHJ-hctaaDeH1CpP7-EA\"\n"
   ]
  },
  {
   "cell_type": "code",
   "execution_count": 54,
   "metadata": {
    "collapsed": false,
    "scrolled": true
   },
   "outputs": [
    {
     "data": {
      "text/plain": [
       "array(['hAOPSgq9jZ-DiDlOXIpm9g', 'pFRE2mNCQvx9DUU542c6Dw',\n",
       "       'gxRw9c2lvijXBNhKU5i7_g', 'NAFABx0yBkXYtosg_LmyKw',\n",
       "       'qmjoMFMZdLH69_6eGTGDZw', '59ygiX9-a8B91rb5qvtIgA',\n",
       "       '-C1axHDk0GJCiaKvsNR3eA', 'emFFLLncRBFGiUJT1n6U_Q',\n",
       "       'GdqndXu2xA_Kwbqs8MFShA', 'Rdtp3Yam3moqnGIG3td3wA',\n",
       "       '4ssDCBvb9LC2cMpWxjhpRQ', 'z3WHx5PVY6BglO4d6Uo9Ww',\n",
       "       'IYJQXv-KtGjxO6ehyET0LQ', 'xN-xoLhTHUFfTS_BMGG0xg',\n",
       "       'rZEbBGVeMDv0bhP_DnwCjg', 'I5an19AFIRx-pbKUCEgVQw',\n",
       "       '3L7nHnaeSHSdZXzV_vdvAQ', '01wsBmFLD_BLELpEdGCiwg',\n",
       "       'VVimjPD7f8O5D1fhy5vSpw', 'QZ_Arlwoj0ghfBvg69rjOw',\n",
       "       '2-iZ3lifB5gGWcpP6EgCCw', 'pJyV8I6JsKG_iSzPLvb5AA',\n",
       "       'GxkY7BqazkQu6I9HBDpbqQ', 'nHRFe2uZfrdsUF2yaDoPlQ',\n",
       "       'pfWK0FcNG4UMhxl6jfR9fQ', 'FRcwtlSeW1TybhS7BemvtQ',\n",
       "       'G_eZLhf1Kw5WBpMlXHizNQ', 'D7vqQ2D1mmj_1EV1lNXsnQ',\n",
       "       'JCyFu9PSz5H1BedJ2V3F6g', 'Jiw1kr7W1IbbqL1p_V7d1A',\n",
       "       'PVyZXgOkVtnU6966FDFhuw', 'a0V843Mv4b34VkRwB_li5Q',\n",
       "       'CWk7pfnUyI07ow-GtBlt6A', '0eAOgDxOrm8lPv3SxxdsCQ',\n",
       "       'e1dCILkMNfXdJ7pQP5q99w', 'XClZgZxPw4sTEnkqzh-wGA',\n",
       "       'jLoBVpTnw9AsAc7J2fByhA', 'OEM8Gq142qR0g_PZe2Sj2w',\n",
       "       'nqMG01GBhD381FKn0hixow', '8_Hs9Bh5tgFdc_1ycxHChg',\n",
       "       'rLAGIgoBHL3GPLRiQT9PzA', 'HcM1eJ9s8khmlr6Df-KepA',\n",
       "       'k2RPYM69kQRKuVlK97H6JA', '96F3RC1oe1tQAP3fIauP3A',\n",
       "       'B8WruADju0mx5FlkLfYYfw', 'PGsrhKu41CWhs152bctWkQ',\n",
       "       'ib-eTBL3Sl4kuBB7txtl1A', 'Jl2UkzX4G12wsft3vKQ2AQ',\n",
       "       'Up5p8eREOLuKuuOulFymoQ', 't43aBwH2E_OiR3_CBuhC-w',\n",
       "       'IxiVty8zfZC093jiaFaG3A', '-ZQknHztP6Kpf2DKtCF51w',\n",
       "       'yB1o7DK2R34VgQx8FdmG4g', 'Rg3C1gCJsyshSpp-35HLbQ',\n",
       "       'BuGjP27rEGWlkGhzOcehpg', '5F_ASUSCHFf3YotkKioZ5w',\n",
       "       'KPjS9qvfX2ucNtFF--tZGw', 'Qnh7hgDpfMAD96wGUVmAWw',\n",
       "       'n-K1Plk48inmLvU3806jFg', 'WHge08rDV2tw_Wc65QCsFw',\n",
       "       'x52p89JRZtOqlf2VCvrmBw', 'MrsRJa4SWLq8XLU1RtPdlw',\n",
       "       'z-08626Q7y-14JoONYOZ-w', 'yqcWOC-5Jl-BJ8kSkKQB2A',\n",
       "       'WJdXYIM5cphh_28C5Bhnfw', 'CVAU1YkPleuUzxzW4P-YOw',\n",
       "       'algWLZgj76v00Fmy_i3Y9g', 'U1glh-pEYQfsffFgxwKHHQ',\n",
       "       'z_9oeZ5aN8g8AzPNENht8w', 'eZZUxt0aNMTg0di_hLBzbA',\n",
       "       'q6UCOzZHK3L4gpxgwM2V_w', '29cMd3kgzjNJPEA4-UlLdA',\n",
       "       '5wVLW7EhvHaKoYy3tRhfrg', 'qntQp9UoeP6ju8D_W0Y0cw',\n",
       "       'BJz2fV3HS3xsHF7rwPhnRg', 'AJcwRgdkHtu3kOrEKlXq8A',\n",
       "       's_du-SugNa7XzjEFcegMbg', 'T5VC9R9QSgpKVdZfUP5yEQ',\n",
       "       'LySrgOhB-NQ_xj7pbnYbYQ', 'vE9NSpFFjWy6l-RpKqrwiA',\n",
       "       'p-2tjwAQ_8pB5r552gQNFQ', '4HvIzTHB9o-aI6M8IO3SPQ',\n",
       "       'tvn8fCy1FdEOztS-MjCbCQ', 'mYUurN0VcUwdLOZaUTN0gg',\n",
       "       'hKBQ-PFlcB-t5FK3HUxoyQ', 'sI1AEPejbOupnZRDNlcvaQ',\n",
       "       'ZT70ZzpVrWl013A-sId3Kw', '5QOtcHU1SoqEqBCRR6FhsA',\n",
       "       '9DN5D2IuLww4Yup4mNhLFw', 'cYFnFLWOTUmk1wJmbTp3ew',\n",
       "       'M1fk_IYOyZBKIw6ov8Q9hg', 'mpHBEhkoTdfX1G96Wfhmtg',\n",
       "       'ds-C9AXGATTmvsCEWCqmZg', 'fnNSkK1yp5_Th48_gDkj_g',\n",
       "       'c4nSRWTJj3DgtyVWPPTfsQ', 'jyD0PR9TueJMca0xCgwFfQ',\n",
       "       'ymi0YEAIyZm9DN0H-OBb5A', 'UgolKvzsn6I6SXhSiqm8dA',\n",
       "       'w0yCkBGILI7EJgAn6LFgPA', 'ieRXh0f_Tax7fjnGE-C-Tg',\n",
       "       '5gLamv0DlFj9-4QdnbWeoA', 'yLk3DFzlbzJYn0ACSQ8NAA',\n",
       "       'KHjroLTG6Ah8LyItTyB2yw', 'cxzTjRhIxfUKZDCjwCJ8EA',\n",
       "       'KzE3Kqn9Swz50hAKk7eXmw', 'r_YZfGYzsldQZv_lnqObMQ',\n",
       "       'iZ22n3T3m6h8PbJajovGnQ', 'gA7kbmCtGq0Mb5GX0viZ-Q',\n",
       "       'NVYsLQLS6nQVHui82zb4uQ', 'eahIUq2PMfzrW42K5dpQOA',\n",
       "       'B2cAVkDQJ3GgLbYyMihaeg', 'dOVG-e3EY5AuwY3bq5rBpA',\n",
       "       'vMcGsYt7uKhhm1OQxoqEag', 'S3FNxH875KYL6YBgkVJHhg',\n",
       "       'p-sVXVADr2uBZmdme2EDzw', 'xU_zqbdRuW2KTCCa7b5D_w',\n",
       "       'sz0FdhdPhHVQaqBoECyMSA', 'tMqxceO84JQDMp7zYOl2LQ',\n",
       "       '8zpZLEWweD0Tp6wLTzlZsQ', 'kSXl89kfPCKtcWGj0Oi0uA',\n",
       "       'V1BoCbMLHPhb0OqmeL76lQ', 'NAJgBheNVQ6DudaLCBrJyw',\n",
       "       'jOysrKVZvJDSZgYU-D72ww', 'cek_1lxcWUmOkVBtYMbQ-w',\n",
       "       'ZVsn1LK09IkY865aW1U-1A', 'JoKxzSvlqAhlsgrzRZTeFA',\n",
       "       'u7UaLSwFyxVOjD8n6V4ROA', 'sNpUeQG_65Ph6UWrzM5g9g',\n",
       "       'orf-rH5zOeQNNnkLKFDcWQ', 'syuzk9vxQ-Qw0M20hFA_zw',\n",
       "       'b-v0kiRnyLeQ05qTBcGQIQ', '_0FoPvVGFGbhrQG-1Bqh3w',\n",
       "       'pSUp9rQHnNHzzYHMMd_mVQ', '-dnm4Ym4hZ6yWUr_ATD-tA',\n",
       "       'NfoAmvEZ3NVTAtOEshCvwQ', '6TMDELkjDW0XFazQy1Aeyg',\n",
       "       'Q5osXZdwRjmauDtZmksgCA', 'lsabqVi48xglkCa2HaqAdA',\n",
       "       'sMPqByfefvg_ITlz9t5dPA', '6vYOgOaU3Wy79yxaglfq9g',\n",
       "       'iSqAA0keruU-ZZro7jW0zQ', 'NpoGo7sRnmL8rJi0LJBysg',\n",
       "       'hoiqt3CkjzekFe53vVynQg', 'C_ZQrG6VyPTtCwUHSDJu7w',\n",
       "       'StYuEMDMWO1IOdMz5zgE8Q', 'c2RGCnsdIma5kAzLA1BC0A',\n",
       "       'zb-iBeFtkm3U8kTMLPHAmA', 'Cj-oTS63HOZgA6rqosDhqQ',\n",
       "       '4bsc9m93QmN6bMocwaMS5w', 'mlLP01xi8sRGlA1uPpDlkA',\n",
       "       'STcrjP1twU03Vk6syLft7g', 'ktMxLjSeU-anJClkYNl0_A',\n",
       "       'OhS5ZfSqA3Miuh2cw0W3Qg', 'mEIV7_uuWrk5JscQDM18Zw',\n",
       "       'dbv6-7hsnARpARPZzyI3BQ', 'o-t-i7nbT5N_cmkCXs5oDQ',\n",
       "       'PITvmwan3eLPi8zZjGaRTw', 'VzyVwbMC15tEbsGD4eiUkQ',\n",
       "       'N8Iriob3n95cfybxXF19DA', 'vvT2arh-_69vACIxBJefbw',\n",
       "       '722_fCJ6HiUcidSi2nGkZA', '6MtHmWlJ3Y37EC7zH4PDwg',\n",
       "       'xzFwCeHtPczly7G8BRx9Qg', 'scVRj-Rkad7zBKTdWayBVQ',\n",
       "       'xq8MehjzMhUEl33Eun4OCw', 'g6kWg8sohsmwrQRDaaJakg',\n",
       "       'Myy-tV1aKksxkQ2R7QUkAQ', 'G-C51jPkP8pWbBu4bJ8Z7g',\n",
       "       'tc1SBdLmpLGWmjI_4UIhuA', '8c53BdBWPcbioN3WZJWdCA',\n",
       "       '4mjnkd8oJVCfBKN3i4rB-g', 'kcGxErezbQca1LDmIV0Sqg',\n",
       "       '14e9dGCCCZG2SYzgag9nEw', 'tXRWNj9yYlQt0bNzPsx_nQ',\n",
       "       'UrmiwFKoCqG88EZ0MI-BbQ', 'dP2vQRFB0xK5bD-aCGZM1w',\n",
       "       'fcNU65OaCj7slBJ60VSQgw', 'GJUP_9KUzyLs47QUWDxFhA',\n",
       "       'VrD_AgiFvzqtlR15vir3SQ', 'VnlUnPrfae-fbqDoXuvDbw',\n",
       "       'BitdrPsmX1SJtNHFpWuj5w', 'wHNHNzMghPsCSAkqR_OxPw',\n",
       "       'KIizo_5pD0EAuySDIoZFVA', 'TDOVp-BzKusKbNB5myoDeQ',\n",
       "       'R6TPmf9CSSn3ghW2jKr2mg', 'q1iQrhCFPaDnwmfsxFeXpg',\n",
       "       'rTVv0EDItiAXBfV2hn97Ng', 'v1s9uzRwYBuqJJuJNuoQZw',\n",
       "       'FbqEkpphcS6BgSIKJ-yr4A', 'a4seSZMF9QxPBGAJ9MjaPw',\n",
       "       'ii1lLmpRH4LzPXuhU9Zw2Q', 'ITDsWBToxtTxRBruRsJDrw',\n",
       "       '_tm1zLDjcJ_uwIBPZu-4jQ', 'wzb5nL73Rn5K3o7-00eAuQ',\n",
       "       'D7ypVwmT8535TsPslvVUQw', 'KDHZXfMBZEwDTIsXwACyew',\n",
       "       'oTx1cAIxFlFFAAj8BIeG9g', '3wfIh8zXcgPmJs0UBgs_IQ',\n",
       "       'j3jaM4FyZPlDZy0m17stlw', 'sGeZFu7RcU-mrOuoUIuojA',\n",
       "       'A1dawI64RuC9V_wtcU3Cow', '3l_Wj-tJzjB1rX-MdJHYiA',\n",
       "       'XBW6CmmjgNLogQSKJUqLzg', 'MEyGAMxYTerj0H2-gxpH1w',\n",
       "       'U_DL5GbEdUfvrcswuXY9ng', 'yNhw-lJXpGb9lEWM_7ssog',\n",
       "       'cmZUBmABvxacJoI5bI53Dw', '7ks1xim2bO1_Q4VuakvLwg',\n",
       "       'T4C7ALo8ICwTVBguoIZzIw', 'oyjcRNprmlNknl1VpyHBOA',\n",
       "       'yVrRQPuGc_n7jkZ1T50aaw', 'GU7qqX9bmtsyQyzthgqWBg',\n",
       "       'pCERD9FnbRnsbPFwCi6KIg', 'UumVsuqKGs4c1fWgqB5tyQ',\n",
       "       '1IU3px93DJUTV1p3QXFSGw', 'BuQIYny5o4aaEhUvQ56LaQ',\n",
       "       '1COrnp000xLM8B2CkOFu6w', 'ImkpaLVLtzMuKi_Ge1cOWw',\n",
       "       'Qv-_3zPz_8nUQP6M3JBcvg', 'ASFSqQTc2Hav7rKw_0KQdg',\n",
       "       'EYJ5p3uzzxx1lQhqV9goSg', 'HOxLOZyMVTkIELBmtrqTvg',\n",
       "       'pCzU60pXGYArl_yHEXp4IA', 'kniH8k31TJ1DVd5Nz-7LwQ',\n",
       "       'f0SHitrEqc5k0DwWyPlY9w', 'MFoDRss_gXO4J9nNxkxtFw',\n",
       "       'Qvlw_da3Dfa-xHukFQlnlQ', '6EHbIv5w2I4XbXs3dG_D1Q',\n",
       "       'IhSIsMNeTiecAAvRfURb9w', 'QehMW7YNxEBhyKDBsPi7Dg',\n",
       "       'ohYnCSs6eTl7O6o3UySpgg', 'WmfvEE9bXozI8slUtJkCNA',\n",
       "       'XvbU631-FQ4GTS2zMa-YvQ', 'KZzdRSve51cpSb8G3RoVbg',\n",
       "       '8o1bjo-Ko8CleRhLQ14KuA', 'yNfFV0_BeMetIbVMcDIWng',\n",
       "       'rwx6UVjm8efnIroz8e_FSw', 'sCYTqWFF-ZEyuvk4O7PF7Q',\n",
       "       'NXmp8CW4RFKAU0oNWb--wA', 'lg1UvP-7KLtjSdxbFbt3Aw',\n",
       "       'Gt1jrjcA31JDyGSmaa1qIA', 'HXxhqWLbeylzCrScTvI1Kw',\n",
       "       '7jRqME7-krCDvdkR-dadgA', '24lYwNhWD0_n6ktX1HBQaA',\n",
       "       'FW5F5QzzMoeRdIib1OyNOw', 'AMRCW0gq2eoT3j9IrogABA',\n",
       "       'r_PW5HpbLFeBRfpKz4xqBg', '69L38C7EgRSp1FQv0VeZFw',\n",
       "       'KIq2JTWwD_ol7DwusTCH_g', 'Ev55kUL77kZk6xCYam5www',\n",
       "       'dMrwEzuh8-ALhT5AxU_XWQ', 'XtrYx0k7bNos0APL0QdElw',\n",
       "       'AFCSE7BT3FGle35em1WWVw', 'EyijGEmk9MP-ufMOG-mlmw',\n",
       "       'PV8XF-OLG7GJtpgfOsKgYw', 'dI1xL1mipCf4MXj9_BRcuw',\n",
       "       'ypnn6O0fFRDlHrMYOEUDBw', 'mZujTrZN57WyW9oEmqI1TA',\n",
       "       'fiHIW2tQNkjMedgz7tC_sA', '0KJs28i3bDhbxhQbgY0i9w',\n",
       "       'q--tunc_TsR-dJFer6dSNg', 'DAf3UOAONCpgETWlNTERKg',\n",
       "       'X6w4FJkpFaK_8gz92D2c1A', 'HY-euNTAVAkwcfgLL9i2Jw',\n",
       "       'hZ-ZtZ3bqZg6GhWepqj20g', 'Fi8pBHcFvRkaJO88q6T69A',\n",
       "       'Fqe0t4Yg6QJ_p44_wsmPzg', '05C4aRhRYpwcoGCT537jLQ',\n",
       "       '2EMNb3AUAvJzSy4Dsg0Rfw', 'qv-AQbVFnDXR76O_GDqAHQ',\n",
       "       'Y9LBTbwO4g0BmdBIi0D3CA', '-nSq0LzvWU86yKMkZnXBpA',\n",
       "       'Yw_3b4FvSCWQD8Ta5fL5Uw', 'eNcJSOMF19kxnCrrEIdQUg',\n",
       "       'zuKR4B3CdrnA4HpqFvaVJQ', 'CdJ1M_EJhcdG4Cul6Tc62w',\n",
       "       'AftFelF-uWV83h4nKTFawQ', 'yURhWF5jdSjHCG0wb83qgg',\n",
       "       'v4vbO8hEjE93zuXO3myVLQ', '1pMpk7naYYQJjHiM8fRJag',\n",
       "       '5meI87u7nmXrfacjvPU_6A', 'lOOx1rNylC1g-Mq_hpajQA',\n",
       "       '0FT_PIdoX_4nXoQqMrOFew', 'JMC-c80zYOx-T6xmC95lrw',\n",
       "       'fwSsSQXLvip6MkayAa_vyQ', 'VGJyLo9Z1tZj-T6W0yrJpg',\n",
       "       '1iQX9C2SuDzS2LZUjtA8Vw', 'EN_yWsxwJ_rHY1DbCjG7kA',\n",
       "       '3czR3J308DBNl29InROr3g', 'EFaH2nEaD75Ow2YSwyPi6g',\n",
       "       'CfKT4Pr7QYIUlcq4fnKfgg', '2DOMvJe5EfvSHrKaOH-tTQ',\n",
       "       'KLn-IvwKSCTRNedb6nt6uQ', '5AyaCHkJaeMLmjzu-NwZyQ',\n",
       "       'iXAtK6wdiRdum5Znwx_A5g', '4eTes8ujHRoBoAFtFtYWmw',\n",
       "       'g5qYLlPIIGQuGDCVmxWVyQ', 'c_BJYuAQgTo4636WIMnYRQ',\n",
       "       'g4r8eIihK8cu0sOThENy1w', 'aCaWGbG_xNc0Kjz-GvnF0w',\n",
       "       'ENVHm6jWKNCOOUOGDdDOlA', 'HXOfPXPMvdXNpQ_l0RRjKw',\n",
       "       'qUKTWgD2uldDepClTlUMjg', '-KduD3wwydWDq2GrODh2tw',\n",
       "       'xYVKd66qtLjYVXRqo6mQvw', 'Ur91BwZjjrgBDb3dACcDiQ',\n",
       "       'Tvm-jf8rVF4373Y_wmt0Nw', '481d05wubIrgyZHNYFzJ_A',\n",
       "       'cPJZGsyD1onwRMpaUyrCUA', 'SIzk-Bc0UGhNhdYzQ7qeIg',\n",
       "       'hiGXFFDddtqPX1o79C1Vrg', 'k4qx0yGRfwjtnIYJDoiQfA',\n",
       "       'VqbEZAPmA4QuXOyD3-TItQ', 'iliJdh6QQFDvSmTTiFmisg',\n",
       "       'bbebLkBAQiRuxHKV8R3ZnQ', '5_o0mFCKpmkW-phFMxo4pQ',\n",
       "       'MOA0Jc5ql2nXBySL1RtQHg', 'uLJ07HGE-SHf7anYwo96jw',\n",
       "       'Rx7DNBmPPShVjlcQidGuTw', '6jrYnr8T_UdbGGlr2z19og',\n",
       "       'NtWuNyrtB0VeKBhIPhTtRA', '22MhrUQrcamK25LYcTBe4A',\n",
       "       'Z70OmEUjlgn-T99hzGI2bQ', 'yWA8xYalMdCkCpf9CCtCWw',\n",
       "       '2jXDBVwqk622i91YTsN--g', 'PAbX2enaEQKFQoPgwB3-_A',\n",
       "       'TkPIaT0uRe0sjX58PDzrQw', 'xBfli3q1XjnKnJzSTMmZww',\n",
       "       'r1E3MZkj-Ci3zmjS1RCr-w', 'jjQ59YhdRrL3gvG8oIxM8Q',\n",
       "       'd4M_EHdZVUsyZ53Vp-b6rA', 'vFDhl7JAo8aF9hSkkyfGMg',\n",
       "       'ofo9LcfXlqf7HFmbaQ-_bw', 'g8Av_q05eVCMVlbr0kCP4w',\n",
       "       'uIZWBUF9ovbXWG2dVJ6Zfw', 'Ed0AtwUarnUYAphtQjYHsg',\n",
       "       'ljk1DxDWC-iP9nUBaE_2FQ', '8-U6FgqWxNmXz80JhJQXZg',\n",
       "       'U1Q5J5i0fgWz3xr_ia43Kw', 'E_1rVCWq4NgbXhEjMC651Q',\n",
       "       '0H63QolBQDmsAuO272sZIw', 'v_phwmv6fky4cq9dF1WyhA',\n",
       "       '5D6smmt9wUcuMnXwS0Wn5Q', 'W1B5irsU3ka7H5HVEywGxA',\n",
       "       'GJKHtkXC789aJU1sz2TkZg', 'uU2NamUrKhZzOctnrN3KRg',\n",
       "       'N5EK5jSHIf91MnnYpQKQJQ', 'NfJOIoFS4vd5VuqIyRD2Kg',\n",
       "       'y2XTVOxZtf_Yy19wQh9T1g', 'bOl_zAPRtQaQb1kZElrKmQ',\n",
       "       '0ql-awhVLO50urRBZH74og', 'wm4h-0shh9AFimyfCUnRHw',\n",
       "       '4F59l8scDgg6BQx0HGRtcQ', 'C3w4J9rGKCaX9Xsq5Y_I_g',\n",
       "       'weCeiXxZBhBY5mX9y6jS1A', 'cWe4LG52f747D2K2Atxu3Q',\n",
       "       'gYweIEKEgMEGQprF7yw6hQ', '7ZGG0zAaJAyymNnugTsqzA',\n",
       "       '0w3Cp_NUyaOOVEwZW4a4XQ', 'MoO7bwAbGDjPAKURfJe36w',\n",
       "       '7mIWij8XKfYgo0zG0vZmcw', 'GS8_c5JANYuYzc1_7GS-Ug',\n",
       "       'cuhDjaxd6IKEa4KpW6H1kg', 'ZdYHJ-hctaaDeH1CpP7-EA',\n",
       "       'NyyxzPuzZmv9GVVH4Zptow', 'ZgVW5D4FB-aI6nx-oNxWow',\n",
       "       'zyEWeoMiTduGGaGU0i7jTw', 'p7RiGtUfifXYYfDcxcGcFg',\n",
       "       '2mdlIKeLV04q_wcPqNvRWA', 'DI_UG-rvI0XQkv8fDfBcMQ',\n",
       "       'alGAu6_niived6QCZBiSmA', 'H9JykZqKIxzO9kUojHzEwA',\n",
       "       'zyzxWYBBWIrRdBkbwnnVrQ', 'EvJ1yXjsBqK_NH493WdA6A',\n",
       "       'WzibgRKOmpo-darbO0utCQ', '6CEKvcoAw5vvDLxgx4SPfw',\n",
       "       '8c3XuWaEQwzbV9AtiXB8mw', 'XRr81WwV819cV2qr0WDp0A',\n",
       "       'x6WZXc7cqBTqknwWDkPl-w', 'qbgvPKcC8AYSETDB-9EF3g',\n",
       "       'l7ecjAJBhlZ4ATA-SBkVBw', 'xQT2u-i36B2I9NCgINAr8Q',\n",
       "       'HlKTzixZCF62vtQFlwhFhw', 'lESh_PBG6woJ61wUqkLxng',\n",
       "       'OnokeZCV5JPZgZw3eTsSgg', 'Xixt9r78_PPpHfnE5ZhTow',\n",
       "       'Fb2QR-EKG6wUlOLrKC_lIg', '0t1qjpwpuKVFZW2XuTFqXg',\n",
       "       'BGSvF76KcEbNqAYCbwFQ1A', 'PyUn2FeMuLdmyB6xxMe4NA',\n",
       "       '56gp5RUwFLckqvph8E5R3A', 'tidcqPzhO8mZyNV_cW4y9A',\n",
       "       '1WI2SyQUFbQf2aJBpOZZmQ', 'Cltm3tgipVMnVbzpv7K1Vw',\n",
       "       'EvuEp7f1ZqcyVC1lm1S2aA', '0_4sub0LbOCFxzznEljHEw',\n",
       "       'Pyg6kCS9FYIwVORtrlA-CQ', 'Duh6E8GdvpcGVqrpLVuFsA',\n",
       "       'gXZp61ylhJdpdMadpOAMVA', 'jccv11nW22QRfiiqtaGCLA',\n",
       "       'QTwtmVipKUFwfvRKD0yarQ', 'DUXCIOLG_-8293S_xJ_Vfg',\n",
       "       '70JaJL6CHS0O6Ot8M_qLqg', 'YrlNGnrofZHseVYxrLrvJA',\n",
       "       'Yximlvn0cfb3yVDaLuXDxw', '51G0a8V8TO3eoau4aUT-tg',\n",
       "       'RZ4aZVjs-zkj60w8ofQYtw', 'EqZRpkpkWf54rwfnq5MUsw',\n",
       "       '1YitSIu4R1A7Gjfazn3pNg', 'Z6f9swPwxmRCPGrz9W3joA',\n",
       "       'gzf3Q7zIRS-rEuOmYs77EQ', 'ojo2HoB89kkklWyC2l-Jqg',\n",
       "       'DlyDuYZk1H0kds74PYpm0Q', 'fXlNpxsYuH_pWGbJ9q29-A',\n",
       "       'bthMSDLzNdHuSskOfaeZhw', '6JMAEP0mhL_3J6SpB7RmLA',\n",
       "       'd4XoQ9Wb8Csw0oD5dDEZ0g', '6GBA5qPMxZSWksYOFWMk7g',\n",
       "       'DHiaN7x2UtHXRIcwwMqh0Q', 'o0emAbW2Z9MnyGxBUzH2ZA',\n",
       "       'k6yIWgBW-up28RBEzkreCQ', 'UdS0xaG4ZmrDajBFNraUIg',\n",
       "       's2K00v855VB_TwXpY9IhAw', 'sNUD7INzDJYtuj6jAuIMRg',\n",
       "       'KXX_KFF_TS2cKrg2_2RfSA', '23aKCnU47fcC9LPRRkbkVw',\n",
       "       'v-HcprOKPC1_F5_15t4JDw', 't5IlUxtc4YFUCYStjdlXfA',\n",
       "       'PejKZGK3E27-4L2k0smVoA', 'tEWswN4AD9jGQNNCcmgP6w',\n",
       "       'b0cWkZxzX-iFeZCFgLedug', 'C2iFhJOLjUPZwAnv4te8Kg',\n",
       "       'jKhu30Kk1E05DfBiiI1McQ', 'nbSHiwedszsDdjZzU0iJvg',\n",
       "       'GwKyDhybZm6huIQFC2IbjA', 'HtvjALeOCdWE58dgcqCoDw',\n",
       "       'y4sfJ9TYOPQoRBEj9vWL4Q', 'g3cYRU_hNKMOlB-gcrlGjQ',\n",
       "       'tPufvUuxXLJOMYQ7gzsMVA', 'jSdiPiaO_FI9Ic3raKbU1g',\n",
       "       'B3s7gBz3NMFOaNvrzWzLIA', 'XVje85UtsXhO_BFSnCB6hQ',\n",
       "       'tAFMvCqZel6t6Fp5QdxD7w', 'lhXwpjhju5GvdhbDloX5Xg',\n",
       "       '3Wwf7byw8fq_ew_MA1xzzA', '_SVAW_bwFx3G2tDqmsmOBw',\n",
       "       'nJsScC0CbhhqB5ExVijecA', 'Rf9LV9Ha8OYkRQCFYjxLNA',\n",
       "       'XrFCag4AMW5qta9QXokWPA', 'zmr4gUzWiaPeEhIfeKXOvA',\n",
       "       'dkDeYlO4g3Pii_RkHLeEiw', 'tIjyMvP5dBnsK9JWpq89WA',\n",
       "       'rOzAORhSQims5hWmpuc74A', '9e24mg071tduGJrgD7xQ2A',\n",
       "       '77mGgup_tx2SYPJLx0h0-w', 'nF2TR0yfB2tx3VzAMvdlgQ',\n",
       "       '0IjWkdgOCgDsso3BAVZBMg', 'ahLG7ydqafwiJlNDmUwVcg',\n",
       "       'flPPMB7ZjA1JCu3ME7iePg', 'quzjS-_jL4k_aZ8SiugX3w',\n",
       "       'jL-qSB8CAKrAdF6fKJNCxQ', 'XcwBT1a_5ZjdaPZTZOhN-Q',\n",
       "       'vJM5TkxT824e2teO3jdxVg', 'Rmn7i49T6Jvn4LoQw4r4jg',\n",
       "       'hthdThlf6wpAE9J_lTmYzw', 'dYAhuu1xauHTh-uhwnMcQw',\n",
       "       'XR1ecJMc-fpSSOHG9QsnOw', 'GwL8lhQu-q24yFAZSyTx6A',\n",
       "       'ZIlZhl7xT9gztKRlWk8Uvg', 'jWePtAiMHA-1ZjXTiS3aKQ',\n",
       "       'wklmU8CM7czQQBuhOC4k9A', 'z6QQCUqKJ0nZz6vHA_m-Eg',\n",
       "       'xcZo4LD1AgwH-aeKD2Rvtw', 'LJ8U5ZVnFpF8XNUR7DcUng',\n",
       "       '_xvKNqiwgA9S5vBKlC_xNA', '_AlPmtlcv6o-SB3Uv_Z2HA',\n",
       "       'DTzAMJKUS7kXWIe1gOzodg', 'isQxsxlCjj6P8GQ_uuFwew',\n",
       "       'TzcLIHRa_ybMLPwHl-JI8A', 'nkN_do3fJ9xekchVC-v68A',\n",
       "       'FwoBJ60NabqMaF8Kika_Tg', 'OM9422J_wnHMK5OEYDrX2Q',\n",
       "       'fyS8H0BNDv5du_X7ttUEqQ', 'UE-rXhA8njNnADFkDA3EuA',\n",
       "       'lrMmvkfLbx2YZkiJwNs4ow', 'EdIhpWoLivhqBH8l7ZQr-g',\n",
       "       'chgTnp84tlV4UUJlfIVJzA', 'yaBIVHDxaUBN2YHQ8-YiuQ',\n",
       "       'nCSaVr64W2Z0dnGau9BrOQ', 'BI4lPhrUpmEySIJUywjIjQ',\n",
       "       'PjYaEnWRFB7uogiAeaXQQA', 'T02T1Kt6UVp957j2GKl0yQ',\n",
       "       'mxByijeeAPlirDELml6i9g', 'gmbkYkiLcHRD1dlP1TXfWQ',\n",
       "       'HQG3no8C5U31z-k1MaYCqQ', '9I_I11QXJ5_Xr8esyi39dA',\n",
       "       'sA5nqz2eI08L_paeJ-JoiA', 'W-WTs-vofJqK_-rDUUJJlA',\n",
       "       'RLJX96Lar9UoZ3xsPAidlw', 'wZG2xlICfUkJiY1NdPJH2A',\n",
       "       'xH63knKaVhclXU2gSP1q_A', 'CQ1J7Z2Irj6c19bwi9GhPg',\n",
       "       'mlUgzXN56RHkKLm6lw6s4Q', 'dbjE2GM2UzCiNFRj28TcTw',\n",
       "       'oGwm_6paNthMnkOxYGrwRA', 'rTC9QU8Vz516Tkqdwq6KSA',\n",
       "       'wZ0KFPTp1263hDl2M0gXGg', 'z497rLw1L767W-9Umwgt1g',\n",
       "       'lsxXAODLauD_9XMY1hhxnw', 'SsW48-bgdICAdXeez4JnQA',\n",
       "       '-aLClp-fbAXAcTnUOFLqvQ', 'be8hFRSzakhqt37ojP308g',\n",
       "       'cimL3KMdMK_-rbHTImTf7Q', 'wMsMj8kILZbZBT5aEDdwlA',\n",
       "       'XrycmeUFBq_r2vT4ggD6oQ', '7ZsohMOq4l0uC_-dSzGs4A',\n",
       "       'JWgti_adPZywG9SKUbnB-w', 'xlzvOVH5RyEZHR5yl_9Uiw',\n",
       "       'yDY0OQHFuXMYGXJdfhD98w', 'qkKYofO2gvYtBanAFtCAyg',\n",
       "       'SgeLrwgl_DopvFP0ar0T4g', '_p5ydZPNMkyTJoPtE0QUJw',\n",
       "       'Ygw_NoOGoiE0pvHPv1uVVg', 'lwKFXEE-nhfvD-bbEWIn3w',\n",
       "       'WF09-Wwe57_kl0FuPFDPag', 'Qc7eU-z3r6haDsh-FaKQTw',\n",
       "       '5HZl6hUUNB-FoXIJENWd6w', 'mr9gaOvVL5XanvTAZte-zQ',\n",
       "       'aOTre8z3pokSfRqvyq7CKA', '-_QlnqOO3SBm_cUQQ-eJGA',\n",
       "       'l5YRF-wXYFOtgJXhJY8NLA', 'vJgx5vfWerJeGQdGNsGmEw',\n",
       "       'LFzCNWu8tIxGNPk358QVJg', 's76J8AsfaaRrker3s22ulw',\n",
       "       'duPlG2YNGaarQTi2HCmdXQ', 'z-ac4aPTz64j2ehH7qfqcg',\n",
       "       'IEUDuPUPhkm1sHCLtjnBWQ', 'sRLstPbD90Yq-1N9JEzNOg',\n",
       "       'GI1U2byULXWto_53ERiN5g', '6AYgBDlWimPyvSWxDYA7Ow',\n",
       "       'HmzzeMOQe3L-OXzKBsLs_Q', '-b3u5RtWPosey0UzuTxEdA',\n",
       "       'lGBvmBDeIooqcrMwp1a1yg', 'u5PisfPKCkN6InGerYwEbA',\n",
       "       '_43Rp2kzgD2-uprvj6TMQQ', 'MvgEGMQ3kSI_LjmhqYYAFg',\n",
       "       'Omjl_VQzOaqtnrhdGCZtPw', 'CJzkwrXM5wJp18rlohRVdg',\n",
       "       'vWxQvbuUVMMvn6zvfNxVZg', 'g3pUQClm1XCXiYSwsJElfQ',\n",
       "       'y4Co7sLe6aT6_YKTq4T0zQ', 'V55R4dE161gb20kAtf03AA',\n",
       "       'RdtxmBQJ8qcpwnkH7pJD2w', 'lB4ju34kx4M3TO-8ierv_g',\n",
       "       '2EPMom6vzsHVof5rPmlAnw', '-_YQv9cPTEQnAq7J-r6zpw',\n",
       "       'CzJPqgTqQPuXDzGMCdN6ew', 'kS0J0v7cAKUmgfYIxPZEpw',\n",
       "       'dsMxD3jkICS_m7o2FoJgOA', 'd67zTET_2IuVoWcUU0aWaQ',\n",
       "       '_29BFUU1hQkOTyZMuuH5lg', 'jDiNvYRx9Dr5MhwhHGIXFw',\n",
       "       'Ev51RXWM25VHh5PuY8JlfQ', 'QgPGXQqSwxhEAY5zUq3aCg',\n",
       "       '1OFAF7OXLGbWmnHly3SyUQ', 'k2eR74OKSgQI0qn7TrGiYQ',\n",
       "       'sMVwCjsp1qgBhC_5gSlKWA', '2Z0I9POv2N5p1_vOnCN9lw',\n",
       "       '7UuFJeZbZAcv2oeJ_-QcNw', 'cr3E57KJP7Zq9s105Y4FdQ',\n",
       "       'ajg11DvkxQu1PSxwzzgFIw', '5ytXIXCllyLSLLrkvxCzlQ',\n",
       "       'nnwBdqGHIAJQ5QX9lHOtrQ', 'c2gSfgFQcR3k_USm228DZg',\n",
       "       'DJaQV3r153ZsBQArxAPl8g', 'hCoRk6ihGu9ZKvd-78iJeA',\n",
       "       'wCtf5_zG8EpWiBp_Oi7P0g', 'cRnO050nlydkhHLTI1Nm7w',\n",
       "       'ktm2YMsb65tRnePcYpVlqg', 'PwjTerIEPH8E9uR-oa4Dpw',\n",
       "       'owklqVl1fEq5wLoiaMpzCA', 'axveCztW5lYy4RbtWjw4lg',\n",
       "       '80OYLqrSJYcKDG449XsBXw', '2g-huKb0Q58EIqBlrpt86Q',\n",
       "       '5Lwp4dv_yxLYoh9zihelWA', 'cdp-H-_md7t1WNTm_FF2Cw',\n",
       "       'N2I5TLfgjyQ8FUdU6L6ydg', 'S601-21BPZKMSIeS0BJ1gg',\n",
       "       'tdxz-P53a-JBn3AAbGLgHA', 'bDXSrl19qIe0Hb-cZcCJ5A',\n",
       "       'AMtcEOTufBpL8fPWBhRoZw', 'SSqRDctrXtTeKTaUIWzkiw',\n",
       "       'UYwBqHGXzwHSJkKdi6FVmw', 'zLauofXl0l88kW-M_q2eXw',\n",
       "       'ARXswZQ4aDfhPnMYSbzcSw', '44mwBk278vU2VNrwPPJQNw',\n",
       "       'IhMs451XJ2BWfTC8oPgkaQ', 'Kg7pgkouVPD1DY6FkhHHNQ',\n",
       "       'YTeviWct8wGRVasWm1-SuA', 'IpMJQlt2_jbWHNpWQC7gbQ',\n",
       "       'pZyLdI0XEfGH5e0ZL9BdRQ', '63xW-Z8ahuMWYut-hCHkig',\n",
       "       'E_A6vwp_BTZpXSsPmdU2Gg', '2RnoPDtsyDNnC9B68RTGjA',\n",
       "       'Bezh6tDmCrL0-SnsV6CneA', 'vxEmpG4E3kqwN4M-7jX5fA',\n",
       "       'wzY8kCAMLGzNoERwAyfBUA', 'vg84i-cc3ZJwSCRC4bx47A',\n",
       "       'lAMh24SC6G9ayTfOwSn5yg', 'Vx-l5rI0xAiN4SeBonrgkw',\n",
       "       'k9Ne0VV3_Rh3Nl-7mqCKPA', 'yqpZI7NCeuLPhiPO-SR42Q',\n",
       "       'P1Vcd0rAbADbBZ1FbdCksg', 'JLOlSZ-HWXbTIiJxFEHb1Q',\n",
       "       'UdqujLiVz1mYPFf6wZx37A', 'AI2OpyUoGbeSorJkPlQRMQ',\n",
       "       'SxBi6fjWUCyIeDZd8jSvmQ', 'bdJBYIrivjkgp_4AV--1ew',\n",
       "       'C9m5v69J__PNRm4N30t55g', 'C1IAYGkz-dgKkaXJRNzpKQ',\n",
       "       'M4yFvtrNL-zuK7UXlREUCg', 'Qp0rFnKX6SuWbJf2uyniXg',\n",
       "       'jC_pYRP1M2LmimVd8zZB7w', 'cHgQ_5qOLoBwcp3sH-b47Q',\n",
       "       'oVjEx-bNbs2JI1AzBIl_-g', '9Aa5gIB0UBE4oF7KxvCNhA',\n",
       "       'HZsjWv1G9PpGWp-G1Ln5gQ', 'gXi5ZLpAFJSh_nQAgBqHeg',\n",
       "       'V3LQ68HoDVXtuQHHXlb6Rg', 'm4GdZ1GaYM4W1f1yzN84AA',\n",
       "       'Kc4sxiCwygidx-HIrJAOpA', 'C9aSpJFmhq8KTXGIwop5OA',\n",
       "       'eof4Pr6-Owk06xLrdOQD1A', 'IH6jIw6GKNzFA8L0INTSMw',\n",
       "       '4v5c2WDqnzniOOvIjCBHYw', 'VFWbqtlRfbXl5Ij6U3Gt8A',\n",
       "       'OrwO9ILx-4KbvURCSLnr9A', 'LalVSGYgv20fUI7txiiGvQ',\n",
       "       'D2hljTWETkiJoOAZ9K1QkA', 'pkkOLKK4hOAcJ1xDEyOh9Q',\n",
       "       'B7irBIf1qzVCP8CF4_vFCA', 'TpoEbWhvcNZrXtkoScNZ2Q',\n",
       "       'wzRUFyx9eLFIG6ONbGMFFw', 'QjNjVF-ZdWr-P4zUzXwpVA',\n",
       "       'N19e1FRY7TOA0diaWv_mgA', 'd7D4dYzF6THtOx9imf-wPw',\n",
       "       'PALA9PDSkLqscbObz8u28w', 'ZRnsUs9q6DbeJbOLjCY4ZA',\n",
       "       'zlXlvI_IKONWpzOXugfwbA', 'dTCEopG6rrF9n3kieG_L2A',\n",
       "       'afGccMxMBgLD4i-8EUE06w', 'wSByVbwME4MzgkJaFyfvNg',\n",
       "       'JW8xy2XrxyY81Qw7fenWOA', 'voE6m_5IDdlk-uDjqou_jA',\n",
       "       'sYihcMwq9_SQWNWu4yhr-w', 'j4VImIeycWZumg1i-JdJ-g',\n",
       "       'towh4x5PawerY_TJZQJjjA', '4t2Oou3MYFhTcK5JPQHzWA',\n",
       "       'Isuz6xprzIelIuf7zVaY8g', 'EcskzwENROfH7KwTN7l39w',\n",
       "       '9d5-xvLEv-AqNGmgBetNkQ', 'U99a217plWzt-2W8YeuHUw',\n",
       "       'c_l2y_rlCOp6b0Cnlc3i4Q', 'jKOckH3ejFOVXDUhsjXiPg',\n",
       "       'SmgBUsXkkFwOQBSUg9yDzA', 'PRgO5h-hEhqLqMaAPMdguw',\n",
       "       'olygwzscX9Li52jInAxaMA', 'sLNA348cnft3EX9PALRyGg',\n",
       "       '2TPODjHaHQ-cThz-oahpXQ', '4nk5Wn4ElB2oanaKscQ8pQ',\n",
       "       'H7YVaxQtLIiOvy0-Xu1soA', 'JKW0Rnul21GcIUTBdW-MaA',\n",
       "       'adtOywpRnG5-4mjQMQE1FA', '6InyxxWLYI0J9y4342o12Q',\n",
       "       'u4df9jjhSsjnrz1wEqFjJg', 'tIkEzz8w75cT0kuhrGLZnQ',\n",
       "       'uU6fQWadr7Hx_MP0Vmy3kQ', 'LlGZ273XdpNyo3lg5IfKvA',\n",
       "       'sit8IEQtGohfxFaNPqZrYw', 'Tu3EqdHkeEJeRzOvdvGORw',\n",
       "       'oD21QHN9KdBa7jCIuD7L0w', 'whf02yAsGdZfEEGMZtb9HQ',\n",
       "       'cD1pslz77ellVyV9oaRjsg', 'tOTplIk838ZR1w1huTdX_Q',\n",
       "       '-d79SZmYixJ1jpj8Tv42ww', 'tdQcwjcAd6vEgMMR5QwK1g',\n",
       "       'GgNbO-zjS1S91YaVN6NsBg', 'SOHr8Hhuh-ZEf6S3ZdOjPg',\n",
       "       '_TS0tZ5SmShQK6nYGa9IDQ', '1fQ86DioG5-9Zulj7eSvzg',\n",
       "       'WJR8f_QNG1kuPq5V6RxeFA', 'DV2j3kkMDyN_zTslyi_awA',\n",
       "       'D3Os7pZg5YzCgtck0qv5hg', 'mEJB4Y71Rmqa5T-BlhIM5w',\n",
       "       'K8NKUnm0egmzVwuZQpsBXQ', 'upXPbCy19hV3DQlG2d_-0Q',\n",
       "       'u-JKb4FDKDtUUmUpYosOxA', 'ekOkZADTR4Z4V2AFaZraMQ',\n",
       "       'Fsga3j1PNBoI_cb7uOWVrw', 'zMZQMtuIxOXQWtTCYNV6Wg',\n",
       "       'z8JBksBFZYOdjxi3PbsZBg', 'UXuhzYpllUPSRczvwGSrUQ',\n",
       "       'suEkmcRAiMt1GJMxbUzLgA', 'HdyYsnQ31s7UeVb1cZJJNA',\n",
       "       'pSjjBOagD3q9tPsQ6BWvrQ', 'TylOr9YYTV3znqIvH7kdmQ',\n",
       "       '4PiYa9XvCU536DOl-TrjGg', '_YH6rJGxcxc9nDY_-O2oiQ',\n",
       "       'nKwFmY4R2y6Dl6rvpANUjQ', 'KggSO_45w0sE7Cv-qZCFzQ',\n",
       "       'sLqm9fRo_u81kJCIRdzrMg', 'C0RonzO64B4D3o6GtcMlxg',\n",
       "       'IJoAM_hejZJuqpYmZPVvbA', 'WkGazfr_s80m6X0-ngrLmA',\n",
       "       '14HFvudIgrVH7su2qRdtKg', 'Sq38DkC17-EscRd9KkCfIw',\n",
       "       'mE_GD001INjRTltZBescyQ', 'XYpfXwljLCDvRMRfsSZrRg',\n",
       "       'czq3zEPXC2ipRLXA8xIjvw', 'rLP-N-JxJ443bwtYeaczsQ',\n",
       "       'kjt_nzBzdpM6r7OChiheCA', '7hwrtFw9tDE_r8lXQN2QOw',\n",
       "       'hjivOG6tPOLVs86mlWqgMA', 'UR1GSaOkoLaolG7nbXpl4w',\n",
       "       'hT2Mw5m_SXBDVBuvA3KY-w', 'K6TmYOjkbIgID0cNu9V_bQ',\n",
       "       'FOE4tWri88gA4tvcGIEHuw', 'WxWLYqFct6j_MwGUmYatGg',\n",
       "       'ORDnd5OZKDLNJ0Jr8cVPBw', 'GR-IqeC5qNr9MiGAymuWSA',\n",
       "       'tdfqcb5OzVJ2hHnsYarnyQ', 'mSSRX_XWF31iVl5oAiC1Ow',\n",
       "       '-AJV31rH5tZmKI0f0rlQnA', '2e5AyVOyL-p8AN5MA1OjHQ',\n",
       "       'Gh_Gf26me3swBdhvMr4Vuw', 'VKP1tppEwu9m4JUmubRCFQ',\n",
       "       'V5JmPxwEpuWGz_8INHfvdA', 'pVA5j9KzgGv8fzCW_cI7TQ',\n",
       "       '7vmobu3_6jDDSDWOfUX7iw', '7D9aQmzZ3VQqd0gyvogCGw',\n",
       "       'Z_zGKaX0rWgxpysoSmUrqQ', 'BkB7dRKgamEJDEWinvLsNw',\n",
       "       'nZVcH1sdYPsCZOViaHN83Q', 'xM9CcVDFeQXv80xxdvku9A',\n",
       "       'oAFOOGcRtgo1KuAypWHHBg', 'BMeOHGu9qUyhrpTf7FJ4Eg',\n",
       "       'a8ils9hu1l7VZsba8qBGIA', 'UUmK98U5M8J63BonG5HSDA',\n",
       "       'GCwPDVnQFg6DdS8KriTHNA', 'pt_EWdMkO2pkKXVDqk5Ykw',\n",
       "       'TegwDS7lIpC2vbrT7lwJAw', 'I-wq3PJNBlaZ8tpi0SdS8A',\n",
       "       'lcuDvwFjgg9cHoiZhOJv4Q', 'j9cuXVkcbtUT5srZnn0ywQ',\n",
       "       'lJKH16uI7w7jXKpDaSBkog', '-rw9_TTO1XN4qD6-ex8yCw',\n",
       "       'TvOwopkAJDtZQ0fUVgkF_w', 'BBtmmLM4PB_CiZEHRCx6ZQ',\n",
       "       'ngDArMA5Xw-RG1obpp_ccQ', '1ZxQe_ZeUG24aEL1r6gTcA',\n",
       "       'u8kklgxlAkWu3Ro-EuBNhA', '2GxGId7gQm3rF5D8mV-u0w',\n",
       "       'Hz7X2SWyDMTQTaV6PBkcdg', 'c_PK3xWWEnoozDuDifC0zw',\n",
       "       'x6Ck1ijSIiYpO05a84fGDw', 'UkAiuv_3y3ciM3V_BFlIZA',\n",
       "       'rddqCqiG7nqlegGJhENsHQ', 'Jng7zVZNIuldIXgdOrh35Q',\n",
       "       '8fuigXbDDCE0JIDIpRG5Lg', 'VRikEa8jlpbrS0p6SnVCtg',\n",
       "       '5TnZqKFHPMlWU7WTyExYmQ', 'F_Q_JuUkYJRgZo6KtGjUmQ',\n",
       "       'cYtcDmRDNbwi9eHvc8Vayg', 'CiYRhDyFbsDbWR45uv822w',\n",
       "       'YKTWfz7agRpHv9MV8uQUTw', 'mTAPWLiyWLZtfvcYdNpWpw',\n",
       "       'pmsLKPucQQtKoQdozcAc6Q', '8HySQ_jko4HkcKyaigJSog',\n",
       "       'AjUmoReYlpQmtm3eYTmzJA', 'ubJY57N4ZMppgGiGrv8vrQ',\n",
       "       'zQflK7rcfasKVQzyK5pkXw', 'F65IMso6YBzcJGhqCwmDZA',\n",
       "       'x_axtCj_KMcWdf1WQ6BbdQ', 'mrkDvC5Jvek1_cw8Ckmk9A',\n",
       "       'ETC9wqPyyKrkTxKXlhz7Sw', 'ulul1Rs3G3DYTywz9grjOA',\n",
       "       'nrt1X1_uReQZfcB8L3RN0g', 'LJF0rPGfUavMKW-_8xfq5A',\n",
       "       'Vb1nt7ID_wKcJmTBrFS6RA', 'Lp8zZvnX_GbMCt3ZIY3hIA',\n",
       "       'QdcHGueauRzAJjzRZdsuTg', 't-J0y_jCwDoVtXpLEIZuew',\n",
       "       'eJiGgbH2DKmsxm-ti7YY9g', 'gH7Q_UG-mdcfeholKxR2sQ',\n",
       "       'Ne8HmrGy-5av06wBZClE7w', 'P196DcbhGPl7dCXIQ6RT-g',\n",
       "       'buSPdvPm4GUaDRcJIKe09A', '7T1ABdbFk2DHZV5IK1Hd5A',\n",
       "       'UW_wDbUoHS7bYE7I9gcI3w', 'cdsEpKifKxXN71s40okGjw',\n",
       "       'DdnH4solmyNAf9RR-XncLw', 'fLwVV89u4chh2mQ8eaTAIw',\n",
       "       'BFt5gr5uteSH0qEMSltwMg', 'tywhgQd-CMbishWP-v6W2Q',\n",
       "       'UpMxkQSebTTqhilGHbB1hg', 'lWiMINdcZlQYQbJhJtnKbQ',\n",
       "       '7GXvgyZJAHiNZEq-ZdWYIg', 'Ate_psJcSAF-qS_oM3HyyA',\n",
       "       'j4jMJ8K-zRwxVrm9F2FW2w', 'hMkpOTUbhqd5VAJznF-hhw',\n",
       "       'nMrFw9eJ1xk4FRuV9Wl72A', 's6QghJT6IHNxV5MX8a66tw',\n",
       "       'h1KzT38UnfzR7maSi7oVUw', 'z3FEHWGWSR5Z9ZVARQroHw',\n",
       "       'rLL7Zm9QT_IJEzNcTpXkqA', 'DJzCkjih6yTpdD3V2tC6Zw',\n",
       "       'NRE3T9Floim2P6q0ymfUWw', 'KuDLj-fcFoPxuL6GPTRomQ',\n",
       "       'llsbSKHnzAUPByQwzOybIA', 'myzP-7xQtc4ag8Va1hfyQg',\n",
       "       'lKigBqNqKiMXHpUhMd9UQQ', 'M8KmAOsHDQ0SWn5Yoc8w_A',\n",
       "       'ocKNqM0sim2LiB_jLO0IyQ', 'AEgYsg7EHi-Z6j8R3vd06w',\n",
       "       'jTnGMWkG_J0ctif3maFTCA', 'KqYuxOvX3pM3eJIaSrfIoQ',\n",
       "       'Oug4M_t6RCiOjDO217gN1g', '6A6-aIX7fg_zRy9MiE6YyQ',\n",
       "       'jHnkKFt-_hkFQWeiAnVs7w', 'QGPQeGKSAr0s6Guk3H6xwQ',\n",
       "       'OyMZW_wHWYwvtbmwktMaLw', 'vdreLGQI80FkODF5O-O3sw',\n",
       "       '4RycJeHL4dzDuppG8mIlww', 'VcQIa__3oU5nSdYsq9DZ2A',\n",
       "       'PJ6CqXZvYZJPBzF9dSLpbg', 'cg_ZT95AEhgymLRNWGR9dg',\n",
       "       '3cADFWNkeGKBsy7WO-VrBw', '5qx248jFgSE-1vZJefV20Q',\n",
       "       'Z8Wun5xfvUL6MHWkKbSztg', 'Wddnoodo4AJhTvFSLBvM1w',\n",
       "       'cYNxzDFAnRF09KcjfslxfA', '3PLBcbyp8zQarwcI1SB7hA',\n",
       "       'HvE0SrE33a5hnnRSOR9a-g', 'fIILQXb7qmbIQFoY1D_yag',\n",
       "       'RF0f7LO7dy4b_RBjbyAIjw', 'DISu1LjaLz3VjGGP5kEwzw',\n",
       "       'R6uHquXes4TAROBbHT7XDw', 'FHfjAReTovbu0chLv-WGrQ',\n",
       "       'LiW90h8bxeIj7iY17VL9Zg', 'T2o0YCTYajodiK8uE4whiw',\n",
       "       'bSWWV65xqwiHf6njt1LwWg', 'a_jH1ewLLYzEfPnKjE66DQ',\n",
       "       '7r1KtKN7t23fyo2B6BbudA', 'QQtoHnP0cP7nzNnUob_1CQ',\n",
       "       'Cc81w6lCdwt8UZq79kLjgQ', 'EobdQN6h-fniZWVQYB-bmQ',\n",
       "       '-dxltpPrji_ErvoGHsEYOA', 'F6lpBpTVt3QExHd4keHWlw',\n",
       "       'isHgDvU7uLpBpdf5JtY9IA', '-HxJ4KzGDSnIkZUMAoWgTQ',\n",
       "       't8QbU4u-xTlE2mV3h1df3Q', 'pcBVC3r-cpTpLeqVo3ZhfA',\n",
       "       'lhgKZrP0MUf6ITgFCyxwBw', 'JryMN84fxLwOvAMcKLXvAA',\n",
       "       'YwNspTSswxIN9PBrHDpFVA', 'JvyBHeGzMLgKO5s1JaQ0ug',\n",
       "       'qwT-Nf4lbmrJZ-XrQ3ucqA', 'nQqtZcL5IZnkfz50Egmq8Q',\n",
       "       '3zBJUlWtPNoZ0uN83ODbyg', 'c6HT44PKCaXqzN_BdgKPCw',\n",
       "       'cyJsilA4llNkwFYOCLSIzw', 'bQaKuQAnC1jwANNAaV1nqg',\n",
       "       'f3zv_hA-QIUHMJVI2DMn_Q', 'YnsF6l8cUanYj3Y8pOKCTA',\n",
       "       '3SzgC3W_ifA9_b17x2Q6_A', 'hAId-4tnZPCz0pxambt3pA',\n",
       "       'zQkYNrmaEybgUKqW1Rgt4Q', 'ivRRyg3GuszLm3DM6pxjoQ',\n",
       "       'XlF_Od3qOngwITJAX4g2ZA', '7Nszg8fO6-x4s-4MjK_5Zw',\n",
       "       'qJgE3LsSpuu6PHxuSruJYw', 'TNMP9w8q5VXxRGgBKDJh4g',\n",
       "       'DZChyIi8X3LMVLi86793VQ', 'BW1mypPgrLxzgicL8Dx2ww',\n",
       "       'Rdfmaec2thHq7oZqbHg7cQ', 'HJbgqzC2oog113nvCSQm-Q',\n",
       "       '3Z4n-3tukez8HixHds0rpA', 'LNYVHqMg23QXig1AWD6V5w',\n",
       "       '6Mln_dxashMcIwt96SkAqA', '9UU23tv80OtBOdvkPAIgMg',\n",
       "       'jEVCiFGcau2hQsQrKLgESg', 'rdqlHuYrO1REQON26uc5OQ',\n",
       "       'zDmZ3--DU1s-uvbBdgJ-hQ', 'ayxgbISbIF-y14LpMtBgow',\n",
       "       'YBsh8Ydt9ljtBTxxLfQCdw', '9gkZSBnNXGS3j81KREaukg',\n",
       "       's5KC1Hx2jsfUg-ZL61I8XQ', 'suKUudrIWXKimNjmQyAOVA',\n",
       "       'kfllVjjGGRYbHIYi_w9ZjQ', '6Zx7YiKFYXwqWXQBqSxoYg',\n",
       "       'F1-6wo7j7tpf6sZq4t3HZQ', 'tk47e3weem-fA6K9J-iH9Q',\n",
       "       'sltUvIUXGXy2aJPrytJAiw', '7D8Nkcb6ujJCGIBkQ93Nhw',\n",
       "       '5JHMKckXyCunU0xjp5MxKQ', 'IJK3PDa9c7hWsYJiZ9-RTg',\n",
       "       'CFxgyVEQxmnfpg3JvK2DnQ', 'IUSDyfv9t2V0G3vrLd9ZVQ',\n",
       "       'RQVs_O-c_uf447TZldGtRA', 'NKCL8omqpjHdJE-bGNNaFw',\n",
       "       'balhXuT7Pa2Sqb3cuTkDRA', 'ziejN21Y4dwUgItJUS25aQ',\n",
       "       'ZaXJ9AaYOqFUMkJ1ddpciQ', 'ymiohz-DlNLHGAlXbVhw5A',\n",
       "       'ZxpIJd22t3b2sKHXSOMH-g', '-m3ngEB9Sl5_rdYSklbt7w',\n",
       "       'InYWIkyMdjWpX2xjCbWtYQ', 'PIzmdHF7p9GwXhwt3b3JxQ',\n",
       "       'ni35ZNivzVy8OrBBbnJMcA', 'nO_nVUNpTHIiwg5uQbaCBg',\n",
       "       '2UzgQRIOe2W0yMUlyVlmbg', 'IUTgCDuiIh0jctyRm_oPzg',\n",
       "       'OxE0QBa6m1399S8BXigIsg', '-Gn5krLS98He3aPDBhfzpQ',\n",
       "       '7ajfMmBJGkFU1kTur3DkkA', 'W3pB9iiIEkkCjX18gtYnMw',\n",
       "       'FTKM3cjtzygGNd-Ft_a7vg', 'IUlAGEYC2XM6tiL3N1Cbxg',\n",
       "       'DFty4XG0IJpG9jLBcq0frQ', 'EAjQ4YuSH0Jg9rIUy6LTgw',\n",
       "       'HUJJmO4TujNskRBZDry1ww', 'Mc-28MJn3ZfvaX1A3NaKwA',\n",
       "       'Z4SEYwsTTuVpPnPbuP_Z-Q', 'PajPv8UGfqHcTmVBn_gnWg',\n",
       "       'IVo_5i_pBbQGnlmkvKRk-g', 'x6dYfRQM4KpTAo01K_GOHA',\n",
       "       'Br7NfAxcRprDceabsyxZNg', 'WWad5T43tUtba1IThVTfJQ',\n",
       "       '-MQNcf4688sfersNdVuJgQ', '8d1ZGeHY9UXRSbZNdUX8zQ',\n",
       "       'cqcnXgIW32z7931nmDT-_w', 'WBpQDAZymU0dhIqXcACGNw',\n",
       "       '7k-q9aSYrFCXMMXWEUdSxw', 'o6dTM8nBXb2oTbihWY9Jlw',\n",
       "       '-Pj0BQ221kzQd5IlgffZ7Q', 'GrwRLlWqwk_btyYH29z2Lw',\n",
       "       'InEfg9vsCcknEG9T01gWUw', 'GD1uW5lLJH03iaaIbdgt4A',\n",
       "       'dTI1elmcn-Q1v_3vdN7skA', 'p-tPvAMlmmZQxMyahKDSJQ',\n",
       "       'nsAtAk8y_GdOEsAGvI5UgA', 'Lq2N_z4tU8MunlC1G56itQ',\n",
       "       'S0UG5L5R9H8c8J5deWFjyQ', '1UmzvqedifyJJkZWV2JdPg',\n",
       "       'S-6Y0SJ6XKcuIiITN3PeAw', 'NHAQHMfOwHinvFe6L-qm7g',\n",
       "       'WIMyDLitDTY9D3LeQkX3WQ', 'Lu-wzfCqRp2lvvw7QC8O3g',\n",
       "       'ic-w_tW3Kf2TZBKVBrctgw', '3wDRFdjpeq36Es97Zj2iVw',\n",
       "       'p9GG6v_t97jJZxhbeZb-hQ', 'mYL3a2XUq6XdIcoXhOkBsQ',\n",
       "       'N23fuKiB325gdSCAao634w', 'uVdIlhIfgXSZZnHY_a1gcg',\n",
       "       '5ekr2mAO14dUkHB20YRn3A', 'NV4_bsQOCjZUO7Sof25DzQ',\n",
       "       'R5WcogaoAwjdHxrB2v5NsQ', '0wpTeN2B2Vhk4fGy5GPLVw',\n",
       "       'kfLesTlPelVPqIqmMehpSg', 'W83aZrDrYKwycCHB_eOYYg',\n",
       "       'tcWnoX_IfuDmlDl6o6y3_g', 'RSzlMqC-fijOl-Z4PAb_ag'], dtype=object)"
      ]
     },
     "execution_count": 54,
     "metadata": {},
     "output_type": "execute_result"
    }
   ],
   "source": [
    "smalldf.user_id.unique()"
   ]
  },
  {
   "cell_type": "code",
   "execution_count": 68,
   "metadata": {
    "collapsed": false
   },
   "outputs": [
    {
     "name": "stdout",
     "output_type": "stream",
     "text": [
      "For user Paul top choices are:\n"
     ]
    },
    {
     "name": "stderr",
     "output_type": "stream",
     "text": [
      "C:\\Users\\Harika Konagala\\Anaconda2\\lib\\site-packages\\ipykernel\\__main__.py:3: FutureWarning: sort(columns=....) is deprecated, use sort_values(by=.....)\n",
      "  app.launch_new_instance()\n"
     ]
    },
    {
     "data": {
      "text/plain": [
       "['Courier Cafe',\n",
       " 'Courier Cafe',\n",
       " \"Li'l Porgy's Bbq\",\n",
       " \"Li'l Porgy's Bbq\",\n",
       " \"Li'l Porgy's Bbq\"]"
      ]
     },
     "execution_count": 68,
     "metadata": {},
     "output_type": "execute_result"
    }
   ],
   "source": [
    "print \"For user\", usernamefromid(smalldf,testuserid), \"top choices are:\" \n",
    "bizs=get_user_top_choices(testuserid, smalldf)['business_id'].values\n",
    "[biznamefromid(smalldf, biz_id) for biz_id in bizs]"
   ]
  },
  {
   "cell_type": "code",
   "execution_count": 69,
   "metadata": {
    "collapsed": false
   },
   "outputs": [
    {
     "name": "stdout",
     "output_type": "stream",
     "text": [
      "For user Sherwin top choices are:\n"
     ]
    },
    {
     "name": "stderr",
     "output_type": "stream",
     "text": [
      "C:\\Users\\Harika Konagala\\Anaconda2\\lib\\site-packages\\ipykernel\\__main__.py:3: FutureWarning: sort(columns=....) is deprecated, use sort_values(by=.....)\n",
      "  app.launch_new_instance()\n"
     ]
    },
    {
     "data": {
      "text/plain": [
       "['Lai Lai Wok', 'Aroma Cafe', 'Aroma Cafe', 'Aroma Cafe', 'Aroma Cafe']"
      ]
     },
     "execution_count": 69,
     "metadata": {},
     "output_type": "execute_result"
    }
   ],
   "source": [
    "print \"For user\", usernamefromid(smalldf,testuserid2), \"top choices are:\" \n",
    "bizs=get_user_top_choices(testuserid2, smalldf)['business_id'].values\n",
    "[biznamefromid(smalldf, biz_id) for biz_id in bizs]"
   ]
  },
  {
   "cell_type": "code",
   "execution_count": 63,
   "metadata": {
    "collapsed": false,
    "scrolled": true
   },
   "outputs": [
    {
     "data": {
      "text/plain": [
       "array(['Lauren', 'Ashley', 'Sarah', 'Eric', 'Lisa', 'Les', 'Mike',\n",
       "       'Grimace', 'Seth', 'Rhonda', 'Paul', 'Kelly', 'Rachel', 'Teej',\n",
       "       'Allison', 'Heather', 'Zachary', 'Daniella', 'A', 'Matthew', 'Tim',\n",
       "       'B', 'Wayne', 'Abhay', 'April', 'Jamie', 'Pete', 'Grace', 'Christi',\n",
       "       'Dawn', 'S.', 'Jackie', 'David', 'Paige', 'Bev', 'S', 'Virgil',\n",
       "       'Kailey', 'John', 'Sherry', 'Macy', 'Mark', 'Bob', 'Aisha', 'Mia',\n",
       "       'Deanna', 'Nava', 'Travis', 'Steve', 'Ellen', 'The', 'Daniel',\n",
       "       'Adam', 'Sonny', 'Mona', 'Matthis', 'Susan', 'Natalie', 'Jessica',\n",
       "       'James', 'Erin', 'Elorie', 'Anne', 'Justine', 'Tj', 'Jeanne',\n",
       "       'Nelson', 'Sara', 'Sherwin', 'Christina', 'Maxine', 'Allie',\n",
       "       'Penelope', 'Lucas', 'Lesley', 'Suzanne', 'Wanda', 'Helen', 'T. A.',\n",
       "       'Edward', 'Ronald', 'Sean', 'Doug', 'Jay', 'Alex', 'Lorelei',\n",
       "       'Tushar', 'Thomas', 'Alyssa', 'Lori', 'Kristina', 'Ruchi',\n",
       "       'Adrienne', 'Drake', 'Theresa', 'Casey', 'Schannon', 'Claire',\n",
       "       'Kent K.', 'Wei', 'Victoria', 'Andrew', 'Wilma', 'Yum', 'Rita',\n",
       "       'Katherine', 'Gwen', 'Jen', 'Max', 'Jason', 'bayrox', 'Joe',\n",
       "       'Mellissa', 'Glo', 'Jennifer', 'Parker', 'Julie', 'Rhona', 'Dee',\n",
       "       'Jaclyn', 'Andy', 'Zewditu', 'Stacy', 'Sadia', 'Efi', 'Tony',\n",
       "       'Katie', 'Shantel', 'Archana', 'Megan', 'JarHarms', 'TZ', 'Ami',\n",
       "       'E', 'Melissa', 'Sandeep', 'Valerie', 'Wajida', 'Liz', 'Ryne',\n",
       "       'Kwoky', 'Don', 'Tammy', 'Tricia', 'Shell', 'Aimee', 'Ginny',\n",
       "       'Xander', 'Linda', 'Steven', 'Cherie', 'Vedran', 'Julia', 'Amanda',\n",
       "       'N', 'Jerry', 'Bo', 'Sudeep', 'Sasha', 'april', 'Brian',\n",
       "       'Stephanie', 'Michelle', 'Lydia', 'lisa', 'RJ', 'Anthony',\n",
       "       'Benjamin', 'Jonna', 'Antaash', 'Nicole', 'Amber', 'Crazy',\n",
       "       'Madhavi', 'Eugene', 'Barack', 'Winnie', 'Diana', 'Tomas', 'Larry',\n",
       "       'Ray', 'Karen', 'Darrell', 'Kate', 'Holly', 'Kristin', 'Dhyia',\n",
       "       'Salena', 'Cat', 'Debra', 'Patrick', 'Elizabeth', 'Manisha', 'Bar',\n",
       "       'L And T', 'Roseanne', 'Brent', 'Liana', 'Michael', 'Dallas',\n",
       "       'Tiffany', 'Imba', 'Glenn', 'Kali', 'Kat', 'C', 'Pat', 'Jenny',\n",
       "       'Jon', 'Shelly', 'Ali', 'Steph', 'Liza', 'Elaine', 'Al', 'Aaron',\n",
       "       'French', 'Cindy', 'Thom', 'Tia', 'Bridget', 'Chris', 'Jonathan',\n",
       "       'Roy', 'Leon', 'Wesley', 'Greg', 'Carl', 'Shantanu', 'Kathleen',\n",
       "       'Emily', 'Nikie', 'Fi', 'Monty', 'Clara', 'George', 'Frank', 'Tina',\n",
       "       'Allen', 'Francisco', 'Blair', 'Jeffrey', 'Cynthia', 'Richard',\n",
       "       'Luke', 'Mill', 'Ellie', 'Pamela', 'Cleda', 'H', 'Scott', 'Lynn',\n",
       "       'Kari', 'Bill', 'Meg', 'Helena', 'Twylla', 'Joseph', 'Arnab',\n",
       "       'Dave', 'Carlos', 'Team', 'Pam', 'melina', 'Sandra', 'Matt',\n",
       "       'Suzannah', 'Taylor', 'Dan', 'Clarice', 'Jackson', 'Dachs', 'Piya',\n",
       "       'Nina', 'Draft', 'Zoe', 'Jess', 'Shannon', 'Austin', 'Laura',\n",
       "       'Colleen', 'Joshua', 'Ken', 'Christa', 'Zac', 'Tunaidi', 'Thongsy',\n",
       "       'Christian', 'Junell', 'Christine', 'Dianna', 'Tristan', 'Usama',\n",
       "       'Samra', 'Virginia', 'Marjie', 'Jeff', 'Samantha', 'Hans', 'I',\n",
       "       'Vivian', 'William', 'Tuyen', 'Zee', 'Stu', 'Kevin', 'Miriam',\n",
       "       'Angela', 'Jennie', 'Kryn', 'Noam', 'Syd', 'Carrie', 'JEWELe',\n",
       "       'Sandy', 'Jueli', 'Patricia', 'Miss', 'Someone', 'Scotty', 'Beck',\n",
       "       'Cristina', 'Christopher', 'Chella', 'Siddhartha', 'Umair',\n",
       "       'Swaggy', 'Mrs. And Mr.', 'Jenna', 'Burger Guide', 'Ryan',\n",
       "       'Rebecca', 'Kathryn', 'Vickie', 'Fida', 'DJ', 'Bobby', 'Leah',\n",
       "       'tee', 'Idan', 'Amy', 'Tung', 'Wyne', 'kb', 'Ang', 'Ben', 'Naomi',\n",
       "       'Jan', 'Natasha', 'Margot', 'Rob', 'Eva', 'Jeremy', 'Brandon',\n",
       "       'Inigo', 'Meredith', 'Anuj', 'Sophie', 'Alice', 'Faith', 'Allan',\n",
       "       'Shirley', 'Lochin', 'Peter', 'Arun', 'Sam', 'B R Hungry', 'Anna',\n",
       "       'Jody', 'Stacey', 'D', 'Hannah', 'Burbalicious', 'Leif', 'J.', 'J',\n",
       "       'Daisy', 'Marisa', 'Marcella', 'l', 'Robert', 'AJ', 'Billy',\n",
       "       'Connie', 'Santi', 'Esther', 'Caitlin', 'Courtney', 'Jane', 'Anj',\n",
       "       'Cher', 'Sassy', 'Janet', 'Pauline', 'Fran', 'Justin', 'Hubert',\n",
       "       'Vina', 'G', 'Liv', 'Rona', 'Hank', 'Chrystina', 'Kriti', 'Katrina',\n",
       "       'Pickle', 'Dean', 'Debbie', 'Andrea', 'Tanya', 'Mel', 'JR',\n",
       "       'Carolyn', 'Marcela', 'Jim', 'Ruairi', 'Clarissa', 'Kirsten',\n",
       "       'Irene', 'Sharon', 'Gail', 'Kimberly', 'Vicki', 'Hasham', 'Myke',\n",
       "       'Nancy', 'Kurt', 'Neil', 'tessa', 'Min', 'Viraj', 'Flick', 'Sludge',\n",
       "       'Loren', 'Nisarg', 'Jae', 'Colin', 'Lola', 'Moniker', 'Lindsay',\n",
       "       'Regina', 'Annmarie', 'Kent', 'Nilda', 'Bryant', 'Glory', 'Cari',\n",
       "       'Nate', 'Babs', 'Lin', 'Annie', 'Bethany', 'Alejandro', 'Cecilia',\n",
       "       'Kim', 'Meghan', 'Ron', 'Channa', 'Conor', 'Jill', 'Gem', 'Heidi',\n",
       "       'Trina', 'Tracy', 'Juliana', 'Sang', 'Kelsie', 'Angel', 'Barry',\n",
       "       'm', 'MJ', 'Ted', 'Drew', 'Coleman', 'Johnny', 'Crystal', 'Garvin',\n",
       "       'Nick', 'Caroline', 'Stephen', 'Duncan', 'Maggie', 'Tamara',\n",
       "       'Bryan', 'Cory', 'Jenifer', 'Mikey', 'Starr', 'Sonam', 'Shane',\n",
       "       'Jacquelyn', 'Sampad', 'Ha-ti', 'Aja', 'K-', 'Calvin', '60625',\n",
       "       'Fo', 'Danny', 'sheridan', 'Tobin', 'Blue', 'Mat', 'Fannie', 'M',\n",
       "       'Clint', 'Cecil', 'Guam', 'Zen', 'Logan', 'Robin', 'Pootums',\n",
       "       'Mateo', 'Cara', 'Brittany', 'Nikki', 'Isaac', 'Sivaram',\n",
       "       'Alexander', 'Hall', 'Tom', 'Clifford', 'Ela', 'Mariah', 'Xichen',\n",
       "       'Zach', 'Henry', 'O.M.', 'Khadijah', 'Paresh', 'Jamison',\n",
       "       'Vidinator', 'Marty', 'Dontina', 'Dana', 'Christie', 'Solomohn',\n",
       "       'Nathan', 'T', 'Lu', 'Risa', 'Carmel', 'Nari', 'matteo', 'Ry',\n",
       "       'Small Town', 'Douglas', 'Carla', 'Kjirsten', 'ari', 'tony',\n",
       "       'Q. M.', 'Walter', 'jim', 'Russel', 'Denise', 'Jerome', 'Kilani',\n",
       "       'Stalkerkitty', 'F', 'North Girl', 'evan', 'MARK', 'Gary', 'Carol',\n",
       "       'Raechel', 'Adora', 'Chander', 'Farooq', 'kelly', 'Tara', 'Kait',\n",
       "       'N.', 'Lalita', 'Kristine', 'W', 'Brad', 'Sudipto', 'Reid',\n",
       "       'Janene', 'Kenneth', 'Evan', 'Benjam\\xc3\\xadn', 'Jean', 'Keith',\n",
       "       'Deidra', 'Hugh', 'Sadie', 'Cecily', 'Kelvin', 'Taffy', 'Marianna',\n",
       "       'Christelle', 'Sheila', 'Margie', 'Chaos', 'Russ', 'Shipra',\n",
       "       'Garry', 'Jenn', 'Sondra', 'Brennah', 'Lim', 'Kris', 'Bonnie',\n",
       "       'Jinx', 'BD'], dtype=object)"
      ]
     },
     "execution_count": 63,
     "metadata": {},
     "output_type": "execute_result"
    }
   ],
   "source": [
    "smalldf.user_name.unique()"
   ]
  },
  {
   "cell_type": "code",
   "execution_count": 60,
   "metadata": {
    "collapsed": false
   },
   "outputs": [
    {
     "data": {
      "text/plain": [
       "Index([u'user_id', u'business_id', u'biz_name', u'business_review_count', u'business_average', u'user_name', u'user_review_count', u'stars', u'city', u'user_avg', u'review_id', u'business_avg'], dtype='object')"
      ]
     },
     "execution_count": 60,
     "metadata": {},
     "output_type": "execute_result"
    }
   ],
   "source": [
    "smalldf.columns"
   ]
  },
  {
   "cell_type": "code",
   "execution_count": 70,
   "metadata": {
    "collapsed": false
   },
   "outputs": [
    {
     "name": "stdout",
     "output_type": "stream",
     "text": [
      "For user Colleen top choices are:\n"
     ]
    },
    {
     "name": "stderr",
     "output_type": "stream",
     "text": [
      "C:\\Users\\Harika Konagala\\Anaconda2\\lib\\site-packages\\ipykernel\\__main__.py:3: FutureWarning: sort(columns=....) is deprecated, use sort_values(by=.....)\n",
      "  app.launch_new_instance()\n"
     ]
    },
    {
     "data": {
      "text/plain": [
       "['Radio Maria', 'Radio Maria', 'Radio Maria', 'Seven Saints', 'Seven Saints']"
      ]
     },
     "execution_count": 70,
     "metadata": {},
     "output_type": "execute_result"
    }
   ],
   "source": [
    "print \"For user\", usernamefromid(smalldf,testuserid5), \"top choices are:\" \n",
    "bizs=get_user_top_choices(testuserid5, smalldf)['business_id'].values\n",
    "[biznamefromid(smalldf, biz_id) for biz_id in bizs]"
   ]
  },
  {
   "cell_type": "code",
   "execution_count": 71,
   "metadata": {
    "collapsed": false
   },
   "outputs": [
    {
     "name": "stdout",
     "output_type": "stream",
     "text": [
      "For user Elaine top choices are:\n"
     ]
    },
    {
     "name": "stderr",
     "output_type": "stream",
     "text": [
      "C:\\Users\\Harika Konagala\\Anaconda2\\lib\\site-packages\\ipykernel\\__main__.py:3: FutureWarning: sort(columns=....) is deprecated, use sort_values(by=.....)\n",
      "  app.launch_new_instance()\n"
     ]
    },
    {
     "data": {
      "text/plain": [
       "['Miga', \"Papa Del's Pizza\", 'Silvercreek', 'Silvercreek', 'Silvercreek']"
      ]
     },
     "execution_count": 71,
     "metadata": {},
     "output_type": "execute_result"
    }
   ],
   "source": [
    "print \"For user\", usernamefromid(smalldf,testuserid4), \"top choices are:\" \n",
    "bizs=get_user_top_choices(testuserid4, smalldf)['business_id'].values\n",
    "[biznamefromid(smalldf, biz_id) for biz_id in bizs]"
   ]
  },
  {
   "cell_type": "code",
   "execution_count": 66,
   "metadata": {
    "collapsed": false,
    "scrolled": true
   },
   "outputs": [
    {
     "data": {
      "text/html": [
       "<div>\n",
       "<table border=\"1\" class=\"dataframe\">\n",
       "  <thead>\n",
       "    <tr style=\"text-align: right;\">\n",
       "      <th></th>\n",
       "      <th>user_id</th>\n",
       "      <th>business_id</th>\n",
       "      <th>biz_name</th>\n",
       "      <th>business_review_count</th>\n",
       "      <th>business_average</th>\n",
       "      <th>user_name</th>\n",
       "      <th>user_review_count</th>\n",
       "      <th>stars</th>\n",
       "      <th>city</th>\n",
       "      <th>user_avg</th>\n",
       "      <th>review_id</th>\n",
       "      <th>business_avg</th>\n",
       "    </tr>\n",
       "  </thead>\n",
       "  <tbody>\n",
       "    <tr>\n",
       "      <th>0</th>\n",
       "      <td>hAOPSgq9jZ-DiDlOXIpm9g</td>\n",
       "      <td>gaR5jDvZsOC0RQeY-W1eqQ</td>\n",
       "      <td>Mas Amigos</td>\n",
       "      <td>602</td>\n",
       "      <td>4.0</td>\n",
       "      <td>Lauren</td>\n",
       "      <td>120</td>\n",
       "      <td>5.0</td>\n",
       "      <td>Champaign</td>\n",
       "      <td>4.250000</td>\n",
       "      <td>k6_-Lfo8sRnNUrIrROT8Rg</td>\n",
       "      <td>3.918605</td>\n",
       "    </tr>\n",
       "    <tr>\n",
       "      <th>1</th>\n",
       "      <td>hAOPSgq9jZ-DiDlOXIpm9g</td>\n",
       "      <td>gaR5jDvZsOC0RQeY-W1eqQ</td>\n",
       "      <td>Mas Amigos</td>\n",
       "      <td>602</td>\n",
       "      <td>4.0</td>\n",
       "      <td>Lauren</td>\n",
       "      <td>120</td>\n",
       "      <td>5.0</td>\n",
       "      <td>Champaign</td>\n",
       "      <td>4.250000</td>\n",
       "      <td>k6_-Lfo8sRnNUrIrROT8Rg</td>\n",
       "      <td>3.918605</td>\n",
       "    </tr>\n",
       "    <tr>\n",
       "      <th>2</th>\n",
       "      <td>hAOPSgq9jZ-DiDlOXIpm9g</td>\n",
       "      <td>gaR5jDvZsOC0RQeY-W1eqQ</td>\n",
       "      <td>Mas Amigos</td>\n",
       "      <td>602</td>\n",
       "      <td>4.0</td>\n",
       "      <td>Lauren</td>\n",
       "      <td>120</td>\n",
       "      <td>5.0</td>\n",
       "      <td>Champaign</td>\n",
       "      <td>4.250000</td>\n",
       "      <td>k6_-Lfo8sRnNUrIrROT8Rg</td>\n",
       "      <td>3.918605</td>\n",
       "    </tr>\n",
       "    <tr>\n",
       "      <th>3</th>\n",
       "      <td>hAOPSgq9jZ-DiDlOXIpm9g</td>\n",
       "      <td>gaR5jDvZsOC0RQeY-W1eqQ</td>\n",
       "      <td>Mas Amigos</td>\n",
       "      <td>602</td>\n",
       "      <td>4.0</td>\n",
       "      <td>Lauren</td>\n",
       "      <td>120</td>\n",
       "      <td>5.0</td>\n",
       "      <td>Champaign</td>\n",
       "      <td>4.250000</td>\n",
       "      <td>k6_-Lfo8sRnNUrIrROT8Rg</td>\n",
       "      <td>3.918605</td>\n",
       "    </tr>\n",
       "    <tr>\n",
       "      <th>4</th>\n",
       "      <td>hAOPSgq9jZ-DiDlOXIpm9g</td>\n",
       "      <td>gaR5jDvZsOC0RQeY-W1eqQ</td>\n",
       "      <td>Mas Amigos</td>\n",
       "      <td>602</td>\n",
       "      <td>4.0</td>\n",
       "      <td>Lauren</td>\n",
       "      <td>120</td>\n",
       "      <td>5.0</td>\n",
       "      <td>Champaign</td>\n",
       "      <td>4.250000</td>\n",
       "      <td>k6_-Lfo8sRnNUrIrROT8Rg</td>\n",
       "      <td>3.918605</td>\n",
       "    </tr>\n",
       "    <tr>\n",
       "      <th>5</th>\n",
       "      <td>hAOPSgq9jZ-DiDlOXIpm9g</td>\n",
       "      <td>gaR5jDvZsOC0RQeY-W1eqQ</td>\n",
       "      <td>Mas Amigos</td>\n",
       "      <td>602</td>\n",
       "      <td>4.0</td>\n",
       "      <td>Lauren</td>\n",
       "      <td>120</td>\n",
       "      <td>5.0</td>\n",
       "      <td>Champaign</td>\n",
       "      <td>4.250000</td>\n",
       "      <td>k6_-Lfo8sRnNUrIrROT8Rg</td>\n",
       "      <td>3.918605</td>\n",
       "    </tr>\n",
       "    <tr>\n",
       "      <th>6</th>\n",
       "      <td>hAOPSgq9jZ-DiDlOXIpm9g</td>\n",
       "      <td>gaR5jDvZsOC0RQeY-W1eqQ</td>\n",
       "      <td>Mas Amigos</td>\n",
       "      <td>602</td>\n",
       "      <td>4.0</td>\n",
       "      <td>Lauren</td>\n",
       "      <td>120</td>\n",
       "      <td>5.0</td>\n",
       "      <td>Champaign</td>\n",
       "      <td>4.250000</td>\n",
       "      <td>k6_-Lfo8sRnNUrIrROT8Rg</td>\n",
       "      <td>3.918605</td>\n",
       "    </tr>\n",
       "    <tr>\n",
       "      <th>7</th>\n",
       "      <td>hAOPSgq9jZ-DiDlOXIpm9g</td>\n",
       "      <td>gaR5jDvZsOC0RQeY-W1eqQ</td>\n",
       "      <td>Mas Amigos</td>\n",
       "      <td>602</td>\n",
       "      <td>4.0</td>\n",
       "      <td>Lauren</td>\n",
       "      <td>120</td>\n",
       "      <td>5.0</td>\n",
       "      <td>Champaign</td>\n",
       "      <td>4.250000</td>\n",
       "      <td>k6_-Lfo8sRnNUrIrROT8Rg</td>\n",
       "      <td>3.918605</td>\n",
       "    </tr>\n",
       "    <tr>\n",
       "      <th>8</th>\n",
       "      <td>hAOPSgq9jZ-DiDlOXIpm9g</td>\n",
       "      <td>gaR5jDvZsOC0RQeY-W1eqQ</td>\n",
       "      <td>Mas Amigos</td>\n",
       "      <td>602</td>\n",
       "      <td>4.0</td>\n",
       "      <td>Lauren</td>\n",
       "      <td>120</td>\n",
       "      <td>5.0</td>\n",
       "      <td>Champaign</td>\n",
       "      <td>4.250000</td>\n",
       "      <td>k6_-Lfo8sRnNUrIrROT8Rg</td>\n",
       "      <td>3.918605</td>\n",
       "    </tr>\n",
       "    <tr>\n",
       "      <th>9</th>\n",
       "      <td>hAOPSgq9jZ-DiDlOXIpm9g</td>\n",
       "      <td>gaR5jDvZsOC0RQeY-W1eqQ</td>\n",
       "      <td>Mas Amigos</td>\n",
       "      <td>602</td>\n",
       "      <td>4.0</td>\n",
       "      <td>Lauren</td>\n",
       "      <td>120</td>\n",
       "      <td>5.0</td>\n",
       "      <td>Champaign</td>\n",
       "      <td>4.250000</td>\n",
       "      <td>k6_-Lfo8sRnNUrIrROT8Rg</td>\n",
       "      <td>3.918605</td>\n",
       "    </tr>\n",
       "    <tr>\n",
       "      <th>10</th>\n",
       "      <td>hAOPSgq9jZ-DiDlOXIpm9g</td>\n",
       "      <td>gaR5jDvZsOC0RQeY-W1eqQ</td>\n",
       "      <td>Mas Amigos</td>\n",
       "      <td>602</td>\n",
       "      <td>4.0</td>\n",
       "      <td>Lauren</td>\n",
       "      <td>120</td>\n",
       "      <td>5.0</td>\n",
       "      <td>Champaign</td>\n",
       "      <td>4.250000</td>\n",
       "      <td>k6_-Lfo8sRnNUrIrROT8Rg</td>\n",
       "      <td>3.918605</td>\n",
       "    </tr>\n",
       "    <tr>\n",
       "      <th>11</th>\n",
       "      <td>hAOPSgq9jZ-DiDlOXIpm9g</td>\n",
       "      <td>gaR5jDvZsOC0RQeY-W1eqQ</td>\n",
       "      <td>Mas Amigos</td>\n",
       "      <td>602</td>\n",
       "      <td>4.0</td>\n",
       "      <td>Lauren</td>\n",
       "      <td>120</td>\n",
       "      <td>5.0</td>\n",
       "      <td>Champaign</td>\n",
       "      <td>4.250000</td>\n",
       "      <td>k6_-Lfo8sRnNUrIrROT8Rg</td>\n",
       "      <td>3.918605</td>\n",
       "    </tr>\n",
       "    <tr>\n",
       "      <th>12</th>\n",
       "      <td>hAOPSgq9jZ-DiDlOXIpm9g</td>\n",
       "      <td>gaR5jDvZsOC0RQeY-W1eqQ</td>\n",
       "      <td>Mas Amigos</td>\n",
       "      <td>602</td>\n",
       "      <td>4.0</td>\n",
       "      <td>Lauren</td>\n",
       "      <td>120</td>\n",
       "      <td>5.0</td>\n",
       "      <td>Champaign</td>\n",
       "      <td>4.250000</td>\n",
       "      <td>k6_-Lfo8sRnNUrIrROT8Rg</td>\n",
       "      <td>3.918605</td>\n",
       "    </tr>\n",
       "    <tr>\n",
       "      <th>13</th>\n",
       "      <td>hAOPSgq9jZ-DiDlOXIpm9g</td>\n",
       "      <td>gaR5jDvZsOC0RQeY-W1eqQ</td>\n",
       "      <td>Mas Amigos</td>\n",
       "      <td>602</td>\n",
       "      <td>4.0</td>\n",
       "      <td>Lauren</td>\n",
       "      <td>120</td>\n",
       "      <td>5.0</td>\n",
       "      <td>Champaign</td>\n",
       "      <td>4.250000</td>\n",
       "      <td>k6_-Lfo8sRnNUrIrROT8Rg</td>\n",
       "      <td>3.918605</td>\n",
       "    </tr>\n",
       "    <tr>\n",
       "      <th>14</th>\n",
       "      <td>hAOPSgq9jZ-DiDlOXIpm9g</td>\n",
       "      <td>gaR5jDvZsOC0RQeY-W1eqQ</td>\n",
       "      <td>Mas Amigos</td>\n",
       "      <td>602</td>\n",
       "      <td>4.0</td>\n",
       "      <td>Lauren</td>\n",
       "      <td>120</td>\n",
       "      <td>5.0</td>\n",
       "      <td>Champaign</td>\n",
       "      <td>4.250000</td>\n",
       "      <td>k6_-Lfo8sRnNUrIrROT8Rg</td>\n",
       "      <td>3.918605</td>\n",
       "    </tr>\n",
       "    <tr>\n",
       "      <th>15</th>\n",
       "      <td>hAOPSgq9jZ-DiDlOXIpm9g</td>\n",
       "      <td>Gvox18F9QxsSS9qG2O8E-A</td>\n",
       "      <td>Sam's Cafe</td>\n",
       "      <td>795</td>\n",
       "      <td>4.0</td>\n",
       "      <td>Lauren</td>\n",
       "      <td>120</td>\n",
       "      <td>5.0</td>\n",
       "      <td>Champaign</td>\n",
       "      <td>4.250000</td>\n",
       "      <td>dOykcs07MkxD7qk0mnK8vg</td>\n",
       "      <td>3.474214</td>\n",
       "    </tr>\n",
       "    <tr>\n",
       "      <th>16</th>\n",
       "      <td>hAOPSgq9jZ-DiDlOXIpm9g</td>\n",
       "      <td>Gvox18F9QxsSS9qG2O8E-A</td>\n",
       "      <td>Sam's Cafe</td>\n",
       "      <td>795</td>\n",
       "      <td>4.0</td>\n",
       "      <td>Lauren</td>\n",
       "      <td>120</td>\n",
       "      <td>5.0</td>\n",
       "      <td>Champaign</td>\n",
       "      <td>4.250000</td>\n",
       "      <td>dOykcs07MkxD7qk0mnK8vg</td>\n",
       "      <td>3.474214</td>\n",
       "    </tr>\n",
       "    <tr>\n",
       "      <th>17</th>\n",
       "      <td>hAOPSgq9jZ-DiDlOXIpm9g</td>\n",
       "      <td>Gvox18F9QxsSS9qG2O8E-A</td>\n",
       "      <td>Sam's Cafe</td>\n",
       "      <td>795</td>\n",
       "      <td>4.0</td>\n",
       "      <td>Lauren</td>\n",
       "      <td>120</td>\n",
       "      <td>5.0</td>\n",
       "      <td>Champaign</td>\n",
       "      <td>4.250000</td>\n",
       "      <td>dOykcs07MkxD7qk0mnK8vg</td>\n",
       "      <td>3.474214</td>\n",
       "    </tr>\n",
       "    <tr>\n",
       "      <th>18</th>\n",
       "      <td>hAOPSgq9jZ-DiDlOXIpm9g</td>\n",
       "      <td>Gvox18F9QxsSS9qG2O8E-A</td>\n",
       "      <td>Sam's Cafe</td>\n",
       "      <td>795</td>\n",
       "      <td>4.0</td>\n",
       "      <td>Lauren</td>\n",
       "      <td>120</td>\n",
       "      <td>5.0</td>\n",
       "      <td>Champaign</td>\n",
       "      <td>4.250000</td>\n",
       "      <td>dOykcs07MkxD7qk0mnK8vg</td>\n",
       "      <td>3.474214</td>\n",
       "    </tr>\n",
       "    <tr>\n",
       "      <th>19</th>\n",
       "      <td>hAOPSgq9jZ-DiDlOXIpm9g</td>\n",
       "      <td>Gvox18F9QxsSS9qG2O8E-A</td>\n",
       "      <td>Sam's Cafe</td>\n",
       "      <td>795</td>\n",
       "      <td>4.0</td>\n",
       "      <td>Lauren</td>\n",
       "      <td>120</td>\n",
       "      <td>5.0</td>\n",
       "      <td>Champaign</td>\n",
       "      <td>4.250000</td>\n",
       "      <td>dOykcs07MkxD7qk0mnK8vg</td>\n",
       "      <td>3.474214</td>\n",
       "    </tr>\n",
       "    <tr>\n",
       "      <th>20</th>\n",
       "      <td>hAOPSgq9jZ-DiDlOXIpm9g</td>\n",
       "      <td>Gvox18F9QxsSS9qG2O8E-A</td>\n",
       "      <td>Sam's Cafe</td>\n",
       "      <td>795</td>\n",
       "      <td>4.0</td>\n",
       "      <td>Lauren</td>\n",
       "      <td>120</td>\n",
       "      <td>5.0</td>\n",
       "      <td>Champaign</td>\n",
       "      <td>4.250000</td>\n",
       "      <td>dOykcs07MkxD7qk0mnK8vg</td>\n",
       "      <td>3.474214</td>\n",
       "    </tr>\n",
       "    <tr>\n",
       "      <th>21</th>\n",
       "      <td>hAOPSgq9jZ-DiDlOXIpm9g</td>\n",
       "      <td>Gvox18F9QxsSS9qG2O8E-A</td>\n",
       "      <td>Sam's Cafe</td>\n",
       "      <td>795</td>\n",
       "      <td>4.0</td>\n",
       "      <td>Lauren</td>\n",
       "      <td>120</td>\n",
       "      <td>5.0</td>\n",
       "      <td>Champaign</td>\n",
       "      <td>4.250000</td>\n",
       "      <td>dOykcs07MkxD7qk0mnK8vg</td>\n",
       "      <td>3.474214</td>\n",
       "    </tr>\n",
       "    <tr>\n",
       "      <th>22</th>\n",
       "      <td>hAOPSgq9jZ-DiDlOXIpm9g</td>\n",
       "      <td>Gvox18F9QxsSS9qG2O8E-A</td>\n",
       "      <td>Sam's Cafe</td>\n",
       "      <td>795</td>\n",
       "      <td>4.0</td>\n",
       "      <td>Lauren</td>\n",
       "      <td>120</td>\n",
       "      <td>5.0</td>\n",
       "      <td>Champaign</td>\n",
       "      <td>4.250000</td>\n",
       "      <td>dOykcs07MkxD7qk0mnK8vg</td>\n",
       "      <td>3.474214</td>\n",
       "    </tr>\n",
       "    <tr>\n",
       "      <th>23</th>\n",
       "      <td>hAOPSgq9jZ-DiDlOXIpm9g</td>\n",
       "      <td>Gvox18F9QxsSS9qG2O8E-A</td>\n",
       "      <td>Sam's Cafe</td>\n",
       "      <td>795</td>\n",
       "      <td>4.0</td>\n",
       "      <td>Lauren</td>\n",
       "      <td>120</td>\n",
       "      <td>5.0</td>\n",
       "      <td>Champaign</td>\n",
       "      <td>4.250000</td>\n",
       "      <td>dOykcs07MkxD7qk0mnK8vg</td>\n",
       "      <td>3.474214</td>\n",
       "    </tr>\n",
       "    <tr>\n",
       "      <th>24</th>\n",
       "      <td>hAOPSgq9jZ-DiDlOXIpm9g</td>\n",
       "      <td>Gvox18F9QxsSS9qG2O8E-A</td>\n",
       "      <td>Sam's Cafe</td>\n",
       "      <td>795</td>\n",
       "      <td>4.0</td>\n",
       "      <td>Lauren</td>\n",
       "      <td>120</td>\n",
       "      <td>5.0</td>\n",
       "      <td>Champaign</td>\n",
       "      <td>4.250000</td>\n",
       "      <td>dOykcs07MkxD7qk0mnK8vg</td>\n",
       "      <td>3.474214</td>\n",
       "    </tr>\n",
       "    <tr>\n",
       "      <th>25</th>\n",
       "      <td>hAOPSgq9jZ-DiDlOXIpm9g</td>\n",
       "      <td>Gvox18F9QxsSS9qG2O8E-A</td>\n",
       "      <td>Sam's Cafe</td>\n",
       "      <td>795</td>\n",
       "      <td>4.0</td>\n",
       "      <td>Lauren</td>\n",
       "      <td>120</td>\n",
       "      <td>5.0</td>\n",
       "      <td>Champaign</td>\n",
       "      <td>4.250000</td>\n",
       "      <td>dOykcs07MkxD7qk0mnK8vg</td>\n",
       "      <td>3.474214</td>\n",
       "    </tr>\n",
       "    <tr>\n",
       "      <th>26</th>\n",
       "      <td>hAOPSgq9jZ-DiDlOXIpm9g</td>\n",
       "      <td>Gvox18F9QxsSS9qG2O8E-A</td>\n",
       "      <td>Sam's Cafe</td>\n",
       "      <td>795</td>\n",
       "      <td>4.0</td>\n",
       "      <td>Lauren</td>\n",
       "      <td>120</td>\n",
       "      <td>5.0</td>\n",
       "      <td>Champaign</td>\n",
       "      <td>4.250000</td>\n",
       "      <td>dOykcs07MkxD7qk0mnK8vg</td>\n",
       "      <td>3.474214</td>\n",
       "    </tr>\n",
       "    <tr>\n",
       "      <th>27</th>\n",
       "      <td>hAOPSgq9jZ-DiDlOXIpm9g</td>\n",
       "      <td>Gvox18F9QxsSS9qG2O8E-A</td>\n",
       "      <td>Sam's Cafe</td>\n",
       "      <td>795</td>\n",
       "      <td>4.0</td>\n",
       "      <td>Lauren</td>\n",
       "      <td>120</td>\n",
       "      <td>5.0</td>\n",
       "      <td>Champaign</td>\n",
       "      <td>4.250000</td>\n",
       "      <td>dOykcs07MkxD7qk0mnK8vg</td>\n",
       "      <td>3.474214</td>\n",
       "    </tr>\n",
       "    <tr>\n",
       "      <th>28</th>\n",
       "      <td>hAOPSgq9jZ-DiDlOXIpm9g</td>\n",
       "      <td>Gvox18F9QxsSS9qG2O8E-A</td>\n",
       "      <td>Sam's Cafe</td>\n",
       "      <td>795</td>\n",
       "      <td>4.0</td>\n",
       "      <td>Lauren</td>\n",
       "      <td>120</td>\n",
       "      <td>5.0</td>\n",
       "      <td>Champaign</td>\n",
       "      <td>4.250000</td>\n",
       "      <td>dOykcs07MkxD7qk0mnK8vg</td>\n",
       "      <td>3.474214</td>\n",
       "    </tr>\n",
       "    <tr>\n",
       "      <th>29</th>\n",
       "      <td>hAOPSgq9jZ-DiDlOXIpm9g</td>\n",
       "      <td>Gvox18F9QxsSS9qG2O8E-A</td>\n",
       "      <td>Sam's Cafe</td>\n",
       "      <td>795</td>\n",
       "      <td>4.0</td>\n",
       "      <td>Lauren</td>\n",
       "      <td>120</td>\n",
       "      <td>5.0</td>\n",
       "      <td>Champaign</td>\n",
       "      <td>4.250000</td>\n",
       "      <td>dOykcs07MkxD7qk0mnK8vg</td>\n",
       "      <td>3.474214</td>\n",
       "    </tr>\n",
       "    <tr>\n",
       "      <th>...</th>\n",
       "      <td>...</td>\n",
       "      <td>...</td>\n",
       "      <td>...</td>\n",
       "      <td>...</td>\n",
       "      <td>...</td>\n",
       "      <td>...</td>\n",
       "      <td>...</td>\n",
       "      <td>...</td>\n",
       "      <td>...</td>\n",
       "      <td>...</td>\n",
       "      <td>...</td>\n",
       "      <td>...</td>\n",
       "    </tr>\n",
       "    <tr>\n",
       "      <th>83756</th>\n",
       "      <td>NXmp8CW4RFKAU0oNWb--wA</td>\n",
       "      <td>0-WocGTpO3Zm4q1Zzz49Rw</td>\n",
       "      <td>Sushi Kame</td>\n",
       "      <td>1030</td>\n",
       "      <td>3.5</td>\n",
       "      <td>Lauren</td>\n",
       "      <td>60</td>\n",
       "      <td>1.0</td>\n",
       "      <td>Champaign</td>\n",
       "      <td>3.666667</td>\n",
       "      <td>ypeUXoV1gESuTdmPlfOSag</td>\n",
       "      <td>3.603883</td>\n",
       "    </tr>\n",
       "    <tr>\n",
       "      <th>83757</th>\n",
       "      <td>NXmp8CW4RFKAU0oNWb--wA</td>\n",
       "      <td>0-WocGTpO3Zm4q1Zzz49Rw</td>\n",
       "      <td>Sushi Kame</td>\n",
       "      <td>1030</td>\n",
       "      <td>3.5</td>\n",
       "      <td>Lauren</td>\n",
       "      <td>60</td>\n",
       "      <td>1.0</td>\n",
       "      <td>Champaign</td>\n",
       "      <td>3.666667</td>\n",
       "      <td>ypeUXoV1gESuTdmPlfOSag</td>\n",
       "      <td>3.603883</td>\n",
       "    </tr>\n",
       "    <tr>\n",
       "      <th>83758</th>\n",
       "      <td>NXmp8CW4RFKAU0oNWb--wA</td>\n",
       "      <td>0-WocGTpO3Zm4q1Zzz49Rw</td>\n",
       "      <td>Sushi Kame</td>\n",
       "      <td>1030</td>\n",
       "      <td>3.5</td>\n",
       "      <td>Lauren</td>\n",
       "      <td>60</td>\n",
       "      <td>1.0</td>\n",
       "      <td>Champaign</td>\n",
       "      <td>3.666667</td>\n",
       "      <td>ypeUXoV1gESuTdmPlfOSag</td>\n",
       "      <td>3.603883</td>\n",
       "    </tr>\n",
       "    <tr>\n",
       "      <th>83759</th>\n",
       "      <td>NXmp8CW4RFKAU0oNWb--wA</td>\n",
       "      <td>0-WocGTpO3Zm4q1Zzz49Rw</td>\n",
       "      <td>Sushi Kame</td>\n",
       "      <td>1030</td>\n",
       "      <td>3.5</td>\n",
       "      <td>Lauren</td>\n",
       "      <td>60</td>\n",
       "      <td>1.0</td>\n",
       "      <td>Champaign</td>\n",
       "      <td>3.666667</td>\n",
       "      <td>ypeUXoV1gESuTdmPlfOSag</td>\n",
       "      <td>3.603883</td>\n",
       "    </tr>\n",
       "    <tr>\n",
       "      <th>83760</th>\n",
       "      <td>NXmp8CW4RFKAU0oNWb--wA</td>\n",
       "      <td>0-WocGTpO3Zm4q1Zzz49Rw</td>\n",
       "      <td>Sushi Kame</td>\n",
       "      <td>1030</td>\n",
       "      <td>3.5</td>\n",
       "      <td>Lauren</td>\n",
       "      <td>60</td>\n",
       "      <td>1.0</td>\n",
       "      <td>Champaign</td>\n",
       "      <td>3.666667</td>\n",
       "      <td>ypeUXoV1gESuTdmPlfOSag</td>\n",
       "      <td>3.603883</td>\n",
       "    </tr>\n",
       "    <tr>\n",
       "      <th>83761</th>\n",
       "      <td>NXmp8CW4RFKAU0oNWb--wA</td>\n",
       "      <td>0-WocGTpO3Zm4q1Zzz49Rw</td>\n",
       "      <td>Sushi Kame</td>\n",
       "      <td>1030</td>\n",
       "      <td>3.5</td>\n",
       "      <td>Lauren</td>\n",
       "      <td>60</td>\n",
       "      <td>1.0</td>\n",
       "      <td>Champaign</td>\n",
       "      <td>3.666667</td>\n",
       "      <td>ypeUXoV1gESuTdmPlfOSag</td>\n",
       "      <td>3.603883</td>\n",
       "    </tr>\n",
       "    <tr>\n",
       "      <th>83762</th>\n",
       "      <td>NXmp8CW4RFKAU0oNWb--wA</td>\n",
       "      <td>0-WocGTpO3Zm4q1Zzz49Rw</td>\n",
       "      <td>Sushi Kame</td>\n",
       "      <td>1030</td>\n",
       "      <td>3.5</td>\n",
       "      <td>Lauren</td>\n",
       "      <td>60</td>\n",
       "      <td>1.0</td>\n",
       "      <td>Champaign</td>\n",
       "      <td>3.666667</td>\n",
       "      <td>ypeUXoV1gESuTdmPlfOSag</td>\n",
       "      <td>3.603883</td>\n",
       "    </tr>\n",
       "    <tr>\n",
       "      <th>83763</th>\n",
       "      <td>NXmp8CW4RFKAU0oNWb--wA</td>\n",
       "      <td>0-WocGTpO3Zm4q1Zzz49Rw</td>\n",
       "      <td>Sushi Kame</td>\n",
       "      <td>1030</td>\n",
       "      <td>3.5</td>\n",
       "      <td>Lauren</td>\n",
       "      <td>60</td>\n",
       "      <td>1.0</td>\n",
       "      <td>Champaign</td>\n",
       "      <td>3.666667</td>\n",
       "      <td>ypeUXoV1gESuTdmPlfOSag</td>\n",
       "      <td>3.603883</td>\n",
       "    </tr>\n",
       "    <tr>\n",
       "      <th>83764</th>\n",
       "      <td>NXmp8CW4RFKAU0oNWb--wA</td>\n",
       "      <td>0-WocGTpO3Zm4q1Zzz49Rw</td>\n",
       "      <td>Sushi Kame</td>\n",
       "      <td>1030</td>\n",
       "      <td>3.5</td>\n",
       "      <td>Lauren</td>\n",
       "      <td>60</td>\n",
       "      <td>1.0</td>\n",
       "      <td>Champaign</td>\n",
       "      <td>3.666667</td>\n",
       "      <td>ypeUXoV1gESuTdmPlfOSag</td>\n",
       "      <td>3.603883</td>\n",
       "    </tr>\n",
       "    <tr>\n",
       "      <th>83765</th>\n",
       "      <td>NXmp8CW4RFKAU0oNWb--wA</td>\n",
       "      <td>L2c-qKZWumCmOCR-dqBLrg</td>\n",
       "      <td>Seven Saints</td>\n",
       "      <td>2123</td>\n",
       "      <td>4.0</td>\n",
       "      <td>Lauren</td>\n",
       "      <td>60</td>\n",
       "      <td>4.0</td>\n",
       "      <td>Champaign</td>\n",
       "      <td>3.666667</td>\n",
       "      <td>2Mf3F2OuPgPUG9FF6MXrBw</td>\n",
       "      <td>3.382949</td>\n",
       "    </tr>\n",
       "    <tr>\n",
       "      <th>83766</th>\n",
       "      <td>NXmp8CW4RFKAU0oNWb--wA</td>\n",
       "      <td>L2c-qKZWumCmOCR-dqBLrg</td>\n",
       "      <td>Seven Saints</td>\n",
       "      <td>2123</td>\n",
       "      <td>4.0</td>\n",
       "      <td>Lauren</td>\n",
       "      <td>60</td>\n",
       "      <td>4.0</td>\n",
       "      <td>Champaign</td>\n",
       "      <td>3.666667</td>\n",
       "      <td>2Mf3F2OuPgPUG9FF6MXrBw</td>\n",
       "      <td>3.382949</td>\n",
       "    </tr>\n",
       "    <tr>\n",
       "      <th>83767</th>\n",
       "      <td>NXmp8CW4RFKAU0oNWb--wA</td>\n",
       "      <td>L2c-qKZWumCmOCR-dqBLrg</td>\n",
       "      <td>Seven Saints</td>\n",
       "      <td>2123</td>\n",
       "      <td>4.0</td>\n",
       "      <td>Lauren</td>\n",
       "      <td>60</td>\n",
       "      <td>4.0</td>\n",
       "      <td>Champaign</td>\n",
       "      <td>3.666667</td>\n",
       "      <td>2Mf3F2OuPgPUG9FF6MXrBw</td>\n",
       "      <td>3.382949</td>\n",
       "    </tr>\n",
       "    <tr>\n",
       "      <th>83768</th>\n",
       "      <td>NXmp8CW4RFKAU0oNWb--wA</td>\n",
       "      <td>L2c-qKZWumCmOCR-dqBLrg</td>\n",
       "      <td>Seven Saints</td>\n",
       "      <td>2123</td>\n",
       "      <td>4.0</td>\n",
       "      <td>Lauren</td>\n",
       "      <td>60</td>\n",
       "      <td>4.0</td>\n",
       "      <td>Champaign</td>\n",
       "      <td>3.666667</td>\n",
       "      <td>2Mf3F2OuPgPUG9FF6MXrBw</td>\n",
       "      <td>3.382949</td>\n",
       "    </tr>\n",
       "    <tr>\n",
       "      <th>83769</th>\n",
       "      <td>NXmp8CW4RFKAU0oNWb--wA</td>\n",
       "      <td>L2c-qKZWumCmOCR-dqBLrg</td>\n",
       "      <td>Seven Saints</td>\n",
       "      <td>2123</td>\n",
       "      <td>4.0</td>\n",
       "      <td>Lauren</td>\n",
       "      <td>60</td>\n",
       "      <td>4.0</td>\n",
       "      <td>Champaign</td>\n",
       "      <td>3.666667</td>\n",
       "      <td>2Mf3F2OuPgPUG9FF6MXrBw</td>\n",
       "      <td>3.382949</td>\n",
       "    </tr>\n",
       "    <tr>\n",
       "      <th>83770</th>\n",
       "      <td>NXmp8CW4RFKAU0oNWb--wA</td>\n",
       "      <td>L2c-qKZWumCmOCR-dqBLrg</td>\n",
       "      <td>Seven Saints</td>\n",
       "      <td>2123</td>\n",
       "      <td>4.0</td>\n",
       "      <td>Lauren</td>\n",
       "      <td>60</td>\n",
       "      <td>4.0</td>\n",
       "      <td>Champaign</td>\n",
       "      <td>3.666667</td>\n",
       "      <td>2Mf3F2OuPgPUG9FF6MXrBw</td>\n",
       "      <td>3.382949</td>\n",
       "    </tr>\n",
       "    <tr>\n",
       "      <th>83771</th>\n",
       "      <td>NXmp8CW4RFKAU0oNWb--wA</td>\n",
       "      <td>L2c-qKZWumCmOCR-dqBLrg</td>\n",
       "      <td>Seven Saints</td>\n",
       "      <td>2123</td>\n",
       "      <td>4.0</td>\n",
       "      <td>Lauren</td>\n",
       "      <td>60</td>\n",
       "      <td>4.0</td>\n",
       "      <td>Champaign</td>\n",
       "      <td>3.666667</td>\n",
       "      <td>2Mf3F2OuPgPUG9FF6MXrBw</td>\n",
       "      <td>3.382949</td>\n",
       "    </tr>\n",
       "    <tr>\n",
       "      <th>83772</th>\n",
       "      <td>NXmp8CW4RFKAU0oNWb--wA</td>\n",
       "      <td>L2c-qKZWumCmOCR-dqBLrg</td>\n",
       "      <td>Seven Saints</td>\n",
       "      <td>2123</td>\n",
       "      <td>4.0</td>\n",
       "      <td>Lauren</td>\n",
       "      <td>60</td>\n",
       "      <td>4.0</td>\n",
       "      <td>Champaign</td>\n",
       "      <td>3.666667</td>\n",
       "      <td>2Mf3F2OuPgPUG9FF6MXrBw</td>\n",
       "      <td>3.382949</td>\n",
       "    </tr>\n",
       "    <tr>\n",
       "      <th>83773</th>\n",
       "      <td>NXmp8CW4RFKAU0oNWb--wA</td>\n",
       "      <td>L2c-qKZWumCmOCR-dqBLrg</td>\n",
       "      <td>Seven Saints</td>\n",
       "      <td>2123</td>\n",
       "      <td>4.0</td>\n",
       "      <td>Lauren</td>\n",
       "      <td>60</td>\n",
       "      <td>4.0</td>\n",
       "      <td>Champaign</td>\n",
       "      <td>3.666667</td>\n",
       "      <td>2Mf3F2OuPgPUG9FF6MXrBw</td>\n",
       "      <td>3.382949</td>\n",
       "    </tr>\n",
       "    <tr>\n",
       "      <th>83774</th>\n",
       "      <td>NXmp8CW4RFKAU0oNWb--wA</td>\n",
       "      <td>L2c-qKZWumCmOCR-dqBLrg</td>\n",
       "      <td>Seven Saints</td>\n",
       "      <td>2123</td>\n",
       "      <td>4.0</td>\n",
       "      <td>Lauren</td>\n",
       "      <td>60</td>\n",
       "      <td>4.0</td>\n",
       "      <td>Champaign</td>\n",
       "      <td>3.666667</td>\n",
       "      <td>2Mf3F2OuPgPUG9FF6MXrBw</td>\n",
       "      <td>3.382949</td>\n",
       "    </tr>\n",
       "    <tr>\n",
       "      <th>83775</th>\n",
       "      <td>NXmp8CW4RFKAU0oNWb--wA</td>\n",
       "      <td>NEVA0IYbawceL6kz5v5DAw</td>\n",
       "      <td>Kofusion</td>\n",
       "      <td>1858</td>\n",
       "      <td>3.5</td>\n",
       "      <td>Lauren</td>\n",
       "      <td>60</td>\n",
       "      <td>5.0</td>\n",
       "      <td>Champaign</td>\n",
       "      <td>3.666667</td>\n",
       "      <td>kUHoJKGJg5OqF2zUDhWOWQ</td>\n",
       "      <td>3.287944</td>\n",
       "    </tr>\n",
       "    <tr>\n",
       "      <th>83776</th>\n",
       "      <td>NXmp8CW4RFKAU0oNWb--wA</td>\n",
       "      <td>NEVA0IYbawceL6kz5v5DAw</td>\n",
       "      <td>Kofusion</td>\n",
       "      <td>1858</td>\n",
       "      <td>3.5</td>\n",
       "      <td>Lauren</td>\n",
       "      <td>60</td>\n",
       "      <td>5.0</td>\n",
       "      <td>Champaign</td>\n",
       "      <td>3.666667</td>\n",
       "      <td>kUHoJKGJg5OqF2zUDhWOWQ</td>\n",
       "      <td>3.287944</td>\n",
       "    </tr>\n",
       "    <tr>\n",
       "      <th>83777</th>\n",
       "      <td>NXmp8CW4RFKAU0oNWb--wA</td>\n",
       "      <td>NEVA0IYbawceL6kz5v5DAw</td>\n",
       "      <td>Kofusion</td>\n",
       "      <td>1858</td>\n",
       "      <td>3.5</td>\n",
       "      <td>Lauren</td>\n",
       "      <td>60</td>\n",
       "      <td>5.0</td>\n",
       "      <td>Champaign</td>\n",
       "      <td>3.666667</td>\n",
       "      <td>kUHoJKGJg5OqF2zUDhWOWQ</td>\n",
       "      <td>3.287944</td>\n",
       "    </tr>\n",
       "    <tr>\n",
       "      <th>83778</th>\n",
       "      <td>NXmp8CW4RFKAU0oNWb--wA</td>\n",
       "      <td>NEVA0IYbawceL6kz5v5DAw</td>\n",
       "      <td>Kofusion</td>\n",
       "      <td>1858</td>\n",
       "      <td>3.5</td>\n",
       "      <td>Lauren</td>\n",
       "      <td>60</td>\n",
       "      <td>5.0</td>\n",
       "      <td>Champaign</td>\n",
       "      <td>3.666667</td>\n",
       "      <td>kUHoJKGJg5OqF2zUDhWOWQ</td>\n",
       "      <td>3.287944</td>\n",
       "    </tr>\n",
       "    <tr>\n",
       "      <th>83779</th>\n",
       "      <td>NXmp8CW4RFKAU0oNWb--wA</td>\n",
       "      <td>NEVA0IYbawceL6kz5v5DAw</td>\n",
       "      <td>Kofusion</td>\n",
       "      <td>1858</td>\n",
       "      <td>3.5</td>\n",
       "      <td>Lauren</td>\n",
       "      <td>60</td>\n",
       "      <td>5.0</td>\n",
       "      <td>Champaign</td>\n",
       "      <td>3.666667</td>\n",
       "      <td>kUHoJKGJg5OqF2zUDhWOWQ</td>\n",
       "      <td>3.287944</td>\n",
       "    </tr>\n",
       "    <tr>\n",
       "      <th>83780</th>\n",
       "      <td>NXmp8CW4RFKAU0oNWb--wA</td>\n",
       "      <td>NEVA0IYbawceL6kz5v5DAw</td>\n",
       "      <td>Kofusion</td>\n",
       "      <td>1858</td>\n",
       "      <td>3.5</td>\n",
       "      <td>Lauren</td>\n",
       "      <td>60</td>\n",
       "      <td>5.0</td>\n",
       "      <td>Champaign</td>\n",
       "      <td>3.666667</td>\n",
       "      <td>kUHoJKGJg5OqF2zUDhWOWQ</td>\n",
       "      <td>3.287944</td>\n",
       "    </tr>\n",
       "    <tr>\n",
       "      <th>83781</th>\n",
       "      <td>NXmp8CW4RFKAU0oNWb--wA</td>\n",
       "      <td>NEVA0IYbawceL6kz5v5DAw</td>\n",
       "      <td>Kofusion</td>\n",
       "      <td>1858</td>\n",
       "      <td>3.5</td>\n",
       "      <td>Lauren</td>\n",
       "      <td>60</td>\n",
       "      <td>5.0</td>\n",
       "      <td>Champaign</td>\n",
       "      <td>3.666667</td>\n",
       "      <td>kUHoJKGJg5OqF2zUDhWOWQ</td>\n",
       "      <td>3.287944</td>\n",
       "    </tr>\n",
       "    <tr>\n",
       "      <th>83782</th>\n",
       "      <td>NXmp8CW4RFKAU0oNWb--wA</td>\n",
       "      <td>NEVA0IYbawceL6kz5v5DAw</td>\n",
       "      <td>Kofusion</td>\n",
       "      <td>1858</td>\n",
       "      <td>3.5</td>\n",
       "      <td>Lauren</td>\n",
       "      <td>60</td>\n",
       "      <td>5.0</td>\n",
       "      <td>Champaign</td>\n",
       "      <td>3.666667</td>\n",
       "      <td>kUHoJKGJg5OqF2zUDhWOWQ</td>\n",
       "      <td>3.287944</td>\n",
       "    </tr>\n",
       "    <tr>\n",
       "      <th>83783</th>\n",
       "      <td>NXmp8CW4RFKAU0oNWb--wA</td>\n",
       "      <td>NEVA0IYbawceL6kz5v5DAw</td>\n",
       "      <td>Kofusion</td>\n",
       "      <td>1858</td>\n",
       "      <td>3.5</td>\n",
       "      <td>Lauren</td>\n",
       "      <td>60</td>\n",
       "      <td>5.0</td>\n",
       "      <td>Champaign</td>\n",
       "      <td>3.666667</td>\n",
       "      <td>kUHoJKGJg5OqF2zUDhWOWQ</td>\n",
       "      <td>3.287944</td>\n",
       "    </tr>\n",
       "    <tr>\n",
       "      <th>83784</th>\n",
       "      <td>NXmp8CW4RFKAU0oNWb--wA</td>\n",
       "      <td>NEVA0IYbawceL6kz5v5DAw</td>\n",
       "      <td>Kofusion</td>\n",
       "      <td>1858</td>\n",
       "      <td>3.5</td>\n",
       "      <td>Lauren</td>\n",
       "      <td>60</td>\n",
       "      <td>5.0</td>\n",
       "      <td>Champaign</td>\n",
       "      <td>3.666667</td>\n",
       "      <td>kUHoJKGJg5OqF2zUDhWOWQ</td>\n",
       "      <td>3.287944</td>\n",
       "    </tr>\n",
       "    <tr>\n",
       "      <th>87888</th>\n",
       "      <td>gYweIEKEgMEGQprF7yw6hQ</td>\n",
       "      <td>lWmDrnqgU6w3gFaJyn_1Uw</td>\n",
       "      <td>Radio Maria</td>\n",
       "      <td>1625</td>\n",
       "      <td>3.5</td>\n",
       "      <td>Lauren</td>\n",
       "      <td>1</td>\n",
       "      <td>5.0</td>\n",
       "      <td>Champaign</td>\n",
       "      <td>5.000000</td>\n",
       "      <td>GHPx8TCQ9Ymuqx3wuQ8blg</td>\n",
       "      <td>3.564923</td>\n",
       "    </tr>\n",
       "  </tbody>\n",
       "</table>\n",
       "<p>182 rows × 12 columns</p>\n",
       "</div>"
      ],
      "text/plain": [
       "                      user_id             business_id      biz_name  business_review_count  business_average user_name  user_review_count  stars       city  user_avg               review_id  business_avg\n",
       "0      hAOPSgq9jZ-DiDlOXIpm9g  gaR5jDvZsOC0RQeY-W1eqQ    Mas Amigos                    602               4.0    Lauren                120    5.0  Champaign  4.250000  k6_-Lfo8sRnNUrIrROT8Rg      3.918605\n",
       "1      hAOPSgq9jZ-DiDlOXIpm9g  gaR5jDvZsOC0RQeY-W1eqQ    Mas Amigos                    602               4.0    Lauren                120    5.0  Champaign  4.250000  k6_-Lfo8sRnNUrIrROT8Rg      3.918605\n",
       "2      hAOPSgq9jZ-DiDlOXIpm9g  gaR5jDvZsOC0RQeY-W1eqQ    Mas Amigos                    602               4.0    Lauren                120    5.0  Champaign  4.250000  k6_-Lfo8sRnNUrIrROT8Rg      3.918605\n",
       "3      hAOPSgq9jZ-DiDlOXIpm9g  gaR5jDvZsOC0RQeY-W1eqQ    Mas Amigos                    602               4.0    Lauren                120    5.0  Champaign  4.250000  k6_-Lfo8sRnNUrIrROT8Rg      3.918605\n",
       "4      hAOPSgq9jZ-DiDlOXIpm9g  gaR5jDvZsOC0RQeY-W1eqQ    Mas Amigos                    602               4.0    Lauren                120    5.0  Champaign  4.250000  k6_-Lfo8sRnNUrIrROT8Rg      3.918605\n",
       "5      hAOPSgq9jZ-DiDlOXIpm9g  gaR5jDvZsOC0RQeY-W1eqQ    Mas Amigos                    602               4.0    Lauren                120    5.0  Champaign  4.250000  k6_-Lfo8sRnNUrIrROT8Rg      3.918605\n",
       "6      hAOPSgq9jZ-DiDlOXIpm9g  gaR5jDvZsOC0RQeY-W1eqQ    Mas Amigos                    602               4.0    Lauren                120    5.0  Champaign  4.250000  k6_-Lfo8sRnNUrIrROT8Rg      3.918605\n",
       "7      hAOPSgq9jZ-DiDlOXIpm9g  gaR5jDvZsOC0RQeY-W1eqQ    Mas Amigos                    602               4.0    Lauren                120    5.0  Champaign  4.250000  k6_-Lfo8sRnNUrIrROT8Rg      3.918605\n",
       "8      hAOPSgq9jZ-DiDlOXIpm9g  gaR5jDvZsOC0RQeY-W1eqQ    Mas Amigos                    602               4.0    Lauren                120    5.0  Champaign  4.250000  k6_-Lfo8sRnNUrIrROT8Rg      3.918605\n",
       "9      hAOPSgq9jZ-DiDlOXIpm9g  gaR5jDvZsOC0RQeY-W1eqQ    Mas Amigos                    602               4.0    Lauren                120    5.0  Champaign  4.250000  k6_-Lfo8sRnNUrIrROT8Rg      3.918605\n",
       "10     hAOPSgq9jZ-DiDlOXIpm9g  gaR5jDvZsOC0RQeY-W1eqQ    Mas Amigos                    602               4.0    Lauren                120    5.0  Champaign  4.250000  k6_-Lfo8sRnNUrIrROT8Rg      3.918605\n",
       "11     hAOPSgq9jZ-DiDlOXIpm9g  gaR5jDvZsOC0RQeY-W1eqQ    Mas Amigos                    602               4.0    Lauren                120    5.0  Champaign  4.250000  k6_-Lfo8sRnNUrIrROT8Rg      3.918605\n",
       "12     hAOPSgq9jZ-DiDlOXIpm9g  gaR5jDvZsOC0RQeY-W1eqQ    Mas Amigos                    602               4.0    Lauren                120    5.0  Champaign  4.250000  k6_-Lfo8sRnNUrIrROT8Rg      3.918605\n",
       "13     hAOPSgq9jZ-DiDlOXIpm9g  gaR5jDvZsOC0RQeY-W1eqQ    Mas Amigos                    602               4.0    Lauren                120    5.0  Champaign  4.250000  k6_-Lfo8sRnNUrIrROT8Rg      3.918605\n",
       "14     hAOPSgq9jZ-DiDlOXIpm9g  gaR5jDvZsOC0RQeY-W1eqQ    Mas Amigos                    602               4.0    Lauren                120    5.0  Champaign  4.250000  k6_-Lfo8sRnNUrIrROT8Rg      3.918605\n",
       "15     hAOPSgq9jZ-DiDlOXIpm9g  Gvox18F9QxsSS9qG2O8E-A    Sam's Cafe                    795               4.0    Lauren                120    5.0  Champaign  4.250000  dOykcs07MkxD7qk0mnK8vg      3.474214\n",
       "16     hAOPSgq9jZ-DiDlOXIpm9g  Gvox18F9QxsSS9qG2O8E-A    Sam's Cafe                    795               4.0    Lauren                120    5.0  Champaign  4.250000  dOykcs07MkxD7qk0mnK8vg      3.474214\n",
       "17     hAOPSgq9jZ-DiDlOXIpm9g  Gvox18F9QxsSS9qG2O8E-A    Sam's Cafe                    795               4.0    Lauren                120    5.0  Champaign  4.250000  dOykcs07MkxD7qk0mnK8vg      3.474214\n",
       "18     hAOPSgq9jZ-DiDlOXIpm9g  Gvox18F9QxsSS9qG2O8E-A    Sam's Cafe                    795               4.0    Lauren                120    5.0  Champaign  4.250000  dOykcs07MkxD7qk0mnK8vg      3.474214\n",
       "19     hAOPSgq9jZ-DiDlOXIpm9g  Gvox18F9QxsSS9qG2O8E-A    Sam's Cafe                    795               4.0    Lauren                120    5.0  Champaign  4.250000  dOykcs07MkxD7qk0mnK8vg      3.474214\n",
       "20     hAOPSgq9jZ-DiDlOXIpm9g  Gvox18F9QxsSS9qG2O8E-A    Sam's Cafe                    795               4.0    Lauren                120    5.0  Champaign  4.250000  dOykcs07MkxD7qk0mnK8vg      3.474214\n",
       "21     hAOPSgq9jZ-DiDlOXIpm9g  Gvox18F9QxsSS9qG2O8E-A    Sam's Cafe                    795               4.0    Lauren                120    5.0  Champaign  4.250000  dOykcs07MkxD7qk0mnK8vg      3.474214\n",
       "22     hAOPSgq9jZ-DiDlOXIpm9g  Gvox18F9QxsSS9qG2O8E-A    Sam's Cafe                    795               4.0    Lauren                120    5.0  Champaign  4.250000  dOykcs07MkxD7qk0mnK8vg      3.474214\n",
       "23     hAOPSgq9jZ-DiDlOXIpm9g  Gvox18F9QxsSS9qG2O8E-A    Sam's Cafe                    795               4.0    Lauren                120    5.0  Champaign  4.250000  dOykcs07MkxD7qk0mnK8vg      3.474214\n",
       "24     hAOPSgq9jZ-DiDlOXIpm9g  Gvox18F9QxsSS9qG2O8E-A    Sam's Cafe                    795               4.0    Lauren                120    5.0  Champaign  4.250000  dOykcs07MkxD7qk0mnK8vg      3.474214\n",
       "25     hAOPSgq9jZ-DiDlOXIpm9g  Gvox18F9QxsSS9qG2O8E-A    Sam's Cafe                    795               4.0    Lauren                120    5.0  Champaign  4.250000  dOykcs07MkxD7qk0mnK8vg      3.474214\n",
       "26     hAOPSgq9jZ-DiDlOXIpm9g  Gvox18F9QxsSS9qG2O8E-A    Sam's Cafe                    795               4.0    Lauren                120    5.0  Champaign  4.250000  dOykcs07MkxD7qk0mnK8vg      3.474214\n",
       "27     hAOPSgq9jZ-DiDlOXIpm9g  Gvox18F9QxsSS9qG2O8E-A    Sam's Cafe                    795               4.0    Lauren                120    5.0  Champaign  4.250000  dOykcs07MkxD7qk0mnK8vg      3.474214\n",
       "28     hAOPSgq9jZ-DiDlOXIpm9g  Gvox18F9QxsSS9qG2O8E-A    Sam's Cafe                    795               4.0    Lauren                120    5.0  Champaign  4.250000  dOykcs07MkxD7qk0mnK8vg      3.474214\n",
       "29     hAOPSgq9jZ-DiDlOXIpm9g  Gvox18F9QxsSS9qG2O8E-A    Sam's Cafe                    795               4.0    Lauren                120    5.0  Champaign  4.250000  dOykcs07MkxD7qk0mnK8vg      3.474214\n",
       "...                       ...                     ...           ...                    ...               ...       ...                ...    ...        ...       ...                     ...           ...\n",
       "83756  NXmp8CW4RFKAU0oNWb--wA  0-WocGTpO3Zm4q1Zzz49Rw    Sushi Kame                   1030               3.5    Lauren                 60    1.0  Champaign  3.666667  ypeUXoV1gESuTdmPlfOSag      3.603883\n",
       "83757  NXmp8CW4RFKAU0oNWb--wA  0-WocGTpO3Zm4q1Zzz49Rw    Sushi Kame                   1030               3.5    Lauren                 60    1.0  Champaign  3.666667  ypeUXoV1gESuTdmPlfOSag      3.603883\n",
       "83758  NXmp8CW4RFKAU0oNWb--wA  0-WocGTpO3Zm4q1Zzz49Rw    Sushi Kame                   1030               3.5    Lauren                 60    1.0  Champaign  3.666667  ypeUXoV1gESuTdmPlfOSag      3.603883\n",
       "83759  NXmp8CW4RFKAU0oNWb--wA  0-WocGTpO3Zm4q1Zzz49Rw    Sushi Kame                   1030               3.5    Lauren                 60    1.0  Champaign  3.666667  ypeUXoV1gESuTdmPlfOSag      3.603883\n",
       "83760  NXmp8CW4RFKAU0oNWb--wA  0-WocGTpO3Zm4q1Zzz49Rw    Sushi Kame                   1030               3.5    Lauren                 60    1.0  Champaign  3.666667  ypeUXoV1gESuTdmPlfOSag      3.603883\n",
       "83761  NXmp8CW4RFKAU0oNWb--wA  0-WocGTpO3Zm4q1Zzz49Rw    Sushi Kame                   1030               3.5    Lauren                 60    1.0  Champaign  3.666667  ypeUXoV1gESuTdmPlfOSag      3.603883\n",
       "83762  NXmp8CW4RFKAU0oNWb--wA  0-WocGTpO3Zm4q1Zzz49Rw    Sushi Kame                   1030               3.5    Lauren                 60    1.0  Champaign  3.666667  ypeUXoV1gESuTdmPlfOSag      3.603883\n",
       "83763  NXmp8CW4RFKAU0oNWb--wA  0-WocGTpO3Zm4q1Zzz49Rw    Sushi Kame                   1030               3.5    Lauren                 60    1.0  Champaign  3.666667  ypeUXoV1gESuTdmPlfOSag      3.603883\n",
       "83764  NXmp8CW4RFKAU0oNWb--wA  0-WocGTpO3Zm4q1Zzz49Rw    Sushi Kame                   1030               3.5    Lauren                 60    1.0  Champaign  3.666667  ypeUXoV1gESuTdmPlfOSag      3.603883\n",
       "83765  NXmp8CW4RFKAU0oNWb--wA  L2c-qKZWumCmOCR-dqBLrg  Seven Saints                   2123               4.0    Lauren                 60    4.0  Champaign  3.666667  2Mf3F2OuPgPUG9FF6MXrBw      3.382949\n",
       "83766  NXmp8CW4RFKAU0oNWb--wA  L2c-qKZWumCmOCR-dqBLrg  Seven Saints                   2123               4.0    Lauren                 60    4.0  Champaign  3.666667  2Mf3F2OuPgPUG9FF6MXrBw      3.382949\n",
       "83767  NXmp8CW4RFKAU0oNWb--wA  L2c-qKZWumCmOCR-dqBLrg  Seven Saints                   2123               4.0    Lauren                 60    4.0  Champaign  3.666667  2Mf3F2OuPgPUG9FF6MXrBw      3.382949\n",
       "83768  NXmp8CW4RFKAU0oNWb--wA  L2c-qKZWumCmOCR-dqBLrg  Seven Saints                   2123               4.0    Lauren                 60    4.0  Champaign  3.666667  2Mf3F2OuPgPUG9FF6MXrBw      3.382949\n",
       "83769  NXmp8CW4RFKAU0oNWb--wA  L2c-qKZWumCmOCR-dqBLrg  Seven Saints                   2123               4.0    Lauren                 60    4.0  Champaign  3.666667  2Mf3F2OuPgPUG9FF6MXrBw      3.382949\n",
       "83770  NXmp8CW4RFKAU0oNWb--wA  L2c-qKZWumCmOCR-dqBLrg  Seven Saints                   2123               4.0    Lauren                 60    4.0  Champaign  3.666667  2Mf3F2OuPgPUG9FF6MXrBw      3.382949\n",
       "83771  NXmp8CW4RFKAU0oNWb--wA  L2c-qKZWumCmOCR-dqBLrg  Seven Saints                   2123               4.0    Lauren                 60    4.0  Champaign  3.666667  2Mf3F2OuPgPUG9FF6MXrBw      3.382949\n",
       "83772  NXmp8CW4RFKAU0oNWb--wA  L2c-qKZWumCmOCR-dqBLrg  Seven Saints                   2123               4.0    Lauren                 60    4.0  Champaign  3.666667  2Mf3F2OuPgPUG9FF6MXrBw      3.382949\n",
       "83773  NXmp8CW4RFKAU0oNWb--wA  L2c-qKZWumCmOCR-dqBLrg  Seven Saints                   2123               4.0    Lauren                 60    4.0  Champaign  3.666667  2Mf3F2OuPgPUG9FF6MXrBw      3.382949\n",
       "83774  NXmp8CW4RFKAU0oNWb--wA  L2c-qKZWumCmOCR-dqBLrg  Seven Saints                   2123               4.0    Lauren                 60    4.0  Champaign  3.666667  2Mf3F2OuPgPUG9FF6MXrBw      3.382949\n",
       "83775  NXmp8CW4RFKAU0oNWb--wA  NEVA0IYbawceL6kz5v5DAw      Kofusion                   1858               3.5    Lauren                 60    5.0  Champaign  3.666667  kUHoJKGJg5OqF2zUDhWOWQ      3.287944\n",
       "83776  NXmp8CW4RFKAU0oNWb--wA  NEVA0IYbawceL6kz5v5DAw      Kofusion                   1858               3.5    Lauren                 60    5.0  Champaign  3.666667  kUHoJKGJg5OqF2zUDhWOWQ      3.287944\n",
       "83777  NXmp8CW4RFKAU0oNWb--wA  NEVA0IYbawceL6kz5v5DAw      Kofusion                   1858               3.5    Lauren                 60    5.0  Champaign  3.666667  kUHoJKGJg5OqF2zUDhWOWQ      3.287944\n",
       "83778  NXmp8CW4RFKAU0oNWb--wA  NEVA0IYbawceL6kz5v5DAw      Kofusion                   1858               3.5    Lauren                 60    5.0  Champaign  3.666667  kUHoJKGJg5OqF2zUDhWOWQ      3.287944\n",
       "83779  NXmp8CW4RFKAU0oNWb--wA  NEVA0IYbawceL6kz5v5DAw      Kofusion                   1858               3.5    Lauren                 60    5.0  Champaign  3.666667  kUHoJKGJg5OqF2zUDhWOWQ      3.287944\n",
       "83780  NXmp8CW4RFKAU0oNWb--wA  NEVA0IYbawceL6kz5v5DAw      Kofusion                   1858               3.5    Lauren                 60    5.0  Champaign  3.666667  kUHoJKGJg5OqF2zUDhWOWQ      3.287944\n",
       "83781  NXmp8CW4RFKAU0oNWb--wA  NEVA0IYbawceL6kz5v5DAw      Kofusion                   1858               3.5    Lauren                 60    5.0  Champaign  3.666667  kUHoJKGJg5OqF2zUDhWOWQ      3.287944\n",
       "83782  NXmp8CW4RFKAU0oNWb--wA  NEVA0IYbawceL6kz5v5DAw      Kofusion                   1858               3.5    Lauren                 60    5.0  Champaign  3.666667  kUHoJKGJg5OqF2zUDhWOWQ      3.287944\n",
       "83783  NXmp8CW4RFKAU0oNWb--wA  NEVA0IYbawceL6kz5v5DAw      Kofusion                   1858               3.5    Lauren                 60    5.0  Champaign  3.666667  kUHoJKGJg5OqF2zUDhWOWQ      3.287944\n",
       "83784  NXmp8CW4RFKAU0oNWb--wA  NEVA0IYbawceL6kz5v5DAw      Kofusion                   1858               3.5    Lauren                 60    5.0  Champaign  3.666667  kUHoJKGJg5OqF2zUDhWOWQ      3.287944\n",
       "87888  gYweIEKEgMEGQprF7yw6hQ  lWmDrnqgU6w3gFaJyn_1Uw   Radio Maria                   1625               3.5    Lauren                  1    5.0  Champaign  5.000000  GHPx8TCQ9Ymuqx3wuQ8blg      3.564923\n",
       "\n",
       "[182 rows x 12 columns]"
      ]
     },
     "execution_count": 66,
     "metadata": {},
     "output_type": "execute_result"
    }
   ],
   "source": [
    "smalldf.loc[smalldf['user_name'] == \"Lauren\"]"
   ]
  },
  {
   "cell_type": "code",
   "execution_count": 72,
   "metadata": {
    "collapsed": true
   },
   "outputs": [],
   "source": [
    "def get_top_recos_for_user(userid, df, dbase, n=5, k=7, reg=3.):\n",
    "    bizs=get_user_top_choices(userid, df, numchoices=n)['business_id'].values\n",
    "    rated_by_user=df[df.user_id==userid].business_id.values\n",
    "    tops=[]\n",
    "    for ele in bizs:\n",
    "        t=knearest(ele, df.business_id.unique(), dbase, k=k, reg=reg)\n",
    "        for e in t:\n",
    "            if e[0] not in rated_by_user:\n",
    "                tops.append(e)\n",
    "\n",
    "    #there might be repeats. unique it\n",
    "    ids=[e[0] for e in tops]\n",
    "    uids={k:0 for k in list(set(ids))}\n",
    "\n",
    "    topsu=[]\n",
    "    for e in tops:\n",
    "        if uids[e[0]] == 0:\n",
    "            topsu.append(e)\n",
    "            uids[e[0]] =1\n",
    "    topsr=[]     \n",
    "    for r, s,nc in topsu:\n",
    "        avg_rate=df[df.business_id==r].stars.mean()\n",
    "        topsr.append((r,avg_rate))\n",
    "        \n",
    "    topsr=sorted(topsr, key=itemgetter(1), reverse=True)\n",
    "\n",
    "    if n < len(topsr):\n",
    "        return topsr[0:n]\n",
    "    else:\n",
    "        return topsr"
   ]
  },
  {
   "cell_type": "code",
   "execution_count": 73,
   "metadata": {
    "collapsed": false
   },
   "outputs": [
    {
     "name": "stdout",
     "output_type": "stream",
     "text": [
      "For user Paul the top recommendations are:\n",
      "El Oasis | Average Rating | 4.58058252427\n",
      "J Gumbo's | Average Rating | 4.10700636943\n",
      "Original Pancake House | Average Rating | 4.07134071341\n",
      "Bombay Indian Grill | Average Rating | 3.79725085911\n",
      "Siam Terrace | Average Rating | 3.76522248244\n"
     ]
    },
    {
     "name": "stderr",
     "output_type": "stream",
     "text": [
      "C:\\Users\\Harika Konagala\\Anaconda2\\lib\\site-packages\\ipykernel\\__main__.py:3: FutureWarning: sort(columns=....) is deprecated, use sort_values(by=.....)\n",
      "  app.launch_new_instance()\n"
     ]
    }
   ],
   "source": [
    "print \"For user\", usernamefromid(smalldf,testuserid), \"the top recommendations are:\"\n",
    "toprecos=get_top_recos_for_user(testuserid, smalldf, db, n=5, k=7, reg=3.)\n",
    "for biz_id, biz_avg in toprecos:\n",
    "    print biznamefromid(smalldf,biz_id), \"| Average Rating |\", biz_avg"
   ]
  },
  {
   "cell_type": "code",
   "execution_count": 74,
   "metadata": {
    "collapsed": false
   },
   "outputs": [
    {
     "name": "stdout",
     "output_type": "stream",
     "text": [
      "For user Sherwin the top recommendations are:\n",
      "Maize Mexican Grill | Average Rating | 4.27157360406\n",
      "Luna | Average Rating | 3.66873065015\n",
      "301 Mongolia | Average Rating | 3.62852112676\n",
      "Sushi Kame | Average Rating | 3.60388349515\n",
      "Silvercreek | Average Rating | 3.58584807492\n"
     ]
    },
    {
     "name": "stderr",
     "output_type": "stream",
     "text": [
      "C:\\Users\\Harika Konagala\\Anaconda2\\lib\\site-packages\\ipykernel\\__main__.py:3: FutureWarning: sort(columns=....) is deprecated, use sort_values(by=.....)\n",
      "  app.launch_new_instance()\n"
     ]
    }
   ],
   "source": [
    "print \"For user\", usernamefromid(smalldf,testuserid2), \"the top recommendations are:\"\n",
    "toprecos=get_top_recos_for_user(testuserid2, smalldf, db, n=5, k=7, reg=3.)\n",
    "for biz_id, biz_avg in toprecos:\n",
    "    print biznamefromid(smalldf,biz_id), \"| Average Rating |\", biz_avg"
   ]
  },
  {
   "cell_type": "code",
   "execution_count": 75,
   "metadata": {
    "collapsed": false
   },
   "outputs": [
    {
     "name": "stdout",
     "output_type": "stream",
     "text": [
      "For user Archana the top recommendations are:\n",
      "El Oasis | Average Rating | 4.58058252427\n",
      "Original Pancake House | Average Rating | 4.07134071341\n",
      "Texas Roadhouse | Average Rating | 3.81723625557\n",
      "Pizzeria Antica | Average Rating | 3.52487562189\n",
      "The Ribeye | Average Rating | 3.49376558603\n"
     ]
    },
    {
     "name": "stderr",
     "output_type": "stream",
     "text": [
      "C:\\Users\\Harika Konagala\\Anaconda2\\lib\\site-packages\\ipykernel\\__main__.py:3: FutureWarning: sort(columns=....) is deprecated, use sort_values(by=.....)\n",
      "  app.launch_new_instance()\n"
     ]
    }
   ],
   "source": [
    "print \"For user\", usernamefromid(smalldf,testuserid3), \"the top recommendations are:\"\n",
    "toprecos=get_top_recos_for_user(testuserid3, smalldf, db, n=5, k=7, reg=3.)\n",
    "for biz_id, biz_avg in toprecos:\n",
    "    print biznamefromid(smalldf,biz_id), \"| Average Rating |\", biz_avg"
   ]
  },
  {
   "cell_type": "code",
   "execution_count": 76,
   "metadata": {
    "collapsed": false
   },
   "outputs": [
    {
     "name": "stdout",
     "output_type": "stream",
     "text": [
      "For user Elaine the top recommendations are:\n",
      "Cracked the Egg Came First | Average Rating | 4.3664825046\n",
      "Mashawi Grill | Average Rating | 4.24171779141\n",
      "Aroma Cafe | Average Rating | 4.24145785877\n"
     ]
    },
    {
     "name": "stderr",
     "output_type": "stream",
     "text": [
      "C:\\Users\\Harika Konagala\\Anaconda2\\lib\\site-packages\\ipykernel\\__main__.py:3: FutureWarning: sort(columns=....) is deprecated, use sort_values(by=.....)\n",
      "  app.launch_new_instance()\n"
     ]
    },
    {
     "name": "stdout",
     "output_type": "stream",
     "text": [
      "Siam Terrace | Average Rating | 3.76522248244\n",
      "Jupiter's Pizzeria and Billiards | Average Rating | 3.76426174497\n"
     ]
    }
   ],
   "source": [
    "print \"For user\", usernamefromid(smalldf,testuserid4), \"the top recommendations are:\"\n",
    "toprecos=get_top_recos_for_user(testuserid4, smalldf, db, n=5, k=7, reg=3.)\n",
    "for biz_id, biz_avg in toprecos:\n",
    "    print biznamefromid(smalldf,biz_id), \"| Average Rating |\", biz_avg"
   ]
  },
  {
   "cell_type": "code",
   "execution_count": 77,
   "metadata": {
    "collapsed": false
   },
   "outputs": [
    {
     "name": "stdout",
     "output_type": "stream",
     "text": [
      "For user Colleen the top recommendations are:\n",
      "Texas Roadhouse | Average Rating | 3.81723625557\n",
      "Pizzeria Antica | Average Rating | 3.52487562189\n",
      "Sam's Cafe | Average Rating | 3.47421383648\n",
      "Golden Wok | Average Rating | 3.46637744035\n",
      "Mandarin Wok | Average Rating | 3.435\n"
     ]
    },
    {
     "name": "stderr",
     "output_type": "stream",
     "text": [
      "C:\\Users\\Harika Konagala\\Anaconda2\\lib\\site-packages\\ipykernel\\__main__.py:3: FutureWarning: sort(columns=....) is deprecated, use sort_values(by=.....)\n",
      "  app.launch_new_instance()\n"
     ]
    }
   ],
   "source": [
    "print \"For user\", usernamefromid(smalldf,testuserid5), \"the top recommendations are:\"\n",
    "toprecos=get_top_recos_for_user(testuserid5, smalldf, db, n=5, k=7, reg=3.)\n",
    "for biz_id, biz_avg in toprecos:\n",
    "    print biznamefromid(smalldf,biz_id), \"| Average Rating |\", biz_avg"
   ]
  },
  {
   "cell_type": "code",
   "execution_count": 78,
   "metadata": {
    "collapsed": true
   },
   "outputs": [],
   "source": [
    "def knearest_amongst_userrated(restaurant_id, user_id, df, dbase, k=7, reg=3.):\n",
    "    dfuser=df[df.user_id==user_id]\n",
    "    bizsuserhasrated=dfuser.business_id.unique()\n",
    "    return knearest(restaurant_id, bizsuserhasrated, dbase, k=k, reg=reg)\n"
   ]
  },
  {
   "cell_type": "code",
   "execution_count": 79,
   "metadata": {
    "collapsed": true
   },
   "outputs": [],
   "source": [
    "def rating(df, dbase, restaurant_id, user_id, k=7, reg=3.):\n",
    "    mu=df.stars.mean()\n",
    "    users_reviews=df[df.user_id==user_id]\n",
    "    nsum=0.\n",
    "    scoresum=0.\n",
    "    nears=knearest_amongst_userrated(restaurant_id, user_id, df, dbase, k=k, reg=reg)\n",
    "    restaurant_mean=df[df.business_id==restaurant_id].business_avg.values[0]\n",
    "    user_mean=users_reviews.user_avg.values[0]\n",
    "    scores=[]\n",
    "    for r,s,nc in nears:\n",
    "        scoresum=scoresum+s\n",
    "        scores.append(s)\n",
    "        r_reviews_row=users_reviews[users_reviews['business_id']==r]\n",
    "        r_stars=r_reviews_row.stars.values[0]\n",
    "        r_avg=r_reviews_row.business_avg.values[0]\n",
    "        rminusb=(r_stars - (r_avg + user_mean - mu))\n",
    "        nsum=nsum+s*rminusb\n",
    "    baseline=(user_mean +restaurant_mean - mu)\n",
    "    #we might have nears, but there might be no commons, giving us a pearson of 0\n",
    "    if scoresum > 0.:\n",
    "        val =  nsum/scoresum + baseline\n",
    "    else:\n",
    "        val=baseline\n",
    "    return val"
   ]
  },
  {
   "cell_type": "code",
   "execution_count": 81,
   "metadata": {
    "collapsed": false
   },
   "outputs": [
    {
     "name": "stdout",
     "output_type": "stream",
     "text": [
      "User Average 4.6 for Paul\n",
      "Predicted ratings for top choices calculated earlier:\n",
      "Texas Roadhouse | 4.80122465763 | Average 3.81723625557\n",
      "Pizzeria Antica | 4.50886402395 | Average 3.52487562189\n",
      "Sam's Cafe | 4.45820223854 | Average 3.47421383648\n",
      "Golden Wok | 4.45036584241 | Average 3.46637744035\n",
      "Mandarin Wok | 4.41898840206 | Average 3.435\n"
     ]
    }
   ],
   "source": [
    "print \"User Average\", smalldf[smalldf.user_id==testuserid].stars.mean(),\"for\",usernamefromid(smalldf,testuserid)\n",
    "print \"Predicted ratings for top choices calculated earlier:\"\n",
    "for biz_id,biz_avg in toprecos:\n",
    "    print biznamefromid(smalldf, biz_id),\"|\",rating(smalldf, db, biz_id, testuserid, k=7, reg=3.),\"|\",\"Average\",biz_avg"
   ]
  },
  {
   "cell_type": "code",
   "execution_count": 82,
   "metadata": {
    "collapsed": false
   },
   "outputs": [
    {
     "name": "stdout",
     "output_type": "stream",
     "text": [
      "User Average 4.0 for Sherwin\n",
      "Predicted ratings for top choices calculated earlier:\n",
      "Texas Roadhouse | 3.73129794807 | Average 3.81723625557\n",
      "Pizzeria Antica | 4.47436768903 | Average 3.52487562189\n",
      "Sam's Cafe | 7.72241595248 | Average 3.47421383648\n",
      "Golden Wok | 4.26166769654 | Average 3.46637744035\n",
      "Mandarin Wok | 3.95561763592 | Average 3.435\n"
     ]
    }
   ],
   "source": [
    "print \"User Average\", smalldf[smalldf.user_id==testuserid2].stars.mean(),\"for\",usernamefromid(smalldf,testuserid2)\n",
    "print \"Predicted ratings for top choices calculated earlier:\"\n",
    "for biz_id,biz_avg in toprecos:\n",
    "    print biznamefromid(smalldf, biz_id),\"|\",rating(smalldf, db, biz_id, testuserid2, k=7, reg=3.),\"|\",\"Average\",biz_avg"
   ]
  },
  {
   "cell_type": "code",
   "execution_count": 83,
   "metadata": {
    "collapsed": false
   },
   "outputs": [
    {
     "name": "stdout",
     "output_type": "stream",
     "text": [
      "User Average 3.0 for Archana\n",
      "Predicted ratings for top choices calculated earlier:\n",
      "Texas Roadhouse | 3.23564047156 | Average 3.81723625557\n",
      "Pizzeria Antica | 2.86433626882 | Average 3.52487562189\n",
      "Sam's Cafe | 2.74427369695 | Average 3.47421383648\n",
      "Golden Wok | 3.60400944606 | Average 3.46637744035\n",
      "Mandarin Wok | 4.29065004389 | Average 3.435\n"
     ]
    }
   ],
   "source": [
    "print \"User Average\", smalldf[smalldf.user_id==testuserid3].stars.mean(),\"for\",usernamefromid(smalldf,testuserid3)\n",
    "print \"Predicted ratings for top choices calculated earlier:\"\n",
    "for biz_id,biz_avg in toprecos:\n",
    "    print biznamefromid(smalldf, biz_id),\"|\",rating(smalldf, db, biz_id, testuserid3, k=7, reg=3.),\"|\",\"Average\",biz_avg"
   ]
  },
  {
   "cell_type": "code",
   "execution_count": 84,
   "metadata": {
    "collapsed": false
   },
   "outputs": [
    {
     "name": "stdout",
     "output_type": "stream",
     "text": [
      "User Average 4.8 for Elaine\n",
      "Predicted ratings for top choices calculated earlier:\n",
      "Texas Roadhouse | 4.95567102302 | Average 3.81723625557\n",
      "Pizzeria Antica | 4.70886402395 | Average 3.52487562189\n",
      "Sam's Cafe | 4.65820223854 | Average 3.47421383648\n",
      "Golden Wok | 4.65036584241 | Average 3.46637744035\n",
      "Mandarin Wok | 4.61898840206 | Average 3.435\n"
     ]
    }
   ],
   "source": [
    "print \"User Average\", smalldf[smalldf.user_id==testuserid4].stars.mean(),\"for\",usernamefromid(smalldf,testuserid4)\n",
    "print \"Predicted ratings for top choices calculated earlier:\"\n",
    "for biz_id,biz_avg in toprecos:\n",
    "    print biznamefromid(smalldf, biz_id),\"|\",rating(smalldf, db, biz_id, testuserid4, k=7, reg=3.),\"|\",\"Average\",biz_avg"
   ]
  },
  {
   "cell_type": "code",
   "execution_count": 85,
   "metadata": {
    "collapsed": false
   },
   "outputs": [
    {
     "name": "stdout",
     "output_type": "stream",
     "text": [
      "User Average 3.5 for Colleen\n",
      "Predicted ratings for top choices calculated earlier:\n",
      "Texas Roadhouse | 4.16734925514 | Average 3.81723625557\n",
      "Pizzeria Antica | 4.29087470079 | Average 3.52487562189\n",
      "Sam's Cafe | 3.35820223854 | Average 3.47421383648\n",
      "Golden Wok | 3.85418282477 | Average 3.46637744035\n",
      "Mandarin Wok | 3.30723996669 | Average 3.435\n"
     ]
    }
   ],
   "source": [
    "print \"User Average\", smalldf[smalldf.user_id==testuserid5].stars.mean(),\"for\",usernamefromid(smalldf,testuserid5)\n",
    "print \"Predicted ratings for top choices calculated earlier:\"\n",
    "for biz_id,biz_avg in toprecos:\n",
    "    print biznamefromid(smalldf, biz_id),\"|\",rating(smalldf, db, biz_id, testuserid5, k=7, reg=3.),\"|\",\"Average\",biz_avg"
   ]
  },
  {
   "cell_type": "code",
   "execution_count": 109,
   "metadata": {
    "collapsed": false
   },
   "outputs": [],
   "source": [
    "def get_other_ratings(restaurant_id, user_id, df):\n",
    "    \"get a user's rating for a restaurant and the restaurant's average rating\"\n",
    "    choice=df[(df.business_id==restaurant_id) & (df.user_id==user_id)]\n",
    "    users_score=choice.stars.values\n",
    "    average_score=choice.business_avg.values\n",
    "    return users_score, average_score #index error..."
   ]
  },
  {
   "cell_type": "code",
   "execution_count": 110,
   "metadata": {
    "collapsed": false
   },
   "outputs": [
    {
     "name": "stdout",
     "output_type": "stream",
     "text": [
      "for user Sherwin avg 4.0\n",
      "----------------------------------\n",
      "Miga\n",
      "Predicted Rating: 4.61031377194\n",
      "Actual User Rating: (array([], dtype=float64), array([], dtype=float64))\n",
      "Avg Rating: (array([], dtype=float64), array([], dtype=float64))\n",
      "----------------------------------\n",
      "Papa Del's Pizza\n",
      "Predicted Rating: 3.88175035363\n",
      "Actual User Rating: (array([], dtype=float64), array([], dtype=float64))\n",
      "Avg Rating: (array([], dtype=float64), array([], dtype=float64))\n",
      "----------------------------------\n",
      "Silvercreek\n",
      "Predicted Rating: 4.01343284429\n",
      "Actual User Rating: (array([], dtype=float64), array([], dtype=float64))\n",
      "Avg Rating: (array([], dtype=float64), array([], dtype=float64))\n",
      "----------------------------------\n",
      "Silvercreek\n",
      "Predicted Rating: 4.01343284429\n",
      "Actual User Rating: (array([], dtype=float64), array([], dtype=float64))\n",
      "Avg Rating: (array([], dtype=float64), array([], dtype=float64))\n",
      "----------------------------------\n",
      "Silvercreek\n",
      "Predicted Rating: 4.01343284429\n",
      "Actual User Rating: (array([], dtype=float64), array([], dtype=float64))\n",
      "Avg Rating: (array([], dtype=float64), array([], dtype=float64))\n"
     ]
    }
   ],
   "source": [
    "print \"for user\",usernamefromid(smalldf,testuserid2), 'avg', smalldf[smalldf.user_id==testuserid2].stars.mean() \n",
    "for biz_id in bizs:\n",
    "    print \"----------------------------------\"\n",
    "    print biznamefromid(smalldf, biz_id)\n",
    "    print \"Predicted Rating:\",rating(smalldf, db, biz_id, testuserid2, k=7, reg=3.) \n",
    "    u=get_other_ratings(biz_id, testuserid2, smalldf)\n",
    "    a=get_other_ratings(biz_id, testuserid2, smalldf)\n",
    "    print \"Actual User Rating:\",u\n",
    "    print \"Avg Rating:\",a"
   ]
  },
  {
   "cell_type": "code",
   "execution_count": 88,
   "metadata": {
    "collapsed": false
   },
   "outputs": [
    {
     "data": {
      "text/plain": [
       "Index([u'user_id', u'business_id', u'biz_name', u'business_review_count', u'business_average', u'user_name', u'user_review_count', u'stars', u'city', u'user_avg', u'review_id', u'business_avg'], dtype='object')"
      ]
     },
     "execution_count": 88,
     "metadata": {},
     "output_type": "execute_result"
    }
   ],
   "source": [
    "smalldf.columns"
   ]
  },
  {
   "cell_type": "code",
   "execution_count": 111,
   "metadata": {
    "collapsed": true
   },
   "outputs": [],
   "source": [
    "def compare_results(stars_actual, stars_predicted, ylow=-10, yhigh=15, title=\"\"):\n",
    "    \"\"\"\n",
    "    plot predicted results against actual results. Takes 2 arguments: a\n",
    "    numpy array of actual ratings and a numpy array of predicted ratings\n",
    "    scatterplots the predictions, a unit slope line, line segments joining the mean,\n",
    "    and a filled in area of the standard deviations.\"\n",
    "    \"\"\"\n",
    "    fig=plt.figure()\n",
    "    df=pd.DataFrame(dict(actual=stars_actual, predicted=stars_predicted))\n",
    "    ax=plt.scatter(df.actual, df.predicted, marker = '.', alpha=0.2, s=30, label=\"predicted\")\n",
    "    plt.ylim([ylow,yhigh])\n",
    "    plt.plot([1,5],[1,5], label=\"slope 1\")\n",
    "    xp=[1,2,3,4,5]\n",
    "    yp=df.groupby('actual').predicted.mean().values\n",
    "    plt.plot(xp,yp,'k', label=\"means\")\n",
    "    sig=df.groupby('actual').predicted.std().values\n",
    "    plt.fill_between(xp, yp - sig, yp + sig, \n",
    "                 color='k', alpha=0.2)\n",
    "    plt.xlabel(\"actual\")\n",
    "    plt.ylabel(\"predicted\")\n",
    "    plt.legend(frameon=False)\n",
    "    remove_border()\n",
    "    plt.grid(False)\n",
    "    plt.title(title)\n",
    "    print np.mean(np.abs(df.predicted) < 15)"
   ]
  },
  {
   "cell_type": "code",
   "execution_count": 119,
   "metadata": {
    "collapsed": true
   },
   "outputs": [],
   "source": [
    "import scipy\n",
    "from scipy import sparse\n",
    "from scipy.sparse import coo_matrix"
   ]
  },
  {
   "cell_type": "code",
   "execution_count": null,
   "metadata": {
    "collapsed": true
   },
   "outputs": [],
   "source": []
  }
 ],
 "metadata": {
  "kernelspec": {
   "display_name": "Python [Root]",
   "language": "python",
   "name": "Python [Root]"
  },
  "language_info": {
   "codemirror_mode": {
    "name": "ipython",
    "version": 2
   },
   "file_extension": ".py",
   "mimetype": "text/x-python",
   "name": "python",
   "nbconvert_exporter": "python",
   "pygments_lexer": "ipython2",
   "version": "2.7.12"
  }
 },
 "nbformat": 4,
 "nbformat_minor": 0
}
