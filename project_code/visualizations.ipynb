{
 "cells": [
  {
   "cell_type": "code",
   "execution_count": 2,
   "metadata": {
    "collapsed": false
   },
   "outputs": [],
   "source": [
    "import pandas as pd\n",
    "import csv\n",
    "business = pd.read_csv(\"C:/desktop/ml-project/yelp_academic_dataset/csv files/business.csv\")\n"
   ]
  },
  {
   "cell_type": "code",
   "execution_count": 4,
   "metadata": {
    "collapsed": true
   },
   "outputs": [],
   "source": [
    "checkin= pd.read_csv(\"C:/desktop/ml-project/yelp_academic_dataset/csv files/yelp_academic_dataset_checkin.csv\")\n",
    "tip = pd.read_csv(\"C:/desktop/ml-project/yelp_academic_dataset/csv files/yelp_academic_dataset_tip.csv\")"
   ]
  },
  {
   "cell_type": "code",
   "execution_count": 5,
   "metadata": {
    "collapsed": true
   },
   "outputs": [],
   "source": [
    "review= pd.read_csv(\"C:/desktop/ml-project/yelp_academic_dataset/csv files/yelp_academic_dataset_review.csv\")"
   ]
  },
  {
   "cell_type": "code",
   "execution_count": 6,
   "metadata": {
    "collapsed": true
   },
   "outputs": [],
   "source": [
    "user= pd.read_csv(\"C:/desktop/ml-project/yelp_academic_dataset/csv files/yelp_academic_dataset_user.csv\")"
   ]
  },
  {
   "cell_type": "code",
   "execution_count": 84,
   "metadata": {
    "collapsed": false,
    "scrolled": true
   },
   "outputs": [
    {
     "data": {
      "text/plain": [
       "47843L"
      ]
     },
     "execution_count": 84,
     "metadata": {},
     "output_type": "execute_result"
    }
   ],
   "source": [
    "business.business_id.unique().shape[0]"
   ]
  },
  {
   "cell_type": "code",
   "execution_count": 3,
   "metadata": {
    "collapsed": false,
    "scrolled": true
   },
   "outputs": [
    {
     "data": {
      "text/html": [
       "<div>\n",
       "<table border=\"1\" class=\"dataframe\">\n",
       "  <thead>\n",
       "    <tr style=\"text-align: right;\">\n",
       "      <th></th>\n",
       "      <th>neighborhood</th>\n",
       "      <th>business_id</th>\n",
       "      <th>hours</th>\n",
       "      <th>is_open</th>\n",
       "      <th>address</th>\n",
       "      <th>attributes</th>\n",
       "      <th>categories</th>\n",
       "      <th>city</th>\n",
       "      <th>review_count</th>\n",
       "      <th>name</th>\n",
       "      <th>longitude</th>\n",
       "      <th>state</th>\n",
       "      <th>stars</th>\n",
       "      <th>latitude</th>\n",
       "      <th>postal_code</th>\n",
       "      <th>type</th>\n",
       "    </tr>\n",
       "  </thead>\n",
       "  <tbody>\n",
       "    <tr>\n",
       "      <th>0</th>\n",
       "      <td>Dufferin Grove</td>\n",
       "      <td>EDqCEAGXVGCH4FJXgqtjqg</td>\n",
       "      <td>['Monday 11:0-2:0', 'Tuesday 11:0-2:0', 'Wedne...</td>\n",
       "      <td>1</td>\n",
       "      <td>979 Bloor Street W</td>\n",
       "      <td>['Alcohol: none', \"Ambience: {'romantic': Fals...</td>\n",
       "      <td>['Restaurants', 'Pizza', 'Chicken Wings', 'Ita...</td>\n",
       "      <td>Toronto</td>\n",
       "      <td>7</td>\n",
       "      <td>Pizza Pizza</td>\n",
       "      <td>-79.429089</td>\n",
       "      <td>ON</td>\n",
       "      <td>2.5</td>\n",
       "      <td>43.661054</td>\n",
       "      <td>M6H 1L5</td>\n",
       "      <td>business</td>\n",
       "    </tr>\n",
       "    <tr>\n",
       "      <th>1</th>\n",
       "      <td>NaN</td>\n",
       "      <td>GDnbt3isfhd57T1QqU6flg</td>\n",
       "      <td>['Monday 10:0-22:0', 'Tuesday 10:0-22:0', 'Wed...</td>\n",
       "      <td>1</td>\n",
       "      <td>11072 No Frank Lloyd Wright</td>\n",
       "      <td>['Alcohol: none', \"Ambience: {'romantic': Fals...</td>\n",
       "      <td>['Tex-Mex', 'Mexican', 'Fast Food', 'Restauran...</td>\n",
       "      <td>Scottsdale</td>\n",
       "      <td>9</td>\n",
       "      <td>Taco Bell</td>\n",
       "      <td>-111.835410</td>\n",
       "      <td>AZ</td>\n",
       "      <td>2.5</td>\n",
       "      <td>33.586710</td>\n",
       "      <td>85259</td>\n",
       "      <td>business</td>\n",
       "    </tr>\n",
       "    <tr>\n",
       "      <th>2</th>\n",
       "      <td>NaN</td>\n",
       "      <td>42romV8altAeuZuP2OC1gw</td>\n",
       "      <td>['Monday 11:0-21:30', 'Tuesday 11:0-21:30', 'W...</td>\n",
       "      <td>0</td>\n",
       "      <td>1500 N Green Valley Pkwy, Ste 230</td>\n",
       "      <td>['Alcohol: none', \"Ambience: {'romantic': Fals...</td>\n",
       "      <td>['Hawaiian', 'Restaurants', 'Barbeque']</td>\n",
       "      <td>Henderson</td>\n",
       "      <td>38</td>\n",
       "      <td>Ohana Hawaiian BBQ</td>\n",
       "      <td>-115.085821</td>\n",
       "      <td>NV</td>\n",
       "      <td>4.0</td>\n",
       "      <td>36.029596</td>\n",
       "      <td>89074</td>\n",
       "      <td>business</td>\n",
       "    </tr>\n",
       "    <tr>\n",
       "      <th>3</th>\n",
       "      <td>NaN</td>\n",
       "      <td>DNyYOxVAfu0oUcPNL1ljCQ</td>\n",
       "      <td>NaN</td>\n",
       "      <td>1</td>\n",
       "      <td>1052 Lionel-Daunais, Suite 302</td>\n",
       "      <td>['BusinessAcceptsCreditCards: True', 'GoodForK...</td>\n",
       "      <td>['Restaurants', 'Cafes']</td>\n",
       "      <td>Boucherville</td>\n",
       "      <td>7</td>\n",
       "      <td>Chez Lionel</td>\n",
       "      <td>-73.430235</td>\n",
       "      <td>QC</td>\n",
       "      <td>3.5</td>\n",
       "      <td>45.590227</td>\n",
       "      <td>J4B 0B2</td>\n",
       "      <td>business</td>\n",
       "    </tr>\n",
       "    <tr>\n",
       "      <th>4</th>\n",
       "      <td>Ville-Marie</td>\n",
       "      <td>a1Ba6XeIOP48e64YFD0dMw</td>\n",
       "      <td>['Monday 6:30-17:0', 'Tuesday 6:30-17:0', 'Wed...</td>\n",
       "      <td>1</td>\n",
       "      <td>2000 Mansfield Street, Suite 104</td>\n",
       "      <td>['Caters: True']</td>\n",
       "      <td>['Sandwiches', 'Breakfast &amp; Brunch', 'Salad', ...</td>\n",
       "      <td>Montréal</td>\n",
       "      <td>3</td>\n",
       "      <td>La Prep</td>\n",
       "      <td>-73.573807</td>\n",
       "      <td>QC</td>\n",
       "      <td>4.0</td>\n",
       "      <td>45.502346</td>\n",
       "      <td>H3A 2Z6</td>\n",
       "      <td>business</td>\n",
       "    </tr>\n",
       "    <tr>\n",
       "      <th>5</th>\n",
       "      <td>Downtown Core</td>\n",
       "      <td>826djy6K_9Fp0ptqJ2_Yag</td>\n",
       "      <td>['Monday 10:45-22:0', 'Tuesday 10:45-22:0', 'W...</td>\n",
       "      <td>1</td>\n",
       "      <td>123 Front St, Unit 103 and 103-A</td>\n",
       "      <td>['Alcohol: none', \"Ambience: {'romantic': Fals...</td>\n",
       "      <td>['Fast Food', 'Mexican', 'Restaurants']</td>\n",
       "      <td>Toronto</td>\n",
       "      <td>68</td>\n",
       "      <td>Chipotle Mexican Grill</td>\n",
       "      <td>-79.383333</td>\n",
       "      <td>ON</td>\n",
       "      <td>3.5</td>\n",
       "      <td>43.644920</td>\n",
       "      <td>M5J 2M2</td>\n",
       "      <td>business</td>\n",
       "    </tr>\n",
       "    <tr>\n",
       "      <th>6</th>\n",
       "      <td>NaN</td>\n",
       "      <td>Mi5uhdFB9OJteXPd0_IKfw</td>\n",
       "      <td>['Monday 16:0-22:0', 'Tuesday 16:0-22:0', 'Wed...</td>\n",
       "      <td>1</td>\n",
       "      <td>5646 W Bell Rd</td>\n",
       "      <td>['Alcohol: full_bar', \"Ambience: {'romantic': ...</td>\n",
       "      <td>['Restaurants', 'Italian', 'Seafood']</td>\n",
       "      <td>Glendale</td>\n",
       "      <td>119</td>\n",
       "      <td>Carrabba's Italian Grill</td>\n",
       "      <td>-112.180893</td>\n",
       "      <td>AZ</td>\n",
       "      <td>3.5</td>\n",
       "      <td>33.639301</td>\n",
       "      <td>85308</td>\n",
       "      <td>business</td>\n",
       "    </tr>\n",
       "    <tr>\n",
       "      <th>7</th>\n",
       "      <td>NaN</td>\n",
       "      <td>Uxh0fXFH_QQBivRnIBpdiw</td>\n",
       "      <td>['Monday 11:0-22:0', 'Tuesday 11:0-22:0', 'Wed...</td>\n",
       "      <td>1</td>\n",
       "      <td>2269 Kresge Dr</td>\n",
       "      <td>['Alcohol: full_bar', \"Ambience: {'romantic': ...</td>\n",
       "      <td>['Restaurants', 'Mexican', 'American (Traditio...</td>\n",
       "      <td>Amherst</td>\n",
       "      <td>22</td>\n",
       "      <td>Don Tequila</td>\n",
       "      <td>-82.207603</td>\n",
       "      <td>OH</td>\n",
       "      <td>3.5</td>\n",
       "      <td>41.416152</td>\n",
       "      <td>44001</td>\n",
       "      <td>business</td>\n",
       "    </tr>\n",
       "    <tr>\n",
       "      <th>8</th>\n",
       "      <td>NaN</td>\n",
       "      <td>YPavuOh2XsnRbLfl0DH2lQ</td>\n",
       "      <td>['Monday 9:0-22:0', 'Tuesday 9:0-22:0', 'Wedne...</td>\n",
       "      <td>1</td>\n",
       "      <td>1220 S Central Ave</td>\n",
       "      <td>['Alcohol: full_bar', \"Ambience: {'romantic': ...</td>\n",
       "      <td>['Restaurants', 'Waffles', 'Southern', 'Soul F...</td>\n",
       "      <td>Phoenix</td>\n",
       "      <td>1276</td>\n",
       "      <td>Lo-Lo's Chicken &amp; Waffles</td>\n",
       "      <td>-112.073970</td>\n",
       "      <td>AZ</td>\n",
       "      <td>4.0</td>\n",
       "      <td>33.435372</td>\n",
       "      <td>85003</td>\n",
       "      <td>business</td>\n",
       "    </tr>\n",
       "    <tr>\n",
       "      <th>9</th>\n",
       "      <td>Spring Valley</td>\n",
       "      <td>saWZO6hB4B8P-mIzS1--Xw</td>\n",
       "      <td>NaN</td>\n",
       "      <td>0</td>\n",
       "      <td>4811 S Rainbow Blvd</td>\n",
       "      <td>['Alcohol: full_bar', 'BusinessAcceptsCreditCa...</td>\n",
       "      <td>['Persian/Iranian', 'Restaurants', 'Ethnic Foo...</td>\n",
       "      <td>Las Vegas</td>\n",
       "      <td>15</td>\n",
       "      <td>Kabob Palace</td>\n",
       "      <td>-115.244312</td>\n",
       "      <td>NV</td>\n",
       "      <td>2.5</td>\n",
       "      <td>36.101021</td>\n",
       "      <td>89103</td>\n",
       "      <td>business</td>\n",
       "    </tr>\n",
       "  </tbody>\n",
       "</table>\n",
       "</div>"
      ],
      "text/plain": [
       "     neighborhood             business_id  \\\n",
       "0  Dufferin Grove  EDqCEAGXVGCH4FJXgqtjqg   \n",
       "1             NaN  GDnbt3isfhd57T1QqU6flg   \n",
       "2             NaN  42romV8altAeuZuP2OC1gw   \n",
       "3             NaN  DNyYOxVAfu0oUcPNL1ljCQ   \n",
       "4     Ville-Marie  a1Ba6XeIOP48e64YFD0dMw   \n",
       "5   Downtown Core  826djy6K_9Fp0ptqJ2_Yag   \n",
       "6             NaN  Mi5uhdFB9OJteXPd0_IKfw   \n",
       "7             NaN  Uxh0fXFH_QQBivRnIBpdiw   \n",
       "8             NaN  YPavuOh2XsnRbLfl0DH2lQ   \n",
       "9   Spring Valley  saWZO6hB4B8P-mIzS1--Xw   \n",
       "\n",
       "                                               hours  is_open  \\\n",
       "0  ['Monday 11:0-2:0', 'Tuesday 11:0-2:0', 'Wedne...        1   \n",
       "1  ['Monday 10:0-22:0', 'Tuesday 10:0-22:0', 'Wed...        1   \n",
       "2  ['Monday 11:0-21:30', 'Tuesday 11:0-21:30', 'W...        0   \n",
       "3                                                NaN        1   \n",
       "4  ['Monday 6:30-17:0', 'Tuesday 6:30-17:0', 'Wed...        1   \n",
       "5  ['Monday 10:45-22:0', 'Tuesday 10:45-22:0', 'W...        1   \n",
       "6  ['Monday 16:0-22:0', 'Tuesday 16:0-22:0', 'Wed...        1   \n",
       "7  ['Monday 11:0-22:0', 'Tuesday 11:0-22:0', 'Wed...        1   \n",
       "8  ['Monday 9:0-22:0', 'Tuesday 9:0-22:0', 'Wedne...        1   \n",
       "9                                                NaN        0   \n",
       "\n",
       "                             address  \\\n",
       "0                 979 Bloor Street W   \n",
       "1        11072 No Frank Lloyd Wright   \n",
       "2  1500 N Green Valley Pkwy, Ste 230   \n",
       "3     1052 Lionel-Daunais, Suite 302   \n",
       "4   2000 Mansfield Street, Suite 104   \n",
       "5   123 Front St, Unit 103 and 103-A   \n",
       "6                     5646 W Bell Rd   \n",
       "7                     2269 Kresge Dr   \n",
       "8                 1220 S Central Ave   \n",
       "9                4811 S Rainbow Blvd   \n",
       "\n",
       "                                          attributes  \\\n",
       "0  ['Alcohol: none', \"Ambience: {'romantic': Fals...   \n",
       "1  ['Alcohol: none', \"Ambience: {'romantic': Fals...   \n",
       "2  ['Alcohol: none', \"Ambience: {'romantic': Fals...   \n",
       "3  ['BusinessAcceptsCreditCards: True', 'GoodForK...   \n",
       "4                                   ['Caters: True']   \n",
       "5  ['Alcohol: none', \"Ambience: {'romantic': Fals...   \n",
       "6  ['Alcohol: full_bar', \"Ambience: {'romantic': ...   \n",
       "7  ['Alcohol: full_bar', \"Ambience: {'romantic': ...   \n",
       "8  ['Alcohol: full_bar', \"Ambience: {'romantic': ...   \n",
       "9  ['Alcohol: full_bar', 'BusinessAcceptsCreditCa...   \n",
       "\n",
       "                                          categories          city  \\\n",
       "0  ['Restaurants', 'Pizza', 'Chicken Wings', 'Ita...       Toronto   \n",
       "1  ['Tex-Mex', 'Mexican', 'Fast Food', 'Restauran...    Scottsdale   \n",
       "2            ['Hawaiian', 'Restaurants', 'Barbeque']     Henderson   \n",
       "3                           ['Restaurants', 'Cafes']  Boucherville   \n",
       "4  ['Sandwiches', 'Breakfast & Brunch', 'Salad', ...      Montréal   \n",
       "5            ['Fast Food', 'Mexican', 'Restaurants']       Toronto   \n",
       "6              ['Restaurants', 'Italian', 'Seafood']      Glendale   \n",
       "7  ['Restaurants', 'Mexican', 'American (Traditio...       Amherst   \n",
       "8  ['Restaurants', 'Waffles', 'Southern', 'Soul F...       Phoenix   \n",
       "9  ['Persian/Iranian', 'Restaurants', 'Ethnic Foo...     Las Vegas   \n",
       "\n",
       "   review_count                       name   longitude state  stars  \\\n",
       "0             7                Pizza Pizza  -79.429089    ON    2.5   \n",
       "1             9                  Taco Bell -111.835410    AZ    2.5   \n",
       "2            38         Ohana Hawaiian BBQ -115.085821    NV    4.0   \n",
       "3             7                Chez Lionel  -73.430235    QC    3.5   \n",
       "4             3                    La Prep  -73.573807    QC    4.0   \n",
       "5            68     Chipotle Mexican Grill  -79.383333    ON    3.5   \n",
       "6           119   Carrabba's Italian Grill -112.180893    AZ    3.5   \n",
       "7            22                Don Tequila  -82.207603    OH    3.5   \n",
       "8          1276  Lo-Lo's Chicken & Waffles -112.073970    AZ    4.0   \n",
       "9            15               Kabob Palace -115.244312    NV    2.5   \n",
       "\n",
       "    latitude postal_code      type  \n",
       "0  43.661054     M6H 1L5  business  \n",
       "1  33.586710       85259  business  \n",
       "2  36.029596       89074  business  \n",
       "3  45.590227     J4B 0B2  business  \n",
       "4  45.502346     H3A 2Z6  business  \n",
       "5  43.644920     M5J 2M2  business  \n",
       "6  33.639301       85308  business  \n",
       "7  41.416152       44001  business  \n",
       "8  33.435372       85003  business  \n",
       "9  36.101021       89103  business  "
      ]
     },
     "execution_count": 3,
     "metadata": {},
     "output_type": "execute_result"
    }
   ],
   "source": [
    "business.head(10)"
   ]
  },
  {
   "cell_type": "code",
   "execution_count": 14,
   "metadata": {
    "collapsed": false
   },
   "outputs": [],
   "source": [
    "business.drop(['is_open','address','longitude','latitude', 'postal_code', 'type'], axis=1, inplace=True)"
   ]
  },
  {
   "cell_type": "code",
   "execution_count": 15,
   "metadata": {
    "collapsed": false
   },
   "outputs": [
    {
     "data": {
      "text/plain": [
       "Index([u'neighborhood', u'business_id', u'hours', u'attributes', u'categories',\n",
       "       u'city', u'review_count', u'name', u'state', u'stars'],\n",
       "      dtype='object')"
      ]
     },
     "execution_count": 15,
     "metadata": {},
     "output_type": "execute_result"
    }
   ],
   "source": [
    "business.columns"
   ]
  },
  {
   "cell_type": "code",
   "execution_count": 16,
   "metadata": {
    "collapsed": false
   },
   "outputs": [
    {
     "data": {
      "text/plain": [
       "48485"
      ]
     },
     "execution_count": 16,
     "metadata": {},
     "output_type": "execute_result"
    }
   ],
   "source": [
    "len(business)"
   ]
  },
  {
   "cell_type": "code",
   "execution_count": 7,
   "metadata": {
    "collapsed": false,
    "scrolled": true
   },
   "outputs": [
    {
     "data": {
      "text/html": [
       "<div>\n",
       "<table border=\"1\" class=\"dataframe\">\n",
       "  <thead>\n",
       "    <tr style=\"text-align: right;\">\n",
       "      <th></th>\n",
       "      <th>funny</th>\n",
       "      <th>user_id</th>\n",
       "      <th>review_id</th>\n",
       "      <th>text</th>\n",
       "      <th>business_id</th>\n",
       "      <th>stars</th>\n",
       "      <th>date</th>\n",
       "      <th>useful</th>\n",
       "      <th>type</th>\n",
       "      <th>cool</th>\n",
       "    </tr>\n",
       "  </thead>\n",
       "  <tbody>\n",
       "    <tr>\n",
       "      <th>0</th>\n",
       "      <td>0</td>\n",
       "      <td>KpkOkG6RIf4Ra25Lhhxf1A</td>\n",
       "      <td>NxL8SIC5yqOdnlXCg18IBg</td>\n",
       "      <td>If you enjoy service by someone who is as comp...</td>\n",
       "      <td>2aFiy99vNLklCx3T_tGS9A</td>\n",
       "      <td>5</td>\n",
       "      <td>2011-10-10</td>\n",
       "      <td>0</td>\n",
       "      <td>review</td>\n",
       "      <td>0</td>\n",
       "    </tr>\n",
       "    <tr>\n",
       "      <th>1</th>\n",
       "      <td>0</td>\n",
       "      <td>bQ7fQq1otn9hKX-gXRsrgA</td>\n",
       "      <td>pXbbIgOXvLuTi_SPs1hQEQ</td>\n",
       "      <td>After being on the phone with Verizon Wireless...</td>\n",
       "      <td>2aFiy99vNLklCx3T_tGS9A</td>\n",
       "      <td>5</td>\n",
       "      <td>2010-12-29</td>\n",
       "      <td>1</td>\n",
       "      <td>review</td>\n",
       "      <td>0</td>\n",
       "    </tr>\n",
       "    <tr>\n",
       "      <th>2</th>\n",
       "      <td>0</td>\n",
       "      <td>r1NUhdNmL6yU9Bn-Yx6FTw</td>\n",
       "      <td>wslW2Lu4NYylb1jEapAGsw</td>\n",
       "      <td>Great service! Corey is very service oriented....</td>\n",
       "      <td>2aFiy99vNLklCx3T_tGS9A</td>\n",
       "      <td>5</td>\n",
       "      <td>2011-04-29</td>\n",
       "      <td>0</td>\n",
       "      <td>review</td>\n",
       "      <td>0</td>\n",
       "    </tr>\n",
       "    <tr>\n",
       "      <th>3</th>\n",
       "      <td>0</td>\n",
       "      <td>aW3ix1KNZAvoM8q-WghA3Q</td>\n",
       "      <td>GP6YEearUWrzPtQYSF1vVg</td>\n",
       "      <td>Highly recommended. Went in yesterday looking ...</td>\n",
       "      <td>2LfIuF3_sX6uwe-IR-P0jQ</td>\n",
       "      <td>5</td>\n",
       "      <td>2014-07-14</td>\n",
       "      <td>0</td>\n",
       "      <td>review</td>\n",
       "      <td>1</td>\n",
       "    </tr>\n",
       "    <tr>\n",
       "      <th>4</th>\n",
       "      <td>0</td>\n",
       "      <td>YOo-Cip8HqvKp_p9nEGphw</td>\n",
       "      <td>25RlYGq2s5qShi-pn3ufVA</td>\n",
       "      <td>I walked in here looking for a specific piece ...</td>\n",
       "      <td>2LfIuF3_sX6uwe-IR-P0jQ</td>\n",
       "      <td>4</td>\n",
       "      <td>2014-01-15</td>\n",
       "      <td>0</td>\n",
       "      <td>review</td>\n",
       "      <td>0</td>\n",
       "    </tr>\n",
       "    <tr>\n",
       "      <th>5</th>\n",
       "      <td>0</td>\n",
       "      <td>bgl3j8yJcRO-00NkUYsXGQ</td>\n",
       "      <td>Uf1Ki1yyH_JDKhLvn2e4FQ</td>\n",
       "      <td>What a great place! Modern on Melrose has amaz...</td>\n",
       "      <td>2LfIuF3_sX6uwe-IR-P0jQ</td>\n",
       "      <td>5</td>\n",
       "      <td>2013-04-28</td>\n",
       "      <td>2</td>\n",
       "      <td>review</td>\n",
       "      <td>1</td>\n",
       "    </tr>\n",
       "    <tr>\n",
       "      <th>6</th>\n",
       "      <td>0</td>\n",
       "      <td>CWKF9de-nskLYEqDDCfubg</td>\n",
       "      <td>oFmVZh-La7SuvpHrH_Al4Q</td>\n",
       "      <td>A hidden gem! Found a beautiful buffet for a g...</td>\n",
       "      <td>2LfIuF3_sX6uwe-IR-P0jQ</td>\n",
       "      <td>4</td>\n",
       "      <td>2014-10-12</td>\n",
       "      <td>0</td>\n",
       "      <td>review</td>\n",
       "      <td>0</td>\n",
       "    </tr>\n",
       "    <tr>\n",
       "      <th>7</th>\n",
       "      <td>0</td>\n",
       "      <td>GJ7PTY7huYORFKKg3db3Gw</td>\n",
       "      <td>bRvdVt88MJ_YMTlLbjDLxQ</td>\n",
       "      <td>This place is a great for those vintage/mid ce...</td>\n",
       "      <td>2LfIuF3_sX6uwe-IR-P0jQ</td>\n",
       "      <td>5</td>\n",
       "      <td>2012-09-18</td>\n",
       "      <td>2</td>\n",
       "      <td>review</td>\n",
       "      <td>0</td>\n",
       "    </tr>\n",
       "    <tr>\n",
       "      <th>8</th>\n",
       "      <td>0</td>\n",
       "      <td>rxqp9eXZj1jYTn0UIsm3Hg</td>\n",
       "      <td>zNUSxqflZKgKD1NQH3jdFA</td>\n",
       "      <td>This is the place to go for all your Mid Centu...</td>\n",
       "      <td>2LfIuF3_sX6uwe-IR-P0jQ</td>\n",
       "      <td>5</td>\n",
       "      <td>2015-10-11</td>\n",
       "      <td>0</td>\n",
       "      <td>review</td>\n",
       "      <td>0</td>\n",
       "    </tr>\n",
       "    <tr>\n",
       "      <th>9</th>\n",
       "      <td>0</td>\n",
       "      <td>UU0nHQtHPMAfLidk8tOHTg</td>\n",
       "      <td>LkP1l7sZIwOV6IKNLqQp_A</td>\n",
       "      <td>Great items at a good price.  Helpful, easy to...</td>\n",
       "      <td>2LfIuF3_sX6uwe-IR-P0jQ</td>\n",
       "      <td>5</td>\n",
       "      <td>2015-04-05</td>\n",
       "      <td>0</td>\n",
       "      <td>review</td>\n",
       "      <td>0</td>\n",
       "    </tr>\n",
       "  </tbody>\n",
       "</table>\n",
       "</div>"
      ],
      "text/plain": [
       "   funny                 user_id               review_id  \\\n",
       "0      0  KpkOkG6RIf4Ra25Lhhxf1A  NxL8SIC5yqOdnlXCg18IBg   \n",
       "1      0  bQ7fQq1otn9hKX-gXRsrgA  pXbbIgOXvLuTi_SPs1hQEQ   \n",
       "2      0  r1NUhdNmL6yU9Bn-Yx6FTw  wslW2Lu4NYylb1jEapAGsw   \n",
       "3      0  aW3ix1KNZAvoM8q-WghA3Q  GP6YEearUWrzPtQYSF1vVg   \n",
       "4      0  YOo-Cip8HqvKp_p9nEGphw  25RlYGq2s5qShi-pn3ufVA   \n",
       "5      0  bgl3j8yJcRO-00NkUYsXGQ  Uf1Ki1yyH_JDKhLvn2e4FQ   \n",
       "6      0  CWKF9de-nskLYEqDDCfubg  oFmVZh-La7SuvpHrH_Al4Q   \n",
       "7      0  GJ7PTY7huYORFKKg3db3Gw  bRvdVt88MJ_YMTlLbjDLxQ   \n",
       "8      0  rxqp9eXZj1jYTn0UIsm3Hg  zNUSxqflZKgKD1NQH3jdFA   \n",
       "9      0  UU0nHQtHPMAfLidk8tOHTg  LkP1l7sZIwOV6IKNLqQp_A   \n",
       "\n",
       "                                                text             business_id  \\\n",
       "0  If you enjoy service by someone who is as comp...  2aFiy99vNLklCx3T_tGS9A   \n",
       "1  After being on the phone with Verizon Wireless...  2aFiy99vNLklCx3T_tGS9A   \n",
       "2  Great service! Corey is very service oriented....  2aFiy99vNLklCx3T_tGS9A   \n",
       "3  Highly recommended. Went in yesterday looking ...  2LfIuF3_sX6uwe-IR-P0jQ   \n",
       "4  I walked in here looking for a specific piece ...  2LfIuF3_sX6uwe-IR-P0jQ   \n",
       "5  What a great place! Modern on Melrose has amaz...  2LfIuF3_sX6uwe-IR-P0jQ   \n",
       "6  A hidden gem! Found a beautiful buffet for a g...  2LfIuF3_sX6uwe-IR-P0jQ   \n",
       "7  This place is a great for those vintage/mid ce...  2LfIuF3_sX6uwe-IR-P0jQ   \n",
       "8  This is the place to go for all your Mid Centu...  2LfIuF3_sX6uwe-IR-P0jQ   \n",
       "9  Great items at a good price.  Helpful, easy to...  2LfIuF3_sX6uwe-IR-P0jQ   \n",
       "\n",
       "   stars        date  useful    type  cool  \n",
       "0      5  2011-10-10       0  review     0  \n",
       "1      5  2010-12-29       1  review     0  \n",
       "2      5  2011-04-29       0  review     0  \n",
       "3      5  2014-07-14       0  review     1  \n",
       "4      4  2014-01-15       0  review     0  \n",
       "5      5  2013-04-28       2  review     1  \n",
       "6      4  2014-10-12       0  review     0  \n",
       "7      5  2012-09-18       2  review     0  \n",
       "8      5  2015-10-11       0  review     0  \n",
       "9      5  2015-04-05       0  review     0  "
      ]
     },
     "execution_count": 7,
     "metadata": {},
     "output_type": "execute_result"
    }
   ],
   "source": [
    "review.head(10)"
   ]
  },
  {
   "cell_type": "code",
   "execution_count": 18,
   "metadata": {
    "collapsed": true
   },
   "outputs": [],
   "source": [
    "review.drop(['type'], axis=1, inplace=True)"
   ]
  },
  {
   "cell_type": "code",
   "execution_count": 39,
   "metadata": {
    "collapsed": false,
    "scrolled": true
   },
   "outputs": [
    {
     "data": {
      "text/plain": [
       "Index([u'funny', u'user_id', u'review_id', u'text', u'business_id', u'stars',\n",
       "       u'date', u'useful', u'cool'],\n",
       "      dtype='object')"
      ]
     },
     "execution_count": 39,
     "metadata": {},
     "output_type": "execute_result"
    }
   ],
   "source": [
    "review.columns"
   ]
  },
  {
   "cell_type": "code",
   "execution_count": 20,
   "metadata": {
    "collapsed": false
   },
   "outputs": [
    {
     "data": {
      "text/plain": [
       "4153150"
      ]
     },
     "execution_count": 20,
     "metadata": {},
     "output_type": "execute_result"
    }
   ],
   "source": [
    "len(review)"
   ]
  },
  {
   "cell_type": "code",
   "execution_count": 41,
   "metadata": {
    "collapsed": false,
    "scrolled": true
   },
   "outputs": [
    {
     "data": {
      "text/plain": [
       "0          0\n",
       "1          0\n",
       "2          0\n",
       "3          1\n",
       "4          0\n",
       "5          1\n",
       "6          0\n",
       "7          0\n",
       "8          0\n",
       "9          0\n",
       "10         0\n",
       "11         1\n",
       "12         0\n",
       "13         0\n",
       "14         1\n",
       "15         2\n",
       "16         0\n",
       "17         0\n",
       "18         0\n",
       "19         1\n",
       "20         0\n",
       "21         4\n",
       "22         2\n",
       "23         1\n",
       "24         0\n",
       "25         0\n",
       "26         1\n",
       "27         0\n",
       "28         0\n",
       "29         0\n",
       "          ..\n",
       "4153120    0\n",
       "4153121    0\n",
       "4153122    2\n",
       "4153123    0\n",
       "4153124    1\n",
       "4153125    1\n",
       "4153126    0\n",
       "4153127    0\n",
       "4153128    0\n",
       "4153129    0\n",
       "4153130    0\n",
       "4153131    7\n",
       "4153132    0\n",
       "4153133    1\n",
       "4153134    0\n",
       "4153135    0\n",
       "4153136    0\n",
       "4153137    0\n",
       "4153138    0\n",
       "4153139    0\n",
       "4153140    0\n",
       "4153141    0\n",
       "4153142    3\n",
       "4153143    0\n",
       "4153144    3\n",
       "4153145    0\n",
       "4153146    0\n",
       "4153147    0\n",
       "4153148    0\n",
       "4153149    0\n",
       "Name: cool, dtype: int64"
      ]
     },
     "execution_count": 41,
     "metadata": {},
     "output_type": "execute_result"
    }
   ],
   "source": [
    "review['cool']"
   ]
  },
  {
   "cell_type": "code",
   "execution_count": 8,
   "metadata": {
    "collapsed": false,
    "scrolled": true
   },
   "outputs": [
    {
     "data": {
      "text/html": [
       "<div>\n",
       "<table border=\"1\" class=\"dataframe\">\n",
       "  <thead>\n",
       "    <tr style=\"text-align: right;\">\n",
       "      <th></th>\n",
       "      <th>yelping_since</th>\n",
       "      <th>useful</th>\n",
       "      <th>compliment_photos</th>\n",
       "      <th>compliment_list</th>\n",
       "      <th>compliment_funny</th>\n",
       "      <th>compliment_plain</th>\n",
       "      <th>review_count</th>\n",
       "      <th>elite</th>\n",
       "      <th>fans</th>\n",
       "      <th>type</th>\n",
       "      <th>...</th>\n",
       "      <th>compliment_cute</th>\n",
       "      <th>average_stars</th>\n",
       "      <th>user_id</th>\n",
       "      <th>compliment_more</th>\n",
       "      <th>friends</th>\n",
       "      <th>compliment_hot</th>\n",
       "      <th>cool</th>\n",
       "      <th>name</th>\n",
       "      <th>compliment_profile</th>\n",
       "      <th>compliment_cool</th>\n",
       "    </tr>\n",
       "  </thead>\n",
       "  <tbody>\n",
       "    <tr>\n",
       "      <th>0</th>\n",
       "      <td>2009-09-12</td>\n",
       "      <td>18456</td>\n",
       "      <td>1347</td>\n",
       "      <td>19</td>\n",
       "      <td>4192</td>\n",
       "      <td>2617</td>\n",
       "      <td>761</td>\n",
       "      <td>['2017', '2015', '2016', '2014', '2011', '2013...</td>\n",
       "      <td>298</td>\n",
       "      <td>user</td>\n",
       "      <td>...</td>\n",
       "      <td>79</td>\n",
       "      <td>3.59</td>\n",
       "      <td>EZmocAborM6z66rTzeZxzQ</td>\n",
       "      <td>305</td>\n",
       "      <td>['iJg9ekPzF9lkMuvjKYX6uA', 'ctWAuzS04Xu0lke2Ro...</td>\n",
       "      <td>3904</td>\n",
       "      <td>17579</td>\n",
       "      <td>Rob</td>\n",
       "      <td>207</td>\n",
       "      <td>4192</td>\n",
       "    </tr>\n",
       "    <tr>\n",
       "      <th>1</th>\n",
       "      <td>2009-06-27</td>\n",
       "      <td>117</td>\n",
       "      <td>24</td>\n",
       "      <td>1</td>\n",
       "      <td>144</td>\n",
       "      <td>129</td>\n",
       "      <td>80</td>\n",
       "      <td>['None']</td>\n",
       "      <td>34</td>\n",
       "      <td>user</td>\n",
       "      <td>...</td>\n",
       "      <td>11</td>\n",
       "      <td>4.29</td>\n",
       "      <td>myql3o3x22_ygECb8gVo7A</td>\n",
       "      <td>4</td>\n",
       "      <td>['r2UUCzGxqI6WPsiWPgqG2A', 'qewG3X2O4X6JKskxyy...</td>\n",
       "      <td>64</td>\n",
       "      <td>104</td>\n",
       "      <td>Vivian</td>\n",
       "      <td>5</td>\n",
       "      <td>144</td>\n",
       "    </tr>\n",
       "    <tr>\n",
       "      <th>2</th>\n",
       "      <td>2010-08-26</td>\n",
       "      <td>58</td>\n",
       "      <td>4</td>\n",
       "      <td>2</td>\n",
       "      <td>36</td>\n",
       "      <td>23</td>\n",
       "      <td>841</td>\n",
       "      <td>['2011', '2016', '2017', '2013', '2014', '2015...</td>\n",
       "      <td>48</td>\n",
       "      <td>user</td>\n",
       "      <td>...</td>\n",
       "      <td>1</td>\n",
       "      <td>4.15</td>\n",
       "      <td>FIk4lQQu1eTe2EpzQ4xhBA</td>\n",
       "      <td>10</td>\n",
       "      <td>['qewG3X2O4X6JKskxyyqFwQ', '-50XWnmQGqBgEI-9AN...</td>\n",
       "      <td>14</td>\n",
       "      <td>5</td>\n",
       "      <td>Carol</td>\n",
       "      <td>3</td>\n",
       "      <td>36</td>\n",
       "    </tr>\n",
       "    <tr>\n",
       "      <th>3</th>\n",
       "      <td>2008-05-31</td>\n",
       "      <td>42</td>\n",
       "      <td>1</td>\n",
       "      <td>0</td>\n",
       "      <td>54</td>\n",
       "      <td>29</td>\n",
       "      <td>376</td>\n",
       "      <td>['2014', '2010', '2017', '2015', '2011', '2016...</td>\n",
       "      <td>28</td>\n",
       "      <td>user</td>\n",
       "      <td>...</td>\n",
       "      <td>6</td>\n",
       "      <td>3.82</td>\n",
       "      <td>ojovtd9c8GIeDiB8e0mq2w</td>\n",
       "      <td>5</td>\n",
       "      <td>['AIhfuFmX62k7a22gXXAB2Q', 'kQ1jU2rDpFD_q54edE...</td>\n",
       "      <td>32</td>\n",
       "      <td>42</td>\n",
       "      <td>Miss Maggie</td>\n",
       "      <td>4</td>\n",
       "      <td>54</td>\n",
       "    </tr>\n",
       "    <tr>\n",
       "      <th>4</th>\n",
       "      <td>2013-01-17</td>\n",
       "      <td>8</td>\n",
       "      <td>0</td>\n",
       "      <td>0</td>\n",
       "      <td>0</td>\n",
       "      <td>0</td>\n",
       "      <td>28</td>\n",
       "      <td>['None']</td>\n",
       "      <td>2</td>\n",
       "      <td>user</td>\n",
       "      <td>...</td>\n",
       "      <td>0</td>\n",
       "      <td>2.97</td>\n",
       "      <td>uVEoZmmL9yK0NMgadLL0CQ</td>\n",
       "      <td>0</td>\n",
       "      <td>['bvZkBCY-AvCsxRjd6Q-vEQ', 'KNEVNYeyNZApXG6HqO...</td>\n",
       "      <td>0</td>\n",
       "      <td>3</td>\n",
       "      <td>Jeremy</td>\n",
       "      <td>0</td>\n",
       "      <td>0</td>\n",
       "    </tr>\n",
       "    <tr>\n",
       "      <th>5</th>\n",
       "      <td>2009-01-06</td>\n",
       "      <td>5</td>\n",
       "      <td>5</td>\n",
       "      <td>2</td>\n",
       "      <td>19</td>\n",
       "      <td>14</td>\n",
       "      <td>194</td>\n",
       "      <td>['2011', '2016', '2014', '2017', '2012', '2013...</td>\n",
       "      <td>9</td>\n",
       "      <td>user</td>\n",
       "      <td>...</td>\n",
       "      <td>0</td>\n",
       "      <td>3.76</td>\n",
       "      <td>TprC8sujz8MkwuomrqUSiw</td>\n",
       "      <td>1</td>\n",
       "      <td>['YZ4dz1QD-muThmGMYoTnjA', 'qewG3X2O4X6JKskxyy...</td>\n",
       "      <td>7</td>\n",
       "      <td>0</td>\n",
       "      <td>Ramsey</td>\n",
       "      <td>1</td>\n",
       "      <td>19</td>\n",
       "    </tr>\n",
       "    <tr>\n",
       "      <th>6</th>\n",
       "      <td>2011-06-09</td>\n",
       "      <td>18</td>\n",
       "      <td>3</td>\n",
       "      <td>0</td>\n",
       "      <td>33</td>\n",
       "      <td>45</td>\n",
       "      <td>111</td>\n",
       "      <td>['2012', '2013']</td>\n",
       "      <td>4</td>\n",
       "      <td>user</td>\n",
       "      <td>...</td>\n",
       "      <td>1</td>\n",
       "      <td>4.04</td>\n",
       "      <td>De-dImXf-TOFWWPTUWwIvw</td>\n",
       "      <td>4</td>\n",
       "      <td>['Hze9r06sEb-EXEFPwwBTIA', '8Ma3YcY9veaQ-wyAWQ...</td>\n",
       "      <td>16</td>\n",
       "      <td>11</td>\n",
       "      <td>Ben</td>\n",
       "      <td>0</td>\n",
       "      <td>33</td>\n",
       "    </tr>\n",
       "    <tr>\n",
       "      <th>7</th>\n",
       "      <td>2011-02-05</td>\n",
       "      <td>89</td>\n",
       "      <td>3</td>\n",
       "      <td>0</td>\n",
       "      <td>18</td>\n",
       "      <td>20</td>\n",
       "      <td>260</td>\n",
       "      <td>['2015', '2013', '2017', '2016', '2012', '2014']</td>\n",
       "      <td>21</td>\n",
       "      <td>user</td>\n",
       "      <td>...</td>\n",
       "      <td>4</td>\n",
       "      <td>3.73</td>\n",
       "      <td>vWXDkGEvICWNCjBW_fKBlg</td>\n",
       "      <td>5</td>\n",
       "      <td>['b0dK00ENzT-lkJjbf5tLKg', 'syNp5ovDiM0xouWpjT...</td>\n",
       "      <td>11</td>\n",
       "      <td>17</td>\n",
       "      <td>Carrie</td>\n",
       "      <td>2</td>\n",
       "      <td>18</td>\n",
       "    </tr>\n",
       "    <tr>\n",
       "      <th>8</th>\n",
       "      <td>2012-03-16</td>\n",
       "      <td>23</td>\n",
       "      <td>0</td>\n",
       "      <td>0</td>\n",
       "      <td>0</td>\n",
       "      <td>0</td>\n",
       "      <td>30</td>\n",
       "      <td>['None']</td>\n",
       "      <td>1</td>\n",
       "      <td>user</td>\n",
       "      <td>...</td>\n",
       "      <td>0</td>\n",
       "      <td>3.42</td>\n",
       "      <td>JMTr179r5SGHC_rPUBSWfQ</td>\n",
       "      <td>0</td>\n",
       "      <td>['IRX7LjxOaPGSYLCLfHM7qA', 'Iu-xVzyOSBYj_CmS6-...</td>\n",
       "      <td>0</td>\n",
       "      <td>2</td>\n",
       "      <td>Slavisa</td>\n",
       "      <td>0</td>\n",
       "      <td>0</td>\n",
       "    </tr>\n",
       "    <tr>\n",
       "      <th>9</th>\n",
       "      <td>2011-06-01</td>\n",
       "      <td>29</td>\n",
       "      <td>0</td>\n",
       "      <td>0</td>\n",
       "      <td>7</td>\n",
       "      <td>7</td>\n",
       "      <td>96</td>\n",
       "      <td>['2011', '2013', '2012']</td>\n",
       "      <td>3</td>\n",
       "      <td>user</td>\n",
       "      <td>...</td>\n",
       "      <td>0</td>\n",
       "      <td>3.39</td>\n",
       "      <td>s7XIFcwZnhEUMzSZ4EiAHA</td>\n",
       "      <td>5</td>\n",
       "      <td>['SFP3Jx7hTW4epxXO82slHg', 'ICoWbdHQO8S9CvXBIS...</td>\n",
       "      <td>6</td>\n",
       "      <td>8</td>\n",
       "      <td>Javier</td>\n",
       "      <td>0</td>\n",
       "      <td>7</td>\n",
       "    </tr>\n",
       "  </tbody>\n",
       "</table>\n",
       "<p>10 rows × 23 columns</p>\n",
       "</div>"
      ],
      "text/plain": [
       "  yelping_since  useful  compliment_photos  compliment_list  compliment_funny  \\\n",
       "0    2009-09-12   18456               1347               19              4192   \n",
       "1    2009-06-27     117                 24                1               144   \n",
       "2    2010-08-26      58                  4                2                36   \n",
       "3    2008-05-31      42                  1                0                54   \n",
       "4    2013-01-17       8                  0                0                 0   \n",
       "5    2009-01-06       5                  5                2                19   \n",
       "6    2011-06-09      18                  3                0                33   \n",
       "7    2011-02-05      89                  3                0                18   \n",
       "8    2012-03-16      23                  0                0                 0   \n",
       "9    2011-06-01      29                  0                0                 7   \n",
       "\n",
       "   compliment_plain  review_count  \\\n",
       "0              2617           761   \n",
       "1               129            80   \n",
       "2                23           841   \n",
       "3                29           376   \n",
       "4                 0            28   \n",
       "5                14           194   \n",
       "6                45           111   \n",
       "7                20           260   \n",
       "8                 0            30   \n",
       "9                 7            96   \n",
       "\n",
       "                                               elite  fans  type  \\\n",
       "0  ['2017', '2015', '2016', '2014', '2011', '2013...   298  user   \n",
       "1                                           ['None']    34  user   \n",
       "2  ['2011', '2016', '2017', '2013', '2014', '2015...    48  user   \n",
       "3  ['2014', '2010', '2017', '2015', '2011', '2016...    28  user   \n",
       "4                                           ['None']     2  user   \n",
       "5  ['2011', '2016', '2014', '2017', '2012', '2013...     9  user   \n",
       "6                                   ['2012', '2013']     4  user   \n",
       "7   ['2015', '2013', '2017', '2016', '2012', '2014']    21  user   \n",
       "8                                           ['None']     1  user   \n",
       "9                           ['2011', '2013', '2012']     3  user   \n",
       "\n",
       "        ...         compliment_cute  average_stars                 user_id  \\\n",
       "0       ...                      79           3.59  EZmocAborM6z66rTzeZxzQ   \n",
       "1       ...                      11           4.29  myql3o3x22_ygECb8gVo7A   \n",
       "2       ...                       1           4.15  FIk4lQQu1eTe2EpzQ4xhBA   \n",
       "3       ...                       6           3.82  ojovtd9c8GIeDiB8e0mq2w   \n",
       "4       ...                       0           2.97  uVEoZmmL9yK0NMgadLL0CQ   \n",
       "5       ...                       0           3.76  TprC8sujz8MkwuomrqUSiw   \n",
       "6       ...                       1           4.04  De-dImXf-TOFWWPTUWwIvw   \n",
       "7       ...                       4           3.73  vWXDkGEvICWNCjBW_fKBlg   \n",
       "8       ...                       0           3.42  JMTr179r5SGHC_rPUBSWfQ   \n",
       "9       ...                       0           3.39  s7XIFcwZnhEUMzSZ4EiAHA   \n",
       "\n",
       "   compliment_more                                            friends  \\\n",
       "0              305  ['iJg9ekPzF9lkMuvjKYX6uA', 'ctWAuzS04Xu0lke2Ro...   \n",
       "1                4  ['r2UUCzGxqI6WPsiWPgqG2A', 'qewG3X2O4X6JKskxyy...   \n",
       "2               10  ['qewG3X2O4X6JKskxyyqFwQ', '-50XWnmQGqBgEI-9AN...   \n",
       "3                5  ['AIhfuFmX62k7a22gXXAB2Q', 'kQ1jU2rDpFD_q54edE...   \n",
       "4                0  ['bvZkBCY-AvCsxRjd6Q-vEQ', 'KNEVNYeyNZApXG6HqO...   \n",
       "5                1  ['YZ4dz1QD-muThmGMYoTnjA', 'qewG3X2O4X6JKskxyy...   \n",
       "6                4  ['Hze9r06sEb-EXEFPwwBTIA', '8Ma3YcY9veaQ-wyAWQ...   \n",
       "7                5  ['b0dK00ENzT-lkJjbf5tLKg', 'syNp5ovDiM0xouWpjT...   \n",
       "8                0  ['IRX7LjxOaPGSYLCLfHM7qA', 'Iu-xVzyOSBYj_CmS6-...   \n",
       "9                5  ['SFP3Jx7hTW4epxXO82slHg', 'ICoWbdHQO8S9CvXBIS...   \n",
       "\n",
       "  compliment_hot   cool         name  compliment_profile  compliment_cool  \n",
       "0           3904  17579          Rob                 207             4192  \n",
       "1             64    104       Vivian                   5              144  \n",
       "2             14      5        Carol                   3               36  \n",
       "3             32     42  Miss Maggie                   4               54  \n",
       "4              0      3       Jeremy                   0                0  \n",
       "5              7      0       Ramsey                   1               19  \n",
       "6             16     11          Ben                   0               33  \n",
       "7             11     17       Carrie                   2               18  \n",
       "8              0      2      Slavisa                   0                0  \n",
       "9              6      8       Javier                   0                7  \n",
       "\n",
       "[10 rows x 23 columns]"
      ]
     },
     "execution_count": 8,
     "metadata": {},
     "output_type": "execute_result"
    }
   ],
   "source": [
    "user.head(10)"
   ]
  },
  {
   "cell_type": "code",
   "execution_count": 21,
   "metadata": {
    "collapsed": false
   },
   "outputs": [
    {
     "data": {
      "text/plain": [
       "Index([u'yelping_since', u'useful', u'compliment_photos', u'compliment_list',\n",
       "       u'compliment_funny', u'compliment_plain', u'review_count', u'elite',\n",
       "       u'fans', u'type', u'compliment_note', u'funny', u'compliment_writer',\n",
       "       u'compliment_cute', u'average_stars', u'user_id', u'compliment_more',\n",
       "       u'friends', u'compliment_hot', u'cool', u'name', u'compliment_profile',\n",
       "       u'compliment_cool'],\n",
       "      dtype='object')"
      ]
     },
     "execution_count": 21,
     "metadata": {},
     "output_type": "execute_result"
    }
   ],
   "source": [
    "user.columns"
   ]
  },
  {
   "cell_type": "code",
   "execution_count": 22,
   "metadata": {
    "collapsed": true
   },
   "outputs": [],
   "source": [
    "user.drop(['compliment_photos','compliment_list','compliment_funny','compliment_plain', 'compliment_note', 'type','compliment_writer', 'compliment_cute', 'compliment_more', 'compliment_hot', 'compliment_profile', 'compliment_cool'], axis=1, inplace=True)"
   ]
  },
  {
   "cell_type": "code",
   "execution_count": 23,
   "metadata": {
    "collapsed": false
   },
   "outputs": [
    {
     "data": {
      "text/html": [
       "<div>\n",
       "<table border=\"1\" class=\"dataframe\">\n",
       "  <thead>\n",
       "    <tr style=\"text-align: right;\">\n",
       "      <th></th>\n",
       "      <th>yelping_since</th>\n",
       "      <th>useful</th>\n",
       "      <th>review_count</th>\n",
       "      <th>elite</th>\n",
       "      <th>fans</th>\n",
       "      <th>funny</th>\n",
       "      <th>average_stars</th>\n",
       "      <th>user_id</th>\n",
       "      <th>friends</th>\n",
       "      <th>cool</th>\n",
       "      <th>name</th>\n",
       "    </tr>\n",
       "  </thead>\n",
       "  <tbody>\n",
       "    <tr>\n",
       "      <th>0</th>\n",
       "      <td>2009-09-12</td>\n",
       "      <td>18456</td>\n",
       "      <td>761</td>\n",
       "      <td>['2017', '2015', '2016', '2014', '2011', '2013...</td>\n",
       "      <td>298</td>\n",
       "      <td>12316</td>\n",
       "      <td>3.59</td>\n",
       "      <td>EZmocAborM6z66rTzeZxzQ</td>\n",
       "      <td>['iJg9ekPzF9lkMuvjKYX6uA', 'ctWAuzS04Xu0lke2Ro...</td>\n",
       "      <td>17579</td>\n",
       "      <td>Rob</td>\n",
       "    </tr>\n",
       "    <tr>\n",
       "      <th>1</th>\n",
       "      <td>2009-06-27</td>\n",
       "      <td>117</td>\n",
       "      <td>80</td>\n",
       "      <td>['None']</td>\n",
       "      <td>34</td>\n",
       "      <td>28</td>\n",
       "      <td>4.29</td>\n",
       "      <td>myql3o3x22_ygECb8gVo7A</td>\n",
       "      <td>['r2UUCzGxqI6WPsiWPgqG2A', 'qewG3X2O4X6JKskxyy...</td>\n",
       "      <td>104</td>\n",
       "      <td>Vivian</td>\n",
       "    </tr>\n",
       "  </tbody>\n",
       "</table>\n",
       "</div>"
      ],
      "text/plain": [
       "  yelping_since  useful  review_count  \\\n",
       "0    2009-09-12   18456           761   \n",
       "1    2009-06-27     117            80   \n",
       "\n",
       "                                               elite  fans  funny  \\\n",
       "0  ['2017', '2015', '2016', '2014', '2011', '2013...   298  12316   \n",
       "1                                           ['None']    34     28   \n",
       "\n",
       "   average_stars                 user_id  \\\n",
       "0           3.59  EZmocAborM6z66rTzeZxzQ   \n",
       "1           4.29  myql3o3x22_ygECb8gVo7A   \n",
       "\n",
       "                                             friends   cool    name  \n",
       "0  ['iJg9ekPzF9lkMuvjKYX6uA', 'ctWAuzS04Xu0lke2Ro...  17579     Rob  \n",
       "1  ['r2UUCzGxqI6WPsiWPgqG2A', 'qewG3X2O4X6JKskxyy...    104  Vivian  "
      ]
     },
     "execution_count": 23,
     "metadata": {},
     "output_type": "execute_result"
    }
   ],
   "source": [
    "user.head(2)"
   ]
  },
  {
   "cell_type": "code",
   "execution_count": 25,
   "metadata": {
    "collapsed": false,
    "scrolled": true
   },
   "outputs": [],
   "source": [
    "user.drop(['fans','elite','friends'], axis=1, inplace=True)"
   ]
  },
  {
   "cell_type": "code",
   "execution_count": 26,
   "metadata": {
    "collapsed": false
   },
   "outputs": [
    {
     "data": {
      "text/plain": [
       "Index([u'yelping_since', u'useful', u'review_count', u'funny',\n",
       "       u'average_stars', u'user_id', u'cool', u'name'],\n",
       "      dtype='object')"
      ]
     },
     "execution_count": 26,
     "metadata": {},
     "output_type": "execute_result"
    }
   ],
   "source": [
    "user.columns"
   ]
  },
  {
   "cell_type": "code",
   "execution_count": 27,
   "metadata": {
    "collapsed": false
   },
   "outputs": [
    {
     "data": {
      "text/plain": [
       "1029432"
      ]
     },
     "execution_count": 27,
     "metadata": {},
     "output_type": "execute_result"
    }
   ],
   "source": [
    "len(user)"
   ]
  },
  {
   "cell_type": "code",
   "execution_count": 32,
   "metadata": {
    "collapsed": false
   },
   "outputs": [
    {
     "data": {
      "text/plain": [
       "125532"
      ]
     },
     "execution_count": 32,
     "metadata": {},
     "output_type": "execute_result"
    }
   ],
   "source": [
    "len(checkin)"
   ]
  },
  {
   "cell_type": "code",
   "execution_count": 33,
   "metadata": {
    "collapsed": true
   },
   "outputs": [],
   "source": [
    "data = pd.merge(business, review, on = 'business_id', how = 'inner')"
   ]
  },
  {
   "cell_type": "code",
   "execution_count": 34,
   "metadata": {
    "collapsed": true
   },
   "outputs": [],
   "source": [
    "newdata = pd.merge(data, user, on = 'user_id', how = 'inner')"
   ]
  },
  {
   "cell_type": "code",
   "execution_count": 35,
   "metadata": {
    "collapsed": true
   },
   "outputs": [],
   "source": [
    "train = pd.merge(newdata, checkin, on = 'business_id', how = 'inner')"
   ]
  },
  {
   "cell_type": "code",
   "execution_count": 36,
   "metadata": {
    "collapsed": false
   },
   "outputs": [
    {
     "data": {
      "text/plain": [
       "2528505"
      ]
     },
     "execution_count": 36,
     "metadata": {},
     "output_type": "execute_result"
    }
   ],
   "source": [
    "len(train)"
   ]
  },
  {
   "cell_type": "code",
   "execution_count": 37,
   "metadata": {
    "collapsed": false
   },
   "outputs": [
    {
     "data": {
      "text/plain": [
       "Index([u'neighborhood', u'business_id', u'hours', u'attributes', u'categories',\n",
       "       u'city', u'review_count_x', u'name_x', u'state', u'stars_x', u'funny_x',\n",
       "       u'user_id', u'review_id', u'text', u'stars_y', u'date', u'useful_x',\n",
       "       u'cool_x', u'yelping_since', u'useful_y', u'review_count_y', u'funny_y',\n",
       "       u'average_stars', u'cool_y', u'name_y', u'time', u'type'],\n",
       "      dtype='object')"
      ]
     },
     "execution_count": 37,
     "metadata": {},
     "output_type": "execute_result"
    }
   ],
   "source": [
    "train.columns\n"
   ]
  },
  {
   "cell_type": "code",
   "execution_count": 42,
   "metadata": {
    "collapsed": true
   },
   "outputs": [],
   "source": [
    "train.drop(['funny_x','useful_x','cool_x', 'type'], axis=1, inplace=True)"
   ]
  },
  {
   "cell_type": "code",
   "execution_count": 43,
   "metadata": {
    "collapsed": false,
    "scrolled": true
   },
   "outputs": [
    {
     "data": {
      "text/html": [
       "<div>\n",
       "<table border=\"1\" class=\"dataframe\">\n",
       "  <thead>\n",
       "    <tr style=\"text-align: right;\">\n",
       "      <th></th>\n",
       "      <th>neighborhood</th>\n",
       "      <th>business_id</th>\n",
       "      <th>hours</th>\n",
       "      <th>attributes</th>\n",
       "      <th>categories</th>\n",
       "      <th>city</th>\n",
       "      <th>review_count_x</th>\n",
       "      <th>name_x</th>\n",
       "      <th>state</th>\n",
       "      <th>stars_x</th>\n",
       "      <th>...</th>\n",
       "      <th>stars_y</th>\n",
       "      <th>date</th>\n",
       "      <th>yelping_since</th>\n",
       "      <th>useful_y</th>\n",
       "      <th>review_count_y</th>\n",
       "      <th>funny_y</th>\n",
       "      <th>average_stars</th>\n",
       "      <th>cool_y</th>\n",
       "      <th>name_y</th>\n",
       "      <th>time</th>\n",
       "    </tr>\n",
       "  </thead>\n",
       "  <tbody>\n",
       "    <tr>\n",
       "      <th>0</th>\n",
       "      <td>Dufferin Grove</td>\n",
       "      <td>EDqCEAGXVGCH4FJXgqtjqg</td>\n",
       "      <td>['Monday 11:0-2:0', 'Tuesday 11:0-2:0', 'Wedne...</td>\n",
       "      <td>['Alcohol: none', \"Ambience: {'romantic': Fals...</td>\n",
       "      <td>['Restaurants', 'Pizza', 'Chicken Wings', 'Ita...</td>\n",
       "      <td>Toronto</td>\n",
       "      <td>7</td>\n",
       "      <td>Pizza Pizza</td>\n",
       "      <td>ON</td>\n",
       "      <td>2.5</td>\n",
       "      <td>...</td>\n",
       "      <td>1</td>\n",
       "      <td>2013-05-23</td>\n",
       "      <td>2009-03-26</td>\n",
       "      <td>6</td>\n",
       "      <td>40</td>\n",
       "      <td>0</td>\n",
       "      <td>1.80</td>\n",
       "      <td>0</td>\n",
       "      <td>Danny</td>\n",
       "      <td>['Fri-0:1', 'Sat-1:1', 'Thu-3:2', 'Fri-5:1', '...</td>\n",
       "    </tr>\n",
       "    <tr>\n",
       "      <th>1</th>\n",
       "      <td>Dufferin Grove</td>\n",
       "      <td>EDqCEAGXVGCH4FJXgqtjqg</td>\n",
       "      <td>['Monday 11:0-2:0', 'Tuesday 11:0-2:0', 'Wedne...</td>\n",
       "      <td>['Alcohol: none', \"Ambience: {'romantic': Fals...</td>\n",
       "      <td>['Restaurants', 'Pizza', 'Chicken Wings', 'Ita...</td>\n",
       "      <td>Toronto</td>\n",
       "      <td>7</td>\n",
       "      <td>Pizza Pizza</td>\n",
       "      <td>ON</td>\n",
       "      <td>2.5</td>\n",
       "      <td>...</td>\n",
       "      <td>3</td>\n",
       "      <td>2011-05-18</td>\n",
       "      <td>2010-10-07</td>\n",
       "      <td>128</td>\n",
       "      <td>125</td>\n",
       "      <td>54</td>\n",
       "      <td>3.49</td>\n",
       "      <td>95</td>\n",
       "      <td>Patrick</td>\n",
       "      <td>['Fri-0:1', 'Sat-1:1', 'Thu-3:2', 'Fri-5:1', '...</td>\n",
       "    </tr>\n",
       "    <tr>\n",
       "      <th>2</th>\n",
       "      <td>Dufferin Grove</td>\n",
       "      <td>EDqCEAGXVGCH4FJXgqtjqg</td>\n",
       "      <td>['Monday 11:0-2:0', 'Tuesday 11:0-2:0', 'Wedne...</td>\n",
       "      <td>['Alcohol: none', \"Ambience: {'romantic': Fals...</td>\n",
       "      <td>['Restaurants', 'Pizza', 'Chicken Wings', 'Ita...</td>\n",
       "      <td>Toronto</td>\n",
       "      <td>7</td>\n",
       "      <td>Pizza Pizza</td>\n",
       "      <td>ON</td>\n",
       "      <td>2.5</td>\n",
       "      <td>...</td>\n",
       "      <td>3</td>\n",
       "      <td>2014-08-24</td>\n",
       "      <td>2014-07-08</td>\n",
       "      <td>7</td>\n",
       "      <td>21</td>\n",
       "      <td>9</td>\n",
       "      <td>3.68</td>\n",
       "      <td>6</td>\n",
       "      <td>Daniel</td>\n",
       "      <td>['Fri-0:1', 'Sat-1:1', 'Thu-3:2', 'Fri-5:1', '...</td>\n",
       "    </tr>\n",
       "    <tr>\n",
       "      <th>3</th>\n",
       "      <td>Dufferin Grove</td>\n",
       "      <td>EDqCEAGXVGCH4FJXgqtjqg</td>\n",
       "      <td>['Monday 11:0-2:0', 'Tuesday 11:0-2:0', 'Wedne...</td>\n",
       "      <td>['Alcohol: none', \"Ambience: {'romantic': Fals...</td>\n",
       "      <td>['Restaurants', 'Pizza', 'Chicken Wings', 'Ita...</td>\n",
       "      <td>Toronto</td>\n",
       "      <td>7</td>\n",
       "      <td>Pizza Pizza</td>\n",
       "      <td>ON</td>\n",
       "      <td>2.5</td>\n",
       "      <td>...</td>\n",
       "      <td>3</td>\n",
       "      <td>2014-05-30</td>\n",
       "      <td>2010-08-29</td>\n",
       "      <td>3029</td>\n",
       "      <td>993</td>\n",
       "      <td>842</td>\n",
       "      <td>4.02</td>\n",
       "      <td>1864</td>\n",
       "      <td>Evelyn</td>\n",
       "      <td>['Fri-0:1', 'Sat-1:1', 'Thu-3:2', 'Fri-5:1', '...</td>\n",
       "    </tr>\n",
       "    <tr>\n",
       "      <th>4</th>\n",
       "      <td>Dufferin Grove</td>\n",
       "      <td>EDqCEAGXVGCH4FJXgqtjqg</td>\n",
       "      <td>['Monday 11:0-2:0', 'Tuesday 11:0-2:0', 'Wedne...</td>\n",
       "      <td>['Alcohol: none', \"Ambience: {'romantic': Fals...</td>\n",
       "      <td>['Restaurants', 'Pizza', 'Chicken Wings', 'Ita...</td>\n",
       "      <td>Toronto</td>\n",
       "      <td>7</td>\n",
       "      <td>Pizza Pizza</td>\n",
       "      <td>ON</td>\n",
       "      <td>2.5</td>\n",
       "      <td>...</td>\n",
       "      <td>2</td>\n",
       "      <td>2011-11-20</td>\n",
       "      <td>2011-11-20</td>\n",
       "      <td>0</td>\n",
       "      <td>7</td>\n",
       "      <td>2</td>\n",
       "      <td>3.43</td>\n",
       "      <td>1</td>\n",
       "      <td>Mrs.</td>\n",
       "      <td>['Fri-0:1', 'Sat-1:1', 'Thu-3:2', 'Fri-5:1', '...</td>\n",
       "    </tr>\n",
       "    <tr>\n",
       "      <th>5</th>\n",
       "      <td>Dufferin Grove</td>\n",
       "      <td>EDqCEAGXVGCH4FJXgqtjqg</td>\n",
       "      <td>['Monday 11:0-2:0', 'Tuesday 11:0-2:0', 'Wedne...</td>\n",
       "      <td>['Alcohol: none', \"Ambience: {'romantic': Fals...</td>\n",
       "      <td>['Restaurants', 'Pizza', 'Chicken Wings', 'Ita...</td>\n",
       "      <td>Toronto</td>\n",
       "      <td>7</td>\n",
       "      <td>Pizza Pizza</td>\n",
       "      <td>ON</td>\n",
       "      <td>2.5</td>\n",
       "      <td>...</td>\n",
       "      <td>3</td>\n",
       "      <td>2011-07-21</td>\n",
       "      <td>2009-12-15</td>\n",
       "      <td>41</td>\n",
       "      <td>551</td>\n",
       "      <td>9</td>\n",
       "      <td>3.36</td>\n",
       "      <td>25</td>\n",
       "      <td>Keith</td>\n",
       "      <td>['Fri-0:1', 'Sat-1:1', 'Thu-3:2', 'Fri-5:1', '...</td>\n",
       "    </tr>\n",
       "    <tr>\n",
       "      <th>6</th>\n",
       "      <td>Dufferin Grove</td>\n",
       "      <td>EDqCEAGXVGCH4FJXgqtjqg</td>\n",
       "      <td>['Monday 11:0-2:0', 'Tuesday 11:0-2:0', 'Wedne...</td>\n",
       "      <td>['Alcohol: none', \"Ambience: {'romantic': Fals...</td>\n",
       "      <td>['Restaurants', 'Pizza', 'Chicken Wings', 'Ita...</td>\n",
       "      <td>Toronto</td>\n",
       "      <td>7</td>\n",
       "      <td>Pizza Pizza</td>\n",
       "      <td>ON</td>\n",
       "      <td>2.5</td>\n",
       "      <td>...</td>\n",
       "      <td>4</td>\n",
       "      <td>2012-08-28</td>\n",
       "      <td>2012-02-22</td>\n",
       "      <td>9</td>\n",
       "      <td>100</td>\n",
       "      <td>12</td>\n",
       "      <td>3.48</td>\n",
       "      <td>6</td>\n",
       "      <td>Dana</td>\n",
       "      <td>['Fri-0:1', 'Sat-1:1', 'Thu-3:2', 'Fri-5:1', '...</td>\n",
       "    </tr>\n",
       "    <tr>\n",
       "      <th>7</th>\n",
       "      <td>Cabbagetown</td>\n",
       "      <td>Bz6UcQZgRkrGtDwcagvt9w</td>\n",
       "      <td>['Monday 12:0-0:0', 'Tuesday 11:30-1:0', 'Wedn...</td>\n",
       "      <td>['Alcohol: full_bar', \"Ambience: {'romantic': ...</td>\n",
       "      <td>['Restaurants', 'Soul Food', 'American (Tradit...</td>\n",
       "      <td>Toronto</td>\n",
       "      <td>8</td>\n",
       "      <td>Ronnie B's Southern Kitchen &amp; Taps</td>\n",
       "      <td>ON</td>\n",
       "      <td>3.5</td>\n",
       "      <td>...</td>\n",
       "      <td>3</td>\n",
       "      <td>2014-09-23</td>\n",
       "      <td>2009-03-26</td>\n",
       "      <td>6</td>\n",
       "      <td>40</td>\n",
       "      <td>0</td>\n",
       "      <td>1.80</td>\n",
       "      <td>0</td>\n",
       "      <td>Danny</td>\n",
       "      <td>['Fri-0:1', 'Sat-0:1', 'Sun-0:1', 'Thu-1:1', '...</td>\n",
       "    </tr>\n",
       "    <tr>\n",
       "      <th>8</th>\n",
       "      <td>Cabbagetown</td>\n",
       "      <td>Bz6UcQZgRkrGtDwcagvt9w</td>\n",
       "      <td>['Monday 12:0-0:0', 'Tuesday 11:30-1:0', 'Wedn...</td>\n",
       "      <td>['Alcohol: full_bar', \"Ambience: {'romantic': ...</td>\n",
       "      <td>['Restaurants', 'Soul Food', 'American (Tradit...</td>\n",
       "      <td>Toronto</td>\n",
       "      <td>8</td>\n",
       "      <td>Ronnie B's Southern Kitchen &amp; Taps</td>\n",
       "      <td>ON</td>\n",
       "      <td>3.5</td>\n",
       "      <td>...</td>\n",
       "      <td>4</td>\n",
       "      <td>2014-09-11</td>\n",
       "      <td>2010-10-14</td>\n",
       "      <td>161</td>\n",
       "      <td>560</td>\n",
       "      <td>194</td>\n",
       "      <td>3.58</td>\n",
       "      <td>25</td>\n",
       "      <td>Jay</td>\n",
       "      <td>['Fri-0:1', 'Sat-0:1', 'Sun-0:1', 'Thu-1:1', '...</td>\n",
       "    </tr>\n",
       "    <tr>\n",
       "      <th>9</th>\n",
       "      <td>Cabbagetown</td>\n",
       "      <td>Bz6UcQZgRkrGtDwcagvt9w</td>\n",
       "      <td>['Monday 12:0-0:0', 'Tuesday 11:30-1:0', 'Wedn...</td>\n",
       "      <td>['Alcohol: full_bar', \"Ambience: {'romantic': ...</td>\n",
       "      <td>['Restaurants', 'Soul Food', 'American (Tradit...</td>\n",
       "      <td>Toronto</td>\n",
       "      <td>8</td>\n",
       "      <td>Ronnie B's Southern Kitchen &amp; Taps</td>\n",
       "      <td>ON</td>\n",
       "      <td>3.5</td>\n",
       "      <td>...</td>\n",
       "      <td>4</td>\n",
       "      <td>2014-10-31</td>\n",
       "      <td>2011-08-13</td>\n",
       "      <td>184</td>\n",
       "      <td>332</td>\n",
       "      <td>91</td>\n",
       "      <td>3.51</td>\n",
       "      <td>100</td>\n",
       "      <td>Itanni</td>\n",
       "      <td>['Fri-0:1', 'Sat-0:1', 'Sun-0:1', 'Thu-1:1', '...</td>\n",
       "    </tr>\n",
       "  </tbody>\n",
       "</table>\n",
       "<p>10 rows × 23 columns</p>\n",
       "</div>"
      ],
      "text/plain": [
       "     neighborhood             business_id  \\\n",
       "0  Dufferin Grove  EDqCEAGXVGCH4FJXgqtjqg   \n",
       "1  Dufferin Grove  EDqCEAGXVGCH4FJXgqtjqg   \n",
       "2  Dufferin Grove  EDqCEAGXVGCH4FJXgqtjqg   \n",
       "3  Dufferin Grove  EDqCEAGXVGCH4FJXgqtjqg   \n",
       "4  Dufferin Grove  EDqCEAGXVGCH4FJXgqtjqg   \n",
       "5  Dufferin Grove  EDqCEAGXVGCH4FJXgqtjqg   \n",
       "6  Dufferin Grove  EDqCEAGXVGCH4FJXgqtjqg   \n",
       "7     Cabbagetown  Bz6UcQZgRkrGtDwcagvt9w   \n",
       "8     Cabbagetown  Bz6UcQZgRkrGtDwcagvt9w   \n",
       "9     Cabbagetown  Bz6UcQZgRkrGtDwcagvt9w   \n",
       "\n",
       "                                               hours  \\\n",
       "0  ['Monday 11:0-2:0', 'Tuesday 11:0-2:0', 'Wedne...   \n",
       "1  ['Monday 11:0-2:0', 'Tuesday 11:0-2:0', 'Wedne...   \n",
       "2  ['Monday 11:0-2:0', 'Tuesday 11:0-2:0', 'Wedne...   \n",
       "3  ['Monday 11:0-2:0', 'Tuesday 11:0-2:0', 'Wedne...   \n",
       "4  ['Monday 11:0-2:0', 'Tuesday 11:0-2:0', 'Wedne...   \n",
       "5  ['Monday 11:0-2:0', 'Tuesday 11:0-2:0', 'Wedne...   \n",
       "6  ['Monday 11:0-2:0', 'Tuesday 11:0-2:0', 'Wedne...   \n",
       "7  ['Monday 12:0-0:0', 'Tuesday 11:30-1:0', 'Wedn...   \n",
       "8  ['Monday 12:0-0:0', 'Tuesday 11:30-1:0', 'Wedn...   \n",
       "9  ['Monday 12:0-0:0', 'Tuesday 11:30-1:0', 'Wedn...   \n",
       "\n",
       "                                          attributes  \\\n",
       "0  ['Alcohol: none', \"Ambience: {'romantic': Fals...   \n",
       "1  ['Alcohol: none', \"Ambience: {'romantic': Fals...   \n",
       "2  ['Alcohol: none', \"Ambience: {'romantic': Fals...   \n",
       "3  ['Alcohol: none', \"Ambience: {'romantic': Fals...   \n",
       "4  ['Alcohol: none', \"Ambience: {'romantic': Fals...   \n",
       "5  ['Alcohol: none', \"Ambience: {'romantic': Fals...   \n",
       "6  ['Alcohol: none', \"Ambience: {'romantic': Fals...   \n",
       "7  ['Alcohol: full_bar', \"Ambience: {'romantic': ...   \n",
       "8  ['Alcohol: full_bar', \"Ambience: {'romantic': ...   \n",
       "9  ['Alcohol: full_bar', \"Ambience: {'romantic': ...   \n",
       "\n",
       "                                          categories     city  review_count_x  \\\n",
       "0  ['Restaurants', 'Pizza', 'Chicken Wings', 'Ita...  Toronto               7   \n",
       "1  ['Restaurants', 'Pizza', 'Chicken Wings', 'Ita...  Toronto               7   \n",
       "2  ['Restaurants', 'Pizza', 'Chicken Wings', 'Ita...  Toronto               7   \n",
       "3  ['Restaurants', 'Pizza', 'Chicken Wings', 'Ita...  Toronto               7   \n",
       "4  ['Restaurants', 'Pizza', 'Chicken Wings', 'Ita...  Toronto               7   \n",
       "5  ['Restaurants', 'Pizza', 'Chicken Wings', 'Ita...  Toronto               7   \n",
       "6  ['Restaurants', 'Pizza', 'Chicken Wings', 'Ita...  Toronto               7   \n",
       "7  ['Restaurants', 'Soul Food', 'American (Tradit...  Toronto               8   \n",
       "8  ['Restaurants', 'Soul Food', 'American (Tradit...  Toronto               8   \n",
       "9  ['Restaurants', 'Soul Food', 'American (Tradit...  Toronto               8   \n",
       "\n",
       "                               name_x state  stars_x  \\\n",
       "0                         Pizza Pizza    ON      2.5   \n",
       "1                         Pizza Pizza    ON      2.5   \n",
       "2                         Pizza Pizza    ON      2.5   \n",
       "3                         Pizza Pizza    ON      2.5   \n",
       "4                         Pizza Pizza    ON      2.5   \n",
       "5                         Pizza Pizza    ON      2.5   \n",
       "6                         Pizza Pizza    ON      2.5   \n",
       "7  Ronnie B's Southern Kitchen & Taps    ON      3.5   \n",
       "8  Ronnie B's Southern Kitchen & Taps    ON      3.5   \n",
       "9  Ronnie B's Southern Kitchen & Taps    ON      3.5   \n",
       "\n",
       "                         ...                         stars_y        date  \\\n",
       "0                        ...                               1  2013-05-23   \n",
       "1                        ...                               3  2011-05-18   \n",
       "2                        ...                               3  2014-08-24   \n",
       "3                        ...                               3  2014-05-30   \n",
       "4                        ...                               2  2011-11-20   \n",
       "5                        ...                               3  2011-07-21   \n",
       "6                        ...                               4  2012-08-28   \n",
       "7                        ...                               3  2014-09-23   \n",
       "8                        ...                               4  2014-09-11   \n",
       "9                        ...                               4  2014-10-31   \n",
       "\n",
       "  yelping_since  useful_y review_count_y funny_y  average_stars  cool_y  \\\n",
       "0    2009-03-26         6             40       0           1.80       0   \n",
       "1    2010-10-07       128            125      54           3.49      95   \n",
       "2    2014-07-08         7             21       9           3.68       6   \n",
       "3    2010-08-29      3029            993     842           4.02    1864   \n",
       "4    2011-11-20         0              7       2           3.43       1   \n",
       "5    2009-12-15        41            551       9           3.36      25   \n",
       "6    2012-02-22         9            100      12           3.48       6   \n",
       "7    2009-03-26         6             40       0           1.80       0   \n",
       "8    2010-10-14       161            560     194           3.58      25   \n",
       "9    2011-08-13       184            332      91           3.51     100   \n",
       "\n",
       "    name_y                                               time  \n",
       "0    Danny  ['Fri-0:1', 'Sat-1:1', 'Thu-3:2', 'Fri-5:1', '...  \n",
       "1  Patrick  ['Fri-0:1', 'Sat-1:1', 'Thu-3:2', 'Fri-5:1', '...  \n",
       "2   Daniel  ['Fri-0:1', 'Sat-1:1', 'Thu-3:2', 'Fri-5:1', '...  \n",
       "3   Evelyn  ['Fri-0:1', 'Sat-1:1', 'Thu-3:2', 'Fri-5:1', '...  \n",
       "4     Mrs.  ['Fri-0:1', 'Sat-1:1', 'Thu-3:2', 'Fri-5:1', '...  \n",
       "5    Keith  ['Fri-0:1', 'Sat-1:1', 'Thu-3:2', 'Fri-5:1', '...  \n",
       "6     Dana  ['Fri-0:1', 'Sat-1:1', 'Thu-3:2', 'Fri-5:1', '...  \n",
       "7    Danny  ['Fri-0:1', 'Sat-0:1', 'Sun-0:1', 'Thu-1:1', '...  \n",
       "8      Jay  ['Fri-0:1', 'Sat-0:1', 'Sun-0:1', 'Thu-1:1', '...  \n",
       "9   Itanni  ['Fri-0:1', 'Sat-0:1', 'Sun-0:1', 'Thu-1:1', '...  \n",
       "\n",
       "[10 rows x 23 columns]"
      ]
     },
     "execution_count": 43,
     "metadata": {},
     "output_type": "execute_result"
    }
   ],
   "source": [
    "train.head(10)"
   ]
  },
  {
   "cell_type": "code",
   "execution_count": 45,
   "metadata": {
    "collapsed": true
   },
   "outputs": [],
   "source": [
    "new_columns = train.columns.values\n",
    "new_columns[2] = 'biz_hours'\n",
    "new_columns[6] = 'business_review_count'\n",
    "new_columns[7] = 'biz_name'\n",
    "new_columns[9] = 'business_average'\n",
    "new_columns[12] = 'review_text'\n",
    "new_columns[13] = 'stars'\n",
    "new_columns[15] = 'user_yelping_since'\n",
    "new_columns[16] = 'user_usefultag'\n",
    "new_columns[17] = 'user_review_count'\n",
    "new_columns[18] = 'user_funnytag'\n",
    "new_columns[19] = 'user_avg'\n",
    "new_columns[20] = 'user_cooltag'\n",
    "new_columns[21] = 'user_name'\n",
    "new_columns[22] ='checkin_time'\n",
    "train.columns = new_columns\n"
   ]
  },
  {
   "cell_type": "code",
   "execution_count": 44,
   "metadata": {
    "collapsed": false
   },
   "outputs": [
    {
     "data": {
      "text/plain": [
       "Index([u'neighborhood', u'business_id', u'hours', u'attributes', u'categories',\n",
       "       u'city', u'review_count_x', u'name_x', u'state', u'stars_x', u'user_id',\n",
       "       u'review_id', u'text', u'stars_y', u'date', u'yelping_since',\n",
       "       u'useful_y', u'review_count_y', u'funny_y', u'average_stars', u'cool_y',\n",
       "       u'name_y', u'time'],\n",
       "      dtype='object')"
      ]
     },
     "execution_count": 44,
     "metadata": {},
     "output_type": "execute_result"
    }
   ],
   "source": [
    "train.columns"
   ]
  },
  {
   "cell_type": "code",
   "execution_count": 47,
   "metadata": {
    "collapsed": false
   },
   "outputs": [
    {
     "data": {
      "text/plain": [
       "2528505"
      ]
     },
     "execution_count": 47,
     "metadata": {},
     "output_type": "execute_result"
    }
   ],
   "source": [
    "len(train)"
   ]
  },
  {
   "cell_type": "code",
   "execution_count": 48,
   "metadata": {
    "collapsed": false
   },
   "outputs": [
    {
     "name": "stdout",
     "output_type": "stream",
     "text": [
      "Number of Reviews 2528505\n",
      "Number of Users 714360 Number of Businesses 45796\n"
     ]
    }
   ],
   "source": [
    "print \"Number of Reviews\",train.shape[0]\n",
    "print \"Number of Users\", train.user_id.unique().shape[0], \"Number of Businesses\", train.business_id.unique().shape[0]"
   ]
  },
  {
   "cell_type": "code",
   "execution_count": 51,
   "metadata": {
    "collapsed": false,
    "scrolled": true
   },
   "outputs": [
    {
     "data": {
      "text/html": [
       "<div>\n",
       "<table border=\"1\" class=\"dataframe\">\n",
       "  <thead>\n",
       "    <tr style=\"text-align: right;\">\n",
       "      <th></th>\n",
       "      <th>neighborhood</th>\n",
       "      <th>business_id</th>\n",
       "      <th>biz_hours</th>\n",
       "      <th>attributes</th>\n",
       "      <th>categories</th>\n",
       "      <th>city</th>\n",
       "      <th>business_review_count</th>\n",
       "      <th>biz_name</th>\n",
       "      <th>state</th>\n",
       "      <th>business_average</th>\n",
       "      <th>...</th>\n",
       "      <th>stars</th>\n",
       "      <th>date</th>\n",
       "      <th>user_yelping_since</th>\n",
       "      <th>user_usefultag</th>\n",
       "      <th>user_review_count</th>\n",
       "      <th>user_funnytag</th>\n",
       "      <th>user_avg</th>\n",
       "      <th>user_cooltag</th>\n",
       "      <th>user_name</th>\n",
       "      <th>checkin_time</th>\n",
       "    </tr>\n",
       "  </thead>\n",
       "  <tbody>\n",
       "    <tr>\n",
       "      <th>0</th>\n",
       "      <td>Dufferin Grove</td>\n",
       "      <td>EDqCEAGXVGCH4FJXgqtjqg</td>\n",
       "      <td>['Monday 11:0-2:0', 'Tuesday 11:0-2:0', 'Wedne...</td>\n",
       "      <td>['Alcohol: none', \"Ambience: {'romantic': Fals...</td>\n",
       "      <td>['Restaurants', 'Pizza', 'Chicken Wings', 'Ita...</td>\n",
       "      <td>Toronto</td>\n",
       "      <td>7</td>\n",
       "      <td>Pizza Pizza</td>\n",
       "      <td>ON</td>\n",
       "      <td>2.5</td>\n",
       "      <td>...</td>\n",
       "      <td>1</td>\n",
       "      <td>2013-05-23</td>\n",
       "      <td>2009-03-26</td>\n",
       "      <td>6</td>\n",
       "      <td>40</td>\n",
       "      <td>0</td>\n",
       "      <td>1.80</td>\n",
       "      <td>0</td>\n",
       "      <td>Danny</td>\n",
       "      <td>['Fri-0:1', 'Sat-1:1', 'Thu-3:2', 'Fri-5:1', '...</td>\n",
       "    </tr>\n",
       "    <tr>\n",
       "      <th>1</th>\n",
       "      <td>Dufferin Grove</td>\n",
       "      <td>EDqCEAGXVGCH4FJXgqtjqg</td>\n",
       "      <td>['Monday 11:0-2:0', 'Tuesday 11:0-2:0', 'Wedne...</td>\n",
       "      <td>['Alcohol: none', \"Ambience: {'romantic': Fals...</td>\n",
       "      <td>['Restaurants', 'Pizza', 'Chicken Wings', 'Ita...</td>\n",
       "      <td>Toronto</td>\n",
       "      <td>7</td>\n",
       "      <td>Pizza Pizza</td>\n",
       "      <td>ON</td>\n",
       "      <td>2.5</td>\n",
       "      <td>...</td>\n",
       "      <td>3</td>\n",
       "      <td>2011-05-18</td>\n",
       "      <td>2010-10-07</td>\n",
       "      <td>128</td>\n",
       "      <td>125</td>\n",
       "      <td>54</td>\n",
       "      <td>3.49</td>\n",
       "      <td>95</td>\n",
       "      <td>Patrick</td>\n",
       "      <td>['Fri-0:1', 'Sat-1:1', 'Thu-3:2', 'Fri-5:1', '...</td>\n",
       "    </tr>\n",
       "    <tr>\n",
       "      <th>2</th>\n",
       "      <td>Dufferin Grove</td>\n",
       "      <td>EDqCEAGXVGCH4FJXgqtjqg</td>\n",
       "      <td>['Monday 11:0-2:0', 'Tuesday 11:0-2:0', 'Wedne...</td>\n",
       "      <td>['Alcohol: none', \"Ambience: {'romantic': Fals...</td>\n",
       "      <td>['Restaurants', 'Pizza', 'Chicken Wings', 'Ita...</td>\n",
       "      <td>Toronto</td>\n",
       "      <td>7</td>\n",
       "      <td>Pizza Pizza</td>\n",
       "      <td>ON</td>\n",
       "      <td>2.5</td>\n",
       "      <td>...</td>\n",
       "      <td>3</td>\n",
       "      <td>2014-08-24</td>\n",
       "      <td>2014-07-08</td>\n",
       "      <td>7</td>\n",
       "      <td>21</td>\n",
       "      <td>9</td>\n",
       "      <td>3.68</td>\n",
       "      <td>6</td>\n",
       "      <td>Daniel</td>\n",
       "      <td>['Fri-0:1', 'Sat-1:1', 'Thu-3:2', 'Fri-5:1', '...</td>\n",
       "    </tr>\n",
       "    <tr>\n",
       "      <th>3</th>\n",
       "      <td>Dufferin Grove</td>\n",
       "      <td>EDqCEAGXVGCH4FJXgqtjqg</td>\n",
       "      <td>['Monday 11:0-2:0', 'Tuesday 11:0-2:0', 'Wedne...</td>\n",
       "      <td>['Alcohol: none', \"Ambience: {'romantic': Fals...</td>\n",
       "      <td>['Restaurants', 'Pizza', 'Chicken Wings', 'Ita...</td>\n",
       "      <td>Toronto</td>\n",
       "      <td>7</td>\n",
       "      <td>Pizza Pizza</td>\n",
       "      <td>ON</td>\n",
       "      <td>2.5</td>\n",
       "      <td>...</td>\n",
       "      <td>3</td>\n",
       "      <td>2014-05-30</td>\n",
       "      <td>2010-08-29</td>\n",
       "      <td>3029</td>\n",
       "      <td>993</td>\n",
       "      <td>842</td>\n",
       "      <td>4.02</td>\n",
       "      <td>1864</td>\n",
       "      <td>Evelyn</td>\n",
       "      <td>['Fri-0:1', 'Sat-1:1', 'Thu-3:2', 'Fri-5:1', '...</td>\n",
       "    </tr>\n",
       "    <tr>\n",
       "      <th>4</th>\n",
       "      <td>Dufferin Grove</td>\n",
       "      <td>EDqCEAGXVGCH4FJXgqtjqg</td>\n",
       "      <td>['Monday 11:0-2:0', 'Tuesday 11:0-2:0', 'Wedne...</td>\n",
       "      <td>['Alcohol: none', \"Ambience: {'romantic': Fals...</td>\n",
       "      <td>['Restaurants', 'Pizza', 'Chicken Wings', 'Ita...</td>\n",
       "      <td>Toronto</td>\n",
       "      <td>7</td>\n",
       "      <td>Pizza Pizza</td>\n",
       "      <td>ON</td>\n",
       "      <td>2.5</td>\n",
       "      <td>...</td>\n",
       "      <td>2</td>\n",
       "      <td>2011-11-20</td>\n",
       "      <td>2011-11-20</td>\n",
       "      <td>0</td>\n",
       "      <td>7</td>\n",
       "      <td>2</td>\n",
       "      <td>3.43</td>\n",
       "      <td>1</td>\n",
       "      <td>Mrs.</td>\n",
       "      <td>['Fri-0:1', 'Sat-1:1', 'Thu-3:2', 'Fri-5:1', '...</td>\n",
       "    </tr>\n",
       "    <tr>\n",
       "      <th>5</th>\n",
       "      <td>Dufferin Grove</td>\n",
       "      <td>EDqCEAGXVGCH4FJXgqtjqg</td>\n",
       "      <td>['Monday 11:0-2:0', 'Tuesday 11:0-2:0', 'Wedne...</td>\n",
       "      <td>['Alcohol: none', \"Ambience: {'romantic': Fals...</td>\n",
       "      <td>['Restaurants', 'Pizza', 'Chicken Wings', 'Ita...</td>\n",
       "      <td>Toronto</td>\n",
       "      <td>7</td>\n",
       "      <td>Pizza Pizza</td>\n",
       "      <td>ON</td>\n",
       "      <td>2.5</td>\n",
       "      <td>...</td>\n",
       "      <td>3</td>\n",
       "      <td>2011-07-21</td>\n",
       "      <td>2009-12-15</td>\n",
       "      <td>41</td>\n",
       "      <td>551</td>\n",
       "      <td>9</td>\n",
       "      <td>3.36</td>\n",
       "      <td>25</td>\n",
       "      <td>Keith</td>\n",
       "      <td>['Fri-0:1', 'Sat-1:1', 'Thu-3:2', 'Fri-5:1', '...</td>\n",
       "    </tr>\n",
       "    <tr>\n",
       "      <th>6</th>\n",
       "      <td>Dufferin Grove</td>\n",
       "      <td>EDqCEAGXVGCH4FJXgqtjqg</td>\n",
       "      <td>['Monday 11:0-2:0', 'Tuesday 11:0-2:0', 'Wedne...</td>\n",
       "      <td>['Alcohol: none', \"Ambience: {'romantic': Fals...</td>\n",
       "      <td>['Restaurants', 'Pizza', 'Chicken Wings', 'Ita...</td>\n",
       "      <td>Toronto</td>\n",
       "      <td>7</td>\n",
       "      <td>Pizza Pizza</td>\n",
       "      <td>ON</td>\n",
       "      <td>2.5</td>\n",
       "      <td>...</td>\n",
       "      <td>4</td>\n",
       "      <td>2012-08-28</td>\n",
       "      <td>2012-02-22</td>\n",
       "      <td>9</td>\n",
       "      <td>100</td>\n",
       "      <td>12</td>\n",
       "      <td>3.48</td>\n",
       "      <td>6</td>\n",
       "      <td>Dana</td>\n",
       "      <td>['Fri-0:1', 'Sat-1:1', 'Thu-3:2', 'Fri-5:1', '...</td>\n",
       "    </tr>\n",
       "    <tr>\n",
       "      <th>7</th>\n",
       "      <td>Cabbagetown</td>\n",
       "      <td>Bz6UcQZgRkrGtDwcagvt9w</td>\n",
       "      <td>['Monday 12:0-0:0', 'Tuesday 11:30-1:0', 'Wedn...</td>\n",
       "      <td>['Alcohol: full_bar', \"Ambience: {'romantic': ...</td>\n",
       "      <td>['Restaurants', 'Soul Food', 'American (Tradit...</td>\n",
       "      <td>Toronto</td>\n",
       "      <td>8</td>\n",
       "      <td>Ronnie B's Southern Kitchen &amp; Taps</td>\n",
       "      <td>ON</td>\n",
       "      <td>3.5</td>\n",
       "      <td>...</td>\n",
       "      <td>3</td>\n",
       "      <td>2014-09-23</td>\n",
       "      <td>2009-03-26</td>\n",
       "      <td>6</td>\n",
       "      <td>40</td>\n",
       "      <td>0</td>\n",
       "      <td>1.80</td>\n",
       "      <td>0</td>\n",
       "      <td>Danny</td>\n",
       "      <td>['Fri-0:1', 'Sat-0:1', 'Sun-0:1', 'Thu-1:1', '...</td>\n",
       "    </tr>\n",
       "    <tr>\n",
       "      <th>8</th>\n",
       "      <td>Cabbagetown</td>\n",
       "      <td>Bz6UcQZgRkrGtDwcagvt9w</td>\n",
       "      <td>['Monday 12:0-0:0', 'Tuesday 11:30-1:0', 'Wedn...</td>\n",
       "      <td>['Alcohol: full_bar', \"Ambience: {'romantic': ...</td>\n",
       "      <td>['Restaurants', 'Soul Food', 'American (Tradit...</td>\n",
       "      <td>Toronto</td>\n",
       "      <td>8</td>\n",
       "      <td>Ronnie B's Southern Kitchen &amp; Taps</td>\n",
       "      <td>ON</td>\n",
       "      <td>3.5</td>\n",
       "      <td>...</td>\n",
       "      <td>4</td>\n",
       "      <td>2014-09-11</td>\n",
       "      <td>2010-10-14</td>\n",
       "      <td>161</td>\n",
       "      <td>560</td>\n",
       "      <td>194</td>\n",
       "      <td>3.58</td>\n",
       "      <td>25</td>\n",
       "      <td>Jay</td>\n",
       "      <td>['Fri-0:1', 'Sat-0:1', 'Sun-0:1', 'Thu-1:1', '...</td>\n",
       "    </tr>\n",
       "    <tr>\n",
       "      <th>9</th>\n",
       "      <td>Cabbagetown</td>\n",
       "      <td>Bz6UcQZgRkrGtDwcagvt9w</td>\n",
       "      <td>['Monday 12:0-0:0', 'Tuesday 11:30-1:0', 'Wedn...</td>\n",
       "      <td>['Alcohol: full_bar', \"Ambience: {'romantic': ...</td>\n",
       "      <td>['Restaurants', 'Soul Food', 'American (Tradit...</td>\n",
       "      <td>Toronto</td>\n",
       "      <td>8</td>\n",
       "      <td>Ronnie B's Southern Kitchen &amp; Taps</td>\n",
       "      <td>ON</td>\n",
       "      <td>3.5</td>\n",
       "      <td>...</td>\n",
       "      <td>4</td>\n",
       "      <td>2014-10-31</td>\n",
       "      <td>2011-08-13</td>\n",
       "      <td>184</td>\n",
       "      <td>332</td>\n",
       "      <td>91</td>\n",
       "      <td>3.51</td>\n",
       "      <td>100</td>\n",
       "      <td>Itanni</td>\n",
       "      <td>['Fri-0:1', 'Sat-0:1', 'Sun-0:1', 'Thu-1:1', '...</td>\n",
       "    </tr>\n",
       "  </tbody>\n",
       "</table>\n",
       "<p>10 rows × 23 columns</p>\n",
       "</div>"
      ],
      "text/plain": [
       "     neighborhood             business_id  \\\n",
       "0  Dufferin Grove  EDqCEAGXVGCH4FJXgqtjqg   \n",
       "1  Dufferin Grove  EDqCEAGXVGCH4FJXgqtjqg   \n",
       "2  Dufferin Grove  EDqCEAGXVGCH4FJXgqtjqg   \n",
       "3  Dufferin Grove  EDqCEAGXVGCH4FJXgqtjqg   \n",
       "4  Dufferin Grove  EDqCEAGXVGCH4FJXgqtjqg   \n",
       "5  Dufferin Grove  EDqCEAGXVGCH4FJXgqtjqg   \n",
       "6  Dufferin Grove  EDqCEAGXVGCH4FJXgqtjqg   \n",
       "7     Cabbagetown  Bz6UcQZgRkrGtDwcagvt9w   \n",
       "8     Cabbagetown  Bz6UcQZgRkrGtDwcagvt9w   \n",
       "9     Cabbagetown  Bz6UcQZgRkrGtDwcagvt9w   \n",
       "\n",
       "                                           biz_hours  \\\n",
       "0  ['Monday 11:0-2:0', 'Tuesday 11:0-2:0', 'Wedne...   \n",
       "1  ['Monday 11:0-2:0', 'Tuesday 11:0-2:0', 'Wedne...   \n",
       "2  ['Monday 11:0-2:0', 'Tuesday 11:0-2:0', 'Wedne...   \n",
       "3  ['Monday 11:0-2:0', 'Tuesday 11:0-2:0', 'Wedne...   \n",
       "4  ['Monday 11:0-2:0', 'Tuesday 11:0-2:0', 'Wedne...   \n",
       "5  ['Monday 11:0-2:0', 'Tuesday 11:0-2:0', 'Wedne...   \n",
       "6  ['Monday 11:0-2:0', 'Tuesday 11:0-2:0', 'Wedne...   \n",
       "7  ['Monday 12:0-0:0', 'Tuesday 11:30-1:0', 'Wedn...   \n",
       "8  ['Monday 12:0-0:0', 'Tuesday 11:30-1:0', 'Wedn...   \n",
       "9  ['Monday 12:0-0:0', 'Tuesday 11:30-1:0', 'Wedn...   \n",
       "\n",
       "                                          attributes  \\\n",
       "0  ['Alcohol: none', \"Ambience: {'romantic': Fals...   \n",
       "1  ['Alcohol: none', \"Ambience: {'romantic': Fals...   \n",
       "2  ['Alcohol: none', \"Ambience: {'romantic': Fals...   \n",
       "3  ['Alcohol: none', \"Ambience: {'romantic': Fals...   \n",
       "4  ['Alcohol: none', \"Ambience: {'romantic': Fals...   \n",
       "5  ['Alcohol: none', \"Ambience: {'romantic': Fals...   \n",
       "6  ['Alcohol: none', \"Ambience: {'romantic': Fals...   \n",
       "7  ['Alcohol: full_bar', \"Ambience: {'romantic': ...   \n",
       "8  ['Alcohol: full_bar', \"Ambience: {'romantic': ...   \n",
       "9  ['Alcohol: full_bar', \"Ambience: {'romantic': ...   \n",
       "\n",
       "                                          categories     city  \\\n",
       "0  ['Restaurants', 'Pizza', 'Chicken Wings', 'Ita...  Toronto   \n",
       "1  ['Restaurants', 'Pizza', 'Chicken Wings', 'Ita...  Toronto   \n",
       "2  ['Restaurants', 'Pizza', 'Chicken Wings', 'Ita...  Toronto   \n",
       "3  ['Restaurants', 'Pizza', 'Chicken Wings', 'Ita...  Toronto   \n",
       "4  ['Restaurants', 'Pizza', 'Chicken Wings', 'Ita...  Toronto   \n",
       "5  ['Restaurants', 'Pizza', 'Chicken Wings', 'Ita...  Toronto   \n",
       "6  ['Restaurants', 'Pizza', 'Chicken Wings', 'Ita...  Toronto   \n",
       "7  ['Restaurants', 'Soul Food', 'American (Tradit...  Toronto   \n",
       "8  ['Restaurants', 'Soul Food', 'American (Tradit...  Toronto   \n",
       "9  ['Restaurants', 'Soul Food', 'American (Tradit...  Toronto   \n",
       "\n",
       "   business_review_count                            biz_name state  \\\n",
       "0                      7                         Pizza Pizza    ON   \n",
       "1                      7                         Pizza Pizza    ON   \n",
       "2                      7                         Pizza Pizza    ON   \n",
       "3                      7                         Pizza Pizza    ON   \n",
       "4                      7                         Pizza Pizza    ON   \n",
       "5                      7                         Pizza Pizza    ON   \n",
       "6                      7                         Pizza Pizza    ON   \n",
       "7                      8  Ronnie B's Southern Kitchen & Taps    ON   \n",
       "8                      8  Ronnie B's Southern Kitchen & Taps    ON   \n",
       "9                      8  Ronnie B's Southern Kitchen & Taps    ON   \n",
       "\n",
       "   business_average                        ...                         stars  \\\n",
       "0               2.5                        ...                             1   \n",
       "1               2.5                        ...                             3   \n",
       "2               2.5                        ...                             3   \n",
       "3               2.5                        ...                             3   \n",
       "4               2.5                        ...                             2   \n",
       "5               2.5                        ...                             3   \n",
       "6               2.5                        ...                             4   \n",
       "7               3.5                        ...                             3   \n",
       "8               3.5                        ...                             4   \n",
       "9               3.5                        ...                             4   \n",
       "\n",
       "         date user_yelping_since  user_usefultag user_review_count  \\\n",
       "0  2013-05-23         2009-03-26               6                40   \n",
       "1  2011-05-18         2010-10-07             128               125   \n",
       "2  2014-08-24         2014-07-08               7                21   \n",
       "3  2014-05-30         2010-08-29            3029               993   \n",
       "4  2011-11-20         2011-11-20               0                 7   \n",
       "5  2011-07-21         2009-12-15              41               551   \n",
       "6  2012-08-28         2012-02-22               9               100   \n",
       "7  2014-09-23         2009-03-26               6                40   \n",
       "8  2014-09-11         2010-10-14             161               560   \n",
       "9  2014-10-31         2011-08-13             184               332   \n",
       "\n",
       "  user_funnytag  user_avg  user_cooltag  user_name  \\\n",
       "0             0      1.80             0      Danny   \n",
       "1            54      3.49            95    Patrick   \n",
       "2             9      3.68             6     Daniel   \n",
       "3           842      4.02          1864     Evelyn   \n",
       "4             2      3.43             1       Mrs.   \n",
       "5             9      3.36            25      Keith   \n",
       "6            12      3.48             6       Dana   \n",
       "7             0      1.80             0      Danny   \n",
       "8           194      3.58            25        Jay   \n",
       "9            91      3.51           100     Itanni   \n",
       "\n",
       "                                        checkin_time  \n",
       "0  ['Fri-0:1', 'Sat-1:1', 'Thu-3:2', 'Fri-5:1', '...  \n",
       "1  ['Fri-0:1', 'Sat-1:1', 'Thu-3:2', 'Fri-5:1', '...  \n",
       "2  ['Fri-0:1', 'Sat-1:1', 'Thu-3:2', 'Fri-5:1', '...  \n",
       "3  ['Fri-0:1', 'Sat-1:1', 'Thu-3:2', 'Fri-5:1', '...  \n",
       "4  ['Fri-0:1', 'Sat-1:1', 'Thu-3:2', 'Fri-5:1', '...  \n",
       "5  ['Fri-0:1', 'Sat-1:1', 'Thu-3:2', 'Fri-5:1', '...  \n",
       "6  ['Fri-0:1', 'Sat-1:1', 'Thu-3:2', 'Fri-5:1', '...  \n",
       "7  ['Fri-0:1', 'Sat-0:1', 'Sun-0:1', 'Thu-1:1', '...  \n",
       "8  ['Fri-0:1', 'Sat-0:1', 'Sun-0:1', 'Thu-1:1', '...  \n",
       "9  ['Fri-0:1', 'Sat-0:1', 'Sun-0:1', 'Thu-1:1', '...  \n",
       "\n",
       "[10 rows x 23 columns]"
      ]
     },
     "execution_count": 51,
     "metadata": {},
     "output_type": "execute_result"
    }
   ],
   "source": [
    "train.head(10)"
   ]
  },
  {
   "cell_type": "code",
   "execution_count": 57,
   "metadata": {
    "collapsed": false,
    "scrolled": true
   },
   "outputs": [],
   "source": [
    "traincopy = train.copy()"
   ]
  },
  {
   "cell_type": "code",
   "execution_count": 58,
   "metadata": {
    "collapsed": false
   },
   "outputs": [
    {
     "data": {
      "text/plain": [
       "2528505"
      ]
     },
     "execution_count": 58,
     "metadata": {},
     "output_type": "execute_result"
    }
   ],
   "source": [
    "len(traincopy)"
   ]
  },
  {
   "cell_type": "code",
   "execution_count": 59,
   "metadata": {
    "collapsed": true
   },
   "outputs": [],
   "source": [
    "def recompute_frame(ldf):\n",
    "    \"\"\"\n",
    "    takes a dataframe ldf, makes a copy of it, and returns the copy\n",
    "    with all averages and review counts recomputed\n",
    "    this is used when a frame is subsetted.\n",
    "    \"\"\"\n",
    "    ldfu=ldf.groupby('user_id')\n",
    "    ldfb=ldf.groupby('business_id')\n",
    "    user_avg=ldfu.stars.mean()\n",
    "    user_review_count=ldfu.review_id.count()\n",
    "    business_avg=ldfb.stars.mean()\n",
    "    business_review_count=ldfb.review_id.count()\n",
    "    nldf=ldf.copy()\n",
    "    nldf.set_index(['business_id'], inplace=True)\n",
    "    nldf['business_avg']=business_avg\n",
    "    nldf['business_review_count']=business_review_count\n",
    "    nldf.reset_index(inplace=True)\n",
    "    nldf.set_index(['user_id'], inplace=True)\n",
    "    nldf['user_avg']=user_avg\n",
    "    nldf['user_review_count']=user_review_count\n",
    "    nldf.reset_index(inplace=True)\n",
    "    return nldf"
   ]
  },
  {
   "cell_type": "code",
   "execution_count": 60,
   "metadata": {
    "collapsed": true
   },
   "outputs": [],
   "source": [
    "smallidf = traincopy[(traincopy.user_review_count > 60) & (traincopy.business_review_count > 150)]\n",
    "tc=recompute_frame(smallidf)"
   ]
  },
  {
   "cell_type": "code",
   "execution_count": 61,
   "metadata": {
    "collapsed": false
   },
   "outputs": [
    {
     "data": {
      "text/plain": [
       "478517"
      ]
     },
     "execution_count": 61,
     "metadata": {},
     "output_type": "execute_result"
    }
   ],
   "source": [
    "len(tc)"
   ]
  },
  {
   "cell_type": "code",
   "execution_count": 62,
   "metadata": {
    "collapsed": false
   },
   "outputs": [
    {
     "name": "stdout",
     "output_type": "stream",
     "text": [
      "Number of Reviews 478517\n",
      "Number of Users 66141 Number of Businesses 3755\n"
     ]
    }
   ],
   "source": [
    "print \"Number of Reviews\",tc.shape[0]\n",
    "print \"Number of Users\", tc.user_id.unique().shape[0], \"Number of Businesses\", tc.business_id.unique().shape[0]"
   ]
  },
  {
   "cell_type": "code",
   "execution_count": 65,
   "metadata": {
    "collapsed": false,
    "scrolled": true
   },
   "outputs": [
    {
     "data": {
      "text/plain": [
       "array([  62,  103,  100,   74,  129,   65,  131,  107,   72,  146,  133,\n",
       "        249,  220,  219,   96,  144,   67,  137,  142,  141,  105,   76,\n",
       "         78,   75,  106,  188,  175,  113,   94,  109,   66,   98,  152,\n",
       "         57,   79,   61,  101,   95,  116,   69,   60,  195,   82,  151,\n",
       "        161,   89,  196,  218,   92,   70,  189,  138,  168,   53,   50,\n",
       "         86,  180,   64,   99,  241,  128,  156,  356,  108,  112,  160,\n",
       "         73,   80,   81,  121,  102,  474,   71,   84,  117,  140,  250,\n",
       "        190,   63,   91,  135,  119,   88,   68,  354,   34,   38,  164,\n",
       "        422,  359,  300,  515,  183,  310,   42,   90,   59,  237,  257,\n",
       "        623,   46,  381,  173,   56,  185,   32,  199,  326,  632,   93,\n",
       "        148,  110,   41,  104,  139,  214,   44,  551,   87,  130,  123,\n",
       "        157,  208,  400, 1324,   49,  270,  210,  325,  134,  203,  309,\n",
       "         52,  120,  419,   43,  657,   45,  124,  230,   29,  215,  228,\n",
       "        282,  367,  234,  136,  209,  132, 1199,   58,   83,   31,   54,\n",
       "        191,   40,  167,  948,  114, 2979,  323,  427,  286,  317,  473,\n",
       "        379,  223,  269,   77,  172,  284,   47,  171,  835,  166,  391,\n",
       "         39,  280,  118,  187,  243,  265,  746,  147,  465,   55,  721,\n",
       "       1385,  115,  287,  122,  177,  260,  254,   97,  236,  885,  423,\n",
       "        126,  127,  206,  155,   48,  159,  330,  149,   85,  390,  192,\n",
       "        896,  255,  212,  204,  256,  605, 1065,  226,  298,  221,  281,\n",
       "       1572,  225,  261,  145,  331,  468,  111,  143,  193,  485, 1008,\n",
       "        845,  181,  154,  466,  371, 3002,  277, 1084, 1935,  125,  202,\n",
       "        162,  370,  274,  590,  717,  374,  373,   51,  251,  279, 1893,\n",
       "        207,  179,   27,  292,  266,  678,  871,  384, 1349, 1475,  233,\n",
       "       1702,  294,  389,  610,  592,  205,  355,  213,  338,  777,  467,\n",
       "        639,  165,  258,  866,  376,  418,  170,  342,  264,  334,  293,\n",
       "        528,  512,  200,  437,  229,  420,  273, 1486,  339,  311,  353,\n",
       "        201,  278,  368,  184,  276,  239,  186,  288,  329, 1102,  340,\n",
       "       1050,  530,  158,  366,  263,  318,  321, 2739,  291,  620,  182,\n",
       "        604,  153,   35,  490,  242,  404,  253, 2931,  521,   33,  449,\n",
       "        428,  693,  385,  275,  240,  618,  314,  815,  231,  235,  424,\n",
       "       1983,  178,   28,   19,  581,  245,  375,   36,   21,  393,   25,\n",
       "        169,  626,  476,  874,  174,  716,  272,  296,  510,   37,  516,\n",
       "        621,  469,  176, 2244,  726,  382,  378,  442,  313,  399,  798,\n",
       "        303,  216,  150,  426, 2052,  413,  445, 2007,  478,  268,  344,\n",
       "        252,  348,   23,  518,  244,  343,  501,   14,   26,   16,  198,\n",
       "         17,   30,  704,   22,  574,  327,  358,   20,  352,  760,  499,\n",
       "        302,  494,  564,  163,  307,  360,  222,   24,  637, 1373,  471,\n",
       "        332,  295,  513,  496,  306,  664,  421,  336,  582,  588,  285,\n",
       "        335,  305,  369,  520,  728,  395,  364,  271,  333,  500, 1097,\n",
       "        524,  380,  232,  297,  267,  350,   10,   15,  316,  464,  194,\n",
       "        259,  361,  246,  197,   18], dtype=int64)"
      ]
     },
     "execution_count": 65,
     "metadata": {},
     "output_type": "execute_result"
    }
   ],
   "source": [
    "tc['business_review_count'].unique()"
   ]
  },
  {
   "cell_type": "code",
   "execution_count": 66,
   "metadata": {
    "collapsed": false
   },
   "outputs": [
    {
     "name": "stderr",
     "output_type": "stream",
     "text": [
      "C:\\Users\\Harika Konagala\\Anaconda2\\lib\\site-packages\\matplotlib\\__init__.py:872: UserWarning: axes.color_cycle is deprecated and replaced with axes.prop_cycle; please use the latter.\n",
      "  warnings.warn(self.msg_depr % (key, alt_key))\n"
     ]
    }
   ],
   "source": [
    "%matplotlib inline\n",
    "from collections import defaultdict\n",
    "import json\n",
    "\n",
    "import numpy as np\n",
    "import scipy as sp\n",
    "import matplotlib.pyplot as plt\n",
    "\n",
    "\n",
    "from matplotlib import rcParams\n",
    "import matplotlib.cm as cm\n",
    "import matplotlib as mpl\n",
    "\n",
    "#colorbrewer2 Dark2 qualitative color table\n",
    "dark2_colors = [(0.10588235294117647, 0.6196078431372549, 0.4666666666666667),\n",
    "                (0.8509803921568627, 0.37254901960784315, 0.00784313725490196),\n",
    "                (0.4588235294117647, 0.4392156862745098, 0.7019607843137254),\n",
    "                (0.9058823529411765, 0.1607843137254902, 0.5411764705882353),\n",
    "                (0.4, 0.6509803921568628, 0.11764705882352941),\n",
    "                (0.9019607843137255, 0.6705882352941176, 0.00784313725490196),\n",
    "                (0.6509803921568628, 0.4627450980392157, 0.11372549019607843)]\n",
    "\n",
    "rcParams['figure.figsize'] = (10, 6)\n",
    "rcParams['figure.dpi'] = 150\n",
    "rcParams['axes.color_cycle'] = dark2_colors\n",
    "rcParams['lines.linewidth'] = 2\n",
    "rcParams['axes.facecolor'] = 'white'\n",
    "rcParams['font.size'] = 14\n",
    "rcParams['patch.edgecolor'] = 'white'\n",
    "rcParams['patch.facecolor'] = dark2_colors[0]\n",
    "rcParams['font.family'] = 'StixGeneral'\n",
    "\n",
    "\n",
    "def remove_border(axes=None, top=False, right=False, left=True, bottom=True):\n",
    "    \"\"\"\n",
    "    Minimize chartjunk by stripping out unnecesasry plot borders and axis ticks\n",
    "    \n",
    "    The top/right/left/bottom keywords toggle whether the corresponding plot border is drawn\n",
    "    \"\"\"\n",
    "    ax = axes or plt.gca()\n",
    "    ax.spines['top'].set_visible(top)\n",
    "    ax.spines['right'].set_visible(right)\n",
    "    ax.spines['left'].set_visible(left)\n",
    "    ax.spines['bottom'].set_visible(bottom)\n",
    "    \n",
    "    #turn off all ticks\n",
    "    ax.yaxis.set_ticks_position('none')\n",
    "    ax.xaxis.set_ticks_position('none')\n",
    "    \n",
    "    #now re-enable visibles\n",
    "    if top:\n",
    "        ax.xaxis.tick_top()\n",
    "    if bottom:\n",
    "        ax.xaxis.tick_bottom()\n",
    "    if left:\n",
    "        ax.yaxis.tick_left()\n",
    "    if right:\n",
    "        ax.yaxis.tick_right()\n",
    "        \n",
    "pd.set_option('display.width', 500)\n",
    "pd.set_option('display.max_columns', 100)"
   ]
  },
  {
   "cell_type": "code",
   "execution_count": 74,
   "metadata": {
    "collapsed": false
   },
   "outputs": [
    {
     "data": {
      "image/png": "[encoded data removed]",
      "text/plain": [
       "<matplotlib.figure.Figure at 0x494d94e0>"
      ]
     },
     "metadata": {},
     "output_type": "display_data"
    }
   ],
   "source": [
    "brc=tc.groupby('business_review_count').date.count()\n",
    "ax=brc.hist(bins=50, log=True)\n",
    "remove_border(ax)\n",
    "plt.xlabel(\"count of restaurant\")\n",
    "plt.grid(False)\n",
    "plt.grid(axis = 'y', color ='white', linestyle='-')\n",
    "plt.title(\"Categories and count of restaurant in each category\");"
   ]
  },
  {
   "cell_type": "code",
   "execution_count": 46,
   "metadata": {
    "collapsed": false
   },
   "outputs": [
    {
     "data": {
      "text/plain": [
       "Index([u'neighborhood', u'business_id', u'biz_hours', u'attributes',\n",
       "       u'categories', u'city', u'business_review_count', u'biz_name', u'state',\n",
       "       u'business_average', u'user_id', u'review_id', u'review_text', u'stars',\n",
       "       u'date', u'user_yelping_since', u'user_usefultag', u'user_review_count',\n",
       "       u'user_funnytag', u'user_avg', u'user_cooltag', u'user_name',\n",
       "       u'checkin_time'],\n",
       "      dtype='object')"
      ]
     },
     "execution_count": 46,
     "metadata": {},
     "output_type": "execute_result"
    }
   ],
   "source": [
    "train.columns"
   ]
  },
  {
   "cell_type": "code",
   "execution_count": 78,
   "metadata": {
    "collapsed": false,
    "scrolled": true
   },
   "outputs": [
    {
     "data": {
      "text/plain": [
       "array([ \"['Fri-0:1', 'Sat-1:1', 'Thu-3:2', 'Fri-5:1', 'Sat-5:1', 'Sun-5:2', 'Thu-5:1', 'Tue-5:1', 'Fri-6:1', 'Sat-6:1', 'Sun-6:2', 'Tue-6:1', 'Mon-8:1', 'Sat-10:1', 'Sun-11:1', 'Fri-17:1', 'Thu-17:1', 'Sat-18:2', 'Thu-18:1', 'Tue-18:1', 'Wed-18:1', 'Fri-19:2', 'Tue-19:1', 'Tue-22:1']\",\n",
       "       \"['Fri-0:1', 'Sat-0:1', 'Sun-0:1', 'Thu-1:1', 'Fri-3:1', 'Sun-4:1', 'Thu-4:1', 'Sat-15:1', 'Sat-16:1', 'Fri-18:1']\",\n",
       "       \"['Mon-0:1', 'Sat-0:2', 'Sun-0:3', 'Thu-0:3', 'Sun-1:1', 'Thu-1:1', 'Wed-1:2', 'Thu-2:1', 'Sat-3:1', 'Mon-13:1', 'Sat-14:1', 'Sun-14:1', 'Fri-15:1', 'Sat-15:1', 'Sun-15:2', 'Fri-16:2', 'Sat-16:3', 'Sun-16:10', 'Thu-16:1', 'Tue-16:1', 'Sat-17:5', 'Sun-17:8', 'Thu-17:2', 'Tue-17:1', 'Wed-17:1', 'Fri-18:1', 'Mon-18:2', 'Sat-18:2', 'Sun-18:1', 'Tue-18:1', 'Wed-18:1', 'Fri-19:1', 'Sat-19:5', 'Sun-19:1', 'Thu-19:1', 'Tue-19:1', 'Wed-19:1', 'Sat-20:1', 'Sun-20:1', 'Thu-21:2', 'Tue-21:1', 'Sat-22:1', 'Thu-22:1', 'Tue-22:3', 'Fri-23:2', 'Sat-23:2', 'Sun-23:1', 'Wed-23:1']\",\n",
       "       ..., \"['Thu-12:1', 'Sun-15:1', 'Sun-17:1', 'Sat-20:1']\",\n",
       "       \"['Sat-0:1', 'Mon-23:2']\",\n",
       "       \"['Sat-0:1', 'Thu-2:1', 'Fri-11:1', 'Wed-13:1', 'Fri-16:1', 'Thu-17:2', 'Mon-18:2', 'Sat-18:1', 'Mon-19:1', 'Wed-19:1', 'Thu-22:1', 'Fri-23:1', 'Mon-23:5']\"], dtype=object)"
      ]
     },
     "execution_count": 78,
     "metadata": {},
     "output_type": "execute_result"
    }
   ],
   "source": [
    "train['checkin_time'].unique()"
   ]
  },
  {
   "cell_type": "code",
   "execution_count": 77,
   "metadata": {
    "collapsed": false,
    "scrolled": true
   },
   "outputs": [
    {
     "data": {
      "text/plain": [
       "0          False\n",
       "1          False\n",
       "2          False\n",
       "3          False\n",
       "4          False\n",
       "5          False\n",
       "6          False\n",
       "7          False\n",
       "8          False\n",
       "9          False\n",
       "10         False\n",
       "11         False\n",
       "12         False\n",
       "13         False\n",
       "14         False\n",
       "15         False\n",
       "16         False\n",
       "17         False\n",
       "18         False\n",
       "19         False\n",
       "20         False\n",
       "21         False\n",
       "22         False\n",
       "23         False\n",
       "24         False\n",
       "25         False\n",
       "26         False\n",
       "27         False\n",
       "28         False\n",
       "29         False\n",
       "           ...  \n",
       "2528475    False\n",
       "2528476    False\n",
       "2528477    False\n",
       "2528478    False\n",
       "2528479    False\n",
       "2528480    False\n",
       "2528481    False\n",
       "2528482    False\n",
       "2528483    False\n",
       "2528484    False\n",
       "2528485    False\n",
       "2528486    False\n",
       "2528487    False\n",
       "2528488    False\n",
       "2528489    False\n",
       "2528490    False\n",
       "2528491    False\n",
       "2528492    False\n",
       "2528493    False\n",
       "2528494    False\n",
       "2528495    False\n",
       "2528496    False\n",
       "2528497    False\n",
       "2528498    False\n",
       "2528499    False\n",
       "2528500    False\n",
       "2528501    False\n",
       "2528502    False\n",
       "2528503    False\n",
       "2528504    False\n",
       "Name: checkin_time, dtype: bool"
      ]
     },
     "execution_count": 77,
     "metadata": {},
     "output_type": "execute_result"
    }
   ],
   "source": [
    "train['checkin_time'].isnull()"
   ]
  },
  {
   "cell_type": "code",
   "execution_count": 79,
   "metadata": {
    "collapsed": false,
    "scrolled": true
   },
   "outputs": [
    {
     "data": {
      "text/html": [
       "<div>\n",
       "<table border=\"1\" class=\"dataframe\">\n",
       "  <thead>\n",
       "    <tr style=\"text-align: right;\">\n",
       "      <th></th>\n",
       "      <th>user_id</th>\n",
       "      <th>business_id</th>\n",
       "      <th>neighborhood</th>\n",
       "      <th>biz_hours</th>\n",
       "      <th>attributes</th>\n",
       "      <th>categories</th>\n",
       "      <th>city</th>\n",
       "      <th>business_review_count</th>\n",
       "      <th>biz_name</th>\n",
       "      <th>state</th>\n",
       "      <th>business_average</th>\n",
       "      <th>review_id</th>\n",
       "      <th>review_text</th>\n",
       "      <th>stars</th>\n",
       "      <th>date</th>\n",
       "      <th>user_yelping_since</th>\n",
       "      <th>user_usefultag</th>\n",
       "      <th>user_review_count</th>\n",
       "      <th>user_funnytag</th>\n",
       "      <th>user_avg</th>\n",
       "      <th>user_cooltag</th>\n",
       "      <th>user_name</th>\n",
       "      <th>checkin_time</th>\n",
       "      <th>business_avg</th>\n",
       "    </tr>\n",
       "  </thead>\n",
       "  <tbody>\n",
       "    <tr>\n",
       "      <th>0</th>\n",
       "      <td>8D8mjeNaJ3DGhl0WX8copA</td>\n",
       "      <td>TgcjQfl1E9DE-SjDVOUDJQ</td>\n",
       "      <td>The Annex</td>\n",
       "      <td>['Monday 9:0-23:0', 'Tuesday 9:0-23:0', 'Wedne...</td>\n",
       "      <td>['Alcohol: full_bar', \"Ambience: {'romantic': ...</td>\n",
       "      <td>['Mediterranean', 'Breakfast &amp; Brunch', 'Barbe...</td>\n",
       "      <td>Toronto</td>\n",
       "      <td>62</td>\n",
       "      <td>Rose and Sons</td>\n",
       "      <td>ON</td>\n",
       "      <td>3.5</td>\n",
       "      <td>eyjL1GAnClg_jFF_CVr93A</td>\n",
       "      <td>Rose and Sons has a \"Toronto cool\" vibe that m...</td>\n",
       "      <td>3</td>\n",
       "      <td>2014-04-04</td>\n",
       "      <td>2010-12-15</td>\n",
       "      <td>36</td>\n",
       "      <td>51</td>\n",
       "      <td>11</td>\n",
       "      <td>3.823529</td>\n",
       "      <td>0</td>\n",
       "      <td>Brandon</td>\n",
       "      <td>['Fri-0:6', 'Sat-0:3', 'Sun-0:2', 'Thu-0:1', '...</td>\n",
       "      <td>3.548387</td>\n",
       "    </tr>\n",
       "    <tr>\n",
       "      <th>1</th>\n",
       "      <td>NzlqN1Ca9SW5z780thoiAg</td>\n",
       "      <td>TgcjQfl1E9DE-SjDVOUDJQ</td>\n",
       "      <td>The Annex</td>\n",
       "      <td>['Monday 9:0-23:0', 'Tuesday 9:0-23:0', 'Wedne...</td>\n",
       "      <td>['Alcohol: full_bar', \"Ambience: {'romantic': ...</td>\n",
       "      <td>['Mediterranean', 'Breakfast &amp; Brunch', 'Barbe...</td>\n",
       "      <td>Toronto</td>\n",
       "      <td>62</td>\n",
       "      <td>Rose and Sons</td>\n",
       "      <td>ON</td>\n",
       "      <td>3.5</td>\n",
       "      <td>igwHOIh-Z_LA0uTA6T8jjA</td>\n",
       "      <td>You should definitely come here early for brun...</td>\n",
       "      <td>4</td>\n",
       "      <td>2014-05-07</td>\n",
       "      <td>2011-03-30</td>\n",
       "      <td>55</td>\n",
       "      <td>70</td>\n",
       "      <td>4</td>\n",
       "      <td>3.671429</td>\n",
       "      <td>2</td>\n",
       "      <td>Mel</td>\n",
       "      <td>['Fri-0:6', 'Sat-0:3', 'Sun-0:2', 'Thu-0:1', '...</td>\n",
       "      <td>3.548387</td>\n",
       "    </tr>\n",
       "    <tr>\n",
       "      <th>2</th>\n",
       "      <td>fAfGwjh5A_ydd0A4ZdGenw</td>\n",
       "      <td>TgcjQfl1E9DE-SjDVOUDJQ</td>\n",
       "      <td>The Annex</td>\n",
       "      <td>['Monday 9:0-23:0', 'Tuesday 9:0-23:0', 'Wedne...</td>\n",
       "      <td>['Alcohol: full_bar', \"Ambience: {'romantic': ...</td>\n",
       "      <td>['Mediterranean', 'Breakfast &amp; Brunch', 'Barbe...</td>\n",
       "      <td>Toronto</td>\n",
       "      <td>62</td>\n",
       "      <td>Rose and Sons</td>\n",
       "      <td>ON</td>\n",
       "      <td>3.5</td>\n",
       "      <td>lFXP0epdsQdtgkgGWKmU4g</td>\n",
       "      <td>Food was really good. The seating was horrible...</td>\n",
       "      <td>2</td>\n",
       "      <td>2013-04-15</td>\n",
       "      <td>2010-05-07</td>\n",
       "      <td>1270</td>\n",
       "      <td>60</td>\n",
       "      <td>1278</td>\n",
       "      <td>3.783333</td>\n",
       "      <td>1162</td>\n",
       "      <td>Kent</td>\n",
       "      <td>['Fri-0:6', 'Sat-0:3', 'Sun-0:2', 'Thu-0:1', '...</td>\n",
       "      <td>3.548387</td>\n",
       "    </tr>\n",
       "    <tr>\n",
       "      <th>3</th>\n",
       "      <td>eSc8pCT0H1ThVV89dfq6Qw</td>\n",
       "      <td>TgcjQfl1E9DE-SjDVOUDJQ</td>\n",
       "      <td>The Annex</td>\n",
       "      <td>['Monday 9:0-23:0', 'Tuesday 9:0-23:0', 'Wedne...</td>\n",
       "      <td>['Alcohol: full_bar', \"Ambience: {'romantic': ...</td>\n",
       "      <td>['Mediterranean', 'Breakfast &amp; Brunch', 'Barbe...</td>\n",
       "      <td>Toronto</td>\n",
       "      <td>62</td>\n",
       "      <td>Rose and Sons</td>\n",
       "      <td>ON</td>\n",
       "      <td>3.5</td>\n",
       "      <td>ink2GFDzzY4EDCffSu0hgg</td>\n",
       "      <td>Down a sketchy alley, the spot is hard to find...</td>\n",
       "      <td>5</td>\n",
       "      <td>2013-12-10</td>\n",
       "      <td>2013-09-01</td>\n",
       "      <td>8</td>\n",
       "      <td>34</td>\n",
       "      <td>3</td>\n",
       "      <td>3.970588</td>\n",
       "      <td>1</td>\n",
       "      <td>Mark</td>\n",
       "      <td>['Fri-0:6', 'Sat-0:3', 'Sun-0:2', 'Thu-0:1', '...</td>\n",
       "      <td>3.548387</td>\n",
       "    </tr>\n",
       "    <tr>\n",
       "      <th>4</th>\n",
       "      <td>Bc0Mv-QnUPKiq8xFLCbw4g</td>\n",
       "      <td>TgcjQfl1E9DE-SjDVOUDJQ</td>\n",
       "      <td>The Annex</td>\n",
       "      <td>['Monday 9:0-23:0', 'Tuesday 9:0-23:0', 'Wedne...</td>\n",
       "      <td>['Alcohol: full_bar', \"Ambience: {'romantic': ...</td>\n",
       "      <td>['Mediterranean', 'Breakfast &amp; Brunch', 'Barbe...</td>\n",
       "      <td>Toronto</td>\n",
       "      <td>62</td>\n",
       "      <td>Rose and Sons</td>\n",
       "      <td>ON</td>\n",
       "      <td>3.5</td>\n",
       "      <td>kxik-jxzw8TMoubk3Cjb-w</td>\n",
       "      <td>My review of Rose &amp; Sons at this point is base...</td>\n",
       "      <td>4</td>\n",
       "      <td>2013-05-04</td>\n",
       "      <td>2009-05-14</td>\n",
       "      <td>77</td>\n",
       "      <td>23</td>\n",
       "      <td>20</td>\n",
       "      <td>4.608696</td>\n",
       "      <td>7</td>\n",
       "      <td>Blair</td>\n",
       "      <td>['Fri-0:6', 'Sat-0:3', 'Sun-0:2', 'Thu-0:1', '...</td>\n",
       "      <td>3.548387</td>\n",
       "    </tr>\n",
       "  </tbody>\n",
       "</table>\n",
       "</div>"
      ],
      "text/plain": [
       "                  user_id             business_id neighborhood                                          biz_hours                                         attributes                                         categories     city  business_review_count       biz_name state  business_average               review_id                                        review_text  stars        date user_yelping_since  user_usefultag  user_review_count  user_funnytag  user_avg  user_cooltag user_name  \\\n",
       "0  8D8mjeNaJ3DGhl0WX8copA  TgcjQfl1E9DE-SjDVOUDJQ    The Annex  ['Monday 9:0-23:0', 'Tuesday 9:0-23:0', 'Wedne...  ['Alcohol: full_bar', \"Ambience: {'romantic': ...  ['Mediterranean', 'Breakfast & Brunch', 'Barbe...  Toronto                     62  Rose and Sons    ON               3.5  eyjL1GAnClg_jFF_CVr93A  Rose and Sons has a \"Toronto cool\" vibe that m...      3  2014-04-04         2010-12-15              36                 51             11  3.823529             0   Brandon   \n",
       "1  NzlqN1Ca9SW5z780thoiAg  TgcjQfl1E9DE-SjDVOUDJQ    The Annex  ['Monday 9:0-23:0', 'Tuesday 9:0-23:0', 'Wedne...  ['Alcohol: full_bar', \"Ambience: {'romantic': ...  ['Mediterranean', 'Breakfast & Brunch', 'Barbe...  Toronto                     62  Rose and Sons    ON               3.5  igwHOIh-Z_LA0uTA6T8jjA  You should definitely come here early for brun...      4  2014-05-07         2011-03-30              55                 70              4  3.671429             2       Mel   \n",
       "2  fAfGwjh5A_ydd0A4ZdGenw  TgcjQfl1E9DE-SjDVOUDJQ    The Annex  ['Monday 9:0-23:0', 'Tuesday 9:0-23:0', 'Wedne...  ['Alcohol: full_bar', \"Ambience: {'romantic': ...  ['Mediterranean', 'Breakfast & Brunch', 'Barbe...  Toronto                     62  Rose and Sons    ON               3.5  lFXP0epdsQdtgkgGWKmU4g  Food was really good. The seating was horrible...      2  2013-04-15         2010-05-07            1270                 60           1278  3.783333          1162      Kent   \n",
       "3  eSc8pCT0H1ThVV89dfq6Qw  TgcjQfl1E9DE-SjDVOUDJQ    The Annex  ['Monday 9:0-23:0', 'Tuesday 9:0-23:0', 'Wedne...  ['Alcohol: full_bar', \"Ambience: {'romantic': ...  ['Mediterranean', 'Breakfast & Brunch', 'Barbe...  Toronto                     62  Rose and Sons    ON               3.5  ink2GFDzzY4EDCffSu0hgg  Down a sketchy alley, the spot is hard to find...      5  2013-12-10         2013-09-01               8                 34              3  3.970588             1      Mark   \n",
       "4  Bc0Mv-QnUPKiq8xFLCbw4g  TgcjQfl1E9DE-SjDVOUDJQ    The Annex  ['Monday 9:0-23:0', 'Tuesday 9:0-23:0', 'Wedne...  ['Alcohol: full_bar', \"Ambience: {'romantic': ...  ['Mediterranean', 'Breakfast & Brunch', 'Barbe...  Toronto                     62  Rose and Sons    ON               3.5  kxik-jxzw8TMoubk3Cjb-w  My review of Rose & Sons at this point is base...      4  2013-05-04         2009-05-14              77                 23             20  4.608696             7     Blair   \n",
       "\n",
       "                                        checkin_time  business_avg  \n",
       "0  ['Fri-0:6', 'Sat-0:3', 'Sun-0:2', 'Thu-0:1', '...      3.548387  \n",
       "1  ['Fri-0:6', 'Sat-0:3', 'Sun-0:2', 'Thu-0:1', '...      3.548387  \n",
       "2  ['Fri-0:6', 'Sat-0:3', 'Sun-0:2', 'Thu-0:1', '...      3.548387  \n",
       "3  ['Fri-0:6', 'Sat-0:3', 'Sun-0:2', 'Thu-0:1', '...      3.548387  \n",
       "4  ['Fri-0:6', 'Sat-0:3', 'Sun-0:2', 'Thu-0:1', '...      3.548387  "
      ]
     },
     "execution_count": 79,
     "metadata": {},
     "output_type": "execute_result"
    }
   ],
   "source": [
    "tc.head(5)"
   ]
  },
  {
   "cell_type": "code",
   "execution_count": 80,
   "metadata": {
    "collapsed": false
   },
   "outputs": [
    {
     "data": {
      "text/plain": [
       "478517"
      ]
     },
     "execution_count": 80,
     "metadata": {},
     "output_type": "execute_result"
    }
   ],
   "source": [
    "len(tc)"
   ]
  },
  {
   "cell_type": "code",
   "execution_count": 81,
   "metadata": {
    "collapsed": true
   },
   "outputs": [],
   "source": [
    "from pprint import pprint\n",
    "import nltk\n",
    "import yaml\n",
    "import sys\n",
    "import os\n",
    "import re\n"
   ]
  },
  {
   "cell_type": "code",
   "execution_count": 86,
   "metadata": {
    "collapsed": false
   },
   "outputs": [],
   "source": [
    "total = pd.read_csv(\"C:/desktop/ml-project/yelp_academic_dataset/csv files/yelp_academic_dataset_business.csv\")"
   ]
  },
  {
   "cell_type": "code",
   "execution_count": 95,
   "metadata": {
    "collapsed": false
   },
   "outputs": [
    {
     "data": {
      "text/plain": [
       "144072L"
      ]
     },
     "execution_count": 95,
     "metadata": {},
     "output_type": "execute_result"
    }
   ],
   "source": [
    "total.business_id.unique().shape[0]"
   ]
  },
  {
   "cell_type": "code",
   "execution_count": 89,
   "metadata": {
    "collapsed": false
   },
   "outputs": [
    {
     "data": {
      "text/plain": [
       "1029432L"
      ]
     },
     "execution_count": 89,
     "metadata": {},
     "output_type": "execute_result"
    }
   ],
   "source": [
    "user.user_id.unique().shape[0]"
   ]
  },
  {
   "cell_type": "code",
   "execution_count": 90,
   "metadata": {
    "collapsed": false
   },
   "outputs": [
    {
     "data": {
      "text/plain": [
       "1029432"
      ]
     },
     "execution_count": 90,
     "metadata": {},
     "output_type": "execute_result"
    }
   ],
   "source": [
    "len(user)"
   ]
  },
  {
   "cell_type": "code",
   "execution_count": 91,
   "metadata": {
    "collapsed": false
   },
   "outputs": [
    {
     "data": {
      "text/plain": [
       "4153150"
      ]
     },
     "execution_count": 91,
     "metadata": {},
     "output_type": "execute_result"
    }
   ],
   "source": [
    "len(review)"
   ]
  },
  {
   "cell_type": "code",
   "execution_count": 92,
   "metadata": {
    "collapsed": false
   },
   "outputs": [
    {
     "data": {
      "text/plain": [
       "946600"
      ]
     },
     "execution_count": 92,
     "metadata": {},
     "output_type": "execute_result"
    }
   ],
   "source": [
    "len(tip)"
   ]
  },
  {
   "cell_type": "code",
   "execution_count": 93,
   "metadata": {
    "collapsed": false
   },
   "outputs": [
    {
     "data": {
      "text/plain": [
       "125532"
      ]
     },
     "execution_count": 93,
     "metadata": {},
     "output_type": "execute_result"
    }
   ],
   "source": [
    "len(checkin)"
   ]
  },
  {
   "cell_type": "code",
   "execution_count": 94,
   "metadata": {
    "collapsed": false
   },
   "outputs": [
    {
     "data": {
      "text/plain": [
       "48485"
      ]
     },
     "execution_count": 94,
     "metadata": {},
     "output_type": "execute_result"
    }
   ],
   "source": [
    "len(business)"
   ]
  },
  {
   "cell_type": "code",
   "execution_count": 96,
   "metadata": {
    "collapsed": false
   },
   "outputs": [
    {
     "data": {
      "text/plain": [
       "Index([u'user_id', u'business_id', u'neighborhood', u'biz_hours', u'attributes', u'categories', u'city', u'business_review_count', u'biz_name', u'state', u'business_average', u'review_id', u'review_text', u'stars', u'date', u'user_yelping_since', u'user_usefultag', u'user_review_count', u'user_funnytag', u'user_avg', u'user_cooltag', u'user_name', u'checkin_time', u'business_avg'], dtype='object')"
      ]
     },
     "execution_count": 96,
     "metadata": {},
     "output_type": "execute_result"
    }
   ],
   "source": [
    "tc.columns"
   ]
  },
  {
   "cell_type": "code",
   "execution_count": 97,
   "metadata": {
    "collapsed": true
   },
   "outputs": [],
   "source": [
    "tc['stars'] = tc.groupby('business_id')['stars'].transform(lambda x : x - x.mean())\n"
   ]
  },
  {
   "cell_type": "code",
   "execution_count": 98,
   "metadata": {
    "collapsed": true
   },
   "outputs": [],
   "source": [
    "def get_idx(user_id): \n",
    "    global running_index\n",
    "    running_index = running_index + 1\n",
    "    return pd.Series(np.zeros(len(user_id)) + running_index) \n",
    "# For speed, get_idx assumes df_review and df_user contain the same users, and is fed in sorted order.\n",
    "running_index = -1 \n",
    "tc['user_idx'] = tc.groupby('user_id')['user_id'].transform(get_idx)\n",
    "\n"
   ]
  },
  {
   "cell_type": "code",
   "execution_count": 99,
   "metadata": {
    "collapsed": false
   },
   "outputs": [
    {
     "ename": "ImportError",
     "evalue": "No module named src",
     "output_type": "error",
     "traceback": [
      "\u001b[1;31m---------------------------------------------------------------------------\u001b[0m",
      "\u001b[1;31mImportError\u001b[0m                               Traceback (most recent call last)",
      "\u001b[1;32m<ipython-input-99-d87992319382>\u001b[0m in \u001b[0;36m<module>\u001b[1;34m()\u001b[0m\n\u001b[0;32m      1\u001b[0m \u001b[1;32mfrom\u001b[0m \u001b[0mnumpy\u001b[0m\u001b[1;33m.\u001b[0m\u001b[0mlinalg\u001b[0m \u001b[1;32mimport\u001b[0m \u001b[0mnorm\u001b[0m\u001b[1;33m\u001b[0m\u001b[0m\n\u001b[0;32m      2\u001b[0m \u001b[1;32mfrom\u001b[0m \u001b[0msklearn\u001b[0m\u001b[1;33m.\u001b[0m\u001b[0mpipeline\u001b[0m \u001b[1;32mimport\u001b[0m \u001b[0mPipeline\u001b[0m\u001b[1;33m,\u001b[0m \u001b[0mFeatureUnion\u001b[0m\u001b[1;33m\u001b[0m\u001b[0m\n\u001b[1;32m----> 3\u001b[1;33m \u001b[1;32mfrom\u001b[0m \u001b[0msrc\u001b[0m \u001b[1;32mimport\u001b[0m \u001b[0mestimators\u001b[0m\u001b[1;33m,\u001b[0m \u001b[0mtransformers\u001b[0m\u001b[1;33m\u001b[0m\u001b[0m\n\u001b[0m\u001b[0;32m      4\u001b[0m \u001b[1;32mfrom\u001b[0m \u001b[0mscipy\u001b[0m\u001b[1;33m.\u001b[0m\u001b[0msparse\u001b[0m \u001b[1;32mimport\u001b[0m \u001b[0mcoo_matrix\u001b[0m\u001b[1;33m\u001b[0m\u001b[0m\n\u001b[0;32m      5\u001b[0m \u001b[1;32mimport\u001b[0m \u001b[0mheapq\u001b[0m\u001b[1;33m\u001b[0m\u001b[0m\n",
      "\u001b[1;31mImportError\u001b[0m: No module named src"
     ]
    }
   ],
   "source": [
    "from numpy.linalg import norm\n",
    "from sklearn.pipeline import Pipeline, FeatureUnion\n",
    "from src import estimators, transformers\n",
    "from scipy.sparse import coo_matrix\n",
    "import heapq\n"
   ]
  },
  {
   "cell_type": "code",
   "execution_count": null,
   "metadata": {
    "collapsed": true
   },
   "outputs": [],
   "source": [
    "# Work in terms of sparse matrix\n",
    "print '** Processing utility matrix...'\n",
    "\n",
    "def convert_to_sparse(group):\n",
    "    ratings = coo_matrix( (np.array(group['stars']), (np.array(group['user_idx']), np.zeros(len(group)))), \n",
    "                          shape = (len(tc), 1) ).tocsc()\n",
    "    return ratings / np.sqrt(float(ratings.T.dot(ratings).toarray()))\n",
    "\n",
    "utility = tc.groupby('business_id')[['stars', 'user_idx']].apply(convert_to_sparse) \n",
    "\n",
    "# Get top recommendatiokns\n",
    "print '** Generating recommendations...'\n",
    "\n",
    "def cosine_similarity(v1, v2):\n",
    "    return float(v1.T.dot(v2).toarray())\n",
    "\n",
    "def get_recommended_businesses(n, business_id):\n",
    "    util_to_match = utility[utility.index == business_id]\n",
    "    similarity = utility.apply(lambda x: cosine_similarity(util_to_match.values[0], x))\n",
    "    similarity.sort(ascending=False)\n",
    "    return similarity[1:(n+1)]\n",
    "\n",
    "fav_business = tc.business_id[ tc.stars[ tc.user_id == user ].argmax() ]\n",
    "\n",
    "rec = pd.DataFrame(get_recommended_businesses(5, fav_business), columns=['similarity'])\n",
    "rec['name'] = [ tc.biz_name[ tc.business_id == business_id ].values[0] for business_id in rec.index]\n",
    "print 'Done'\n",
    "\n",
    "# Output recommendation\n",
    "print 'Hi ' + tc.user_name[tc.user_id == user].values[0] + '!\\nCheck out these businesses!'\n",
    "for name in rec.name:\n",
    "    print name"
   ]
  }
 ],
 "metadata": {
  "anaconda-cloud": {},
  "kernelspec": {
   "display_name": "Python [Root]",
   "language": "python",
   "name": "Python [Root]"
  },
  "language_info": {
   "codemirror_mode": {
    "name": "ipython",
    "version": 2
   },
   "file_extension": ".py",
   "mimetype": "text/x-python",
   "name": "python",
   "nbconvert_exporter": "python",
   "pygments_lexer": "ipython2",
   "version": "2.7.12"
  }
 },
 "nbformat": 4,
 "nbformat_minor": 0
}
